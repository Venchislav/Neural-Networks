{
  "nbformat": 4,
  "nbformat_minor": 0,
  "metadata": {
    "colab": {
      "provenance": [],
      "authorship_tag": "ABX9TyPKq1kwyy3q3nJIZequpC5W",
      "include_colab_link": true
    },
    "kernelspec": {
      "name": "python3",
      "display_name": "Python 3"
    },
    "language_info": {
      "name": "python"
    }
  },
  "cells": [
    {
      "cell_type": "markdown",
      "metadata": {
        "id": "view-in-github",
        "colab_type": "text"
      },
      "source": [
        "<a href=\"https://colab.research.google.com/github/Venchislav/Neural-Networks/blob/main/Boston_House_Pricing.ipynb\" target=\"_parent\"><img src=\"https://colab.research.google.com/assets/colab-badge.svg\" alt=\"Open In Colab\"/></a>"
      ]
    },
    {
      "cell_type": "code",
      "execution_count": 16,
      "metadata": {
        "id": "PrkGtS_bj4N_"
      },
      "outputs": [],
      "source": [
        "from tensorflow.keras.datasets import boston_housing\n",
        "import numpy as np"
      ]
    },
    {
      "cell_type": "code",
      "source": [
        "(X_train, y_train), (X_test, y_test) = (boston_housing.load_data())"
      ],
      "metadata": {
        "id": "u4Btg3Foj_wm"
      },
      "execution_count": 17,
      "outputs": []
    },
    {
      "cell_type": "code",
      "source": [
        "X_train.shape"
      ],
      "metadata": {
        "colab": {
          "base_uri": "https://localhost:8080/"
        },
        "id": "RmFCIcLJkJMt",
        "outputId": "8fe20671-8e75-459e-e0c5-4e1340ade881"
      },
      "execution_count": 18,
      "outputs": [
        {
          "output_type": "execute_result",
          "data": {
            "text/plain": [
              "(404, 13)"
            ]
          },
          "metadata": {},
          "execution_count": 18
        }
      ]
    },
    {
      "cell_type": "code",
      "source": [
        "X_test.shape"
      ],
      "metadata": {
        "colab": {
          "base_uri": "https://localhost:8080/"
        },
        "id": "5qkGnqEzkNo1",
        "outputId": "ad2e6299-2eee-44b0-f48f-98b28bb9c64f"
      },
      "execution_count": 19,
      "outputs": [
        {
          "output_type": "execute_result",
          "data": {
            "text/plain": [
              "(102, 13)"
            ]
          },
          "metadata": {},
          "execution_count": 19
        }
      ]
    },
    {
      "cell_type": "code",
      "source": [
        "# NORMALIZATION"
      ],
      "metadata": {
        "id": "kzwabfIWkPPc"
      },
      "execution_count": 20,
      "outputs": []
    },
    {
      "cell_type": "code",
      "source": [
        "mean = X_train.mean(axis=0)\n",
        "X_train -= mean\n",
        "\n",
        "std = X_train.std(axis=0)\n",
        "X_train /= std\n",
        "\n",
        "X_test -= mean\n",
        "X_test /= std"
      ],
      "metadata": {
        "id": "NDTD-DnQkiFr"
      },
      "execution_count": 21,
      "outputs": []
    },
    {
      "cell_type": "code",
      "source": [
        "X_train[0]"
      ],
      "metadata": {
        "colab": {
          "base_uri": "https://localhost:8080/"
        },
        "id": "B5MeS3b3k-Dh",
        "outputId": "55270158-4edc-4133-d51e-f741d2e611f1"
      },
      "execution_count": 22,
      "outputs": [
        {
          "output_type": "execute_result",
          "data": {
            "text/plain": [
              "array([-0.27224633, -0.48361547, -0.43576161, -0.25683275, -0.1652266 ,\n",
              "       -0.1764426 ,  0.81306188,  0.1166983 , -0.62624905, -0.59517003,\n",
              "        1.14850044,  0.44807713,  0.8252202 ])"
            ]
          },
          "metadata": {},
          "execution_count": 22
        }
      ]
    },
    {
      "cell_type": "code",
      "source": [
        "from tensorflow.keras.models import Sequential\n",
        "from tensorflow.keras import layers"
      ],
      "metadata": {
        "id": "JgyeWRaplnFL"
      },
      "execution_count": 23,
      "outputs": []
    },
    {
      "cell_type": "code",
      "source": [
        "def build_model():\n",
        "  model = Sequential([\n",
        "    layers.Dense(64, activation='relu'),\n",
        "    layers.Dense(64, activation='relu'),\n",
        "    layers.Dense(1)\n",
        "  ])\n",
        "  model.compile(\n",
        "    optimizer='rmsprop',\n",
        "    loss='mse',\n",
        "    metrics='mae'\n",
        "  )\n",
        "\n",
        "  return model"
      ],
      "metadata": {
        "id": "_MHJZfVTlLti"
      },
      "execution_count": 24,
      "outputs": []
    },
    {
      "cell_type": "markdown",
      "source": [
        "# **K-fold Cross Validation**"
      ],
      "metadata": {
        "id": "0c9NSlPFtFGQ"
      }
    },
    {
      "cell_type": "markdown",
      "source": [
        "<img src='https://www.researchgate.net/publication/357267851/figure/fig4/AS:1104015291097091@1640229165261/Illustration-of-K-fold-Cross-validation-k-1-5.jpg' width=50%>"
      ],
      "metadata": {
        "id": "befQO0wjtu2I"
      }
    },
    {
      "cell_type": "code",
      "source": [
        "k = 4\n",
        "num_val_samples = len(X_train) // k\n",
        "num_epochs = 500\n",
        "all_scores = []\n",
        "all_mae_hists = []\n",
        "\n",
        "for i in range(k):\n",
        "  print(f'Processing fold #{i}')\n",
        "  val_data = X_train[i * num_val_samples : (i + 1) * num_val_samples]\n",
        "  val_targets = y_train[i * num_val_samples : (i + 1) * num_val_samples]\n",
        "\n",
        "  partial_train_data = np.concatenate(\n",
        "      [X_train[:i * num_val_samples],\n",
        "       X_train[(i + 1) * num_val_samples:]],\n",
        "      axis=0\n",
        "  )\n",
        "\n",
        "  partial_train_targets = np.concatenate(\n",
        "      [y_train[:i * num_val_samples],\n",
        "       y_train[(i + 1) * num_val_samples:]],\n",
        "      axis=0\n",
        "  )\n",
        "\n",
        "  model = build_model()\n",
        "  hist = model.fit(\n",
        "      partial_train_data, partial_train_targets,\n",
        "      validation_data=(val_data, val_targets),\n",
        "      epochs=num_epochs,\n",
        "      batch_size=16,\n",
        "      verbose=0\n",
        "  )\n",
        "\n",
        "  mae_hist = hist.history['mae']\n",
        "  all_mae_hists.append(mae_hist)\n",
        "  val_mse, val_mae = model.evaluate(val_data, val_targets, verbose=0)\n",
        "  all_scores.append(val_mae)"
      ],
      "metadata": {
        "colab": {
          "base_uri": "https://localhost:8080/"
        },
        "id": "FdtmQQgVmESp",
        "outputId": "757720a5-28fd-4b2c-eaaf-0e16206f00ee"
      },
      "execution_count": 28,
      "outputs": [
        {
          "output_type": "stream",
          "name": "stdout",
          "text": [
            "Processing fold #0\n",
            "Processing fold #1\n",
            "Processing fold #2\n",
            "Processing fold #3\n"
          ]
        }
      ]
    },
    {
      "cell_type": "code",
      "source": [
        "all_scores"
      ],
      "metadata": {
        "colab": {
          "base_uri": "https://localhost:8080/"
        },
        "id": "IC9OSQNTsmTR",
        "outputId": "54453a4c-961b-4d08-ed97-07c497814a76"
      },
      "execution_count": 29,
      "outputs": [
        {
          "output_type": "execute_result",
          "data": {
            "text/plain": [
              "[2.239875316619873, 2.7945375442504883, 2.685204029083252, 2.519865036010742]"
            ]
          },
          "metadata": {},
          "execution_count": 29
        }
      ]
    },
    {
      "cell_type": "code",
      "source": [
        "np.mean(all_scores)"
      ],
      "metadata": {
        "colab": {
          "base_uri": "https://localhost:8080/"
        },
        "id": "FM6l-UuCs3BB",
        "outputId": "c7c699f8-5a04-4f50-c690-de953de64b9c"
      },
      "execution_count": 30,
      "outputs": [
        {
          "output_type": "execute_result",
          "data": {
            "text/plain": [
              "2.559870481491089"
            ]
          },
          "metadata": {},
          "execution_count": 30
        }
      ]
    },
    {
      "cell_type": "code",
      "source": [
        "import matplotlib.pyplot as plt"
      ],
      "metadata": {
        "id": "TqkfVrcyxR3a"
      },
      "execution_count": 32,
      "outputs": []
    },
    {
      "cell_type": "code",
      "source": [
        "average_mae_hist = [\n",
        "    np.mean([x[i] for x in all_mae_hists]) for i in range(num_epochs)\n",
        "]"
      ],
      "metadata": {
        "id": "3mb6QvZxxlPF"
      },
      "execution_count": 38,
      "outputs": []
    },
    {
      "cell_type": "code",
      "source": [
        "plt.plot(range(1, len(average_mae_hist) + 1), average_mae_hist)\n",
        "plt.xlabel('Epochs')\n",
        "plt.ylabel('MAE')\n",
        "plt.show();"
      ],
      "metadata": {
        "colab": {
          "base_uri": "https://localhost:8080/",
          "height": 449
        },
        "id": "YJdW0oFSs4b_",
        "outputId": "f0c6c98f-eca1-44bd-b3c9-96976ee96b34"
      },
      "execution_count": 40,
      "outputs": [
        {
          "output_type": "display_data",
          "data": {
            "text/plain": [
              "<Figure size 640x480 with 1 Axes>"
            ],
            "image/png": "[encoded data removed]"
          },
          "metadata": {}
        }
      ]
    },
    {
      "cell_type": "code",
      "source": [
        "truncated_mae_hist = average_mae_hist[10:]\n",
        "plt.plot(range(1, len(truncated_mae_hist) + 1), truncated_mae_hist)\n",
        "plt.xlabel('Epochs')\n",
        "plt.ylabel('MAE')\n",
        "plt.show()"
      ],
      "metadata": {
        "colab": {
          "base_uri": "https://localhost:8080/",
          "height": 449
        },
        "id": "bfle8qgExQ5k",
        "outputId": "43b8a7fb-f23d-4236-aa0d-feec66c99e30"
      },
      "execution_count": 46,
      "outputs": [
        {
          "output_type": "display_data",
          "data": {
            "text/plain": [
              "<Figure size 640x480 with 1 Axes>"
            ],
            "image/png": "[encoded data removed]"
          },
          "metadata": {}
        }
      ]
    },
    {
      "cell_type": "code",
      "source": [
        "model = build_model()\n",
        "model.fit(\n",
        "    X_train, y_train,\n",
        "    epochs=130,\n",
        "    batch_size=16,\n",
        "    verbose=0\n",
        ")"
      ],
      "metadata": {
        "colab": {
          "base_uri": "https://localhost:8080/"
        },
        "id": "AOlVPiAoyeUy",
        "outputId": "042f4ff2-1284-49ea-f1f8-5129e11e0068"
      },
      "execution_count": 53,
      "outputs": [
        {
          "output_type": "execute_result",
          "data": {
            "text/plain": [
              "<keras.src.callbacks.History at 0x7e8752793d30>"
            ]
          },
          "metadata": {},
          "execution_count": 53
        }
      ]
    },
    {
      "cell_type": "code",
      "source": [
        "model.evaluate(X_test, y_test)"
      ],
      "metadata": {
        "colab": {
          "base_uri": "https://localhost:8080/"
        },
        "id": "vy2N1kv62ZFP",
        "outputId": "a025d4d1-e296-479e-bd31-8f8d91ee8abc"
      },
      "execution_count": 54,
      "outputs": [
        {
          "output_type": "stream",
          "name": "stdout",
          "text": [
            "4/4 [==============================] - 0s 3ms/step - loss: 15.4389 - mae: 2.5121\n"
          ]
        },
        {
          "output_type": "execute_result",
          "data": {
            "text/plain": [
              "[15.438918113708496, 2.5120580196380615]"
            ]
          },
          "metadata": {},
          "execution_count": 54
        }
      ]
    },
    {
      "cell_type": "code",
      "source": [
        "pred = model.predict(X_test)\n",
        "pred[0]"
      ],
      "metadata": {
        "colab": {
          "base_uri": "https://localhost:8080/"
        },
        "id": "-BN4E2hP2izs",
        "outputId": "f66a65bd-35cf-4ff3-c0bf-27f5438c9cf7"
      },
      "execution_count": 55,
      "outputs": [
        {
          "output_type": "stream",
          "name": "stdout",
          "text": [
            "4/4 [==============================] - 0s 4ms/step\n"
          ]
        },
        {
          "output_type": "execute_result",
          "data": {
            "text/plain": [
              "array([7.9699173], dtype=float32)"
            ]
          },
          "metadata": {},
          "execution_count": 55
        }
      ]
    },
    {
      "cell_type": "code",
      "source": [
        "y_test[0]"
      ],
      "metadata": {
        "colab": {
          "base_uri": "https://localhost:8080/"
        },
        "id": "cl0j2j9j28Ib",
        "outputId": "604d58c9-99c5-4a42-d484-4d5f771c1437"
      },
      "execution_count": 57,
      "outputs": [
        {
          "output_type": "execute_result",
          "data": {
            "text/plain": [
              "7.2"
            ]
          },
          "metadata": {},
          "execution_count": 57
        }
      ]
    },
    {
      "cell_type": "code",
      "source": [
        "float(pred[0])"
      ],
      "metadata": {
        "colab": {
          "base_uri": "https://localhost:8080/"
        },
        "id": "ThGU3W6F3QPv",
        "outputId": "0069717d-04e5-4205-b487-382cb79d3cf8"
      },
      "execution_count": 62,
      "outputs": [
        {
          "output_type": "execute_result",
          "data": {
            "text/plain": [
              "7.969917297363281"
            ]
          },
          "metadata": {},
          "execution_count": 62
        }
      ]
    },
    {
      "cell_type": "code",
      "source": [
        "pred = [float(elem) for elem in pred]"
      ],
      "metadata": {
        "id": "VheaZ5_K3ZDI"
      },
      "execution_count": null,
      "outputs": []
    },
    {
      "cell_type": "code",
      "source": [
        "for price in zip(pred, y_test):\n",
        "  print(price)"
      ],
      "metadata": {
        "colab": {
          "base_uri": "https://localhost:8080/"
        },
        "id": "VNdQJsZ7297j",
        "outputId": "fcd28225-81b3-4a62-ccac-c472d6953299"
      },
      "execution_count": 64,
      "outputs": [
        {
          "output_type": "stream",
          "name": "stdout",
          "text": [
            "(7.969917297363281, 7.2)\n",
            "(18.897171020507812, 18.8)\n",
            "(20.93614959716797, 19.0)\n",
            "(32.389556884765625, 27.0)\n",
            "(25.22125816345215, 22.2)\n",
            "(21.94757080078125, 24.5)\n",
            "(26.543697357177734, 31.2)\n",
            "(21.598979949951172, 22.9)\n",
            "(19.54311752319336, 20.5)\n",
            "(20.5867919921875, 23.2)\n",
            "(19.515033721923828, 18.6)\n",
            "(16.258350372314453, 14.5)\n",
            "(15.423287391662598, 17.8)\n",
            "(42.923614501953125, 50.0)\n",
            "(21.822505950927734, 20.8)\n",
            "(19.806528091430664, 24.3)\n",
            "(24.99509048461914, 24.2)\n",
            "(18.019187927246094, 19.8)\n",
            "(18.843406677246094, 19.1)\n",
            "(25.702289581298828, 22.7)\n",
            "(9.181771278381348, 12.0)\n",
            "(11.15405559539795, 10.2)\n",
            "(21.065311431884766, 20.0)\n",
            "(15.573691368103027, 18.5)\n",
            "(19.004959106445312, 20.9)\n",
            "(21.701108932495117, 23.0)\n",
            "(29.132719039916992, 27.5)\n",
            "(29.299678802490234, 30.1)\n",
            "(11.545220375061035, 9.5)\n",
            "(18.862977981567383, 22.0)\n",
            "(19.3270263671875, 21.2)\n",
            "(14.036674499511719, 14.1)\n",
            "(31.705318450927734, 33.1)\n",
            "(23.345731735229492, 23.4)\n",
            "(19.23582649230957, 20.1)\n",
            "(6.85478401184082, 7.4)\n",
            "(15.774822235107422, 15.4)\n",
            "(18.72287368774414, 23.8)\n",
            "(19.831920623779297, 20.1)\n",
            "(24.851099014282227, 24.5)\n",
            "(30.39769172668457, 33.0)\n",
            "(26.690383911132812, 28.4)\n",
            "(12.198555946350098, 14.1)\n",
            "(41.475460052490234, 46.7)\n",
            "(26.723804473876953, 32.5)\n",
            "(25.966304779052734, 29.6)\n",
            "(27.719623565673828, 28.4)\n",
            "(18.460216522216797, 19.8)\n",
            "(21.745071411132812, 20.2)\n",
            "(22.216796875, 25.0)\n",
            "(35.371307373046875, 35.4)\n",
            "(18.969295501708984, 20.3)\n",
            "(9.199580192565918, 9.7)\n",
            "(13.828605651855469, 14.5)\n",
            "(35.957366943359375, 34.9)\n",
            "(28.875770568847656, 26.6)\n",
            "(10.770522117614746, 7.2)\n",
            "(47.76026916503906, 50.0)\n",
            "(33.444854736328125, 32.4)\n",
            "(23.94489860534668, 21.6)\n",
            "(20.828643798828125, 29.8)\n",
            "(14.852978706359863, 13.1)\n",
            "(15.26759147644043, 27.5)\n",
            "(20.142311096191406, 21.2)\n",
            "(24.072189331054688, 23.1)\n",
            "(20.350643157958984, 21.9)\n",
            "(12.418037414550781, 13.0)\n",
            "(21.414012908935547, 23.2)\n",
            "(10.325806617736816, 8.1)\n",
            "(5.120334625244141, 5.6)\n",
            "(24.704689025878906, 21.7)\n",
            "(28.317790985107422, 29.6)\n",
            "(26.43794059753418, 19.6)\n",
            "(10.863207817077637, 7.0)\n",
            "(24.344444274902344, 26.4)\n",
            "(18.29313850402832, 18.9)\n",
            "(18.560474395751953, 20.9)\n",
            "(23.66724395751953, 28.1)\n",
            "(35.943939208984375, 35.4)\n",
            "(8.869528770446777, 10.2)\n",
            "(21.829557418823242, 24.3)\n",
            "(37.17178726196289, 43.1)\n",
            "(16.986141204833984, 17.6)\n",
            "(12.48049259185791, 15.4)\n",
            "(18.318225860595703, 16.2)\n",
            "(17.18252182006836, 27.1)\n",
            "(23.39958953857422, 21.4)\n",
            "(20.77836799621582, 21.5)\n",
            "(21.65349769592285, 22.4)\n",
            "(25.017751693725586, 25.0)\n",
            "(20.88946533203125, 16.6)\n",
            "(19.63391876220703, 18.6)\n",
            "(25.826696395874023, 22.0)\n",
            "(39.64371109008789, 42.8)\n",
            "(35.731353759765625, 35.1)\n",
            "(20.219966888427734, 21.5)\n",
            "(34.42418670654297, 36.0)\n",
            "(46.20475769042969, 21.9)\n",
            "(23.43401336669922, 24.1)\n",
            "(46.411170959472656, 50.0)\n",
            "(30.09537124633789, 26.7)\n",
            "(20.348976135253906, 25.0)\n"
          ]
        }
      ]
    },
    {
      "cell_type": "code",
      "source": [],
      "metadata": {
        "id": "bLQ_UE_53G3b"
      },
      "execution_count": null,
      "outputs": []
    },
    {
      "cell_type": "markdown",
      "source": [
        "When you start fitting process and this banger comes on (loud sound of pc fans)<br>\n",
        "<img src='https://media.tenor.com/lPPuJTHmRc0AAAAM/djkhaled-dj.gif'>"
      ],
      "metadata": {
        "id": "ZLsPJ4Ja4EWc"
      }
    },
    {
      "cell_type": "code",
      "source": [],
      "metadata": {
        "id": "uOr-wmLU4qIq"
      },
      "execution_count": null,
      "outputs": []
    }
  ]
}