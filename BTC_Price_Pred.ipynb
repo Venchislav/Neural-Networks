{
  "nbformat": 4,
  "nbformat_minor": 0,
  "metadata": {
    "colab": {
      "provenance": [],
      "authorship_tag": "ABX9TyOitYPXAia80MHFyxD41Hul",
      "include_colab_link": true
    },
    "kernelspec": {
      "name": "python3",
      "display_name": "Python 3"
    },
    "language_info": {
      "name": "python"
    }
  },
  "cells": [
    {
      "cell_type": "markdown",
      "metadata": {
        "id": "view-in-github",
        "colab_type": "text"
      },
      "source": [
        "<a href=\"https://colab.research.google.com/github/Venchislav/Neural-Networks/blob/main/BTC_Price_Pred.ipynb\" target=\"_parent\"><img src=\"https://colab.research.google.com/assets/colab-badge.svg\" alt=\"Open In Colab\"/></a>"
      ]
    },
    {
      "cell_type": "code",
      "execution_count": 384,
      "metadata": {
        "id": "6VE9T7Im4mgt"
      },
      "outputs": [],
      "source": [
        "import pandas as pd\n",
        "import numpy as np"
      ]
    },
    {
      "cell_type": "code",
      "source": [
        "df = pd.read_csv('/content/sample_data/coin_Bitcoin.csv')\n",
        "df.head()"
      ],
      "metadata": {
        "colab": {
          "base_uri": "https://localhost:8080/",
          "height": 206
        },
        "id": "xJTuz5Gg4xJ8",
        "outputId": "19fc4bb2-1734-450c-9d63-4551618760b9"
      },
      "execution_count": 385,
      "outputs": [
        {
          "output_type": "execute_result",
          "data": {
            "text/plain": [
              "   SNo     Name Symbol                 Date        High         Low  \\\n",
              "0    1  Bitcoin    BTC  2013-04-29 23:59:59  147.488007  134.000000   \n",
              "1    2  Bitcoin    BTC  2013-04-30 23:59:59  146.929993  134.050003   \n",
              "2    3  Bitcoin    BTC  2013-05-01 23:59:59  139.889999  107.720001   \n",
              "3    4  Bitcoin    BTC  2013-05-02 23:59:59  125.599998   92.281898   \n",
              "4    5  Bitcoin    BTC  2013-05-03 23:59:59  108.127998   79.099998   \n",
              "\n",
              "         Open       Close  Volume     Marketcap  \n",
              "0  134.444000  144.539993     0.0  1.603769e+09  \n",
              "1  144.000000  139.000000     0.0  1.542813e+09  \n",
              "2  139.000000  116.989998     0.0  1.298955e+09  \n",
              "3  116.379997  105.209999     0.0  1.168517e+09  \n",
              "4  106.250000   97.750000     0.0  1.085995e+09  "
            ],
            "text/html": [
              "\n",
              "  <div id=\"df-95d9653a-c618-4e9e-9b8b-1a05189d804f\" class=\"colab-df-container\">\n",
              "    <div>\n",
              "<style scoped>\n",
              "    .dataframe tbody tr th:only-of-type {\n",
              "        vertical-align: middle;\n",
              "    }\n",
              "\n",
              "    .dataframe tbody tr th {\n",
              "        vertical-align: top;\n",
              "    }\n",
              "\n",
              "    .dataframe thead th {\n",
              "        text-align: right;\n",
              "    }\n",
              "</style>\n",
              "<table border=\"1\" class=\"dataframe\">\n",
              "  <thead>\n",
              "    <tr style=\"text-align: right;\">\n",
              "      <th></th>\n",
              "      <th>SNo</th>\n",
              "      <th>Name</th>\n",
              "      <th>Symbol</th>\n",
              "      <th>Date</th>\n",
              "      <th>High</th>\n",
              "      <th>Low</th>\n",
              "      <th>Open</th>\n",
              "      <th>Close</th>\n",
              "      <th>Volume</th>\n",
              "      <th>Marketcap</th>\n",
              "    </tr>\n",
              "  </thead>\n",
              "  <tbody>\n",
              "    <tr>\n",
              "      <th>0</th>\n",
              "      <td>1</td>\n",
              "      <td>Bitcoin</td>\n",
              "      <td>BTC</td>\n",
              "      <td>2013-04-29 23:59:59</td>\n",
              "      <td>147.488007</td>\n",
              "      <td>134.000000</td>\n",
              "      <td>134.444000</td>\n",
              "      <td>144.539993</td>\n",
              "      <td>0.0</td>\n",
              "      <td>1.603769e+09</td>\n",
              "    </tr>\n",
              "    <tr>\n",
              "      <th>1</th>\n",
              "      <td>2</td>\n",
              "      <td>Bitcoin</td>\n",
              "      <td>BTC</td>\n",
              "      <td>2013-04-30 23:59:59</td>\n",
              "      <td>146.929993</td>\n",
              "      <td>134.050003</td>\n",
              "      <td>144.000000</td>\n",
              "      <td>139.000000</td>\n",
              "      <td>0.0</td>\n",
              "      <td>1.542813e+09</td>\n",
              "    </tr>\n",
              "    <tr>\n",
              "      <th>2</th>\n",
              "      <td>3</td>\n",
              "      <td>Bitcoin</td>\n",
              "      <td>BTC</td>\n",
              "      <td>2013-05-01 23:59:59</td>\n",
              "      <td>139.889999</td>\n",
              "      <td>107.720001</td>\n",
              "      <td>139.000000</td>\n",
              "      <td>116.989998</td>\n",
              "      <td>0.0</td>\n",
              "      <td>1.298955e+09</td>\n",
              "    </tr>\n",
              "    <tr>\n",
              "      <th>3</th>\n",
              "      <td>4</td>\n",
              "      <td>Bitcoin</td>\n",
              "      <td>BTC</td>\n",
              "      <td>2013-05-02 23:59:59</td>\n",
              "      <td>125.599998</td>\n",
              "      <td>92.281898</td>\n",
              "      <td>116.379997</td>\n",
              "      <td>105.209999</td>\n",
              "      <td>0.0</td>\n",
              "      <td>1.168517e+09</td>\n",
              "    </tr>\n",
              "    <tr>\n",
              "      <th>4</th>\n",
              "      <td>5</td>\n",
              "      <td>Bitcoin</td>\n",
              "      <td>BTC</td>\n",
              "      <td>2013-05-03 23:59:59</td>\n",
              "      <td>108.127998</td>\n",
              "      <td>79.099998</td>\n",
              "      <td>106.250000</td>\n",
              "      <td>97.750000</td>\n",
              "      <td>0.0</td>\n",
              "      <td>1.085995e+09</td>\n",
              "    </tr>\n",
              "  </tbody>\n",
              "</table>\n",
              "</div>\n",
              "    <div class=\"colab-df-buttons\">\n",
              "\n",
              "  <div class=\"colab-df-container\">\n",
              "    <button class=\"colab-df-convert\" onclick=\"convertToInteractive('df-95d9653a-c618-4e9e-9b8b-1a05189d804f')\"\n",
              "            title=\"Convert this dataframe to an interactive table.\"\n",
              "            style=\"display:none;\">\n",
              "\n",
              "  <svg xmlns=\"http://www.w3.org/2000/svg\" height=\"24px\" viewBox=\"0 -960 960 960\">\n",
              "    <path d=\"M120-120v-720h720v720H120Zm60-500h600v-160H180v160Zm220 220h160v-160H400v160Zm0 220h160v-160H400v160ZM180-400h160v-160H180v160Zm440 0h160v-160H620v160ZM180-180h160v-160H180v160Zm440 0h160v-160H620v160Z\"/>\n",
              "  </svg>\n",
              "    </button>\n",
              "\n",
              "  <style>\n",
              "    .colab-df-container {\n",
              "      display:flex;\n",
              "      gap: 12px;\n",
              "    }\n",
              "\n",
              "    .colab-df-convert {\n",
              "      background-color: #E8F0FE;\n",
              "      border: none;\n",
              "      border-radius: 50%;\n",
              "      cursor: pointer;\n",
              "      display: none;\n",
              "      fill: #1967D2;\n",
              "      height: 32px;\n",
              "      padding: 0 0 0 0;\n",
              "      width: 32px;\n",
              "    }\n",
              "\n",
              "    .colab-df-convert:hover {\n",
              "      background-color: #E2EBFA;\n",
              "      box-shadow: 0px 1px 2px rgba(60, 64, 67, 0.3), 0px 1px 3px 1px rgba(60, 64, 67, 0.15);\n",
              "      fill: #174EA6;\n",
              "    }\n",
              "\n",
              "    .colab-df-buttons div {\n",
              "      margin-bottom: 4px;\n",
              "    }\n",
              "\n",
              "    [theme=dark] .colab-df-convert {\n",
              "      background-color: #3B4455;\n",
              "      fill: #D2E3FC;\n",
              "    }\n",
              "\n",
              "    [theme=dark] .colab-df-convert:hover {\n",
              "      background-color: #434B5C;\n",
              "      box-shadow: 0px 1px 3px 1px rgba(0, 0, 0, 0.15);\n",
              "      filter: drop-shadow(0px 1px 2px rgba(0, 0, 0, 0.3));\n",
              "      fill: #FFFFFF;\n",
              "    }\n",
              "  </style>\n",
              "\n",
              "    <script>\n",
              "      const buttonEl =\n",
              "        document.querySelector('#df-95d9653a-c618-4e9e-9b8b-1a05189d804f button.colab-df-convert');\n",
              "      buttonEl.style.display =\n",
              "        google.colab.kernel.accessAllowed ? 'block' : 'none';\n",
              "\n",
              "      async function convertToInteractive(key) {\n",
              "        const element = document.querySelector('#df-95d9653a-c618-4e9e-9b8b-1a05189d804f');\n",
              "        const dataTable =\n",
              "          await google.colab.kernel.invokeFunction('convertToInteractive',\n",
              "                                                    [key], {});\n",
              "        if (!dataTable) return;\n",
              "\n",
              "        const docLinkHtml = 'Like what you see? Visit the ' +\n",
              "          '<a target=\"_blank\" href=https://colab.research.google.com/notebooks/data_table.ipynb>data table notebook</a>'\n",
              "          + ' to learn more about interactive tables.';\n",
              "        element.innerHTML = '';\n",
              "        dataTable['output_type'] = 'display_data';\n",
              "        await google.colab.output.renderOutput(dataTable, element);\n",
              "        const docLink = document.createElement('div');\n",
              "        docLink.innerHTML = docLinkHtml;\n",
              "        element.appendChild(docLink);\n",
              "      }\n",
              "    </script>\n",
              "  </div>\n",
              "\n",
              "\n",
              "<div id=\"df-d782a430-826d-4416-8e60-7a97bb931424\">\n",
              "  <button class=\"colab-df-quickchart\" onclick=\"quickchart('df-d782a430-826d-4416-8e60-7a97bb931424')\"\n",
              "            title=\"Suggest charts\"\n",
              "            style=\"display:none;\">\n",
              "\n",
              "<svg xmlns=\"http://www.w3.org/2000/svg\" height=\"24px\"viewBox=\"0 0 24 24\"\n",
              "     width=\"24px\">\n",
              "    <g>\n",
              "        <path d=\"M19 3H5c-1.1 0-2 .9-2 2v14c0 1.1.9 2 2 2h14c1.1 0 2-.9 2-2V5c0-1.1-.9-2-2-2zM9 17H7v-7h2v7zm4 0h-2V7h2v10zm4 0h-2v-4h2v4z\"/>\n",
              "    </g>\n",
              "</svg>\n",
              "  </button>\n",
              "\n",
              "<style>\n",
              "  .colab-df-quickchart {\n",
              "      --bg-color: #E8F0FE;\n",
              "      --fill-color: #1967D2;\n",
              "      --hover-bg-color: #E2EBFA;\n",
              "      --hover-fill-color: #174EA6;\n",
              "      --disabled-fill-color: #AAA;\n",
              "      --disabled-bg-color: #DDD;\n",
              "  }\n",
              "\n",
              "  [theme=dark] .colab-df-quickchart {\n",
              "      --bg-color: #3B4455;\n",
              "      --fill-color: #D2E3FC;\n",
              "      --hover-bg-color: #434B5C;\n",
              "      --hover-fill-color: #FFFFFF;\n",
              "      --disabled-bg-color: #3B4455;\n",
              "      --disabled-fill-color: #666;\n",
              "  }\n",
              "\n",
              "  .colab-df-quickchart {\n",
              "    background-color: var(--bg-color);\n",
              "    border: none;\n",
              "    border-radius: 50%;\n",
              "    cursor: pointer;\n",
              "    display: none;\n",
              "    fill: var(--fill-color);\n",
              "    height: 32px;\n",
              "    padding: 0;\n",
              "    width: 32px;\n",
              "  }\n",
              "\n",
              "  .colab-df-quickchart:hover {\n",
              "    background-color: var(--hover-bg-color);\n",
              "    box-shadow: 0 1px 2px rgba(60, 64, 67, 0.3), 0 1px 3px 1px rgba(60, 64, 67, 0.15);\n",
              "    fill: var(--button-hover-fill-color);\n",
              "  }\n",
              "\n",
              "  .colab-df-quickchart-complete:disabled,\n",
              "  .colab-df-quickchart-complete:disabled:hover {\n",
              "    background-color: var(--disabled-bg-color);\n",
              "    fill: var(--disabled-fill-color);\n",
              "    box-shadow: none;\n",
              "  }\n",
              "\n",
              "  .colab-df-spinner {\n",
              "    border: 2px solid var(--fill-color);\n",
              "    border-color: transparent;\n",
              "    border-bottom-color: var(--fill-color);\n",
              "    animation:\n",
              "      spin 1s steps(1) infinite;\n",
              "  }\n",
              "\n",
              "  @keyframes spin {\n",
              "    0% {\n",
              "      border-color: transparent;\n",
              "      border-bottom-color: var(--fill-color);\n",
              "      border-left-color: var(--fill-color);\n",
              "    }\n",
              "    20% {\n",
              "      border-color: transparent;\n",
              "      border-left-color: var(--fill-color);\n",
              "      border-top-color: var(--fill-color);\n",
              "    }\n",
              "    30% {\n",
              "      border-color: transparent;\n",
              "      border-left-color: var(--fill-color);\n",
              "      border-top-color: var(--fill-color);\n",
              "      border-right-color: var(--fill-color);\n",
              "    }\n",
              "    40% {\n",
              "      border-color: transparent;\n",
              "      border-right-color: var(--fill-color);\n",
              "      border-top-color: var(--fill-color);\n",
              "    }\n",
              "    60% {\n",
              "      border-color: transparent;\n",
              "      border-right-color: var(--fill-color);\n",
              "    }\n",
              "    80% {\n",
              "      border-color: transparent;\n",
              "      border-right-color: var(--fill-color);\n",
              "      border-bottom-color: var(--fill-color);\n",
              "    }\n",
              "    90% {\n",
              "      border-color: transparent;\n",
              "      border-bottom-color: var(--fill-color);\n",
              "    }\n",
              "  }\n",
              "</style>\n",
              "\n",
              "  <script>\n",
              "    async function quickchart(key) {\n",
              "      const quickchartButtonEl =\n",
              "        document.querySelector('#' + key + ' button');\n",
              "      quickchartButtonEl.disabled = true;  // To prevent multiple clicks.\n",
              "      quickchartButtonEl.classList.add('colab-df-spinner');\n",
              "      try {\n",
              "        const charts = await google.colab.kernel.invokeFunction(\n",
              "            'suggestCharts', [key], {});\n",
              "      } catch (error) {\n",
              "        console.error('Error during call to suggestCharts:', error);\n",
              "      }\n",
              "      quickchartButtonEl.classList.remove('colab-df-spinner');\n",
              "      quickchartButtonEl.classList.add('colab-df-quickchart-complete');\n",
              "    }\n",
              "    (() => {\n",
              "      let quickchartButtonEl =\n",
              "        document.querySelector('#df-d782a430-826d-4416-8e60-7a97bb931424 button');\n",
              "      quickchartButtonEl.style.display =\n",
              "        google.colab.kernel.accessAllowed ? 'block' : 'none';\n",
              "    })();\n",
              "  </script>\n",
              "</div>\n",
              "    </div>\n",
              "  </div>\n"
            ]
          },
          "metadata": {},
          "execution_count": 385
        }
      ]
    },
    {
      "cell_type": "code",
      "source": [
        "df.isnull().sum().sum()"
      ],
      "metadata": {
        "colab": {
          "base_uri": "https://localhost:8080/"
        },
        "id": "VtD_A0zh4-Z2",
        "outputId": "4db696ae-dcbb-4452-f41c-58fc60eb781d"
      },
      "execution_count": 386,
      "outputs": [
        {
          "output_type": "execute_result",
          "data": {
            "text/plain": [
              "0"
            ]
          },
          "metadata": {},
          "execution_count": 386
        }
      ]
    },
    {
      "cell_type": "code",
      "source": [
        "df = df.drop(['SNo', 'Name', 'Symbol'], axis=1)"
      ],
      "metadata": {
        "id": "DqXi7EMv5J5v"
      },
      "execution_count": 387,
      "outputs": []
    },
    {
      "cell_type": "code",
      "source": [
        "df['Date'] = pd.to_datetime(df['Date'])"
      ],
      "metadata": {
        "id": "WNjePGGO5SQX"
      },
      "execution_count": 388,
      "outputs": []
    },
    {
      "cell_type": "code",
      "source": [
        "df['Year'] = df['Date'].dt.year\n",
        "df['Month'] = df['Date'].dt.month\n",
        "df['Day'] = df['Date'].dt.day\n",
        "df['Hour'] = df['Date'].dt.hour\n",
        "df['Mins'] = df['Date'].dt.minute\n",
        "df['Seconds'] = df['Date'].dt.second\n",
        "\n",
        "df = df.drop('Date', axis=1)"
      ],
      "metadata": {
        "id": "1sqtJQTv5aZC"
      },
      "execution_count": 389,
      "outputs": []
    },
    {
      "cell_type": "code",
      "source": [
        "df.head()"
      ],
      "metadata": {
        "colab": {
          "base_uri": "https://localhost:8080/",
          "height": 206
        },
        "id": "wwq3SrSV5-4b",
        "outputId": "6be93e6a-e166-406f-85ac-e6d1d1886deb"
      },
      "execution_count": 390,
      "outputs": [
        {
          "output_type": "execute_result",
          "data": {
            "text/plain": [
              "         High         Low        Open       Close  Volume     Marketcap  Year  \\\n",
              "0  147.488007  134.000000  134.444000  144.539993     0.0  1.603769e+09  2013   \n",
              "1  146.929993  134.050003  144.000000  139.000000     0.0  1.542813e+09  2013   \n",
              "2  139.889999  107.720001  139.000000  116.989998     0.0  1.298955e+09  2013   \n",
              "3  125.599998   92.281898  116.379997  105.209999     0.0  1.168517e+09  2013   \n",
              "4  108.127998   79.099998  106.250000   97.750000     0.0  1.085995e+09  2013   \n",
              "\n",
              "   Month  Day  Hour  Mins  Seconds  \n",
              "0      4   29    23    59       59  \n",
              "1      4   30    23    59       59  \n",
              "2      5    1    23    59       59  \n",
              "3      5    2    23    59       59  \n",
              "4      5    3    23    59       59  "
            ],
            "text/html": [
              "\n",
              "  <div id=\"df-c6f0db28-1091-4f8e-b52a-56a7fbe041d6\" class=\"colab-df-container\">\n",
              "    <div>\n",
              "<style scoped>\n",
              "    .dataframe tbody tr th:only-of-type {\n",
              "        vertical-align: middle;\n",
              "    }\n",
              "\n",
              "    .dataframe tbody tr th {\n",
              "        vertical-align: top;\n",
              "    }\n",
              "\n",
              "    .dataframe thead th {\n",
              "        text-align: right;\n",
              "    }\n",
              "</style>\n",
              "<table border=\"1\" class=\"dataframe\">\n",
              "  <thead>\n",
              "    <tr style=\"text-align: right;\">\n",
              "      <th></th>\n",
              "      <th>High</th>\n",
              "      <th>Low</th>\n",
              "      <th>Open</th>\n",
              "      <th>Close</th>\n",
              "      <th>Volume</th>\n",
              "      <th>Marketcap</th>\n",
              "      <th>Year</th>\n",
              "      <th>Month</th>\n",
              "      <th>Day</th>\n",
              "      <th>Hour</th>\n",
              "      <th>Mins</th>\n",
              "      <th>Seconds</th>\n",
              "    </tr>\n",
              "  </thead>\n",
              "  <tbody>\n",
              "    <tr>\n",
              "      <th>0</th>\n",
              "      <td>147.488007</td>\n",
              "      <td>134.000000</td>\n",
              "      <td>134.444000</td>\n",
              "      <td>144.539993</td>\n",
              "      <td>0.0</td>\n",
              "      <td>1.603769e+09</td>\n",
              "      <td>2013</td>\n",
              "      <td>4</td>\n",
              "      <td>29</td>\n",
              "      <td>23</td>\n",
              "      <td>59</td>\n",
              "      <td>59</td>\n",
              "    </tr>\n",
              "    <tr>\n",
              "      <th>1</th>\n",
              "      <td>146.929993</td>\n",
              "      <td>134.050003</td>\n",
              "      <td>144.000000</td>\n",
              "      <td>139.000000</td>\n",
              "      <td>0.0</td>\n",
              "      <td>1.542813e+09</td>\n",
              "      <td>2013</td>\n",
              "      <td>4</td>\n",
              "      <td>30</td>\n",
              "      <td>23</td>\n",
              "      <td>59</td>\n",
              "      <td>59</td>\n",
              "    </tr>\n",
              "    <tr>\n",
              "      <th>2</th>\n",
              "      <td>139.889999</td>\n",
              "      <td>107.720001</td>\n",
              "      <td>139.000000</td>\n",
              "      <td>116.989998</td>\n",
              "      <td>0.0</td>\n",
              "      <td>1.298955e+09</td>\n",
              "      <td>2013</td>\n",
              "      <td>5</td>\n",
              "      <td>1</td>\n",
              "      <td>23</td>\n",
              "      <td>59</td>\n",
              "      <td>59</td>\n",
              "    </tr>\n",
              "    <tr>\n",
              "      <th>3</th>\n",
              "      <td>125.599998</td>\n",
              "      <td>92.281898</td>\n",
              "      <td>116.379997</td>\n",
              "      <td>105.209999</td>\n",
              "      <td>0.0</td>\n",
              "      <td>1.168517e+09</td>\n",
              "      <td>2013</td>\n",
              "      <td>5</td>\n",
              "      <td>2</td>\n",
              "      <td>23</td>\n",
              "      <td>59</td>\n",
              "      <td>59</td>\n",
              "    </tr>\n",
              "    <tr>\n",
              "      <th>4</th>\n",
              "      <td>108.127998</td>\n",
              "      <td>79.099998</td>\n",
              "      <td>106.250000</td>\n",
              "      <td>97.750000</td>\n",
              "      <td>0.0</td>\n",
              "      <td>1.085995e+09</td>\n",
              "      <td>2013</td>\n",
              "      <td>5</td>\n",
              "      <td>3</td>\n",
              "      <td>23</td>\n",
              "      <td>59</td>\n",
              "      <td>59</td>\n",
              "    </tr>\n",
              "  </tbody>\n",
              "</table>\n",
              "</div>\n",
              "    <div class=\"colab-df-buttons\">\n",
              "\n",
              "  <div class=\"colab-df-container\">\n",
              "    <button class=\"colab-df-convert\" onclick=\"convertToInteractive('df-c6f0db28-1091-4f8e-b52a-56a7fbe041d6')\"\n",
              "            title=\"Convert this dataframe to an interactive table.\"\n",
              "            style=\"display:none;\">\n",
              "\n",
              "  <svg xmlns=\"http://www.w3.org/2000/svg\" height=\"24px\" viewBox=\"0 -960 960 960\">\n",
              "    <path d=\"M120-120v-720h720v720H120Zm60-500h600v-160H180v160Zm220 220h160v-160H400v160Zm0 220h160v-160H400v160ZM180-400h160v-160H180v160Zm440 0h160v-160H620v160ZM180-180h160v-160H180v160Zm440 0h160v-160H620v160Z\"/>\n",
              "  </svg>\n",
              "    </button>\n",
              "\n",
              "  <style>\n",
              "    .colab-df-container {\n",
              "      display:flex;\n",
              "      gap: 12px;\n",
              "    }\n",
              "\n",
              "    .colab-df-convert {\n",
              "      background-color: #E8F0FE;\n",
              "      border: none;\n",
              "      border-radius: 50%;\n",
              "      cursor: pointer;\n",
              "      display: none;\n",
              "      fill: #1967D2;\n",
              "      height: 32px;\n",
              "      padding: 0 0 0 0;\n",
              "      width: 32px;\n",
              "    }\n",
              "\n",
              "    .colab-df-convert:hover {\n",
              "      background-color: #E2EBFA;\n",
              "      box-shadow: 0px 1px 2px rgba(60, 64, 67, 0.3), 0px 1px 3px 1px rgba(60, 64, 67, 0.15);\n",
              "      fill: #174EA6;\n",
              "    }\n",
              "\n",
              "    .colab-df-buttons div {\n",
              "      margin-bottom: 4px;\n",
              "    }\n",
              "\n",
              "    [theme=dark] .colab-df-convert {\n",
              "      background-color: #3B4455;\n",
              "      fill: #D2E3FC;\n",
              "    }\n",
              "\n",
              "    [theme=dark] .colab-df-convert:hover {\n",
              "      background-color: #434B5C;\n",
              "      box-shadow: 0px 1px 3px 1px rgba(0, 0, 0, 0.15);\n",
              "      filter: drop-shadow(0px 1px 2px rgba(0, 0, 0, 0.3));\n",
              "      fill: #FFFFFF;\n",
              "    }\n",
              "  </style>\n",
              "\n",
              "    <script>\n",
              "      const buttonEl =\n",
              "        document.querySelector('#df-c6f0db28-1091-4f8e-b52a-56a7fbe041d6 button.colab-df-convert');\n",
              "      buttonEl.style.display =\n",
              "        google.colab.kernel.accessAllowed ? 'block' : 'none';\n",
              "\n",
              "      async function convertToInteractive(key) {\n",
              "        const element = document.querySelector('#df-c6f0db28-1091-4f8e-b52a-56a7fbe041d6');\n",
              "        const dataTable =\n",
              "          await google.colab.kernel.invokeFunction('convertToInteractive',\n",
              "                                                    [key], {});\n",
              "        if (!dataTable) return;\n",
              "\n",
              "        const docLinkHtml = 'Like what you see? Visit the ' +\n",
              "          '<a target=\"_blank\" href=https://colab.research.google.com/notebooks/data_table.ipynb>data table notebook</a>'\n",
              "          + ' to learn more about interactive tables.';\n",
              "        element.innerHTML = '';\n",
              "        dataTable['output_type'] = 'display_data';\n",
              "        await google.colab.output.renderOutput(dataTable, element);\n",
              "        const docLink = document.createElement('div');\n",
              "        docLink.innerHTML = docLinkHtml;\n",
              "        element.appendChild(docLink);\n",
              "      }\n",
              "    </script>\n",
              "  </div>\n",
              "\n",
              "\n",
              "<div id=\"df-16d46626-1972-45af-9161-45f513776a97\">\n",
              "  <button class=\"colab-df-quickchart\" onclick=\"quickchart('df-16d46626-1972-45af-9161-45f513776a97')\"\n",
              "            title=\"Suggest charts\"\n",
              "            style=\"display:none;\">\n",
              "\n",
              "<svg xmlns=\"http://www.w3.org/2000/svg\" height=\"24px\"viewBox=\"0 0 24 24\"\n",
              "     width=\"24px\">\n",
              "    <g>\n",
              "        <path d=\"M19 3H5c-1.1 0-2 .9-2 2v14c0 1.1.9 2 2 2h14c1.1 0 2-.9 2-2V5c0-1.1-.9-2-2-2zM9 17H7v-7h2v7zm4 0h-2V7h2v10zm4 0h-2v-4h2v4z\"/>\n",
              "    </g>\n",
              "</svg>\n",
              "  </button>\n",
              "\n",
              "<style>\n",
              "  .colab-df-quickchart {\n",
              "      --bg-color: #E8F0FE;\n",
              "      --fill-color: #1967D2;\n",
              "      --hover-bg-color: #E2EBFA;\n",
              "      --hover-fill-color: #174EA6;\n",
              "      --disabled-fill-color: #AAA;\n",
              "      --disabled-bg-color: #DDD;\n",
              "  }\n",
              "\n",
              "  [theme=dark] .colab-df-quickchart {\n",
              "      --bg-color: #3B4455;\n",
              "      --fill-color: #D2E3FC;\n",
              "      --hover-bg-color: #434B5C;\n",
              "      --hover-fill-color: #FFFFFF;\n",
              "      --disabled-bg-color: #3B4455;\n",
              "      --disabled-fill-color: #666;\n",
              "  }\n",
              "\n",
              "  .colab-df-quickchart {\n",
              "    background-color: var(--bg-color);\n",
              "    border: none;\n",
              "    border-radius: 50%;\n",
              "    cursor: pointer;\n",
              "    display: none;\n",
              "    fill: var(--fill-color);\n",
              "    height: 32px;\n",
              "    padding: 0;\n",
              "    width: 32px;\n",
              "  }\n",
              "\n",
              "  .colab-df-quickchart:hover {\n",
              "    background-color: var(--hover-bg-color);\n",
              "    box-shadow: 0 1px 2px rgba(60, 64, 67, 0.3), 0 1px 3px 1px rgba(60, 64, 67, 0.15);\n",
              "    fill: var(--button-hover-fill-color);\n",
              "  }\n",
              "\n",
              "  .colab-df-quickchart-complete:disabled,\n",
              "  .colab-df-quickchart-complete:disabled:hover {\n",
              "    background-color: var(--disabled-bg-color);\n",
              "    fill: var(--disabled-fill-color);\n",
              "    box-shadow: none;\n",
              "  }\n",
              "\n",
              "  .colab-df-spinner {\n",
              "    border: 2px solid var(--fill-color);\n",
              "    border-color: transparent;\n",
              "    border-bottom-color: var(--fill-color);\n",
              "    animation:\n",
              "      spin 1s steps(1) infinite;\n",
              "  }\n",
              "\n",
              "  @keyframes spin {\n",
              "    0% {\n",
              "      border-color: transparent;\n",
              "      border-bottom-color: var(--fill-color);\n",
              "      border-left-color: var(--fill-color);\n",
              "    }\n",
              "    20% {\n",
              "      border-color: transparent;\n",
              "      border-left-color: var(--fill-color);\n",
              "      border-top-color: var(--fill-color);\n",
              "    }\n",
              "    30% {\n",
              "      border-color: transparent;\n",
              "      border-left-color: var(--fill-color);\n",
              "      border-top-color: var(--fill-color);\n",
              "      border-right-color: var(--fill-color);\n",
              "    }\n",
              "    40% {\n",
              "      border-color: transparent;\n",
              "      border-right-color: var(--fill-color);\n",
              "      border-top-color: var(--fill-color);\n",
              "    }\n",
              "    60% {\n",
              "      border-color: transparent;\n",
              "      border-right-color: var(--fill-color);\n",
              "    }\n",
              "    80% {\n",
              "      border-color: transparent;\n",
              "      border-right-color: var(--fill-color);\n",
              "      border-bottom-color: var(--fill-color);\n",
              "    }\n",
              "    90% {\n",
              "      border-color: transparent;\n",
              "      border-bottom-color: var(--fill-color);\n",
              "    }\n",
              "  }\n",
              "</style>\n",
              "\n",
              "  <script>\n",
              "    async function quickchart(key) {\n",
              "      const quickchartButtonEl =\n",
              "        document.querySelector('#' + key + ' button');\n",
              "      quickchartButtonEl.disabled = true;  // To prevent multiple clicks.\n",
              "      quickchartButtonEl.classList.add('colab-df-spinner');\n",
              "      try {\n",
              "        const charts = await google.colab.kernel.invokeFunction(\n",
              "            'suggestCharts', [key], {});\n",
              "      } catch (error) {\n",
              "        console.error('Error during call to suggestCharts:', error);\n",
              "      }\n",
              "      quickchartButtonEl.classList.remove('colab-df-spinner');\n",
              "      quickchartButtonEl.classList.add('colab-df-quickchart-complete');\n",
              "    }\n",
              "    (() => {\n",
              "      let quickchartButtonEl =\n",
              "        document.querySelector('#df-16d46626-1972-45af-9161-45f513776a97 button');\n",
              "      quickchartButtonEl.style.display =\n",
              "        google.colab.kernel.accessAllowed ? 'block' : 'none';\n",
              "    })();\n",
              "  </script>\n",
              "</div>\n",
              "    </div>\n",
              "  </div>\n"
            ]
          },
          "metadata": {},
          "execution_count": 390
        }
      ]
    },
    {
      "cell_type": "code",
      "source": [
        "df.dtypes"
      ],
      "metadata": {
        "colab": {
          "base_uri": "https://localhost:8080/"
        },
        "id": "Gbw8tAnoa0ta",
        "outputId": "c3bf856f-4c17-4946-eac5-9b25ef789ec8"
      },
      "execution_count": 391,
      "outputs": [
        {
          "output_type": "execute_result",
          "data": {
            "text/plain": [
              "High         float64\n",
              "Low          float64\n",
              "Open         float64\n",
              "Close        float64\n",
              "Volume       float64\n",
              "Marketcap    float64\n",
              "Year           int64\n",
              "Month          int64\n",
              "Day            int64\n",
              "Hour           int64\n",
              "Mins           int64\n",
              "Seconds        int64\n",
              "dtype: object"
            ]
          },
          "metadata": {},
          "execution_count": 391
        }
      ]
    },
    {
      "cell_type": "code",
      "source": [
        "df['Year'].max()"
      ],
      "metadata": {
        "colab": {
          "base_uri": "https://localhost:8080/"
        },
        "id": "9sOHuKD2a25y",
        "outputId": "b6686987-49fa-4946-d6b1-90d61c268890"
      },
      "execution_count": 392,
      "outputs": [
        {
          "output_type": "execute_result",
          "data": {
            "text/plain": [
              "2021"
            ]
          },
          "metadata": {},
          "execution_count": 392
        }
      ]
    },
    {
      "cell_type": "code",
      "source": [
        "df.shape"
      ],
      "metadata": {
        "colab": {
          "base_uri": "https://localhost:8080/"
        },
        "id": "TUSysHzJbBXT",
        "outputId": "2f92c11f-3f09-4c2e-b0e4-3a6564683689"
      },
      "execution_count": 393,
      "outputs": [
        {
          "output_type": "execute_result",
          "data": {
            "text/plain": [
              "(2991, 12)"
            ]
          },
          "metadata": {},
          "execution_count": 393
        }
      ]
    },
    {
      "cell_type": "code",
      "source": [
        "X = df.drop('Close', axis=1)\n",
        "y = df['Close']"
      ],
      "metadata": {
        "id": "iRmkKC8CbDAo"
      },
      "execution_count": 394,
      "outputs": []
    },
    {
      "cell_type": "code",
      "source": [
        "y = np.array(y)"
      ],
      "metadata": {
        "id": "DieZaiK5cltj"
      },
      "execution_count": 395,
      "outputs": []
    },
    {
      "cell_type": "code",
      "source": [
        "from sklearn.utils import shuffle"
      ],
      "metadata": {
        "id": "7k_bMXlicnrJ"
      },
      "execution_count": 396,
      "outputs": []
    },
    {
      "cell_type": "code",
      "source": [
        "X, y = shuffle(X, y)"
      ],
      "metadata": {
        "id": "v9IGrZnncqbi"
      },
      "execution_count": 397,
      "outputs": []
    },
    {
      "cell_type": "code",
      "source": [
        "y.max()"
      ],
      "metadata": {
        "colab": {
          "base_uri": "https://localhost:8080/"
        },
        "id": "xMydNWj3bi6o",
        "outputId": "0d44b3f1-d0bb-491a-aa23-86a4a8db8204"
      },
      "execution_count": 398,
      "outputs": [
        {
          "output_type": "execute_result",
          "data": {
            "text/plain": [
              "63503.45793019"
            ]
          },
          "metadata": {},
          "execution_count": 398
        }
      ]
    },
    {
      "cell_type": "code",
      "source": [
        "y.min()"
      ],
      "metadata": {
        "colab": {
          "base_uri": "https://localhost:8080/"
        },
        "id": "QC5jXE8abl7G",
        "outputId": "a25d11ca-b333-42ff-955b-71502ab29147"
      },
      "execution_count": 399,
      "outputs": [
        {
          "output_type": "execute_result",
          "data": {
            "text/plain": [
              "68.43099975585938"
            ]
          },
          "metadata": {},
          "execution_count": 399
        }
      ]
    },
    {
      "cell_type": "code",
      "source": [
        "from sklearn.model_selection import train_test_split"
      ],
      "metadata": {
        "id": "PGpdWrVNiXUE"
      },
      "execution_count": 400,
      "outputs": []
    },
    {
      "cell_type": "code",
      "source": [
        "X_train, X_test, y_train, y_test = train_test_split(X, y, test_size=0.2)"
      ],
      "metadata": {
        "id": "AJv6N8wVicqC"
      },
      "execution_count": 401,
      "outputs": []
    },
    {
      "cell_type": "code",
      "source": [
        "from sklearn.ensemble import RandomForestRegressor\n",
        "from sklearn.model_selection import GridSearchCV"
      ],
      "metadata": {
        "id": "BvL8UWpBh_G4"
      },
      "execution_count": 402,
      "outputs": []
    },
    {
      "cell_type": "code",
      "source": [
        "clf = RandomForestRegressor()\n",
        "clf.fit(X_train, y_train)"
      ],
      "metadata": {
        "colab": {
          "base_uri": "https://localhost:8080/",
          "height": 75
        },
        "id": "P3rLWHnZiIJS",
        "outputId": "7d5bf106-c834-4f65-9692-480527cdb926"
      },
      "execution_count": 403,
      "outputs": [
        {
          "output_type": "execute_result",
          "data": {
            "text/plain": [
              "RandomForestRegressor()"
            ],
            "text/html": [
              "<style>#sk-container-id-2 {color: black;background-color: white;}#sk-container-id-2 pre{padding: 0;}#sk-container-id-2 div.sk-toggleable {background-color: white;}#sk-container-id-2 label.sk-toggleable__label {cursor: pointer;display: block;width: 100%;margin-bottom: 0;padding: 0.3em;box-sizing: border-box;text-align: center;}#sk-container-id-2 label.sk-toggleable__label-arrow:before {content: \"▸\";float: left;margin-right: 0.25em;color: #696969;}#sk-container-id-2 label.sk-toggleable__label-arrow:hover:before {color: black;}#sk-container-id-2 div.sk-estimator:hover label.sk-toggleable__label-arrow:before {color: black;}#sk-container-id-2 div.sk-toggleable__content {max-height: 0;max-width: 0;overflow: hidden;text-align: left;background-color: #f0f8ff;}#sk-container-id-2 div.sk-toggleable__content pre {margin: 0.2em;color: black;border-radius: 0.25em;background-color: #f0f8ff;}#sk-container-id-2 input.sk-toggleable__control:checked~div.sk-toggleable__content {max-height: 200px;max-width: 100%;overflow: auto;}#sk-container-id-2 input.sk-toggleable__control:checked~label.sk-toggleable__label-arrow:before {content: \"▾\";}#sk-container-id-2 div.sk-estimator input.sk-toggleable__control:checked~label.sk-toggleable__label {background-color: #d4ebff;}#sk-container-id-2 div.sk-label input.sk-toggleable__control:checked~label.sk-toggleable__label {background-color: #d4ebff;}#sk-container-id-2 input.sk-hidden--visually {border: 0;clip: rect(1px 1px 1px 1px);clip: rect(1px, 1px, 1px, 1px);height: 1px;margin: -1px;overflow: hidden;padding: 0;position: absolute;width: 1px;}#sk-container-id-2 div.sk-estimator {font-family: monospace;background-color: #f0f8ff;border: 1px dotted black;border-radius: 0.25em;box-sizing: border-box;margin-bottom: 0.5em;}#sk-container-id-2 div.sk-estimator:hover {background-color: #d4ebff;}#sk-container-id-2 div.sk-parallel-item::after {content: \"\";width: 100%;border-bottom: 1px solid gray;flex-grow: 1;}#sk-container-id-2 div.sk-label:hover label.sk-toggleable__label {background-color: #d4ebff;}#sk-container-id-2 div.sk-serial::before {content: \"\";position: absolute;border-left: 1px solid gray;box-sizing: border-box;top: 0;bottom: 0;left: 50%;z-index: 0;}#sk-container-id-2 div.sk-serial {display: flex;flex-direction: column;align-items: center;background-color: white;padding-right: 0.2em;padding-left: 0.2em;position: relative;}#sk-container-id-2 div.sk-item {position: relative;z-index: 1;}#sk-container-id-2 div.sk-parallel {display: flex;align-items: stretch;justify-content: center;background-color: white;position: relative;}#sk-container-id-2 div.sk-item::before, #sk-container-id-2 div.sk-parallel-item::before {content: \"\";position: absolute;border-left: 1px solid gray;box-sizing: border-box;top: 0;bottom: 0;left: 50%;z-index: -1;}#sk-container-id-2 div.sk-parallel-item {display: flex;flex-direction: column;z-index: 1;position: relative;background-color: white;}#sk-container-id-2 div.sk-parallel-item:first-child::after {align-self: flex-end;width: 50%;}#sk-container-id-2 div.sk-parallel-item:last-child::after {align-self: flex-start;width: 50%;}#sk-container-id-2 div.sk-parallel-item:only-child::after {width: 0;}#sk-container-id-2 div.sk-dashed-wrapped {border: 1px dashed gray;margin: 0 0.4em 0.5em 0.4em;box-sizing: border-box;padding-bottom: 0.4em;background-color: white;}#sk-container-id-2 div.sk-label label {font-family: monospace;font-weight: bold;display: inline-block;line-height: 1.2em;}#sk-container-id-2 div.sk-label-container {text-align: center;}#sk-container-id-2 div.sk-container {/* jupyter's `normalize.less` sets `[hidden] { display: none; }` but bootstrap.min.css set `[hidden] { display: none !important; }` so we also need the `!important` here to be able to override the default hidden behavior on the sphinx rendered scikit-learn.org. See: https://github.com/scikit-learn/scikit-learn/issues/21755 */display: inline-block !important;position: relative;}#sk-container-id-2 div.sk-text-repr-fallback {display: none;}</style><div id=\"sk-container-id-2\" class=\"sk-top-container\"><div class=\"sk-text-repr-fallback\"><pre>RandomForestRegressor()</pre><b>In a Jupyter environment, please rerun this cell to show the HTML representation or trust the notebook. <br />On GitHub, the HTML representation is unable to render, please try loading this page with nbviewer.org.</b></div><div class=\"sk-container\" hidden><div class=\"sk-item\"><div class=\"sk-estimator sk-toggleable\"><input class=\"sk-toggleable__control sk-hidden--visually\" id=\"sk-estimator-id-2\" type=\"checkbox\" checked><label for=\"sk-estimator-id-2\" class=\"sk-toggleable__label sk-toggleable__label-arrow\">RandomForestRegressor</label><div class=\"sk-toggleable__content\"><pre>RandomForestRegressor()</pre></div></div></div></div></div>"
            ]
          },
          "metadata": {},
          "execution_count": 403
        }
      ]
    },
    {
      "cell_type": "code",
      "source": [
        "pred = clf.predict(X_test)"
      ],
      "metadata": {
        "id": "STpW9uKQiUas"
      },
      "execution_count": 405,
      "outputs": []
    },
    {
      "cell_type": "code",
      "source": [
        "clf.score(X_test, y_test)"
      ],
      "metadata": {
        "colab": {
          "base_uri": "https://localhost:8080/"
        },
        "id": "fQlJUNd2rg18",
        "outputId": "bde48050-5f35-4427-e691-10a214d2555f"
      },
      "execution_count": 409,
      "outputs": [
        {
          "output_type": "execute_result",
          "data": {
            "text/plain": [
              "0.9996973595280908"
            ]
          },
          "metadata": {},
          "execution_count": 409
        }
      ]
    },
    {
      "cell_type": "code",
      "source": [],
      "metadata": {
        "id": "yJL9lkBhrrFw"
      },
      "execution_count": null,
      "outputs": []
    },
    {
      "cell_type": "markdown",
      "source": [
        "![mqdefault.jpg](data:image/jpeg;base64,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)"
      ],
      "metadata": {
        "id": "j2rzfd55rrk_"
      }
    }
  ]
}