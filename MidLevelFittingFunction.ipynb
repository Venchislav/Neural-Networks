{
  "nbformat": 4,
  "nbformat_minor": 0,
  "metadata": {
    "colab": {
      "provenance": [],
      "authorship_tag": "ABX9TyMBwjHVxMmdrbaktPFUeXTe",
      "include_colab_link": true
    },
    "kernelspec": {
      "name": "python3",
      "display_name": "Python 3"
    },
    "language_info": {
      "name": "python"
    }
  },
  "cells": [
    {
      "cell_type": "markdown",
      "metadata": {
        "id": "view-in-github",
        "colab_type": "text"
      },
      "source": [
        "<a href=\"https://colab.research.google.com/github/Venchislav/Neural-Networks/blob/main/MidLevelFittingFunction.ipynb\" target=\"_parent\"><img src=\"https://colab.research.google.com/assets/colab-badge.svg\" alt=\"Open In Colab\"/></a>"
      ]
    },
    {
      "cell_type": "code",
      "execution_count": 33,
      "metadata": {
        "id": "oWyBqamJTmgE"
      },
      "outputs": [],
      "source": [
        "import numpy as np\n",
        "import tensorflow as tf\n",
        "from tensorflow import keras\n",
        "from tensorflow.keras import layers\n",
        "from tensorflow.keras.datasets import mnist"
      ]
    },
    {
      "cell_type": "code",
      "source": [
        "loss_fn = keras.losses.SparseCategoricalCrossentropy()\n",
        "loss_tracker = keras.metrics.Mean(name='loss')"
      ],
      "metadata": {
        "id": "KMPb-lzBT3tP"
      },
      "execution_count": 34,
      "outputs": []
    },
    {
      "cell_type": "code",
      "source": [
        "class CustomModel(keras.Model):\n",
        "  def train_step(self, data):\n",
        "    inputs, targets = data\n",
        "    with tf.GradientTape() as tape:\n",
        "      pred = self(inputs, training=True)\n",
        "      loss = loss_fn(targets, pred)\n",
        "    gradients = tape.gradient(loss, model.trainable_weights)\n",
        "    optimizer.apply_gradients(zip(gradients, model.trainable_weights))\n",
        "\n",
        "    loss_tracker.update_state(loss)\n",
        "    return {'loss': loss_tracker.result()}"
      ],
      "metadata": {
        "id": "Z-FNCAvRUBpm"
      },
      "execution_count": 35,
      "outputs": []
    },
    {
      "cell_type": "code",
      "source": [
        "@property\n",
        "def metrics(self):\n",
        "  return [loss_tracker]"
      ],
      "metadata": {
        "id": "xYhMxtsEUu13"
      },
      "execution_count": 36,
      "outputs": []
    },
    {
      "cell_type": "code",
      "source": [
        "inputs = keras.Input(shape=(28 * 28,))\n",
        "features = layers.Dense(512, activation='relu')(inputs)\n",
        "features = layers.Dropout(0.5)(features)\n",
        "outputs = layers.Dense(10, activation='softmax')(features)\n",
        "\n",
        "model = CustomModel(inputs, outputs)"
      ],
      "metadata": {
        "id": "Nd5_PYyzVCbe"
      },
      "execution_count": 37,
      "outputs": []
    },
    {
      "cell_type": "code",
      "source": [
        "def get_mnist_model():\n",
        "  inputs = keras.Input(shape=(28 * 28,))\n",
        "  features = layers.Dense(512, activation='relu')(inputs)\n",
        "  features = layers.Dropout(0.5)(features)\n",
        "  outputs = layers.Dense(10, activation='softmax')(features)\n",
        "\n",
        "  model = keras.Model(inputs, outputs)\n",
        "  return model\n",
        "\n",
        "\n",
        "(images, labels), (test_images, test_labels) = mnist.load_data()\n",
        "images = images.reshape((60_000, 28 * 28)).astype('float32') / 255.0\n",
        "test_images = test_images.reshape((10_000, 28 * 28)).astype('float32') / 255.0\n",
        "\n",
        "train_images, val_images = images[10_000:], images[:10_000]\n",
        "train_labels, val_labels = labels[10_000:], labels[:10_000]"
      ],
      "metadata": {
        "id": "LJ0Qev8oWBUt"
      },
      "execution_count": 38,
      "outputs": []
    },
    {
      "cell_type": "code",
      "source": [
        "model.compile(\n",
        "    optimizer=keras.optimizers.RMSprop()\n",
        ")"
      ],
      "metadata": {
        "id": "inlj1UPtXdNE"
      },
      "execution_count": 39,
      "outputs": []
    },
    {
      "cell_type": "code",
      "source": [
        "model.fit(\n",
        "    train_images, train_labels,\n",
        "    epochs=3\n",
        ")"
      ],
      "metadata": {
        "colab": {
          "base_uri": "https://localhost:8080/"
        },
        "id": "4JpePpebVs1O",
        "outputId": "036e25f0-90b0-41a1-fa3e-3784a9056a8b"
      },
      "execution_count": 40,
      "outputs": [
        {
          "output_type": "stream",
          "name": "stdout",
          "text": [
            "Epoch 1/3\n",
            "1563/1563 [==============================] - 11s 7ms/step - loss: 0.4561\n",
            "Epoch 2/3\n",
            "1563/1563 [==============================] - 11s 7ms/step - loss: 0.2543\n",
            "Epoch 3/3\n",
            "1563/1563 [==============================] - 11s 7ms/step - loss: 0.2072\n"
          ]
        },
        {
          "output_type": "execute_result",
          "data": {
            "text/plain": [
              "<keras.src.callbacks.History at 0x7f7a557bf0a0>"
            ]
          },
          "metadata": {},
          "execution_count": 40
        }
      ]
    },
    {
      "cell_type": "code",
      "source": [],
      "metadata": {
        "id": "Wdpnxx8BWfl2"
      },
      "execution_count": 40,
      "outputs": []
    },
    {
      "cell_type": "markdown",
      "source": [
        "THIS IS MAYBE **THE MOST FLEXIBLE** SOLUTION, AS WE CREATE TRAINING STEP BY OURSELVES (SO IT'S CUSTOMIZABLE), BUT WE ALSO USE BUILT-IN KERAS FIT FUNCTION, THAT HAS A LOT OF *USEFUL* TOOLS, THAT ARE **UNAVAILABLE** IN CUSTOM FIT FUNCTION (CALLBACKS etc.)"
      ],
      "metadata": {
        "id": "d72Kn0CJX-GU"
      }
    },
    {
      "cell_type": "code",
      "source": [],
      "metadata": {
        "id": "XTjl872dZKTd"
      },
      "execution_count": null,
      "outputs": []
    }
  ]
}