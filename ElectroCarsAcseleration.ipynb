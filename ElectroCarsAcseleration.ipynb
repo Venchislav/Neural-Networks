{
 "cells": [
  {
   "cell_type": "code",
   "execution_count": 301,
   "metadata": {},
   "outputs": [],
   "source": [
    "import pandas as pd\n",
    "import numpy as np"
   ]
  },
  {
   "cell_type": "code",
   "execution_count": 302,
   "metadata": {},
   "outputs": [
    {
     "data": {
      "text/html": [
       "<div>\n",
       "<style scoped>\n",
       "    .dataframe tbody tr th:only-of-type {\n",
       "        vertical-align: middle;\n",
       "    }\n",
       "\n",
       "    .dataframe tbody tr th {\n",
       "        vertical-align: top;\n",
       "    }\n",
       "\n",
       "    .dataframe thead th {\n",
       "        text-align: right;\n",
       "    }\n",
       "</style>\n",
       "<table border=\"1\" class=\"dataframe\">\n",
       "  <thead>\n",
       "    <tr style=\"text-align: right;\">\n",
       "      <th></th>\n",
       "      <th>Battery</th>\n",
       "      <th>Car_name</th>\n",
       "      <th>Car_name_link</th>\n",
       "      <th>Efficiency</th>\n",
       "      <th>Fast_charge</th>\n",
       "      <th>Price.DE.</th>\n",
       "      <th>Range</th>\n",
       "      <th>Top_speed</th>\n",
       "      <th>acceleration..0.100.</th>\n",
       "    </tr>\n",
       "  </thead>\n",
       "  <tbody>\n",
       "    <tr>\n",
       "      <th>0</th>\n",
       "      <td>75.0</td>\n",
       "      <td>Tesla Model Y Long Range Dual Motor</td>\n",
       "      <td>https://ev-database.org/car/1619/Tesla-Model-Y...</td>\n",
       "      <td>172</td>\n",
       "      <td>670.0</td>\n",
       "      <td>59017.0</td>\n",
       "      <td>435</td>\n",
       "      <td>217</td>\n",
       "      <td>5.0</td>\n",
       "    </tr>\n",
       "    <tr>\n",
       "      <th>1</th>\n",
       "      <td>57.5</td>\n",
       "      <td>Tesla Model 3</td>\n",
       "      <td>https://ev-database.org/car/1991/Tesla-Model-3</td>\n",
       "      <td>137</td>\n",
       "      <td>700.0</td>\n",
       "      <td>46220.0</td>\n",
       "      <td>420</td>\n",
       "      <td>201</td>\n",
       "      <td>6.1</td>\n",
       "    </tr>\n",
       "    <tr>\n",
       "      <th>2</th>\n",
       "      <td>60.5</td>\n",
       "      <td>BYD ATTO 3</td>\n",
       "      <td>https://ev-database.org/car/1782/BYD-ATTO-3</td>\n",
       "      <td>183</td>\n",
       "      <td>370.0</td>\n",
       "      <td>44625.0</td>\n",
       "      <td>330</td>\n",
       "      <td>160</td>\n",
       "      <td>7.3</td>\n",
       "    </tr>\n",
       "    <tr>\n",
       "      <th>3</th>\n",
       "      <td>61.7</td>\n",
       "      <td>MG MG4 Electric 64 kWh</td>\n",
       "      <td>https://ev-database.org/car/1708/MG-MG4-Electr...</td>\n",
       "      <td>171</td>\n",
       "      <td>630.0</td>\n",
       "      <td>39990.0</td>\n",
       "      <td>360</td>\n",
       "      <td>160</td>\n",
       "      <td>7.9</td>\n",
       "    </tr>\n",
       "    <tr>\n",
       "      <th>4</th>\n",
       "      <td>75.0</td>\n",
       "      <td>Tesla Model 3 Long Range Dual Motor</td>\n",
       "      <td>https://ev-database.org/car/1992/Tesla-Model-3...</td>\n",
       "      <td>149</td>\n",
       "      <td>780.0</td>\n",
       "      <td>55220.0</td>\n",
       "      <td>505</td>\n",
       "      <td>201</td>\n",
       "      <td>4.4</td>\n",
       "    </tr>\n",
       "  </tbody>\n",
       "</table>\n",
       "</div>"
      ],
      "text/plain": [
       "   Battery                             Car_name  \\\n",
       "0     75.0  Tesla Model Y Long Range Dual Motor   \n",
       "1     57.5                        Tesla Model 3   \n",
       "2     60.5                           BYD ATTO 3   \n",
       "3     61.7               MG MG4 Electric 64 kWh   \n",
       "4     75.0  Tesla Model 3 Long Range Dual Motor   \n",
       "\n",
       "                                       Car_name_link  Efficiency  Fast_charge  \\\n",
       "0  https://ev-database.org/car/1619/Tesla-Model-Y...         172        670.0   \n",
       "1     https://ev-database.org/car/1991/Tesla-Model-3         137        700.0   \n",
       "2        https://ev-database.org/car/1782/BYD-ATTO-3         183        370.0   \n",
       "3  https://ev-database.org/car/1708/MG-MG4-Electr...         171        630.0   \n",
       "4  https://ev-database.org/car/1992/Tesla-Model-3...         149        780.0   \n",
       "\n",
       "   Price.DE.  Range  Top_speed  acceleration..0.100.  \n",
       "0    59017.0    435        217                   5.0  \n",
       "1    46220.0    420        201                   6.1  \n",
       "2    44625.0    330        160                   7.3  \n",
       "3    39990.0    360        160                   7.9  \n",
       "4    55220.0    505        201                   4.4  "
      ]
     },
     "execution_count": 302,
     "metadata": {},
     "output_type": "execute_result"
    }
   ],
   "source": [
    "df = pd.read_csv('D:\\CODING\\DATASETS\\AustCars\\DataSets\\EV_cars.csv')\n",
    "df.head()"
   ]
  },
  {
   "cell_type": "code",
   "execution_count": 303,
   "metadata": {},
   "outputs": [
    {
     "data": {
      "text/plain": [
       "(360, 9)"
      ]
     },
     "execution_count": 303,
     "metadata": {},
     "output_type": "execute_result"
    }
   ],
   "source": [
    "df.shape"
   ]
  },
  {
   "cell_type": "code",
   "execution_count": 304,
   "metadata": {},
   "outputs": [
    {
     "data": {
      "text/plain": [
       "Battery                  0\n",
       "Car_name                 0\n",
       "Car_name_link            0\n",
       "Efficiency               0\n",
       "Fast_charge              2\n",
       "Price.DE.               51\n",
       "Range                    0\n",
       "Top_speed                0\n",
       "acceleration..0.100.     0\n",
       "dtype: int64"
      ]
     },
     "execution_count": 304,
     "metadata": {},
     "output_type": "execute_result"
    }
   ],
   "source": [
    "df.isnull().sum()"
   ]
  },
  {
   "cell_type": "code",
   "execution_count": 305,
   "metadata": {},
   "outputs": [],
   "source": [
    "df['Price.DE.'] = df['Price.DE.'].fillna(df['Price.DE.'].mean())"
   ]
  },
  {
   "cell_type": "code",
   "execution_count": 306,
   "metadata": {},
   "outputs": [
    {
     "data": {
      "text/plain": [
       "351"
      ]
     },
     "execution_count": 306,
     "metadata": {},
     "output_type": "execute_result"
    }
   ],
   "source": [
    "df['Car_name'].nunique()"
   ]
  },
  {
   "cell_type": "code",
   "execution_count": 307,
   "metadata": {},
   "outputs": [
    {
     "data": {
      "text/plain": [
       "(360, 9)"
      ]
     },
     "execution_count": 307,
     "metadata": {},
     "output_type": "execute_result"
    }
   ],
   "source": [
    "df.shape"
   ]
  },
  {
   "cell_type": "code",
   "execution_count": 308,
   "metadata": {},
   "outputs": [],
   "source": [
    "df = df.drop('Car_name_link', axis=1)"
   ]
  },
  {
   "cell_type": "code",
   "execution_count": 309,
   "metadata": {},
   "outputs": [
    {
     "data": {
      "text/html": [
       "<div>\n",
       "<style scoped>\n",
       "    .dataframe tbody tr th:only-of-type {\n",
       "        vertical-align: middle;\n",
       "    }\n",
       "\n",
       "    .dataframe tbody tr th {\n",
       "        vertical-align: top;\n",
       "    }\n",
       "\n",
       "    .dataframe thead th {\n",
       "        text-align: right;\n",
       "    }\n",
       "</style>\n",
       "<table border=\"1\" class=\"dataframe\">\n",
       "  <thead>\n",
       "    <tr style=\"text-align: right;\">\n",
       "      <th></th>\n",
       "      <th>Battery</th>\n",
       "      <th>Car_name</th>\n",
       "      <th>Efficiency</th>\n",
       "      <th>Fast_charge</th>\n",
       "      <th>Price.DE.</th>\n",
       "      <th>Range</th>\n",
       "      <th>Top_speed</th>\n",
       "      <th>acceleration..0.100.</th>\n",
       "    </tr>\n",
       "  </thead>\n",
       "  <tbody>\n",
       "    <tr>\n",
       "      <th>0</th>\n",
       "      <td>75.0</td>\n",
       "      <td>Tesla Model Y Long Range Dual Motor</td>\n",
       "      <td>172</td>\n",
       "      <td>670.0</td>\n",
       "      <td>59017.0</td>\n",
       "      <td>435</td>\n",
       "      <td>217</td>\n",
       "      <td>5.0</td>\n",
       "    </tr>\n",
       "    <tr>\n",
       "      <th>1</th>\n",
       "      <td>57.5</td>\n",
       "      <td>Tesla Model 3</td>\n",
       "      <td>137</td>\n",
       "      <td>700.0</td>\n",
       "      <td>46220.0</td>\n",
       "      <td>420</td>\n",
       "      <td>201</td>\n",
       "      <td>6.1</td>\n",
       "    </tr>\n",
       "    <tr>\n",
       "      <th>2</th>\n",
       "      <td>60.5</td>\n",
       "      <td>BYD ATTO 3</td>\n",
       "      <td>183</td>\n",
       "      <td>370.0</td>\n",
       "      <td>44625.0</td>\n",
       "      <td>330</td>\n",
       "      <td>160</td>\n",
       "      <td>7.3</td>\n",
       "    </tr>\n",
       "    <tr>\n",
       "      <th>3</th>\n",
       "      <td>61.7</td>\n",
       "      <td>MG MG4 Electric 64 kWh</td>\n",
       "      <td>171</td>\n",
       "      <td>630.0</td>\n",
       "      <td>39990.0</td>\n",
       "      <td>360</td>\n",
       "      <td>160</td>\n",
       "      <td>7.9</td>\n",
       "    </tr>\n",
       "    <tr>\n",
       "      <th>4</th>\n",
       "      <td>75.0</td>\n",
       "      <td>Tesla Model 3 Long Range Dual Motor</td>\n",
       "      <td>149</td>\n",
       "      <td>780.0</td>\n",
       "      <td>55220.0</td>\n",
       "      <td>505</td>\n",
       "      <td>201</td>\n",
       "      <td>4.4</td>\n",
       "    </tr>\n",
       "  </tbody>\n",
       "</table>\n",
       "</div>"
      ],
      "text/plain": [
       "   Battery                             Car_name  Efficiency  Fast_charge  \\\n",
       "0     75.0  Tesla Model Y Long Range Dual Motor         172        670.0   \n",
       "1     57.5                        Tesla Model 3         137        700.0   \n",
       "2     60.5                           BYD ATTO 3         183        370.0   \n",
       "3     61.7               MG MG4 Electric 64 kWh         171        630.0   \n",
       "4     75.0  Tesla Model 3 Long Range Dual Motor         149        780.0   \n",
       "\n",
       "   Price.DE.  Range  Top_speed  acceleration..0.100.  \n",
       "0    59017.0    435        217                   5.0  \n",
       "1    46220.0    420        201                   6.1  \n",
       "2    44625.0    330        160                   7.3  \n",
       "3    39990.0    360        160                   7.9  \n",
       "4    55220.0    505        201                   4.4  "
      ]
     },
     "execution_count": 309,
     "metadata": {},
     "output_type": "execute_result"
    }
   ],
   "source": [
    "df.head()"
   ]
  },
  {
   "cell_type": "code",
   "execution_count": 310,
   "metadata": {},
   "outputs": [],
   "source": [
    "from sklearn.preprocessing import LabelEncoder"
   ]
  },
  {
   "cell_type": "code",
   "execution_count": 311,
   "metadata": {},
   "outputs": [],
   "source": [
    "enc = LabelEncoder()\n",
    "df['Car_name'] = enc.fit_transform(df['Car_name'])"
   ]
  },
  {
   "cell_type": "code",
   "execution_count": 312,
   "metadata": {},
   "outputs": [
    {
     "data": {
      "text/html": [
       "<div>\n",
       "<style scoped>\n",
       "    .dataframe tbody tr th:only-of-type {\n",
       "        vertical-align: middle;\n",
       "    }\n",
       "\n",
       "    .dataframe tbody tr th {\n",
       "        vertical-align: top;\n",
       "    }\n",
       "\n",
       "    .dataframe thead th {\n",
       "        text-align: right;\n",
       "    }\n",
       "</style>\n",
       "<table border=\"1\" class=\"dataframe\">\n",
       "  <thead>\n",
       "    <tr style=\"text-align: right;\">\n",
       "      <th></th>\n",
       "      <th>Battery</th>\n",
       "      <th>Car_name</th>\n",
       "      <th>Efficiency</th>\n",
       "      <th>Fast_charge</th>\n",
       "      <th>Price.DE.</th>\n",
       "      <th>Range</th>\n",
       "      <th>Top_speed</th>\n",
       "      <th>acceleration..0.100.</th>\n",
       "    </tr>\n",
       "  </thead>\n",
       "  <tbody>\n",
       "    <tr>\n",
       "      <th>0</th>\n",
       "      <td>75.0</td>\n",
       "      <td>301</td>\n",
       "      <td>172</td>\n",
       "      <td>670.0</td>\n",
       "      <td>59017.0</td>\n",
       "      <td>435</td>\n",
       "      <td>217</td>\n",
       "      <td>5.0</td>\n",
       "    </tr>\n",
       "    <tr>\n",
       "      <th>1</th>\n",
       "      <td>57.5</td>\n",
       "      <td>294</td>\n",
       "      <td>137</td>\n",
       "      <td>700.0</td>\n",
       "      <td>46220.0</td>\n",
       "      <td>420</td>\n",
       "      <td>201</td>\n",
       "      <td>6.1</td>\n",
       "    </tr>\n",
       "    <tr>\n",
       "      <th>2</th>\n",
       "      <td>60.5</td>\n",
       "      <td>37</td>\n",
       "      <td>183</td>\n",
       "      <td>370.0</td>\n",
       "      <td>44625.0</td>\n",
       "      <td>330</td>\n",
       "      <td>160</td>\n",
       "      <td>7.3</td>\n",
       "    </tr>\n",
       "    <tr>\n",
       "      <th>3</th>\n",
       "      <td>61.7</td>\n",
       "      <td>131</td>\n",
       "      <td>171</td>\n",
       "      <td>630.0</td>\n",
       "      <td>39990.0</td>\n",
       "      <td>360</td>\n",
       "      <td>160</td>\n",
       "      <td>7.9</td>\n",
       "    </tr>\n",
       "    <tr>\n",
       "      <th>4</th>\n",
       "      <td>75.0</td>\n",
       "      <td>295</td>\n",
       "      <td>149</td>\n",
       "      <td>780.0</td>\n",
       "      <td>55220.0</td>\n",
       "      <td>505</td>\n",
       "      <td>201</td>\n",
       "      <td>4.4</td>\n",
       "    </tr>\n",
       "  </tbody>\n",
       "</table>\n",
       "</div>"
      ],
      "text/plain": [
       "   Battery  Car_name  Efficiency  Fast_charge  Price.DE.  Range  Top_speed  \\\n",
       "0     75.0       301         172        670.0    59017.0    435        217   \n",
       "1     57.5       294         137        700.0    46220.0    420        201   \n",
       "2     60.5        37         183        370.0    44625.0    330        160   \n",
       "3     61.7       131         171        630.0    39990.0    360        160   \n",
       "4     75.0       295         149        780.0    55220.0    505        201   \n",
       "\n",
       "   acceleration..0.100.  \n",
       "0                   5.0  \n",
       "1                   6.1  \n",
       "2                   7.3  \n",
       "3                   7.9  \n",
       "4                   4.4  "
      ]
     },
     "execution_count": 312,
     "metadata": {},
     "output_type": "execute_result"
    }
   ],
   "source": [
    "df.head()"
   ]
  },
  {
   "cell_type": "code",
   "execution_count": 313,
   "metadata": {},
   "outputs": [
    {
     "data": {
      "text/plain": [
       "2"
      ]
     },
     "execution_count": 313,
     "metadata": {},
     "output_type": "execute_result"
    }
   ],
   "source": [
    "df.isnull().sum().sum()"
   ]
  },
  {
   "cell_type": "code",
   "execution_count": 314,
   "metadata": {},
   "outputs": [
    {
     "data": {
      "text/plain": [
       "Battery                 0\n",
       "Car_name                0\n",
       "Efficiency              0\n",
       "Fast_charge             2\n",
       "Price.DE.               0\n",
       "Range                   0\n",
       "Top_speed               0\n",
       "acceleration..0.100.    0\n",
       "dtype: int64"
      ]
     },
     "execution_count": 314,
     "metadata": {},
     "output_type": "execute_result"
    }
   ],
   "source": [
    "df.isnull().sum()"
   ]
  },
  {
   "cell_type": "code",
   "execution_count": 315,
   "metadata": {},
   "outputs": [
    {
     "data": {
      "text/html": [
       "<div>\n",
       "<style scoped>\n",
       "    .dataframe tbody tr th:only-of-type {\n",
       "        vertical-align: middle;\n",
       "    }\n",
       "\n",
       "    .dataframe tbody tr th {\n",
       "        vertical-align: top;\n",
       "    }\n",
       "\n",
       "    .dataframe thead th {\n",
       "        text-align: right;\n",
       "    }\n",
       "</style>\n",
       "<table border=\"1\" class=\"dataframe\">\n",
       "  <thead>\n",
       "    <tr style=\"text-align: right;\">\n",
       "      <th></th>\n",
       "      <th>Battery</th>\n",
       "      <th>Car_name</th>\n",
       "      <th>Efficiency</th>\n",
       "      <th>Fast_charge</th>\n",
       "      <th>Price.DE.</th>\n",
       "      <th>Range</th>\n",
       "      <th>Top_speed</th>\n",
       "      <th>acceleration..0.100.</th>\n",
       "    </tr>\n",
       "  </thead>\n",
       "  <tbody>\n",
       "    <tr>\n",
       "      <th>0</th>\n",
       "      <td>75.0</td>\n",
       "      <td>301</td>\n",
       "      <td>172</td>\n",
       "      <td>670.0</td>\n",
       "      <td>59017.0</td>\n",
       "      <td>435</td>\n",
       "      <td>217</td>\n",
       "      <td>5.0</td>\n",
       "    </tr>\n",
       "    <tr>\n",
       "      <th>1</th>\n",
       "      <td>57.5</td>\n",
       "      <td>294</td>\n",
       "      <td>137</td>\n",
       "      <td>700.0</td>\n",
       "      <td>46220.0</td>\n",
       "      <td>420</td>\n",
       "      <td>201</td>\n",
       "      <td>6.1</td>\n",
       "    </tr>\n",
       "    <tr>\n",
       "      <th>2</th>\n",
       "      <td>60.5</td>\n",
       "      <td>37</td>\n",
       "      <td>183</td>\n",
       "      <td>370.0</td>\n",
       "      <td>44625.0</td>\n",
       "      <td>330</td>\n",
       "      <td>160</td>\n",
       "      <td>7.3</td>\n",
       "    </tr>\n",
       "    <tr>\n",
       "      <th>3</th>\n",
       "      <td>61.7</td>\n",
       "      <td>131</td>\n",
       "      <td>171</td>\n",
       "      <td>630.0</td>\n",
       "      <td>39990.0</td>\n",
       "      <td>360</td>\n",
       "      <td>160</td>\n",
       "      <td>7.9</td>\n",
       "    </tr>\n",
       "    <tr>\n",
       "      <th>4</th>\n",
       "      <td>75.0</td>\n",
       "      <td>295</td>\n",
       "      <td>149</td>\n",
       "      <td>780.0</td>\n",
       "      <td>55220.0</td>\n",
       "      <td>505</td>\n",
       "      <td>201</td>\n",
       "      <td>4.4</td>\n",
       "    </tr>\n",
       "  </tbody>\n",
       "</table>\n",
       "</div>"
      ],
      "text/plain": [
       "   Battery  Car_name  Efficiency  Fast_charge  Price.DE.  Range  Top_speed  \\\n",
       "0     75.0       301         172        670.0    59017.0    435        217   \n",
       "1     57.5       294         137        700.0    46220.0    420        201   \n",
       "2     60.5        37         183        370.0    44625.0    330        160   \n",
       "3     61.7       131         171        630.0    39990.0    360        160   \n",
       "4     75.0       295         149        780.0    55220.0    505        201   \n",
       "\n",
       "   acceleration..0.100.  \n",
       "0                   5.0  \n",
       "1                   6.1  \n",
       "2                   7.3  \n",
       "3                   7.9  \n",
       "4                   4.4  "
      ]
     },
     "execution_count": 315,
     "metadata": {},
     "output_type": "execute_result"
    }
   ],
   "source": [
    "df.head()"
   ]
  },
  {
   "cell_type": "code",
   "execution_count": 316,
   "metadata": {},
   "outputs": [],
   "source": [
    "df['Fast_charge'] = df['Fast_charge'].fillna(df['Fast_charge'].mean())"
   ]
  },
  {
   "cell_type": "code",
   "execution_count": 317,
   "metadata": {},
   "outputs": [
    {
     "data": {
      "text/plain": [
       "Battery                 0\n",
       "Car_name                0\n",
       "Efficiency              0\n",
       "Fast_charge             0\n",
       "Price.DE.               0\n",
       "Range                   0\n",
       "Top_speed               0\n",
       "acceleration..0.100.    0\n",
       "dtype: int64"
      ]
     },
     "execution_count": 317,
     "metadata": {},
     "output_type": "execute_result"
    }
   ],
   "source": [
    "df.isnull().sum()"
   ]
  },
  {
   "cell_type": "code",
   "execution_count": 318,
   "metadata": {},
   "outputs": [
    {
     "data": {
      "text/plain": [
       "(360, 8)"
      ]
     },
     "execution_count": 318,
     "metadata": {},
     "output_type": "execute_result"
    }
   ],
   "source": [
    "df.shape"
   ]
  },
  {
   "cell_type": "code",
   "execution_count": 319,
   "metadata": {},
   "outputs": [],
   "source": [
    "X = df.drop('acceleration..0.100.', axis=1)\n",
    "y = df['acceleration..0.100.']"
   ]
  },
  {
   "cell_type": "code",
   "execution_count": 320,
   "metadata": {},
   "outputs": [],
   "source": [
    "cols = X.columns"
   ]
  },
  {
   "cell_type": "code",
   "execution_count": 321,
   "metadata": {},
   "outputs": [],
   "source": [
    "from sklearn.preprocessing import MinMaxScaler"
   ]
  },
  {
   "cell_type": "code",
   "execution_count": 322,
   "metadata": {},
   "outputs": [
    {
     "data": {
      "text/html": [
       "<div>\n",
       "<style scoped>\n",
       "    .dataframe tbody tr th:only-of-type {\n",
       "        vertical-align: middle;\n",
       "    }\n",
       "\n",
       "    .dataframe tbody tr th {\n",
       "        vertical-align: top;\n",
       "    }\n",
       "\n",
       "    .dataframe thead th {\n",
       "        text-align: right;\n",
       "    }\n",
       "</style>\n",
       "<table border=\"1\" class=\"dataframe\">\n",
       "  <thead>\n",
       "    <tr style=\"text-align: right;\">\n",
       "      <th></th>\n",
       "      <th>Battery</th>\n",
       "      <th>Car_name</th>\n",
       "      <th>Efficiency</th>\n",
       "      <th>Fast_charge</th>\n",
       "      <th>Price.DE.</th>\n",
       "      <th>Range</th>\n",
       "      <th>Top_speed</th>\n",
       "    </tr>\n",
       "  </thead>\n",
       "  <tbody>\n",
       "    <tr>\n",
       "      <th>0</th>\n",
       "      <td>0.528024</td>\n",
       "      <td>0.860000</td>\n",
       "      <td>0.221519</td>\n",
       "      <td>0.446429</td>\n",
       "      <td>0.186580</td>\n",
       "      <td>0.545455</td>\n",
       "      <td>0.471795</td>\n",
       "    </tr>\n",
       "    <tr>\n",
       "      <th>1</th>\n",
       "      <td>0.355949</td>\n",
       "      <td>0.840000</td>\n",
       "      <td>0.000000</td>\n",
       "      <td>0.473214</td>\n",
       "      <td>0.121105</td>\n",
       "      <td>0.518182</td>\n",
       "      <td>0.389744</td>\n",
       "    </tr>\n",
       "    <tr>\n",
       "      <th>2</th>\n",
       "      <td>0.385447</td>\n",
       "      <td>0.105714</td>\n",
       "      <td>0.291139</td>\n",
       "      <td>0.178571</td>\n",
       "      <td>0.112944</td>\n",
       "      <td>0.354545</td>\n",
       "      <td>0.179487</td>\n",
       "    </tr>\n",
       "    <tr>\n",
       "      <th>3</th>\n",
       "      <td>0.397247</td>\n",
       "      <td>0.374286</td>\n",
       "      <td>0.215190</td>\n",
       "      <td>0.410714</td>\n",
       "      <td>0.089230</td>\n",
       "      <td>0.409091</td>\n",
       "      <td>0.179487</td>\n",
       "    </tr>\n",
       "    <tr>\n",
       "      <th>4</th>\n",
       "      <td>0.528024</td>\n",
       "      <td>0.842857</td>\n",
       "      <td>0.075949</td>\n",
       "      <td>0.544643</td>\n",
       "      <td>0.167153</td>\n",
       "      <td>0.672727</td>\n",
       "      <td>0.389744</td>\n",
       "    </tr>\n",
       "  </tbody>\n",
       "</table>\n",
       "</div>"
      ],
      "text/plain": [
       "    Battery  Car_name  Efficiency  Fast_charge  Price.DE.     Range  Top_speed\n",
       "0  0.528024  0.860000    0.221519     0.446429   0.186580  0.545455   0.471795\n",
       "1  0.355949  0.840000    0.000000     0.473214   0.121105  0.518182   0.389744\n",
       "2  0.385447  0.105714    0.291139     0.178571   0.112944  0.354545   0.179487\n",
       "3  0.397247  0.374286    0.215190     0.410714   0.089230  0.409091   0.179487\n",
       "4  0.528024  0.842857    0.075949     0.544643   0.167153  0.672727   0.389744"
      ]
     },
     "execution_count": 322,
     "metadata": {},
     "output_type": "execute_result"
    }
   ],
   "source": [
    "scaler = MinMaxScaler((0, 1))\n",
    "X = scaler.fit_transform(X)\n",
    "X = pd.DataFrame(X, columns=cols)\n",
    "X.head()"
   ]
  },
  {
   "cell_type": "code",
   "execution_count": 323,
   "metadata": {},
   "outputs": [],
   "source": [
    "from sklearn.utils import shuffle"
   ]
  },
  {
   "cell_type": "code",
   "execution_count": 324,
   "metadata": {},
   "outputs": [],
   "source": [
    "X, y = shuffle(X, y)"
   ]
  },
  {
   "cell_type": "code",
   "execution_count": 325,
   "metadata": {},
   "outputs": [],
   "source": [
    "from sklearn.model_selection import train_test_split"
   ]
  },
  {
   "cell_type": "code",
   "execution_count": 326,
   "metadata": {},
   "outputs": [],
   "source": [
    "X_train, X_test, y_train, y_test = train_test_split(X, y, test_size=0.2)"
   ]
  },
  {
   "cell_type": "code",
   "execution_count": 327,
   "metadata": {},
   "outputs": [
    {
     "name": "stdout",
     "output_type": "stream",
     "text": [
      "(288, 7) ------------------------------------------------------------ (288,)\n",
      "============================================================\n",
      "(72, 7) ------------------------------------------------------------ (72,)\n"
     ]
    }
   ],
   "source": [
    "print(X_train.shape, '-' * 60, y_train.shape)\n",
    "print('=' * 60)\n",
    "print(X_test.shape, '-' * 60, y_test.shape)"
   ]
  },
  {
   "cell_type": "code",
   "execution_count": 328,
   "metadata": {},
   "outputs": [],
   "source": [
    "inp_shape = [X.shape[1]]"
   ]
  },
  {
   "cell_type": "code",
   "execution_count": 329,
   "metadata": {},
   "outputs": [],
   "source": [
    "from tensorflow import keras\n",
    "from tensorflow.keras import layers\n",
    "from tensorflow.keras.models import Sequential"
   ]
  },
  {
   "cell_type": "code",
   "execution_count": 330,
   "metadata": {},
   "outputs": [],
   "source": [
    "model = Sequential([\n",
    "    layers.Dense(units=10, activation='relu', input_shape=inp_shape),\n",
    "    layers.Dropout(0.2),\n",
    "    layers.Dense(units=12, activation='relu'),\n",
    "    layers.Dropout(0.2),\n",
    "    layers.Dense(units=1, activation='relu')\n",
    "])"
   ]
  },
  {
   "cell_type": "code",
   "execution_count": 331,
   "metadata": {},
   "outputs": [],
   "source": [
    "model.compile(\n",
    "    optimizer=keras.optimizers.Adam(learning_rate=0.01),\n",
    "    loss='msle'\n",
    ")"
   ]
  },
  {
   "cell_type": "code",
   "execution_count": 332,
   "metadata": {},
   "outputs": [
    {
     "name": "stdout",
     "output_type": "stream",
     "text": [
      "Epoch 1/150\n"
     ]
    },
    {
     "name": "stdout",
     "output_type": "stream",
     "text": [
      "1/1 - 1s - loss: 2.6331 - val_loss: 2.3486 - 587ms/epoch - 587ms/step\n",
      "Epoch 2/150\n",
      "1/1 - 0s - loss: 2.2621 - val_loss: 2.0762 - 27ms/epoch - 27ms/step\n",
      "Epoch 3/150\n",
      "1/1 - 0s - loss: 2.0338 - val_loss: 1.8282 - 28ms/epoch - 28ms/step\n",
      "Epoch 4/150\n",
      "1/1 - 0s - loss: 1.8665 - val_loss: 1.5979 - 22ms/epoch - 22ms/step\n",
      "Epoch 5/150\n",
      "1/1 - 0s - loss: 1.6038 - val_loss: 1.3814 - 24ms/epoch - 24ms/step\n",
      "Epoch 6/150\n",
      "1/1 - 0s - loss: 1.4266 - val_loss: 1.1818 - 21ms/epoch - 21ms/step\n",
      "Epoch 7/150\n",
      "1/1 - 0s - loss: 1.2416 - val_loss: 1.0036 - 22ms/epoch - 22ms/step\n",
      "Epoch 8/150\n",
      "1/1 - 0s - loss: 1.1037 - val_loss: 0.8474 - 20ms/epoch - 20ms/step\n",
      "Epoch 9/150\n",
      "1/1 - 0s - loss: 0.8944 - val_loss: 0.7126 - 21ms/epoch - 21ms/step\n",
      "Epoch 10/150\n",
      "1/1 - 0s - loss: 0.7981 - val_loss: 0.5984 - 21ms/epoch - 21ms/step\n",
      "Epoch 11/150\n",
      "1/1 - 0s - loss: 0.5999 - val_loss: 0.5037 - 21ms/epoch - 21ms/step\n",
      "Epoch 12/150\n",
      "1/1 - 0s - loss: 0.6218 - val_loss: 0.4265 - 21ms/epoch - 21ms/step\n",
      "Epoch 13/150\n",
      "1/1 - 0s - loss: 0.4452 - val_loss: 0.3666 - 21ms/epoch - 21ms/step\n",
      "Epoch 14/150\n",
      "1/1 - 0s - loss: 0.4590 - val_loss: 0.3218 - 24ms/epoch - 24ms/step\n",
      "Epoch 15/150\n",
      "1/1 - 0s - loss: 0.3846 - val_loss: 0.2904 - 21ms/epoch - 21ms/step\n",
      "Epoch 16/150\n",
      "1/1 - 0s - loss: 0.3866 - val_loss: 0.2708 - 26ms/epoch - 26ms/step\n",
      "Epoch 17/150\n",
      "1/1 - 0s - loss: 0.3717 - val_loss: 0.2608 - 20ms/epoch - 20ms/step\n",
      "Epoch 18/150\n",
      "1/1 - 0s - loss: 0.3711 - val_loss: 0.2588 - 22ms/epoch - 22ms/step\n",
      "Epoch 19/150\n",
      "1/1 - 0s - loss: 0.3175 - val_loss: 0.2624 - 21ms/epoch - 21ms/step\n",
      "Epoch 20/150\n",
      "1/1 - 0s - loss: 0.3540 - val_loss: 0.2693 - 20ms/epoch - 20ms/step\n",
      "Epoch 21/150\n",
      "1/1 - 0s - loss: 0.3663 - val_loss: 0.2774 - 21ms/epoch - 21ms/step\n",
      "Epoch 22/150\n",
      "1/1 - 0s - loss: 0.3721 - val_loss: 0.2851 - 21ms/epoch - 21ms/step\n",
      "Epoch 23/150\n",
      "1/1 - 0s - loss: 0.3865 - val_loss: 0.2912 - 22ms/epoch - 22ms/step\n",
      "Epoch 24/150\n",
      "1/1 - 0s - loss: 0.4115 - val_loss: 0.2949 - 21ms/epoch - 21ms/step\n",
      "Epoch 25/150\n",
      "1/1 - 0s - loss: 0.3760 - val_loss: 0.2962 - 21ms/epoch - 21ms/step\n",
      "Epoch 26/150\n",
      "1/1 - 0s - loss: 0.3574 - val_loss: 0.2952 - 22ms/epoch - 22ms/step\n",
      "Epoch 27/150\n",
      "1/1 - 0s - loss: 0.3982 - val_loss: 0.2919 - 22ms/epoch - 22ms/step\n",
      "Epoch 28/150\n",
      "1/1 - 0s - loss: 0.3790 - val_loss: 0.2866 - 20ms/epoch - 20ms/step\n",
      "Epoch 29/150\n",
      "1/1 - 0s - loss: 0.3757 - val_loss: 0.2803 - 22ms/epoch - 22ms/step\n",
      "Epoch 30/150\n",
      "1/1 - 0s - loss: 0.3995 - val_loss: 0.2731 - 23ms/epoch - 23ms/step\n",
      "Epoch 31/150\n",
      "1/1 - 0s - loss: 0.3543 - val_loss: 0.2656 - 21ms/epoch - 21ms/step\n",
      "Epoch 32/150\n",
      "1/1 - 0s - loss: 0.3348 - val_loss: 0.2583 - 21ms/epoch - 21ms/step\n",
      "Epoch 33/150\n",
      "1/1 - 0s - loss: 0.3449 - val_loss: 0.2510 - 25ms/epoch - 25ms/step\n",
      "Epoch 34/150\n",
      "1/1 - 0s - loss: 0.3494 - val_loss: 0.2441 - 21ms/epoch - 21ms/step\n",
      "Epoch 35/150\n",
      "1/1 - 0s - loss: 0.3229 - val_loss: 0.2377 - 21ms/epoch - 21ms/step\n",
      "Epoch 36/150\n",
      "1/1 - 0s - loss: 0.2935 - val_loss: 0.2322 - 21ms/epoch - 21ms/step\n",
      "Epoch 37/150\n",
      "1/1 - 0s - loss: 0.2765 - val_loss: 0.2274 - 21ms/epoch - 21ms/step\n",
      "Epoch 38/150\n",
      "1/1 - 0s - loss: 0.3143 - val_loss: 0.2233 - 22ms/epoch - 22ms/step\n",
      "Epoch 39/150\n",
      "1/1 - 0s - loss: 0.3026 - val_loss: 0.2198 - 21ms/epoch - 21ms/step\n",
      "Epoch 40/150\n",
      "1/1 - 0s - loss: 0.2900 - val_loss: 0.2169 - 21ms/epoch - 21ms/step\n",
      "Epoch 41/150\n",
      "1/1 - 0s - loss: 0.3115 - val_loss: 0.2144 - 21ms/epoch - 21ms/step\n",
      "Epoch 42/150\n",
      "1/1 - 0s - loss: 0.3011 - val_loss: 0.2122 - 21ms/epoch - 21ms/step\n",
      "Epoch 43/150\n",
      "1/1 - 0s - loss: 0.2694 - val_loss: 0.2102 - 26ms/epoch - 26ms/step\n",
      "Epoch 44/150\n",
      "1/1 - 0s - loss: 0.2674 - val_loss: 0.2080 - 22ms/epoch - 22ms/step\n",
      "Epoch 45/150\n",
      "1/1 - 0s - loss: 0.3039 - val_loss: 0.2054 - 21ms/epoch - 21ms/step\n",
      "Epoch 46/150\n",
      "1/1 - 0s - loss: 0.2790 - val_loss: 0.2023 - 21ms/epoch - 21ms/step\n",
      "Epoch 47/150\n",
      "1/1 - 0s - loss: 0.2714 - val_loss: 0.1986 - 23ms/epoch - 23ms/step\n",
      "Epoch 48/150\n",
      "1/1 - 0s - loss: 0.2917 - val_loss: 0.1943 - 20ms/epoch - 20ms/step\n",
      "Epoch 49/150\n",
      "1/1 - 0s - loss: 0.2858 - val_loss: 0.1896 - 22ms/epoch - 22ms/step\n",
      "Epoch 50/150\n",
      "1/1 - 0s - loss: 0.2723 - val_loss: 0.1849 - 21ms/epoch - 21ms/step\n",
      "Epoch 51/150\n",
      "1/1 - 0s - loss: 0.2370 - val_loss: 0.1801 - 22ms/epoch - 22ms/step\n",
      "Epoch 52/150\n",
      "1/1 - 0s - loss: 0.2367 - val_loss: 0.1754 - 21ms/epoch - 21ms/step\n",
      "Epoch 53/150\n",
      "1/1 - 0s - loss: 0.2356 - val_loss: 0.1707 - 21ms/epoch - 21ms/step\n",
      "Epoch 54/150\n",
      "1/1 - 0s - loss: 0.2560 - val_loss: 0.1661 - 20ms/epoch - 20ms/step\n",
      "Epoch 55/150\n",
      "1/1 - 0s - loss: 0.2357 - val_loss: 0.1615 - 22ms/epoch - 22ms/step\n",
      "Epoch 56/150\n",
      "1/1 - 0s - loss: 0.2095 - val_loss: 0.1571 - 22ms/epoch - 22ms/step\n",
      "Epoch 57/150\n",
      "1/1 - 0s - loss: 0.2107 - val_loss: 0.1528 - 21ms/epoch - 21ms/step\n",
      "Epoch 58/150\n",
      "1/1 - 0s - loss: 0.2071 - val_loss: 0.1488 - 22ms/epoch - 22ms/step\n",
      "Epoch 59/150\n",
      "1/1 - 0s - loss: 0.2037 - val_loss: 0.1449 - 22ms/epoch - 22ms/step\n",
      "Epoch 60/150\n",
      "1/1 - 0s - loss: 0.2062 - val_loss: 0.1410 - 21ms/epoch - 21ms/step\n",
      "Epoch 61/150\n",
      "1/1 - 0s - loss: 0.2130 - val_loss: 0.1372 - 23ms/epoch - 23ms/step\n",
      "Epoch 62/150\n",
      "1/1 - 0s - loss: 0.1808 - val_loss: 0.1333 - 22ms/epoch - 22ms/step\n",
      "Epoch 63/150\n",
      "1/1 - 0s - loss: 0.2047 - val_loss: 0.1294 - 21ms/epoch - 21ms/step\n",
      "Epoch 64/150\n",
      "1/1 - 0s - loss: 0.2090 - val_loss: 0.1253 - 21ms/epoch - 21ms/step\n",
      "Epoch 65/150\n",
      "1/1 - 0s - loss: 0.1927 - val_loss: 0.1212 - 22ms/epoch - 22ms/step\n",
      "Epoch 66/150\n",
      "1/1 - 0s - loss: 0.2015 - val_loss: 0.1171 - 29ms/epoch - 29ms/step\n",
      "Epoch 67/150\n",
      "1/1 - 0s - loss: 0.1901 - val_loss: 0.1129 - 25ms/epoch - 25ms/step\n",
      "Epoch 68/150\n",
      "1/1 - 0s - loss: 0.1610 - val_loss: 0.1088 - 22ms/epoch - 22ms/step\n",
      "Epoch 69/150\n",
      "1/1 - 0s - loss: 0.1650 - val_loss: 0.1047 - 22ms/epoch - 22ms/step\n",
      "Epoch 70/150\n",
      "1/1 - 0s - loss: 0.1581 - val_loss: 0.1008 - 21ms/epoch - 21ms/step\n",
      "Epoch 71/150\n",
      "1/1 - 0s - loss: 0.1619 - val_loss: 0.0970 - 22ms/epoch - 22ms/step\n",
      "Epoch 72/150\n",
      "1/1 - 0s - loss: 0.1375 - val_loss: 0.0934 - 21ms/epoch - 21ms/step\n",
      "Epoch 73/150\n",
      "1/1 - 0s - loss: 0.1611 - val_loss: 0.0900 - 22ms/epoch - 22ms/step\n",
      "Epoch 74/150\n",
      "1/1 - 0s - loss: 0.1563 - val_loss: 0.0868 - 22ms/epoch - 22ms/step\n",
      "Epoch 75/150\n",
      "1/1 - 0s - loss: 0.1231 - val_loss: 0.0836 - 23ms/epoch - 23ms/step\n",
      "Epoch 76/150\n",
      "1/1 - 0s - loss: 0.1243 - val_loss: 0.0806 - 22ms/epoch - 22ms/step\n",
      "Epoch 77/150\n",
      "1/1 - 0s - loss: 0.1423 - val_loss: 0.0776 - 22ms/epoch - 22ms/step\n",
      "Epoch 78/150\n",
      "1/1 - 0s - loss: 0.1400 - val_loss: 0.0748 - 21ms/epoch - 21ms/step\n",
      "Epoch 79/150\n",
      "1/1 - 0s - loss: 0.1481 - val_loss: 0.0720 - 23ms/epoch - 23ms/step\n",
      "Epoch 80/150\n",
      "1/1 - 0s - loss: 0.1327 - val_loss: 0.0694 - 22ms/epoch - 22ms/step\n",
      "Epoch 81/150\n",
      "1/1 - 0s - loss: 0.1415 - val_loss: 0.0668 - 23ms/epoch - 23ms/step\n",
      "Epoch 82/150\n",
      "1/1 - 0s - loss: 0.1345 - val_loss: 0.0646 - 23ms/epoch - 23ms/step\n",
      "Epoch 83/150\n",
      "1/1 - 0s - loss: 0.1091 - val_loss: 0.0624 - 22ms/epoch - 22ms/step\n",
      "Epoch 84/150\n",
      "1/1 - 0s - loss: 0.1198 - val_loss: 0.0604 - 21ms/epoch - 21ms/step\n",
      "Epoch 85/150\n",
      "1/1 - 0s - loss: 0.1213 - val_loss: 0.0586 - 20ms/epoch - 20ms/step\n",
      "Epoch 86/150\n",
      "1/1 - 0s - loss: 0.1270 - val_loss: 0.0571 - 22ms/epoch - 22ms/step\n",
      "Epoch 87/150\n",
      "1/1 - 0s - loss: 0.1095 - val_loss: 0.0556 - 23ms/epoch - 23ms/step\n",
      "Epoch 88/150\n",
      "1/1 - 0s - loss: 0.1171 - val_loss: 0.0541 - 22ms/epoch - 22ms/step\n",
      "Epoch 89/150\n",
      "1/1 - 0s - loss: 0.1040 - val_loss: 0.0527 - 21ms/epoch - 21ms/step\n",
      "Epoch 90/150\n",
      "1/1 - 0s - loss: 0.1001 - val_loss: 0.0515 - 23ms/epoch - 23ms/step\n",
      "Epoch 91/150\n",
      "1/1 - 0s - loss: 0.1157 - val_loss: 0.0504 - 21ms/epoch - 21ms/step\n",
      "Epoch 92/150\n",
      "1/1 - 0s - loss: 0.1152 - val_loss: 0.0492 - 22ms/epoch - 22ms/step\n",
      "Epoch 93/150\n",
      "1/1 - 0s - loss: 0.1028 - val_loss: 0.0482 - 21ms/epoch - 21ms/step\n",
      "Epoch 94/150\n",
      "1/1 - 0s - loss: 0.1094 - val_loss: 0.0472 - 21ms/epoch - 21ms/step\n",
      "Epoch 95/150\n",
      "1/1 - 0s - loss: 0.1088 - val_loss: 0.0462 - 22ms/epoch - 22ms/step\n",
      "Epoch 96/150\n",
      "1/1 - 0s - loss: 0.1046 - val_loss: 0.0452 - 21ms/epoch - 21ms/step\n",
      "Epoch 97/150\n",
      "1/1 - 0s - loss: 0.1141 - val_loss: 0.0442 - 21ms/epoch - 21ms/step\n",
      "Epoch 98/150\n",
      "1/1 - 0s - loss: 0.1119 - val_loss: 0.0432 - 21ms/epoch - 21ms/step\n",
      "Epoch 99/150\n",
      "1/1 - 0s - loss: 0.0911 - val_loss: 0.0423 - 22ms/epoch - 22ms/step\n",
      "Epoch 100/150\n",
      "1/1 - 0s - loss: 0.0959 - val_loss: 0.0415 - 21ms/epoch - 21ms/step\n",
      "Epoch 101/150\n",
      "1/1 - 0s - loss: 0.0848 - val_loss: 0.0406 - 21ms/epoch - 21ms/step\n",
      "Epoch 102/150\n",
      "1/1 - 0s - loss: 0.0920 - val_loss: 0.0397 - 23ms/epoch - 23ms/step\n",
      "Epoch 103/150\n",
      "1/1 - 0s - loss: 0.0973 - val_loss: 0.0389 - 21ms/epoch - 21ms/step\n",
      "Epoch 104/150\n",
      "1/1 - 0s - loss: 0.0862 - val_loss: 0.0381 - 32ms/epoch - 32ms/step\n",
      "Epoch 105/150\n",
      "1/1 - 0s - loss: 0.0894 - val_loss: 0.0374 - 22ms/epoch - 22ms/step\n",
      "Epoch 106/150\n",
      "1/1 - 0s - loss: 0.0847 - val_loss: 0.0366 - 21ms/epoch - 21ms/step\n",
      "Epoch 107/150\n",
      "1/1 - 0s - loss: 0.1023 - val_loss: 0.0359 - 20ms/epoch - 20ms/step\n",
      "Epoch 108/150\n",
      "1/1 - 0s - loss: 0.0870 - val_loss: 0.0351 - 21ms/epoch - 21ms/step\n",
      "Epoch 109/150\n",
      "1/1 - 0s - loss: 0.0896 - val_loss: 0.0345 - 20ms/epoch - 20ms/step\n",
      "Epoch 110/150\n",
      "1/1 - 0s - loss: 0.0821 - val_loss: 0.0339 - 20ms/epoch - 20ms/step\n",
      "Epoch 111/150\n",
      "1/1 - 0s - loss: 0.0829 - val_loss: 0.0333 - 24ms/epoch - 24ms/step\n",
      "Epoch 112/150\n",
      "1/1 - 0s - loss: 0.0855 - val_loss: 0.0327 - 21ms/epoch - 21ms/step\n",
      "Epoch 113/150\n",
      "1/1 - 0s - loss: 0.0817 - val_loss: 0.0321 - 22ms/epoch - 22ms/step\n",
      "Epoch 114/150\n",
      "1/1 - 0s - loss: 0.0798 - val_loss: 0.0315 - 22ms/epoch - 22ms/step\n",
      "Epoch 115/150\n",
      "1/1 - 0s - loss: 0.0887 - val_loss: 0.0310 - 21ms/epoch - 21ms/step\n",
      "Epoch 116/150\n",
      "1/1 - 0s - loss: 0.0843 - val_loss: 0.0306 - 21ms/epoch - 21ms/step\n",
      "Epoch 117/150\n",
      "1/1 - 0s - loss: 0.0814 - val_loss: 0.0303 - 21ms/epoch - 21ms/step\n",
      "Epoch 118/150\n",
      "1/1 - 0s - loss: 0.0710 - val_loss: 0.0299 - 21ms/epoch - 21ms/step\n",
      "Epoch 119/150\n",
      "1/1 - 0s - loss: 0.0890 - val_loss: 0.0298 - 21ms/epoch - 21ms/step\n",
      "Epoch 120/150\n",
      "1/1 - 0s - loss: 0.0819 - val_loss: 0.0297 - 23ms/epoch - 23ms/step\n",
      "Epoch 121/150\n",
      "1/1 - 0s - loss: 0.0720 - val_loss: 0.0296 - 23ms/epoch - 23ms/step\n",
      "Epoch 122/150\n",
      "1/1 - 0s - loss: 0.0822 - val_loss: 0.0295 - 22ms/epoch - 22ms/step\n",
      "Epoch 123/150\n",
      "1/1 - 0s - loss: 0.0741 - val_loss: 0.0293 - 21ms/epoch - 21ms/step\n",
      "Epoch 124/150\n",
      "1/1 - 0s - loss: 0.0885 - val_loss: 0.0290 - 22ms/epoch - 22ms/step\n",
      "Epoch 125/150\n",
      "1/1 - 0s - loss: 0.0825 - val_loss: 0.0286 - 22ms/epoch - 22ms/step\n",
      "Epoch 126/150\n",
      "1/1 - 0s - loss: 0.0741 - val_loss: 0.0281 - 21ms/epoch - 21ms/step\n",
      "Epoch 127/150\n",
      "1/1 - 0s - loss: 0.0773 - val_loss: 0.0278 - 22ms/epoch - 22ms/step\n",
      "Epoch 128/150\n",
      "1/1 - 0s - loss: 0.0764 - val_loss: 0.0275 - 24ms/epoch - 24ms/step\n",
      "Epoch 129/150\n",
      "1/1 - 0s - loss: 0.0593 - val_loss: 0.0275 - 21ms/epoch - 21ms/step\n",
      "Epoch 130/150\n",
      "1/1 - 0s - loss: 0.0845 - val_loss: 0.0272 - 22ms/epoch - 22ms/step\n",
      "Epoch 131/150\n",
      "1/1 - 0s - loss: 0.0742 - val_loss: 0.0270 - 22ms/epoch - 22ms/step\n",
      "Epoch 132/150\n",
      "1/1 - 0s - loss: 0.0709 - val_loss: 0.0269 - 21ms/epoch - 21ms/step\n",
      "Epoch 133/150\n",
      "1/1 - 0s - loss: 0.0809 - val_loss: 0.0269 - 20ms/epoch - 20ms/step\n",
      "Epoch 134/150\n",
      "1/1 - 0s - loss: 0.0674 - val_loss: 0.0270 - 22ms/epoch - 22ms/step\n",
      "Epoch 135/150\n",
      "1/1 - 0s - loss: 0.0803 - val_loss: 0.0270 - 21ms/epoch - 21ms/step\n",
      "Epoch 136/150\n",
      "1/1 - 0s - loss: 0.0608 - val_loss: 0.0270 - 20ms/epoch - 20ms/step\n",
      "Epoch 137/150\n",
      "1/1 - 0s - loss: 0.0783 - val_loss: 0.0271 - 21ms/epoch - 21ms/step\n",
      "Epoch 138/150\n",
      "1/1 - 0s - loss: 0.0672 - val_loss: 0.0271 - 21ms/epoch - 21ms/step\n",
      "Epoch 139/150\n",
      "1/1 - 0s - loss: 0.0793 - val_loss: 0.0271 - 21ms/epoch - 21ms/step\n",
      "Epoch 140/150\n",
      "1/1 - 0s - loss: 0.0590 - val_loss: 0.0271 - 22ms/epoch - 22ms/step\n",
      "Epoch 141/150\n",
      "1/1 - 0s - loss: 0.0705 - val_loss: 0.0270 - 23ms/epoch - 23ms/step\n",
      "Epoch 142/150\n",
      "1/1 - 0s - loss: 0.0683 - val_loss: 0.0270 - 32ms/epoch - 32ms/step\n",
      "Epoch 143/150\n",
      "1/1 - 0s - loss: 0.0758 - val_loss: 0.0270 - 22ms/epoch - 22ms/step\n",
      "Epoch 144/150\n",
      "1/1 - 0s - loss: 0.0747 - val_loss: 0.0270 - 21ms/epoch - 21ms/step\n",
      "Epoch 145/150\n",
      "1/1 - 0s - loss: 0.0619 - val_loss: 0.0269 - 21ms/epoch - 21ms/step\n",
      "Epoch 146/150\n",
      "1/1 - 0s - loss: 0.0722 - val_loss: 0.0268 - 20ms/epoch - 20ms/step\n",
      "Epoch 147/150\n",
      "1/1 - 0s - loss: 0.0563 - val_loss: 0.0267 - 22ms/epoch - 22ms/step\n",
      "Epoch 148/150\n",
      "1/1 - 0s - loss: 0.0667 - val_loss: 0.0266 - 21ms/epoch - 21ms/step\n",
      "Epoch 149/150\n",
      "1/1 - 0s - loss: 0.0740 - val_loss: 0.0266 - 21ms/epoch - 21ms/step\n",
      "Epoch 150/150\n",
      "1/1 - 0s - loss: 0.0611 - val_loss: 0.0267 - 21ms/epoch - 21ms/step\n"
     ]
    }
   ],
   "source": [
    "hist = model.fit(\n",
    "    X_train, y_train,\n",
    "    validation_split=0.2,\n",
    "    epochs=150,\n",
    "    batch_size=256,\n",
    "    shuffle=True,\n",
    "    verbose=2\n",
    ")"
   ]
  },
  {
   "cell_type": "code",
   "execution_count": 333,
   "metadata": {},
   "outputs": [
    {
     "name": "stdout",
     "output_type": "stream",
     "text": [
      "WARNING:tensorflow:5 out of the last 16 calls to <function Model.make_predict_function.<locals>.predict_function at 0x000001D17A3ABB00> triggered tf.function retracing. Tracing is expensive and the excessive number of tracings could be due to (1) creating @tf.function repeatedly in a loop, (2) passing tensors with different shapes, (3) passing Python objects instead of tensors. For (1), please define your @tf.function outside of the loop. For (2), @tf.function has reduce_retracing=True option that can avoid unnecessary retracing. For (3), please refer to https://www.tensorflow.org/guide/function#controlling_retracing and https://www.tensorflow.org/api_docs/python/tf/function for  more details.\n",
      "3/3 [==============================] - 0s 1ms/step\n"
     ]
    }
   ],
   "source": [
    "y_pred = model.predict(X_test)"
   ]
  },
  {
   "cell_type": "code",
   "execution_count": 334,
   "metadata": {},
   "outputs": [
    {
     "name": "stdout",
     "output_type": "stream",
     "text": [
      "[6.156938] 5.4\n",
      "[5.950725] 7.0\n",
      "[12.042082] 13.3\n",
      "[7.263437] 6.7\n",
      "[4.7619042] 4.0\n",
      "[4.3873467] 3.8\n",
      "[5.31367] 4.0\n",
      "[10.858988] 12.0\n",
      "[6.173704] 8.3\n",
      "[5.9810114] 6.5\n",
      "[4.672732] 6.4\n",
      "[8.209735] 9.1\n",
      "[5.906006] 5.4\n",
      "[6.423256] 8.6\n",
      "[5.1822824] 3.8\n",
      "[12.704744] 12.1\n",
      "[4.7289076] 3.4\n",
      "[12.16661] 12.0\n",
      "[5.7605476] 3.7\n",
      "[12.657441] 12.1\n",
      "[8.26395] 6.9\n",
      "[10.513927] 12.1\n",
      "[6.4821243] 8.8\n",
      "[8.692125] 9.0\n",
      "[7.3170033] 9.2\n",
      "[12.87162] 12.1\n",
      "[5.849332] 4.9\n",
      "[4.980505] 4.6\n",
      "[11.856559] 11.7\n",
      "[11.739346] 13.1\n",
      "[8.34563] 7.8\n",
      "[6.478527] 8.5\n",
      "[5.3129516] 3.9\n",
      "[12.298799] 12.0\n",
      "[5.6653414] 8.8\n",
      "[5.035495] 6.7\n",
      "[5.735429] 3.9\n",
      "[5.9384127] 4.5\n",
      "[7.361745] 9.3\n",
      "[5.67554] 6.5\n",
      "[5.012207] 6.0\n",
      "[6.7304115] 8.5\n",
      "[5.810483] 5.6\n",
      "[5.3053594] 6.6\n",
      "[6.377101] 7.3\n",
      "[7.709865] 5.6\n",
      "[7.401627] 8.1\n",
      "[6.835134] 3.8\n",
      "[4.8940744] 6.2\n",
      "[5.524748] 4.5\n",
      "[7.7969227] 7.5\n",
      "[4.1276617] 3.0\n",
      "[6.3306828] 7.6\n",
      "[11.908813] 11.7\n",
      "[6.5335464] 7.9\n",
      "[5.026912] 6.6\n",
      "[8.755953] 7.5\n",
      "[6.203967] 6.6\n",
      "[11.965501] 11.2\n",
      "[9.934134] 7.9\n",
      "[4.2998] 3.2\n",
      "[11.824762] 13.3\n",
      "[11.790131] 13.3\n",
      "[5.0400147] 4.3\n",
      "[11.774838] 11.2\n",
      "[4.6253786] 5.1\n",
      "[6.387275] 8.9\n",
      "[9.655239] 10.0\n",
      "[8.71576] 10.2\n",
      "[5.674337] 6.0\n",
      "[6.2176495] 6.6\n",
      "[6.1494427] 4.8\n"
     ]
    }
   ],
   "source": [
    "for el in zip(y_pred, y_test):\n",
    "    print(*el)"
   ]
  },
  {
   "cell_type": "code",
   "execution_count": null,
   "metadata": {},
   "outputs": [],
   "source": [
    "# EZ EZ EZ!!!!"
   ]
  },
  {
   "cell_type": "markdown",
   "metadata": {},
   "source": [
    "<img src='https://64.media.tumblr.com/6f311e8c5f1c4f489cc936c8751df28f/10ec932db5b963b6-71/s400x600/114c5ad05b3a682c8c3f1959977c2eb6ef663260.gif'>"
   ]
  },
  {
   "cell_type": "markdown",
   "metadata": {},
   "source": [
    "<img src='https://us-tuna-sounds-images.voicemod.net/a8e74f17-f5dd-41d6-9bec-f97d326783de-1686185949059.jpg' width=35%>"
   ]
  }
 ],
 "metadata": {
  "kernelspec": {
   "display_name": "Python 3",
   "language": "python",
   "name": "python3"
  },
  "language_info": {
   "codemirror_mode": {
    "name": "ipython",
    "version": 3
   },
   "file_extension": ".py",
   "mimetype": "text/x-python",
   "name": "python",
   "nbconvert_exporter": "python",
   "pygments_lexer": "ipython3",
   "version": "3.11.4"
  }
 },
 "nbformat": 4,
 "nbformat_minor": 2
}
