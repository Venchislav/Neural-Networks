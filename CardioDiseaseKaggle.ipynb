{
 "cells": [
  {
   "cell_type": "code",
   "execution_count": 334,
   "metadata": {},
   "outputs": [],
   "source": [
    "import pandas as pd\n",
    "import numpy as np\n",
    "import tensorflow as tf"
   ]
  },
  {
   "cell_type": "code",
   "execution_count": 335,
   "metadata": {},
   "outputs": [],
   "source": [
    "df = pd.read_csv('train.csv')"
   ]
  },
  {
   "cell_type": "code",
   "execution_count": 336,
   "metadata": {},
   "outputs": [
    {
     "data": {
      "text/html": [
       "<div>\n",
       "<style scoped>\n",
       "    .dataframe tbody tr th:only-of-type {\n",
       "        vertical-align: middle;\n",
       "    }\n",
       "\n",
       "    .dataframe tbody tr th {\n",
       "        vertical-align: top;\n",
       "    }\n",
       "\n",
       "    .dataframe thead th {\n",
       "        text-align: right;\n",
       "    }\n",
       "</style>\n",
       "<table border=\"1\" class=\"dataframe\">\n",
       "  <thead>\n",
       "    <tr style=\"text-align: right;\">\n",
       "      <th></th>\n",
       "      <th>age</th>\n",
       "      <th>gender</th>\n",
       "      <th>height</th>\n",
       "      <th>weight</th>\n",
       "      <th>ap_hi</th>\n",
       "      <th>ap_lo</th>\n",
       "      <th>cholesterol</th>\n",
       "      <th>gluc</th>\n",
       "      <th>smoke</th>\n",
       "      <th>alco</th>\n",
       "      <th>active</th>\n",
       "      <th>cardio</th>\n",
       "    </tr>\n",
       "  </thead>\n",
       "  <tbody>\n",
       "    <tr>\n",
       "      <th>0</th>\n",
       "      <td>16722</td>\n",
       "      <td>1</td>\n",
       "      <td>170</td>\n",
       "      <td>91.0</td>\n",
       "      <td>120</td>\n",
       "      <td>80</td>\n",
       "      <td>1</td>\n",
       "      <td>1</td>\n",
       "      <td>0</td>\n",
       "      <td>0</td>\n",
       "      <td>1</td>\n",
       "      <td>0</td>\n",
       "    </tr>\n",
       "    <tr>\n",
       "      <th>1</th>\n",
       "      <td>20984</td>\n",
       "      <td>1</td>\n",
       "      <td>161</td>\n",
       "      <td>93.0</td>\n",
       "      <td>120</td>\n",
       "      <td>80</td>\n",
       "      <td>2</td>\n",
       "      <td>1</td>\n",
       "      <td>0</td>\n",
       "      <td>0</td>\n",
       "      <td>0</td>\n",
       "      <td>0</td>\n",
       "    </tr>\n",
       "    <tr>\n",
       "      <th>2</th>\n",
       "      <td>14398</td>\n",
       "      <td>2</td>\n",
       "      <td>177</td>\n",
       "      <td>82.0</td>\n",
       "      <td>110</td>\n",
       "      <td>80</td>\n",
       "      <td>1</td>\n",
       "      <td>1</td>\n",
       "      <td>1</td>\n",
       "      <td>1</td>\n",
       "      <td>1</td>\n",
       "      <td>0</td>\n",
       "    </tr>\n",
       "    <tr>\n",
       "      <th>3</th>\n",
       "      <td>18187</td>\n",
       "      <td>2</td>\n",
       "      <td>169</td>\n",
       "      <td>51.0</td>\n",
       "      <td>140</td>\n",
       "      <td>90</td>\n",
       "      <td>1</td>\n",
       "      <td>2</td>\n",
       "      <td>1</td>\n",
       "      <td>1</td>\n",
       "      <td>1</td>\n",
       "      <td>1</td>\n",
       "    </tr>\n",
       "    <tr>\n",
       "      <th>4</th>\n",
       "      <td>21222</td>\n",
       "      <td>1</td>\n",
       "      <td>158</td>\n",
       "      <td>68.0</td>\n",
       "      <td>140</td>\n",
       "      <td>90</td>\n",
       "      <td>1</td>\n",
       "      <td>1</td>\n",
       "      <td>0</td>\n",
       "      <td>0</td>\n",
       "      <td>0</td>\n",
       "      <td>1</td>\n",
       "    </tr>\n",
       "  </tbody>\n",
       "</table>\n",
       "</div>"
      ],
      "text/plain": [
       "     age  gender  height  weight  ap_hi  ap_lo  cholesterol  gluc  smoke  \\\n",
       "0  16722       1     170    91.0    120     80            1     1      0   \n",
       "1  20984       1     161    93.0    120     80            2     1      0   \n",
       "2  14398       2     177    82.0    110     80            1     1      1   \n",
       "3  18187       2     169    51.0    140     90            1     2      1   \n",
       "4  21222       1     158    68.0    140     90            1     1      0   \n",
       "\n",
       "   alco  active  cardio  \n",
       "0     0       1       0  \n",
       "1     0       0       0  \n",
       "2     1       1       0  \n",
       "3     1       1       1  \n",
       "4     0       0       1  "
      ]
     },
     "execution_count": 336,
     "metadata": {},
     "output_type": "execute_result"
    }
   ],
   "source": [
    "df.head()"
   ]
  },
  {
   "cell_type": "code",
   "execution_count": 337,
   "metadata": {},
   "outputs": [
    {
     "data": {
      "text/plain": [
       "(47864, 12)"
      ]
     },
     "execution_count": 337,
     "metadata": {},
     "output_type": "execute_result"
    }
   ],
   "source": [
    "df.shape"
   ]
  },
  {
   "cell_type": "code",
   "execution_count": 338,
   "metadata": {},
   "outputs": [
    {
     "data": {
      "text/plain": [
       "age            0\n",
       "gender         0\n",
       "height         0\n",
       "weight         0\n",
       "ap_hi          0\n",
       "ap_lo          0\n",
       "cholesterol    0\n",
       "gluc           0\n",
       "smoke          0\n",
       "alco           0\n",
       "active         0\n",
       "cardio         0\n",
       "dtype: int64"
      ]
     },
     "execution_count": 338,
     "metadata": {},
     "output_type": "execute_result"
    }
   ],
   "source": [
    "df.isnull().sum()"
   ]
  },
  {
   "cell_type": "code",
   "execution_count": 339,
   "metadata": {},
   "outputs": [],
   "source": [
    "X = df.drop('cardio', axis=1)\n",
    "y = df['cardio']"
   ]
  },
  {
   "cell_type": "code",
   "execution_count": 340,
   "metadata": {},
   "outputs": [],
   "source": [
    "TRAIN_RATIO = 0.8\n",
    "TEST_RATIO = 0.1\n",
    "VAL_RATIO = 0.1"
   ]
  },
  {
   "cell_type": "code",
   "execution_count": 341,
   "metadata": {},
   "outputs": [],
   "source": [
    "X = tf.constant(X)\n",
    "y = tf.constant(y)"
   ]
  },
  {
   "cell_type": "code",
   "execution_count": 342,
   "metadata": {},
   "outputs": [
    {
     "data": {
      "text/plain": [
       "TensorShape([47864, 11])"
      ]
     },
     "execution_count": 342,
     "metadata": {},
     "output_type": "execute_result"
    }
   ],
   "source": [
    "X.shape"
   ]
  },
  {
   "cell_type": "code",
   "execution_count": 343,
   "metadata": {},
   "outputs": [],
   "source": [
    "def split_data(data, train_size=TRAIN_RATIO, test_size=TEST_RATIO, val_size=VAL_RATIO):\n",
    "    DATA_SIZE = len(data)\n",
    "    train = data[:int(DATA_SIZE * train_size)]\n",
    "    rest = data[int(DATA_SIZE * train_size):]\n",
    "    test = rest[:int(DATA_SIZE * test_size)]\n",
    "    val = rest[int(DATA_SIZE * test_size):]\n",
    "\n",
    "    print(train.shape, test.shape, val.shape)\n",
    "    return train, test, val"
   ]
  },
  {
   "cell_type": "code",
   "execution_count": 344,
   "metadata": {},
   "outputs": [
    {
     "name": "stdout",
     "output_type": "stream",
     "text": [
      "(38291, 11) (4786, 11) (4787, 11)\n"
     ]
    }
   ],
   "source": [
    "X_train, X_test, X_val = split_data(X)"
   ]
  },
  {
   "cell_type": "code",
   "execution_count": 345,
   "metadata": {},
   "outputs": [
    {
     "name": "stdout",
     "output_type": "stream",
     "text": [
      "(38291,) (4786,) (4787,)\n"
     ]
    }
   ],
   "source": [
    "y_train, y_test, y_val = split_data(y)"
   ]
  },
  {
   "cell_type": "code",
   "execution_count": 346,
   "metadata": {},
   "outputs": [],
   "source": [
    "from tensorflow.keras.models import Sequential\n",
    "from tensorflow.keras.optimizers import Adam\n",
    "from tensorflow.keras.losses import SparseCategoricalCrossentropy\n",
    "from tensorflow.keras.layers import Dense, Dropout, InputLayer, BatchNormalization"
   ]
  },
  {
   "cell_type": "code",
   "execution_count": 347,
   "metadata": {},
   "outputs": [
    {
     "name": "stdout",
     "output_type": "stream",
     "text": [
      "(11,)\n"
     ]
    }
   ],
   "source": [
    "input_shape = X_train.shape[1:]\n",
    "print(input_shape)"
   ]
  },
  {
   "cell_type": "code",
   "execution_count": 348,
   "metadata": {},
   "outputs": [],
   "source": [
    "number_of_samples = 2\n",
    "model = Sequential([\n",
    "    InputLayer(input_shape=input_shape),\n",
    "    Dense(16, activation='relu'),\n",
    "    Dropout(0.2),\n",
    "    BatchNormalization(),\n",
    "    Dense(32, activation='relu'),\n",
    "    Dropout(0.2),\n",
    "    BatchNormalization(),\n",
    "    Dense(64, activation='relu'),\n",
    "    Dropout(0.2),\n",
    "    BatchNormalization(),\n",
    "    Dense(128, activation='relu'),\n",
    "    Dense(2, activation='sigmoid')\n",
    "])"
   ]
  },
  {
   "cell_type": "code",
   "execution_count": 349,
   "metadata": {},
   "outputs": [
    {
     "name": "stdout",
     "output_type": "stream",
     "text": [
      "Model: \"sequential_18\"\n",
      "_________________________________________________________________\n",
      " Layer (type)                Output Shape              Param #   \n",
      "=================================================================\n",
      " dense_78 (Dense)            (None, 16)                192       \n",
      "                                                                 \n",
      " dropout_50 (Dropout)        (None, 16)                0         \n",
      "                                                                 \n",
      " batch_normalization_49 (Ba  (None, 16)                64        \n",
      " tchNormalization)                                               \n",
      "                                                                 \n",
      " dense_79 (Dense)            (None, 32)                544       \n",
      "                                                                 \n",
      " dropout_51 (Dropout)        (None, 32)                0         \n",
      "                                                                 \n",
      " batch_normalization_50 (Ba  (None, 32)                128       \n",
      " tchNormalization)                                               \n",
      "                                                                 \n",
      " dense_80 (Dense)            (None, 64)                2112      \n",
      "                                                                 \n",
      " dropout_52 (Dropout)        (None, 64)                0         \n",
      "                                                                 \n",
      " batch_normalization_51 (Ba  (None, 64)                256       \n",
      " tchNormalization)                                               \n",
      "                                                                 \n",
      " dense_81 (Dense)            (None, 128)               8320      \n",
      "                                                                 \n",
      " dense_82 (Dense)            (None, 2)                 258       \n",
      "                                                                 \n",
      "=================================================================\n",
      "Total params: 11874 (46.38 KB)\n",
      "Trainable params: 11650 (45.51 KB)\n",
      "Non-trainable params: 224 (896.00 Byte)\n",
      "_________________________________________________________________\n"
     ]
    }
   ],
   "source": [
    "model.summary()"
   ]
  },
  {
   "cell_type": "code",
   "execution_count": 350,
   "metadata": {},
   "outputs": [],
   "source": [
    "model.compile(\n",
    "    optimizer=Adam(learning_rate=0.0001),\n",
    "    loss=SparseCategoricalCrossentropy(),\n",
    "    metrics='accuracy'\n",
    ")"
   ]
  },
  {
   "cell_type": "code",
   "execution_count": 351,
   "metadata": {},
   "outputs": [
    {
     "name": "stdout",
     "output_type": "stream",
     "text": [
      "Epoch 1/50\n"
     ]
    },
    {
     "name": "stdout",
     "output_type": "stream",
     "text": [
      "150/150 - 2s - loss: 0.7261 - accuracy: 0.5216 - val_loss: 0.6797 - val_accuracy: 0.5722 - 2s/epoch - 10ms/step\n",
      "Epoch 2/50\n",
      "150/150 - 0s - loss: 0.7008 - accuracy: 0.5485 - val_loss: 0.7360 - val_accuracy: 0.5024 - 319ms/epoch - 2ms/step\n",
      "Epoch 3/50\n",
      "150/150 - 0s - loss: 0.6752 - accuracy: 0.5856 - val_loss: 0.7755 - val_accuracy: 0.5024 - 315ms/epoch - 2ms/step\n",
      "Epoch 4/50\n",
      "150/150 - 0s - loss: 0.6475 - accuracy: 0.6253 - val_loss: 0.8483 - val_accuracy: 0.5024 - 314ms/epoch - 2ms/step\n",
      "Epoch 5/50\n",
      "150/150 - 0s - loss: 0.6395 - accuracy: 0.6363 - val_loss: 0.8476 - val_accuracy: 0.5024 - 312ms/epoch - 2ms/step\n",
      "Epoch 6/50\n",
      "150/150 - 0s - loss: 0.6327 - accuracy: 0.6458 - val_loss: 0.8191 - val_accuracy: 0.5103 - 321ms/epoch - 2ms/step\n",
      "Epoch 7/50\n",
      "150/150 - 0s - loss: 0.6304 - accuracy: 0.6488 - val_loss: 0.7960 - val_accuracy: 0.5500 - 312ms/epoch - 2ms/step\n",
      "Epoch 8/50\n",
      "150/150 - 0s - loss: 0.6244 - accuracy: 0.6546 - val_loss: 0.6346 - val_accuracy: 0.6647 - 309ms/epoch - 2ms/step\n",
      "Epoch 9/50\n",
      "150/150 - 0s - loss: 0.6218 - accuracy: 0.6568 - val_loss: 0.7091 - val_accuracy: 0.6336 - 316ms/epoch - 2ms/step\n",
      "Epoch 10/50\n",
      "150/150 - 0s - loss: 0.6213 - accuracy: 0.6584 - val_loss: 0.7557 - val_accuracy: 0.5966 - 315ms/epoch - 2ms/step\n",
      "Epoch 11/50\n",
      "150/150 - 0s - loss: 0.6194 - accuracy: 0.6613 - val_loss: 0.6901 - val_accuracy: 0.6660 - 307ms/epoch - 2ms/step\n",
      "Epoch 12/50\n",
      "150/150 - 0s - loss: 0.6158 - accuracy: 0.6677 - val_loss: 0.6419 - val_accuracy: 0.6781 - 310ms/epoch - 2ms/step\n",
      "Epoch 13/50\n",
      "150/150 - 0s - loss: 0.6129 - accuracy: 0.6690 - val_loss: 0.7106 - val_accuracy: 0.6493 - 309ms/epoch - 2ms/step\n",
      "Epoch 14/50\n",
      "150/150 - 0s - loss: 0.6117 - accuracy: 0.6713 - val_loss: 0.7827 - val_accuracy: 0.6165 - 307ms/epoch - 2ms/step\n",
      "Epoch 15/50\n",
      "150/150 - 0s - loss: 0.6106 - accuracy: 0.6710 - val_loss: 0.7245 - val_accuracy: 0.6547 - 309ms/epoch - 2ms/step\n",
      "Epoch 16/50\n",
      "150/150 - 0s - loss: 0.6088 - accuracy: 0.6764 - val_loss: 0.7538 - val_accuracy: 0.6353 - 309ms/epoch - 2ms/step\n",
      "Epoch 17/50\n",
      "150/150 - 0s - loss: 0.6064 - accuracy: 0.6767 - val_loss: 0.7920 - val_accuracy: 0.6106 - 312ms/epoch - 2ms/step\n",
      "Epoch 18/50\n",
      "150/150 - 0s - loss: 0.6057 - accuracy: 0.6760 - val_loss: 0.7477 - val_accuracy: 0.6399 - 311ms/epoch - 2ms/step\n",
      "Epoch 19/50\n",
      "150/150 - 0s - loss: 0.6042 - accuracy: 0.6816 - val_loss: 0.8669 - val_accuracy: 0.5864 - 314ms/epoch - 2ms/step\n",
      "Epoch 20/50\n",
      "150/150 - 0s - loss: 0.6006 - accuracy: 0.6851 - val_loss: 0.7608 - val_accuracy: 0.6430 - 309ms/epoch - 2ms/step\n",
      "Epoch 21/50\n",
      "150/150 - 0s - loss: 0.6017 - accuracy: 0.6827 - val_loss: 0.8496 - val_accuracy: 0.5768 - 311ms/epoch - 2ms/step\n",
      "Epoch 22/50\n",
      "150/150 - 0s - loss: 0.5992 - accuracy: 0.6858 - val_loss: 0.9359 - val_accuracy: 0.5605 - 313ms/epoch - 2ms/step\n",
      "Epoch 23/50\n",
      "150/150 - 0s - loss: 0.5939 - accuracy: 0.6894 - val_loss: 0.7827 - val_accuracy: 0.6085 - 309ms/epoch - 2ms/step\n",
      "Epoch 24/50\n",
      "150/150 - 0s - loss: 0.5979 - accuracy: 0.6894 - val_loss: 0.8163 - val_accuracy: 0.5993 - 311ms/epoch - 2ms/step\n",
      "Epoch 25/50\n",
      "150/150 - 0s - loss: 0.5945 - accuracy: 0.6928 - val_loss: 0.7027 - val_accuracy: 0.6482 - 309ms/epoch - 2ms/step\n",
      "Epoch 26/50\n",
      "150/150 - 0s - loss: 0.5914 - accuracy: 0.6936 - val_loss: 0.8233 - val_accuracy: 0.5981 - 311ms/epoch - 2ms/step\n",
      "Epoch 27/50\n",
      "150/150 - 0s - loss: 0.5920 - accuracy: 0.6929 - val_loss: 0.7098 - val_accuracy: 0.6566 - 313ms/epoch - 2ms/step\n",
      "Epoch 28/50\n",
      "150/150 - 0s - loss: 0.5919 - accuracy: 0.6953 - val_loss: 0.7002 - val_accuracy: 0.6649 - 311ms/epoch - 2ms/step\n",
      "Epoch 29/50\n",
      "150/150 - 0s - loss: 0.5923 - accuracy: 0.6941 - val_loss: 0.6435 - val_accuracy: 0.6837 - 308ms/epoch - 2ms/step\n",
      "Epoch 30/50\n",
      "150/150 - 0s - loss: 0.5882 - accuracy: 0.6949 - val_loss: 0.8040 - val_accuracy: 0.6123 - 307ms/epoch - 2ms/step\n",
      "Epoch 31/50\n",
      "150/150 - 0s - loss: 0.5871 - accuracy: 0.6983 - val_loss: 0.7247 - val_accuracy: 0.6338 - 312ms/epoch - 2ms/step\n",
      "Epoch 32/50\n",
      "150/150 - 0s - loss: 0.5880 - accuracy: 0.6971 - val_loss: 0.7165 - val_accuracy: 0.6480 - 309ms/epoch - 2ms/step\n",
      "Epoch 33/50\n",
      "150/150 - 0s - loss: 0.5872 - accuracy: 0.6977 - val_loss: 0.6529 - val_accuracy: 0.6841 - 309ms/epoch - 2ms/step\n",
      "Epoch 34/50\n",
      "150/150 - 0s - loss: 0.5868 - accuracy: 0.6967 - val_loss: 0.7280 - val_accuracy: 0.6499 - 309ms/epoch - 2ms/step\n",
      "Epoch 35/50\n",
      "150/150 - 0s - loss: 0.5863 - accuracy: 0.7000 - val_loss: 0.8266 - val_accuracy: 0.5977 - 310ms/epoch - 2ms/step\n",
      "Epoch 36/50\n",
      "150/150 - 0s - loss: 0.5856 - accuracy: 0.7010 - val_loss: 0.6862 - val_accuracy: 0.6664 - 315ms/epoch - 2ms/step\n",
      "Epoch 37/50\n",
      "150/150 - 0s - loss: 0.5866 - accuracy: 0.6979 - val_loss: 0.6717 - val_accuracy: 0.6785 - 310ms/epoch - 2ms/step\n",
      "Epoch 38/50\n",
      "150/150 - 0s - loss: 0.5850 - accuracy: 0.7011 - val_loss: 0.6922 - val_accuracy: 0.6679 - 310ms/epoch - 2ms/step\n",
      "Epoch 39/50\n",
      "150/150 - 0s - loss: 0.5846 - accuracy: 0.7016 - val_loss: 0.6718 - val_accuracy: 0.6800 - 312ms/epoch - 2ms/step\n",
      "Epoch 40/50\n",
      "150/150 - 0s - loss: 0.5850 - accuracy: 0.7005 - val_loss: 0.6928 - val_accuracy: 0.6668 - 319ms/epoch - 2ms/step\n",
      "Epoch 41/50\n",
      "150/150 - 0s - loss: 0.5825 - accuracy: 0.7045 - val_loss: 0.6205 - val_accuracy: 0.6961 - 312ms/epoch - 2ms/step\n",
      "Epoch 42/50\n",
      "150/150 - 0s - loss: 0.5827 - accuracy: 0.7042 - val_loss: 0.7285 - val_accuracy: 0.6472 - 313ms/epoch - 2ms/step\n",
      "Epoch 43/50\n",
      "150/150 - 0s - loss: 0.5834 - accuracy: 0.7028 - val_loss: 0.6646 - val_accuracy: 0.6770 - 313ms/epoch - 2ms/step\n",
      "Epoch 44/50\n",
      "150/150 - 0s - loss: 0.5826 - accuracy: 0.7029 - val_loss: 0.8130 - val_accuracy: 0.5960 - 316ms/epoch - 2ms/step\n",
      "Epoch 45/50\n",
      "150/150 - 0s - loss: 0.5807 - accuracy: 0.7053 - val_loss: 0.6327 - val_accuracy: 0.7086 - 329ms/epoch - 2ms/step\n",
      "Epoch 46/50\n",
      "150/150 - 0s - loss: 0.5794 - accuracy: 0.7040 - val_loss: 0.7144 - val_accuracy: 0.6570 - 312ms/epoch - 2ms/step\n",
      "Epoch 47/50\n",
      "150/150 - 0s - loss: 0.5806 - accuracy: 0.7056 - val_loss: 0.6236 - val_accuracy: 0.6998 - 311ms/epoch - 2ms/step\n",
      "Epoch 48/50\n",
      "150/150 - 0s - loss: 0.5807 - accuracy: 0.7066 - val_loss: 0.7621 - val_accuracy: 0.6246 - 327ms/epoch - 2ms/step\n",
      "Epoch 49/50\n",
      "150/150 - 0s - loss: 0.5793 - accuracy: 0.7037 - val_loss: 0.6908 - val_accuracy: 0.6743 - 309ms/epoch - 2ms/step\n",
      "Epoch 50/50\n",
      "150/150 - 0s - loss: 0.5793 - accuracy: 0.7057 - val_loss: 0.6874 - val_accuracy: 0.6779 - 310ms/epoch - 2ms/step\n"
     ]
    }
   ],
   "source": [
    "hist = model.fit(\n",
    "    X_train, y_train,\n",
    "    validation_data=(X_val, y_val),\n",
    "    batch_size=256,\n",
    "    epochs=50,\n",
    "    verbose=2,\n",
    "    shuffle=True\n",
    ")"
   ]
  },
  {
   "cell_type": "code",
   "execution_count": 352,
   "metadata": {},
   "outputs": [
    {
     "data": {
      "text/html": [
       "<div>\n",
       "<style scoped>\n",
       "    .dataframe tbody tr th:only-of-type {\n",
       "        vertical-align: middle;\n",
       "    }\n",
       "\n",
       "    .dataframe tbody tr th {\n",
       "        vertical-align: top;\n",
       "    }\n",
       "\n",
       "    .dataframe thead th {\n",
       "        text-align: right;\n",
       "    }\n",
       "</style>\n",
       "<table border=\"1\" class=\"dataframe\">\n",
       "  <thead>\n",
       "    <tr style=\"text-align: right;\">\n",
       "      <th></th>\n",
       "      <th>loss</th>\n",
       "      <th>accuracy</th>\n",
       "      <th>val_loss</th>\n",
       "      <th>val_accuracy</th>\n",
       "    </tr>\n",
       "  </thead>\n",
       "  <tbody>\n",
       "    <tr>\n",
       "      <th>0</th>\n",
       "      <td>0.726066</td>\n",
       "      <td>0.521611</td>\n",
       "      <td>0.679747</td>\n",
       "      <td>0.572175</td>\n",
       "    </tr>\n",
       "    <tr>\n",
       "      <th>1</th>\n",
       "      <td>0.700752</td>\n",
       "      <td>0.548510</td>\n",
       "      <td>0.736041</td>\n",
       "      <td>0.502402</td>\n",
       "    </tr>\n",
       "    <tr>\n",
       "      <th>2</th>\n",
       "      <td>0.675229</td>\n",
       "      <td>0.585568</td>\n",
       "      <td>0.775520</td>\n",
       "      <td>0.502402</td>\n",
       "    </tr>\n",
       "    <tr>\n",
       "      <th>3</th>\n",
       "      <td>0.647503</td>\n",
       "      <td>0.625317</td>\n",
       "      <td>0.848319</td>\n",
       "      <td>0.502402</td>\n",
       "    </tr>\n",
       "    <tr>\n",
       "      <th>4</th>\n",
       "      <td>0.639528</td>\n",
       "      <td>0.636338</td>\n",
       "      <td>0.847565</td>\n",
       "      <td>0.502402</td>\n",
       "    </tr>\n",
       "  </tbody>\n",
       "</table>\n",
       "</div>"
      ],
      "text/plain": [
       "       loss  accuracy  val_loss  val_accuracy\n",
       "0  0.726066  0.521611  0.679747      0.572175\n",
       "1  0.700752  0.548510  0.736041      0.502402\n",
       "2  0.675229  0.585568  0.775520      0.502402\n",
       "3  0.647503  0.625317  0.848319      0.502402\n",
       "4  0.639528  0.636338  0.847565      0.502402"
      ]
     },
     "execution_count": 352,
     "metadata": {},
     "output_type": "execute_result"
    }
   ],
   "source": [
    "hist_df = pd.DataFrame(hist.history)\n",
    "hist_df.head()"
   ]
  },
  {
   "cell_type": "code",
   "execution_count": 353,
   "metadata": {},
   "outputs": [
    {
     "data": {
      "image/png": "[encoded data removed]",
      "text/plain": [
       "<Figure size 640x480 with 1 Axes>"
      ]
     },
     "metadata": {},
     "output_type": "display_data"
    }
   ],
   "source": [
    "hist_df.loc[:, ['accuracy', 'val_accuracy']].plot();"
   ]
  },
  {
   "cell_type": "code",
   "execution_count": null,
   "metadata": {},
   "outputs": [],
   "source": []
  }
 ],
 "metadata": {
  "kernelspec": {
   "display_name": "Python 3",
   "language": "python",
   "name": "python3"
  },
  "language_info": {
   "codemirror_mode": {
    "name": "ipython",
    "version": 3
   },
   "file_extension": ".py",
   "mimetype": "text/x-python",
   "name": "python",
   "nbconvert_exporter": "python",
   "pygments_lexer": "ipython3",
   "version": "3.11.4"
  }
 },
 "nbformat": 4,
 "nbformat_minor": 2
}
