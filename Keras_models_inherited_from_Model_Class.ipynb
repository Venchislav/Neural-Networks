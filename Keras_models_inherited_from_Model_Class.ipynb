{
  "nbformat": 4,
  "nbformat_minor": 0,
  "metadata": {
    "colab": {
      "provenance": [],
      "authorship_tag": "ABX9TyOXScoiEhMkH1DLbnqXZNGZ",
      "include_colab_link": true
    },
    "kernelspec": {
      "name": "python3",
      "display_name": "Python 3"
    },
    "language_info": {
      "name": "python"
    }
  },
  "cells": [
    {
      "cell_type": "markdown",
      "metadata": {
        "id": "view-in-github",
        "colab_type": "text"
      },
      "source": [
        "<a href=\"https://colab.research.google.com/github/Venchislav/Neural-Networks/blob/main/Keras_models_inherited_from_Model_Class.ipynb\" target=\"_parent\"><img src=\"https://colab.research.google.com/assets/colab-badge.svg\" alt=\"Open In Colab\"/></a>"
      ]
    },
    {
      "cell_type": "code",
      "execution_count": 24,
      "metadata": {
        "id": "n_0z4jho-Sx6"
      },
      "outputs": [],
      "source": [
        "import tensorflow as tf\n",
        "import numpy as np\n",
        "from tensorflow import keras\n",
        "from tensorflow.keras import layers"
      ]
    },
    {
      "cell_type": "code",
      "source": [
        "class CustomerTicketModel(keras.Model):\n",
        "  def __init__(self, num_departments):\n",
        "    # initializing Model class init\n",
        "    super().__init__()\n",
        "    # layers setup\n",
        "    self.concat_layer = layers.Concatenate()\n",
        "    self.mixing_layer = layers.Dense(64, activation='relu')\n",
        "    self.priority_output = layers.Dense(1, activation='sigmoid')\n",
        "    self.deprtment_output = layers.Dense(num_departments, activation='softmax')\n",
        "\n",
        "  def call(self, inputs):\n",
        "    # features selection from call kwargs\n",
        "    title = inputs['title']\n",
        "    text_body = inputs['text_body']\n",
        "    tags = inputs['tags']\n",
        "\n",
        "    # calling layers with our features\n",
        "    features = self.concat_layer([title, text_body, tags])\n",
        "    features = self.mixing_layer(features)\n",
        "\n",
        "    priority = self.priority_output(features)\n",
        "    department = self.deprtment_output(features)\n",
        "\n",
        "    return priority, department\n"
      ],
      "metadata": {
        "id": "aTJaiL0z-nVN"
      },
      "execution_count": 25,
      "outputs": []
    },
    {
      "cell_type": "code",
      "source": [
        "num_samples = 1280\n",
        "vocab_size = 10_000"
      ],
      "metadata": {
        "id": "gzezaa3VcWKr"
      },
      "execution_count": 26,
      "outputs": []
    },
    {
      "cell_type": "code",
      "source": [
        "title_data = np.random.randint(0, 2, size=(num_samples, vocab_size))\n",
        "text_body_data = np.random.randint(0, 2, size=(num_samples, vocab_size))\n",
        "tags_data = np.random.randint(0, 2, size=(num_samples, 100))"
      ],
      "metadata": {
        "id": "_2JZ6GJ_cY8G"
      },
      "execution_count": 27,
      "outputs": []
    },
    {
      "cell_type": "code",
      "source": [
        "priority_data = np.random.random(size=(num_samples, 1))\n",
        "dep_data = np.random.randint(0, 2, size=(num_samples, 4))"
      ],
      "metadata": {
        "id": "wNwK0rCodce7"
      },
      "execution_count": 28,
      "outputs": []
    },
    {
      "cell_type": "code",
      "source": [
        "model = CustomerTicketModel(num_departments=4)\n",
        "\n",
        "priority, department = model({'title': title_data, 'text_body': text_body_data, 'tags': tags_data})"
      ],
      "metadata": {
        "id": "qH3jUQyZAka0"
      },
      "execution_count": 29,
      "outputs": []
    },
    {
      "cell_type": "code",
      "source": [
        "model.summary()"
      ],
      "metadata": {
        "colab": {
          "base_uri": "https://localhost:8080/"
        },
        "id": "for-7w_4CYS8",
        "outputId": "78498c19-0870-4b51-b87d-62032be25f91"
      },
      "execution_count": 31,
      "outputs": [
        {
          "output_type": "stream",
          "name": "stdout",
          "text": [
            "Model: \"customer_ticket_model_4\"\n",
            "_________________________________________________________________\n",
            " Layer (type)                Output Shape              Param #   \n",
            "=================================================================\n",
            " concatenate_3 (Concatenate  multiple                  0         \n",
            " )                                                               \n",
            "                                                                 \n",
            " dense_9 (Dense)             multiple                  1286464   \n",
            "                                                                 \n",
            " dense_10 (Dense)            multiple                  65        \n",
            "                                                                 \n",
            " dense_11 (Dense)            multiple                  260       \n",
            "                                                                 \n",
            "=================================================================\n",
            "Total params: 1286789 (4.91 MB)\n",
            "Trainable params: 1286789 (4.91 MB)\n",
            "Non-trainable params: 0 (0.00 Byte)\n",
            "_________________________________________________________________\n"
          ]
        }
      ]
    },
    {
      "cell_type": "code",
      "source": [
        "# this model can be fitted, evaluated and so on as normal keras model can (logical)"
      ],
      "metadata": {
        "id": "qaqgZ3NeCrO6"
      },
      "execution_count": 33,
      "outputs": []
    },
    {
      "cell_type": "code",
      "source": [
        "# but we can build our own add-ons to our custom model and so on"
      ],
      "metadata": {
        "id": "Q7y8FWKYDvD8"
      },
      "execution_count": null,
      "outputs": []
    },
    {
      "cell_type": "code",
      "source": [
        "# Example"
      ],
      "metadata": {
        "id": "Wr8vwZrMD8Zj"
      },
      "execution_count": null,
      "outputs": []
    },
    {
      "cell_type": "code",
      "source": [
        "import webbrowser"
      ],
      "metadata": {
        "id": "hkw1WGvJD-f5"
      },
      "execution_count": 38,
      "outputs": []
    },
    {
      "cell_type": "code",
      "source": [
        "class CustomerTicketModel(keras.Model):\n",
        "  def __init__(self, num_departments):\n",
        "    # initializing Model class init\n",
        "    super().__init__()\n",
        "    # layers setup\n",
        "    self.concat_layer = layers.Concatenate()\n",
        "    self.mixing_layer = layers.Dense(64, activation='relu')\n",
        "    self.priority_output = layers.Dense(1, activation='sigmoid')\n",
        "    self.deprtment_output = layers.Dense(num_departments, activation='softmax')\n",
        "\n",
        "  def call(self, inputs):\n",
        "    webbrowser.open('https://www.youtube.com/watch?v=dQw4w9WgXcQ')\n",
        "    # features selection from call kwargs\n",
        "    title = inputs['title']\n",
        "    text_body = inputs['text_body']\n",
        "    tags = inputs['tags']\n",
        "\n",
        "    # calling layers with our features\n",
        "    features = self.concat_layer([title, text_body, tags])\n",
        "    features = self.mixing_layer(features)\n",
        "\n",
        "    priority = self.priority_output(features)\n",
        "    department = self.deprtment_output(features)\n",
        "\n",
        "    return priority, department"
      ],
      "metadata": {
        "id": "xgXvBowVETkm"
      },
      "execution_count": 40,
      "outputs": []
    },
    {
      "cell_type": "code",
      "source": [
        "# now everytime when we call our model we will be rickrolled\n",
        "# (keras, please add it in new update🙏)"
      ],
      "metadata": {
        "id": "IX1qhTCbFH-1"
      },
      "execution_count": 41,
      "outputs": []
    },
    {
      "cell_type": "code",
      "source": [
        "model = CustomerTicketModel(num_departments=4)\n",
        "priority, department = model({'title': title_data, 'text_body': text_body_data, 'tags': tags_data})"
      ],
      "metadata": {
        "id": "_iZ8EnJiFYNN"
      },
      "execution_count": 42,
      "outputs": []
    },
    {
      "cell_type": "code",
      "source": [
        "model.layers"
      ],
      "metadata": {
        "colab": {
          "base_uri": "https://localhost:8080/"
        },
        "id": "DlfTn_23Fw8x",
        "outputId": "15bd42f9-91b8-4b9e-91e3-465de6dbe202"
      },
      "execution_count": 43,
      "outputs": [
        {
          "output_type": "execute_result",
          "data": {
            "text/plain": [
              "[<keras.src.layers.merging.concatenate.Concatenate at 0x7fc78dc13400>,\n",
              " <keras.src.layers.core.dense.Dense at 0x7fc78dc13190>,\n",
              " <keras.src.layers.core.dense.Dense at 0x7fc78dc13670>,\n",
              " <keras.src.layers.core.dense.Dense at 0x7fc78dc10730>]"
            ]
          },
          "metadata": {},
          "execution_count": 43
        }
      ]
    },
    {
      "cell_type": "code",
      "source": [
        "try:\n",
        "  model.layers[1].output\n",
        "except Exception as e:\n",
        "  print(f\"we can't access layers params, it'll raise error: '{e}'\")"
      ],
      "metadata": {
        "colab": {
          "base_uri": "https://localhost:8080/"
        },
        "id": "pytyYcHBGw2o",
        "outputId": "0eb12858-7561-43e5-fdb5-5260519f9a40"
      },
      "execution_count": 53,
      "outputs": [
        {
          "output_type": "stream",
          "name": "stdout",
          "text": [
            "we can't access layers params, it'll raise error: 'Layer dense_12 has no inbound nodes.'\n"
          ]
        }
      ]
    },
    {
      "cell_type": "markdown",
      "source": [
        "we can't also plot our model"
      ],
      "metadata": {
        "id": "0sPugbUCHefM"
      }
    },
    {
      "cell_type": "code",
      "source": [
        "keras.utils.plot_model(model)"
      ],
      "metadata": {
        "colab": {
          "base_uri": "https://localhost:8080/",
          "height": 77
        },
        "id": "DEhsSg6lG0Jh",
        "outputId": "63903f32-7ede-43ef-fe90-1c8ac9d86edc"
      },
      "execution_count": 54,
      "outputs": [
        {
          "output_type": "execute_result",
          "data": {
            "image/png": "[encoded data removed]",
            "text/plain": [
              "<IPython.core.display.Image object>"
            ]
          },
          "metadata": {},
          "execution_count": 54
        }
      ]
    },
    {
      "cell_type": "code",
      "source": [
        "# bruh"
      ],
      "metadata": {
        "id": "RqpzA_Y5HlMH"
      },
      "execution_count": 55,
      "outputs": []
    },
    {
      "cell_type": "markdown",
      "source": [
        "So there's not only pros, but also some cons"
      ],
      "metadata": {
        "id": "VvfBrhGAHoOV"
      }
    },
    {
      "cell_type": "markdown",
      "source": [
        "P.S I also noticed that model summary doesn't display as much info as summary on functional API does"
      ],
      "metadata": {
        "id": "c1pqz50XH6DS"
      }
    },
    {
      "cell_type": "code",
      "source": [
        "# so in this case we cant really examine forward propagation"
      ],
      "metadata": {
        "id": "JPDZlqWnHmmD"
      },
      "execution_count": 56,
      "outputs": []
    },
    {
      "cell_type": "markdown",
      "source": [
        "# **BUT NOW WE CAN DO VERY INTERESTING THINGS**"
      ],
      "metadata": {
        "id": "_4vqL3WuJDz0"
      }
    },
    {
      "cell_type": "code",
      "source": [
        "class SmartClassifier(keras.Model):\n",
        "  def __init__(self, num_classes):\n",
        "    super().__init__()\n",
        "    if num_classes == 2:\n",
        "      units = 1\n",
        "      activation = 'sigmoid'\n",
        "    else:\n",
        "      units = num_classes\n",
        "      activation = 'softmax'\n",
        "    self.dense_1 = layers.Dense(units, activation)\n",
        "\n",
        "  def call(self, inputs):\n",
        "    return self.dense_1(inputs)"
      ],
      "metadata": {
        "id": "9PoMBx4NIizl"
      },
      "execution_count": 61,
      "outputs": []
    },
    {
      "cell_type": "code",
      "source": [
        "inputs = keras.Input(shape=(3,))\n",
        "features = layers.Dense(64, activation='relu')(inputs)\n",
        "outputs = SmartClassifier(num_classes=3)(features)\n",
        "\n",
        "model = keras.Model(inputs=inputs, outputs=outputs)"
      ],
      "metadata": {
        "id": "Ak3cc2-TKK38"
      },
      "execution_count": 63,
      "outputs": []
    },
    {
      "cell_type": "code",
      "source": [
        "model.summary()"
      ],
      "metadata": {
        "colab": {
          "base_uri": "https://localhost:8080/"
        },
        "id": "qKlwrASKK9pG",
        "outputId": "7df47342-a507-4f6e-ff56-908227127fb4"
      },
      "execution_count": 64,
      "outputs": [
        {
          "output_type": "stream",
          "name": "stdout",
          "text": [
            "Model: \"model\"\n",
            "_________________________________________________________________\n",
            " Layer (type)                Output Shape              Param #   \n",
            "=================================================================\n",
            " input_4 (InputLayer)        [(None, 3)]               0         \n",
            "                                                                 \n",
            " dense_18 (Dense)            (None, 64)                256       \n",
            "                                                                 \n",
            " smart_classifier_2 (SmartC  (None, 3)                 195       \n",
            " lassifier)                                                      \n",
            "                                                                 \n",
            "=================================================================\n",
            "Total params: 451 (1.76 KB)\n",
            "Trainable params: 451 (1.76 KB)\n",
            "Non-trainable params: 0 (0.00 Byte)\n",
            "_________________________________________________________________\n"
          ]
        }
      ]
    },
    {
      "cell_type": "code",
      "source": [
        "keras.utils.plot_model(model)"
      ],
      "metadata": {
        "colab": {
          "base_uri": "https://localhost:8080/",
          "height": 272
        },
        "id": "Fp1VL4HwLI6Z",
        "outputId": "a5e940f4-7673-451d-fd97-c0f48c89865e"
      },
      "execution_count": 65,
      "outputs": [
        {
          "output_type": "execute_result",
          "data": {
            "image/png": "[encoded data removed]",
            "text/plain": [
              "<IPython.core.display.Image object>"
            ]
          },
          "metadata": {},
          "execution_count": 65
        }
      ]
    },
    {
      "cell_type": "markdown",
      "source": [
        "# **TRIPLE BAM!!!**\n",
        "We've created our own custom model inherired from keras Model and used it in functional API"
      ],
      "metadata": {
        "id": "xqQsWC4KLTBl"
      }
    },
    {
      "cell_type": "code",
      "source": [
        "inputs = keras.Input(shape=(3,))\n",
        "outputs = layers.Dense(1, activation='sigmoid')(inputs)\n",
        "bin_clf = keras.Model(inputs=inputs, outputs=outputs)"
      ],
      "metadata": {
        "id": "p_3IrWo9LQUI"
      },
      "execution_count": 66,
      "outputs": []
    },
    {
      "cell_type": "code",
      "source": [
        "class MyModel(keras.Model):\n",
        "  def __init__(self, num_classes=2):\n",
        "    super().__init__()\n",
        "    self.dense_1 = layers.Dense(64, activation='relu')\n",
        "    self.classifier = bin_clf\n",
        "\n",
        "  def call(self, inputs):\n",
        "    features = self.dense_1(inputs)\n",
        "    return self.classifier(features)"
      ],
      "metadata": {
        "id": "8HavcYKGMi-5"
      },
      "execution_count": 69,
      "outputs": []
    },
    {
      "cell_type": "code",
      "source": [
        "my_model = MyModel()"
      ],
      "metadata": {
        "id": "T87Sd1JpNb6g"
      },
      "execution_count": 72,
      "outputs": []
    },
    {
      "cell_type": "markdown",
      "source": [
        "# **AND HERE WE USED FUNCTIONAL API INSIDE OF CUSTOM MODEL INHERITED FROM KERAS MODEL CLASS**"
      ],
      "metadata": {
        "id": "md5jkymKOjL_"
      }
    },
    {
      "cell_type": "markdown",
      "source": [
        "# **TODAY'S CODE IN A NUTSHELL:**"
      ],
      "metadata": {
        "id": "W1yrX7ToPNQ9"
      }
    },
    {
      "cell_type": "markdown",
      "source": [
        "<img src='data:image/jpeg;base64,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'>"
      ],
      "metadata": {
        "id": "4cLSbCmxO-TG"
      }
    },
    {
      "cell_type": "markdown",
      "source": [
        "<img src='https://play-lh.googleusercontent.com/TGaTckK5V7VKlJ34PFlON5ei_DARWndAHrDqOWTaC6kH5R8V8RlxE6i22VswAx3ENx-3'>"
      ],
      "metadata": {
        "id": "VmtwaVRKPCZR"
      }
    },
    {
      "cell_type": "code",
      "source": [],
      "metadata": {
        "id": "w0wWa54MN0xg"
      },
      "execution_count": null,
      "outputs": []
    }
  ]
}