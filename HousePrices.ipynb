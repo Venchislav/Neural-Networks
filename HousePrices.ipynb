{
  "nbformat": 4,
  "nbformat_minor": 0,
  "metadata": {
    "colab": {
      "provenance": [],
      "authorship_tag": "ABX9TyNd+IQR0NEuKnjYXRBtF15F",
      "include_colab_link": true
    },
    "kernelspec": {
      "name": "python3",
      "display_name": "Python 3"
    },
    "language_info": {
      "name": "python"
    }
  },
  "cells": [
    {
      "cell_type": "markdown",
      "metadata": {
        "id": "view-in-github",
        "colab_type": "text"
      },
      "source": [
        "<a href=\"https://colab.research.google.com/github/Venchislav/Neural-Networks/blob/main/HousePrices.ipynb\" target=\"_parent\"><img src=\"https://colab.research.google.com/assets/colab-badge.svg\" alt=\"Open In Colab\"/></a>"
      ]
    },
    {
      "cell_type": "code",
      "execution_count": 458,
      "metadata": {
        "id": "dwZ4gy-F8Qf-"
      },
      "outputs": [],
      "source": [
        "import pandas as pd\n",
        "import numpy as np\n",
        "import warnings\n",
        "\n",
        "warnings.filterwarnings('ignore')"
      ]
    },
    {
      "cell_type": "code",
      "source": [
        "df = pd.read_csv('/content/sample_data/train.csv')\n",
        "df.head()"
      ],
      "metadata": {
        "colab": {
          "base_uri": "https://localhost:8080/",
          "height": 256
        },
        "id": "C6Cap-iB8V6g",
        "outputId": "2e085b9f-6a63-4c9c-8135-b38e6988f1d6"
      },
      "execution_count": 459,
      "outputs": [
        {
          "output_type": "execute_result",
          "data": {
            "text/plain": [
              "   Id  MSSubClass MSZoning  LotFrontage  LotArea Street Alley LotShape  \\\n",
              "0   1          60       RL         65.0     8450   Pave   NaN      Reg   \n",
              "1   2          20       RL         80.0     9600   Pave   NaN      Reg   \n",
              "2   3          60       RL         68.0    11250   Pave   NaN      IR1   \n",
              "3   4          70       RL         60.0     9550   Pave   NaN      IR1   \n",
              "4   5          60       RL         84.0    14260   Pave   NaN      IR1   \n",
              "\n",
              "  LandContour Utilities  ... PoolArea PoolQC Fence MiscFeature MiscVal MoSold  \\\n",
              "0         Lvl    AllPub  ...        0    NaN   NaN         NaN       0      2   \n",
              "1         Lvl    AllPub  ...        0    NaN   NaN         NaN       0      5   \n",
              "2         Lvl    AllPub  ...        0    NaN   NaN         NaN       0      9   \n",
              "3         Lvl    AllPub  ...        0    NaN   NaN         NaN       0      2   \n",
              "4         Lvl    AllPub  ...        0    NaN   NaN         NaN       0     12   \n",
              "\n",
              "  YrSold  SaleType  SaleCondition  SalePrice  \n",
              "0   2008        WD         Normal     208500  \n",
              "1   2007        WD         Normal     181500  \n",
              "2   2008        WD         Normal     223500  \n",
              "3   2006        WD        Abnorml     140000  \n",
              "4   2008        WD         Normal     250000  \n",
              "\n",
              "[5 rows x 81 columns]"
            ],
            "text/html": [
              "\n",
              "  <div id=\"df-30d77610-7d1a-4379-9705-af91f850993b\" class=\"colab-df-container\">\n",
              "    <div>\n",
              "<style scoped>\n",
              "    .dataframe tbody tr th:only-of-type {\n",
              "        vertical-align: middle;\n",
              "    }\n",
              "\n",
              "    .dataframe tbody tr th {\n",
              "        vertical-align: top;\n",
              "    }\n",
              "\n",
              "    .dataframe thead th {\n",
              "        text-align: right;\n",
              "    }\n",
              "</style>\n",
              "<table border=\"1\" class=\"dataframe\">\n",
              "  <thead>\n",
              "    <tr style=\"text-align: right;\">\n",
              "      <th></th>\n",
              "      <th>Id</th>\n",
              "      <th>MSSubClass</th>\n",
              "      <th>MSZoning</th>\n",
              "      <th>LotFrontage</th>\n",
              "      <th>LotArea</th>\n",
              "      <th>Street</th>\n",
              "      <th>Alley</th>\n",
              "      <th>LotShape</th>\n",
              "      <th>LandContour</th>\n",
              "      <th>Utilities</th>\n",
              "      <th>...</th>\n",
              "      <th>PoolArea</th>\n",
              "      <th>PoolQC</th>\n",
              "      <th>Fence</th>\n",
              "      <th>MiscFeature</th>\n",
              "      <th>MiscVal</th>\n",
              "      <th>MoSold</th>\n",
              "      <th>YrSold</th>\n",
              "      <th>SaleType</th>\n",
              "      <th>SaleCondition</th>\n",
              "      <th>SalePrice</th>\n",
              "    </tr>\n",
              "  </thead>\n",
              "  <tbody>\n",
              "    <tr>\n",
              "      <th>0</th>\n",
              "      <td>1</td>\n",
              "      <td>60</td>\n",
              "      <td>RL</td>\n",
              "      <td>65.0</td>\n",
              "      <td>8450</td>\n",
              "      <td>Pave</td>\n",
              "      <td>NaN</td>\n",
              "      <td>Reg</td>\n",
              "      <td>Lvl</td>\n",
              "      <td>AllPub</td>\n",
              "      <td>...</td>\n",
              "      <td>0</td>\n",
              "      <td>NaN</td>\n",
              "      <td>NaN</td>\n",
              "      <td>NaN</td>\n",
              "      <td>0</td>\n",
              "      <td>2</td>\n",
              "      <td>2008</td>\n",
              "      <td>WD</td>\n",
              "      <td>Normal</td>\n",
              "      <td>208500</td>\n",
              "    </tr>\n",
              "    <tr>\n",
              "      <th>1</th>\n",
              "      <td>2</td>\n",
              "      <td>20</td>\n",
              "      <td>RL</td>\n",
              "      <td>80.0</td>\n",
              "      <td>9600</td>\n",
              "      <td>Pave</td>\n",
              "      <td>NaN</td>\n",
              "      <td>Reg</td>\n",
              "      <td>Lvl</td>\n",
              "      <td>AllPub</td>\n",
              "      <td>...</td>\n",
              "      <td>0</td>\n",
              "      <td>NaN</td>\n",
              "      <td>NaN</td>\n",
              "      <td>NaN</td>\n",
              "      <td>0</td>\n",
              "      <td>5</td>\n",
              "      <td>2007</td>\n",
              "      <td>WD</td>\n",
              "      <td>Normal</td>\n",
              "      <td>181500</td>\n",
              "    </tr>\n",
              "    <tr>\n",
              "      <th>2</th>\n",
              "      <td>3</td>\n",
              "      <td>60</td>\n",
              "      <td>RL</td>\n",
              "      <td>68.0</td>\n",
              "      <td>11250</td>\n",
              "      <td>Pave</td>\n",
              "      <td>NaN</td>\n",
              "      <td>IR1</td>\n",
              "      <td>Lvl</td>\n",
              "      <td>AllPub</td>\n",
              "      <td>...</td>\n",
              "      <td>0</td>\n",
              "      <td>NaN</td>\n",
              "      <td>NaN</td>\n",
              "      <td>NaN</td>\n",
              "      <td>0</td>\n",
              "      <td>9</td>\n",
              "      <td>2008</td>\n",
              "      <td>WD</td>\n",
              "      <td>Normal</td>\n",
              "      <td>223500</td>\n",
              "    </tr>\n",
              "    <tr>\n",
              "      <th>3</th>\n",
              "      <td>4</td>\n",
              "      <td>70</td>\n",
              "      <td>RL</td>\n",
              "      <td>60.0</td>\n",
              "      <td>9550</td>\n",
              "      <td>Pave</td>\n",
              "      <td>NaN</td>\n",
              "      <td>IR1</td>\n",
              "      <td>Lvl</td>\n",
              "      <td>AllPub</td>\n",
              "      <td>...</td>\n",
              "      <td>0</td>\n",
              "      <td>NaN</td>\n",
              "      <td>NaN</td>\n",
              "      <td>NaN</td>\n",
              "      <td>0</td>\n",
              "      <td>2</td>\n",
              "      <td>2006</td>\n",
              "      <td>WD</td>\n",
              "      <td>Abnorml</td>\n",
              "      <td>140000</td>\n",
              "    </tr>\n",
              "    <tr>\n",
              "      <th>4</th>\n",
              "      <td>5</td>\n",
              "      <td>60</td>\n",
              "      <td>RL</td>\n",
              "      <td>84.0</td>\n",
              "      <td>14260</td>\n",
              "      <td>Pave</td>\n",
              "      <td>NaN</td>\n",
              "      <td>IR1</td>\n",
              "      <td>Lvl</td>\n",
              "      <td>AllPub</td>\n",
              "      <td>...</td>\n",
              "      <td>0</td>\n",
              "      <td>NaN</td>\n",
              "      <td>NaN</td>\n",
              "      <td>NaN</td>\n",
              "      <td>0</td>\n",
              "      <td>12</td>\n",
              "      <td>2008</td>\n",
              "      <td>WD</td>\n",
              "      <td>Normal</td>\n",
              "      <td>250000</td>\n",
              "    </tr>\n",
              "  </tbody>\n",
              "</table>\n",
              "<p>5 rows × 81 columns</p>\n",
              "</div>\n",
              "    <div class=\"colab-df-buttons\">\n",
              "\n",
              "  <div class=\"colab-df-container\">\n",
              "    <button class=\"colab-df-convert\" onclick=\"convertToInteractive('df-30d77610-7d1a-4379-9705-af91f850993b')\"\n",
              "            title=\"Convert this dataframe to an interactive table.\"\n",
              "            style=\"display:none;\">\n",
              "\n",
              "  <svg xmlns=\"http://www.w3.org/2000/svg\" height=\"24px\" viewBox=\"0 -960 960 960\">\n",
              "    <path d=\"M120-120v-720h720v720H120Zm60-500h600v-160H180v160Zm220 220h160v-160H400v160Zm0 220h160v-160H400v160ZM180-400h160v-160H180v160Zm440 0h160v-160H620v160ZM180-180h160v-160H180v160Zm440 0h160v-160H620v160Z\"/>\n",
              "  </svg>\n",
              "    </button>\n",
              "\n",
              "  <style>\n",
              "    .colab-df-container {\n",
              "      display:flex;\n",
              "      gap: 12px;\n",
              "    }\n",
              "\n",
              "    .colab-df-convert {\n",
              "      background-color: #E8F0FE;\n",
              "      border: none;\n",
              "      border-radius: 50%;\n",
              "      cursor: pointer;\n",
              "      display: none;\n",
              "      fill: #1967D2;\n",
              "      height: 32px;\n",
              "      padding: 0 0 0 0;\n",
              "      width: 32px;\n",
              "    }\n",
              "\n",
              "    .colab-df-convert:hover {\n",
              "      background-color: #E2EBFA;\n",
              "      box-shadow: 0px 1px 2px rgba(60, 64, 67, 0.3), 0px 1px 3px 1px rgba(60, 64, 67, 0.15);\n",
              "      fill: #174EA6;\n",
              "    }\n",
              "\n",
              "    .colab-df-buttons div {\n",
              "      margin-bottom: 4px;\n",
              "    }\n",
              "\n",
              "    [theme=dark] .colab-df-convert {\n",
              "      background-color: #3B4455;\n",
              "      fill: #D2E3FC;\n",
              "    }\n",
              "\n",
              "    [theme=dark] .colab-df-convert:hover {\n",
              "      background-color: #434B5C;\n",
              "      box-shadow: 0px 1px 3px 1px rgba(0, 0, 0, 0.15);\n",
              "      filter: drop-shadow(0px 1px 2px rgba(0, 0, 0, 0.3));\n",
              "      fill: #FFFFFF;\n",
              "    }\n",
              "  </style>\n",
              "\n",
              "    <script>\n",
              "      const buttonEl =\n",
              "        document.querySelector('#df-30d77610-7d1a-4379-9705-af91f850993b button.colab-df-convert');\n",
              "      buttonEl.style.display =\n",
              "        google.colab.kernel.accessAllowed ? 'block' : 'none';\n",
              "\n",
              "      async function convertToInteractive(key) {\n",
              "        const element = document.querySelector('#df-30d77610-7d1a-4379-9705-af91f850993b');\n",
              "        const dataTable =\n",
              "          await google.colab.kernel.invokeFunction('convertToInteractive',\n",
              "                                                    [key], {});\n",
              "        if (!dataTable) return;\n",
              "\n",
              "        const docLinkHtml = 'Like what you see? Visit the ' +\n",
              "          '<a target=\"_blank\" href=https://colab.research.google.com/notebooks/data_table.ipynb>data table notebook</a>'\n",
              "          + ' to learn more about interactive tables.';\n",
              "        element.innerHTML = '';\n",
              "        dataTable['output_type'] = 'display_data';\n",
              "        await google.colab.output.renderOutput(dataTable, element);\n",
              "        const docLink = document.createElement('div');\n",
              "        docLink.innerHTML = docLinkHtml;\n",
              "        element.appendChild(docLink);\n",
              "      }\n",
              "    </script>\n",
              "  </div>\n",
              "\n",
              "\n",
              "<div id=\"df-82059271-2926-47e7-9ff6-82ac2e7e3619\">\n",
              "  <button class=\"colab-df-quickchart\" onclick=\"quickchart('df-82059271-2926-47e7-9ff6-82ac2e7e3619')\"\n",
              "            title=\"Suggest charts\"\n",
              "            style=\"display:none;\">\n",
              "\n",
              "<svg xmlns=\"http://www.w3.org/2000/svg\" height=\"24px\"viewBox=\"0 0 24 24\"\n",
              "     width=\"24px\">\n",
              "    <g>\n",
              "        <path d=\"M19 3H5c-1.1 0-2 .9-2 2v14c0 1.1.9 2 2 2h14c1.1 0 2-.9 2-2V5c0-1.1-.9-2-2-2zM9 17H7v-7h2v7zm4 0h-2V7h2v10zm4 0h-2v-4h2v4z\"/>\n",
              "    </g>\n",
              "</svg>\n",
              "  </button>\n",
              "\n",
              "<style>\n",
              "  .colab-df-quickchart {\n",
              "      --bg-color: #E8F0FE;\n",
              "      --fill-color: #1967D2;\n",
              "      --hover-bg-color: #E2EBFA;\n",
              "      --hover-fill-color: #174EA6;\n",
              "      --disabled-fill-color: #AAA;\n",
              "      --disabled-bg-color: #DDD;\n",
              "  }\n",
              "\n",
              "  [theme=dark] .colab-df-quickchart {\n",
              "      --bg-color: #3B4455;\n",
              "      --fill-color: #D2E3FC;\n",
              "      --hover-bg-color: #434B5C;\n",
              "      --hover-fill-color: #FFFFFF;\n",
              "      --disabled-bg-color: #3B4455;\n",
              "      --disabled-fill-color: #666;\n",
              "  }\n",
              "\n",
              "  .colab-df-quickchart {\n",
              "    background-color: var(--bg-color);\n",
              "    border: none;\n",
              "    border-radius: 50%;\n",
              "    cursor: pointer;\n",
              "    display: none;\n",
              "    fill: var(--fill-color);\n",
              "    height: 32px;\n",
              "    padding: 0;\n",
              "    width: 32px;\n",
              "  }\n",
              "\n",
              "  .colab-df-quickchart:hover {\n",
              "    background-color: var(--hover-bg-color);\n",
              "    box-shadow: 0 1px 2px rgba(60, 64, 67, 0.3), 0 1px 3px 1px rgba(60, 64, 67, 0.15);\n",
              "    fill: var(--button-hover-fill-color);\n",
              "  }\n",
              "\n",
              "  .colab-df-quickchart-complete:disabled,\n",
              "  .colab-df-quickchart-complete:disabled:hover {\n",
              "    background-color: var(--disabled-bg-color);\n",
              "    fill: var(--disabled-fill-color);\n",
              "    box-shadow: none;\n",
              "  }\n",
              "\n",
              "  .colab-df-spinner {\n",
              "    border: 2px solid var(--fill-color);\n",
              "    border-color: transparent;\n",
              "    border-bottom-color: var(--fill-color);\n",
              "    animation:\n",
              "      spin 1s steps(1) infinite;\n",
              "  }\n",
              "\n",
              "  @keyframes spin {\n",
              "    0% {\n",
              "      border-color: transparent;\n",
              "      border-bottom-color: var(--fill-color);\n",
              "      border-left-color: var(--fill-color);\n",
              "    }\n",
              "    20% {\n",
              "      border-color: transparent;\n",
              "      border-left-color: var(--fill-color);\n",
              "      border-top-color: var(--fill-color);\n",
              "    }\n",
              "    30% {\n",
              "      border-color: transparent;\n",
              "      border-left-color: var(--fill-color);\n",
              "      border-top-color: var(--fill-color);\n",
              "      border-right-color: var(--fill-color);\n",
              "    }\n",
              "    40% {\n",
              "      border-color: transparent;\n",
              "      border-right-color: var(--fill-color);\n",
              "      border-top-color: var(--fill-color);\n",
              "    }\n",
              "    60% {\n",
              "      border-color: transparent;\n",
              "      border-right-color: var(--fill-color);\n",
              "    }\n",
              "    80% {\n",
              "      border-color: transparent;\n",
              "      border-right-color: var(--fill-color);\n",
              "      border-bottom-color: var(--fill-color);\n",
              "    }\n",
              "    90% {\n",
              "      border-color: transparent;\n",
              "      border-bottom-color: var(--fill-color);\n",
              "    }\n",
              "  }\n",
              "</style>\n",
              "\n",
              "  <script>\n",
              "    async function quickchart(key) {\n",
              "      const quickchartButtonEl =\n",
              "        document.querySelector('#' + key + ' button');\n",
              "      quickchartButtonEl.disabled = true;  // To prevent multiple clicks.\n",
              "      quickchartButtonEl.classList.add('colab-df-spinner');\n",
              "      try {\n",
              "        const charts = await google.colab.kernel.invokeFunction(\n",
              "            'suggestCharts', [key], {});\n",
              "      } catch (error) {\n",
              "        console.error('Error during call to suggestCharts:', error);\n",
              "      }\n",
              "      quickchartButtonEl.classList.remove('colab-df-spinner');\n",
              "      quickchartButtonEl.classList.add('colab-df-quickchart-complete');\n",
              "    }\n",
              "    (() => {\n",
              "      let quickchartButtonEl =\n",
              "        document.querySelector('#df-82059271-2926-47e7-9ff6-82ac2e7e3619 button');\n",
              "      quickchartButtonEl.style.display =\n",
              "        google.colab.kernel.accessAllowed ? 'block' : 'none';\n",
              "    })();\n",
              "  </script>\n",
              "</div>\n",
              "    </div>\n",
              "  </div>\n"
            ]
          },
          "metadata": {},
          "execution_count": 459
        }
      ]
    },
    {
      "cell_type": "code",
      "source": [
        "df = df.drop('Id', axis=1)"
      ],
      "metadata": {
        "id": "jXnZsuaM-Ile"
      },
      "execution_count": 460,
      "outputs": []
    },
    {
      "cell_type": "code",
      "source": [
        "df.shape"
      ],
      "metadata": {
        "colab": {
          "base_uri": "https://localhost:8080/"
        },
        "id": "0Hewf7Of9dxr",
        "outputId": "a7b23f74-2ed7-4ed9-b89f-da94aa7a055f"
      },
      "execution_count": 461,
      "outputs": [
        {
          "output_type": "execute_result",
          "data": {
            "text/plain": [
              "(1460, 80)"
            ]
          },
          "metadata": {},
          "execution_count": 461
        }
      ]
    },
    {
      "cell_type": "code",
      "source": [
        "df.isnull().sum().sum()"
      ],
      "metadata": {
        "colab": {
          "base_uri": "https://localhost:8080/"
        },
        "id": "HgzLq-Wp9ary",
        "outputId": "0e19cc60-095e-41e7-fbe6-a835a4d8a6c5"
      },
      "execution_count": 462,
      "outputs": [
        {
          "output_type": "execute_result",
          "data": {
            "text/plain": [
              "6965"
            ]
          },
          "metadata": {},
          "execution_count": 462
        }
      ]
    },
    {
      "cell_type": "code",
      "source": [
        "for i, e in enumerate(df.isnull().sum()):\n",
        "  print(i, e)"
      ],
      "metadata": {
        "colab": {
          "base_uri": "https://localhost:8080/"
        },
        "id": "qFxDfs-a9jeI",
        "outputId": "c8da1b9b-ae90-44c6-d438-ff1b918d0573"
      },
      "execution_count": 463,
      "outputs": [
        {
          "output_type": "stream",
          "name": "stdout",
          "text": [
            "0 0\n",
            "1 0\n",
            "2 259\n",
            "3 0\n",
            "4 0\n",
            "5 1369\n",
            "6 0\n",
            "7 0\n",
            "8 0\n",
            "9 0\n",
            "10 0\n",
            "11 0\n",
            "12 0\n",
            "13 0\n",
            "14 0\n",
            "15 0\n",
            "16 0\n",
            "17 0\n",
            "18 0\n",
            "19 0\n",
            "20 0\n",
            "21 0\n",
            "22 0\n",
            "23 0\n",
            "24 8\n",
            "25 8\n",
            "26 0\n",
            "27 0\n",
            "28 0\n",
            "29 37\n",
            "30 37\n",
            "31 38\n",
            "32 37\n",
            "33 0\n",
            "34 38\n",
            "35 0\n",
            "36 0\n",
            "37 0\n",
            "38 0\n",
            "39 0\n",
            "40 0\n",
            "41 1\n",
            "42 0\n",
            "43 0\n",
            "44 0\n",
            "45 0\n",
            "46 0\n",
            "47 0\n",
            "48 0\n",
            "49 0\n",
            "50 0\n",
            "51 0\n",
            "52 0\n",
            "53 0\n",
            "54 0\n",
            "55 0\n",
            "56 690\n",
            "57 81\n",
            "58 81\n",
            "59 81\n",
            "60 0\n",
            "61 0\n",
            "62 81\n",
            "63 81\n",
            "64 0\n",
            "65 0\n",
            "66 0\n",
            "67 0\n",
            "68 0\n",
            "69 0\n",
            "70 0\n",
            "71 1453\n",
            "72 1179\n",
            "73 1406\n",
            "74 0\n",
            "75 0\n",
            "76 0\n",
            "77 0\n",
            "78 0\n",
            "79 0\n"
          ]
        }
      ]
    },
    {
      "cell_type": "code",
      "source": [
        "types = []\n",
        "for type_ in df.dtypes:\n",
        "  types.append(type_)"
      ],
      "metadata": {
        "id": "FK-O0r788gTO"
      },
      "execution_count": 464,
      "outputs": []
    },
    {
      "cell_type": "code",
      "source": [
        "types = pd.DataFrame(types)\n",
        "types[0].value_counts()"
      ],
      "metadata": {
        "colab": {
          "base_uri": "https://localhost:8080/"
        },
        "id": "Kp5LmLuF8v02",
        "outputId": "30a83c07-5d3a-48d8-ef86-da31850bf66a"
      },
      "execution_count": 465,
      "outputs": [
        {
          "output_type": "execute_result",
          "data": {
            "text/plain": [
              "object     43\n",
              "int64      34\n",
              "float64     3\n",
              "Name: 0, dtype: int64"
            ]
          },
          "metadata": {},
          "execution_count": 465
        }
      ]
    },
    {
      "cell_type": "code",
      "source": [
        "df['MSZoning'].value_counts()"
      ],
      "metadata": {
        "colab": {
          "base_uri": "https://localhost:8080/"
        },
        "id": "fNd86D929Ngg",
        "outputId": "b24a2fcb-bb22-45c0-c445-87cee1d68cdf"
      },
      "execution_count": 466,
      "outputs": [
        {
          "output_type": "execute_result",
          "data": {
            "text/plain": [
              "RL         1151\n",
              "RM          218\n",
              "FV           65\n",
              "RH           16\n",
              "C (all)      10\n",
              "Name: MSZoning, dtype: int64"
            ]
          },
          "metadata": {},
          "execution_count": 466
        }
      ]
    },
    {
      "cell_type": "code",
      "source": [
        "df['Street'].value_counts()"
      ],
      "metadata": {
        "colab": {
          "base_uri": "https://localhost:8080/"
        },
        "id": "XbPom9TD9UBk",
        "outputId": "f09edecb-8319-429a-ea74-b9ea6ade75d6"
      },
      "execution_count": 467,
      "outputs": [
        {
          "output_type": "execute_result",
          "data": {
            "text/plain": [
              "Pave    1454\n",
              "Grvl       6\n",
              "Name: Street, dtype: int64"
            ]
          },
          "metadata": {},
          "execution_count": 467
        }
      ]
    },
    {
      "cell_type": "code",
      "source": [
        "df.head()"
      ],
      "metadata": {
        "colab": {
          "base_uri": "https://localhost:8080/",
          "height": 256
        },
        "id": "Kw0TbPzy9ZHV",
        "outputId": "c42278c1-e46f-409f-d40c-d33dec9a3f7f"
      },
      "execution_count": 468,
      "outputs": [
        {
          "output_type": "execute_result",
          "data": {
            "text/plain": [
              "   MSSubClass MSZoning  LotFrontage  LotArea Street Alley LotShape  \\\n",
              "0          60       RL         65.0     8450   Pave   NaN      Reg   \n",
              "1          20       RL         80.0     9600   Pave   NaN      Reg   \n",
              "2          60       RL         68.0    11250   Pave   NaN      IR1   \n",
              "3          70       RL         60.0     9550   Pave   NaN      IR1   \n",
              "4          60       RL         84.0    14260   Pave   NaN      IR1   \n",
              "\n",
              "  LandContour Utilities LotConfig  ... PoolArea PoolQC Fence MiscFeature  \\\n",
              "0         Lvl    AllPub    Inside  ...        0    NaN   NaN         NaN   \n",
              "1         Lvl    AllPub       FR2  ...        0    NaN   NaN         NaN   \n",
              "2         Lvl    AllPub    Inside  ...        0    NaN   NaN         NaN   \n",
              "3         Lvl    AllPub    Corner  ...        0    NaN   NaN         NaN   \n",
              "4         Lvl    AllPub       FR2  ...        0    NaN   NaN         NaN   \n",
              "\n",
              "  MiscVal MoSold  YrSold  SaleType  SaleCondition  SalePrice  \n",
              "0       0      2    2008        WD         Normal     208500  \n",
              "1       0      5    2007        WD         Normal     181500  \n",
              "2       0      9    2008        WD         Normal     223500  \n",
              "3       0      2    2006        WD        Abnorml     140000  \n",
              "4       0     12    2008        WD         Normal     250000  \n",
              "\n",
              "[5 rows x 80 columns]"
            ],
            "text/html": [
              "\n",
              "  <div id=\"df-9068a51f-f31d-4e80-8257-530719dc9aa6\" class=\"colab-df-container\">\n",
              "    <div>\n",
              "<style scoped>\n",
              "    .dataframe tbody tr th:only-of-type {\n",
              "        vertical-align: middle;\n",
              "    }\n",
              "\n",
              "    .dataframe tbody tr th {\n",
              "        vertical-align: top;\n",
              "    }\n",
              "\n",
              "    .dataframe thead th {\n",
              "        text-align: right;\n",
              "    }\n",
              "</style>\n",
              "<table border=\"1\" class=\"dataframe\">\n",
              "  <thead>\n",
              "    <tr style=\"text-align: right;\">\n",
              "      <th></th>\n",
              "      <th>MSSubClass</th>\n",
              "      <th>MSZoning</th>\n",
              "      <th>LotFrontage</th>\n",
              "      <th>LotArea</th>\n",
              "      <th>Street</th>\n",
              "      <th>Alley</th>\n",
              "      <th>LotShape</th>\n",
              "      <th>LandContour</th>\n",
              "      <th>Utilities</th>\n",
              "      <th>LotConfig</th>\n",
              "      <th>...</th>\n",
              "      <th>PoolArea</th>\n",
              "      <th>PoolQC</th>\n",
              "      <th>Fence</th>\n",
              "      <th>MiscFeature</th>\n",
              "      <th>MiscVal</th>\n",
              "      <th>MoSold</th>\n",
              "      <th>YrSold</th>\n",
              "      <th>SaleType</th>\n",
              "      <th>SaleCondition</th>\n",
              "      <th>SalePrice</th>\n",
              "    </tr>\n",
              "  </thead>\n",
              "  <tbody>\n",
              "    <tr>\n",
              "      <th>0</th>\n",
              "      <td>60</td>\n",
              "      <td>RL</td>\n",
              "      <td>65.0</td>\n",
              "      <td>8450</td>\n",
              "      <td>Pave</td>\n",
              "      <td>NaN</td>\n",
              "      <td>Reg</td>\n",
              "      <td>Lvl</td>\n",
              "      <td>AllPub</td>\n",
              "      <td>Inside</td>\n",
              "      <td>...</td>\n",
              "      <td>0</td>\n",
              "      <td>NaN</td>\n",
              "      <td>NaN</td>\n",
              "      <td>NaN</td>\n",
              "      <td>0</td>\n",
              "      <td>2</td>\n",
              "      <td>2008</td>\n",
              "      <td>WD</td>\n",
              "      <td>Normal</td>\n",
              "      <td>208500</td>\n",
              "    </tr>\n",
              "    <tr>\n",
              "      <th>1</th>\n",
              "      <td>20</td>\n",
              "      <td>RL</td>\n",
              "      <td>80.0</td>\n",
              "      <td>9600</td>\n",
              "      <td>Pave</td>\n",
              "      <td>NaN</td>\n",
              "      <td>Reg</td>\n",
              "      <td>Lvl</td>\n",
              "      <td>AllPub</td>\n",
              "      <td>FR2</td>\n",
              "      <td>...</td>\n",
              "      <td>0</td>\n",
              "      <td>NaN</td>\n",
              "      <td>NaN</td>\n",
              "      <td>NaN</td>\n",
              "      <td>0</td>\n",
              "      <td>5</td>\n",
              "      <td>2007</td>\n",
              "      <td>WD</td>\n",
              "      <td>Normal</td>\n",
              "      <td>181500</td>\n",
              "    </tr>\n",
              "    <tr>\n",
              "      <th>2</th>\n",
              "      <td>60</td>\n",
              "      <td>RL</td>\n",
              "      <td>68.0</td>\n",
              "      <td>11250</td>\n",
              "      <td>Pave</td>\n",
              "      <td>NaN</td>\n",
              "      <td>IR1</td>\n",
              "      <td>Lvl</td>\n",
              "      <td>AllPub</td>\n",
              "      <td>Inside</td>\n",
              "      <td>...</td>\n",
              "      <td>0</td>\n",
              "      <td>NaN</td>\n",
              "      <td>NaN</td>\n",
              "      <td>NaN</td>\n",
              "      <td>0</td>\n",
              "      <td>9</td>\n",
              "      <td>2008</td>\n",
              "      <td>WD</td>\n",
              "      <td>Normal</td>\n",
              "      <td>223500</td>\n",
              "    </tr>\n",
              "    <tr>\n",
              "      <th>3</th>\n",
              "      <td>70</td>\n",
              "      <td>RL</td>\n",
              "      <td>60.0</td>\n",
              "      <td>9550</td>\n",
              "      <td>Pave</td>\n",
              "      <td>NaN</td>\n",
              "      <td>IR1</td>\n",
              "      <td>Lvl</td>\n",
              "      <td>AllPub</td>\n",
              "      <td>Corner</td>\n",
              "      <td>...</td>\n",
              "      <td>0</td>\n",
              "      <td>NaN</td>\n",
              "      <td>NaN</td>\n",
              "      <td>NaN</td>\n",
              "      <td>0</td>\n",
              "      <td>2</td>\n",
              "      <td>2006</td>\n",
              "      <td>WD</td>\n",
              "      <td>Abnorml</td>\n",
              "      <td>140000</td>\n",
              "    </tr>\n",
              "    <tr>\n",
              "      <th>4</th>\n",
              "      <td>60</td>\n",
              "      <td>RL</td>\n",
              "      <td>84.0</td>\n",
              "      <td>14260</td>\n",
              "      <td>Pave</td>\n",
              "      <td>NaN</td>\n",
              "      <td>IR1</td>\n",
              "      <td>Lvl</td>\n",
              "      <td>AllPub</td>\n",
              "      <td>FR2</td>\n",
              "      <td>...</td>\n",
              "      <td>0</td>\n",
              "      <td>NaN</td>\n",
              "      <td>NaN</td>\n",
              "      <td>NaN</td>\n",
              "      <td>0</td>\n",
              "      <td>12</td>\n",
              "      <td>2008</td>\n",
              "      <td>WD</td>\n",
              "      <td>Normal</td>\n",
              "      <td>250000</td>\n",
              "    </tr>\n",
              "  </tbody>\n",
              "</table>\n",
              "<p>5 rows × 80 columns</p>\n",
              "</div>\n",
              "    <div class=\"colab-df-buttons\">\n",
              "\n",
              "  <div class=\"colab-df-container\">\n",
              "    <button class=\"colab-df-convert\" onclick=\"convertToInteractive('df-9068a51f-f31d-4e80-8257-530719dc9aa6')\"\n",
              "            title=\"Convert this dataframe to an interactive table.\"\n",
              "            style=\"display:none;\">\n",
              "\n",
              "  <svg xmlns=\"http://www.w3.org/2000/svg\" height=\"24px\" viewBox=\"0 -960 960 960\">\n",
              "    <path d=\"M120-120v-720h720v720H120Zm60-500h600v-160H180v160Zm220 220h160v-160H400v160Zm0 220h160v-160H400v160ZM180-400h160v-160H180v160Zm440 0h160v-160H620v160ZM180-180h160v-160H180v160Zm440 0h160v-160H620v160Z\"/>\n",
              "  </svg>\n",
              "    </button>\n",
              "\n",
              "  <style>\n",
              "    .colab-df-container {\n",
              "      display:flex;\n",
              "      gap: 12px;\n",
              "    }\n",
              "\n",
              "    .colab-df-convert {\n",
              "      background-color: #E8F0FE;\n",
              "      border: none;\n",
              "      border-radius: 50%;\n",
              "      cursor: pointer;\n",
              "      display: none;\n",
              "      fill: #1967D2;\n",
              "      height: 32px;\n",
              "      padding: 0 0 0 0;\n",
              "      width: 32px;\n",
              "    }\n",
              "\n",
              "    .colab-df-convert:hover {\n",
              "      background-color: #E2EBFA;\n",
              "      box-shadow: 0px 1px 2px rgba(60, 64, 67, 0.3), 0px 1px 3px 1px rgba(60, 64, 67, 0.15);\n",
              "      fill: #174EA6;\n",
              "    }\n",
              "\n",
              "    .colab-df-buttons div {\n",
              "      margin-bottom: 4px;\n",
              "    }\n",
              "\n",
              "    [theme=dark] .colab-df-convert {\n",
              "      background-color: #3B4455;\n",
              "      fill: #D2E3FC;\n",
              "    }\n",
              "\n",
              "    [theme=dark] .colab-df-convert:hover {\n",
              "      background-color: #434B5C;\n",
              "      box-shadow: 0px 1px 3px 1px rgba(0, 0, 0, 0.15);\n",
              "      filter: drop-shadow(0px 1px 2px rgba(0, 0, 0, 0.3));\n",
              "      fill: #FFFFFF;\n",
              "    }\n",
              "  </style>\n",
              "\n",
              "    <script>\n",
              "      const buttonEl =\n",
              "        document.querySelector('#df-9068a51f-f31d-4e80-8257-530719dc9aa6 button.colab-df-convert');\n",
              "      buttonEl.style.display =\n",
              "        google.colab.kernel.accessAllowed ? 'block' : 'none';\n",
              "\n",
              "      async function convertToInteractive(key) {\n",
              "        const element = document.querySelector('#df-9068a51f-f31d-4e80-8257-530719dc9aa6');\n",
              "        const dataTable =\n",
              "          await google.colab.kernel.invokeFunction('convertToInteractive',\n",
              "                                                    [key], {});\n",
              "        if (!dataTable) return;\n",
              "\n",
              "        const docLinkHtml = 'Like what you see? Visit the ' +\n",
              "          '<a target=\"_blank\" href=https://colab.research.google.com/notebooks/data_table.ipynb>data table notebook</a>'\n",
              "          + ' to learn more about interactive tables.';\n",
              "        element.innerHTML = '';\n",
              "        dataTable['output_type'] = 'display_data';\n",
              "        await google.colab.output.renderOutput(dataTable, element);\n",
              "        const docLink = document.createElement('div');\n",
              "        docLink.innerHTML = docLinkHtml;\n",
              "        element.appendChild(docLink);\n",
              "      }\n",
              "    </script>\n",
              "  </div>\n",
              "\n",
              "\n",
              "<div id=\"df-721618a9-ec2f-436e-80d5-57d8a98d0679\">\n",
              "  <button class=\"colab-df-quickchart\" onclick=\"quickchart('df-721618a9-ec2f-436e-80d5-57d8a98d0679')\"\n",
              "            title=\"Suggest charts\"\n",
              "            style=\"display:none;\">\n",
              "\n",
              "<svg xmlns=\"http://www.w3.org/2000/svg\" height=\"24px\"viewBox=\"0 0 24 24\"\n",
              "     width=\"24px\">\n",
              "    <g>\n",
              "        <path d=\"M19 3H5c-1.1 0-2 .9-2 2v14c0 1.1.9 2 2 2h14c1.1 0 2-.9 2-2V5c0-1.1-.9-2-2-2zM9 17H7v-7h2v7zm4 0h-2V7h2v10zm4 0h-2v-4h2v4z\"/>\n",
              "    </g>\n",
              "</svg>\n",
              "  </button>\n",
              "\n",
              "<style>\n",
              "  .colab-df-quickchart {\n",
              "      --bg-color: #E8F0FE;\n",
              "      --fill-color: #1967D2;\n",
              "      --hover-bg-color: #E2EBFA;\n",
              "      --hover-fill-color: #174EA6;\n",
              "      --disabled-fill-color: #AAA;\n",
              "      --disabled-bg-color: #DDD;\n",
              "  }\n",
              "\n",
              "  [theme=dark] .colab-df-quickchart {\n",
              "      --bg-color: #3B4455;\n",
              "      --fill-color: #D2E3FC;\n",
              "      --hover-bg-color: #434B5C;\n",
              "      --hover-fill-color: #FFFFFF;\n",
              "      --disabled-bg-color: #3B4455;\n",
              "      --disabled-fill-color: #666;\n",
              "  }\n",
              "\n",
              "  .colab-df-quickchart {\n",
              "    background-color: var(--bg-color);\n",
              "    border: none;\n",
              "    border-radius: 50%;\n",
              "    cursor: pointer;\n",
              "    display: none;\n",
              "    fill: var(--fill-color);\n",
              "    height: 32px;\n",
              "    padding: 0;\n",
              "    width: 32px;\n",
              "  }\n",
              "\n",
              "  .colab-df-quickchart:hover {\n",
              "    background-color: var(--hover-bg-color);\n",
              "    box-shadow: 0 1px 2px rgba(60, 64, 67, 0.3), 0 1px 3px 1px rgba(60, 64, 67, 0.15);\n",
              "    fill: var(--button-hover-fill-color);\n",
              "  }\n",
              "\n",
              "  .colab-df-quickchart-complete:disabled,\n",
              "  .colab-df-quickchart-complete:disabled:hover {\n",
              "    background-color: var(--disabled-bg-color);\n",
              "    fill: var(--disabled-fill-color);\n",
              "    box-shadow: none;\n",
              "  }\n",
              "\n",
              "  .colab-df-spinner {\n",
              "    border: 2px solid var(--fill-color);\n",
              "    border-color: transparent;\n",
              "    border-bottom-color: var(--fill-color);\n",
              "    animation:\n",
              "      spin 1s steps(1) infinite;\n",
              "  }\n",
              "\n",
              "  @keyframes spin {\n",
              "    0% {\n",
              "      border-color: transparent;\n",
              "      border-bottom-color: var(--fill-color);\n",
              "      border-left-color: var(--fill-color);\n",
              "    }\n",
              "    20% {\n",
              "      border-color: transparent;\n",
              "      border-left-color: var(--fill-color);\n",
              "      border-top-color: var(--fill-color);\n",
              "    }\n",
              "    30% {\n",
              "      border-color: transparent;\n",
              "      border-left-color: var(--fill-color);\n",
              "      border-top-color: var(--fill-color);\n",
              "      border-right-color: var(--fill-color);\n",
              "    }\n",
              "    40% {\n",
              "      border-color: transparent;\n",
              "      border-right-color: var(--fill-color);\n",
              "      border-top-color: var(--fill-color);\n",
              "    }\n",
              "    60% {\n",
              "      border-color: transparent;\n",
              "      border-right-color: var(--fill-color);\n",
              "    }\n",
              "    80% {\n",
              "      border-color: transparent;\n",
              "      border-right-color: var(--fill-color);\n",
              "      border-bottom-color: var(--fill-color);\n",
              "    }\n",
              "    90% {\n",
              "      border-color: transparent;\n",
              "      border-bottom-color: var(--fill-color);\n",
              "    }\n",
              "  }\n",
              "</style>\n",
              "\n",
              "  <script>\n",
              "    async function quickchart(key) {\n",
              "      const quickchartButtonEl =\n",
              "        document.querySelector('#' + key + ' button');\n",
              "      quickchartButtonEl.disabled = true;  // To prevent multiple clicks.\n",
              "      quickchartButtonEl.classList.add('colab-df-spinner');\n",
              "      try {\n",
              "        const charts = await google.colab.kernel.invokeFunction(\n",
              "            'suggestCharts', [key], {});\n",
              "      } catch (error) {\n",
              "        console.error('Error during call to suggestCharts:', error);\n",
              "      }\n",
              "      quickchartButtonEl.classList.remove('colab-df-spinner');\n",
              "      quickchartButtonEl.classList.add('colab-df-quickchart-complete');\n",
              "    }\n",
              "    (() => {\n",
              "      let quickchartButtonEl =\n",
              "        document.querySelector('#df-721618a9-ec2f-436e-80d5-57d8a98d0679 button');\n",
              "      quickchartButtonEl.style.display =\n",
              "        google.colab.kernel.accessAllowed ? 'block' : 'none';\n",
              "    })();\n",
              "  </script>\n",
              "</div>\n",
              "    </div>\n",
              "  </div>\n"
            ]
          },
          "metadata": {},
          "execution_count": 468
        }
      ]
    },
    {
      "cell_type": "code",
      "source": [
        "df['Alley'].value_counts()"
      ],
      "metadata": {
        "colab": {
          "base_uri": "https://localhost:8080/"
        },
        "id": "1F7Obrug-OQu",
        "outputId": "1aa336a3-fe0c-4209-cdc9-8ab8b041a790"
      },
      "execution_count": 469,
      "outputs": [
        {
          "output_type": "execute_result",
          "data": {
            "text/plain": [
              "Grvl    50\n",
              "Pave    41\n",
              "Name: Alley, dtype: int64"
            ]
          },
          "metadata": {},
          "execution_count": 469
        }
      ]
    },
    {
      "cell_type": "code",
      "source": [
        "df['LotShape'].value_counts()"
      ],
      "metadata": {
        "colab": {
          "base_uri": "https://localhost:8080/"
        },
        "id": "blwikm9q-Q89",
        "outputId": "65852bfc-e833-4283-a7f7-e91115e9111d"
      },
      "execution_count": 470,
      "outputs": [
        {
          "output_type": "execute_result",
          "data": {
            "text/plain": [
              "Reg    925\n",
              "IR1    484\n",
              "IR2     41\n",
              "IR3     10\n",
              "Name: LotShape, dtype: int64"
            ]
          },
          "metadata": {},
          "execution_count": 470
        }
      ]
    },
    {
      "cell_type": "code",
      "source": [
        "df['LandContour'].value_counts()"
      ],
      "metadata": {
        "colab": {
          "base_uri": "https://localhost:8080/"
        },
        "id": "90K4C4yD-aOL",
        "outputId": "7923d617-0bdb-4ef8-93f5-2f0f1ae48861"
      },
      "execution_count": 471,
      "outputs": [
        {
          "output_type": "execute_result",
          "data": {
            "text/plain": [
              "Lvl    1311\n",
              "Bnk      63\n",
              "HLS      50\n",
              "Low      36\n",
              "Name: LandContour, dtype: int64"
            ]
          },
          "metadata": {},
          "execution_count": 471
        }
      ]
    },
    {
      "cell_type": "code",
      "source": [
        "df['Utilities'].value_counts()"
      ],
      "metadata": {
        "colab": {
          "base_uri": "https://localhost:8080/"
        },
        "id": "hhsy5ZHc-fUd",
        "outputId": "463272c9-d1ff-401b-cc0f-1050525832a9"
      },
      "execution_count": 472,
      "outputs": [
        {
          "output_type": "execute_result",
          "data": {
            "text/plain": [
              "AllPub    1459\n",
              "NoSeWa       1\n",
              "Name: Utilities, dtype: int64"
            ]
          },
          "metadata": {},
          "execution_count": 472
        }
      ]
    },
    {
      "cell_type": "code",
      "source": [
        "df['LotConfig'].value_counts()"
      ],
      "metadata": {
        "colab": {
          "base_uri": "https://localhost:8080/"
        },
        "id": "9ux8uZzu-ptm",
        "outputId": "9671e572-fa1d-43af-d32f-1390f7a8452c"
      },
      "execution_count": 473,
      "outputs": [
        {
          "output_type": "execute_result",
          "data": {
            "text/plain": [
              "Inside     1052\n",
              "Corner      263\n",
              "CulDSac      94\n",
              "FR2          47\n",
              "FR3           4\n",
              "Name: LotConfig, dtype: int64"
            ]
          },
          "metadata": {},
          "execution_count": 473
        }
      ]
    },
    {
      "cell_type": "code",
      "source": [
        "for i in range(df.shape[1]):\n",
        "  print(f'{df.columns[i]}: {df.dtypes[i]}\\n{\"-\"*60}')"
      ],
      "metadata": {
        "colab": {
          "base_uri": "https://localhost:8080/"
        },
        "id": "y7ergt-r_F0N",
        "outputId": "69c2192c-6fa4-458a-9ed2-f85e238d2ce5"
      },
      "execution_count": 474,
      "outputs": [
        {
          "output_type": "stream",
          "name": "stdout",
          "text": [
            "MSSubClass: int64\n",
            "------------------------------------------------------------\n",
            "MSZoning: object\n",
            "------------------------------------------------------------\n",
            "LotFrontage: float64\n",
            "------------------------------------------------------------\n",
            "LotArea: int64\n",
            "------------------------------------------------------------\n",
            "Street: object\n",
            "------------------------------------------------------------\n",
            "Alley: object\n",
            "------------------------------------------------------------\n",
            "LotShape: object\n",
            "------------------------------------------------------------\n",
            "LandContour: object\n",
            "------------------------------------------------------------\n",
            "Utilities: object\n",
            "------------------------------------------------------------\n",
            "LotConfig: object\n",
            "------------------------------------------------------------\n",
            "LandSlope: object\n",
            "------------------------------------------------------------\n",
            "Neighborhood: object\n",
            "------------------------------------------------------------\n",
            "Condition1: object\n",
            "------------------------------------------------------------\n",
            "Condition2: object\n",
            "------------------------------------------------------------\n",
            "BldgType: object\n",
            "------------------------------------------------------------\n",
            "HouseStyle: object\n",
            "------------------------------------------------------------\n",
            "OverallQual: int64\n",
            "------------------------------------------------------------\n",
            "OverallCond: int64\n",
            "------------------------------------------------------------\n",
            "YearBuilt: int64\n",
            "------------------------------------------------------------\n",
            "YearRemodAdd: int64\n",
            "------------------------------------------------------------\n",
            "RoofStyle: object\n",
            "------------------------------------------------------------\n",
            "RoofMatl: object\n",
            "------------------------------------------------------------\n",
            "Exterior1st: object\n",
            "------------------------------------------------------------\n",
            "Exterior2nd: object\n",
            "------------------------------------------------------------\n",
            "MasVnrType: object\n",
            "------------------------------------------------------------\n",
            "MasVnrArea: float64\n",
            "------------------------------------------------------------\n",
            "ExterQual: object\n",
            "------------------------------------------------------------\n",
            "ExterCond: object\n",
            "------------------------------------------------------------\n",
            "Foundation: object\n",
            "------------------------------------------------------------\n",
            "BsmtQual: object\n",
            "------------------------------------------------------------\n",
            "BsmtCond: object\n",
            "------------------------------------------------------------\n",
            "BsmtExposure: object\n",
            "------------------------------------------------------------\n",
            "BsmtFinType1: object\n",
            "------------------------------------------------------------\n",
            "BsmtFinSF1: int64\n",
            "------------------------------------------------------------\n",
            "BsmtFinType2: object\n",
            "------------------------------------------------------------\n",
            "BsmtFinSF2: int64\n",
            "------------------------------------------------------------\n",
            "BsmtUnfSF: int64\n",
            "------------------------------------------------------------\n",
            "TotalBsmtSF: int64\n",
            "------------------------------------------------------------\n",
            "Heating: object\n",
            "------------------------------------------------------------\n",
            "HeatingQC: object\n",
            "------------------------------------------------------------\n",
            "CentralAir: object\n",
            "------------------------------------------------------------\n",
            "Electrical: object\n",
            "------------------------------------------------------------\n",
            "1stFlrSF: int64\n",
            "------------------------------------------------------------\n",
            "2ndFlrSF: int64\n",
            "------------------------------------------------------------\n",
            "LowQualFinSF: int64\n",
            "------------------------------------------------------------\n",
            "GrLivArea: int64\n",
            "------------------------------------------------------------\n",
            "BsmtFullBath: int64\n",
            "------------------------------------------------------------\n",
            "BsmtHalfBath: int64\n",
            "------------------------------------------------------------\n",
            "FullBath: int64\n",
            "------------------------------------------------------------\n",
            "HalfBath: int64\n",
            "------------------------------------------------------------\n",
            "BedroomAbvGr: int64\n",
            "------------------------------------------------------------\n",
            "KitchenAbvGr: int64\n",
            "------------------------------------------------------------\n",
            "KitchenQual: object\n",
            "------------------------------------------------------------\n",
            "TotRmsAbvGrd: int64\n",
            "------------------------------------------------------------\n",
            "Functional: object\n",
            "------------------------------------------------------------\n",
            "Fireplaces: int64\n",
            "------------------------------------------------------------\n",
            "FireplaceQu: object\n",
            "------------------------------------------------------------\n",
            "GarageType: object\n",
            "------------------------------------------------------------\n",
            "GarageYrBlt: float64\n",
            "------------------------------------------------------------\n",
            "GarageFinish: object\n",
            "------------------------------------------------------------\n",
            "GarageCars: int64\n",
            "------------------------------------------------------------\n",
            "GarageArea: int64\n",
            "------------------------------------------------------------\n",
            "GarageQual: object\n",
            "------------------------------------------------------------\n",
            "GarageCond: object\n",
            "------------------------------------------------------------\n",
            "PavedDrive: object\n",
            "------------------------------------------------------------\n",
            "WoodDeckSF: int64\n",
            "------------------------------------------------------------\n",
            "OpenPorchSF: int64\n",
            "------------------------------------------------------------\n",
            "EnclosedPorch: int64\n",
            "------------------------------------------------------------\n",
            "3SsnPorch: int64\n",
            "------------------------------------------------------------\n",
            "ScreenPorch: int64\n",
            "------------------------------------------------------------\n",
            "PoolArea: int64\n",
            "------------------------------------------------------------\n",
            "PoolQC: object\n",
            "------------------------------------------------------------\n",
            "Fence: object\n",
            "------------------------------------------------------------\n",
            "MiscFeature: object\n",
            "------------------------------------------------------------\n",
            "MiscVal: int64\n",
            "------------------------------------------------------------\n",
            "MoSold: int64\n",
            "------------------------------------------------------------\n",
            "YrSold: int64\n",
            "------------------------------------------------------------\n",
            "SaleType: object\n",
            "------------------------------------------------------------\n",
            "SaleCondition: object\n",
            "------------------------------------------------------------\n",
            "SalePrice: int64\n",
            "------------------------------------------------------------\n"
          ]
        }
      ]
    },
    {
      "cell_type": "code",
      "source": [
        "obj_vals = []"
      ],
      "metadata": {
        "id": "di_zsrBU_b2Z"
      },
      "execution_count": 475,
      "outputs": []
    },
    {
      "cell_type": "code",
      "source": [
        "for i in range(df.shape[1]):\n",
        "  if df.dtypes[i] == object:\n",
        "    obj_vals.append(df.columns[i])"
      ],
      "metadata": {
        "id": "1ILhcBir_Yx6"
      },
      "execution_count": 476,
      "outputs": []
    },
    {
      "cell_type": "code",
      "source": [
        "len(obj_vals)"
      ],
      "metadata": {
        "colab": {
          "base_uri": "https://localhost:8080/"
        },
        "id": "4SHt6zUA_y0Z",
        "outputId": "2c560d9a-8291-4fe4-b4ec-a06e04eb4c95"
      },
      "execution_count": 477,
      "outputs": [
        {
          "output_type": "execute_result",
          "data": {
            "text/plain": [
              "43"
            ]
          },
          "metadata": {},
          "execution_count": 477
        }
      ]
    },
    {
      "cell_type": "code",
      "source": [
        "for idx in range(len(obj_vals)):\n",
        "  print(f'{obj_vals[idx]}: {df[obj_vals[idx]].nunique()}')"
      ],
      "metadata": {
        "colab": {
          "base_uri": "https://localhost:8080/"
        },
        "id": "HuYlx5mZ_0mg",
        "outputId": "a73cfb1b-5c22-4b44-9bfe-7a06beeb35be"
      },
      "execution_count": 478,
      "outputs": [
        {
          "output_type": "stream",
          "name": "stdout",
          "text": [
            "MSZoning: 5\n",
            "Street: 2\n",
            "Alley: 2\n",
            "LotShape: 4\n",
            "LandContour: 4\n",
            "Utilities: 2\n",
            "LotConfig: 5\n",
            "LandSlope: 3\n",
            "Neighborhood: 25\n",
            "Condition1: 9\n",
            "Condition2: 8\n",
            "BldgType: 5\n",
            "HouseStyle: 8\n",
            "RoofStyle: 6\n",
            "RoofMatl: 8\n",
            "Exterior1st: 15\n",
            "Exterior2nd: 16\n",
            "MasVnrType: 4\n",
            "ExterQual: 4\n",
            "ExterCond: 5\n",
            "Foundation: 6\n",
            "BsmtQual: 4\n",
            "BsmtCond: 4\n",
            "BsmtExposure: 4\n",
            "BsmtFinType1: 6\n",
            "BsmtFinType2: 6\n",
            "Heating: 6\n",
            "HeatingQC: 5\n",
            "CentralAir: 2\n",
            "Electrical: 5\n",
            "KitchenQual: 4\n",
            "Functional: 7\n",
            "FireplaceQu: 5\n",
            "GarageType: 6\n",
            "GarageFinish: 3\n",
            "GarageQual: 5\n",
            "GarageCond: 5\n",
            "PavedDrive: 3\n",
            "PoolQC: 3\n",
            "Fence: 4\n",
            "MiscFeature: 4\n",
            "SaleType: 9\n",
            "SaleCondition: 6\n"
          ]
        }
      ]
    },
    {
      "cell_type": "code",
      "source": [
        "meds = df.mean()"
      ],
      "metadata": {
        "id": "Uw9pWA5dAbBp"
      },
      "execution_count": 479,
      "outputs": []
    },
    {
      "cell_type": "code",
      "source": [
        "df = df.fillna(meds)"
      ],
      "metadata": {
        "id": "OH1iG47iAkZC"
      },
      "execution_count": 480,
      "outputs": []
    },
    {
      "cell_type": "code",
      "source": [
        "df.isnull().sum().sum()"
      ],
      "metadata": {
        "colab": {
          "base_uri": "https://localhost:8080/"
        },
        "id": "kzolXsH2A2bb",
        "outputId": "f16594eb-4ba5-490e-f5e6-8990e5479341"
      },
      "execution_count": 481,
      "outputs": [
        {
          "output_type": "execute_result",
          "data": {
            "text/plain": [
              "6617"
            ]
          },
          "metadata": {},
          "execution_count": 481
        }
      ]
    },
    {
      "cell_type": "code",
      "source": [
        "df = df.drop('Alley', axis=1)\n",
        "df.isnull().sum().sum()"
      ],
      "metadata": {
        "colab": {
          "base_uri": "https://localhost:8080/"
        },
        "id": "aJJ9d8UdA9SN",
        "outputId": "ccd36338-ac83-40c8-9d6e-b30e93685d45"
      },
      "execution_count": 482,
      "outputs": [
        {
          "output_type": "execute_result",
          "data": {
            "text/plain": [
              "5248"
            ]
          },
          "metadata": {},
          "execution_count": 482
        }
      ]
    },
    {
      "cell_type": "code",
      "source": [
        "# 71 1453\n",
        "# 72 1179\n",
        "# 73 1406"
      ],
      "metadata": {
        "id": "6IPjl9RCBKQW"
      },
      "execution_count": 483,
      "outputs": []
    },
    {
      "cell_type": "code",
      "source": [
        "df.columns[71]"
      ],
      "metadata": {
        "colab": {
          "base_uri": "https://localhost:8080/",
          "height": 35
        },
        "id": "CYe3WB1OBSQk",
        "outputId": "0a14857c-202b-4e93-8b5d-2791e7fc5b7b"
      },
      "execution_count": 484,
      "outputs": [
        {
          "output_type": "execute_result",
          "data": {
            "text/plain": [
              "'Fence'"
            ],
            "application/vnd.google.colaboratory.intrinsic+json": {
              "type": "string"
            }
          },
          "metadata": {},
          "execution_count": 484
        }
      ]
    },
    {
      "cell_type": "code",
      "source": [
        "df.columns[72]"
      ],
      "metadata": {
        "colab": {
          "base_uri": "https://localhost:8080/",
          "height": 35
        },
        "id": "QNr38SOyBV3A",
        "outputId": "babe54b1-df70-4a6f-fe51-266fad8a7b49"
      },
      "execution_count": 485,
      "outputs": [
        {
          "output_type": "execute_result",
          "data": {
            "text/plain": [
              "'MiscFeature'"
            ],
            "application/vnd.google.colaboratory.intrinsic+json": {
              "type": "string"
            }
          },
          "metadata": {},
          "execution_count": 485
        }
      ]
    },
    {
      "cell_type": "code",
      "source": [
        "df.columns[73]"
      ],
      "metadata": {
        "colab": {
          "base_uri": "https://localhost:8080/",
          "height": 35
        },
        "id": "uEbvftSmBX-w",
        "outputId": "df6fc613-3f83-46ec-92f3-08d6f8eb257b"
      },
      "execution_count": 486,
      "outputs": [
        {
          "output_type": "execute_result",
          "data": {
            "text/plain": [
              "'MiscVal'"
            ],
            "application/vnd.google.colaboratory.intrinsic+json": {
              "type": "string"
            }
          },
          "metadata": {},
          "execution_count": 486
        }
      ]
    },
    {
      "cell_type": "code",
      "source": [
        "df = df.drop(['Fence', 'MiscFeature', 'MiscVal'], axis=1)"
      ],
      "metadata": {
        "id": "6BjtUgNZBaAt"
      },
      "execution_count": 487,
      "outputs": []
    },
    {
      "cell_type": "code",
      "source": [
        "df.isnull().sum().sum()"
      ],
      "metadata": {
        "colab": {
          "base_uri": "https://localhost:8080/"
        },
        "id": "qhDhhriBBgxi",
        "outputId": "b6b4f830-e8b8-4cc9-a88e-fd5a52cdd35a"
      },
      "execution_count": 488,
      "outputs": [
        {
          "output_type": "execute_result",
          "data": {
            "text/plain": [
              "2663"
            ]
          },
          "metadata": {},
          "execution_count": 488
        }
      ]
    },
    {
      "cell_type": "code",
      "source": [
        "for i, e in enumerate(df.isnull().sum()):\n",
        "  if e != 0:\n",
        "    print(i, e)"
      ],
      "metadata": {
        "colab": {
          "base_uri": "https://localhost:8080/"
        },
        "id": "JdELskP2Cnb7",
        "outputId": "093cc7e2-79b5-4408-9487-b5c5a5e612cb"
      },
      "execution_count": 489,
      "outputs": [
        {
          "output_type": "stream",
          "name": "stdout",
          "text": [
            "23 8\n",
            "28 37\n",
            "29 37\n",
            "30 38\n",
            "31 37\n",
            "33 38\n",
            "40 1\n",
            "55 690\n",
            "56 81\n",
            "58 81\n",
            "61 81\n",
            "62 81\n",
            "70 1453\n"
          ]
        }
      ]
    },
    {
      "cell_type": "code",
      "source": [
        "# 23 8\n",
        "# 28 37\n",
        "# 29 37\n",
        "# 30 38\n",
        "# 31 37\n",
        "# 33 38\n",
        "# 40 1\n",
        "# 55 690\n",
        "# 58 81\n",
        "# 61 81\n",
        "# 62 81\n",
        "# 70 1453"
      ],
      "metadata": {
        "id": "IapBD9tzBjem"
      },
      "execution_count": 490,
      "outputs": []
    },
    {
      "cell_type": "code",
      "source": [
        "df.columns[70]"
      ],
      "metadata": {
        "colab": {
          "base_uri": "https://localhost:8080/",
          "height": 35
        },
        "id": "2eJxBDkpB2lk",
        "outputId": "f2b03d85-a9d7-4398-f5ff-8f7b81621f96"
      },
      "execution_count": 491,
      "outputs": [
        {
          "output_type": "execute_result",
          "data": {
            "text/plain": [
              "'PoolQC'"
            ],
            "application/vnd.google.colaboratory.intrinsic+json": {
              "type": "string"
            }
          },
          "metadata": {},
          "execution_count": 491
        }
      ]
    },
    {
      "cell_type": "code",
      "source": [
        "df['PoolQC'].value_counts()"
      ],
      "metadata": {
        "colab": {
          "base_uri": "https://localhost:8080/"
        },
        "id": "PumQlURCB7-B",
        "outputId": "bdad78d0-b716-4508-a5aa-a40adcb02f5d"
      },
      "execution_count": 492,
      "outputs": [
        {
          "output_type": "execute_result",
          "data": {
            "text/plain": [
              "Gd    3\n",
              "Ex    2\n",
              "Fa    2\n",
              "Name: PoolQC, dtype: int64"
            ]
          },
          "metadata": {},
          "execution_count": 492
        }
      ]
    },
    {
      "cell_type": "code",
      "source": [
        "df = df.drop('PoolQC', axis=1)"
      ],
      "metadata": {
        "id": "RErNQc1qC-c4"
      },
      "execution_count": 493,
      "outputs": []
    },
    {
      "cell_type": "code",
      "source": [
        "df['GarageType'].fillna('NoGarage', inplace=True)"
      ],
      "metadata": {
        "id": "VUhfvnxXCGLA"
      },
      "execution_count": 494,
      "outputs": []
    },
    {
      "cell_type": "code",
      "source": [
        "df.columns[55]"
      ],
      "metadata": {
        "colab": {
          "base_uri": "https://localhost:8080/",
          "height": 35
        },
        "id": "FFdg_t-lDG80",
        "outputId": "dbf9314d-8e19-409a-bb93-994ba195ab15"
      },
      "execution_count": 495,
      "outputs": [
        {
          "output_type": "execute_result",
          "data": {
            "text/plain": [
              "'FireplaceQu'"
            ],
            "application/vnd.google.colaboratory.intrinsic+json": {
              "type": "string"
            }
          },
          "metadata": {},
          "execution_count": 495
        }
      ]
    },
    {
      "cell_type": "code",
      "source": [
        "df['FireplaceQu'].value_counts()"
      ],
      "metadata": {
        "colab": {
          "base_uri": "https://localhost:8080/"
        },
        "id": "Rg42QHzHDMjt",
        "outputId": "711471c9-2983-4833-f7f6-75ce1782e57a"
      },
      "execution_count": 496,
      "outputs": [
        {
          "output_type": "execute_result",
          "data": {
            "text/plain": [
              "Gd    380\n",
              "TA    313\n",
              "Fa     33\n",
              "Ex     24\n",
              "Po     20\n",
              "Name: FireplaceQu, dtype: int64"
            ]
          },
          "metadata": {},
          "execution_count": 496
        }
      ]
    },
    {
      "cell_type": "code",
      "source": [
        "df['FireplaceQu'].fillna('NoFP', inplace=True)"
      ],
      "metadata": {
        "id": "7Ruw5NVQDQhV"
      },
      "execution_count": 497,
      "outputs": []
    },
    {
      "cell_type": "code",
      "source": [
        "df.isnull().sum().sum()"
      ],
      "metadata": {
        "colab": {
          "base_uri": "https://localhost:8080/"
        },
        "id": "hxzfcRY8CPAx",
        "outputId": "594cd039-58ba-438c-ba57-78471785ad92"
      },
      "execution_count": 498,
      "outputs": [
        {
          "output_type": "execute_result",
          "data": {
            "text/plain": [
              "439"
            ]
          },
          "metadata": {},
          "execution_count": 498
        }
      ]
    },
    {
      "cell_type": "code",
      "source": [
        "df.columns[2]"
      ],
      "metadata": {
        "colab": {
          "base_uri": "https://localhost:8080/",
          "height": 35
        },
        "id": "hoLJA5s_CSNL",
        "outputId": "e33f833d-12a6-4534-a189-4bde630e25e3"
      },
      "execution_count": 499,
      "outputs": [
        {
          "output_type": "execute_result",
          "data": {
            "text/plain": [
              "'LotFrontage'"
            ],
            "application/vnd.google.colaboratory.intrinsic+json": {
              "type": "string"
            }
          },
          "metadata": {},
          "execution_count": 499
        }
      ]
    },
    {
      "cell_type": "code",
      "source": [
        "df['LotFrontage'].fillna(df['LotFrontage'].mean(), inplace=True)"
      ],
      "metadata": {
        "id": "uLhDl5SyCVUN"
      },
      "execution_count": 500,
      "outputs": []
    },
    {
      "cell_type": "code",
      "source": [
        "df.isnull().sum().sum()"
      ],
      "metadata": {
        "colab": {
          "base_uri": "https://localhost:8080/"
        },
        "id": "sAQC3zfFCY8Y",
        "outputId": "08fdcf54-7c9a-4d29-b975-84f943399516"
      },
      "execution_count": 501,
      "outputs": [
        {
          "output_type": "execute_result",
          "data": {
            "text/plain": [
              "439"
            ]
          },
          "metadata": {},
          "execution_count": 501
        }
      ]
    },
    {
      "cell_type": "code",
      "source": [
        "df.shape"
      ],
      "metadata": {
        "colab": {
          "base_uri": "https://localhost:8080/"
        },
        "id": "8BsLjhStCjeL",
        "outputId": "6d3d2ca3-fd64-4d5f-c1d7-25e33965e246"
      },
      "execution_count": 502,
      "outputs": [
        {
          "output_type": "execute_result",
          "data": {
            "text/plain": [
              "(1460, 75)"
            ]
          },
          "metadata": {},
          "execution_count": 502
        }
      ]
    },
    {
      "cell_type": "code",
      "source": [
        "df = df.dropna()"
      ],
      "metadata": {
        "id": "kTudKvSpDbcJ"
      },
      "execution_count": 503,
      "outputs": []
    },
    {
      "cell_type": "code",
      "source": [
        "df.shape"
      ],
      "metadata": {
        "colab": {
          "base_uri": "https://localhost:8080/"
        },
        "id": "rL4mbBsiDdGA",
        "outputId": "1d1ff70c-8799-40ae-9b96-787e98f4db37"
      },
      "execution_count": 504,
      "outputs": [
        {
          "output_type": "execute_result",
          "data": {
            "text/plain": [
              "(1338, 75)"
            ]
          },
          "metadata": {},
          "execution_count": 504
        }
      ]
    },
    {
      "cell_type": "code",
      "source": [
        "df.isnull().sum().sum()"
      ],
      "metadata": {
        "colab": {
          "base_uri": "https://localhost:8080/"
        },
        "id": "nVAaS_SlDeIR",
        "outputId": "e865615c-6446-43b3-dd73-5f941b8be006"
      },
      "execution_count": 505,
      "outputs": [
        {
          "output_type": "execute_result",
          "data": {
            "text/plain": [
              "0"
            ]
          },
          "metadata": {},
          "execution_count": 505
        }
      ]
    },
    {
      "cell_type": "code",
      "source": [
        "from sklearn.preprocessing import LabelEncoder"
      ],
      "metadata": {
        "id": "27nJ2JfdDhfv"
      },
      "execution_count": 506,
      "outputs": []
    },
    {
      "cell_type": "code",
      "source": [
        "# updating obj_values\n",
        "\n",
        "obj_vals = []\n",
        "\n",
        "for i in range(df.shape[1]):\n",
        "  if df.dtypes[i] == object:\n",
        "    obj_vals.append(df.columns[i])"
      ],
      "metadata": {
        "id": "F9JXe3BVD7gb"
      },
      "execution_count": 507,
      "outputs": []
    },
    {
      "cell_type": "code",
      "source": [
        "enc = LabelEncoder()\n",
        "for c in obj_vals:\n",
        "  df[c] = enc.fit_transform(df[c])"
      ],
      "metadata": {
        "id": "ksndxJFMDnip"
      },
      "execution_count": 508,
      "outputs": []
    },
    {
      "cell_type": "code",
      "source": [
        "df.head()"
      ],
      "metadata": {
        "colab": {
          "base_uri": "https://localhost:8080/",
          "height": 256
        },
        "id": "7iqhL5QkERIR",
        "outputId": "d50155de-0034-4412-a6e2-aa5de9a476fb"
      },
      "execution_count": 509,
      "outputs": [
        {
          "output_type": "execute_result",
          "data": {
            "text/plain": [
              "   MSSubClass  MSZoning  LotFrontage  LotArea  Street  LotShape  LandContour  \\\n",
              "0          60         3         65.0     8450       1         3            3   \n",
              "1          20         3         80.0     9600       1         3            3   \n",
              "2          60         3         68.0    11250       1         0            3   \n",
              "3          70         3         60.0     9550       1         0            3   \n",
              "4          60         3         84.0    14260       1         0            3   \n",
              "\n",
              "   Utilities  LotConfig  LandSlope  ...  OpenPorchSF  EnclosedPorch  \\\n",
              "0          0          4          0  ...           61              0   \n",
              "1          0          2          0  ...            0              0   \n",
              "2          0          4          0  ...           42              0   \n",
              "3          0          0          0  ...           35            272   \n",
              "4          0          2          0  ...           84              0   \n",
              "\n",
              "   3SsnPorch  ScreenPorch  PoolArea  MoSold  YrSold  SaleType  SaleCondition  \\\n",
              "0          0            0         0       2    2008         8              4   \n",
              "1          0            0         0       5    2007         8              4   \n",
              "2          0            0         0       9    2008         8              4   \n",
              "3          0            0         0       2    2006         8              0   \n",
              "4          0            0         0      12    2008         8              4   \n",
              "\n",
              "   SalePrice  \n",
              "0     208500  \n",
              "1     181500  \n",
              "2     223500  \n",
              "3     140000  \n",
              "4     250000  \n",
              "\n",
              "[5 rows x 75 columns]"
            ],
            "text/html": [
              "\n",
              "  <div id=\"df-06441736-2a91-429c-8a29-b418e889ece8\" class=\"colab-df-container\">\n",
              "    <div>\n",
              "<style scoped>\n",
              "    .dataframe tbody tr th:only-of-type {\n",
              "        vertical-align: middle;\n",
              "    }\n",
              "\n",
              "    .dataframe tbody tr th {\n",
              "        vertical-align: top;\n",
              "    }\n",
              "\n",
              "    .dataframe thead th {\n",
              "        text-align: right;\n",
              "    }\n",
              "</style>\n",
              "<table border=\"1\" class=\"dataframe\">\n",
              "  <thead>\n",
              "    <tr style=\"text-align: right;\">\n",
              "      <th></th>\n",
              "      <th>MSSubClass</th>\n",
              "      <th>MSZoning</th>\n",
              "      <th>LotFrontage</th>\n",
              "      <th>LotArea</th>\n",
              "      <th>Street</th>\n",
              "      <th>LotShape</th>\n",
              "      <th>LandContour</th>\n",
              "      <th>Utilities</th>\n",
              "      <th>LotConfig</th>\n",
              "      <th>LandSlope</th>\n",
              "      <th>...</th>\n",
              "      <th>OpenPorchSF</th>\n",
              "      <th>EnclosedPorch</th>\n",
              "      <th>3SsnPorch</th>\n",
              "      <th>ScreenPorch</th>\n",
              "      <th>PoolArea</th>\n",
              "      <th>MoSold</th>\n",
              "      <th>YrSold</th>\n",
              "      <th>SaleType</th>\n",
              "      <th>SaleCondition</th>\n",
              "      <th>SalePrice</th>\n",
              "    </tr>\n",
              "  </thead>\n",
              "  <tbody>\n",
              "    <tr>\n",
              "      <th>0</th>\n",
              "      <td>60</td>\n",
              "      <td>3</td>\n",
              "      <td>65.0</td>\n",
              "      <td>8450</td>\n",
              "      <td>1</td>\n",
              "      <td>3</td>\n",
              "      <td>3</td>\n",
              "      <td>0</td>\n",
              "      <td>4</td>\n",
              "      <td>0</td>\n",
              "      <td>...</td>\n",
              "      <td>61</td>\n",
              "      <td>0</td>\n",
              "      <td>0</td>\n",
              "      <td>0</td>\n",
              "      <td>0</td>\n",
              "      <td>2</td>\n",
              "      <td>2008</td>\n",
              "      <td>8</td>\n",
              "      <td>4</td>\n",
              "      <td>208500</td>\n",
              "    </tr>\n",
              "    <tr>\n",
              "      <th>1</th>\n",
              "      <td>20</td>\n",
              "      <td>3</td>\n",
              "      <td>80.0</td>\n",
              "      <td>9600</td>\n",
              "      <td>1</td>\n",
              "      <td>3</td>\n",
              "      <td>3</td>\n",
              "      <td>0</td>\n",
              "      <td>2</td>\n",
              "      <td>0</td>\n",
              "      <td>...</td>\n",
              "      <td>0</td>\n",
              "      <td>0</td>\n",
              "      <td>0</td>\n",
              "      <td>0</td>\n",
              "      <td>0</td>\n",
              "      <td>5</td>\n",
              "      <td>2007</td>\n",
              "      <td>8</td>\n",
              "      <td>4</td>\n",
              "      <td>181500</td>\n",
              "    </tr>\n",
              "    <tr>\n",
              "      <th>2</th>\n",
              "      <td>60</td>\n",
              "      <td>3</td>\n",
              "      <td>68.0</td>\n",
              "      <td>11250</td>\n",
              "      <td>1</td>\n",
              "      <td>0</td>\n",
              "      <td>3</td>\n",
              "      <td>0</td>\n",
              "      <td>4</td>\n",
              "      <td>0</td>\n",
              "      <td>...</td>\n",
              "      <td>42</td>\n",
              "      <td>0</td>\n",
              "      <td>0</td>\n",
              "      <td>0</td>\n",
              "      <td>0</td>\n",
              "      <td>9</td>\n",
              "      <td>2008</td>\n",
              "      <td>8</td>\n",
              "      <td>4</td>\n",
              "      <td>223500</td>\n",
              "    </tr>\n",
              "    <tr>\n",
              "      <th>3</th>\n",
              "      <td>70</td>\n",
              "      <td>3</td>\n",
              "      <td>60.0</td>\n",
              "      <td>9550</td>\n",
              "      <td>1</td>\n",
              "      <td>0</td>\n",
              "      <td>3</td>\n",
              "      <td>0</td>\n",
              "      <td>0</td>\n",
              "      <td>0</td>\n",
              "      <td>...</td>\n",
              "      <td>35</td>\n",
              "      <td>272</td>\n",
              "      <td>0</td>\n",
              "      <td>0</td>\n",
              "      <td>0</td>\n",
              "      <td>2</td>\n",
              "      <td>2006</td>\n",
              "      <td>8</td>\n",
              "      <td>0</td>\n",
              "      <td>140000</td>\n",
              "    </tr>\n",
              "    <tr>\n",
              "      <th>4</th>\n",
              "      <td>60</td>\n",
              "      <td>3</td>\n",
              "      <td>84.0</td>\n",
              "      <td>14260</td>\n",
              "      <td>1</td>\n",
              "      <td>0</td>\n",
              "      <td>3</td>\n",
              "      <td>0</td>\n",
              "      <td>2</td>\n",
              "      <td>0</td>\n",
              "      <td>...</td>\n",
              "      <td>84</td>\n",
              "      <td>0</td>\n",
              "      <td>0</td>\n",
              "      <td>0</td>\n",
              "      <td>0</td>\n",
              "      <td>12</td>\n",
              "      <td>2008</td>\n",
              "      <td>8</td>\n",
              "      <td>4</td>\n",
              "      <td>250000</td>\n",
              "    </tr>\n",
              "  </tbody>\n",
              "</table>\n",
              "<p>5 rows × 75 columns</p>\n",
              "</div>\n",
              "    <div class=\"colab-df-buttons\">\n",
              "\n",
              "  <div class=\"colab-df-container\">\n",
              "    <button class=\"colab-df-convert\" onclick=\"convertToInteractive('df-06441736-2a91-429c-8a29-b418e889ece8')\"\n",
              "            title=\"Convert this dataframe to an interactive table.\"\n",
              "            style=\"display:none;\">\n",
              "\n",
              "  <svg xmlns=\"http://www.w3.org/2000/svg\" height=\"24px\" viewBox=\"0 -960 960 960\">\n",
              "    <path d=\"M120-120v-720h720v720H120Zm60-500h600v-160H180v160Zm220 220h160v-160H400v160Zm0 220h160v-160H400v160ZM180-400h160v-160H180v160Zm440 0h160v-160H620v160ZM180-180h160v-160H180v160Zm440 0h160v-160H620v160Z\"/>\n",
              "  </svg>\n",
              "    </button>\n",
              "\n",
              "  <style>\n",
              "    .colab-df-container {\n",
              "      display:flex;\n",
              "      gap: 12px;\n",
              "    }\n",
              "\n",
              "    .colab-df-convert {\n",
              "      background-color: #E8F0FE;\n",
              "      border: none;\n",
              "      border-radius: 50%;\n",
              "      cursor: pointer;\n",
              "      display: none;\n",
              "      fill: #1967D2;\n",
              "      height: 32px;\n",
              "      padding: 0 0 0 0;\n",
              "      width: 32px;\n",
              "    }\n",
              "\n",
              "    .colab-df-convert:hover {\n",
              "      background-color: #E2EBFA;\n",
              "      box-shadow: 0px 1px 2px rgba(60, 64, 67, 0.3), 0px 1px 3px 1px rgba(60, 64, 67, 0.15);\n",
              "      fill: #174EA6;\n",
              "    }\n",
              "\n",
              "    .colab-df-buttons div {\n",
              "      margin-bottom: 4px;\n",
              "    }\n",
              "\n",
              "    [theme=dark] .colab-df-convert {\n",
              "      background-color: #3B4455;\n",
              "      fill: #D2E3FC;\n",
              "    }\n",
              "\n",
              "    [theme=dark] .colab-df-convert:hover {\n",
              "      background-color: #434B5C;\n",
              "      box-shadow: 0px 1px 3px 1px rgba(0, 0, 0, 0.15);\n",
              "      filter: drop-shadow(0px 1px 2px rgba(0, 0, 0, 0.3));\n",
              "      fill: #FFFFFF;\n",
              "    }\n",
              "  </style>\n",
              "\n",
              "    <script>\n",
              "      const buttonEl =\n",
              "        document.querySelector('#df-06441736-2a91-429c-8a29-b418e889ece8 button.colab-df-convert');\n",
              "      buttonEl.style.display =\n",
              "        google.colab.kernel.accessAllowed ? 'block' : 'none';\n",
              "\n",
              "      async function convertToInteractive(key) {\n",
              "        const element = document.querySelector('#df-06441736-2a91-429c-8a29-b418e889ece8');\n",
              "        const dataTable =\n",
              "          await google.colab.kernel.invokeFunction('convertToInteractive',\n",
              "                                                    [key], {});\n",
              "        if (!dataTable) return;\n",
              "\n",
              "        const docLinkHtml = 'Like what you see? Visit the ' +\n",
              "          '<a target=\"_blank\" href=https://colab.research.google.com/notebooks/data_table.ipynb>data table notebook</a>'\n",
              "          + ' to learn more about interactive tables.';\n",
              "        element.innerHTML = '';\n",
              "        dataTable['output_type'] = 'display_data';\n",
              "        await google.colab.output.renderOutput(dataTable, element);\n",
              "        const docLink = document.createElement('div');\n",
              "        docLink.innerHTML = docLinkHtml;\n",
              "        element.appendChild(docLink);\n",
              "      }\n",
              "    </script>\n",
              "  </div>\n",
              "\n",
              "\n",
              "<div id=\"df-7b76d865-2412-4ead-ac47-878635d313d6\">\n",
              "  <button class=\"colab-df-quickchart\" onclick=\"quickchart('df-7b76d865-2412-4ead-ac47-878635d313d6')\"\n",
              "            title=\"Suggest charts\"\n",
              "            style=\"display:none;\">\n",
              "\n",
              "<svg xmlns=\"http://www.w3.org/2000/svg\" height=\"24px\"viewBox=\"0 0 24 24\"\n",
              "     width=\"24px\">\n",
              "    <g>\n",
              "        <path d=\"M19 3H5c-1.1 0-2 .9-2 2v14c0 1.1.9 2 2 2h14c1.1 0 2-.9 2-2V5c0-1.1-.9-2-2-2zM9 17H7v-7h2v7zm4 0h-2V7h2v10zm4 0h-2v-4h2v4z\"/>\n",
              "    </g>\n",
              "</svg>\n",
              "  </button>\n",
              "\n",
              "<style>\n",
              "  .colab-df-quickchart {\n",
              "      --bg-color: #E8F0FE;\n",
              "      --fill-color: #1967D2;\n",
              "      --hover-bg-color: #E2EBFA;\n",
              "      --hover-fill-color: #174EA6;\n",
              "      --disabled-fill-color: #AAA;\n",
              "      --disabled-bg-color: #DDD;\n",
              "  }\n",
              "\n",
              "  [theme=dark] .colab-df-quickchart {\n",
              "      --bg-color: #3B4455;\n",
              "      --fill-color: #D2E3FC;\n",
              "      --hover-bg-color: #434B5C;\n",
              "      --hover-fill-color: #FFFFFF;\n",
              "      --disabled-bg-color: #3B4455;\n",
              "      --disabled-fill-color: #666;\n",
              "  }\n",
              "\n",
              "  .colab-df-quickchart {\n",
              "    background-color: var(--bg-color);\n",
              "    border: none;\n",
              "    border-radius: 50%;\n",
              "    cursor: pointer;\n",
              "    display: none;\n",
              "    fill: var(--fill-color);\n",
              "    height: 32px;\n",
              "    padding: 0;\n",
              "    width: 32px;\n",
              "  }\n",
              "\n",
              "  .colab-df-quickchart:hover {\n",
              "    background-color: var(--hover-bg-color);\n",
              "    box-shadow: 0 1px 2px rgba(60, 64, 67, 0.3), 0 1px 3px 1px rgba(60, 64, 67, 0.15);\n",
              "    fill: var(--button-hover-fill-color);\n",
              "  }\n",
              "\n",
              "  .colab-df-quickchart-complete:disabled,\n",
              "  .colab-df-quickchart-complete:disabled:hover {\n",
              "    background-color: var(--disabled-bg-color);\n",
              "    fill: var(--disabled-fill-color);\n",
              "    box-shadow: none;\n",
              "  }\n",
              "\n",
              "  .colab-df-spinner {\n",
              "    border: 2px solid var(--fill-color);\n",
              "    border-color: transparent;\n",
              "    border-bottom-color: var(--fill-color);\n",
              "    animation:\n",
              "      spin 1s steps(1) infinite;\n",
              "  }\n",
              "\n",
              "  @keyframes spin {\n",
              "    0% {\n",
              "      border-color: transparent;\n",
              "      border-bottom-color: var(--fill-color);\n",
              "      border-left-color: var(--fill-color);\n",
              "    }\n",
              "    20% {\n",
              "      border-color: transparent;\n",
              "      border-left-color: var(--fill-color);\n",
              "      border-top-color: var(--fill-color);\n",
              "    }\n",
              "    30% {\n",
              "      border-color: transparent;\n",
              "      border-left-color: var(--fill-color);\n",
              "      border-top-color: var(--fill-color);\n",
              "      border-right-color: var(--fill-color);\n",
              "    }\n",
              "    40% {\n",
              "      border-color: transparent;\n",
              "      border-right-color: var(--fill-color);\n",
              "      border-top-color: var(--fill-color);\n",
              "    }\n",
              "    60% {\n",
              "      border-color: transparent;\n",
              "      border-right-color: var(--fill-color);\n",
              "    }\n",
              "    80% {\n",
              "      border-color: transparent;\n",
              "      border-right-color: var(--fill-color);\n",
              "      border-bottom-color: var(--fill-color);\n",
              "    }\n",
              "    90% {\n",
              "      border-color: transparent;\n",
              "      border-bottom-color: var(--fill-color);\n",
              "    }\n",
              "  }\n",
              "</style>\n",
              "\n",
              "  <script>\n",
              "    async function quickchart(key) {\n",
              "      const quickchartButtonEl =\n",
              "        document.querySelector('#' + key + ' button');\n",
              "      quickchartButtonEl.disabled = true;  // To prevent multiple clicks.\n",
              "      quickchartButtonEl.classList.add('colab-df-spinner');\n",
              "      try {\n",
              "        const charts = await google.colab.kernel.invokeFunction(\n",
              "            'suggestCharts', [key], {});\n",
              "      } catch (error) {\n",
              "        console.error('Error during call to suggestCharts:', error);\n",
              "      }\n",
              "      quickchartButtonEl.classList.remove('colab-df-spinner');\n",
              "      quickchartButtonEl.classList.add('colab-df-quickchart-complete');\n",
              "    }\n",
              "    (() => {\n",
              "      let quickchartButtonEl =\n",
              "        document.querySelector('#df-7b76d865-2412-4ead-ac47-878635d313d6 button');\n",
              "      quickchartButtonEl.style.display =\n",
              "        google.colab.kernel.accessAllowed ? 'block' : 'none';\n",
              "    })();\n",
              "  </script>\n",
              "</div>\n",
              "    </div>\n",
              "  </div>\n"
            ]
          },
          "metadata": {},
          "execution_count": 509
        }
      ]
    },
    {
      "cell_type": "code",
      "source": [
        "object in df.dtypes"
      ],
      "metadata": {
        "colab": {
          "base_uri": "https://localhost:8080/"
        },
        "id": "53VWAwfIESeY",
        "outputId": "3ce071d3-41db-476f-a9aa-9a628c4dfe47"
      },
      "execution_count": 510,
      "outputs": [
        {
          "output_type": "execute_result",
          "data": {
            "text/plain": [
              "False"
            ]
          },
          "metadata": {},
          "execution_count": 510
        }
      ]
    },
    {
      "cell_type": "markdown",
      "source": [
        "<img src='https://cdn.vox-cdn.com/thumbor/0i_zVL1Nx_-boZILpdTmXorPEQg=/1400x0/filters:no_upscale()/cdn.vox-cdn.com/uploads/chorus_asset/file/2346736/meme9.0.jpg'> <br>\n",
        "It was hard... Really"
      ],
      "metadata": {
        "id": "Wm2Pr-x7Ento"
      }
    },
    {
      "cell_type": "markdown",
      "source": [
        "# **PLOTTING TIME!!!**\n",
        "\n",
        "<img src='https://www.icegif.com/wp-content/uploads/2022/12/icegif-286.gif' width=33%>"
      ],
      "metadata": {
        "id": "DRGmpk_bExGD"
      }
    },
    {
      "cell_type": "code",
      "source": [
        "import matplotlib.pyplot as plt\n",
        "import seaborn as sns"
      ],
      "metadata": {
        "id": "kNIqOHtVEWR_"
      },
      "execution_count": 511,
      "outputs": []
    },
    {
      "cell_type": "code",
      "source": [
        "sns.histplot(data=df, x='YrSold', y='SalePrice');"
      ],
      "metadata": {
        "colab": {
          "base_uri": "https://localhost:8080/",
          "height": 449
        },
        "id": "wVcAiHweFAVM",
        "outputId": "4baa8e44-9857-4414-8201-b4a49fc9fb53"
      },
      "execution_count": 512,
      "outputs": [
        {
          "output_type": "display_data",
          "data": {
            "text/plain": [
              "<Figure size 640x480 with 1 Axes>"
            ],
            "image/png": "[encoded data removed]"
          },
          "metadata": {}
        }
      ]
    },
    {
      "cell_type": "code",
      "source": [
        "df.columns"
      ],
      "metadata": {
        "colab": {
          "base_uri": "https://localhost:8080/"
        },
        "id": "x0BWWTH5FteZ",
        "outputId": "98f7de3a-3790-4cf9-945b-d8c1f1b2456d"
      },
      "execution_count": 513,
      "outputs": [
        {
          "output_type": "execute_result",
          "data": {
            "text/plain": [
              "Index(['MSSubClass', 'MSZoning', 'LotFrontage', 'LotArea', 'Street',\n",
              "       'LotShape', 'LandContour', 'Utilities', 'LotConfig', 'LandSlope',\n",
              "       'Neighborhood', 'Condition1', 'Condition2', 'BldgType', 'HouseStyle',\n",
              "       'OverallQual', 'OverallCond', 'YearBuilt', 'YearRemodAdd', 'RoofStyle',\n",
              "       'RoofMatl', 'Exterior1st', 'Exterior2nd', 'MasVnrType', 'MasVnrArea',\n",
              "       'ExterQual', 'ExterCond', 'Foundation', 'BsmtQual', 'BsmtCond',\n",
              "       'BsmtExposure', 'BsmtFinType1', 'BsmtFinSF1', 'BsmtFinType2',\n",
              "       'BsmtFinSF2', 'BsmtUnfSF', 'TotalBsmtSF', 'Heating', 'HeatingQC',\n",
              "       'CentralAir', 'Electrical', '1stFlrSF', '2ndFlrSF', 'LowQualFinSF',\n",
              "       'GrLivArea', 'BsmtFullBath', 'BsmtHalfBath', 'FullBath', 'HalfBath',\n",
              "       'BedroomAbvGr', 'KitchenAbvGr', 'KitchenQual', 'TotRmsAbvGrd',\n",
              "       'Functional', 'Fireplaces', 'FireplaceQu', 'GarageType', 'GarageYrBlt',\n",
              "       'GarageFinish', 'GarageCars', 'GarageArea', 'GarageQual', 'GarageCond',\n",
              "       'PavedDrive', 'WoodDeckSF', 'OpenPorchSF', 'EnclosedPorch', '3SsnPorch',\n",
              "       'ScreenPorch', 'PoolArea', 'MoSold', 'YrSold', 'SaleType',\n",
              "       'SaleCondition', 'SalePrice'],\n",
              "      dtype='object')"
            ]
          },
          "metadata": {},
          "execution_count": 513
        }
      ]
    },
    {
      "cell_type": "code",
      "source": [
        "sns.scatterplot(data=df, x='YearBuilt', y='SalePrice');"
      ],
      "metadata": {
        "colab": {
          "base_uri": "https://localhost:8080/",
          "height": 449
        },
        "id": "-MTC7tywFLcj",
        "outputId": "d09c0d1b-0b77-45fd-f7e8-b00e3f4858bc"
      },
      "execution_count": 514,
      "outputs": [
        {
          "output_type": "display_data",
          "data": {
            "text/plain": [
              "<Figure size 640x480 with 1 Axes>"
            ],
            "image/png": "[encoded data removed]"
          },
          "metadata": {}
        }
      ]
    },
    {
      "cell_type": "code",
      "source": [
        "# just for fun\n",
        "df.describe()"
      ],
      "metadata": {
        "colab": {
          "base_uri": "https://localhost:8080/",
          "height": 350
        },
        "id": "hlfE1B2NFsJi",
        "outputId": "0075a5d3-cde5-490e-e8a4-7d1b99c976f7"
      },
      "execution_count": 515,
      "outputs": [
        {
          "output_type": "execute_result",
          "data": {
            "text/plain": [
              "        MSSubClass     MSZoning  LotFrontage        LotArea       Street  \\\n",
              "count  1338.000000  1338.000000  1338.000000    1338.000000  1338.000000   \n",
              "mean     56.136024     3.023916    70.630187   10706.294469     0.996263   \n",
              "std      41.252576     0.624383    22.161578   10336.621126     0.061039   \n",
              "min      20.000000     0.000000    21.000000    1300.000000     0.000000   \n",
              "25%      20.000000     3.000000    60.000000    7744.000000     1.000000   \n",
              "50%      50.000000     3.000000    70.049958    9600.000000     1.000000   \n",
              "75%      70.000000     3.000000    80.000000   11760.750000     1.000000   \n",
              "max     190.000000     4.000000   313.000000  215245.000000     1.000000   \n",
              "\n",
              "          LotShape  LandContour    Utilities    LotConfig    LandSlope  ...  \\\n",
              "count  1338.000000  1338.000000  1338.000000  1338.000000  1338.000000  ...   \n",
              "mean      1.903587     2.787743     0.000747     3.001495     0.063528  ...   \n",
              "std       1.419114     0.687379     0.027338     1.630854     0.278365  ...   \n",
              "min       0.000000     0.000000     0.000000     0.000000     0.000000  ...   \n",
              "25%       0.000000     3.000000     0.000000     2.000000     0.000000  ...   \n",
              "50%       3.000000     3.000000     0.000000     4.000000     0.000000  ...   \n",
              "75%       3.000000     3.000000     0.000000     4.000000     0.000000  ...   \n",
              "max       3.000000     3.000000     1.000000     4.000000     2.000000  ...   \n",
              "\n",
              "       OpenPorchSF  EnclosedPorch    3SsnPorch  ScreenPorch     PoolArea  \\\n",
              "count  1338.000000    1338.000000  1338.000000   1338.00000  1338.000000   \n",
              "mean     47.782511      21.263827     3.585949     16.43423     3.010463   \n",
              "std      65.362562      60.843964    30.224622     58.05159    41.961337   \n",
              "min       0.000000       0.000000     0.000000      0.00000     0.000000   \n",
              "25%       0.000000       0.000000     0.000000      0.00000     0.000000   \n",
              "50%      28.000000       0.000000     0.000000      0.00000     0.000000   \n",
              "75%      70.000000       0.000000     0.000000      0.00000     0.000000   \n",
              "max     547.000000     552.000000   508.000000    480.00000   738.000000   \n",
              "\n",
              "            MoSold       YrSold     SaleType  SaleCondition      SalePrice  \n",
              "count  1338.000000  1338.000000  1338.000000    1338.000000    1338.000000  \n",
              "mean      6.331839  2007.805680     7.500000       3.804933  186761.782511  \n",
              "std       2.699437     1.330691     1.580666       1.059942   78913.847668  \n",
              "min       1.000000  2006.000000     0.000000       0.000000   35311.000000  \n",
              "25%       5.000000  2007.000000     8.000000       4.000000  135000.000000  \n",
              "50%       6.000000  2008.000000     8.000000       4.000000  168500.000000  \n",
              "75%       8.000000  2009.000000     8.000000       4.000000  220000.000000  \n",
              "max      12.000000  2010.000000     8.000000       5.000000  755000.000000  \n",
              "\n",
              "[8 rows x 75 columns]"
            ],
            "text/html": [
              "\n",
              "  <div id=\"df-d1a05998-ab55-466d-821a-6c3e84ad5aad\" class=\"colab-df-container\">\n",
              "    <div>\n",
              "<style scoped>\n",
              "    .dataframe tbody tr th:only-of-type {\n",
              "        vertical-align: middle;\n",
              "    }\n",
              "\n",
              "    .dataframe tbody tr th {\n",
              "        vertical-align: top;\n",
              "    }\n",
              "\n",
              "    .dataframe thead th {\n",
              "        text-align: right;\n",
              "    }\n",
              "</style>\n",
              "<table border=\"1\" class=\"dataframe\">\n",
              "  <thead>\n",
              "    <tr style=\"text-align: right;\">\n",
              "      <th></th>\n",
              "      <th>MSSubClass</th>\n",
              "      <th>MSZoning</th>\n",
              "      <th>LotFrontage</th>\n",
              "      <th>LotArea</th>\n",
              "      <th>Street</th>\n",
              "      <th>LotShape</th>\n",
              "      <th>LandContour</th>\n",
              "      <th>Utilities</th>\n",
              "      <th>LotConfig</th>\n",
              "      <th>LandSlope</th>\n",
              "      <th>...</th>\n",
              "      <th>OpenPorchSF</th>\n",
              "      <th>EnclosedPorch</th>\n",
              "      <th>3SsnPorch</th>\n",
              "      <th>ScreenPorch</th>\n",
              "      <th>PoolArea</th>\n",
              "      <th>MoSold</th>\n",
              "      <th>YrSold</th>\n",
              "      <th>SaleType</th>\n",
              "      <th>SaleCondition</th>\n",
              "      <th>SalePrice</th>\n",
              "    </tr>\n",
              "  </thead>\n",
              "  <tbody>\n",
              "    <tr>\n",
              "      <th>count</th>\n",
              "      <td>1338.000000</td>\n",
              "      <td>1338.000000</td>\n",
              "      <td>1338.000000</td>\n",
              "      <td>1338.000000</td>\n",
              "      <td>1338.000000</td>\n",
              "      <td>1338.000000</td>\n",
              "      <td>1338.000000</td>\n",
              "      <td>1338.000000</td>\n",
              "      <td>1338.000000</td>\n",
              "      <td>1338.000000</td>\n",
              "      <td>...</td>\n",
              "      <td>1338.000000</td>\n",
              "      <td>1338.000000</td>\n",
              "      <td>1338.000000</td>\n",
              "      <td>1338.00000</td>\n",
              "      <td>1338.000000</td>\n",
              "      <td>1338.000000</td>\n",
              "      <td>1338.000000</td>\n",
              "      <td>1338.000000</td>\n",
              "      <td>1338.000000</td>\n",
              "      <td>1338.000000</td>\n",
              "    </tr>\n",
              "    <tr>\n",
              "      <th>mean</th>\n",
              "      <td>56.136024</td>\n",
              "      <td>3.023916</td>\n",
              "      <td>70.630187</td>\n",
              "      <td>10706.294469</td>\n",
              "      <td>0.996263</td>\n",
              "      <td>1.903587</td>\n",
              "      <td>2.787743</td>\n",
              "      <td>0.000747</td>\n",
              "      <td>3.001495</td>\n",
              "      <td>0.063528</td>\n",
              "      <td>...</td>\n",
              "      <td>47.782511</td>\n",
              "      <td>21.263827</td>\n",
              "      <td>3.585949</td>\n",
              "      <td>16.43423</td>\n",
              "      <td>3.010463</td>\n",
              "      <td>6.331839</td>\n",
              "      <td>2007.805680</td>\n",
              "      <td>7.500000</td>\n",
              "      <td>3.804933</td>\n",
              "      <td>186761.782511</td>\n",
              "    </tr>\n",
              "    <tr>\n",
              "      <th>std</th>\n",
              "      <td>41.252576</td>\n",
              "      <td>0.624383</td>\n",
              "      <td>22.161578</td>\n",
              "      <td>10336.621126</td>\n",
              "      <td>0.061039</td>\n",
              "      <td>1.419114</td>\n",
              "      <td>0.687379</td>\n",
              "      <td>0.027338</td>\n",
              "      <td>1.630854</td>\n",
              "      <td>0.278365</td>\n",
              "      <td>...</td>\n",
              "      <td>65.362562</td>\n",
              "      <td>60.843964</td>\n",
              "      <td>30.224622</td>\n",
              "      <td>58.05159</td>\n",
              "      <td>41.961337</td>\n",
              "      <td>2.699437</td>\n",
              "      <td>1.330691</td>\n",
              "      <td>1.580666</td>\n",
              "      <td>1.059942</td>\n",
              "      <td>78913.847668</td>\n",
              "    </tr>\n",
              "    <tr>\n",
              "      <th>min</th>\n",
              "      <td>20.000000</td>\n",
              "      <td>0.000000</td>\n",
              "      <td>21.000000</td>\n",
              "      <td>1300.000000</td>\n",
              "      <td>0.000000</td>\n",
              "      <td>0.000000</td>\n",
              "      <td>0.000000</td>\n",
              "      <td>0.000000</td>\n",
              "      <td>0.000000</td>\n",
              "      <td>0.000000</td>\n",
              "      <td>...</td>\n",
              "      <td>0.000000</td>\n",
              "      <td>0.000000</td>\n",
              "      <td>0.000000</td>\n",
              "      <td>0.00000</td>\n",
              "      <td>0.000000</td>\n",
              "      <td>1.000000</td>\n",
              "      <td>2006.000000</td>\n",
              "      <td>0.000000</td>\n",
              "      <td>0.000000</td>\n",
              "      <td>35311.000000</td>\n",
              "    </tr>\n",
              "    <tr>\n",
              "      <th>25%</th>\n",
              "      <td>20.000000</td>\n",
              "      <td>3.000000</td>\n",
              "      <td>60.000000</td>\n",
              "      <td>7744.000000</td>\n",
              "      <td>1.000000</td>\n",
              "      <td>0.000000</td>\n",
              "      <td>3.000000</td>\n",
              "      <td>0.000000</td>\n",
              "      <td>2.000000</td>\n",
              "      <td>0.000000</td>\n",
              "      <td>...</td>\n",
              "      <td>0.000000</td>\n",
              "      <td>0.000000</td>\n",
              "      <td>0.000000</td>\n",
              "      <td>0.00000</td>\n",
              "      <td>0.000000</td>\n",
              "      <td>5.000000</td>\n",
              "      <td>2007.000000</td>\n",
              "      <td>8.000000</td>\n",
              "      <td>4.000000</td>\n",
              "      <td>135000.000000</td>\n",
              "    </tr>\n",
              "    <tr>\n",
              "      <th>50%</th>\n",
              "      <td>50.000000</td>\n",
              "      <td>3.000000</td>\n",
              "      <td>70.049958</td>\n",
              "      <td>9600.000000</td>\n",
              "      <td>1.000000</td>\n",
              "      <td>3.000000</td>\n",
              "      <td>3.000000</td>\n",
              "      <td>0.000000</td>\n",
              "      <td>4.000000</td>\n",
              "      <td>0.000000</td>\n",
              "      <td>...</td>\n",
              "      <td>28.000000</td>\n",
              "      <td>0.000000</td>\n",
              "      <td>0.000000</td>\n",
              "      <td>0.00000</td>\n",
              "      <td>0.000000</td>\n",
              "      <td>6.000000</td>\n",
              "      <td>2008.000000</td>\n",
              "      <td>8.000000</td>\n",
              "      <td>4.000000</td>\n",
              "      <td>168500.000000</td>\n",
              "    </tr>\n",
              "    <tr>\n",
              "      <th>75%</th>\n",
              "      <td>70.000000</td>\n",
              "      <td>3.000000</td>\n",
              "      <td>80.000000</td>\n",
              "      <td>11760.750000</td>\n",
              "      <td>1.000000</td>\n",
              "      <td>3.000000</td>\n",
              "      <td>3.000000</td>\n",
              "      <td>0.000000</td>\n",
              "      <td>4.000000</td>\n",
              "      <td>0.000000</td>\n",
              "      <td>...</td>\n",
              "      <td>70.000000</td>\n",
              "      <td>0.000000</td>\n",
              "      <td>0.000000</td>\n",
              "      <td>0.00000</td>\n",
              "      <td>0.000000</td>\n",
              "      <td>8.000000</td>\n",
              "      <td>2009.000000</td>\n",
              "      <td>8.000000</td>\n",
              "      <td>4.000000</td>\n",
              "      <td>220000.000000</td>\n",
              "    </tr>\n",
              "    <tr>\n",
              "      <th>max</th>\n",
              "      <td>190.000000</td>\n",
              "      <td>4.000000</td>\n",
              "      <td>313.000000</td>\n",
              "      <td>215245.000000</td>\n",
              "      <td>1.000000</td>\n",
              "      <td>3.000000</td>\n",
              "      <td>3.000000</td>\n",
              "      <td>1.000000</td>\n",
              "      <td>4.000000</td>\n",
              "      <td>2.000000</td>\n",
              "      <td>...</td>\n",
              "      <td>547.000000</td>\n",
              "      <td>552.000000</td>\n",
              "      <td>508.000000</td>\n",
              "      <td>480.00000</td>\n",
              "      <td>738.000000</td>\n",
              "      <td>12.000000</td>\n",
              "      <td>2010.000000</td>\n",
              "      <td>8.000000</td>\n",
              "      <td>5.000000</td>\n",
              "      <td>755000.000000</td>\n",
              "    </tr>\n",
              "  </tbody>\n",
              "</table>\n",
              "<p>8 rows × 75 columns</p>\n",
              "</div>\n",
              "    <div class=\"colab-df-buttons\">\n",
              "\n",
              "  <div class=\"colab-df-container\">\n",
              "    <button class=\"colab-df-convert\" onclick=\"convertToInteractive('df-d1a05998-ab55-466d-821a-6c3e84ad5aad')\"\n",
              "            title=\"Convert this dataframe to an interactive table.\"\n",
              "            style=\"display:none;\">\n",
              "\n",
              "  <svg xmlns=\"http://www.w3.org/2000/svg\" height=\"24px\" viewBox=\"0 -960 960 960\">\n",
              "    <path d=\"M120-120v-720h720v720H120Zm60-500h600v-160H180v160Zm220 220h160v-160H400v160Zm0 220h160v-160H400v160ZM180-400h160v-160H180v160Zm440 0h160v-160H620v160ZM180-180h160v-160H180v160Zm440 0h160v-160H620v160Z\"/>\n",
              "  </svg>\n",
              "    </button>\n",
              "\n",
              "  <style>\n",
              "    .colab-df-container {\n",
              "      display:flex;\n",
              "      gap: 12px;\n",
              "    }\n",
              "\n",
              "    .colab-df-convert {\n",
              "      background-color: #E8F0FE;\n",
              "      border: none;\n",
              "      border-radius: 50%;\n",
              "      cursor: pointer;\n",
              "      display: none;\n",
              "      fill: #1967D2;\n",
              "      height: 32px;\n",
              "      padding: 0 0 0 0;\n",
              "      width: 32px;\n",
              "    }\n",
              "\n",
              "    .colab-df-convert:hover {\n",
              "      background-color: #E2EBFA;\n",
              "      box-shadow: 0px 1px 2px rgba(60, 64, 67, 0.3), 0px 1px 3px 1px rgba(60, 64, 67, 0.15);\n",
              "      fill: #174EA6;\n",
              "    }\n",
              "\n",
              "    .colab-df-buttons div {\n",
              "      margin-bottom: 4px;\n",
              "    }\n",
              "\n",
              "    [theme=dark] .colab-df-convert {\n",
              "      background-color: #3B4455;\n",
              "      fill: #D2E3FC;\n",
              "    }\n",
              "\n",
              "    [theme=dark] .colab-df-convert:hover {\n",
              "      background-color: #434B5C;\n",
              "      box-shadow: 0px 1px 3px 1px rgba(0, 0, 0, 0.15);\n",
              "      filter: drop-shadow(0px 1px 2px rgba(0, 0, 0, 0.3));\n",
              "      fill: #FFFFFF;\n",
              "    }\n",
              "  </style>\n",
              "\n",
              "    <script>\n",
              "      const buttonEl =\n",
              "        document.querySelector('#df-d1a05998-ab55-466d-821a-6c3e84ad5aad button.colab-df-convert');\n",
              "      buttonEl.style.display =\n",
              "        google.colab.kernel.accessAllowed ? 'block' : 'none';\n",
              "\n",
              "      async function convertToInteractive(key) {\n",
              "        const element = document.querySelector('#df-d1a05998-ab55-466d-821a-6c3e84ad5aad');\n",
              "        const dataTable =\n",
              "          await google.colab.kernel.invokeFunction('convertToInteractive',\n",
              "                                                    [key], {});\n",
              "        if (!dataTable) return;\n",
              "\n",
              "        const docLinkHtml = 'Like what you see? Visit the ' +\n",
              "          '<a target=\"_blank\" href=https://colab.research.google.com/notebooks/data_table.ipynb>data table notebook</a>'\n",
              "          + ' to learn more about interactive tables.';\n",
              "        element.innerHTML = '';\n",
              "        dataTable['output_type'] = 'display_data';\n",
              "        await google.colab.output.renderOutput(dataTable, element);\n",
              "        const docLink = document.createElement('div');\n",
              "        docLink.innerHTML = docLinkHtml;\n",
              "        element.appendChild(docLink);\n",
              "      }\n",
              "    </script>\n",
              "  </div>\n",
              "\n",
              "\n",
              "<div id=\"df-53417eaf-3263-45f7-a2a9-33c40cce0cf2\">\n",
              "  <button class=\"colab-df-quickchart\" onclick=\"quickchart('df-53417eaf-3263-45f7-a2a9-33c40cce0cf2')\"\n",
              "            title=\"Suggest charts\"\n",
              "            style=\"display:none;\">\n",
              "\n",
              "<svg xmlns=\"http://www.w3.org/2000/svg\" height=\"24px\"viewBox=\"0 0 24 24\"\n",
              "     width=\"24px\">\n",
              "    <g>\n",
              "        <path d=\"M19 3H5c-1.1 0-2 .9-2 2v14c0 1.1.9 2 2 2h14c1.1 0 2-.9 2-2V5c0-1.1-.9-2-2-2zM9 17H7v-7h2v7zm4 0h-2V7h2v10zm4 0h-2v-4h2v4z\"/>\n",
              "    </g>\n",
              "</svg>\n",
              "  </button>\n",
              "\n",
              "<style>\n",
              "  .colab-df-quickchart {\n",
              "      --bg-color: #E8F0FE;\n",
              "      --fill-color: #1967D2;\n",
              "      --hover-bg-color: #E2EBFA;\n",
              "      --hover-fill-color: #174EA6;\n",
              "      --disabled-fill-color: #AAA;\n",
              "      --disabled-bg-color: #DDD;\n",
              "  }\n",
              "\n",
              "  [theme=dark] .colab-df-quickchart {\n",
              "      --bg-color: #3B4455;\n",
              "      --fill-color: #D2E3FC;\n",
              "      --hover-bg-color: #434B5C;\n",
              "      --hover-fill-color: #FFFFFF;\n",
              "      --disabled-bg-color: #3B4455;\n",
              "      --disabled-fill-color: #666;\n",
              "  }\n",
              "\n",
              "  .colab-df-quickchart {\n",
              "    background-color: var(--bg-color);\n",
              "    border: none;\n",
              "    border-radius: 50%;\n",
              "    cursor: pointer;\n",
              "    display: none;\n",
              "    fill: var(--fill-color);\n",
              "    height: 32px;\n",
              "    padding: 0;\n",
              "    width: 32px;\n",
              "  }\n",
              "\n",
              "  .colab-df-quickchart:hover {\n",
              "    background-color: var(--hover-bg-color);\n",
              "    box-shadow: 0 1px 2px rgba(60, 64, 67, 0.3), 0 1px 3px 1px rgba(60, 64, 67, 0.15);\n",
              "    fill: var(--button-hover-fill-color);\n",
              "  }\n",
              "\n",
              "  .colab-df-quickchart-complete:disabled,\n",
              "  .colab-df-quickchart-complete:disabled:hover {\n",
              "    background-color: var(--disabled-bg-color);\n",
              "    fill: var(--disabled-fill-color);\n",
              "    box-shadow: none;\n",
              "  }\n",
              "\n",
              "  .colab-df-spinner {\n",
              "    border: 2px solid var(--fill-color);\n",
              "    border-color: transparent;\n",
              "    border-bottom-color: var(--fill-color);\n",
              "    animation:\n",
              "      spin 1s steps(1) infinite;\n",
              "  }\n",
              "\n",
              "  @keyframes spin {\n",
              "    0% {\n",
              "      border-color: transparent;\n",
              "      border-bottom-color: var(--fill-color);\n",
              "      border-left-color: var(--fill-color);\n",
              "    }\n",
              "    20% {\n",
              "      border-color: transparent;\n",
              "      border-left-color: var(--fill-color);\n",
              "      border-top-color: var(--fill-color);\n",
              "    }\n",
              "    30% {\n",
              "      border-color: transparent;\n",
              "      border-left-color: var(--fill-color);\n",
              "      border-top-color: var(--fill-color);\n",
              "      border-right-color: var(--fill-color);\n",
              "    }\n",
              "    40% {\n",
              "      border-color: transparent;\n",
              "      border-right-color: var(--fill-color);\n",
              "      border-top-color: var(--fill-color);\n",
              "    }\n",
              "    60% {\n",
              "      border-color: transparent;\n",
              "      border-right-color: var(--fill-color);\n",
              "    }\n",
              "    80% {\n",
              "      border-color: transparent;\n",
              "      border-right-color: var(--fill-color);\n",
              "      border-bottom-color: var(--fill-color);\n",
              "    }\n",
              "    90% {\n",
              "      border-color: transparent;\n",
              "      border-bottom-color: var(--fill-color);\n",
              "    }\n",
              "  }\n",
              "</style>\n",
              "\n",
              "  <script>\n",
              "    async function quickchart(key) {\n",
              "      const quickchartButtonEl =\n",
              "        document.querySelector('#' + key + ' button');\n",
              "      quickchartButtonEl.disabled = true;  // To prevent multiple clicks.\n",
              "      quickchartButtonEl.classList.add('colab-df-spinner');\n",
              "      try {\n",
              "        const charts = await google.colab.kernel.invokeFunction(\n",
              "            'suggestCharts', [key], {});\n",
              "      } catch (error) {\n",
              "        console.error('Error during call to suggestCharts:', error);\n",
              "      }\n",
              "      quickchartButtonEl.classList.remove('colab-df-spinner');\n",
              "      quickchartButtonEl.classList.add('colab-df-quickchart-complete');\n",
              "    }\n",
              "    (() => {\n",
              "      let quickchartButtonEl =\n",
              "        document.querySelector('#df-53417eaf-3263-45f7-a2a9-33c40cce0cf2 button');\n",
              "      quickchartButtonEl.style.display =\n",
              "        google.colab.kernel.accessAllowed ? 'block' : 'none';\n",
              "    })();\n",
              "  </script>\n",
              "</div>\n",
              "    </div>\n",
              "  </div>\n"
            ]
          },
          "metadata": {},
          "execution_count": 515
        }
      ]
    },
    {
      "cell_type": "code",
      "source": [
        "sns.distplot(df['YearBuilt']);"
      ],
      "metadata": {
        "colab": {
          "base_uri": "https://localhost:8080/",
          "height": 449
        },
        "id": "wdBzqjnmGKZV",
        "outputId": "12e6f6d3-60f6-484a-b585-dcf9e2b036e5"
      },
      "execution_count": 516,
      "outputs": [
        {
          "output_type": "display_data",
          "data": {
            "text/plain": [
              "<Figure size 640x480 with 1 Axes>"
            ],
            "image/png": "[encoded data removed]"
          },
          "metadata": {}
        }
      ]
    },
    {
      "cell_type": "code",
      "source": [
        "sns.distplot(df['SalePrice']);"
      ],
      "metadata": {
        "colab": {
          "base_uri": "https://localhost:8080/",
          "height": 465
        },
        "id": "2rQi0exBGeoQ",
        "outputId": "405f564e-aad5-4d17-f22e-aefbd6bee47d"
      },
      "execution_count": 517,
      "outputs": [
        {
          "output_type": "display_data",
          "data": {
            "text/plain": [
              "<Figure size 640x480 with 1 Axes>"
            ],
            "image/png": "[encoded data removed]"
          },
          "metadata": {}
        }
      ]
    },
    {
      "cell_type": "code",
      "source": [
        "df.columns"
      ],
      "metadata": {
        "colab": {
          "base_uri": "https://localhost:8080/"
        },
        "id": "utyg2TrUGydR",
        "outputId": "efd80cd5-4c0b-4451-e97b-2ce2174ff622"
      },
      "execution_count": 518,
      "outputs": [
        {
          "output_type": "execute_result",
          "data": {
            "text/plain": [
              "Index(['MSSubClass', 'MSZoning', 'LotFrontage', 'LotArea', 'Street',\n",
              "       'LotShape', 'LandContour', 'Utilities', 'LotConfig', 'LandSlope',\n",
              "       'Neighborhood', 'Condition1', 'Condition2', 'BldgType', 'HouseStyle',\n",
              "       'OverallQual', 'OverallCond', 'YearBuilt', 'YearRemodAdd', 'RoofStyle',\n",
              "       'RoofMatl', 'Exterior1st', 'Exterior2nd', 'MasVnrType', 'MasVnrArea',\n",
              "       'ExterQual', 'ExterCond', 'Foundation', 'BsmtQual', 'BsmtCond',\n",
              "       'BsmtExposure', 'BsmtFinType1', 'BsmtFinSF1', 'BsmtFinType2',\n",
              "       'BsmtFinSF2', 'BsmtUnfSF', 'TotalBsmtSF', 'Heating', 'HeatingQC',\n",
              "       'CentralAir', 'Electrical', '1stFlrSF', '2ndFlrSF', 'LowQualFinSF',\n",
              "       'GrLivArea', 'BsmtFullBath', 'BsmtHalfBath', 'FullBath', 'HalfBath',\n",
              "       'BedroomAbvGr', 'KitchenAbvGr', 'KitchenQual', 'TotRmsAbvGrd',\n",
              "       'Functional', 'Fireplaces', 'FireplaceQu', 'GarageType', 'GarageYrBlt',\n",
              "       'GarageFinish', 'GarageCars', 'GarageArea', 'GarageQual', 'GarageCond',\n",
              "       'PavedDrive', 'WoodDeckSF', 'OpenPorchSF', 'EnclosedPorch', '3SsnPorch',\n",
              "       'ScreenPorch', 'PoolArea', 'MoSold', 'YrSold', 'SaleType',\n",
              "       'SaleCondition', 'SalePrice'],\n",
              "      dtype='object')"
            ]
          },
          "metadata": {},
          "execution_count": 518
        }
      ]
    },
    {
      "cell_type": "code",
      "source": [
        "sns.distplot(df['MoSold']);"
      ],
      "metadata": {
        "colab": {
          "base_uri": "https://localhost:8080/",
          "height": 453
        },
        "id": "1rVOR8aiHGU8",
        "outputId": "bda7e70b-c5ef-498c-d87d-b4b592813a16"
      },
      "execution_count": 519,
      "outputs": [
        {
          "output_type": "display_data",
          "data": {
            "text/plain": [
              "<Figure size 640x480 with 1 Axes>"
            ],
            "image/png": "[encoded data removed]"
          },
          "metadata": {}
        }
      ]
    },
    {
      "cell_type": "code",
      "source": [
        "sns.countplot(data=df, x='LotShape');"
      ],
      "metadata": {
        "colab": {
          "base_uri": "https://localhost:8080/",
          "height": 449
        },
        "id": "KdCT2jB0HNiY",
        "outputId": "da470f73-f147-47ed-ffc9-afc467144cc2"
      },
      "execution_count": 520,
      "outputs": [
        {
          "output_type": "display_data",
          "data": {
            "text/plain": [
              "<Figure size 640x480 with 1 Axes>"
            ],
            "image/png": "[encoded data removed]"
          },
          "metadata": {}
        }
      ]
    },
    {
      "cell_type": "code",
      "source": [],
      "metadata": {
        "id": "kwJcsy15HV6h"
      },
      "execution_count": 520,
      "outputs": []
    },
    {
      "cell_type": "code",
      "source": [
        "# Fine... Enough"
      ],
      "metadata": {
        "id": "N0EdCYhBHc2m"
      },
      "execution_count": 521,
      "outputs": []
    },
    {
      "cell_type": "markdown",
      "source": [
        "# **DATA PREPARATION**\n",
        "\n",
        "<img src='https://www.geogebra.org/resource/gAqjNBmk/Fv8IxTCMYKOXacZY/material-gAqjNBmk.png' width=33%>"
      ],
      "metadata": {
        "id": "twqtpc2kHgaI"
      }
    },
    {
      "cell_type": "code",
      "source": [
        "X = df.drop('SalePrice', axis=1)\n",
        "y = df['SalePrice']"
      ],
      "metadata": {
        "id": "M6GRCA5CIQ-Y"
      },
      "execution_count": 522,
      "outputs": []
    },
    {
      "cell_type": "code",
      "source": [
        "from sklearn.preprocessing import MinMaxScaler\n",
        "from sklearn.utils import shuffle"
      ],
      "metadata": {
        "id": "lIiDLMrAHftS"
      },
      "execution_count": 523,
      "outputs": []
    },
    {
      "cell_type": "code",
      "source": [
        "scaler = MinMaxScaler((0, 1))"
      ],
      "metadata": {
        "id": "C_BF9lyhIECQ"
      },
      "execution_count": 524,
      "outputs": []
    },
    {
      "cell_type": "code",
      "source": [
        "X = scaler.fit_transform(X)"
      ],
      "metadata": {
        "id": "6eLcIUbQIHCp"
      },
      "execution_count": 525,
      "outputs": []
    },
    {
      "cell_type": "code",
      "source": [
        "X.max()"
      ],
      "metadata": {
        "colab": {
          "base_uri": "https://localhost:8080/"
        },
        "id": "q650gFLCIPRR",
        "outputId": "ffda0c7d-3c1b-4986-f6b8-64257367b264"
      },
      "execution_count": 526,
      "outputs": [
        {
          "output_type": "execute_result",
          "data": {
            "text/plain": [
              "1.0"
            ]
          },
          "metadata": {},
          "execution_count": 526
        }
      ]
    },
    {
      "cell_type": "code",
      "source": [
        "X, y = shuffle(X, y)"
      ],
      "metadata": {
        "id": "I_qeq503IdmN"
      },
      "execution_count": 527,
      "outputs": []
    },
    {
      "cell_type": "code",
      "source": [
        "from sklearn.model_selection import train_test_split"
      ],
      "metadata": {
        "id": "IgyZXDCdJzV2"
      },
      "execution_count": 528,
      "outputs": []
    },
    {
      "cell_type": "code",
      "source": [
        "X_train, X_test, y_train, y_test = train_test_split(X, y, test_size=0.25)"
      ],
      "metadata": {
        "id": "355SilhUJ32P"
      },
      "execution_count": 529,
      "outputs": []
    },
    {
      "cell_type": "code",
      "source": [
        "print(f'{X_train.shape} --- {y_train.shape}')\n",
        "print('='*60)\n",
        "print(f'{X_test.shape} --- {y_test.shape}')"
      ],
      "metadata": {
        "colab": {
          "base_uri": "https://localhost:8080/"
        },
        "id": "pmDH1xX6J_Ag",
        "outputId": "43457894-ac69-41dc-c195-4da40750c902"
      },
      "execution_count": 530,
      "outputs": [
        {
          "output_type": "stream",
          "name": "stdout",
          "text": [
            "(1003, 74) --- (1003,)\n",
            "============================================================\n",
            "(335, 74) --- (335,)\n"
          ]
        }
      ]
    },
    {
      "cell_type": "markdown",
      "source": [
        "# **MODEL BUILDING**\n",
        "<img src='https://encrypted-tbn0.gstatic.com/images?q=tbn:ANd9GcS4Zb7CLmvcOsnwHdbguJj13xAHZJxmVW6y-w&usqp=CAU'>"
      ],
      "metadata": {
        "id": "7rIv-kPqIuRQ"
      }
    },
    {
      "cell_type": "code",
      "source": [
        "from tensorflow import keras\n",
        "from tensorflow.keras import layers"
      ],
      "metadata": {
        "id": "X2fQckxOKgnc"
      },
      "execution_count": 531,
      "outputs": []
    },
    {
      "cell_type": "code",
      "source": [
        "model = keras.Sequential([\n",
        "      layers.Dense(10, input_dim=X_train.shape[1], activation='relu'),\n",
        "      layers.Dense(30, activation='relu'),\n",
        "      layers.Dense(40, activation='relu'),\n",
        "      layers.Dense(1)\n",
        "  ])\n",
        "\n",
        "model.compile(\n",
        "    loss='msle',\n",
        "    optimizer=keras.optimizers.Adam(0.001)\n",
        "    )"
      ],
      "metadata": {
        "id": "5m9IIu59JNa4"
      },
      "execution_count": 532,
      "outputs": []
    },
    {
      "cell_type": "code",
      "source": [
        "hist = model.fit(\n",
        "    X_train, y_train,\n",
        "    validation_split=0.1,\n",
        "    batch_size=32,\n",
        "    shuffle=True,\n",
        "    epochs=512,\n",
        "    verbose=2\n",
        ")"
      ],
      "metadata": {
        "colab": {
          "base_uri": "https://localhost:8080/"
        },
        "id": "5xomD0waKyxR",
        "outputId": "09c995aa-d70a-4cd1-d5cf-ba242c50699e"
      },
      "execution_count": 533,
      "outputs": [
        {
          "output_type": "stream",
          "name": "stdout",
          "text": [
            "Epoch 1/512\n",
            "29/29 - 1s - loss: 129.5311 - val_loss: 115.2534 - 1s/epoch - 39ms/step\n",
            "Epoch 2/512\n",
            "29/29 - 0s - loss: 103.4031 - val_loss: 92.0545 - 102ms/epoch - 4ms/step\n",
            "Epoch 3/512\n",
            "29/29 - 0s - loss: 84.0335 - val_loss: 76.7568 - 97ms/epoch - 3ms/step\n",
            "Epoch 4/512\n",
            "29/29 - 0s - loss: 71.3327 - val_loss: 66.3537 - 83ms/epoch - 3ms/step\n",
            "Epoch 5/512\n",
            "29/29 - 0s - loss: 61.9499 - val_loss: 57.7397 - 93ms/epoch - 3ms/step\n",
            "Epoch 6/512\n",
            "29/29 - 0s - loss: 54.0255 - val_loss: 50.6241 - 95ms/epoch - 3ms/step\n",
            "Epoch 7/512\n",
            "29/29 - 0s - loss: 47.6639 - val_loss: 45.0284 - 84ms/epoch - 3ms/step\n",
            "Epoch 8/512\n",
            "29/29 - 0s - loss: 42.6054 - val_loss: 40.4478 - 82ms/epoch - 3ms/step\n",
            "Epoch 9/512\n",
            "29/29 - 0s - loss: 38.3708 - val_loss: 36.5680 - 102ms/epoch - 4ms/step\n",
            "Epoch 10/512\n",
            "29/29 - 0s - loss: 34.8072 - val_loss: 33.3201 - 86ms/epoch - 3ms/step\n",
            "Epoch 11/512\n",
            "29/29 - 0s - loss: 31.8218 - val_loss: 30.5930 - 93ms/epoch - 3ms/step\n",
            "Epoch 12/512\n",
            "29/29 - 0s - loss: 29.3013 - val_loss: 28.2741 - 93ms/epoch - 3ms/step\n",
            "Epoch 13/512\n",
            "29/29 - 0s - loss: 27.1401 - val_loss: 26.2678 - 76ms/epoch - 3ms/step\n",
            "Epoch 14/512\n",
            "29/29 - 0s - loss: 25.2622 - val_loss: 24.5116 - 106ms/epoch - 4ms/step\n",
            "Epoch 15/512\n",
            "29/29 - 0s - loss: 23.6151 - val_loss: 22.9662 - 84ms/epoch - 3ms/step\n",
            "Epoch 16/512\n",
            "29/29 - 0s - loss: 22.1553 - val_loss: 21.5875 - 83ms/epoch - 3ms/step\n",
            "Epoch 17/512\n",
            "29/29 - 0s - loss: 20.8490 - val_loss: 20.3476 - 89ms/epoch - 3ms/step\n",
            "Epoch 18/512\n",
            "29/29 - 0s - loss: 19.6707 - val_loss: 19.2254 - 94ms/epoch - 3ms/step\n",
            "Epoch 19/512\n",
            "29/29 - 0s - loss: 18.5984 - val_loss: 18.2015 - 95ms/epoch - 3ms/step\n",
            "Epoch 20/512\n",
            "29/29 - 0s - loss: 17.6189 - val_loss: 17.2635 - 90ms/epoch - 3ms/step\n",
            "Epoch 21/512\n",
            "29/29 - 0s - loss: 16.7220 - val_loss: 16.4015 - 115ms/epoch - 4ms/step\n",
            "Epoch 22/512\n",
            "29/29 - 0s - loss: 15.8959 - val_loss: 15.6039 - 100ms/epoch - 3ms/step\n",
            "Epoch 23/512\n",
            "29/29 - 0s - loss: 15.1298 - val_loss: 14.8661 - 105ms/epoch - 4ms/step\n",
            "Epoch 24/512\n",
            "29/29 - 0s - loss: 14.4191 - val_loss: 14.1797 - 94ms/epoch - 3ms/step\n",
            "Epoch 25/512\n",
            "29/29 - 0s - loss: 13.7567 - val_loss: 13.5387 - 83ms/epoch - 3ms/step\n",
            "Epoch 26/512\n",
            "29/29 - 0s - loss: 13.1392 - val_loss: 12.9389 - 96ms/epoch - 3ms/step\n",
            "Epoch 27/512\n",
            "29/29 - 0s - loss: 12.5605 - val_loss: 12.3773 - 108ms/epoch - 4ms/step\n",
            "Epoch 28/512\n",
            "29/29 - 0s - loss: 12.0181 - val_loss: 11.8498 - 86ms/epoch - 3ms/step\n",
            "Epoch 29/512\n",
            "29/29 - 0s - loss: 11.5086 - val_loss: 11.3550 - 105ms/epoch - 4ms/step\n",
            "Epoch 30/512\n",
            "29/29 - 0s - loss: 11.0294 - val_loss: 10.8870 - 104ms/epoch - 4ms/step\n",
            "Epoch 31/512\n",
            "29/29 - 0s - loss: 10.5759 - val_loss: 10.4457 - 88ms/epoch - 3ms/step\n",
            "Epoch 32/512\n",
            "29/29 - 0s - loss: 10.1481 - val_loss: 10.0289 - 106ms/epoch - 4ms/step\n",
            "Epoch 33/512\n",
            "29/29 - 0s - loss: 9.7431 - val_loss: 9.6324 - 115ms/epoch - 4ms/step\n",
            "Epoch 34/512\n",
            "29/29 - 0s - loss: 9.3587 - val_loss: 9.2565 - 121ms/epoch - 4ms/step\n",
            "Epoch 35/512\n",
            "29/29 - 0s - loss: 8.9934 - val_loss: 8.8997 - 138ms/epoch - 5ms/step\n",
            "Epoch 36/512\n",
            "29/29 - 0s - loss: 8.6466 - val_loss: 8.5595 - 160ms/epoch - 6ms/step\n",
            "Epoch 37/512\n",
            "29/29 - 0s - loss: 8.3166 - val_loss: 8.2371 - 121ms/epoch - 4ms/step\n",
            "Epoch 38/512\n",
            "29/29 - 0s - loss: 8.0027 - val_loss: 7.9289 - 143ms/epoch - 5ms/step\n",
            "Epoch 39/512\n",
            "29/29 - 0s - loss: 7.7034 - val_loss: 7.6354 - 121ms/epoch - 4ms/step\n",
            "Epoch 40/512\n",
            "29/29 - 0s - loss: 7.4183 - val_loss: 7.3556 - 113ms/epoch - 4ms/step\n",
            "Epoch 41/512\n",
            "29/29 - 0s - loss: 7.1455 - val_loss: 7.0871 - 132ms/epoch - 5ms/step\n",
            "Epoch 42/512\n",
            "29/29 - 0s - loss: 6.8849 - val_loss: 6.8312 - 126ms/epoch - 4ms/step\n",
            "Epoch 43/512\n",
            "29/29 - 0s - loss: 6.6358 - val_loss: 6.5865 - 154ms/epoch - 5ms/step\n",
            "Epoch 44/512\n",
            "29/29 - 0s - loss: 6.3971 - val_loss: 6.3515 - 147ms/epoch - 5ms/step\n",
            "Epoch 45/512\n",
            "29/29 - 0s - loss: 6.1682 - val_loss: 6.1262 - 133ms/epoch - 5ms/step\n",
            "Epoch 46/512\n",
            "29/29 - 0s - loss: 5.9488 - val_loss: 5.9101 - 132ms/epoch - 5ms/step\n",
            "Epoch 47/512\n",
            "29/29 - 0s - loss: 5.7382 - val_loss: 5.7028 - 144ms/epoch - 5ms/step\n",
            "Epoch 48/512\n",
            "29/29 - 0s - loss: 5.5363 - val_loss: 5.5038 - 125ms/epoch - 4ms/step\n",
            "Epoch 49/512\n",
            "29/29 - 0s - loss: 5.3424 - val_loss: 5.3129 - 139ms/epoch - 5ms/step\n",
            "Epoch 50/512\n",
            "29/29 - 0s - loss: 5.1565 - val_loss: 5.1292 - 147ms/epoch - 5ms/step\n",
            "Epoch 51/512\n",
            "29/29 - 0s - loss: 4.9775 - val_loss: 4.9529 - 148ms/epoch - 5ms/step\n",
            "Epoch 52/512\n",
            "29/29 - 0s - loss: 4.8060 - val_loss: 4.7831 - 157ms/epoch - 5ms/step\n",
            "Epoch 53/512\n",
            "29/29 - 0s - loss: 4.6410 - val_loss: 4.6211 - 136ms/epoch - 5ms/step\n",
            "Epoch 54/512\n",
            "29/29 - 0s - loss: 4.4823 - val_loss: 4.4636 - 145ms/epoch - 5ms/step\n",
            "Epoch 55/512\n",
            "29/29 - 0s - loss: 4.3292 - val_loss: 4.3126 - 145ms/epoch - 5ms/step\n",
            "Epoch 56/512\n",
            "29/29 - 0s - loss: 4.1818 - val_loss: 4.1670 - 126ms/epoch - 4ms/step\n",
            "Epoch 57/512\n",
            "29/29 - 0s - loss: 4.0399 - val_loss: 4.0266 - 144ms/epoch - 5ms/step\n",
            "Epoch 58/512\n",
            "29/29 - 0s - loss: 3.9030 - val_loss: 3.8909 - 144ms/epoch - 5ms/step\n",
            "Epoch 59/512\n",
            "29/29 - 0s - loss: 3.7710 - val_loss: 3.7610 - 135ms/epoch - 5ms/step\n",
            "Epoch 60/512\n",
            "29/29 - 0s - loss: 3.6439 - val_loss: 3.6344 - 157ms/epoch - 5ms/step\n",
            "Epoch 61/512\n",
            "29/29 - 0s - loss: 3.5206 - val_loss: 3.5130 - 141ms/epoch - 5ms/step\n",
            "Epoch 62/512\n",
            "29/29 - 0s - loss: 3.4024 - val_loss: 3.3958 - 86ms/epoch - 3ms/step\n",
            "Epoch 63/512\n",
            "29/29 - 0s - loss: 3.2884 - val_loss: 3.2832 - 96ms/epoch - 3ms/step\n",
            "Epoch 64/512\n",
            "29/29 - 0s - loss: 3.1785 - val_loss: 3.1737 - 83ms/epoch - 3ms/step\n",
            "Epoch 65/512\n",
            "29/29 - 0s - loss: 3.0722 - val_loss: 3.0685 - 110ms/epoch - 4ms/step\n",
            "Epoch 66/512\n",
            "29/29 - 0s - loss: 2.9695 - val_loss: 2.9666 - 94ms/epoch - 3ms/step\n",
            "Epoch 67/512\n",
            "29/29 - 0s - loss: 2.8701 - val_loss: 2.8682 - 119ms/epoch - 4ms/step\n",
            "Epoch 68/512\n",
            "29/29 - 0s - loss: 2.7742 - val_loss: 2.7731 - 101ms/epoch - 3ms/step\n",
            "Epoch 69/512\n",
            "29/29 - 0s - loss: 2.6816 - val_loss: 2.6812 - 83ms/epoch - 3ms/step\n",
            "Epoch 70/512\n",
            "29/29 - 0s - loss: 2.5921 - val_loss: 2.5927 - 87ms/epoch - 3ms/step\n",
            "Epoch 71/512\n",
            "29/29 - 0s - loss: 2.5059 - val_loss: 2.5072 - 90ms/epoch - 3ms/step\n",
            "Epoch 72/512\n",
            "29/29 - 0s - loss: 2.4224 - val_loss: 2.4242 - 81ms/epoch - 3ms/step\n",
            "Epoch 73/512\n",
            "29/29 - 0s - loss: 2.3414 - val_loss: 2.3435 - 102ms/epoch - 4ms/step\n",
            "Epoch 74/512\n",
            "29/29 - 0s - loss: 2.2633 - val_loss: 2.2660 - 84ms/epoch - 3ms/step\n",
            "Epoch 75/512\n",
            "29/29 - 0s - loss: 2.1879 - val_loss: 2.1913 - 89ms/epoch - 3ms/step\n",
            "Epoch 76/512\n",
            "29/29 - 0s - loss: 2.1150 - val_loss: 2.1186 - 90ms/epoch - 3ms/step\n",
            "Epoch 77/512\n",
            "29/29 - 0s - loss: 2.0443 - val_loss: 2.0485 - 89ms/epoch - 3ms/step\n",
            "Epoch 78/512\n",
            "29/29 - 0s - loss: 1.9761 - val_loss: 1.9805 - 99ms/epoch - 3ms/step\n",
            "Epoch 79/512\n",
            "29/29 - 0s - loss: 1.9100 - val_loss: 1.9146 - 99ms/epoch - 3ms/step\n",
            "Epoch 80/512\n",
            "29/29 - 0s - loss: 1.8464 - val_loss: 1.8515 - 92ms/epoch - 3ms/step\n",
            "Epoch 81/512\n",
            "29/29 - 0s - loss: 1.7849 - val_loss: 1.7904 - 82ms/epoch - 3ms/step\n",
            "Epoch 82/512\n",
            "29/29 - 0s - loss: 1.7253 - val_loss: 1.7312 - 95ms/epoch - 3ms/step\n",
            "Epoch 83/512\n",
            "29/29 - 0s - loss: 1.6676 - val_loss: 1.6739 - 89ms/epoch - 3ms/step\n",
            "Epoch 84/512\n",
            "29/29 - 0s - loss: 1.6121 - val_loss: 1.6181 - 80ms/epoch - 3ms/step\n",
            "Epoch 85/512\n",
            "29/29 - 0s - loss: 1.5581 - val_loss: 1.5648 - 99ms/epoch - 3ms/step\n",
            "Epoch 86/512\n",
            "29/29 - 0s - loss: 1.5063 - val_loss: 1.5129 - 103ms/epoch - 4ms/step\n",
            "Epoch 87/512\n",
            "29/29 - 0s - loss: 1.4559 - val_loss: 1.4626 - 80ms/epoch - 3ms/step\n",
            "Epoch 88/512\n",
            "29/29 - 0s - loss: 1.4070 - val_loss: 1.4137 - 97ms/epoch - 3ms/step\n",
            "Epoch 89/512\n",
            "29/29 - 0s - loss: 1.3597 - val_loss: 1.3665 - 82ms/epoch - 3ms/step\n",
            "Epoch 90/512\n",
            "29/29 - 0s - loss: 1.3139 - val_loss: 1.3209 - 83ms/epoch - 3ms/step\n",
            "Epoch 91/512\n",
            "29/29 - 0s - loss: 1.2696 - val_loss: 1.2768 - 102ms/epoch - 4ms/step\n",
            "Epoch 92/512\n",
            "29/29 - 0s - loss: 1.2267 - val_loss: 1.2341 - 102ms/epoch - 4ms/step\n",
            "Epoch 93/512\n",
            "29/29 - 0s - loss: 1.1851 - val_loss: 1.1924 - 101ms/epoch - 3ms/step\n",
            "Epoch 94/512\n",
            "29/29 - 0s - loss: 1.1446 - val_loss: 1.1517 - 104ms/epoch - 4ms/step\n",
            "Epoch 95/512\n",
            "29/29 - 0s - loss: 1.1049 - val_loss: 1.1121 - 92ms/epoch - 3ms/step\n",
            "Epoch 96/512\n",
            "29/29 - 0s - loss: 1.0667 - val_loss: 1.0734 - 108ms/epoch - 4ms/step\n",
            "Epoch 97/512\n",
            "29/29 - 0s - loss: 1.0293 - val_loss: 1.0360 - 100ms/epoch - 3ms/step\n",
            "Epoch 98/512\n",
            "29/29 - 0s - loss: 0.9927 - val_loss: 0.9993 - 85ms/epoch - 3ms/step\n",
            "Epoch 99/512\n",
            "29/29 - 0s - loss: 0.9569 - val_loss: 0.9631 - 93ms/epoch - 3ms/step\n",
            "Epoch 100/512\n",
            "29/29 - 0s - loss: 0.9219 - val_loss: 0.9278 - 89ms/epoch - 3ms/step\n",
            "Epoch 101/512\n",
            "29/29 - 0s - loss: 0.8874 - val_loss: 0.8931 - 96ms/epoch - 3ms/step\n",
            "Epoch 102/512\n",
            "29/29 - 0s - loss: 0.8538 - val_loss: 0.8588 - 87ms/epoch - 3ms/step\n",
            "Epoch 103/512\n",
            "29/29 - 0s - loss: 0.8207 - val_loss: 0.8258 - 89ms/epoch - 3ms/step\n",
            "Epoch 104/512\n",
            "29/29 - 0s - loss: 0.7884 - val_loss: 0.7931 - 90ms/epoch - 3ms/step\n",
            "Epoch 105/512\n",
            "29/29 - 0s - loss: 0.7567 - val_loss: 0.7611 - 90ms/epoch - 3ms/step\n",
            "Epoch 106/512\n",
            "29/29 - 0s - loss: 0.7257 - val_loss: 0.7299 - 100ms/epoch - 3ms/step\n",
            "Epoch 107/512\n",
            "29/29 - 0s - loss: 0.6955 - val_loss: 0.6993 - 97ms/epoch - 3ms/step\n",
            "Epoch 108/512\n",
            "29/29 - 0s - loss: 0.6661 - val_loss: 0.6696 - 82ms/epoch - 3ms/step\n",
            "Epoch 109/512\n",
            "29/29 - 0s - loss: 0.6372 - val_loss: 0.6403 - 112ms/epoch - 4ms/step\n",
            "Epoch 110/512\n",
            "29/29 - 0s - loss: 0.6091 - val_loss: 0.6120 - 97ms/epoch - 3ms/step\n",
            "Epoch 111/512\n",
            "29/29 - 0s - loss: 0.5819 - val_loss: 0.5845 - 96ms/epoch - 3ms/step\n",
            "Epoch 112/512\n",
            "29/29 - 0s - loss: 0.5557 - val_loss: 0.5583 - 100ms/epoch - 3ms/step\n",
            "Epoch 113/512\n",
            "29/29 - 0s - loss: 0.5304 - val_loss: 0.5323 - 84ms/epoch - 3ms/step\n",
            "Epoch 114/512\n",
            "29/29 - 0s - loss: 0.5058 - val_loss: 0.5079 - 86ms/epoch - 3ms/step\n",
            "Epoch 115/512\n",
            "29/29 - 0s - loss: 0.4822 - val_loss: 0.4839 - 94ms/epoch - 3ms/step\n",
            "Epoch 116/512\n",
            "29/29 - 0s - loss: 0.4594 - val_loss: 0.4615 - 88ms/epoch - 3ms/step\n",
            "Epoch 117/512\n",
            "29/29 - 0s - loss: 0.4379 - val_loss: 0.4394 - 95ms/epoch - 3ms/step\n",
            "Epoch 118/512\n",
            "29/29 - 0s - loss: 0.4172 - val_loss: 0.4189 - 104ms/epoch - 4ms/step\n",
            "Epoch 119/512\n",
            "29/29 - 0s - loss: 0.3975 - val_loss: 0.3989 - 81ms/epoch - 3ms/step\n",
            "Epoch 120/512\n",
            "29/29 - 0s - loss: 0.3786 - val_loss: 0.3798 - 94ms/epoch - 3ms/step\n",
            "Epoch 121/512\n",
            "29/29 - 0s - loss: 0.3608 - val_loss: 0.3619 - 89ms/epoch - 3ms/step\n",
            "Epoch 122/512\n",
            "29/29 - 0s - loss: 0.3441 - val_loss: 0.3452 - 104ms/epoch - 4ms/step\n",
            "Epoch 123/512\n",
            "29/29 - 0s - loss: 0.3283 - val_loss: 0.3295 - 100ms/epoch - 3ms/step\n",
            "Epoch 124/512\n",
            "29/29 - 0s - loss: 0.3136 - val_loss: 0.3146 - 91ms/epoch - 3ms/step\n",
            "Epoch 125/512\n",
            "29/29 - 0s - loss: 0.2995 - val_loss: 0.3002 - 101ms/epoch - 3ms/step\n",
            "Epoch 126/512\n",
            "29/29 - 0s - loss: 0.2859 - val_loss: 0.2867 - 84ms/epoch - 3ms/step\n",
            "Epoch 127/512\n",
            "29/29 - 0s - loss: 0.2733 - val_loss: 0.2739 - 82ms/epoch - 3ms/step\n",
            "Epoch 128/512\n",
            "29/29 - 0s - loss: 0.2616 - val_loss: 0.2619 - 79ms/epoch - 3ms/step\n",
            "Epoch 129/512\n",
            "29/29 - 0s - loss: 0.2505 - val_loss: 0.2506 - 88ms/epoch - 3ms/step\n",
            "Epoch 130/512\n",
            "29/29 - 0s - loss: 0.2401 - val_loss: 0.2400 - 91ms/epoch - 3ms/step\n",
            "Epoch 131/512\n",
            "29/29 - 0s - loss: 0.2302 - val_loss: 0.2303 - 97ms/epoch - 3ms/step\n",
            "Epoch 132/512\n",
            "29/29 - 0s - loss: 0.2211 - val_loss: 0.2207 - 101ms/epoch - 3ms/step\n",
            "Epoch 133/512\n",
            "29/29 - 0s - loss: 0.2124 - val_loss: 0.2118 - 98ms/epoch - 3ms/step\n",
            "Epoch 134/512\n",
            "29/29 - 0s - loss: 0.2045 - val_loss: 0.2039 - 91ms/epoch - 3ms/step\n",
            "Epoch 135/512\n",
            "29/29 - 0s - loss: 0.1973 - val_loss: 0.1966 - 82ms/epoch - 3ms/step\n",
            "Epoch 136/512\n",
            "29/29 - 0s - loss: 0.1906 - val_loss: 0.1897 - 102ms/epoch - 4ms/step\n",
            "Epoch 137/512\n",
            "29/29 - 0s - loss: 0.1844 - val_loss: 0.1835 - 95ms/epoch - 3ms/step\n",
            "Epoch 138/512\n",
            "29/29 - 0s - loss: 0.1788 - val_loss: 0.1774 - 88ms/epoch - 3ms/step\n",
            "Epoch 139/512\n",
            "29/29 - 0s - loss: 0.1734 - val_loss: 0.1723 - 86ms/epoch - 3ms/step\n",
            "Epoch 140/512\n",
            "29/29 - 0s - loss: 0.1688 - val_loss: 0.1671 - 89ms/epoch - 3ms/step\n",
            "Epoch 141/512\n",
            "29/29 - 0s - loss: 0.1643 - val_loss: 0.1625 - 118ms/epoch - 4ms/step\n",
            "Epoch 142/512\n",
            "29/29 - 0s - loss: 0.1601 - val_loss: 0.1581 - 82ms/epoch - 3ms/step\n",
            "Epoch 143/512\n",
            "29/29 - 0s - loss: 0.1562 - val_loss: 0.1542 - 90ms/epoch - 3ms/step\n",
            "Epoch 144/512\n",
            "29/29 - 0s - loss: 0.1527 - val_loss: 0.1506 - 103ms/epoch - 4ms/step\n",
            "Epoch 145/512\n",
            "29/29 - 0s - loss: 0.1496 - val_loss: 0.1473 - 98ms/epoch - 3ms/step\n",
            "Epoch 146/512\n",
            "29/29 - 0s - loss: 0.1468 - val_loss: 0.1443 - 86ms/epoch - 3ms/step\n",
            "Epoch 147/512\n",
            "29/29 - 0s - loss: 0.1442 - val_loss: 0.1414 - 86ms/epoch - 3ms/step\n",
            "Epoch 148/512\n",
            "29/29 - 0s - loss: 0.1419 - val_loss: 0.1390 - 81ms/epoch - 3ms/step\n",
            "Epoch 149/512\n",
            "29/29 - 0s - loss: 0.1398 - val_loss: 0.1369 - 98ms/epoch - 3ms/step\n",
            "Epoch 150/512\n",
            "29/29 - 0s - loss: 0.1379 - val_loss: 0.1347 - 101ms/epoch - 3ms/step\n",
            "Epoch 151/512\n",
            "29/29 - 0s - loss: 0.1362 - val_loss: 0.1329 - 110ms/epoch - 4ms/step\n",
            "Epoch 152/512\n",
            "29/29 - 0s - loss: 0.1347 - val_loss: 0.1312 - 92ms/epoch - 3ms/step\n",
            "Epoch 153/512\n",
            "29/29 - 0s - loss: 0.1334 - val_loss: 0.1298 - 84ms/epoch - 3ms/step\n",
            "Epoch 154/512\n",
            "29/29 - 0s - loss: 0.1322 - val_loss: 0.1285 - 96ms/epoch - 3ms/step\n",
            "Epoch 155/512\n",
            "29/29 - 0s - loss: 0.1311 - val_loss: 0.1273 - 99ms/epoch - 3ms/step\n",
            "Epoch 156/512\n",
            "29/29 - 0s - loss: 0.1301 - val_loss: 0.1263 - 98ms/epoch - 3ms/step\n",
            "Epoch 157/512\n",
            "29/29 - 0s - loss: 0.1293 - val_loss: 0.1252 - 105ms/epoch - 4ms/step\n",
            "Epoch 158/512\n",
            "29/29 - 0s - loss: 0.1285 - val_loss: 0.1243 - 92ms/epoch - 3ms/step\n",
            "Epoch 159/512\n",
            "29/29 - 0s - loss: 0.1277 - val_loss: 0.1234 - 81ms/epoch - 3ms/step\n",
            "Epoch 160/512\n",
            "29/29 - 0s - loss: 0.1271 - val_loss: 0.1227 - 87ms/epoch - 3ms/step\n",
            "Epoch 161/512\n",
            "29/29 - 0s - loss: 0.1265 - val_loss: 0.1220 - 95ms/epoch - 3ms/step\n",
            "Epoch 162/512\n",
            "29/29 - 0s - loss: 0.1260 - val_loss: 0.1214 - 102ms/epoch - 4ms/step\n",
            "Epoch 163/512\n",
            "29/29 - 0s - loss: 0.1256 - val_loss: 0.1209 - 80ms/epoch - 3ms/step\n",
            "Epoch 164/512\n",
            "29/29 - 0s - loss: 0.1252 - val_loss: 0.1204 - 105ms/epoch - 4ms/step\n",
            "Epoch 165/512\n",
            "29/29 - 0s - loss: 0.1248 - val_loss: 0.1200 - 138ms/epoch - 5ms/step\n",
            "Epoch 166/512\n",
            "29/29 - 0s - loss: 0.1245 - val_loss: 0.1196 - 146ms/epoch - 5ms/step\n",
            "Epoch 167/512\n",
            "29/29 - 0s - loss: 0.1241 - val_loss: 0.1192 - 151ms/epoch - 5ms/step\n",
            "Epoch 168/512\n",
            "29/29 - 0s - loss: 0.1238 - val_loss: 0.1189 - 137ms/epoch - 5ms/step\n",
            "Epoch 169/512\n",
            "29/29 - 0s - loss: 0.1235 - val_loss: 0.1185 - 146ms/epoch - 5ms/step\n",
            "Epoch 170/512\n",
            "29/29 - 0s - loss: 0.1233 - val_loss: 0.1182 - 134ms/epoch - 5ms/step\n",
            "Epoch 171/512\n",
            "29/29 - 0s - loss: 0.1230 - val_loss: 0.1179 - 123ms/epoch - 4ms/step\n",
            "Epoch 172/512\n",
            "29/29 - 0s - loss: 0.1227 - val_loss: 0.1175 - 136ms/epoch - 5ms/step\n",
            "Epoch 173/512\n",
            "29/29 - 0s - loss: 0.1224 - val_loss: 0.1172 - 136ms/epoch - 5ms/step\n",
            "Epoch 174/512\n",
            "29/29 - 0s - loss: 0.1221 - val_loss: 0.1169 - 137ms/epoch - 5ms/step\n",
            "Epoch 175/512\n",
            "29/29 - 0s - loss: 0.1219 - val_loss: 0.1166 - 140ms/epoch - 5ms/step\n",
            "Epoch 176/512\n",
            "29/29 - 0s - loss: 0.1216 - val_loss: 0.1164 - 132ms/epoch - 5ms/step\n",
            "Epoch 177/512\n",
            "29/29 - 0s - loss: 0.1214 - val_loss: 0.1160 - 147ms/epoch - 5ms/step\n",
            "Epoch 178/512\n",
            "29/29 - 0s - loss: 0.1211 - val_loss: 0.1157 - 121ms/epoch - 4ms/step\n",
            "Epoch 179/512\n",
            "29/29 - 0s - loss: 0.1209 - val_loss: 0.1155 - 140ms/epoch - 5ms/step\n",
            "Epoch 180/512\n",
            "29/29 - 0s - loss: 0.1206 - val_loss: 0.1153 - 128ms/epoch - 4ms/step\n",
            "Epoch 181/512\n",
            "29/29 - 0s - loss: 0.1204 - val_loss: 0.1150 - 126ms/epoch - 4ms/step\n",
            "Epoch 182/512\n",
            "29/29 - 0s - loss: 0.1201 - val_loss: 0.1147 - 139ms/epoch - 5ms/step\n",
            "Epoch 183/512\n",
            "29/29 - 0s - loss: 0.1198 - val_loss: 0.1145 - 145ms/epoch - 5ms/step\n",
            "Epoch 184/512\n",
            "29/29 - 0s - loss: 0.1196 - val_loss: 0.1142 - 137ms/epoch - 5ms/step\n",
            "Epoch 185/512\n",
            "29/29 - 0s - loss: 0.1193 - val_loss: 0.1140 - 123ms/epoch - 4ms/step\n",
            "Epoch 186/512\n",
            "29/29 - 0s - loss: 0.1191 - val_loss: 0.1137 - 114ms/epoch - 4ms/step\n",
            "Epoch 187/512\n",
            "29/29 - 0s - loss: 0.1188 - val_loss: 0.1134 - 128ms/epoch - 4ms/step\n",
            "Epoch 188/512\n",
            "29/29 - 0s - loss: 0.1185 - val_loss: 0.1132 - 150ms/epoch - 5ms/step\n",
            "Epoch 189/512\n",
            "29/29 - 0s - loss: 0.1183 - val_loss: 0.1128 - 133ms/epoch - 5ms/step\n",
            "Epoch 190/512\n",
            "29/29 - 0s - loss: 0.1180 - val_loss: 0.1126 - 146ms/epoch - 5ms/step\n",
            "Epoch 191/512\n",
            "29/29 - 0s - loss: 0.1177 - val_loss: 0.1124 - 145ms/epoch - 5ms/step\n",
            "Epoch 192/512\n",
            "29/29 - 0s - loss: 0.1174 - val_loss: 0.1121 - 161ms/epoch - 6ms/step\n",
            "Epoch 193/512\n",
            "29/29 - 0s - loss: 0.1172 - val_loss: 0.1118 - 169ms/epoch - 6ms/step\n",
            "Epoch 194/512\n",
            "29/29 - 0s - loss: 0.1169 - val_loss: 0.1115 - 152ms/epoch - 5ms/step\n",
            "Epoch 195/512\n",
            "29/29 - 0s - loss: 0.1166 - val_loss: 0.1112 - 136ms/epoch - 5ms/step\n",
            "Epoch 196/512\n",
            "29/29 - 0s - loss: 0.1163 - val_loss: 0.1110 - 210ms/epoch - 7ms/step\n",
            "Epoch 197/512\n",
            "29/29 - 0s - loss: 0.1160 - val_loss: 0.1107 - 156ms/epoch - 5ms/step\n",
            "Epoch 198/512\n",
            "29/29 - 0s - loss: 0.1157 - val_loss: 0.1104 - 155ms/epoch - 5ms/step\n",
            "Epoch 199/512\n",
            "29/29 - 0s - loss: 0.1154 - val_loss: 0.1101 - 170ms/epoch - 6ms/step\n",
            "Epoch 200/512\n",
            "29/29 - 0s - loss: 0.1151 - val_loss: 0.1098 - 179ms/epoch - 6ms/step\n",
            "Epoch 201/512\n",
            "29/29 - 0s - loss: 0.1148 - val_loss: 0.1095 - 143ms/epoch - 5ms/step\n",
            "Epoch 202/512\n",
            "29/29 - 0s - loss: 0.1145 - val_loss: 0.1092 - 187ms/epoch - 6ms/step\n",
            "Epoch 203/512\n",
            "29/29 - 0s - loss: 0.1142 - val_loss: 0.1089 - 146ms/epoch - 5ms/step\n",
            "Epoch 204/512\n",
            "29/29 - 0s - loss: 0.1139 - val_loss: 0.1086 - 107ms/epoch - 4ms/step\n",
            "Epoch 205/512\n",
            "29/29 - 0s - loss: 0.1136 - val_loss: 0.1083 - 97ms/epoch - 3ms/step\n",
            "Epoch 206/512\n",
            "29/29 - 0s - loss: 0.1132 - val_loss: 0.1079 - 119ms/epoch - 4ms/step\n",
            "Epoch 207/512\n",
            "29/29 - 0s - loss: 0.1129 - val_loss: 0.1077 - 83ms/epoch - 3ms/step\n",
            "Epoch 208/512\n",
            "29/29 - 0s - loss: 0.1126 - val_loss: 0.1073 - 99ms/epoch - 3ms/step\n",
            "Epoch 209/512\n",
            "29/29 - 0s - loss: 0.1123 - val_loss: 0.1070 - 101ms/epoch - 3ms/step\n",
            "Epoch 210/512\n",
            "29/29 - 0s - loss: 0.1119 - val_loss: 0.1067 - 85ms/epoch - 3ms/step\n",
            "Epoch 211/512\n",
            "29/29 - 0s - loss: 0.1116 - val_loss: 0.1064 - 100ms/epoch - 3ms/step\n",
            "Epoch 212/512\n",
            "29/29 - 0s - loss: 0.1112 - val_loss: 0.1061 - 131ms/epoch - 5ms/step\n",
            "Epoch 213/512\n",
            "29/29 - 0s - loss: 0.1109 - val_loss: 0.1057 - 99ms/epoch - 3ms/step\n",
            "Epoch 214/512\n",
            "29/29 - 0s - loss: 0.1106 - val_loss: 0.1054 - 169ms/epoch - 6ms/step\n",
            "Epoch 215/512\n",
            "29/29 - 0s - loss: 0.1102 - val_loss: 0.1051 - 158ms/epoch - 5ms/step\n",
            "Epoch 216/512\n",
            "29/29 - 0s - loss: 0.1099 - val_loss: 0.1047 - 138ms/epoch - 5ms/step\n",
            "Epoch 217/512\n",
            "29/29 - 0s - loss: 0.1095 - val_loss: 0.1044 - 152ms/epoch - 5ms/step\n",
            "Epoch 218/512\n",
            "29/29 - 0s - loss: 0.1092 - val_loss: 0.1040 - 137ms/epoch - 5ms/step\n",
            "Epoch 219/512\n",
            "29/29 - 0s - loss: 0.1088 - val_loss: 0.1036 - 146ms/epoch - 5ms/step\n",
            "Epoch 220/512\n",
            "29/29 - 0s - loss: 0.1084 - val_loss: 0.1033 - 78ms/epoch - 3ms/step\n",
            "Epoch 221/512\n",
            "29/29 - 0s - loss: 0.1081 - val_loss: 0.1029 - 108ms/epoch - 4ms/step\n",
            "Epoch 222/512\n",
            "29/29 - 0s - loss: 0.1077 - val_loss: 0.1026 - 139ms/epoch - 5ms/step\n",
            "Epoch 223/512\n",
            "29/29 - 0s - loss: 0.1073 - val_loss: 0.1022 - 146ms/epoch - 5ms/step\n",
            "Epoch 224/512\n",
            "29/29 - 0s - loss: 0.1069 - val_loss: 0.1019 - 132ms/epoch - 5ms/step\n",
            "Epoch 225/512\n",
            "29/29 - 0s - loss: 0.1066 - val_loss: 0.1015 - 156ms/epoch - 5ms/step\n",
            "Epoch 226/512\n",
            "29/29 - 0s - loss: 0.1062 - val_loss: 0.1011 - 155ms/epoch - 5ms/step\n",
            "Epoch 227/512\n",
            "29/29 - 0s - loss: 0.1058 - val_loss: 0.1008 - 152ms/epoch - 5ms/step\n",
            "Epoch 228/512\n",
            "29/29 - 0s - loss: 0.1053 - val_loss: 0.1003 - 97ms/epoch - 3ms/step\n",
            "Epoch 229/512\n",
            "29/29 - 0s - loss: 0.1049 - val_loss: 0.0998 - 97ms/epoch - 3ms/step\n",
            "Epoch 230/512\n",
            "29/29 - 0s - loss: 0.1045 - val_loss: 0.0995 - 157ms/epoch - 5ms/step\n",
            "Epoch 231/512\n",
            "29/29 - 0s - loss: 0.1041 - val_loss: 0.0991 - 149ms/epoch - 5ms/step\n",
            "Epoch 232/512\n",
            "29/29 - 0s - loss: 0.1037 - val_loss: 0.0987 - 146ms/epoch - 5ms/step\n",
            "Epoch 233/512\n",
            "29/29 - 0s - loss: 0.1033 - val_loss: 0.0984 - 156ms/epoch - 5ms/step\n",
            "Epoch 234/512\n",
            "29/29 - 0s - loss: 0.1028 - val_loss: 0.0980 - 166ms/epoch - 6ms/step\n",
            "Epoch 235/512\n",
            "29/29 - 0s - loss: 0.1024 - val_loss: 0.0976 - 99ms/epoch - 3ms/step\n",
            "Epoch 236/512\n",
            "29/29 - 0s - loss: 0.1020 - val_loss: 0.0971 - 77ms/epoch - 3ms/step\n",
            "Epoch 237/512\n",
            "29/29 - 0s - loss: 0.1015 - val_loss: 0.0967 - 149ms/epoch - 5ms/step\n",
            "Epoch 238/512\n",
            "29/29 - 0s - loss: 0.1011 - val_loss: 0.0964 - 96ms/epoch - 3ms/step\n",
            "Epoch 239/512\n",
            "29/29 - 0s - loss: 0.1006 - val_loss: 0.0958 - 89ms/epoch - 3ms/step\n",
            "Epoch 240/512\n",
            "29/29 - 0s - loss: 0.1002 - val_loss: 0.0954 - 127ms/epoch - 4ms/step\n",
            "Epoch 241/512\n",
            "29/29 - 0s - loss: 0.0997 - val_loss: 0.0950 - 193ms/epoch - 7ms/step\n",
            "Epoch 242/512\n",
            "29/29 - 0s - loss: 0.0992 - val_loss: 0.0945 - 130ms/epoch - 4ms/step\n",
            "Epoch 243/512\n",
            "29/29 - 0s - loss: 0.0988 - val_loss: 0.0940 - 182ms/epoch - 6ms/step\n",
            "Epoch 244/512\n",
            "29/29 - 0s - loss: 0.0983 - val_loss: 0.0936 - 168ms/epoch - 6ms/step\n",
            "Epoch 245/512\n",
            "29/29 - 0s - loss: 0.0978 - val_loss: 0.0931 - 146ms/epoch - 5ms/step\n",
            "Epoch 246/512\n",
            "29/29 - 0s - loss: 0.0974 - val_loss: 0.0927 - 157ms/epoch - 5ms/step\n",
            "Epoch 247/512\n",
            "29/29 - 0s - loss: 0.0969 - val_loss: 0.0922 - 233ms/epoch - 8ms/step\n",
            "Epoch 248/512\n",
            "29/29 - 0s - loss: 0.0964 - val_loss: 0.0917 - 204ms/epoch - 7ms/step\n",
            "Epoch 249/512\n",
            "29/29 - 0s - loss: 0.0959 - val_loss: 0.0911 - 161ms/epoch - 6ms/step\n",
            "Epoch 250/512\n",
            "29/29 - 0s - loss: 0.0954 - val_loss: 0.0908 - 160ms/epoch - 6ms/step\n",
            "Epoch 251/512\n",
            "29/29 - 0s - loss: 0.0948 - val_loss: 0.0902 - 175ms/epoch - 6ms/step\n",
            "Epoch 252/512\n",
            "29/29 - 0s - loss: 0.0943 - val_loss: 0.0897 - 123ms/epoch - 4ms/step\n",
            "Epoch 253/512\n",
            "29/29 - 0s - loss: 0.0938 - val_loss: 0.0892 - 147ms/epoch - 5ms/step\n",
            "Epoch 254/512\n",
            "29/29 - 0s - loss: 0.0933 - val_loss: 0.0888 - 141ms/epoch - 5ms/step\n",
            "Epoch 255/512\n",
            "29/29 - 0s - loss: 0.0928 - val_loss: 0.0883 - 190ms/epoch - 7ms/step\n",
            "Epoch 256/512\n",
            "29/29 - 0s - loss: 0.0923 - val_loss: 0.0878 - 414ms/epoch - 14ms/step\n",
            "Epoch 257/512\n",
            "29/29 - 0s - loss: 0.0917 - val_loss: 0.0872 - 271ms/epoch - 9ms/step\n",
            "Epoch 258/512\n",
            "29/29 - 0s - loss: 0.0912 - val_loss: 0.0867 - 118ms/epoch - 4ms/step\n",
            "Epoch 259/512\n",
            "29/29 - 0s - loss: 0.0906 - val_loss: 0.0862 - 156ms/epoch - 5ms/step\n",
            "Epoch 260/512\n",
            "29/29 - 0s - loss: 0.0901 - val_loss: 0.0857 - 144ms/epoch - 5ms/step\n",
            "Epoch 261/512\n",
            "29/29 - 0s - loss: 0.0895 - val_loss: 0.0852 - 145ms/epoch - 5ms/step\n",
            "Epoch 262/512\n",
            "29/29 - 0s - loss: 0.0889 - val_loss: 0.0846 - 129ms/epoch - 4ms/step\n",
            "Epoch 263/512\n",
            "29/29 - 0s - loss: 0.0884 - val_loss: 0.0840 - 132ms/epoch - 5ms/step\n",
            "Epoch 264/512\n",
            "29/29 - 0s - loss: 0.0878 - val_loss: 0.0835 - 154ms/epoch - 5ms/step\n",
            "Epoch 265/512\n",
            "29/29 - 0s - loss: 0.0872 - val_loss: 0.0829 - 163ms/epoch - 6ms/step\n",
            "Epoch 266/512\n",
            "29/29 - 0s - loss: 0.0866 - val_loss: 0.0824 - 146ms/epoch - 5ms/step\n",
            "Epoch 267/512\n",
            "29/29 - 0s - loss: 0.0860 - val_loss: 0.0818 - 150ms/epoch - 5ms/step\n",
            "Epoch 268/512\n",
            "29/29 - 0s - loss: 0.0854 - val_loss: 0.0812 - 132ms/epoch - 5ms/step\n",
            "Epoch 269/512\n",
            "29/29 - 0s - loss: 0.0849 - val_loss: 0.0807 - 123ms/epoch - 4ms/step\n",
            "Epoch 270/512\n",
            "29/29 - 0s - loss: 0.0843 - val_loss: 0.0802 - 112ms/epoch - 4ms/step\n",
            "Epoch 271/512\n",
            "29/29 - 0s - loss: 0.0837 - val_loss: 0.0796 - 121ms/epoch - 4ms/step\n",
            "Epoch 272/512\n",
            "29/29 - 0s - loss: 0.0831 - val_loss: 0.0790 - 145ms/epoch - 5ms/step\n",
            "Epoch 273/512\n",
            "29/29 - 0s - loss: 0.0825 - val_loss: 0.0784 - 159ms/epoch - 5ms/step\n",
            "Epoch 274/512\n",
            "29/29 - 0s - loss: 0.0819 - val_loss: 0.0777 - 132ms/epoch - 5ms/step\n",
            "Epoch 275/512\n",
            "29/29 - 0s - loss: 0.0812 - val_loss: 0.0771 - 144ms/epoch - 5ms/step\n",
            "Epoch 276/512\n",
            "29/29 - 0s - loss: 0.0806 - val_loss: 0.0765 - 138ms/epoch - 5ms/step\n",
            "Epoch 277/512\n",
            "29/29 - 0s - loss: 0.0799 - val_loss: 0.0759 - 148ms/epoch - 5ms/step\n",
            "Epoch 278/512\n",
            "29/29 - 0s - loss: 0.0793 - val_loss: 0.0753 - 115ms/epoch - 4ms/step\n",
            "Epoch 279/512\n",
            "29/29 - 0s - loss: 0.0787 - val_loss: 0.0746 - 129ms/epoch - 4ms/step\n",
            "Epoch 280/512\n",
            "29/29 - 0s - loss: 0.0780 - val_loss: 0.0740 - 136ms/epoch - 5ms/step\n",
            "Epoch 281/512\n",
            "29/29 - 0s - loss: 0.0773 - val_loss: 0.0733 - 149ms/epoch - 5ms/step\n",
            "Epoch 282/512\n",
            "29/29 - 0s - loss: 0.0767 - val_loss: 0.0728 - 152ms/epoch - 5ms/step\n",
            "Epoch 283/512\n",
            "29/29 - 0s - loss: 0.0760 - val_loss: 0.0721 - 143ms/epoch - 5ms/step\n",
            "Epoch 284/512\n",
            "29/29 - 0s - loss: 0.0753 - val_loss: 0.0714 - 157ms/epoch - 5ms/step\n",
            "Epoch 285/512\n",
            "29/29 - 0s - loss: 0.0746 - val_loss: 0.0708 - 140ms/epoch - 5ms/step\n",
            "Epoch 286/512\n",
            "29/29 - 0s - loss: 0.0739 - val_loss: 0.0702 - 146ms/epoch - 5ms/step\n",
            "Epoch 287/512\n",
            "29/29 - 0s - loss: 0.0732 - val_loss: 0.0695 - 98ms/epoch - 3ms/step\n",
            "Epoch 288/512\n",
            "29/29 - 0s - loss: 0.0726 - val_loss: 0.0688 - 99ms/epoch - 3ms/step\n",
            "Epoch 289/512\n",
            "29/29 - 0s - loss: 0.0719 - val_loss: 0.0681 - 90ms/epoch - 3ms/step\n",
            "Epoch 290/512\n",
            "29/29 - 0s - loss: 0.0712 - val_loss: 0.0674 - 113ms/epoch - 4ms/step\n",
            "Epoch 291/512\n",
            "29/29 - 0s - loss: 0.0705 - val_loss: 0.0669 - 91ms/epoch - 3ms/step\n",
            "Epoch 292/512\n",
            "29/29 - 0s - loss: 0.0698 - val_loss: 0.0662 - 89ms/epoch - 3ms/step\n",
            "Epoch 293/512\n",
            "29/29 - 0s - loss: 0.0691 - val_loss: 0.0655 - 104ms/epoch - 4ms/step\n",
            "Epoch 294/512\n",
            "29/29 - 0s - loss: 0.0684 - val_loss: 0.0648 - 89ms/epoch - 3ms/step\n",
            "Epoch 295/512\n",
            "29/29 - 0s - loss: 0.0677 - val_loss: 0.0641 - 93ms/epoch - 3ms/step\n",
            "Epoch 296/512\n",
            "29/29 - 0s - loss: 0.0670 - val_loss: 0.0634 - 88ms/epoch - 3ms/step\n",
            "Epoch 297/512\n",
            "29/29 - 0s - loss: 0.0663 - val_loss: 0.0627 - 88ms/epoch - 3ms/step\n",
            "Epoch 298/512\n",
            "29/29 - 0s - loss: 0.0656 - val_loss: 0.0621 - 83ms/epoch - 3ms/step\n",
            "Epoch 299/512\n",
            "29/29 - 0s - loss: 0.0648 - val_loss: 0.0614 - 100ms/epoch - 3ms/step\n",
            "Epoch 300/512\n",
            "29/29 - 0s - loss: 0.0641 - val_loss: 0.0607 - 93ms/epoch - 3ms/step\n",
            "Epoch 301/512\n",
            "29/29 - 0s - loss: 0.0634 - val_loss: 0.0600 - 101ms/epoch - 3ms/step\n",
            "Epoch 302/512\n",
            "29/29 - 0s - loss: 0.0627 - val_loss: 0.0593 - 95ms/epoch - 3ms/step\n",
            "Epoch 303/512\n",
            "29/29 - 0s - loss: 0.0619 - val_loss: 0.0586 - 84ms/epoch - 3ms/step\n",
            "Epoch 304/512\n",
            "29/29 - 0s - loss: 0.0612 - val_loss: 0.0579 - 93ms/epoch - 3ms/step\n",
            "Epoch 305/512\n",
            "29/29 - 0s - loss: 0.0605 - val_loss: 0.0573 - 85ms/epoch - 3ms/step\n",
            "Epoch 306/512\n",
            "29/29 - 0s - loss: 0.0598 - val_loss: 0.0566 - 99ms/epoch - 3ms/step\n",
            "Epoch 307/512\n",
            "29/29 - 0s - loss: 0.0592 - val_loss: 0.0559 - 113ms/epoch - 4ms/step\n",
            "Epoch 308/512\n",
            "29/29 - 0s - loss: 0.0585 - val_loss: 0.0552 - 93ms/epoch - 3ms/step\n",
            "Epoch 309/512\n",
            "29/29 - 0s - loss: 0.0579 - val_loss: 0.0547 - 96ms/epoch - 3ms/step\n",
            "Epoch 310/512\n",
            "29/29 - 0s - loss: 0.0572 - val_loss: 0.0539 - 99ms/epoch - 3ms/step\n",
            "Epoch 311/512\n",
            "29/29 - 0s - loss: 0.0565 - val_loss: 0.0532 - 101ms/epoch - 3ms/step\n",
            "Epoch 312/512\n",
            "29/29 - 0s - loss: 0.0559 - val_loss: 0.0526 - 85ms/epoch - 3ms/step\n",
            "Epoch 313/512\n",
            "29/29 - 0s - loss: 0.0552 - val_loss: 0.0520 - 88ms/epoch - 3ms/step\n",
            "Epoch 314/512\n",
            "29/29 - 0s - loss: 0.0546 - val_loss: 0.0513 - 98ms/epoch - 3ms/step\n",
            "Epoch 315/512\n",
            "29/29 - 0s - loss: 0.0540 - val_loss: 0.0507 - 85ms/epoch - 3ms/step\n",
            "Epoch 316/512\n",
            "29/29 - 0s - loss: 0.0534 - val_loss: 0.0501 - 101ms/epoch - 3ms/step\n",
            "Epoch 317/512\n",
            "29/29 - 0s - loss: 0.0528 - val_loss: 0.0495 - 96ms/epoch - 3ms/step\n",
            "Epoch 318/512\n",
            "29/29 - 0s - loss: 0.0522 - val_loss: 0.0488 - 90ms/epoch - 3ms/step\n",
            "Epoch 319/512\n",
            "29/29 - 0s - loss: 0.0515 - val_loss: 0.0482 - 99ms/epoch - 3ms/step\n",
            "Epoch 320/512\n",
            "29/29 - 0s - loss: 0.0510 - val_loss: 0.0476 - 109ms/epoch - 4ms/step\n",
            "Epoch 321/512\n",
            "29/29 - 0s - loss: 0.0504 - val_loss: 0.0471 - 105ms/epoch - 4ms/step\n",
            "Epoch 322/512\n",
            "29/29 - 0s - loss: 0.0498 - val_loss: 0.0465 - 99ms/epoch - 3ms/step\n",
            "Epoch 323/512\n",
            "29/29 - 0s - loss: 0.0493 - val_loss: 0.0459 - 89ms/epoch - 3ms/step\n",
            "Epoch 324/512\n",
            "29/29 - 0s - loss: 0.0487 - val_loss: 0.0454 - 77ms/epoch - 3ms/step\n",
            "Epoch 325/512\n",
            "29/29 - 0s - loss: 0.0481 - val_loss: 0.0447 - 84ms/epoch - 3ms/step\n",
            "Epoch 326/512\n",
            "29/29 - 0s - loss: 0.0476 - val_loss: 0.0443 - 104ms/epoch - 4ms/step\n",
            "Epoch 327/512\n",
            "29/29 - 0s - loss: 0.0470 - val_loss: 0.0437 - 96ms/epoch - 3ms/step\n",
            "Epoch 328/512\n",
            "29/29 - 0s - loss: 0.0465 - val_loss: 0.0432 - 90ms/epoch - 3ms/step\n",
            "Epoch 329/512\n",
            "29/29 - 0s - loss: 0.0460 - val_loss: 0.0427 - 100ms/epoch - 3ms/step\n",
            "Epoch 330/512\n",
            "29/29 - 0s - loss: 0.0455 - val_loss: 0.0420 - 104ms/epoch - 4ms/step\n",
            "Epoch 331/512\n",
            "29/29 - 0s - loss: 0.0450 - val_loss: 0.0416 - 83ms/epoch - 3ms/step\n",
            "Epoch 332/512\n",
            "29/29 - 0s - loss: 0.0446 - val_loss: 0.0413 - 93ms/epoch - 3ms/step\n",
            "Epoch 333/512\n",
            "29/29 - 0s - loss: 0.0441 - val_loss: 0.0408 - 82ms/epoch - 3ms/step\n",
            "Epoch 334/512\n",
            "29/29 - 0s - loss: 0.0437 - val_loss: 0.0404 - 79ms/epoch - 3ms/step\n",
            "Epoch 335/512\n",
            "29/29 - 0s - loss: 0.0432 - val_loss: 0.0398 - 83ms/epoch - 3ms/step\n",
            "Epoch 336/512\n",
            "29/29 - 0s - loss: 0.0427 - val_loss: 0.0395 - 88ms/epoch - 3ms/step\n",
            "Epoch 337/512\n",
            "29/29 - 0s - loss: 0.0423 - val_loss: 0.0392 - 83ms/epoch - 3ms/step\n",
            "Epoch 338/512\n",
            "29/29 - 0s - loss: 0.0419 - val_loss: 0.0388 - 87ms/epoch - 3ms/step\n",
            "Epoch 339/512\n",
            "29/29 - 0s - loss: 0.0415 - val_loss: 0.0384 - 194ms/epoch - 7ms/step\n",
            "Epoch 340/512\n",
            "29/29 - 0s - loss: 0.0412 - val_loss: 0.0380 - 446ms/epoch - 15ms/step\n",
            "Epoch 341/512\n",
            "29/29 - 0s - loss: 0.0407 - val_loss: 0.0375 - 325ms/epoch - 11ms/step\n",
            "Epoch 342/512\n",
            "29/29 - 0s - loss: 0.0404 - val_loss: 0.0372 - 380ms/epoch - 13ms/step\n",
            "Epoch 343/512\n",
            "29/29 - 0s - loss: 0.0400 - val_loss: 0.0368 - 163ms/epoch - 6ms/step\n",
            "Epoch 344/512\n",
            "29/29 - 0s - loss: 0.0397 - val_loss: 0.0364 - 280ms/epoch - 10ms/step\n",
            "Epoch 345/512\n",
            "29/29 - 0s - loss: 0.0393 - val_loss: 0.0361 - 98ms/epoch - 3ms/step\n",
            "Epoch 346/512\n",
            "29/29 - 0s - loss: 0.0390 - val_loss: 0.0359 - 100ms/epoch - 3ms/step\n",
            "Epoch 347/512\n",
            "29/29 - 0s - loss: 0.0387 - val_loss: 0.0356 - 101ms/epoch - 3ms/step\n",
            "Epoch 348/512\n",
            "29/29 - 0s - loss: 0.0384 - val_loss: 0.0353 - 99ms/epoch - 3ms/step\n",
            "Epoch 349/512\n",
            "29/29 - 0s - loss: 0.0381 - val_loss: 0.0350 - 99ms/epoch - 3ms/step\n",
            "Epoch 350/512\n",
            "29/29 - 0s - loss: 0.0378 - val_loss: 0.0347 - 87ms/epoch - 3ms/step\n",
            "Epoch 351/512\n",
            "29/29 - 0s - loss: 0.0375 - val_loss: 0.0344 - 94ms/epoch - 3ms/step\n",
            "Epoch 352/512\n",
            "29/29 - 0s - loss: 0.0372 - val_loss: 0.0342 - 79ms/epoch - 3ms/step\n",
            "Epoch 353/512\n",
            "29/29 - 0s - loss: 0.0369 - val_loss: 0.0338 - 83ms/epoch - 3ms/step\n",
            "Epoch 354/512\n",
            "29/29 - 0s - loss: 0.0366 - val_loss: 0.0335 - 94ms/epoch - 3ms/step\n",
            "Epoch 355/512\n",
            "29/29 - 0s - loss: 0.0364 - val_loss: 0.0333 - 78ms/epoch - 3ms/step\n",
            "Epoch 356/512\n",
            "29/29 - 0s - loss: 0.0361 - val_loss: 0.0332 - 90ms/epoch - 3ms/step\n",
            "Epoch 357/512\n",
            "29/29 - 0s - loss: 0.0359 - val_loss: 0.0329 - 88ms/epoch - 3ms/step\n",
            "Epoch 358/512\n",
            "29/29 - 0s - loss: 0.0356 - val_loss: 0.0326 - 84ms/epoch - 3ms/step\n",
            "Epoch 359/512\n",
            "29/29 - 0s - loss: 0.0354 - val_loss: 0.0323 - 100ms/epoch - 3ms/step\n",
            "Epoch 360/512\n",
            "29/29 - 0s - loss: 0.0351 - val_loss: 0.0322 - 107ms/epoch - 4ms/step\n",
            "Epoch 361/512\n",
            "29/29 - 0s - loss: 0.0349 - val_loss: 0.0319 - 91ms/epoch - 3ms/step\n",
            "Epoch 362/512\n",
            "29/29 - 0s - loss: 0.0347 - val_loss: 0.0318 - 81ms/epoch - 3ms/step\n",
            "Epoch 363/512\n",
            "29/29 - 0s - loss: 0.0345 - val_loss: 0.0316 - 87ms/epoch - 3ms/step\n",
            "Epoch 364/512\n",
            "29/29 - 0s - loss: 0.0342 - val_loss: 0.0315 - 89ms/epoch - 3ms/step\n",
            "Epoch 365/512\n",
            "29/29 - 0s - loss: 0.0341 - val_loss: 0.0314 - 96ms/epoch - 3ms/step\n",
            "Epoch 366/512\n",
            "29/29 - 0s - loss: 0.0339 - val_loss: 0.0311 - 84ms/epoch - 3ms/step\n",
            "Epoch 367/512\n",
            "29/29 - 0s - loss: 0.0337 - val_loss: 0.0309 - 92ms/epoch - 3ms/step\n",
            "Epoch 368/512\n",
            "29/29 - 0s - loss: 0.0335 - val_loss: 0.0308 - 85ms/epoch - 3ms/step\n",
            "Epoch 369/512\n",
            "29/29 - 0s - loss: 0.0333 - val_loss: 0.0306 - 87ms/epoch - 3ms/step\n",
            "Epoch 370/512\n",
            "29/29 - 0s - loss: 0.0331 - val_loss: 0.0305 - 86ms/epoch - 3ms/step\n",
            "Epoch 371/512\n",
            "29/29 - 0s - loss: 0.0330 - val_loss: 0.0303 - 96ms/epoch - 3ms/step\n",
            "Epoch 372/512\n",
            "29/29 - 0s - loss: 0.0328 - val_loss: 0.0302 - 109ms/epoch - 4ms/step\n",
            "Epoch 373/512\n",
            "29/29 - 0s - loss: 0.0327 - val_loss: 0.0300 - 83ms/epoch - 3ms/step\n",
            "Epoch 374/512\n",
            "29/29 - 0s - loss: 0.0325 - val_loss: 0.0299 - 94ms/epoch - 3ms/step\n",
            "Epoch 375/512\n",
            "29/29 - 0s - loss: 0.0324 - val_loss: 0.0297 - 82ms/epoch - 3ms/step\n",
            "Epoch 376/512\n",
            "29/29 - 0s - loss: 0.0322 - val_loss: 0.0296 - 91ms/epoch - 3ms/step\n",
            "Epoch 377/512\n",
            "29/29 - 0s - loss: 0.0321 - val_loss: 0.0294 - 107ms/epoch - 4ms/step\n",
            "Epoch 378/512\n",
            "29/29 - 0s - loss: 0.0320 - val_loss: 0.0295 - 150ms/epoch - 5ms/step\n",
            "Epoch 379/512\n",
            "29/29 - 0s - loss: 0.0318 - val_loss: 0.0292 - 137ms/epoch - 5ms/step\n",
            "Epoch 380/512\n",
            "29/29 - 0s - loss: 0.0317 - val_loss: 0.0291 - 145ms/epoch - 5ms/step\n",
            "Epoch 381/512\n",
            "29/29 - 0s - loss: 0.0315 - val_loss: 0.0290 - 129ms/epoch - 4ms/step\n",
            "Epoch 382/512\n",
            "29/29 - 0s - loss: 0.0314 - val_loss: 0.0289 - 118ms/epoch - 4ms/step\n",
            "Epoch 383/512\n",
            "29/29 - 0s - loss: 0.0313 - val_loss: 0.0288 - 115ms/epoch - 4ms/step\n",
            "Epoch 384/512\n",
            "29/29 - 0s - loss: 0.0312 - val_loss: 0.0287 - 153ms/epoch - 5ms/step\n",
            "Epoch 385/512\n",
            "29/29 - 0s - loss: 0.0310 - val_loss: 0.0285 - 166ms/epoch - 6ms/step\n",
            "Epoch 386/512\n",
            "29/29 - 0s - loss: 0.0309 - val_loss: 0.0284 - 130ms/epoch - 4ms/step\n",
            "Epoch 387/512\n",
            "29/29 - 0s - loss: 0.0308 - val_loss: 0.0284 - 130ms/epoch - 4ms/step\n",
            "Epoch 388/512\n",
            "29/29 - 0s - loss: 0.0307 - val_loss: 0.0283 - 136ms/epoch - 5ms/step\n",
            "Epoch 389/512\n",
            "29/29 - 0s - loss: 0.0306 - val_loss: 0.0282 - 123ms/epoch - 4ms/step\n",
            "Epoch 390/512\n",
            "29/29 - 0s - loss: 0.0305 - val_loss: 0.0282 - 135ms/epoch - 5ms/step\n",
            "Epoch 391/512\n",
            "29/29 - 0s - loss: 0.0304 - val_loss: 0.0281 - 143ms/epoch - 5ms/step\n",
            "Epoch 392/512\n",
            "29/29 - 0s - loss: 0.0303 - val_loss: 0.0279 - 141ms/epoch - 5ms/step\n",
            "Epoch 393/512\n",
            "29/29 - 0s - loss: 0.0302 - val_loss: 0.0279 - 153ms/epoch - 5ms/step\n",
            "Epoch 394/512\n",
            "29/29 - 0s - loss: 0.0301 - val_loss: 0.0279 - 136ms/epoch - 5ms/step\n",
            "Epoch 395/512\n",
            "29/29 - 0s - loss: 0.0300 - val_loss: 0.0277 - 145ms/epoch - 5ms/step\n",
            "Epoch 396/512\n",
            "29/29 - 0s - loss: 0.0299 - val_loss: 0.0276 - 138ms/epoch - 5ms/step\n",
            "Epoch 397/512\n",
            "29/29 - 0s - loss: 0.0298 - val_loss: 0.0275 - 154ms/epoch - 5ms/step\n",
            "Epoch 398/512\n",
            "29/29 - 0s - loss: 0.0297 - val_loss: 0.0276 - 148ms/epoch - 5ms/step\n",
            "Epoch 399/512\n",
            "29/29 - 0s - loss: 0.0296 - val_loss: 0.0274 - 143ms/epoch - 5ms/step\n",
            "Epoch 400/512\n",
            "29/29 - 0s - loss: 0.0295 - val_loss: 0.0273 - 136ms/epoch - 5ms/step\n",
            "Epoch 401/512\n",
            "29/29 - 0s - loss: 0.0294 - val_loss: 0.0272 - 141ms/epoch - 5ms/step\n",
            "Epoch 402/512\n",
            "29/29 - 0s - loss: 0.0293 - val_loss: 0.0272 - 133ms/epoch - 5ms/step\n",
            "Epoch 403/512\n",
            "29/29 - 0s - loss: 0.0292 - val_loss: 0.0271 - 122ms/epoch - 4ms/step\n",
            "Epoch 404/512\n",
            "29/29 - 0s - loss: 0.0292 - val_loss: 0.0272 - 141ms/epoch - 5ms/step\n",
            "Epoch 405/512\n",
            "29/29 - 0s - loss: 0.0292 - val_loss: 0.0269 - 128ms/epoch - 4ms/step\n",
            "Epoch 406/512\n",
            "29/29 - 0s - loss: 0.0290 - val_loss: 0.0269 - 105ms/epoch - 4ms/step\n",
            "Epoch 407/512\n",
            "29/29 - 0s - loss: 0.0289 - val_loss: 0.0268 - 94ms/epoch - 3ms/step\n",
            "Epoch 408/512\n",
            "29/29 - 0s - loss: 0.0288 - val_loss: 0.0267 - 115ms/epoch - 4ms/step\n",
            "Epoch 409/512\n",
            "29/29 - 0s - loss: 0.0288 - val_loss: 0.0267 - 79ms/epoch - 3ms/step\n",
            "Epoch 410/512\n",
            "29/29 - 0s - loss: 0.0287 - val_loss: 0.0265 - 96ms/epoch - 3ms/step\n",
            "Epoch 411/512\n",
            "29/29 - 0s - loss: 0.0286 - val_loss: 0.0266 - 113ms/epoch - 4ms/step\n",
            "Epoch 412/512\n",
            "29/29 - 0s - loss: 0.0285 - val_loss: 0.0265 - 84ms/epoch - 3ms/step\n",
            "Epoch 413/512\n",
            "29/29 - 0s - loss: 0.0285 - val_loss: 0.0263 - 96ms/epoch - 3ms/step\n",
            "Epoch 414/512\n",
            "29/29 - 0s - loss: 0.0284 - val_loss: 0.0263 - 99ms/epoch - 3ms/step\n",
            "Epoch 415/512\n",
            "29/29 - 0s - loss: 0.0283 - val_loss: 0.0263 - 102ms/epoch - 4ms/step\n",
            "Epoch 416/512\n",
            "29/29 - 0s - loss: 0.0282 - val_loss: 0.0262 - 100ms/epoch - 3ms/step\n",
            "Epoch 417/512\n",
            "29/29 - 0s - loss: 0.0282 - val_loss: 0.0261 - 81ms/epoch - 3ms/step\n",
            "Epoch 418/512\n",
            "29/29 - 0s - loss: 0.0281 - val_loss: 0.0262 - 88ms/epoch - 3ms/step\n",
            "Epoch 419/512\n",
            "29/29 - 0s - loss: 0.0280 - val_loss: 0.0259 - 81ms/epoch - 3ms/step\n",
            "Epoch 420/512\n",
            "29/29 - 0s - loss: 0.0280 - val_loss: 0.0260 - 103ms/epoch - 4ms/step\n",
            "Epoch 421/512\n",
            "29/29 - 0s - loss: 0.0279 - val_loss: 0.0260 - 105ms/epoch - 4ms/step\n",
            "Epoch 422/512\n",
            "29/29 - 0s - loss: 0.0278 - val_loss: 0.0259 - 95ms/epoch - 3ms/step\n",
            "Epoch 423/512\n",
            "29/29 - 0s - loss: 0.0277 - val_loss: 0.0257 - 82ms/epoch - 3ms/step\n",
            "Epoch 424/512\n",
            "29/29 - 0s - loss: 0.0276 - val_loss: 0.0256 - 78ms/epoch - 3ms/step\n",
            "Epoch 425/512\n",
            "29/29 - 0s - loss: 0.0276 - val_loss: 0.0256 - 80ms/epoch - 3ms/step\n",
            "Epoch 426/512\n",
            "29/29 - 0s - loss: 0.0275 - val_loss: 0.0255 - 97ms/epoch - 3ms/step\n",
            "Epoch 427/512\n",
            "29/29 - 0s - loss: 0.0274 - val_loss: 0.0256 - 103ms/epoch - 4ms/step\n",
            "Epoch 428/512\n",
            "29/29 - 0s - loss: 0.0274 - val_loss: 0.0254 - 98ms/epoch - 3ms/step\n",
            "Epoch 429/512\n",
            "29/29 - 0s - loss: 0.0273 - val_loss: 0.0253 - 86ms/epoch - 3ms/step\n",
            "Epoch 430/512\n",
            "29/29 - 0s - loss: 0.0272 - val_loss: 0.0253 - 96ms/epoch - 3ms/step\n",
            "Epoch 431/512\n",
            "29/29 - 0s - loss: 0.0272 - val_loss: 0.0253 - 79ms/epoch - 3ms/step\n",
            "Epoch 432/512\n",
            "29/29 - 0s - loss: 0.0271 - val_loss: 0.0251 - 109ms/epoch - 4ms/step\n",
            "Epoch 433/512\n",
            "29/29 - 0s - loss: 0.0270 - val_loss: 0.0251 - 104ms/epoch - 4ms/step\n",
            "Epoch 434/512\n",
            "29/29 - 0s - loss: 0.0270 - val_loss: 0.0252 - 115ms/epoch - 4ms/step\n",
            "Epoch 435/512\n",
            "29/29 - 0s - loss: 0.0270 - val_loss: 0.0251 - 94ms/epoch - 3ms/step\n",
            "Epoch 436/512\n",
            "29/29 - 0s - loss: 0.0269 - val_loss: 0.0249 - 96ms/epoch - 3ms/step\n",
            "Epoch 437/512\n",
            "29/29 - 0s - loss: 0.0268 - val_loss: 0.0249 - 106ms/epoch - 4ms/step\n",
            "Epoch 438/512\n",
            "29/29 - 0s - loss: 0.0267 - val_loss: 0.0249 - 96ms/epoch - 3ms/step\n",
            "Epoch 439/512\n",
            "29/29 - 0s - loss: 0.0267 - val_loss: 0.0248 - 99ms/epoch - 3ms/step\n",
            "Epoch 440/512\n",
            "29/29 - 0s - loss: 0.0266 - val_loss: 0.0248 - 91ms/epoch - 3ms/step\n",
            "Epoch 441/512\n",
            "29/29 - 0s - loss: 0.0265 - val_loss: 0.0246 - 84ms/epoch - 3ms/step\n",
            "Epoch 442/512\n",
            "29/29 - 0s - loss: 0.0265 - val_loss: 0.0246 - 105ms/epoch - 4ms/step\n",
            "Epoch 443/512\n",
            "29/29 - 0s - loss: 0.0264 - val_loss: 0.0246 - 95ms/epoch - 3ms/step\n",
            "Epoch 444/512\n",
            "29/29 - 0s - loss: 0.0264 - val_loss: 0.0245 - 81ms/epoch - 3ms/step\n",
            "Epoch 445/512\n",
            "29/29 - 0s - loss: 0.0263 - val_loss: 0.0247 - 88ms/epoch - 3ms/step\n",
            "Epoch 446/512\n",
            "29/29 - 0s - loss: 0.0262 - val_loss: 0.0243 - 84ms/epoch - 3ms/step\n",
            "Epoch 447/512\n",
            "29/29 - 0s - loss: 0.0261 - val_loss: 0.0244 - 99ms/epoch - 3ms/step\n",
            "Epoch 448/512\n",
            "29/29 - 0s - loss: 0.0261 - val_loss: 0.0244 - 99ms/epoch - 3ms/step\n",
            "Epoch 449/512\n",
            "29/29 - 0s - loss: 0.0260 - val_loss: 0.0244 - 96ms/epoch - 3ms/step\n",
            "Epoch 450/512\n",
            "29/29 - 0s - loss: 0.0260 - val_loss: 0.0242 - 88ms/epoch - 3ms/step\n",
            "Epoch 451/512\n",
            "29/29 - 0s - loss: 0.0259 - val_loss: 0.0243 - 84ms/epoch - 3ms/step\n",
            "Epoch 452/512\n",
            "29/29 - 0s - loss: 0.0259 - val_loss: 0.0242 - 97ms/epoch - 3ms/step\n",
            "Epoch 453/512\n",
            "29/29 - 0s - loss: 0.0258 - val_loss: 0.0240 - 87ms/epoch - 3ms/step\n",
            "Epoch 454/512\n",
            "29/29 - 0s - loss: 0.0257 - val_loss: 0.0241 - 87ms/epoch - 3ms/step\n",
            "Epoch 455/512\n",
            "29/29 - 0s - loss: 0.0257 - val_loss: 0.0242 - 89ms/epoch - 3ms/step\n",
            "Epoch 456/512\n",
            "29/29 - 0s - loss: 0.0256 - val_loss: 0.0239 - 89ms/epoch - 3ms/step\n",
            "Epoch 457/512\n",
            "29/29 - 0s - loss: 0.0256 - val_loss: 0.0239 - 96ms/epoch - 3ms/step\n",
            "Epoch 458/512\n",
            "29/29 - 0s - loss: 0.0255 - val_loss: 0.0239 - 95ms/epoch - 3ms/step\n",
            "Epoch 459/512\n",
            "29/29 - 0s - loss: 0.0254 - val_loss: 0.0238 - 88ms/epoch - 3ms/step\n",
            "Epoch 460/512\n",
            "29/29 - 0s - loss: 0.0254 - val_loss: 0.0239 - 87ms/epoch - 3ms/step\n",
            "Epoch 461/512\n",
            "29/29 - 0s - loss: 0.0254 - val_loss: 0.0238 - 95ms/epoch - 3ms/step\n",
            "Epoch 462/512\n",
            "29/29 - 0s - loss: 0.0253 - val_loss: 0.0237 - 111ms/epoch - 4ms/step\n",
            "Epoch 463/512\n",
            "29/29 - 0s - loss: 0.0252 - val_loss: 0.0236 - 112ms/epoch - 4ms/step\n",
            "Epoch 464/512\n",
            "29/29 - 0s - loss: 0.0252 - val_loss: 0.0235 - 98ms/epoch - 3ms/step\n",
            "Epoch 465/512\n",
            "29/29 - 0s - loss: 0.0251 - val_loss: 0.0235 - 99ms/epoch - 3ms/step\n",
            "Epoch 466/512\n",
            "29/29 - 0s - loss: 0.0251 - val_loss: 0.0237 - 98ms/epoch - 3ms/step\n",
            "Epoch 467/512\n",
            "29/29 - 0s - loss: 0.0251 - val_loss: 0.0234 - 90ms/epoch - 3ms/step\n",
            "Epoch 468/512\n",
            "29/29 - 0s - loss: 0.0249 - val_loss: 0.0236 - 85ms/epoch - 3ms/step\n",
            "Epoch 469/512\n",
            "29/29 - 0s - loss: 0.0249 - val_loss: 0.0234 - 98ms/epoch - 3ms/step\n",
            "Epoch 470/512\n",
            "29/29 - 0s - loss: 0.0249 - val_loss: 0.0233 - 82ms/epoch - 3ms/step\n",
            "Epoch 471/512\n",
            "29/29 - 0s - loss: 0.0248 - val_loss: 0.0233 - 85ms/epoch - 3ms/step\n",
            "Epoch 472/512\n",
            "29/29 - 0s - loss: 0.0248 - val_loss: 0.0231 - 83ms/epoch - 3ms/step\n",
            "Epoch 473/512\n",
            "29/29 - 0s - loss: 0.0247 - val_loss: 0.0231 - 82ms/epoch - 3ms/step\n",
            "Epoch 474/512\n",
            "29/29 - 0s - loss: 0.0247 - val_loss: 0.0233 - 88ms/epoch - 3ms/step\n",
            "Epoch 475/512\n",
            "29/29 - 0s - loss: 0.0246 - val_loss: 0.0231 - 83ms/epoch - 3ms/step\n",
            "Epoch 476/512\n",
            "29/29 - 0s - loss: 0.0246 - val_loss: 0.0231 - 81ms/epoch - 3ms/step\n",
            "Epoch 477/512\n",
            "29/29 - 0s - loss: 0.0245 - val_loss: 0.0230 - 101ms/epoch - 3ms/step\n",
            "Epoch 478/512\n",
            "29/29 - 0s - loss: 0.0244 - val_loss: 0.0230 - 87ms/epoch - 3ms/step\n",
            "Epoch 479/512\n",
            "29/29 - 0s - loss: 0.0244 - val_loss: 0.0230 - 79ms/epoch - 3ms/step\n",
            "Epoch 480/512\n",
            "29/29 - 0s - loss: 0.0243 - val_loss: 0.0229 - 102ms/epoch - 4ms/step\n",
            "Epoch 481/512\n",
            "29/29 - 0s - loss: 0.0243 - val_loss: 0.0228 - 85ms/epoch - 3ms/step\n",
            "Epoch 482/512\n",
            "29/29 - 0s - loss: 0.0243 - val_loss: 0.0230 - 105ms/epoch - 4ms/step\n",
            "Epoch 483/512\n",
            "29/29 - 0s - loss: 0.0242 - val_loss: 0.0228 - 83ms/epoch - 3ms/step\n",
            "Epoch 484/512\n",
            "29/29 - 0s - loss: 0.0242 - val_loss: 0.0229 - 97ms/epoch - 3ms/step\n",
            "Epoch 485/512\n",
            "29/29 - 0s - loss: 0.0241 - val_loss: 0.0229 - 85ms/epoch - 3ms/step\n",
            "Epoch 486/512\n",
            "29/29 - 0s - loss: 0.0241 - val_loss: 0.0227 - 83ms/epoch - 3ms/step\n",
            "Epoch 487/512\n",
            "29/29 - 0s - loss: 0.0240 - val_loss: 0.0227 - 81ms/epoch - 3ms/step\n",
            "Epoch 488/512\n",
            "29/29 - 0s - loss: 0.0240 - val_loss: 0.0226 - 81ms/epoch - 3ms/step\n",
            "Epoch 489/512\n",
            "29/29 - 0s - loss: 0.0239 - val_loss: 0.0225 - 99ms/epoch - 3ms/step\n",
            "Epoch 490/512\n",
            "29/29 - 0s - loss: 0.0239 - val_loss: 0.0226 - 95ms/epoch - 3ms/step\n",
            "Epoch 491/512\n",
            "29/29 - 0s - loss: 0.0239 - val_loss: 0.0225 - 107ms/epoch - 4ms/step\n",
            "Epoch 492/512\n",
            "29/29 - 0s - loss: 0.0238 - val_loss: 0.0225 - 92ms/epoch - 3ms/step\n",
            "Epoch 493/512\n",
            "29/29 - 0s - loss: 0.0237 - val_loss: 0.0225 - 79ms/epoch - 3ms/step\n",
            "Epoch 494/512\n",
            "29/29 - 0s - loss: 0.0237 - val_loss: 0.0224 - 79ms/epoch - 3ms/step\n",
            "Epoch 495/512\n",
            "29/29 - 0s - loss: 0.0237 - val_loss: 0.0223 - 101ms/epoch - 3ms/step\n",
            "Epoch 496/512\n",
            "29/29 - 0s - loss: 0.0236 - val_loss: 0.0223 - 106ms/epoch - 4ms/step\n",
            "Epoch 497/512\n",
            "29/29 - 0s - loss: 0.0236 - val_loss: 0.0223 - 94ms/epoch - 3ms/step\n",
            "Epoch 498/512\n",
            "29/29 - 0s - loss: 0.0235 - val_loss: 0.0222 - 82ms/epoch - 3ms/step\n",
            "Epoch 499/512\n",
            "29/29 - 0s - loss: 0.0234 - val_loss: 0.0222 - 100ms/epoch - 3ms/step\n",
            "Epoch 500/512\n",
            "29/29 - 0s - loss: 0.0234 - val_loss: 0.0221 - 97ms/epoch - 3ms/step\n",
            "Epoch 501/512\n",
            "29/29 - 0s - loss: 0.0233 - val_loss: 0.0221 - 83ms/epoch - 3ms/step\n",
            "Epoch 502/512\n",
            "29/29 - 0s - loss: 0.0232 - val_loss: 0.0221 - 98ms/epoch - 3ms/step\n",
            "Epoch 503/512\n",
            "29/29 - 0s - loss: 0.0233 - val_loss: 0.0221 - 86ms/epoch - 3ms/step\n",
            "Epoch 504/512\n",
            "29/29 - 0s - loss: 0.0232 - val_loss: 0.0219 - 98ms/epoch - 3ms/step\n",
            "Epoch 505/512\n",
            "29/29 - 0s - loss: 0.0231 - val_loss: 0.0220 - 96ms/epoch - 3ms/step\n",
            "Epoch 506/512\n",
            "29/29 - 0s - loss: 0.0231 - val_loss: 0.0219 - 113ms/epoch - 4ms/step\n",
            "Epoch 507/512\n",
            "29/29 - 0s - loss: 0.0230 - val_loss: 0.0217 - 80ms/epoch - 3ms/step\n",
            "Epoch 508/512\n",
            "29/29 - 0s - loss: 0.0230 - val_loss: 0.0218 - 123ms/epoch - 4ms/step\n",
            "Epoch 509/512\n",
            "29/29 - 0s - loss: 0.0229 - val_loss: 0.0219 - 155ms/epoch - 5ms/step\n",
            "Epoch 510/512\n",
            "29/29 - 0s - loss: 0.0229 - val_loss: 0.0218 - 130ms/epoch - 4ms/step\n",
            "Epoch 511/512\n",
            "29/29 - 0s - loss: 0.0228 - val_loss: 0.0219 - 124ms/epoch - 4ms/step\n",
            "Epoch 512/512\n",
            "29/29 - 0s - loss: 0.0228 - val_loss: 0.0216 - 112ms/epoch - 4ms/step\n"
          ]
        }
      ]
    },
    {
      "cell_type": "code",
      "source": [
        "h_df = pd.DataFrame(hist.history)\n",
        "h_df['val_loss'].min()"
      ],
      "metadata": {
        "colab": {
          "base_uri": "https://localhost:8080/"
        },
        "id": "TPUvzMj8LcCi",
        "outputId": "9223c2bb-7292-4676-bf00-b17a33816b0e"
      },
      "execution_count": 535,
      "outputs": [
        {
          "output_type": "execute_result",
          "data": {
            "text/plain": [
              "0.0215790793299675"
            ]
          },
          "metadata": {},
          "execution_count": 535
        }
      ]
    },
    {
      "cell_type": "code",
      "source": [
        "h_df.loc[:, ['loss', 'val_loss']].plot();"
      ],
      "metadata": {
        "colab": {
          "base_uri": "https://localhost:8080/",
          "height": 430
        },
        "id": "Yehniy5sM8Ii",
        "outputId": "c9415bb7-5324-45b7-aaa9-173aa0e1d636"
      },
      "execution_count": 538,
      "outputs": [
        {
          "output_type": "display_data",
          "data": {
            "text/plain": [
              "<Figure size 640x480 with 1 Axes>"
            ],
            "image/png": "[encoded data removed]"
          },
          "metadata": {}
        }
      ]
    },
    {
      "cell_type": "code",
      "source": [
        "pred = model.predict(X_test)"
      ],
      "metadata": {
        "colab": {
          "base_uri": "https://localhost:8080/"
        },
        "id": "gUwSnXFhQyx3",
        "outputId": "7c99cff0-eb54-42f2-cf8e-3e8c530982a4"
      },
      "execution_count": 539,
      "outputs": [
        {
          "output_type": "stream",
          "name": "stdout",
          "text": [
            "11/11 [==============================] - 0s 2ms/step\n"
          ]
        }
      ]
    },
    {
      "cell_type": "code",
      "source": [
        "pred[0]"
      ],
      "metadata": {
        "colab": {
          "base_uri": "https://localhost:8080/"
        },
        "id": "NlP0lbcZQ2QJ",
        "outputId": "3e6fc160-7f65-4280-e510-e610ea45c0d8"
      },
      "execution_count": 541,
      "outputs": [
        {
          "output_type": "execute_result",
          "data": {
            "text/plain": [
              "array([236496.33], dtype=float32)"
            ]
          },
          "metadata": {},
          "execution_count": 541
        }
      ]
    },
    {
      "cell_type": "code",
      "source": [
        "y_test[22]"
      ],
      "metadata": {
        "colab": {
          "base_uri": "https://localhost:8080/"
        },
        "id": "P9HkGB5lQ4UQ",
        "outputId": "a3e898b8-399d-4082-ead1-e24d629f9429"
      },
      "execution_count": 544,
      "outputs": [
        {
          "output_type": "execute_result",
          "data": {
            "text/plain": [
              "230000"
            ]
          },
          "metadata": {},
          "execution_count": 544
        }
      ]
    },
    {
      "cell_type": "code",
      "source": [
        "# close? Close. It's fine"
      ],
      "metadata": {
        "id": "5ta7bt-5Q78_"
      },
      "execution_count": null,
      "outputs": []
    },
    {
      "cell_type": "markdown",
      "source": [
        "<img src='https://media.tenor.com/P8VsDwHZreYAAAAM/tobey-maguire-spider-man.gif'><br>\n",
        "<img src='https://media.tenor.com/nogVc6m0iYUAAAAC/american-psycho-christian-bale.gif' width=35%><br>\n",
        "<img src='https://media0.giphy.com/media/LiljwvntZmf4c/200w.gif?cid=6c09b952segp6wm0jwzbqhj4v1bg2ygmeunij28yn65pnnvq&ep=v1_gifs_search&rid=200w.gif&ct=g'><br>\n",
        "<img src='https://www.icegif.com/wp-content/uploads/2022/09/icegif-1546.gif' width=50%><br>\n",
        "<img src='https://media.tenor.com/Aif4mJlndPAAAAAd/freddy-fazbear-five-nights-at-freddys.gif' width=33%>"
      ],
      "metadata": {
        "id": "zYj6RfcuRpJn"
      }
    }
  ]
}