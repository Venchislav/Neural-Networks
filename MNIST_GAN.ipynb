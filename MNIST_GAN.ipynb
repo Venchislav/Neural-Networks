{
  "nbformat": 4,
  "nbformat_minor": 0,
  "metadata": {
    "colab": {
      "provenance": [],
      "authorship_tag": "ABX9TyMGnV/ZNNqvFnUeh2ogx7XT",
      "include_colab_link": true
    },
    "kernelspec": {
      "name": "python3",
      "display_name": "Python 3"
    },
    "language_info": {
      "name": "python"
    }
  },
  "cells": [
    {
      "cell_type": "markdown",
      "metadata": {
        "id": "view-in-github",
        "colab_type": "text"
      },
      "source": [
        "<a href=\"https://colab.research.google.com/github/Venchislav/Neural-Networks/blob/main/MNIST_GAN.ipynb\" target=\"_parent\"><img src=\"https://colab.research.google.com/assets/colab-badge.svg\" alt=\"Open In Colab\"/></a>"
      ]
    },
    {
      "cell_type": "markdown",
      "source": [
        "GAN in a nutshell:<br>\n",
        "<img src='https://media1.tenor.com/m/p9_q4Bfmt8YAAAAC/two-people-fighting-fight.gif' width=50%><br>\n",
        "<img src='https://media1.tenor.com/m/01DMu_oLbOQAAAAd/fighting-fight.gif' width=25%>"
      ],
      "metadata": {
        "id": "KvnyeBLtXc5k"
      }
    },
    {
      "cell_type": "markdown",
      "source": [
        "Generator tries hard to make good images while discriminator tries hard to classify fake (generated) images and give feedback, helping generator become stronger and better in image generation"
      ],
      "metadata": {
        "id": "S9k0PqrZYaLw"
      }
    },
    {
      "cell_type": "code",
      "execution_count": 3,
      "metadata": {
        "id": "BcT1JActQe_o"
      },
      "outputs": [],
      "source": [
        "from keras.datasets import mnist\n",
        "from keras.layers import Input, Dense, Reshape, Flatten\n",
        "from keras.layers import BatchNormalization\n",
        "from keras.layers import LeakyReLU\n",
        "from keras.models import Sequential, Model\n",
        "from keras.optimizers import Adam\n",
        "import matplotlib.pyplot as plt\n",
        "import numpy as np"
      ]
    },
    {
      "cell_type": "code",
      "source": [
        "img_w = 28\n",
        "img_h = 28\n",
        "channels = 1"
      ],
      "metadata": {
        "id": "d4n8orvWQqBv"
      },
      "execution_count": 4,
      "outputs": []
    },
    {
      "cell_type": "code",
      "source": [
        "shape_ = (img_w, img_h, channels)"
      ],
      "metadata": {
        "id": "ak9UQg_jRjC3"
      },
      "execution_count": 5,
      "outputs": []
    },
    {
      "cell_type": "code",
      "source": [
        "(x_train, y_train), (x_test, y_test) = mnist.load_data()\n",
        "assert x_train.shape == (60000, 28, 28)\n",
        "assert x_test.shape == (10000, 28, 28)\n",
        "assert y_train.shape == (60000,)\n",
        "assert y_test.shape == (10000,)"
      ],
      "metadata": {
        "id": "HipQOA6KRmgY"
      },
      "execution_count": 25,
      "outputs": []
    },
    {
      "cell_type": "code",
      "source": [
        "plt.suptitle('MNIST data')\n",
        "for i in range(9):\n",
        "  plt.subplot(3, 3, i + 1)\n",
        "  plt.axis('off')\n",
        "  plt.title(y_train[i])\n",
        "  plt.imshow(x_train[i], cmap='gray');"
      ],
      "metadata": {
        "colab": {
          "base_uri": "https://localhost:8080/",
          "height": 454
        },
        "id": "NZwERXcoR3e4",
        "outputId": "726b4d51-216b-4bea-ca5d-5e3c682ce24d"
      },
      "execution_count": 27,
      "outputs": [
        {
          "output_type": "display_data",
          "data": {
            "text/plain": [
              "<Figure size 640x480 with 9 Axes>"
            ],
            "image/png": "[encoded data removed]"
          },
          "metadata": {}
        }
      ]
    },
    {
      "cell_type": "code",
      "source": [
        "X = np.concatenate((x_train, x_test))\n",
        "y = np.concatenate((y_train, y_test))"
      ],
      "metadata": {
        "id": "_cBHswcjR5ig"
      },
      "execution_count": 29,
      "outputs": []
    },
    {
      "cell_type": "code",
      "source": [
        "assert X.shape[0] == x_train.shape[0] + x_test.shape[0]\n",
        "assert y.shape[0] == y_train.shape[0] + y_test.shape[0]"
      ],
      "metadata": {
        "id": "Y5LBmaA0Ui3o"
      },
      "execution_count": 33,
      "outputs": []
    },
    {
      "cell_type": "code",
      "source": [
        "from sklearn.utils import shuffle"
      ],
      "metadata": {
        "id": "wNuevMstVALh"
      },
      "execution_count": 36,
      "outputs": []
    },
    {
      "cell_type": "code",
      "source": [
        "X, y = shuffle(X, y)"
      ],
      "metadata": {
        "id": "YpMak2qZVTaI"
      },
      "execution_count": 37,
      "outputs": []
    },
    {
      "cell_type": "code",
      "source": [
        "plt.suptitle('MNIST data')\n",
        "for i in range(9):\n",
        "  plt.subplot(3, 3, i + 1)\n",
        "  plt.axis('off')\n",
        "  plt.title(y[i])\n",
        "  plt.imshow(X[i], cmap='gray');"
      ],
      "metadata": {
        "colab": {
          "base_uri": "https://localhost:8080/",
          "height": 454
        },
        "id": "cbzMLKoZVYDb",
        "outputId": "7ac9afdd-c494-4cd4-942a-b667672d1889"
      },
      "execution_count": 38,
      "outputs": [
        {
          "output_type": "display_data",
          "data": {
            "text/plain": [
              "<Figure size 640x480 with 9 Axes>"
            ],
            "image/png": "[encoded data removed]"
          },
          "metadata": {}
        }
      ]
    },
    {
      "cell_type": "code",
      "source": [
        "def generator_build():\n",
        "  noise_shape = (100,)\n",
        "\n",
        "  model = Sequential([\n",
        "      Dense(256, input_shape=noise_shape),\n",
        "      LeakyReLU(alpha=0.2),\n",
        "      BatchNormalization(momentum=0.8),\n",
        "      Dense(512),\n",
        "      LeakyReLU(alpha=0.2),\n",
        "      BatchNormalization(momentum=0.8),\n",
        "      Dense(1024),\n",
        "      LeakyReLU(alpha=0.2),\n",
        "      BatchNormalization(momentum=0.8),\n",
        "\n",
        "      Dense(np.prod(shape_), activation='tanh'),\n",
        "      Reshape(shape_)\n",
        "  ])\n",
        "\n",
        "  noise = Input(shape=noise_shape)\n",
        "  img = model(noise)\n",
        "\n",
        "  return Model(noise, img)"
      ],
      "metadata": {
        "id": "IGvX7VOLVYyB"
      },
      "execution_count": 39,
      "outputs": []
    },
    {
      "cell_type": "markdown",
      "source": [
        "<img src='https://media1.tenor.com/m/qFeTzQmw-fgAAAAd/%D0%BA%D1%83%D1%80%D0%B8%D0%BD%D0%B0%D1%8F-%D0%BD%D0%BE%D0%B6%D0%BA%D0%B0-%D0%B8-%D0%BD%D0%B0%D0%B3%D0%B3%D0%B5%D1%82%D1%81-%D0%BF%D0%BE%D1%8E%D1%82.gif'>"
      ],
      "metadata": {
        "id": "GaPtCeqgY6ur"
      }
    }
  ]
}