{
 "cells": [
  {
   "cell_type": "code",
   "execution_count": 1,
   "metadata": {},
   "outputs": [
    {
     "name": "stdout",
     "output_type": "stream",
     "text": [
      "WARNING:tensorflow:From c:\\Users\\rayga\\AppData\\Local\\Programs\\Python\\Python311\\Lib\\site-packages\\keras\\src\\losses.py:2976: The name tf.losses.sparse_softmax_cross_entropy is deprecated. Please use tf.compat.v1.losses.sparse_softmax_cross_entropy instead.\n",
      "\n"
     ]
    }
   ],
   "source": [
    "import tensorflow as tf"
   ]
  },
  {
   "cell_type": "code",
   "execution_count": 2,
   "metadata": {},
   "outputs": [],
   "source": [
    "# in tf we can also make tensors of powers like:\n",
    "x = tf.constant([[1, 2, 3], [3, 4, 5]])\n",
    "y = tf.constant([[2, 2, 2], [2, 2, 2]])"
   ]
  },
  {
   "cell_type": "code",
   "execution_count": 3,
   "metadata": {},
   "outputs": [
    {
     "name": "stdout",
     "output_type": "stream",
     "text": [
      "tf.Tensor(\n",
      "[[ 1  4  9]\n",
      " [ 9 16 25]], shape=(2, 3), dtype=int32)\n"
     ]
    }
   ],
   "source": [
    "print(tf.math.pow(x, y))"
   ]
  },
  {
   "cell_type": "code",
   "execution_count": 7,
   "metadata": {},
   "outputs": [],
   "source": [
    "tensor_2d_ez = tf.constant([\n",
    "    [1, 2, 3, 4],\n",
    "    [5, 6, 7, 8],\n",
    "    [9, 10, 11, 12]\n",
    "])"
   ]
  },
  {
   "cell_type": "code",
   "execution_count": 10,
   "metadata": {},
   "outputs": [
    {
     "name": "stdout",
     "output_type": "stream",
     "text": [
      "tf.Tensor([15 18 21 24], shape=(4,), dtype=int32)\n",
      "tf.Tensor([10 26 42], shape=(3,), dtype=int32)\n",
      "tf.Tensor(78, shape=(), dtype=int32)\n"
     ]
    }
   ],
   "source": [
    "print(tf.math.reduce_sum(tensor_2d_ez, axis=0))\n",
    "print(tf.math.reduce_sum(tensor_2d_ez, axis=1))\n",
    "print(tf.math.reduce_sum(tensor_2d_ez, axis=None))"
   ]
  },
  {
   "cell_type": "code",
   "execution_count": 11,
   "metadata": {},
   "outputs": [
    {
     "name": "stdout",
     "output_type": "stream",
     "text": [
      "tf.Tensor([ 9 10 11 12], shape=(4,), dtype=int32)\n",
      "tf.Tensor([ 4  8 12], shape=(3,), dtype=int32)\n",
      "tf.Tensor(12, shape=(), dtype=int32)\n"
     ]
    }
   ],
   "source": [
    "print(tf.math.reduce_max(tensor_2d_ez, axis=0))\n",
    "print(tf.math.reduce_max(tensor_2d_ez, axis=1))\n",
    "print(tf.math.reduce_max(tensor_2d_ez, axis=None))"
   ]
  },
  {
   "cell_type": "code",
   "execution_count": 12,
   "metadata": {},
   "outputs": [
    {
     "name": "stdout",
     "output_type": "stream",
     "text": [
      "tf.Tensor([1 2 3 4], shape=(4,), dtype=int32)\n",
      "tf.Tensor([1 5 9], shape=(3,), dtype=int32)\n",
      "tf.Tensor(1, shape=(), dtype=int32)\n"
     ]
    }
   ],
   "source": [
    "print(tf.math.reduce_min(tensor_2d_ez, axis=0))\n",
    "print(tf.math.reduce_min(tensor_2d_ez, axis=1))\n",
    "print(tf.math.reduce_min(tensor_2d_ez, axis=None))"
   ]
  },
  {
   "cell_type": "code",
   "execution_count": 13,
   "metadata": {},
   "outputs": [],
   "source": [
    "tensor_3d = tf.constant([\n",
    "    [[1, 2, 3], [1, 2, 3]],\n",
    "    [[4, 5, 6], [4, 5, 6]],\n",
    "    [[7, 8, 9], [7, 8, 9]]\n",
    "])"
   ]
  },
  {
   "cell_type": "code",
   "execution_count": 14,
   "metadata": {},
   "outputs": [
    {
     "name": "stdout",
     "output_type": "stream",
     "text": [
      "(3, 2, 3)\n"
     ]
    }
   ],
   "source": [
    "print(tensor_3d.shape)"
   ]
  },
  {
   "cell_type": "code",
   "execution_count": 18,
   "metadata": {},
   "outputs": [
    {
     "name": "stdout",
     "output_type": "stream",
     "text": [
      "tf.Tensor(\n",
      "[[7 8 9]\n",
      " [7 8 9]], shape=(2, 3), dtype=int32)\n",
      "tf.Tensor(\n",
      "[[1 2 3]\n",
      " [4 5 6]\n",
      " [7 8 9]], shape=(3, 3), dtype=int32)\n",
      "tf.Tensor(9, shape=(), dtype=int32)\n",
      "tf.Tensor(\n",
      "[[3 3]\n",
      " [6 6]\n",
      " [9 9]], shape=(3, 2), dtype=int32)\n"
     ]
    }
   ],
   "source": [
    "print(tf.math.reduce_max(tensor_3d, axis=0))\n",
    "print(tf.math.reduce_max(tensor_3d, axis=1))\n",
    "print(tf.math.reduce_max(tensor_3d, axis=None))\n",
    "# working with many dimensions we have more than only axis 1 or 0\n",
    "print(tf.math.reduce_max(tensor_3d, axis=2))"
   ]
  },
  {
   "cell_type": "code",
   "execution_count": 20,
   "metadata": {},
   "outputs": [],
   "source": [
    "tensor_2d_ez = tf.constant([\n",
    "    [1, 2, 3, 4],\n",
    "    [5, 6, 7, 8],\n",
    "    [9, 10, 11, 12]\n",
    "], dtype=tf.float32)"
   ]
  },
  {
   "cell_type": "code",
   "execution_count": 21,
   "metadata": {},
   "outputs": [
    {
     "name": "stdout",
     "output_type": "stream",
     "text": [
      "tf.Tensor([5. 6. 7. 8.], shape=(4,), dtype=float32)\n",
      "tf.Tensor([ 2.5  6.5 10.5], shape=(3,), dtype=float32)\n",
      "tf.Tensor(6.5, shape=(), dtype=float32)\n"
     ]
    }
   ],
   "source": [
    "print(tf.math.reduce_mean(tensor_2d_ez, axis=0))\n",
    "print(tf.math.reduce_mean(tensor_2d_ez, axis=1))\n",
    "print(tf.math.reduce_mean(tensor_2d_ez, axis=None))"
   ]
  },
  {
   "cell_type": "code",
   "execution_count": null,
   "metadata": {},
   "outputs": [],
   "source": [
    "# top_k returns us k max elems and their indecies"
   ]
  },
  {
   "cell_type": "code",
   "execution_count": 23,
   "metadata": {},
   "outputs": [
    {
     "name": "stdout",
     "output_type": "stream",
     "text": [
      "TopKV2(values=<tf.Tensor: shape=(3, 1), dtype=float32, numpy=\n",
      "array([[ 4.],\n",
      "       [ 8.],\n",
      "       [12.]], dtype=float32)>, indices=<tf.Tensor: shape=(3, 1), dtype=int32, numpy=\n",
      "array([[3],\n",
      "       [3],\n",
      "       [3]])>)\n"
     ]
    }
   ],
   "source": [
    "print(tf.math.top_k(tensor_2d_ez, k=1))"
   ]
  },
  {
   "cell_type": "code",
   "execution_count": 24,
   "metadata": {},
   "outputs": [
    {
     "name": "stdout",
     "output_type": "stream",
     "text": [
      "TopKV2(values=<tf.Tensor: shape=(3, 2), dtype=float32, numpy=\n",
      "array([[ 4.,  3.],\n",
      "       [ 8.,  7.],\n",
      "       [12., 11.]], dtype=float32)>, indices=<tf.Tensor: shape=(3, 2), dtype=int32, numpy=\n",
      "array([[3, 2],\n",
      "       [3, 2],\n",
      "       [3, 2]])>)\n"
     ]
    }
   ],
   "source": [
    "print(tf.math.top_k(tensor_2d_ez, k=2))"
   ]
  },
  {
   "cell_type": "markdown",
   "metadata": {},
   "source": [
    "**LINEAR ALGEBRA IN TF**\n",
    "(tf sounds like team fortress)"
   ]
  },
  {
   "cell_type": "code",
   "execution_count": 27,
   "metadata": {},
   "outputs": [],
   "source": [
    "x_1 = tf.constant([\n",
    "    [1, 2, 3],\n",
    "    [1, 2, 3]\n",
    "])\n",
    "\n",
    "x_2 = tf.constant([\n",
    "    [1, 2],\n",
    "    [1, 2],\n",
    "    [1, 2]\n",
    "])"
   ]
  },
  {
   "cell_type": "code",
   "execution_count": 28,
   "metadata": {},
   "outputs": [
    {
     "data": {
      "text/plain": [
       "<tf.Tensor: shape=(2, 2), dtype=int32, numpy=\n",
       "array([[ 6, 12],\n",
       "       [ 6, 12]])>"
      ]
     },
     "execution_count": 28,
     "metadata": {},
     "output_type": "execute_result"
    }
   ],
   "source": [
    "tf.linalg.matmul(x_1, x_2)"
   ]
  },
  {
   "cell_type": "markdown",
   "metadata": {},
   "source": [
    "<img src='https://www.statlect.com/images/matrix-algebra-multiplication.png' width=50%>"
   ]
  },
  {
   "cell_type": "code",
   "execution_count": 30,
   "metadata": {},
   "outputs": [
    {
     "name": "stdout",
     "output_type": "stream",
     "text": [
      "tf.Tensor(\n",
      "[[14]\n",
      " [14]], shape=(2, 1), dtype=int32)\n"
     ]
    }
   ],
   "source": [
    "x_1 = tf.constant([\n",
    "    [1, 2, 3],\n",
    "    [1, 2, 3]\n",
    "])\n",
    "\n",
    "x_2 = tf.constant([\n",
    "    [1, 2, 3]\n",
    "])\n",
    "\n",
    "print(tf.linalg.matmul(x_1, x_2, transpose_b=True))"
   ]
  },
  {
   "cell_type": "code",
   "execution_count": 31,
   "metadata": {},
   "outputs": [],
   "source": [
    "# we also have such a cool detail:"
   ]
  },
  {
   "cell_type": "code",
   "execution_count": 35,
   "metadata": {},
   "outputs": [
    {
     "name": "stdout",
     "output_type": "stream",
     "text": [
      "tf.Tensor(\n",
      "[[14]\n",
      " [14]], shape=(2, 1), dtype=int32)\n"
     ]
    }
   ],
   "source": [
    "print(x_1 @ tf.transpose(x_2))"
   ]
  },
  {
   "cell_type": "code",
   "execution_count": 36,
   "metadata": {},
   "outputs": [],
   "source": [
    "# * is a symbol of normal multiplication\n",
    "# while @ is a sign of matrix multiplication from linear algebra"
   ]
  },
  {
   "cell_type": "code",
   "execution_count": 37,
   "metadata": {},
   "outputs": [],
   "source": [
    "tensor_3d = tf.constant([\n",
    "    [[1, 2, 3], [1, 2, 3]],\n",
    "    [[1, 2, 3], [1, 2, 3]],\n",
    "    [[1, 2, 3], [1, 2, 3]]\n",
    "])\n",
    "\n",
    "\n",
    "tensor2_3d = tf.constant([\n",
    "    [[1, 2, 3], [1, 2, 3], [1, 2, 3]],\n",
    "    [[1, 2, 3], [1, 2, 3], [1, 2, 3]],\n",
    "    [[1, 2, 3], [1, 2, 3], [1, 2, 3]]\n",
    "])"
   ]
  },
  {
   "cell_type": "code",
   "execution_count": 38,
   "metadata": {},
   "outputs": [
    {
     "name": "stdout",
     "output_type": "stream",
     "text": [
      "tf.Tensor(\n",
      "[[[ 6 12 18]\n",
      "  [ 6 12 18]]\n",
      "\n",
      " [[ 6 12 18]\n",
      "  [ 6 12 18]]\n",
      "\n",
      " [[ 6 12 18]\n",
      "  [ 6 12 18]]], shape=(3, 2, 3), dtype=int32)\n"
     ]
    }
   ],
   "source": [
    "print(tensor_3d @ tensor2_3d)"
   ]
  },
  {
   "cell_type": "code",
   "execution_count": null,
   "metadata": {},
   "outputs": [],
   "source": []
  }
 ],
 "metadata": {
  "kernelspec": {
   "display_name": "Python 3",
   "language": "python",
   "name": "python3"
  },
  "language_info": {
   "codemirror_mode": {
    "name": "ipython",
    "version": 3
   },
   "file_extension": ".py",
   "mimetype": "text/x-python",
   "name": "python",
   "nbconvert_exporter": "python",
   "pygments_lexer": "ipython3",
   "version": "3.11.4"
  }
 },
 "nbformat": 4,
 "nbformat_minor": 2
}
