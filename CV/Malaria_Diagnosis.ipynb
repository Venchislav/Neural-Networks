{
  "cells": [
    {
      "cell_type": "code",
      "execution_count": null,
      "metadata": {
        "id": "FlSfK7jBlnWr"
      },
      "outputs": [],
      "source": [
        "import tensorflow as tf\n",
        "import tensorflow_datasets as tfds\n",
        "import matplotlib.pyplot as plt\n",
        "import numpy as np"
      ]
    },
    {
      "cell_type": "code",
      "execution_count": null,
      "metadata": {
        "id": "SvhgLC5rAzz5"
      },
      "outputs": [],
      "source": [
        "import warnings\n",
        "warnings.filterwarnings('ignore')"
      ]
    },
    {
      "cell_type": "code",
      "execution_count": null,
      "metadata": {
        "colab": {
          "base_uri": "https://localhost:8080/",
          "height": 148,
          "referenced_widgets": [
            "8897053cb9ee406bb2c502695e40fbc1",
            "8df8d4558dc7487388e25c8c49856a3c",
            "ad2fb3607d4c4315a0d5cab4fd9149af",
            "0ac9b4233a0143b988356c9b93942b0a",
            "847f7ff3f1554038b809760db43ec7be",
            "005af54e8a1f408fa42870ea36063cac",
            "2c3dd23ac90746ea9c72a21dc359c45e",
            "ca1fa631059944e58308491d8e744050",
            "657aa000ef56494c939fe1940406914e",
            "d85b3cda5da5420ab45618b15bd4c4e9",
            "2b0c69d76b9142feb6691f9a18a65718",
            "98b9574acd874de292efe1358b9ac52d",
            "eb30a488a13342eeb8b4ce1d3ca8033d",
            "6e8c09980ce9400fad50f4cb4eaa823d",
            "26cbc0f3aeaa42099db970cc235e2a58",
            "da6cab7be397401db7b17c6beabf5791",
            "f15fa7d9936a4dee8e06cc086c05b4fd",
            "885f8e3c63db4f62a17539a7ac05b1d3",
            "01a6b3daf6ba4b2c8ab01205baa013cf",
            "34741febf9644022925611867a1f05b3",
            "6c21cacf3ad546548b412bd91023c7ea",
            "408f6ae60ccf4c5396b7f492743cecf1",
            "88971c41ea564df587c9fed941bbc1f2",
            "f4449af0b9ee4184a77e3aac06d4901d",
            "8c7e623475a4440b89672721bde68e0f",
            "c4ed6932ec6d4f84a7fc3a32a30f21b3",
            "3de3d82484e94dc9b330f9be6208dd0f",
            "c60fb5a719dc4b09a3ef2a02860aed84",
            "bd698800ff2c45eb82dfcbb95572e43c",
            "863cd9af0d2e446f9a496872e2f41682",
            "b48997a86e35403195eae10c7150bd15",
            "687d558e13e6448998f10b15af03ae89",
            "57b623bd680342d99e53805c4ca5ce6e",
            "d53f4810864e42ea8dc14f8a16f30fd1",
            "96bbe8a91d5b415a9001dbcb3981816b",
            "4f5137db7f3c4208b549ad3bbbc71d2d",
            "7e5e14c8acdd4295902e845d4f826f2e",
            "3a79446963aa43f8a6621bb802bad0f0",
            "5df1d2d904db4411a80b7a4d6897380a",
            "899be7958321415b85035634b481dfe5",
            "736f477692df48fa973f02a640db528b",
            "9a1051d0f5ad495a90a4a7cf82f8ef8f",
            "f0513732dab54e038791f1ee4fa64347",
            "893146eb94f94666a03d8b4f484636c8",
            "b647ee25627b453b996afa9496a2498d",
            "87549162572e46fdafcd55a984132623",
            "11bb8e8293b242aa9e880bf9cffdb3e3",
            "721b9a43d3484c518f7472296a4eb41f",
            "c2404de08c7f4553976c4f1297c0b42c",
            "6fffd2162c214f45b162314efc1c68e3",
            "45c4fd6dc17544f4a8b1c375886cba4d",
            "f2dad8759258420dae189e918b44b11e",
            "b14da88580b64d928a132ad8e63299b2",
            "1400e85c9879444c9ae9ce5249c3f9f6",
            "b7862bcae8d9436594fae939e1aeeb3d",
            "65c27e04aa954a8fac7b4b7310827faf",
            "16806f1eacb649ba85652314706b7461",
            "995c3c715a084c50866ec6b4f77ef69f",
            "4dd743c2ebfd4e7d9fa1d949f3893561",
            "55d38bf3d6124ce49044a1574d21881a",
            "a389184aa79642c7bf15b348ce9b8ba6",
            "0dfa402c2ae2427b89dc5b53dc34c09f",
            "a1362f0a91324634992fc9c6867296f8",
            "f06cb3ed00044b7d8d27a7f6f7639c71",
            "bd4b3c1ea6a140a89ebc6179df02d674",
            "2d5a998a2ac94597b83e70a0799d8ea9"
          ]
        },
        "id": "xPs6EdZNp8fl",
        "outputId": "5ccc3195-1a64-4e4e-984c-69edc9e05680"
      },
      "outputs": [
        {
          "name": "stdout",
          "output_type": "stream",
          "text": [
            "Downloading and preparing dataset 337.08 MiB (download: 337.08 MiB, generated: Unknown size, total: 337.08 MiB) to /root/tensorflow_datasets/malaria/1.0.0...\n"
          ]
        },
        {
          "data": {
            "application/vnd.jupyter.widget-view+json": {
              "model_id": "8897053cb9ee406bb2c502695e40fbc1",
              "version_major": 2,
              "version_minor": 0
            },
            "text/plain": [
              "Dl Completed...: 0 url [00:00, ? url/s]"
            ]
          },
          "metadata": {},
          "output_type": "display_data"
        },
        {
          "data": {
            "application/vnd.jupyter.widget-view+json": {
              "model_id": "98b9574acd874de292efe1358b9ac52d",
              "version_major": 2,
              "version_minor": 0
            },
            "text/plain": [
              "Dl Size...: 0 MiB [00:00, ? MiB/s]"
            ]
          },
          "metadata": {},
          "output_type": "display_data"
        },
        {
          "data": {
            "application/vnd.jupyter.widget-view+json": {
              "model_id": "88971c41ea564df587c9fed941bbc1f2",
              "version_major": 2,
              "version_minor": 0
            },
            "text/plain": [
              "Extraction completed...: 0 file [00:00, ? file/s]"
            ]
          },
          "metadata": {},
          "output_type": "display_data"
        },
        {
          "data": {
            "application/vnd.jupyter.widget-view+json": {
              "model_id": "d53f4810864e42ea8dc14f8a16f30fd1",
              "version_major": 2,
              "version_minor": 0
            },
            "text/plain": [
              "Generating splits...:   0%|          | 0/1 [00:00<?, ? splits/s]"
            ]
          },
          "metadata": {},
          "output_type": "display_data"
        },
        {
          "data": {
            "application/vnd.jupyter.widget-view+json": {
              "model_id": "b647ee25627b453b996afa9496a2498d",
              "version_major": 2,
              "version_minor": 0
            },
            "text/plain": [
              "Generating train examples...:   0%|          | 0/27558 [00:00<?, ? examples/s]"
            ]
          },
          "metadata": {},
          "output_type": "display_data"
        },
        {
          "data": {
            "application/vnd.jupyter.widget-view+json": {
              "model_id": "65c27e04aa954a8fac7b4b7310827faf",
              "version_major": 2,
              "version_minor": 0
            },
            "text/plain": [
              "Shuffling /root/tensorflow_datasets/malaria/1.0.0.incomplete31Y546/malaria-train.tfrecord*...:   0%|          …"
            ]
          },
          "metadata": {},
          "output_type": "display_data"
        },
        {
          "name": "stdout",
          "output_type": "stream",
          "text": [
            "Dataset malaria downloaded and prepared to /root/tensorflow_datasets/malaria/1.0.0. Subsequent calls will reuse this data.\n"
          ]
        }
      ],
      "source": [
        "dataset, info = tfds.load('malaria', with_info=True, as_supervised=True, shuffle_files=True, split=['train'])"
      ]
    },
    {
      "cell_type": "code",
      "execution_count": null,
      "metadata": {
        "colab": {
          "base_uri": "https://localhost:8080/"
        },
        "id": "BwIGooZFqGBR",
        "outputId": "725c90dc-6488-4240-e316-7853d2c1df03"
      },
      "outputs": [
        {
          "data": {
            "text/plain": [
              "[<_PrefetchDataset element_spec=(TensorSpec(shape=(None, None, 3), dtype=tf.uint8, name=None), TensorSpec(shape=(), dtype=tf.int64, name=None))>]"
            ]
          },
          "execution_count": 7,
          "metadata": {},
          "output_type": "execute_result"
        }
      ],
      "source": [
        "dataset"
      ]
    },
    {
      "cell_type": "code",
      "execution_count": null,
      "metadata": {
        "colab": {
          "base_uri": "https://localhost:8080/"
        },
        "id": "-Odou1HfvSeD",
        "outputId": "a928187f-b3ae-40ba-cff5-909f968124d7"
      },
      "outputs": [
        {
          "name": "stdout",
          "output_type": "stream",
          "text": [
            "(<tf.Tensor: shape=(103, 103, 3), dtype=uint8, numpy=\n",
            "array([[[0, 0, 0],\n",
            "        [0, 0, 0],\n",
            "        [0, 0, 0],\n",
            "        ...,\n",
            "        [0, 0, 0],\n",
            "        [0, 0, 0],\n",
            "        [0, 0, 0]],\n",
            "\n",
            "       [[0, 0, 0],\n",
            "        [0, 0, 0],\n",
            "        [0, 0, 0],\n",
            "        ...,\n",
            "        [0, 0, 0],\n",
            "        [0, 0, 0],\n",
            "        [0, 0, 0]],\n",
            "\n",
            "       [[0, 0, 0],\n",
            "        [0, 0, 0],\n",
            "        [0, 0, 0],\n",
            "        ...,\n",
            "        [0, 0, 0],\n",
            "        [0, 0, 0],\n",
            "        [0, 0, 0]],\n",
            "\n",
            "       ...,\n",
            "\n",
            "       [[0, 0, 0],\n",
            "        [0, 0, 0],\n",
            "        [0, 0, 0],\n",
            "        ...,\n",
            "        [0, 0, 0],\n",
            "        [0, 0, 0],\n",
            "        [0, 0, 0]],\n",
            "\n",
            "       [[0, 0, 0],\n",
            "        [0, 0, 0],\n",
            "        [0, 0, 0],\n",
            "        ...,\n",
            "        [0, 0, 0],\n",
            "        [0, 0, 0],\n",
            "        [0, 0, 0]],\n",
            "\n",
            "       [[0, 0, 0],\n",
            "        [0, 0, 0],\n",
            "        [0, 0, 0],\n",
            "        ...,\n",
            "        [0, 0, 0],\n",
            "        [0, 0, 0],\n",
            "        [0, 0, 0]]], dtype=uint8)>, <tf.Tensor: shape=(), dtype=int64, numpy=0>)\n"
          ]
        }
      ],
      "source": [
        "for data in dataset[0].take(1):\n",
        "  print(data)"
      ]
    },
    {
      "cell_type": "code",
      "execution_count": null,
      "metadata": {
        "colab": {
          "base_uri": "https://localhost:8080/"
        },
        "id": "rRmZ0InuleS3",
        "outputId": "a68f11ba-cc7f-4e05-b5f8-a2e81bfe28a2"
      },
      "outputs": [
        {
          "data": {
            "text/plain": [
              "list"
            ]
          },
          "execution_count": 9,
          "metadata": {},
          "output_type": "execute_result"
        }
      ],
      "source": [
        "type(dataset)"
      ]
    },
    {
      "cell_type": "code",
      "execution_count": null,
      "metadata": {
        "id": "D5N_QZd-x_r3"
      },
      "outputs": [],
      "source": [
        "def split_dataset(dataset, train_r, val_r, test_r):\n",
        "  size = len(dataset)\n",
        "  train_dataset = dataset.take(int(train_r * size))\n",
        "\n",
        "  val_t_dataset = dataset.skip(int(train_r * size))\n",
        "  val_dataset = val_t_dataset.take(int(val_r * size))\n",
        "\n",
        "  test_dataset = val_t_dataset.skip(int(val_r * size))\n",
        "\n",
        "  return train_dataset, test_dataset, val_dataset"
      ]
    },
    {
      "cell_type": "code",
      "execution_count": null,
      "metadata": {
        "id": "P9EL7OfeziZd"
      },
      "outputs": [],
      "source": [
        "train, test, val = split_dataset(dataset[0], 0.8, 0.1, 0.1)"
      ]
    },
    {
      "cell_type": "code",
      "execution_count": null,
      "metadata": {
        "colab": {
          "base_uri": "https://localhost:8080/"
        },
        "id": "EXZlfy88zs0E",
        "outputId": "172a8de1-e91b-4e70-c59c-75d4f302aa25"
      },
      "outputs": [
        {
          "data": {
            "text/plain": [
              "[(<tf.Tensor: shape=(103, 103, 3), dtype=uint8, numpy=\n",
              "  array([[[0, 0, 0],\n",
              "          [0, 0, 0],\n",
              "          [0, 0, 0],\n",
              "          ...,\n",
              "          [0, 0, 0],\n",
              "          [0, 0, 0],\n",
              "          [0, 0, 0]],\n",
              "  \n",
              "         [[0, 0, 0],\n",
              "          [0, 0, 0],\n",
              "          [0, 0, 0],\n",
              "          ...,\n",
              "          [0, 0, 0],\n",
              "          [0, 0, 0],\n",
              "          [0, 0, 0]],\n",
              "  \n",
              "         [[0, 0, 0],\n",
              "          [0, 0, 0],\n",
              "          [0, 0, 0],\n",
              "          ...,\n",
              "          [0, 0, 0],\n",
              "          [0, 0, 0],\n",
              "          [0, 0, 0]],\n",
              "  \n",
              "         ...,\n",
              "  \n",
              "         [[0, 0, 0],\n",
              "          [0, 0, 0],\n",
              "          [0, 0, 0],\n",
              "          ...,\n",
              "          [0, 0, 0],\n",
              "          [0, 0, 0],\n",
              "          [0, 0, 0]],\n",
              "  \n",
              "         [[0, 0, 0],\n",
              "          [0, 0, 0],\n",
              "          [0, 0, 0],\n",
              "          ...,\n",
              "          [0, 0, 0],\n",
              "          [0, 0, 0],\n",
              "          [0, 0, 0]],\n",
              "  \n",
              "         [[0, 0, 0],\n",
              "          [0, 0, 0],\n",
              "          [0, 0, 0],\n",
              "          ...,\n",
              "          [0, 0, 0],\n",
              "          [0, 0, 0],\n",
              "          [0, 0, 0]]], dtype=uint8)>,\n",
              "  <tf.Tensor: shape=(), dtype=int64, numpy=1>)]"
            ]
          },
          "execution_count": 12,
          "metadata": {},
          "output_type": "execute_result"
        }
      ],
      "source": [
        "list(train.take(1))"
      ]
    },
    {
      "cell_type": "code",
      "execution_count": null,
      "metadata": {
        "colab": {
          "base_uri": "https://localhost:8080/"
        },
        "id": "B7qJjmjEFiMT",
        "outputId": "e6925fb6-2c60-431d-cce4-e3cad7304bee"
      },
      "outputs": [
        {
          "data": {
            "text/plain": [
              "<_TakeDataset element_spec=(TensorSpec(shape=(None, None, 3), dtype=tf.uint8, name=None), TensorSpec(shape=(), dtype=tf.int64, name=None))>"
            ]
          },
          "execution_count": 13,
          "metadata": {},
          "output_type": "execute_result"
        }
      ],
      "source": [
        "train.take(1)"
      ]
    },
    {
      "cell_type": "markdown",
      "metadata": {
        "id": "ikbwz6WG1XTf"
      },
      "source": [
        "# **VISUALIZATION**"
      ]
    },
    {
      "cell_type": "code",
      "execution_count": null,
      "metadata": {
        "colab": {
          "base_uri": "https://localhost:8080/",
          "height": 428
        },
        "id": "i-JWJf521MsZ",
        "outputId": "d54c10f2-6c96-4d25-fd5c-8c76db936c35"
      },
      "outputs": [
        {
          "data": {
            "image/png": "[encoded data removed]",
            "text/plain": [
              "<Figure size 640x480 with 9 Axes>"
            ]
          },
          "metadata": {},
          "output_type": "display_data"
        }
      ],
      "source": [
        "for i, (img, label) in enumerate(train.take(9)):\n",
        "  ax = plt.subplot(3, 3, i + 1)\n",
        "  plt.axis('off')\n",
        "  plt.title(str(label.numpy()))\n",
        "  plt.imshow(img);"
      ]
    },
    {
      "cell_type": "code",
      "execution_count": null,
      "metadata": {
        "colab": {
          "base_uri": "https://localhost:8080/",
          "height": 428
        },
        "id": "uxq8McXQE7-v",
        "outputId": "695034a9-b4c7-4b2e-c0dc-f9460bb48323"
      },
      "outputs": [
        {
          "data": {
            "image/png": "[encoded data removed]",
            "text/plain": [
              "<Figure size 640x480 with 9 Axes>"
            ]
          },
          "metadata": {},
          "output_type": "display_data"
        }
      ],
      "source": [
        "for i, (img, label) in enumerate(train.take(9)):\n",
        "  ax = plt.subplot(3, 3, i + 1)\n",
        "  plt.axis('off')\n",
        "  plt.title(info.features['label'].int2str(label))\n",
        "  plt.imshow(img);"
      ]
    },
    {
      "cell_type": "code",
      "execution_count": null,
      "metadata": {
        "id": "jtsPnXeKGcVK"
      },
      "outputs": [],
      "source": [
        "# 0 - parasitized\n",
        "# 1 - uninfected"
      ]
    },
    {
      "cell_type": "markdown",
      "metadata": {
        "id": "k1GghRw2KogN"
      },
      "source": [
        "# **PREPROCESSING**"
      ]
    },
    {
      "cell_type": "code",
      "execution_count": null,
      "metadata": {
        "id": "pk248BBfHp6S"
      },
      "outputs": [],
      "source": [
        "IM_SIZE = 224\n",
        "def resize_rescale(image, label):\n",
        "  return tf.image.resize(image, (IM_SIZE, IM_SIZE)) / 255.0, label"
      ]
    },
    {
      "cell_type": "code",
      "execution_count": null,
      "metadata": {
        "id": "8YEaKMvqLFh7"
      },
      "outputs": [],
      "source": [
        "train = train.map(resize_rescale)\n",
        "val = val.map(resize_rescale)\n",
        "test = test.map(resize_rescale)"
      ]
    },
    {
      "cell_type": "code",
      "execution_count": null,
      "metadata": {
        "colab": {
          "base_uri": "https://localhost:8080/"
        },
        "id": "7lKquosTLNPA",
        "outputId": "c367ac51-9d3e-40a1-ae48-5ae5edfb592c"
      },
      "outputs": [
        {
          "name": "stdout",
          "output_type": "stream",
          "text": [
            "tf.Tensor(\n",
            "[[[0. 0. 0.]\n",
            "  [0. 0. 0.]\n",
            "  [0. 0. 0.]\n",
            "  ...\n",
            "  [0. 0. 0.]\n",
            "  [0. 0. 0.]\n",
            "  [0. 0. 0.]]\n",
            "\n",
            " [[0. 0. 0.]\n",
            "  [0. 0. 0.]\n",
            "  [0. 0. 0.]\n",
            "  ...\n",
            "  [0. 0. 0.]\n",
            "  [0. 0. 0.]\n",
            "  [0. 0. 0.]]\n",
            "\n",
            " [[0. 0. 0.]\n",
            "  [0. 0. 0.]\n",
            "  [0. 0. 0.]\n",
            "  ...\n",
            "  [0. 0. 0.]\n",
            "  [0. 0. 0.]\n",
            "  [0. 0. 0.]]\n",
            "\n",
            " ...\n",
            "\n",
            " [[0. 0. 0.]\n",
            "  [0. 0. 0.]\n",
            "  [0. 0. 0.]\n",
            "  ...\n",
            "  [0. 0. 0.]\n",
            "  [0. 0. 0.]\n",
            "  [0. 0. 0.]]\n",
            "\n",
            " [[0. 0. 0.]\n",
            "  [0. 0. 0.]\n",
            "  [0. 0. 0.]\n",
            "  ...\n",
            "  [0. 0. 0.]\n",
            "  [0. 0. 0.]\n",
            "  [0. 0. 0.]]\n",
            "\n",
            " [[0. 0. 0.]\n",
            "  [0. 0. 0.]\n",
            "  [0. 0. 0.]\n",
            "  ...\n",
            "  [0. 0. 0.]\n",
            "  [0. 0. 0.]\n",
            "  [0. 0. 0.]]], shape=(224, 224, 3), dtype=float32) tf.Tensor(1, shape=(), dtype=int64)\n"
          ]
        }
      ],
      "source": [
        "for i, l in train.take(1):\n",
        "  print(i, l)"
      ]
    },
    {
      "cell_type": "code",
      "execution_count": null,
      "metadata": {
        "id": "ItR8ajGVMaHU"
      },
      "outputs": [],
      "source": [
        "train = train.shuffle(buffer_size=9, reshuffle_each_iteration=True).batch(32).prefetch(tf.data.AUTOTUNE)\n",
        "val = val.shuffle(buffer_size=9, reshuffle_each_iteration=True).batch(32).prefetch(tf.data.AUTOTUNE)\n",
        "test = test.shuffle(buffer_size=9, reshuffle_each_iteration=True).batch(1).prefetch(tf.data.AUTOTUNE)"
      ]
    },
    {
      "cell_type": "markdown",
      "metadata": {
        "id": "SELH-YxmaZG9"
      },
      "source": [
        "# **MODEL BUILDING**"
      ]
    },
    {
      "cell_type": "code",
      "execution_count": null,
      "metadata": {
        "id": "duVE62UcawFZ"
      },
      "outputs": [],
      "source": [
        "from tensorflow.keras.layers import Conv2D, MaxPool2D, Dense, Flatten, InputLayer, BatchNormalization\n",
        "from tensorflow.keras.optimizers import Adam\n",
        "from tensorflow.keras.losses import BinaryCrossentropy"
      ]
    },
    {
      "cell_type": "code",
      "execution_count": null,
      "metadata": {
        "id": "_lyZiC2Yvgtl"
      },
      "outputs": [],
      "source": []
    },
    {
      "cell_type": "code",
      "execution_count": null,
      "metadata": {
        "colab": {
          "base_uri": "https://localhost:8080/"
        },
        "id": "Jua7ub4RIjGe",
        "outputId": "0961ee60-bed7-46ac-d1f2-d71987b935cc"
      },
      "outputs": [
        {
          "name": "stdout",
          "output_type": "stream",
          "text": [
            "Model: \"sequential\"\n",
            "_________________________________________________________________\n",
            " Layer (type)                Output Shape              Param #   \n",
            "=================================================================\n",
            " conv2d (Conv2D)             (None, 222, 222, 6)       168       \n",
            "                                                                 \n",
            " batch_normalization (Batch  (None, 222, 222, 6)       24        \n",
            " Normalization)                                                  \n",
            "                                                                 \n",
            " max_pooling2d (MaxPooling2  (None, 111, 111, 6)       0         \n",
            " D)                                                              \n",
            "                                                                 \n",
            " conv2d_1 (Conv2D)           (None, 109, 109, 16)      880       \n",
            "                                                                 \n",
            " batch_normalization_1 (Bat  (None, 109, 109, 16)      64        \n",
            " chNormalization)                                                \n",
            "                                                                 \n",
            " max_pooling2d_1 (MaxPoolin  (None, 54, 54, 16)        0         \n",
            " g2D)                                                            \n",
            "                                                                 \n",
            " flatten (Flatten)           (None, 46656)             0         \n",
            "                                                                 \n",
            " dense (Dense)               (None, 100)               4665700   \n",
            "                                                                 \n",
            " batch_normalization_2 (Bat  (None, 100)               400       \n",
            " chNormalization)                                                \n",
            "                                                                 \n",
            " dense_1 (Dense)             (None, 10)                1010      \n",
            "                                                                 \n",
            " batch_normalization_3 (Bat  (None, 10)                40        \n",
            " chNormalization)                                                \n",
            "                                                                 \n",
            " dense_2 (Dense)             (None, 1)                 11        \n",
            "                                                                 \n",
            "=================================================================\n",
            "Total params: 4668297 (17.81 MB)\n",
            "Trainable params: 4668033 (17.81 MB)\n",
            "Non-trainable params: 264 (1.03 KB)\n",
            "_________________________________________________________________\n"
          ]
        }
      ],
      "source": [
        "model = tf.keras.Sequential([\n",
        "    InputLayer(input_shape=(IM_SIZE, IM_SIZE, 3)),\n",
        "    Conv2D(filters=6, kernel_size=3, strides=1, padding='valid', activation='relu'),\n",
        "    BatchNormalization(),\n",
        "    MaxPool2D(pool_size=2, strides=2),\n",
        "    Conv2D(filters=16, kernel_size=3, strides=1, padding='valid', activation='relu'),\n",
        "    BatchNormalization(),\n",
        "    MaxPool2D(pool_size=2, strides=2),\n",
        "\n",
        "    Flatten(),\n",
        "    Dense(100, activation='relu'),\n",
        "    BatchNormalization(),\n",
        "    Dense(10, activation='relu'),\n",
        "    BatchNormalization(),\n",
        "    Dense(1, activation='sigmoid'),\n",
        "])\n",
        "\n",
        "model.summary()"
      ]
    },
    {
      "cell_type": "code",
      "execution_count": null,
      "metadata": {
        "id": "p7Gqt1nhc5dC"
      },
      "outputs": [],
      "source": [
        "model.compile(\n",
        "    optimizer=Adam(learning_rate=0.01),\n",
        "    loss=BinaryCrossentropy(),\n",
        "    metrics='accuracy'\n",
        ")"
      ]
    },
    {
      "cell_type": "code",
      "execution_count": null,
      "metadata": {
        "id": "8jLz2MSV-6jq"
      },
      "outputs": [],
      "source": [
        "from tensorflow.keras.callbacks import ModelCheckpoint, ReduceLROnPlateau"
      ]
    },
    {
      "cell_type": "code",
      "execution_count": null,
      "metadata": {
        "id": "ClZYfwsr-_i4"
      },
      "outputs": [],
      "source": [
        "# saves the best model (or best weights - depends on args)\n",
        "# It saves it every save_freq time\n",
        "checkpoint_callback = ModelCheckpoint(\n",
        "    'checkpoints/', monitor='val_loss', verbose=0, save_best_only=True,\n",
        "    save_weights_only=False, mode='auto', save_freq='epoch',\n",
        ")"
      ]
    },
    {
      "cell_type": "code",
      "execution_count": null,
      "metadata": {
        "id": "lzdpKwc-KqB2"
      },
      "outputs": [],
      "source": [
        "plateau_callback = ReduceLROnPlateau(\n",
        "    monitor='val_accuracy', factor=0.1, patience=2, verbose=1\n",
        ")"
      ]
    },
    {
      "cell_type": "code",
      "execution_count": null,
      "metadata": {
        "colab": {
          "background_save": true,
          "base_uri": "https://localhost:8080/"
        },
        "id": "UWZ8E4bRjDSo",
        "outputId": "18be8e46-ffc7-4c91-bdc6-91d507f3d47e"
      },
      "outputs": [
        {
          "name": "stdout",
          "output_type": "stream",
          "text": [
            "Epoch 1/20\n",
            "689/689 [==============================] - 96s 123ms/step - loss: 0.3449 - accuracy: 0.8429 - val_loss: 1.1733 - val_accuracy: 0.6534 - lr: 0.0100\n",
            "Epoch 2/20\n",
            "689/689 [==============================] - 54s 78ms/step - loss: 0.1997 - accuracy: 0.9335 - val_loss: 0.2188 - val_accuracy: 0.9267 - lr: 0.0100\n",
            "Epoch 3/20\n",
            "689/689 [==============================] - 44s 64ms/step - loss: 0.1843 - accuracy: 0.9398 - val_loss: 0.3676 - val_accuracy: 0.8505 - lr: 0.0100\n",
            "Epoch 4/20\n",
            "689/689 [==============================] - 44s 63ms/step - loss: 0.1633 - accuracy: 0.9495 - val_loss: 0.1975 - val_accuracy: 0.9434 - lr: 0.0100\n",
            "Epoch 5/20\n",
            "689/689 [==============================] - 51s 74ms/step - loss: 0.1522 - accuracy: 0.9522 - val_loss: 0.2050 - val_accuracy: 0.9321 - lr: 0.0100\n",
            "Epoch 6/20\n",
            "689/689 [==============================] - ETA: 0s - loss: 0.1474 - accuracy: 0.9536\n",
            "Epoch 6: ReduceLROnPlateau reducing learning rate to 0.0009999999776482583.\n",
            "689/689 [==============================] - 44s 63ms/step - loss: 0.1474 - accuracy: 0.9536 - val_loss: 0.2121 - val_accuracy: 0.9419 - lr: 0.0100\n",
            "Epoch 7/20\n",
            "689/689 [==============================] - 44s 63ms/step - loss: 0.1149 - accuracy: 0.9630 - val_loss: 0.1532 - val_accuracy: 0.9557 - lr: 1.0000e-03\n",
            "Epoch 8/20\n",
            "689/689 [==============================] - 43s 62ms/step - loss: 0.1083 - accuracy: 0.9662 - val_loss: 0.1809 - val_accuracy: 0.9543 - lr: 1.0000e-03\n",
            "Epoch 9/20\n",
            "688/689 [============================>.] - ETA: 0s - loss: 0.1031 - accuracy: 0.9673\n",
            "Epoch 9: ReduceLROnPlateau reducing learning rate to 9.999999310821295e-05.\n",
            "689/689 [==============================] - 42s 61ms/step - loss: 0.1032 - accuracy: 0.9672 - val_loss: 0.1553 - val_accuracy: 0.9528 - lr: 1.0000e-03\n",
            "Epoch 10/20\n",
            "689/689 [==============================] - 43s 62ms/step - loss: 0.0949 - accuracy: 0.9718 - val_loss: 0.1567 - val_accuracy: 0.9514 - lr: 1.0000e-04\n",
            "Epoch 11/20\n",
            "688/689 [============================>.] - ETA: 0s - loss: 0.0942 - accuracy: 0.9710\n",
            "Epoch 11: ReduceLROnPlateau reducing learning rate to 9.999999019782991e-06.\n",
            "689/689 [==============================] - 51s 74ms/step - loss: 0.0943 - accuracy: 0.9709 - val_loss: 0.1622 - val_accuracy: 0.9517 - lr: 1.0000e-04\n",
            "Epoch 12/20\n",
            "689/689 [==============================] - 50s 72ms/step - loss: 0.0946 - accuracy: 0.9708 - val_loss: 0.1599 - val_accuracy: 0.9528 - lr: 1.0000e-05\n",
            "Epoch 13/20\n",
            "689/689 [==============================] - ETA: 0s - loss: 0.0937 - accuracy: 0.9717\n",
            "Epoch 13: ReduceLROnPlateau reducing learning rate to 9.99999883788405e-07.\n",
            "689/689 [==============================] - 44s 64ms/step - loss: 0.0937 - accuracy: 0.9717 - val_loss: 0.1610 - val_accuracy: 0.9521 - lr: 1.0000e-05\n",
            "Epoch 14/20\n",
            "689/689 [==============================] - 49s 72ms/step - loss: 0.0940 - accuracy: 0.9720 - val_loss: 0.1601 - val_accuracy: 0.9510 - lr: 1.0000e-06\n",
            "Epoch 15/20\n",
            "689/689 [==============================] - ETA: 0s - loss: 0.0932 - accuracy: 0.9715\n",
            "Epoch 15: ReduceLROnPlateau reducing learning rate to 9.99999883788405e-08.\n",
            "689/689 [==============================] - 43s 62ms/step - loss: 0.0932 - accuracy: 0.9715 - val_loss: 0.1616 - val_accuracy: 0.9521 - lr: 1.0000e-06\n",
            "Epoch 16/20\n",
            "689/689 [==============================] - 42s 62ms/step - loss: 0.0929 - accuracy: 0.9717 - val_loss: 0.1616 - val_accuracy: 0.9517 - lr: 1.0000e-07\n",
            "Epoch 17/20\n",
            "689/689 [==============================] - ETA: 0s - loss: 0.0935 - accuracy: 0.9719\n",
            "Epoch 17: ReduceLROnPlateau reducing learning rate to 9.999998695775504e-09.\n",
            "689/689 [==============================] - 50s 72ms/step - loss: 0.0935 - accuracy: 0.9719 - val_loss: 0.1581 - val_accuracy: 0.9521 - lr: 1.0000e-07\n",
            "Epoch 18/20\n",
            "689/689 [==============================] - 51s 74ms/step - loss: 0.0946 - accuracy: 0.9711 - val_loss: 0.1601 - val_accuracy: 0.9528 - lr: 1.0000e-08\n",
            "Epoch 19/20\n",
            "689/689 [==============================] - ETA: 0s - loss: 0.0926 - accuracy: 0.9720\n",
            "Epoch 19: ReduceLROnPlateau reducing learning rate to 9.99999905104687e-10.\n",
            "689/689 [==============================] - 41s 60ms/step - loss: 0.0926 - accuracy: 0.9720 - val_loss: 0.1603 - val_accuracy: 0.9514 - lr: 1.0000e-08\n",
            "Epoch 20/20\n",
            "689/689 [==============================] - 49s 71ms/step - loss: 0.0917 - accuracy: 0.9724 - val_loss: 0.1588 - val_accuracy: 0.9521 - lr: 1.0000e-09\n"
          ]
        }
      ],
      "source": [
        "hist = model.fit(\n",
        "    train,\n",
        "    validation_data=val,\n",
        "    epochs=20,\n",
        "    verbose=1,\n",
        "    callbacks=[checkpoint_callback, plateau_callback]\n",
        ")"
      ]
    },
    {
      "cell_type": "code",
      "execution_count": null,
      "metadata": {
        "colab": {
          "background_save": true
        },
        "id": "-xvsJqE-5Xfl"
      },
      "outputs": [],
      "source": []
    },
    {
      "cell_type": "code",
      "execution_count": null,
      "metadata": {
        "colab": {
          "background_save": true
        },
        "id": "f4BG7utrjoCZ",
        "outputId": "049495f9-5f83-4d57-bb9e-1820e1021271"
      },
      "outputs": [
        {
          "name": "stdout",
          "output_type": "stream",
          "text": [
            "2757/2757 [==============================] - 20s 3ms/step - loss: 0.1642 - accuracy: 0.9474\n"
          ]
        },
        {
          "data": {
            "text/plain": [
              "[0.1642247885465622, 0.9474065899848938]"
            ]
          },
          "execution_count": 28,
          "metadata": {},
          "output_type": "execute_result"
        }
      ],
      "source": [
        "model.evaluate(test)"
      ]
    },
    {
      "cell_type": "code",
      "execution_count": null,
      "metadata": {
        "colab": {
          "background_save": true
        },
        "id": "ZfQYaNCe4kGY",
        "outputId": "53a242c4-3d05-4365-c1b4-9f64897ce31c"
      },
      "outputs": [
        {
          "name": "stdout",
          "output_type": "stream",
          "text": [
            "2757/2757 [==============================] - 18s 2ms/step\n"
          ]
        }
      ],
      "source": [
        "y_pred = model.predict(test)"
      ]
    },
    {
      "cell_type": "code",
      "execution_count": null,
      "metadata": {
        "colab": {
          "background_save": true
        },
        "id": "lb9ZoQ7K7EG8",
        "outputId": "fa3d5e02-684e-45fb-f2ea-b83f0421a22a"
      },
      "outputs": [
        {
          "data": {
            "text/plain": [
              "array([[0.973167  ],\n",
              "       [0.8663734 ],\n",
              "       [0.16580775],\n",
              "       ...,\n",
              "       [0.00119252],\n",
              "       [0.96617293],\n",
              "       [0.9382056 ]], dtype=float32)"
            ]
          },
          "execution_count": 30,
          "metadata": {},
          "output_type": "execute_result"
        }
      ],
      "source": [
        "y_pred"
      ]
    },
    {
      "cell_type": "code",
      "execution_count": null,
      "metadata": {
        "colab": {
          "background_save": true
        },
        "id": "FnFR46l67Jyc"
      },
      "outputs": [],
      "source": [
        "def parasite_or_not(img):\n",
        "  if img < 0.5:\n",
        "    return 'P😔'\n",
        "  else:\n",
        "    return 'U'"
      ]
    },
    {
      "cell_type": "code",
      "execution_count": null,
      "metadata": {
        "colab": {
          "background_save": true
        },
        "id": "e4E7LtK3-np7",
        "outputId": "b18a7152-0720-4082-d5d3-a2026e2eec4f"
      },
      "outputs": [
        {
          "data": {
            "text/plain": [
              "array([[0.973167  ],\n",
              "       [0.8663734 ],\n",
              "       [0.16580775],\n",
              "       ...,\n",
              "       [0.00119252],\n",
              "       [0.96617293],\n",
              "       [0.9382056 ]], dtype=float32)"
            ]
          },
          "execution_count": 32,
          "metadata": {},
          "output_type": "execute_result"
        }
      ],
      "source": [
        "y_pred"
      ]
    },
    {
      "cell_type": "code",
      "execution_count": null,
      "metadata": {
        "colab": {
          "background_save": true
        },
        "id": "BIZJra4N7pNZ"
      },
      "outputs": [],
      "source": [
        "result_labels = []\n",
        "\n",
        "for i in y_pred:\n",
        "  result_labels.append(parasite_or_not(i[0]))"
      ]
    },
    {
      "cell_type": "code",
      "execution_count": null,
      "metadata": {
        "colab": {
          "background_save": true
        },
        "id": "KOV23_8R78EG",
        "outputId": "44c4ea76-4cc3-4fd6-d5c7-d3c5180539ac"
      },
      "outputs": [
        {
          "data": {
            "text/plain": [
              "['U', 'U', 'P😔', 'P😔', 'P😔']"
            ]
          },
          "execution_count": 34,
          "metadata": {},
          "output_type": "execute_result"
        }
      ],
      "source": [
        "result_labels[:5]"
      ]
    },
    {
      "cell_type": "code",
      "execution_count": null,
      "metadata": {
        "colab": {
          "background_save": true
        },
        "id": "JXJKc_7u97B0",
        "outputId": "a4d53774-5b1b-4663-b787-3ed4cb2b9a46"
      },
      "outputs": [
        {
          "data": {
            "text/plain": [
              "2757"
            ]
          },
          "execution_count": 35,
          "metadata": {},
          "output_type": "execute_result"
        }
      ],
      "source": [
        "len(result_labels)"
      ]
    },
    {
      "cell_type": "code",
      "execution_count": null,
      "metadata": {
        "colab": {
          "background_save": true
        },
        "id": "piUQC9F379IU",
        "outputId": "ab0b1bb5-4e2c-4ef9-fb5e-1e4abcba64df"
      },
      "outputs": [
        {
          "data": {
            "image/png": "[encoded data removed]",
            "text/plain": [
              "<Figure size 640x480 with 9 Axes>"
            ]
          },
          "metadata": {},
          "output_type": "display_data"
        }
      ],
      "source": [
        "for i, (img, label) in enumerate(test.take(9)):\n",
        "  ax = plt.subplot(3, 3, i + 1)\n",
        "  plt.axis('off')\n",
        "  plt.title(f'{parasite_or_not(label.numpy()[0])} : {str(result_labels[i])}')\n",
        "  plt.imshow(img[0]);"
      ]
    },
    {
      "cell_type": "markdown",
      "metadata": {
        "id": "Hh9Il0MLrJfY"
      },
      "source": [
        "# **PROTECT MODEL FROM OVERFITTING**"
      ]
    },
    {
      "cell_type": "code",
      "execution_count": null,
      "metadata": {
        "colab": {
          "background_save": true
        },
        "id": "XM-prJBwrJQT"
      },
      "outputs": [],
      "source": [
        "from tensorflow.keras.regularizers import L2\n",
        "from tensorflow.keras.layers import Dropout"
      ]
    },
    {
      "cell_type": "code",
      "execution_count": null,
      "metadata": {
        "colab": {
          "background_save": true
        },
        "id": "0NkswwMJrbuk",
        "outputId": "cc25530a-c709-4930-ab73-870155a026c8"
      },
      "outputs": [
        {
          "name": "stdout",
          "output_type": "stream",
          "text": [
            "Model: \"sequential_1\"\n",
            "_________________________________________________________________\n",
            " Layer (type)                Output Shape              Param #   \n",
            "=================================================================\n",
            " conv2d_2 (Conv2D)           (None, 222, 222, 6)       168       \n",
            "                                                                 \n",
            " batch_normalization_4 (Bat  (None, 222, 222, 6)       24        \n",
            " chNormalization)                                                \n",
            "                                                                 \n",
            " dropout (Dropout)           (None, 222, 222, 6)       0         \n",
            "                                                                 \n",
            " max_pooling2d_2 (MaxPoolin  (None, 111, 111, 6)       0         \n",
            " g2D)                                                            \n",
            "                                                                 \n",
            " conv2d_3 (Conv2D)           (None, 109, 109, 16)      880       \n",
            "                                                                 \n",
            " batch_normalization_5 (Bat  (None, 109, 109, 16)      64        \n",
            " chNormalization)                                                \n",
            "                                                                 \n",
            " dropout_1 (Dropout)         (None, 109, 109, 16)      0         \n",
            "                                                                 \n",
            " max_pooling2d_3 (MaxPoolin  (None, 54, 54, 16)        0         \n",
            " g2D)                                                            \n",
            "                                                                 \n",
            " flatten_1 (Flatten)         (None, 46656)             0         \n",
            "                                                                 \n",
            " dense_3 (Dense)             (None, 100)               4665700   \n",
            "                                                                 \n",
            " dropout_2 (Dropout)         (None, 100)               0         \n",
            "                                                                 \n",
            " batch_normalization_6 (Bat  (None, 100)               400       \n",
            " chNormalization)                                                \n",
            "                                                                 \n",
            " dense_4 (Dense)             (None, 10)                1010      \n",
            "                                                                 \n",
            " dropout_3 (Dropout)         (None, 10)                0         \n",
            "                                                                 \n",
            " batch_normalization_7 (Bat  (None, 10)                40        \n",
            " chNormalization)                                                \n",
            "                                                                 \n",
            " dense_5 (Dense)             (None, 1)                 11        \n",
            "                                                                 \n",
            "=================================================================\n",
            "Total params: 4668297 (17.81 MB)\n",
            "Trainable params: 4668033 (17.81 MB)\n",
            "Non-trainable params: 264 (1.03 KB)\n",
            "_________________________________________________________________\n"
          ]
        }
      ],
      "source": [
        "dropout_rate = 0.3\n",
        "regularizer_coef = 0.01\n",
        "model = tf.keras.Sequential([\n",
        "    InputLayer(input_shape=(IM_SIZE, IM_SIZE, 3)),\n",
        "    Conv2D(filters=6, kernel_size=3, strides=1, padding='valid', activation='relu', kernel_regularizer=L2(regularizer_coef)),\n",
        "    BatchNormalization(),\n",
        "    Dropout(dropout_rate),\n",
        "    MaxPool2D(pool_size=2, strides=2),\n",
        "    Conv2D(filters=16, kernel_size=3, strides=1, padding='valid', activation='relu', kernel_regularizer=L2(regularizer_coef)),\n",
        "    BatchNormalization(),\n",
        "    Dropout(dropout_rate),\n",
        "    MaxPool2D(pool_size=2, strides=2),\n",
        "\n",
        "    Flatten(),\n",
        "    Dense(100, activation='relu', kernel_regularizer=L2(regularizer_coef)),\n",
        "    Dropout(dropout_rate),\n",
        "    BatchNormalization(),\n",
        "    Dense(10, activation='relu', kernel_regularizer=L2(regularizer_coef)),\n",
        "    Dropout(dropout_rate),\n",
        "    BatchNormalization(),\n",
        "    Dense(1, activation='sigmoid'),\n",
        "])\n",
        "\n",
        "model.summary()"
      ]
    },
    {
      "cell_type": "code",
      "execution_count": null,
      "metadata": {
        "colab": {
          "background_save": true
        },
        "id": "TPzOMYxowqAJ"
      },
      "outputs": [],
      "source": [
        "model.compile(\n",
        "    optimizer=Adam(learning_rate=0.01),\n",
        "    loss=BinaryCrossentropy(),\n",
        "    metrics='accuracy'\n",
        ")"
      ]
    },
    {
      "cell_type": "code",
      "execution_count": null,
      "metadata": {
        "id": "DkrupXrHsC_6"
      },
      "outputs": [],
      "source": [
        "hist = model.fit(\n",
        "    train,\n",
        "    validation_data=val,\n",
        "    epochs=20,\n",
        "    verbose=1,\n",
        "    callbacks=[checkpoint_callback, plateau_callback]\n",
        ")"
      ]
    },
    {
      "cell_type": "markdown",
      "metadata": {
        "id": "B7535qOf7Ccg"
      },
      "source": [
        "# **BUT LET'S MAKE IT EVEN BETTER, BY APPLYING DATA AUGMENTATION**"
      ]
    },
    {
      "cell_type": "code",
      "execution_count": null,
      "metadata": {
        "id": "UH-iatk97NcR"
      },
      "outputs": [],
      "source": [
        "def visualize_diff(image, augmented_img):\n",
        "  plt.subplot(1, 2, 1)\n",
        "  plt.title('Original Image: ')\n",
        "  plt.imshow(image);\n",
        "\n",
        "  plt.subplot(1, 2, 2)\n",
        "  plt.title('Augmented Image: ')\n",
        "  plt.imshow(augmented_img);"
      ]
    },
    {
      "cell_type": "code",
      "execution_count": null,
      "metadata": {
        "id": "KaLXxKPq7t3s"
      },
      "outputs": [],
      "source": [
        "or_image, lbl = next(iter(train))\n",
        "augmented_img = tf.image.flip_left_right(or_image)"
      ]
    },
    {
      "cell_type": "code",
      "execution_count": null,
      "metadata": {
        "id": "FiIzKzTn86pr"
      },
      "outputs": [],
      "source": [
        "visualize_diff(or_image[0], augmented_img[0])"
      ]
    },
    {
      "cell_type": "code",
      "execution_count": null,
      "metadata": {
        "id": "l0Qw96zD_FCs"
      },
      "outputs": [],
      "source": []
    },
    {
      "cell_type": "code",
      "execution_count": null,
      "metadata": {
        "id": "jasmUrv4_FKZ"
      },
      "outputs": [],
      "source": [
        "or_image, lbl = next(iter(train))\n",
        "augmented_img = tf.image.rot90(or_image)"
      ]
    },
    {
      "cell_type": "code",
      "execution_count": null,
      "metadata": {
        "id": "6HOlxdJL_FKa"
      },
      "outputs": [],
      "source": [
        "visualize_diff(or_image[0], augmented_img[0])"
      ]
    },
    {
      "cell_type": "code",
      "execution_count": null,
      "metadata": {
        "id": "ME0Zewze_fyF"
      },
      "outputs": [],
      "source": []
    },
    {
      "cell_type": "code",
      "execution_count": null,
      "metadata": {
        "id": "CHAUlkLz_ike"
      },
      "outputs": [],
      "source": [
        "# 50% crop\n",
        "or_image, lbl = next(iter(train))\n",
        "augmented_img = tf.image.central_crop(or_image, 0.5)"
      ]
    },
    {
      "cell_type": "code",
      "execution_count": null,
      "metadata": {
        "id": "i1KAyH1c_ik1"
      },
      "outputs": [],
      "source": [
        "visualize_diff(or_image[0], augmented_img[0])"
      ]
    },
    {
      "cell_type": "code",
      "execution_count": null,
      "metadata": {
        "id": "brJvRFEnAlq7"
      },
      "outputs": [],
      "source": []
    },
    {
      "cell_type": "code",
      "execution_count": null,
      "metadata": {
        "id": "xN055HSJAnr2"
      },
      "outputs": [],
      "source": [
        "# 80% brightness adjustment\n",
        "or_image, lbl = next(iter(train))\n",
        "augmented_img = tf.image.adjust_brightness(or_image, 0.8)"
      ]
    },
    {
      "cell_type": "code",
      "execution_count": null,
      "metadata": {
        "id": "72xUBQZUAnsJ"
      },
      "outputs": [],
      "source": [
        "visualize_diff(or_image[0], augmented_img[0])"
      ]
    },
    {
      "cell_type": "code",
      "execution_count": null,
      "metadata": {
        "id": "iPwx-pDhA1be"
      },
      "outputs": [],
      "source": []
    },
    {
      "cell_type": "code",
      "execution_count": null,
      "metadata": {
        "id": "Zlu4s3kYA1iv"
      },
      "outputs": [],
      "source": [
        "or_image, lbl = next(iter(train))\n",
        "augmented_img = tf.image.random_saturation(or_image, lower=2, upper=12)"
      ]
    },
    {
      "cell_type": "code",
      "execution_count": null,
      "metadata": {
        "id": "Rf7U-sH8A1iw"
      },
      "outputs": [],
      "source": [
        "visualize_diff(or_image[0], augmented_img[0])"
      ]
    },
    {
      "cell_type": "code",
      "execution_count": null,
      "metadata": {
        "id": "D49LHVKlCfcV"
      },
      "outputs": [],
      "source": [
        "def augment(img, lbl):\n",
        "  img, lbl = resize_rescale(img, lbl)\n",
        "  img = tf.image.rot90(img)\n",
        "  img = tf.image.adjust_saturation(img, saturation_factor=0.3)\n",
        "  img = tf.image.flip_left_right(img)\n",
        "\n",
        "  return img, lbl"
      ]
    },
    {
      "cell_type": "code",
      "execution_count": null,
      "metadata": {
        "id": "ltIK4anlDcAL"
      },
      "outputs": [],
      "source": [
        "train, test, val = split_dataset(dataset[0], 0.8, 0.1, 0.1)"
      ]
    },
    {
      "cell_type": "code",
      "execution_count": null,
      "metadata": {
        "id": "jp062aAXEiJ0"
      },
      "outputs": [],
      "source": [
        "test = test.map(resize_rescale)"
      ]
    },
    {
      "cell_type": "code",
      "execution_count": null,
      "metadata": {
        "id": "DxOV18DLCXsJ"
      },
      "outputs": [],
      "source": [
        "train = (train\n",
        "    .shuffle(buffer_size=9, reshuffle_each_iteration=True)\n",
        "    .map(augment)\n",
        "    .batch(32)\n",
        "    .prefetch(tf.data.AUTOTUNE)\n",
        ")\n",
        "\n",
        "val = (val\n",
        "    .shuffle(buffer_size=9, reshuffle_each_iteration=True)\n",
        "    .map(resize_rescale)\n",
        "    .batch(32)\n",
        "    .prefetch(tf.data.AUTOTUNE)\n",
        ")\n",
        "test = test.shuffle(buffer_size=9, reshuffle_each_iteration=True).batch(1).prefetch(tf.data.AUTOTUNE)"
      ]
    },
    {
      "cell_type": "markdown",
      "metadata": {
        "id": "GdzzpRnEDHn6"
      },
      "source": [
        "# **FUNCTIONAL API**"
      ]
    },
    {
      "cell_type": "code",
      "execution_count": null,
      "metadata": {
        "id": "Nq6OyhIHLVys"
      },
      "outputs": [],
      "source": [
        "# I commented this section cuz it's kinda useless in this code\n",
        "# But sometimes it's very useful\n",
        "# So it's here anyway"
      ]
    },
    {
      "cell_type": "code",
      "execution_count": null,
      "metadata": {
        "id": "mEDw4qm0AQG4"
      },
      "outputs": [],
      "source": [
        "# from tensorflow.keras.layers import Input\n",
        "# from tensorflow.keras.models import Model"
      ]
    },
    {
      "cell_type": "code",
      "execution_count": null,
      "metadata": {
        "id": "xB7_HXtUD4__"
      },
      "outputs": [],
      "source": [
        "# func_input = Input(shape=(IM_SIZE, IM_SIZE, 3), name='lenet model')\n",
        "\n",
        "# x = Conv2D(filters=6, kernel_size=3, strides=1, padding='valid', activation='relu')(func_input)\n",
        "# x = BatchNormalization()(x)\n",
        "# x = MaxPool2D(pool_size=2, strides=2)(x)\n",
        "# x = Conv2D(filters=16, kernel_size=3, strides=1, padding='valid', activation='relu')(x)\n",
        "# x = BatchNormalization()(x)\n",
        "# x = MaxPool2D(pool_size=2, strides=2)(x)\n",
        "\n",
        "# x = Flatten()(x)\n",
        "# x = Dense(100, activation='relu')(x)\n",
        "# x = BatchNormalization()(x)\n",
        "# x = Dense(10, activation='relu')(x)\n",
        "# x = BatchNormalization()(x)\n",
        "# func_output = Dense(1, activation='sigmoid')(x)\n",
        "\n",
        "# model = Model(func_input, func_output, name='lenet model')"
      ]
    },
    {
      "cell_type": "code",
      "execution_count": null,
      "metadata": {
        "id": "tgqIx-WaD49g"
      },
      "outputs": [],
      "source": [
        "# model.summary()"
      ]
    },
    {
      "cell_type": "code",
      "execution_count": null,
      "metadata": {
        "id": "0BPi5sx2D46y"
      },
      "outputs": [],
      "source": [
        "# func_input = Input(shape=(IM_SIZE, IM_SIZE, 3), name='features_extr')\n",
        "\n",
        "# x = Conv2D(filters=6, kernel_size=3, strides=1, padding='valid', activation='relu')(func_input)\n",
        "# x = BatchNormalization()(x)\n",
        "# x = MaxPool2D(pool_size=2, strides=2)(x)\n",
        "# x = Conv2D(filters=16, kernel_size=3, strides=1, padding='valid', activation='relu')(x)\n",
        "# x = BatchNormalization()(x)\n",
        "# output = MaxPool2D(pool_size=2, strides=2)(x)\n",
        "\n",
        "\n",
        "# feature_extractor = Model(func_input, output, name='features_extr')"
      ]
    },
    {
      "cell_type": "code",
      "execution_count": null,
      "metadata": {
        "id": "m7nX33tAD4vE"
      },
      "outputs": [],
      "source": [
        "# func_input = Input(shape=(IM_SIZE, IM_SIZE, 3), name='lenet model')\n",
        "\n",
        "# x = feature_extractor(func_input)\n",
        "\n",
        "# x = Flatten()(x)\n",
        "# x = Dense(100, activation='relu')(x)\n",
        "# x = BatchNormalization()(x)\n",
        "# x = Dense(10, activation='relu')(x)\n",
        "# x = BatchNormalization()(x)\n",
        "# func_output = Dense(1, activation='sigmoid')(x)\n",
        "\n",
        "# model = Model(func_input, func_output, name='lenet model')"
      ]
    },
    {
      "cell_type": "code",
      "execution_count": null,
      "metadata": {
        "id": "p1QFy4ToHBe0"
      },
      "outputs": [],
      "source": [
        "# model.summary()"
      ]
    },
    {
      "cell_type": "code",
      "execution_count": null,
      "metadata": {
        "id": "H37ElEWCKKNA"
      },
      "outputs": [],
      "source": [
        "\"\"\"x = Conv2D(filters=6, kernel_size=3, strides=1, padding='valid', activation='relu')(func_input)\n",
        "x = BatchNormalization()(x)\n",
        "x = MaxPool2D(pool_size=2, strides=2)(x)\n",
        "x = Conv2D(filters=16, kernel_size=3, strides=1, padding='valid', activation='relu')(x)\n",
        "x = BatchNormalization()(x)\n",
        "output = MaxPool2D(pool_size=2, strides=2)(x)\"\"\""
      ]
    },
    {
      "cell_type": "code",
      "execution_count": null,
      "metadata": {
        "id": "A9QmzCRxK1qa"
      },
      "outputs": [],
      "source": [
        "# from tensorflow.keras.layers import Layer"
      ]
    },
    {
      "cell_type": "code",
      "execution_count": null,
      "metadata": {
        "id": "E_mQDwtWJPYd"
      },
      "outputs": [],
      "source": [
        "# class FeatureExtractor(Layer):\n",
        "#   def __init__(self, filters, kernel_size, strides, padding, activation, pool_size):\n",
        "#     super(FeatureExtractor, self).__init__()\n",
        "\n",
        "#     self.conv_1 = Conv2D(filters=filters, kernel_size=kernel_size, strides=strides, padding=padding, activation=activation)\n",
        "#     self.batch_1 = BatchNormalization()\n",
        "#     self.pool_1 = MaxPool2D(pool_size, strides * 2)\n",
        "#     self.conv_2 = Conv2D(filters=filters * 2, kernel_size=kernel_size, strides=strides, padding=padding, activation=activation)\n",
        "#     self.batch_2 = BatchNormalization()\n",
        "#     self.pool_2 = MaxPool2D(pool_size, strides * 2)\n",
        "#   def call(self, x):\n",
        "#     x = self.conv_1(x)\n",
        "#     x = self.batch_1(x)\n",
        "#     x = self.pool_1(x)\n",
        "#     x = self.conv_2(x)\n",
        "#     x = self.batch_2(x)\n",
        "#     x = self.pool_2(x)\n",
        "\n",
        "#     return x\n",
        "\n",
        "\n",
        "# feature_sub_clssd = FeatureExtractor(8, 3, 1, 'valid', 'relu', 2)"
      ]
    },
    {
      "cell_type": "code",
      "execution_count": null,
      "metadata": {
        "id": "Vk6y4rz7NmV2"
      },
      "outputs": [],
      "source": [
        "# class Lenet(Model):\n",
        "#   def __init__(self, activation, output_activation):\n",
        "#     super(Lenet, self).__init__()\n",
        "#     self.feature_extractor = feature_sub_clssd\n",
        "\n",
        "#     self.dense_1 = Dense(100, activation=activation)\n",
        "#     self.flatten = Flatten()\n",
        "#     self.batch = BatchNormalization()\n",
        "#     self.dense_2 = Dense(10, activation=activation)\n",
        "#     self.batch_2 = BatchNormalization()\n",
        "#     self.dense_3 = Dense(1, activation=output_activation)\n",
        "\n",
        "#   def call(self, x):\n",
        "\n",
        "#     \"\"\"\n",
        "#     x = Flatten()(x)\n",
        "#     x = Dense(100, activation='relu')(x)\n",
        "#     x = BatchNormalization()(x)\n",
        "#     x = Dense(10, activation='relu')(x)\n",
        "#     x = BatchNormalization()(x)\n",
        "#     func_output = Dense(1, activation='sigmoid')(x)\n",
        "#     \"\"\"\n",
        "#     x = self.flatten(x)\n",
        "#     x = self.dense_1(x)\n",
        "#     x = self.batch(x)\n",
        "#     x = self.dense_2(x)\n",
        "#     x = self.batch_2(x)\n",
        "#     x = self.dense_3(x)\n",
        "\n",
        "#     return x\n",
        "\n",
        "# lenet = Lenet('relu', 'sigmoid')\n",
        "# lenet(tf.zeros([1, 224, 224, 3]))\n",
        "# lenet.summary()"
      ]
    },
    {
      "cell_type": "code",
      "execution_count": null,
      "metadata": {
        "id": "FgDxgQhaPbkJ"
      },
      "outputs": [],
      "source": [
        "# lenet.compile(\n",
        "#     optimizer=Adam(learning_rate=0.01),\n",
        "#     loss='categorical_crossentropy',\n",
        "#     metrics='accuracy'\n",
        "# )"
      ]
    },
    {
      "cell_type": "code",
      "execution_count": null,
      "metadata": {
        "id": "bMqTD8g1PRXG"
      },
      "outputs": [],
      "source": [
        "# hist = lenet.fit(\n",
        "#     train,\n",
        "#     validation_data=val,\n",
        "#     epochs=20,\n",
        "#     verbose=1\n",
        "# )"
      ]
    },
    {
      "cell_type": "markdown",
      "metadata": {
        "id": "gLYmir2SA7S6"
      },
      "source": [
        "<img src='https://media.tenor.com/u56nhKZD24AAAAAi/catkiss-cat.gif'>\n",
        "<img src='https://media.tenor.com/u56nhKZD24AAAAAi/catkiss-cat.gif'>\n",
        "<img src='https://media.tenor.com/u56nhKZD24AAAAAi/catkiss-cat.gif'>"
      ]
    }
  ],
  "metadata": {
    "accelerator": "GPU",
    "colab": {
      "provenance": []
    },
    "kernelspec": {
      "display_name": "Python 3",
      "name": "python3"
    },
    "language_info": {
      "name": "python"
    },
    "widgets": {
      "application/vnd.jupyter.widget-state+json": {
        "005af54e8a1f408fa42870ea36063cac": {
          "model_module": "@jupyter-widgets/base",
          "model_module_version": "1.2.0",
          "model_name": "LayoutModel",
          "state": {
            "_model_module": "@jupyter-widgets/base",
            "_model_module_version": "1.2.0",
            "_model_name": "LayoutModel",
            "_view_count": null,
            "_view_module": "@jupyter-widgets/base",
            "_view_module_version": "1.2.0",
            "_view_name": "LayoutView",
            "align_content": null,
            "align_items": null,
            "align_self": null,
            "border": null,
            "bottom": null,
            "display": null,
            "flex": null,
            "flex_flow": null,
            "grid_area": null,
            "grid_auto_columns": null,
            "grid_auto_flow": null,
            "grid_auto_rows": null,
            "grid_column": null,
            "grid_gap": null,
            "grid_row": null,
            "grid_template_areas": null,
            "grid_template_columns": null,
            "grid_template_rows": null,
            "height": null,
            "justify_content": null,
            "justify_items": null,
            "left": null,
            "margin": null,
            "max_height": null,
            "max_width": null,
            "min_height": null,
            "min_width": null,
            "object_fit": null,
            "object_position": null,
            "order": null,
            "overflow": null,
            "overflow_x": null,
            "overflow_y": null,
            "padding": null,
            "right": null,
            "top": null,
            "visibility": null,
            "width": null
          }
        },
        "01a6b3daf6ba4b2c8ab01205baa013cf": {
          "model_module": "@jupyter-widgets/base",
          "model_module_version": "1.2.0",
          "model_name": "LayoutModel",
          "state": {
            "_model_module": "@jupyter-widgets/base",
            "_model_module_version": "1.2.0",
            "_model_name": "LayoutModel",
            "_view_count": null,
            "_view_module": "@jupyter-widgets/base",
            "_view_module_version": "1.2.0",
            "_view_name": "LayoutView",
            "align_content": null,
            "align_items": null,
            "align_self": null,
            "border": null,
            "bottom": null,
            "display": null,
            "flex": null,
            "flex_flow": null,
            "grid_area": null,
            "grid_auto_columns": null,
            "grid_auto_flow": null,
            "grid_auto_rows": null,
            "grid_column": null,
            "grid_gap": null,
            "grid_row": null,
            "grid_template_areas": null,
            "grid_template_columns": null,
            "grid_template_rows": null,
            "height": null,
            "justify_content": null,
            "justify_items": null,
            "left": null,
            "margin": null,
            "max_height": null,
            "max_width": null,
            "min_height": null,
            "min_width": null,
            "object_fit": null,
            "object_position": null,
            "order": null,
            "overflow": null,
            "overflow_x": null,
            "overflow_y": null,
            "padding": null,
            "right": null,
            "top": null,
            "visibility": null,
            "width": "20px"
          }
        },
        "0ac9b4233a0143b988356c9b93942b0a": {
          "model_module": "@jupyter-widgets/controls",
          "model_module_version": "1.5.0",
          "model_name": "HTMLModel",
          "state": {
            "_dom_classes": [],
            "_model_module": "@jupyter-widgets/controls",
            "_model_module_version": "1.5.0",
            "_model_name": "HTMLModel",
            "_view_count": null,
            "_view_module": "@jupyter-widgets/controls",
            "_view_module_version": "1.5.0",
            "_view_name": "HTMLView",
            "description": "",
            "description_tooltip": null,
            "layout": "IPY_MODEL_d85b3cda5da5420ab45618b15bd4c4e9",
            "placeholder": "​",
            "style": "IPY_MODEL_2b0c69d76b9142feb6691f9a18a65718",
            "value": " 1/1 [02:23&lt;00:00,  3.87 url/s]"
          }
        },
        "0dfa402c2ae2427b89dc5b53dc34c09f": {
          "model_module": "@jupyter-widgets/controls",
          "model_module_version": "1.5.0",
          "model_name": "DescriptionStyleModel",
          "state": {
            "_model_module": "@jupyter-widgets/controls",
            "_model_module_version": "1.5.0",
            "_model_name": "DescriptionStyleModel",
            "_view_count": null,
            "_view_module": "@jupyter-widgets/base",
            "_view_module_version": "1.2.0",
            "_view_name": "StyleView",
            "description_width": ""
          }
        },
        "11bb8e8293b242aa9e880bf9cffdb3e3": {
          "model_module": "@jupyter-widgets/controls",
          "model_module_version": "1.5.0",
          "model_name": "FloatProgressModel",
          "state": {
            "_dom_classes": [],
            "_model_module": "@jupyter-widgets/controls",
            "_model_module_version": "1.5.0",
            "_model_name": "FloatProgressModel",
            "_view_count": null,
            "_view_module": "@jupyter-widgets/controls",
            "_view_module_version": "1.5.0",
            "_view_name": "ProgressView",
            "bar_style": "",
            "description": "",
            "description_tooltip": null,
            "layout": "IPY_MODEL_f2dad8759258420dae189e918b44b11e",
            "max": 27558,
            "min": 0,
            "orientation": "horizontal",
            "style": "IPY_MODEL_b14da88580b64d928a132ad8e63299b2",
            "value": 27558
          }
        },
        "1400e85c9879444c9ae9ce5249c3f9f6": {
          "model_module": "@jupyter-widgets/base",
          "model_module_version": "1.2.0",
          "model_name": "LayoutModel",
          "state": {
            "_model_module": "@jupyter-widgets/base",
            "_model_module_version": "1.2.0",
            "_model_name": "LayoutModel",
            "_view_count": null,
            "_view_module": "@jupyter-widgets/base",
            "_view_module_version": "1.2.0",
            "_view_name": "LayoutView",
            "align_content": null,
            "align_items": null,
            "align_self": null,
            "border": null,
            "bottom": null,
            "display": null,
            "flex": null,
            "flex_flow": null,
            "grid_area": null,
            "grid_auto_columns": null,
            "grid_auto_flow": null,
            "grid_auto_rows": null,
            "grid_column": null,
            "grid_gap": null,
            "grid_row": null,
            "grid_template_areas": null,
            "grid_template_columns": null,
            "grid_template_rows": null,
            "height": null,
            "justify_content": null,
            "justify_items": null,
            "left": null,
            "margin": null,
            "max_height": null,
            "max_width": null,
            "min_height": null,
            "min_width": null,
            "object_fit": null,
            "object_position": null,
            "order": null,
            "overflow": null,
            "overflow_x": null,
            "overflow_y": null,
            "padding": null,
            "right": null,
            "top": null,
            "visibility": null,
            "width": null
          }
        },
        "16806f1eacb649ba85652314706b7461": {
          "model_module": "@jupyter-widgets/controls",
          "model_module_version": "1.5.0",
          "model_name": "HTMLModel",
          "state": {
            "_dom_classes": [],
            "_model_module": "@jupyter-widgets/controls",
            "_model_module_version": "1.5.0",
            "_model_name": "HTMLModel",
            "_view_count": null,
            "_view_module": "@jupyter-widgets/controls",
            "_view_module_version": "1.5.0",
            "_view_name": "HTMLView",
            "description": "",
            "description_tooltip": null,
            "layout": "IPY_MODEL_a389184aa79642c7bf15b348ce9b8ba6",
            "placeholder": "​",
            "style": "IPY_MODEL_0dfa402c2ae2427b89dc5b53dc34c09f",
            "value": "Shuffling /root/tensorflow_datasets/malaria/1.0.0.incomplete31Y546/malaria-train.tfrecord*...:  92%"
          }
        },
        "26cbc0f3aeaa42099db970cc235e2a58": {
          "model_module": "@jupyter-widgets/controls",
          "model_module_version": "1.5.0",
          "model_name": "HTMLModel",
          "state": {
            "_dom_classes": [],
            "_model_module": "@jupyter-widgets/controls",
            "_model_module_version": "1.5.0",
            "_model_name": "HTMLModel",
            "_view_count": null,
            "_view_module": "@jupyter-widgets/controls",
            "_view_module_version": "1.5.0",
            "_view_name": "HTMLView",
            "description": "",
            "description_tooltip": null,
            "layout": "IPY_MODEL_6c21cacf3ad546548b412bd91023c7ea",
            "placeholder": "​",
            "style": "IPY_MODEL_408f6ae60ccf4c5396b7f492743cecf1",
            "value": " 353452851/353452851 [02:23&lt;00:00, 1927941523.77 MiB/s]"
          }
        },
        "2b0c69d76b9142feb6691f9a18a65718": {
          "model_module": "@jupyter-widgets/controls",
          "model_module_version": "1.5.0",
          "model_name": "DescriptionStyleModel",
          "state": {
            "_model_module": "@jupyter-widgets/controls",
            "_model_module_version": "1.5.0",
            "_model_name": "DescriptionStyleModel",
            "_view_count": null,
            "_view_module": "@jupyter-widgets/base",
            "_view_module_version": "1.2.0",
            "_view_name": "StyleView",
            "description_width": ""
          }
        },
        "2c3dd23ac90746ea9c72a21dc359c45e": {
          "model_module": "@jupyter-widgets/controls",
          "model_module_version": "1.5.0",
          "model_name": "DescriptionStyleModel",
          "state": {
            "_model_module": "@jupyter-widgets/controls",
            "_model_module_version": "1.5.0",
            "_model_name": "DescriptionStyleModel",
            "_view_count": null,
            "_view_module": "@jupyter-widgets/base",
            "_view_module_version": "1.2.0",
            "_view_name": "StyleView",
            "description_width": ""
          }
        },
        "2d5a998a2ac94597b83e70a0799d8ea9": {
          "model_module": "@jupyter-widgets/controls",
          "model_module_version": "1.5.0",
          "model_name": "DescriptionStyleModel",
          "state": {
            "_model_module": "@jupyter-widgets/controls",
            "_model_module_version": "1.5.0",
            "_model_name": "DescriptionStyleModel",
            "_view_count": null,
            "_view_module": "@jupyter-widgets/base",
            "_view_module_version": "1.2.0",
            "_view_name": "StyleView",
            "description_width": ""
          }
        },
        "34741febf9644022925611867a1f05b3": {
          "model_module": "@jupyter-widgets/controls",
          "model_module_version": "1.5.0",
          "model_name": "ProgressStyleModel",
          "state": {
            "_model_module": "@jupyter-widgets/controls",
            "_model_module_version": "1.5.0",
            "_model_name": "ProgressStyleModel",
            "_view_count": null,
            "_view_module": "@jupyter-widgets/base",
            "_view_module_version": "1.2.0",
            "_view_name": "StyleView",
            "bar_color": null,
            "description_width": ""
          }
        },
        "3a79446963aa43f8a6621bb802bad0f0": {
          "model_module": "@jupyter-widgets/base",
          "model_module_version": "1.2.0",
          "model_name": "LayoutModel",
          "state": {
            "_model_module": "@jupyter-widgets/base",
            "_model_module_version": "1.2.0",
            "_model_name": "LayoutModel",
            "_view_count": null,
            "_view_module": "@jupyter-widgets/base",
            "_view_module_version": "1.2.0",
            "_view_name": "LayoutView",
            "align_content": null,
            "align_items": null,
            "align_self": null,
            "border": null,
            "bottom": null,
            "display": null,
            "flex": null,
            "flex_flow": null,
            "grid_area": null,
            "grid_auto_columns": null,
            "grid_auto_flow": null,
            "grid_auto_rows": null,
            "grid_column": null,
            "grid_gap": null,
            "grid_row": null,
            "grid_template_areas": null,
            "grid_template_columns": null,
            "grid_template_rows": null,
            "height": null,
            "justify_content": null,
            "justify_items": null,
            "left": null,
            "margin": null,
            "max_height": null,
            "max_width": null,
            "min_height": null,
            "min_width": null,
            "object_fit": null,
            "object_position": null,
            "order": null,
            "overflow": null,
            "overflow_x": null,
            "overflow_y": null,
            "padding": null,
            "right": null,
            "top": null,
            "visibility": "hidden",
            "width": null
          }
        },
        "3de3d82484e94dc9b330f9be6208dd0f": {
          "model_module": "@jupyter-widgets/base",
          "model_module_version": "1.2.0",
          "model_name": "LayoutModel",
          "state": {
            "_model_module": "@jupyter-widgets/base",
            "_model_module_version": "1.2.0",
            "_model_name": "LayoutModel",
            "_view_count": null,
            "_view_module": "@jupyter-widgets/base",
            "_view_module_version": "1.2.0",
            "_view_name": "LayoutView",
            "align_content": null,
            "align_items": null,
            "align_self": null,
            "border": null,
            "bottom": null,
            "display": null,
            "flex": null,
            "flex_flow": null,
            "grid_area": null,
            "grid_auto_columns": null,
            "grid_auto_flow": null,
            "grid_auto_rows": null,
            "grid_column": null,
            "grid_gap": null,
            "grid_row": null,
            "grid_template_areas": null,
            "grid_template_columns": null,
            "grid_template_rows": null,
            "height": null,
            "justify_content": null,
            "justify_items": null,
            "left": null,
            "margin": null,
            "max_height": null,
            "max_width": null,
            "min_height": null,
            "min_width": null,
            "object_fit": null,
            "object_position": null,
            "order": null,
            "overflow": null,
            "overflow_x": null,
            "overflow_y": null,
            "padding": null,
            "right": null,
            "top": null,
            "visibility": null,
            "width": null
          }
        },
        "408f6ae60ccf4c5396b7f492743cecf1": {
          "model_module": "@jupyter-widgets/controls",
          "model_module_version": "1.5.0",
          "model_name": "DescriptionStyleModel",
          "state": {
            "_model_module": "@jupyter-widgets/controls",
            "_model_module_version": "1.5.0",
            "_model_name": "DescriptionStyleModel",
            "_view_count": null,
            "_view_module": "@jupyter-widgets/base",
            "_view_module_version": "1.2.0",
            "_view_name": "StyleView",
            "description_width": ""
          }
        },
        "45c4fd6dc17544f4a8b1c375886cba4d": {
          "model_module": "@jupyter-widgets/controls",
          "model_module_version": "1.5.0",
          "model_name": "DescriptionStyleModel",
          "state": {
            "_model_module": "@jupyter-widgets/controls",
            "_model_module_version": "1.5.0",
            "_model_name": "DescriptionStyleModel",
            "_view_count": null,
            "_view_module": "@jupyter-widgets/base",
            "_view_module_version": "1.2.0",
            "_view_name": "StyleView",
            "description_width": ""
          }
        },
        "4dd743c2ebfd4e7d9fa1d949f3893561": {
          "model_module": "@jupyter-widgets/controls",
          "model_module_version": "1.5.0",
          "model_name": "HTMLModel",
          "state": {
            "_dom_classes": [],
            "_model_module": "@jupyter-widgets/controls",
            "_model_module_version": "1.5.0",
            "_model_name": "HTMLModel",
            "_view_count": null,
            "_view_module": "@jupyter-widgets/controls",
            "_view_module_version": "1.5.0",
            "_view_name": "HTMLView",
            "description": "",
            "description_tooltip": null,
            "layout": "IPY_MODEL_bd4b3c1ea6a140a89ebc6179df02d674",
            "placeholder": "​",
            "style": "IPY_MODEL_2d5a998a2ac94597b83e70a0799d8ea9",
            "value": " 25420/27558 [00:01&lt;00:00, 23718.13 examples/s]"
          }
        },
        "4f5137db7f3c4208b549ad3bbbc71d2d": {
          "model_module": "@jupyter-widgets/controls",
          "model_module_version": "1.5.0",
          "model_name": "FloatProgressModel",
          "state": {
            "_dom_classes": [],
            "_model_module": "@jupyter-widgets/controls",
            "_model_module_version": "1.5.0",
            "_model_name": "FloatProgressModel",
            "_view_count": null,
            "_view_module": "@jupyter-widgets/controls",
            "_view_module_version": "1.5.0",
            "_view_name": "ProgressView",
            "bar_style": "",
            "description": "",
            "description_tooltip": null,
            "layout": "IPY_MODEL_736f477692df48fa973f02a640db528b",
            "max": 1,
            "min": 0,
            "orientation": "horizontal",
            "style": "IPY_MODEL_9a1051d0f5ad495a90a4a7cf82f8ef8f",
            "value": 1
          }
        },
        "55d38bf3d6124ce49044a1574d21881a": {
          "model_module": "@jupyter-widgets/base",
          "model_module_version": "1.2.0",
          "model_name": "LayoutModel",
          "state": {
            "_model_module": "@jupyter-widgets/base",
            "_model_module_version": "1.2.0",
            "_model_name": "LayoutModel",
            "_view_count": null,
            "_view_module": "@jupyter-widgets/base",
            "_view_module_version": "1.2.0",
            "_view_name": "LayoutView",
            "align_content": null,
            "align_items": null,
            "align_self": null,
            "border": null,
            "bottom": null,
            "display": null,
            "flex": null,
            "flex_flow": null,
            "grid_area": null,
            "grid_auto_columns": null,
            "grid_auto_flow": null,
            "grid_auto_rows": null,
            "grid_column": null,
            "grid_gap": null,
            "grid_row": null,
            "grid_template_areas": null,
            "grid_template_columns": null,
            "grid_template_rows": null,
            "height": null,
            "justify_content": null,
            "justify_items": null,
            "left": null,
            "margin": null,
            "max_height": null,
            "max_width": null,
            "min_height": null,
            "min_width": null,
            "object_fit": null,
            "object_position": null,
            "order": null,
            "overflow": null,
            "overflow_x": null,
            "overflow_y": null,
            "padding": null,
            "right": null,
            "top": null,
            "visibility": "hidden",
            "width": null
          }
        },
        "57b623bd680342d99e53805c4ca5ce6e": {
          "model_module": "@jupyter-widgets/controls",
          "model_module_version": "1.5.0",
          "model_name": "DescriptionStyleModel",
          "state": {
            "_model_module": "@jupyter-widgets/controls",
            "_model_module_version": "1.5.0",
            "_model_name": "DescriptionStyleModel",
            "_view_count": null,
            "_view_module": "@jupyter-widgets/base",
            "_view_module_version": "1.2.0",
            "_view_name": "StyleView",
            "description_width": ""
          }
        },
        "5df1d2d904db4411a80b7a4d6897380a": {
          "model_module": "@jupyter-widgets/base",
          "model_module_version": "1.2.0",
          "model_name": "LayoutModel",
          "state": {
            "_model_module": "@jupyter-widgets/base",
            "_model_module_version": "1.2.0",
            "_model_name": "LayoutModel",
            "_view_count": null,
            "_view_module": "@jupyter-widgets/base",
            "_view_module_version": "1.2.0",
            "_view_name": "LayoutView",
            "align_content": null,
            "align_items": null,
            "align_self": null,
            "border": null,
            "bottom": null,
            "display": null,
            "flex": null,
            "flex_flow": null,
            "grid_area": null,
            "grid_auto_columns": null,
            "grid_auto_flow": null,
            "grid_auto_rows": null,
            "grid_column": null,
            "grid_gap": null,
            "grid_row": null,
            "grid_template_areas": null,
            "grid_template_columns": null,
            "grid_template_rows": null,
            "height": null,
            "justify_content": null,
            "justify_items": null,
            "left": null,
            "margin": null,
            "max_height": null,
            "max_width": null,
            "min_height": null,
            "min_width": null,
            "object_fit": null,
            "object_position": null,
            "order": null,
            "overflow": null,
            "overflow_x": null,
            "overflow_y": null,
            "padding": null,
            "right": null,
            "top": null,
            "visibility": null,
            "width": null
          }
        },
        "657aa000ef56494c939fe1940406914e": {
          "model_module": "@jupyter-widgets/controls",
          "model_module_version": "1.5.0",
          "model_name": "ProgressStyleModel",
          "state": {
            "_model_module": "@jupyter-widgets/controls",
            "_model_module_version": "1.5.0",
            "_model_name": "ProgressStyleModel",
            "_view_count": null,
            "_view_module": "@jupyter-widgets/base",
            "_view_module_version": "1.2.0",
            "_view_name": "StyleView",
            "bar_color": null,
            "description_width": ""
          }
        },
        "65c27e04aa954a8fac7b4b7310827faf": {
          "model_module": "@jupyter-widgets/controls",
          "model_module_version": "1.5.0",
          "model_name": "HBoxModel",
          "state": {
            "_dom_classes": [],
            "_model_module": "@jupyter-widgets/controls",
            "_model_module_version": "1.5.0",
            "_model_name": "HBoxModel",
            "_view_count": null,
            "_view_module": "@jupyter-widgets/controls",
            "_view_module_version": "1.5.0",
            "_view_name": "HBoxView",
            "box_style": "",
            "children": [
              "IPY_MODEL_16806f1eacb649ba85652314706b7461",
              "IPY_MODEL_995c3c715a084c50866ec6b4f77ef69f",
              "IPY_MODEL_4dd743c2ebfd4e7d9fa1d949f3893561"
            ],
            "layout": "IPY_MODEL_55d38bf3d6124ce49044a1574d21881a"
          }
        },
        "687d558e13e6448998f10b15af03ae89": {
          "model_module": "@jupyter-widgets/base",
          "model_module_version": "1.2.0",
          "model_name": "LayoutModel",
          "state": {
            "_model_module": "@jupyter-widgets/base",
            "_model_module_version": "1.2.0",
            "_model_name": "LayoutModel",
            "_view_count": null,
            "_view_module": "@jupyter-widgets/base",
            "_view_module_version": "1.2.0",
            "_view_name": "LayoutView",
            "align_content": null,
            "align_items": null,
            "align_self": null,
            "border": null,
            "bottom": null,
            "display": null,
            "flex": null,
            "flex_flow": null,
            "grid_area": null,
            "grid_auto_columns": null,
            "grid_auto_flow": null,
            "grid_auto_rows": null,
            "grid_column": null,
            "grid_gap": null,
            "grid_row": null,
            "grid_template_areas": null,
            "grid_template_columns": null,
            "grid_template_rows": null,
            "height": null,
            "justify_content": null,
            "justify_items": null,
            "left": null,
            "margin": null,
            "max_height": null,
            "max_width": null,
            "min_height": null,
            "min_width": null,
            "object_fit": null,
            "object_position": null,
            "order": null,
            "overflow": null,
            "overflow_x": null,
            "overflow_y": null,
            "padding": null,
            "right": null,
            "top": null,
            "visibility": null,
            "width": null
          }
        },
        "6c21cacf3ad546548b412bd91023c7ea": {
          "model_module": "@jupyter-widgets/base",
          "model_module_version": "1.2.0",
          "model_name": "LayoutModel",
          "state": {
            "_model_module": "@jupyter-widgets/base",
            "_model_module_version": "1.2.0",
            "_model_name": "LayoutModel",
            "_view_count": null,
            "_view_module": "@jupyter-widgets/base",
            "_view_module_version": "1.2.0",
            "_view_name": "LayoutView",
            "align_content": null,
            "align_items": null,
            "align_self": null,
            "border": null,
            "bottom": null,
            "display": null,
            "flex": null,
            "flex_flow": null,
            "grid_area": null,
            "grid_auto_columns": null,
            "grid_auto_flow": null,
            "grid_auto_rows": null,
            "grid_column": null,
            "grid_gap": null,
            "grid_row": null,
            "grid_template_areas": null,
            "grid_template_columns": null,
            "grid_template_rows": null,
            "height": null,
            "justify_content": null,
            "justify_items": null,
            "left": null,
            "margin": null,
            "max_height": null,
            "max_width": null,
            "min_height": null,
            "min_width": null,
            "object_fit": null,
            "object_position": null,
            "order": null,
            "overflow": null,
            "overflow_x": null,
            "overflow_y": null,
            "padding": null,
            "right": null,
            "top": null,
            "visibility": null,
            "width": null
          }
        },
        "6e8c09980ce9400fad50f4cb4eaa823d": {
          "model_module": "@jupyter-widgets/controls",
          "model_module_version": "1.5.0",
          "model_name": "FloatProgressModel",
          "state": {
            "_dom_classes": [],
            "_model_module": "@jupyter-widgets/controls",
            "_model_module_version": "1.5.0",
            "_model_name": "FloatProgressModel",
            "_view_count": null,
            "_view_module": "@jupyter-widgets/controls",
            "_view_module_version": "1.5.0",
            "_view_name": "ProgressView",
            "bar_style": "success",
            "description": "",
            "description_tooltip": null,
            "layout": "IPY_MODEL_01a6b3daf6ba4b2c8ab01205baa013cf",
            "max": 1,
            "min": 0,
            "orientation": "horizontal",
            "style": "IPY_MODEL_34741febf9644022925611867a1f05b3",
            "value": 1
          }
        },
        "6fffd2162c214f45b162314efc1c68e3": {
          "model_module": "@jupyter-widgets/base",
          "model_module_version": "1.2.0",
          "model_name": "LayoutModel",
          "state": {
            "_model_module": "@jupyter-widgets/base",
            "_model_module_version": "1.2.0",
            "_model_name": "LayoutModel",
            "_view_count": null,
            "_view_module": "@jupyter-widgets/base",
            "_view_module_version": "1.2.0",
            "_view_name": "LayoutView",
            "align_content": null,
            "align_items": null,
            "align_self": null,
            "border": null,
            "bottom": null,
            "display": null,
            "flex": null,
            "flex_flow": null,
            "grid_area": null,
            "grid_auto_columns": null,
            "grid_auto_flow": null,
            "grid_auto_rows": null,
            "grid_column": null,
            "grid_gap": null,
            "grid_row": null,
            "grid_template_areas": null,
            "grid_template_columns": null,
            "grid_template_rows": null,
            "height": null,
            "justify_content": null,
            "justify_items": null,
            "left": null,
            "margin": null,
            "max_height": null,
            "max_width": null,
            "min_height": null,
            "min_width": null,
            "object_fit": null,
            "object_position": null,
            "order": null,
            "overflow": null,
            "overflow_x": null,
            "overflow_y": null,
            "padding": null,
            "right": null,
            "top": null,
            "visibility": null,
            "width": null
          }
        },
        "721b9a43d3484c518f7472296a4eb41f": {
          "model_module": "@jupyter-widgets/controls",
          "model_module_version": "1.5.0",
          "model_name": "HTMLModel",
          "state": {
            "_dom_classes": [],
            "_model_module": "@jupyter-widgets/controls",
            "_model_module_version": "1.5.0",
            "_model_name": "HTMLModel",
            "_view_count": null,
            "_view_module": "@jupyter-widgets/controls",
            "_view_module_version": "1.5.0",
            "_view_name": "HTMLView",
            "description": "",
            "description_tooltip": null,
            "layout": "IPY_MODEL_1400e85c9879444c9ae9ce5249c3f9f6",
            "placeholder": "​",
            "style": "IPY_MODEL_b7862bcae8d9436594fae939e1aeeb3d",
            "value": " 26091/27558 [00:08&lt;00:00, 3231.02 examples/s]"
          }
        },
        "736f477692df48fa973f02a640db528b": {
          "model_module": "@jupyter-widgets/base",
          "model_module_version": "1.2.0",
          "model_name": "LayoutModel",
          "state": {
            "_model_module": "@jupyter-widgets/base",
            "_model_module_version": "1.2.0",
            "_model_name": "LayoutModel",
            "_view_count": null,
            "_view_module": "@jupyter-widgets/base",
            "_view_module_version": "1.2.0",
            "_view_name": "LayoutView",
            "align_content": null,
            "align_items": null,
            "align_self": null,
            "border": null,
            "bottom": null,
            "display": null,
            "flex": null,
            "flex_flow": null,
            "grid_area": null,
            "grid_auto_columns": null,
            "grid_auto_flow": null,
            "grid_auto_rows": null,
            "grid_column": null,
            "grid_gap": null,
            "grid_row": null,
            "grid_template_areas": null,
            "grid_template_columns": null,
            "grid_template_rows": null,
            "height": null,
            "justify_content": null,
            "justify_items": null,
            "left": null,
            "margin": null,
            "max_height": null,
            "max_width": null,
            "min_height": null,
            "min_width": null,
            "object_fit": null,
            "object_position": null,
            "order": null,
            "overflow": null,
            "overflow_x": null,
            "overflow_y": null,
            "padding": null,
            "right": null,
            "top": null,
            "visibility": null,
            "width": null
          }
        },
        "7e5e14c8acdd4295902e845d4f826f2e": {
          "model_module": "@jupyter-widgets/controls",
          "model_module_version": "1.5.0",
          "model_name": "HTMLModel",
          "state": {
            "_dom_classes": [],
            "_model_module": "@jupyter-widgets/controls",
            "_model_module_version": "1.5.0",
            "_model_name": "HTMLModel",
            "_view_count": null,
            "_view_module": "@jupyter-widgets/controls",
            "_view_module_version": "1.5.0",
            "_view_name": "HTMLView",
            "description": "",
            "description_tooltip": null,
            "layout": "IPY_MODEL_f0513732dab54e038791f1ee4fa64347",
            "placeholder": "​",
            "style": "IPY_MODEL_893146eb94f94666a03d8b4f484636c8",
            "value": " 1/1 [00:09&lt;00:00,  9.77s/ splits]"
          }
        },
        "847f7ff3f1554038b809760db43ec7be": {
          "model_module": "@jupyter-widgets/base",
          "model_module_version": "1.2.0",
          "model_name": "LayoutModel",
          "state": {
            "_model_module": "@jupyter-widgets/base",
            "_model_module_version": "1.2.0",
            "_model_name": "LayoutModel",
            "_view_count": null,
            "_view_module": "@jupyter-widgets/base",
            "_view_module_version": "1.2.0",
            "_view_name": "LayoutView",
            "align_content": null,
            "align_items": null,
            "align_self": null,
            "border": null,
            "bottom": null,
            "display": null,
            "flex": null,
            "flex_flow": null,
            "grid_area": null,
            "grid_auto_columns": null,
            "grid_auto_flow": null,
            "grid_auto_rows": null,
            "grid_column": null,
            "grid_gap": null,
            "grid_row": null,
            "grid_template_areas": null,
            "grid_template_columns": null,
            "grid_template_rows": null,
            "height": null,
            "justify_content": null,
            "justify_items": null,
            "left": null,
            "margin": null,
            "max_height": null,
            "max_width": null,
            "min_height": null,
            "min_width": null,
            "object_fit": null,
            "object_position": null,
            "order": null,
            "overflow": null,
            "overflow_x": null,
            "overflow_y": null,
            "padding": null,
            "right": null,
            "top": null,
            "visibility": null,
            "width": null
          }
        },
        "863cd9af0d2e446f9a496872e2f41682": {
          "model_module": "@jupyter-widgets/base",
          "model_module_version": "1.2.0",
          "model_name": "LayoutModel",
          "state": {
            "_model_module": "@jupyter-widgets/base",
            "_model_module_version": "1.2.0",
            "_model_name": "LayoutModel",
            "_view_count": null,
            "_view_module": "@jupyter-widgets/base",
            "_view_module_version": "1.2.0",
            "_view_name": "LayoutView",
            "align_content": null,
            "align_items": null,
            "align_self": null,
            "border": null,
            "bottom": null,
            "display": null,
            "flex": null,
            "flex_flow": null,
            "grid_area": null,
            "grid_auto_columns": null,
            "grid_auto_flow": null,
            "grid_auto_rows": null,
            "grid_column": null,
            "grid_gap": null,
            "grid_row": null,
            "grid_template_areas": null,
            "grid_template_columns": null,
            "grid_template_rows": null,
            "height": null,
            "justify_content": null,
            "justify_items": null,
            "left": null,
            "margin": null,
            "max_height": null,
            "max_width": null,
            "min_height": null,
            "min_width": null,
            "object_fit": null,
            "object_position": null,
            "order": null,
            "overflow": null,
            "overflow_x": null,
            "overflow_y": null,
            "padding": null,
            "right": null,
            "top": null,
            "visibility": null,
            "width": "20px"
          }
        },
        "87549162572e46fdafcd55a984132623": {
          "model_module": "@jupyter-widgets/controls",
          "model_module_version": "1.5.0",
          "model_name": "HTMLModel",
          "state": {
            "_dom_classes": [],
            "_model_module": "@jupyter-widgets/controls",
            "_model_module_version": "1.5.0",
            "_model_name": "HTMLModel",
            "_view_count": null,
            "_view_module": "@jupyter-widgets/controls",
            "_view_module_version": "1.5.0",
            "_view_name": "HTMLView",
            "description": "",
            "description_tooltip": null,
            "layout": "IPY_MODEL_6fffd2162c214f45b162314efc1c68e3",
            "placeholder": "​",
            "style": "IPY_MODEL_45c4fd6dc17544f4a8b1c375886cba4d",
            "value": "Generating train examples...:  95%"
          }
        },
        "885f8e3c63db4f62a17539a7ac05b1d3": {
          "model_module": "@jupyter-widgets/controls",
          "model_module_version": "1.5.0",
          "model_name": "DescriptionStyleModel",
          "state": {
            "_model_module": "@jupyter-widgets/controls",
            "_model_module_version": "1.5.0",
            "_model_name": "DescriptionStyleModel",
            "_view_count": null,
            "_view_module": "@jupyter-widgets/base",
            "_view_module_version": "1.2.0",
            "_view_name": "StyleView",
            "description_width": ""
          }
        },
        "8897053cb9ee406bb2c502695e40fbc1": {
          "model_module": "@jupyter-widgets/controls",
          "model_module_version": "1.5.0",
          "model_name": "HBoxModel",
          "state": {
            "_dom_classes": [],
            "_model_module": "@jupyter-widgets/controls",
            "_model_module_version": "1.5.0",
            "_model_name": "HBoxModel",
            "_view_count": null,
            "_view_module": "@jupyter-widgets/controls",
            "_view_module_version": "1.5.0",
            "_view_name": "HBoxView",
            "box_style": "",
            "children": [
              "IPY_MODEL_8df8d4558dc7487388e25c8c49856a3c",
              "IPY_MODEL_ad2fb3607d4c4315a0d5cab4fd9149af",
              "IPY_MODEL_0ac9b4233a0143b988356c9b93942b0a"
            ],
            "layout": "IPY_MODEL_847f7ff3f1554038b809760db43ec7be"
          }
        },
        "88971c41ea564df587c9fed941bbc1f2": {
          "model_module": "@jupyter-widgets/controls",
          "model_module_version": "1.5.0",
          "model_name": "HBoxModel",
          "state": {
            "_dom_classes": [],
            "_model_module": "@jupyter-widgets/controls",
            "_model_module_version": "1.5.0",
            "_model_name": "HBoxModel",
            "_view_count": null,
            "_view_module": "@jupyter-widgets/controls",
            "_view_module_version": "1.5.0",
            "_view_name": "HBoxView",
            "box_style": "",
            "children": [
              "IPY_MODEL_f4449af0b9ee4184a77e3aac06d4901d",
              "IPY_MODEL_8c7e623475a4440b89672721bde68e0f",
              "IPY_MODEL_c4ed6932ec6d4f84a7fc3a32a30f21b3"
            ],
            "layout": "IPY_MODEL_3de3d82484e94dc9b330f9be6208dd0f"
          }
        },
        "893146eb94f94666a03d8b4f484636c8": {
          "model_module": "@jupyter-widgets/controls",
          "model_module_version": "1.5.0",
          "model_name": "DescriptionStyleModel",
          "state": {
            "_model_module": "@jupyter-widgets/controls",
            "_model_module_version": "1.5.0",
            "_model_name": "DescriptionStyleModel",
            "_view_count": null,
            "_view_module": "@jupyter-widgets/base",
            "_view_module_version": "1.2.0",
            "_view_name": "StyleView",
            "description_width": ""
          }
        },
        "899be7958321415b85035634b481dfe5": {
          "model_module": "@jupyter-widgets/controls",
          "model_module_version": "1.5.0",
          "model_name": "DescriptionStyleModel",
          "state": {
            "_model_module": "@jupyter-widgets/controls",
            "_model_module_version": "1.5.0",
            "_model_name": "DescriptionStyleModel",
            "_view_count": null,
            "_view_module": "@jupyter-widgets/base",
            "_view_module_version": "1.2.0",
            "_view_name": "StyleView",
            "description_width": ""
          }
        },
        "8c7e623475a4440b89672721bde68e0f": {
          "model_module": "@jupyter-widgets/controls",
          "model_module_version": "1.5.0",
          "model_name": "FloatProgressModel",
          "state": {
            "_dom_classes": [],
            "_model_module": "@jupyter-widgets/controls",
            "_model_module_version": "1.5.0",
            "_model_name": "FloatProgressModel",
            "_view_count": null,
            "_view_module": "@jupyter-widgets/controls",
            "_view_module_version": "1.5.0",
            "_view_name": "ProgressView",
            "bar_style": "success",
            "description": "",
            "description_tooltip": null,
            "layout": "IPY_MODEL_863cd9af0d2e446f9a496872e2f41682",
            "max": 1,
            "min": 0,
            "orientation": "horizontal",
            "style": "IPY_MODEL_b48997a86e35403195eae10c7150bd15",
            "value": 1
          }
        },
        "8df8d4558dc7487388e25c8c49856a3c": {
          "model_module": "@jupyter-widgets/controls",
          "model_module_version": "1.5.0",
          "model_name": "HTMLModel",
          "state": {
            "_dom_classes": [],
            "_model_module": "@jupyter-widgets/controls",
            "_model_module_version": "1.5.0",
            "_model_name": "HTMLModel",
            "_view_count": null,
            "_view_module": "@jupyter-widgets/controls",
            "_view_module_version": "1.5.0",
            "_view_name": "HTMLView",
            "description": "",
            "description_tooltip": null,
            "layout": "IPY_MODEL_005af54e8a1f408fa42870ea36063cac",
            "placeholder": "​",
            "style": "IPY_MODEL_2c3dd23ac90746ea9c72a21dc359c45e",
            "value": "Dl Completed...: 100%"
          }
        },
        "96bbe8a91d5b415a9001dbcb3981816b": {
          "model_module": "@jupyter-widgets/controls",
          "model_module_version": "1.5.0",
          "model_name": "HTMLModel",
          "state": {
            "_dom_classes": [],
            "_model_module": "@jupyter-widgets/controls",
            "_model_module_version": "1.5.0",
            "_model_name": "HTMLModel",
            "_view_count": null,
            "_view_module": "@jupyter-widgets/controls",
            "_view_module_version": "1.5.0",
            "_view_name": "HTMLView",
            "description": "",
            "description_tooltip": null,
            "layout": "IPY_MODEL_5df1d2d904db4411a80b7a4d6897380a",
            "placeholder": "​",
            "style": "IPY_MODEL_899be7958321415b85035634b481dfe5",
            "value": "Generating splits...: 100%"
          }
        },
        "98b9574acd874de292efe1358b9ac52d": {
          "model_module": "@jupyter-widgets/controls",
          "model_module_version": "1.5.0",
          "model_name": "HBoxModel",
          "state": {
            "_dom_classes": [],
            "_model_module": "@jupyter-widgets/controls",
            "_model_module_version": "1.5.0",
            "_model_name": "HBoxModel",
            "_view_count": null,
            "_view_module": "@jupyter-widgets/controls",
            "_view_module_version": "1.5.0",
            "_view_name": "HBoxView",
            "box_style": "",
            "children": [
              "IPY_MODEL_eb30a488a13342eeb8b4ce1d3ca8033d",
              "IPY_MODEL_6e8c09980ce9400fad50f4cb4eaa823d",
              "IPY_MODEL_26cbc0f3aeaa42099db970cc235e2a58"
            ],
            "layout": "IPY_MODEL_da6cab7be397401db7b17c6beabf5791"
          }
        },
        "995c3c715a084c50866ec6b4f77ef69f": {
          "model_module": "@jupyter-widgets/controls",
          "model_module_version": "1.5.0",
          "model_name": "FloatProgressModel",
          "state": {
            "_dom_classes": [],
            "_model_module": "@jupyter-widgets/controls",
            "_model_module_version": "1.5.0",
            "_model_name": "FloatProgressModel",
            "_view_count": null,
            "_view_module": "@jupyter-widgets/controls",
            "_view_module_version": "1.5.0",
            "_view_name": "ProgressView",
            "bar_style": "",
            "description": "",
            "description_tooltip": null,
            "layout": "IPY_MODEL_a1362f0a91324634992fc9c6867296f8",
            "max": 27558,
            "min": 0,
            "orientation": "horizontal",
            "style": "IPY_MODEL_f06cb3ed00044b7d8d27a7f6f7639c71",
            "value": 27558
          }
        },
        "9a1051d0f5ad495a90a4a7cf82f8ef8f": {
          "model_module": "@jupyter-widgets/controls",
          "model_module_version": "1.5.0",
          "model_name": "ProgressStyleModel",
          "state": {
            "_model_module": "@jupyter-widgets/controls",
            "_model_module_version": "1.5.0",
            "_model_name": "ProgressStyleModel",
            "_view_count": null,
            "_view_module": "@jupyter-widgets/base",
            "_view_module_version": "1.2.0",
            "_view_name": "StyleView",
            "bar_color": null,
            "description_width": ""
          }
        },
        "a1362f0a91324634992fc9c6867296f8": {
          "model_module": "@jupyter-widgets/base",
          "model_module_version": "1.2.0",
          "model_name": "LayoutModel",
          "state": {
            "_model_module": "@jupyter-widgets/base",
            "_model_module_version": "1.2.0",
            "_model_name": "LayoutModel",
            "_view_count": null,
            "_view_module": "@jupyter-widgets/base",
            "_view_module_version": "1.2.0",
            "_view_name": "LayoutView",
            "align_content": null,
            "align_items": null,
            "align_self": null,
            "border": null,
            "bottom": null,
            "display": null,
            "flex": null,
            "flex_flow": null,
            "grid_area": null,
            "grid_auto_columns": null,
            "grid_auto_flow": null,
            "grid_auto_rows": null,
            "grid_column": null,
            "grid_gap": null,
            "grid_row": null,
            "grid_template_areas": null,
            "grid_template_columns": null,
            "grid_template_rows": null,
            "height": null,
            "justify_content": null,
            "justify_items": null,
            "left": null,
            "margin": null,
            "max_height": null,
            "max_width": null,
            "min_height": null,
            "min_width": null,
            "object_fit": null,
            "object_position": null,
            "order": null,
            "overflow": null,
            "overflow_x": null,
            "overflow_y": null,
            "padding": null,
            "right": null,
            "top": null,
            "visibility": null,
            "width": null
          }
        },
        "a389184aa79642c7bf15b348ce9b8ba6": {
          "model_module": "@jupyter-widgets/base",
          "model_module_version": "1.2.0",
          "model_name": "LayoutModel",
          "state": {
            "_model_module": "@jupyter-widgets/base",
            "_model_module_version": "1.2.0",
            "_model_name": "LayoutModel",
            "_view_count": null,
            "_view_module": "@jupyter-widgets/base",
            "_view_module_version": "1.2.0",
            "_view_name": "LayoutView",
            "align_content": null,
            "align_items": null,
            "align_self": null,
            "border": null,
            "bottom": null,
            "display": null,
            "flex": null,
            "flex_flow": null,
            "grid_area": null,
            "grid_auto_columns": null,
            "grid_auto_flow": null,
            "grid_auto_rows": null,
            "grid_column": null,
            "grid_gap": null,
            "grid_row": null,
            "grid_template_areas": null,
            "grid_template_columns": null,
            "grid_template_rows": null,
            "height": null,
            "justify_content": null,
            "justify_items": null,
            "left": null,
            "margin": null,
            "max_height": null,
            "max_width": null,
            "min_height": null,
            "min_width": null,
            "object_fit": null,
            "object_position": null,
            "order": null,
            "overflow": null,
            "overflow_x": null,
            "overflow_y": null,
            "padding": null,
            "right": null,
            "top": null,
            "visibility": null,
            "width": null
          }
        },
        "ad2fb3607d4c4315a0d5cab4fd9149af": {
          "model_module": "@jupyter-widgets/controls",
          "model_module_version": "1.5.0",
          "model_name": "FloatProgressModel",
          "state": {
            "_dom_classes": [],
            "_model_module": "@jupyter-widgets/controls",
            "_model_module_version": "1.5.0",
            "_model_name": "FloatProgressModel",
            "_view_count": null,
            "_view_module": "@jupyter-widgets/controls",
            "_view_module_version": "1.5.0",
            "_view_name": "ProgressView",
            "bar_style": "success",
            "description": "",
            "description_tooltip": null,
            "layout": "IPY_MODEL_ca1fa631059944e58308491d8e744050",
            "max": 1,
            "min": 0,
            "orientation": "horizontal",
            "style": "IPY_MODEL_657aa000ef56494c939fe1940406914e",
            "value": 1
          }
        },
        "b14da88580b64d928a132ad8e63299b2": {
          "model_module": "@jupyter-widgets/controls",
          "model_module_version": "1.5.0",
          "model_name": "ProgressStyleModel",
          "state": {
            "_model_module": "@jupyter-widgets/controls",
            "_model_module_version": "1.5.0",
            "_model_name": "ProgressStyleModel",
            "_view_count": null,
            "_view_module": "@jupyter-widgets/base",
            "_view_module_version": "1.2.0",
            "_view_name": "StyleView",
            "bar_color": null,
            "description_width": ""
          }
        },
        "b48997a86e35403195eae10c7150bd15": {
          "model_module": "@jupyter-widgets/controls",
          "model_module_version": "1.5.0",
          "model_name": "ProgressStyleModel",
          "state": {
            "_model_module": "@jupyter-widgets/controls",
            "_model_module_version": "1.5.0",
            "_model_name": "ProgressStyleModel",
            "_view_count": null,
            "_view_module": "@jupyter-widgets/base",
            "_view_module_version": "1.2.0",
            "_view_name": "StyleView",
            "bar_color": null,
            "description_width": ""
          }
        },
        "b647ee25627b453b996afa9496a2498d": {
          "model_module": "@jupyter-widgets/controls",
          "model_module_version": "1.5.0",
          "model_name": "HBoxModel",
          "state": {
            "_dom_classes": [],
            "_model_module": "@jupyter-widgets/controls",
            "_model_module_version": "1.5.0",
            "_model_name": "HBoxModel",
            "_view_count": null,
            "_view_module": "@jupyter-widgets/controls",
            "_view_module_version": "1.5.0",
            "_view_name": "HBoxView",
            "box_style": "",
            "children": [
              "IPY_MODEL_87549162572e46fdafcd55a984132623",
              "IPY_MODEL_11bb8e8293b242aa9e880bf9cffdb3e3",
              "IPY_MODEL_721b9a43d3484c518f7472296a4eb41f"
            ],
            "layout": "IPY_MODEL_c2404de08c7f4553976c4f1297c0b42c"
          }
        },
        "b7862bcae8d9436594fae939e1aeeb3d": {
          "model_module": "@jupyter-widgets/controls",
          "model_module_version": "1.5.0",
          "model_name": "DescriptionStyleModel",
          "state": {
            "_model_module": "@jupyter-widgets/controls",
            "_model_module_version": "1.5.0",
            "_model_name": "DescriptionStyleModel",
            "_view_count": null,
            "_view_module": "@jupyter-widgets/base",
            "_view_module_version": "1.2.0",
            "_view_name": "StyleView",
            "description_width": ""
          }
        },
        "bd4b3c1ea6a140a89ebc6179df02d674": {
          "model_module": "@jupyter-widgets/base",
          "model_module_version": "1.2.0",
          "model_name": "LayoutModel",
          "state": {
            "_model_module": "@jupyter-widgets/base",
            "_model_module_version": "1.2.0",
            "_model_name": "LayoutModel",
            "_view_count": null,
            "_view_module": "@jupyter-widgets/base",
            "_view_module_version": "1.2.0",
            "_view_name": "LayoutView",
            "align_content": null,
            "align_items": null,
            "align_self": null,
            "border": null,
            "bottom": null,
            "display": null,
            "flex": null,
            "flex_flow": null,
            "grid_area": null,
            "grid_auto_columns": null,
            "grid_auto_flow": null,
            "grid_auto_rows": null,
            "grid_column": null,
            "grid_gap": null,
            "grid_row": null,
            "grid_template_areas": null,
            "grid_template_columns": null,
            "grid_template_rows": null,
            "height": null,
            "justify_content": null,
            "justify_items": null,
            "left": null,
            "margin": null,
            "max_height": null,
            "max_width": null,
            "min_height": null,
            "min_width": null,
            "object_fit": null,
            "object_position": null,
            "order": null,
            "overflow": null,
            "overflow_x": null,
            "overflow_y": null,
            "padding": null,
            "right": null,
            "top": null,
            "visibility": null,
            "width": null
          }
        },
        "bd698800ff2c45eb82dfcbb95572e43c": {
          "model_module": "@jupyter-widgets/controls",
          "model_module_version": "1.5.0",
          "model_name": "DescriptionStyleModel",
          "state": {
            "_model_module": "@jupyter-widgets/controls",
            "_model_module_version": "1.5.0",
            "_model_name": "DescriptionStyleModel",
            "_view_count": null,
            "_view_module": "@jupyter-widgets/base",
            "_view_module_version": "1.2.0",
            "_view_name": "StyleView",
            "description_width": ""
          }
        },
        "c2404de08c7f4553976c4f1297c0b42c": {
          "model_module": "@jupyter-widgets/base",
          "model_module_version": "1.2.0",
          "model_name": "LayoutModel",
          "state": {
            "_model_module": "@jupyter-widgets/base",
            "_model_module_version": "1.2.0",
            "_model_name": "LayoutModel",
            "_view_count": null,
            "_view_module": "@jupyter-widgets/base",
            "_view_module_version": "1.2.0",
            "_view_name": "LayoutView",
            "align_content": null,
            "align_items": null,
            "align_self": null,
            "border": null,
            "bottom": null,
            "display": null,
            "flex": null,
            "flex_flow": null,
            "grid_area": null,
            "grid_auto_columns": null,
            "grid_auto_flow": null,
            "grid_auto_rows": null,
            "grid_column": null,
            "grid_gap": null,
            "grid_row": null,
            "grid_template_areas": null,
            "grid_template_columns": null,
            "grid_template_rows": null,
            "height": null,
            "justify_content": null,
            "justify_items": null,
            "left": null,
            "margin": null,
            "max_height": null,
            "max_width": null,
            "min_height": null,
            "min_width": null,
            "object_fit": null,
            "object_position": null,
            "order": null,
            "overflow": null,
            "overflow_x": null,
            "overflow_y": null,
            "padding": null,
            "right": null,
            "top": null,
            "visibility": "hidden",
            "width": null
          }
        },
        "c4ed6932ec6d4f84a7fc3a32a30f21b3": {
          "model_module": "@jupyter-widgets/controls",
          "model_module_version": "1.5.0",
          "model_name": "HTMLModel",
          "state": {
            "_dom_classes": [],
            "_model_module": "@jupyter-widgets/controls",
            "_model_module_version": "1.5.0",
            "_model_name": "HTMLModel",
            "_view_count": null,
            "_view_module": "@jupyter-widgets/controls",
            "_view_module_version": "1.5.0",
            "_view_name": "HTMLView",
            "description": "",
            "description_tooltip": null,
            "layout": "IPY_MODEL_687d558e13e6448998f10b15af03ae89",
            "placeholder": "​",
            "style": "IPY_MODEL_57b623bd680342d99e53805c4ca5ce6e",
            "value": " 55120/? [02:23&lt;00:00, 994.11 file/s]"
          }
        },
        "c60fb5a719dc4b09a3ef2a02860aed84": {
          "model_module": "@jupyter-widgets/base",
          "model_module_version": "1.2.0",
          "model_name": "LayoutModel",
          "state": {
            "_model_module": "@jupyter-widgets/base",
            "_model_module_version": "1.2.0",
            "_model_name": "LayoutModel",
            "_view_count": null,
            "_view_module": "@jupyter-widgets/base",
            "_view_module_version": "1.2.0",
            "_view_name": "LayoutView",
            "align_content": null,
            "align_items": null,
            "align_self": null,
            "border": null,
            "bottom": null,
            "display": null,
            "flex": null,
            "flex_flow": null,
            "grid_area": null,
            "grid_auto_columns": null,
            "grid_auto_flow": null,
            "grid_auto_rows": null,
            "grid_column": null,
            "grid_gap": null,
            "grid_row": null,
            "grid_template_areas": null,
            "grid_template_columns": null,
            "grid_template_rows": null,
            "height": null,
            "justify_content": null,
            "justify_items": null,
            "left": null,
            "margin": null,
            "max_height": null,
            "max_width": null,
            "min_height": null,
            "min_width": null,
            "object_fit": null,
            "object_position": null,
            "order": null,
            "overflow": null,
            "overflow_x": null,
            "overflow_y": null,
            "padding": null,
            "right": null,
            "top": null,
            "visibility": null,
            "width": null
          }
        },
        "ca1fa631059944e58308491d8e744050": {
          "model_module": "@jupyter-widgets/base",
          "model_module_version": "1.2.0",
          "model_name": "LayoutModel",
          "state": {
            "_model_module": "@jupyter-widgets/base",
            "_model_module_version": "1.2.0",
            "_model_name": "LayoutModel",
            "_view_count": null,
            "_view_module": "@jupyter-widgets/base",
            "_view_module_version": "1.2.0",
            "_view_name": "LayoutView",
            "align_content": null,
            "align_items": null,
            "align_self": null,
            "border": null,
            "bottom": null,
            "display": null,
            "flex": null,
            "flex_flow": null,
            "grid_area": null,
            "grid_auto_columns": null,
            "grid_auto_flow": null,
            "grid_auto_rows": null,
            "grid_column": null,
            "grid_gap": null,
            "grid_row": null,
            "grid_template_areas": null,
            "grid_template_columns": null,
            "grid_template_rows": null,
            "height": null,
            "justify_content": null,
            "justify_items": null,
            "left": null,
            "margin": null,
            "max_height": null,
            "max_width": null,
            "min_height": null,
            "min_width": null,
            "object_fit": null,
            "object_position": null,
            "order": null,
            "overflow": null,
            "overflow_x": null,
            "overflow_y": null,
            "padding": null,
            "right": null,
            "top": null,
            "visibility": null,
            "width": "20px"
          }
        },
        "d53f4810864e42ea8dc14f8a16f30fd1": {
          "model_module": "@jupyter-widgets/controls",
          "model_module_version": "1.5.0",
          "model_name": "HBoxModel",
          "state": {
            "_dom_classes": [],
            "_model_module": "@jupyter-widgets/controls",
            "_model_module_version": "1.5.0",
            "_model_name": "HBoxModel",
            "_view_count": null,
            "_view_module": "@jupyter-widgets/controls",
            "_view_module_version": "1.5.0",
            "_view_name": "HBoxView",
            "box_style": "",
            "children": [
              "IPY_MODEL_96bbe8a91d5b415a9001dbcb3981816b",
              "IPY_MODEL_4f5137db7f3c4208b549ad3bbbc71d2d",
              "IPY_MODEL_7e5e14c8acdd4295902e845d4f826f2e"
            ],
            "layout": "IPY_MODEL_3a79446963aa43f8a6621bb802bad0f0"
          }
        },
        "d85b3cda5da5420ab45618b15bd4c4e9": {
          "model_module": "@jupyter-widgets/base",
          "model_module_version": "1.2.0",
          "model_name": "LayoutModel",
          "state": {
            "_model_module": "@jupyter-widgets/base",
            "_model_module_version": "1.2.0",
            "_model_name": "LayoutModel",
            "_view_count": null,
            "_view_module": "@jupyter-widgets/base",
            "_view_module_version": "1.2.0",
            "_view_name": "LayoutView",
            "align_content": null,
            "align_items": null,
            "align_self": null,
            "border": null,
            "bottom": null,
            "display": null,
            "flex": null,
            "flex_flow": null,
            "grid_area": null,
            "grid_auto_columns": null,
            "grid_auto_flow": null,
            "grid_auto_rows": null,
            "grid_column": null,
            "grid_gap": null,
            "grid_row": null,
            "grid_template_areas": null,
            "grid_template_columns": null,
            "grid_template_rows": null,
            "height": null,
            "justify_content": null,
            "justify_items": null,
            "left": null,
            "margin": null,
            "max_height": null,
            "max_width": null,
            "min_height": null,
            "min_width": null,
            "object_fit": null,
            "object_position": null,
            "order": null,
            "overflow": null,
            "overflow_x": null,
            "overflow_y": null,
            "padding": null,
            "right": null,
            "top": null,
            "visibility": null,
            "width": null
          }
        },
        "da6cab7be397401db7b17c6beabf5791": {
          "model_module": "@jupyter-widgets/base",
          "model_module_version": "1.2.0",
          "model_name": "LayoutModel",
          "state": {
            "_model_module": "@jupyter-widgets/base",
            "_model_module_version": "1.2.0",
            "_model_name": "LayoutModel",
            "_view_count": null,
            "_view_module": "@jupyter-widgets/base",
            "_view_module_version": "1.2.0",
            "_view_name": "LayoutView",
            "align_content": null,
            "align_items": null,
            "align_self": null,
            "border": null,
            "bottom": null,
            "display": null,
            "flex": null,
            "flex_flow": null,
            "grid_area": null,
            "grid_auto_columns": null,
            "grid_auto_flow": null,
            "grid_auto_rows": null,
            "grid_column": null,
            "grid_gap": null,
            "grid_row": null,
            "grid_template_areas": null,
            "grid_template_columns": null,
            "grid_template_rows": null,
            "height": null,
            "justify_content": null,
            "justify_items": null,
            "left": null,
            "margin": null,
            "max_height": null,
            "max_width": null,
            "min_height": null,
            "min_width": null,
            "object_fit": null,
            "object_position": null,
            "order": null,
            "overflow": null,
            "overflow_x": null,
            "overflow_y": null,
            "padding": null,
            "right": null,
            "top": null,
            "visibility": null,
            "width": null
          }
        },
        "eb30a488a13342eeb8b4ce1d3ca8033d": {
          "model_module": "@jupyter-widgets/controls",
          "model_module_version": "1.5.0",
          "model_name": "HTMLModel",
          "state": {
            "_dom_classes": [],
            "_model_module": "@jupyter-widgets/controls",
            "_model_module_version": "1.5.0",
            "_model_name": "HTMLModel",
            "_view_count": null,
            "_view_module": "@jupyter-widgets/controls",
            "_view_module_version": "1.5.0",
            "_view_name": "HTMLView",
            "description": "",
            "description_tooltip": null,
            "layout": "IPY_MODEL_f15fa7d9936a4dee8e06cc086c05b4fd",
            "placeholder": "​",
            "style": "IPY_MODEL_885f8e3c63db4f62a17539a7ac05b1d3",
            "value": "Dl Size...: 100%"
          }
        },
        "f0513732dab54e038791f1ee4fa64347": {
          "model_module": "@jupyter-widgets/base",
          "model_module_version": "1.2.0",
          "model_name": "LayoutModel",
          "state": {
            "_model_module": "@jupyter-widgets/base",
            "_model_module_version": "1.2.0",
            "_model_name": "LayoutModel",
            "_view_count": null,
            "_view_module": "@jupyter-widgets/base",
            "_view_module_version": "1.2.0",
            "_view_name": "LayoutView",
            "align_content": null,
            "align_items": null,
            "align_self": null,
            "border": null,
            "bottom": null,
            "display": null,
            "flex": null,
            "flex_flow": null,
            "grid_area": null,
            "grid_auto_columns": null,
            "grid_auto_flow": null,
            "grid_auto_rows": null,
            "grid_column": null,
            "grid_gap": null,
            "grid_row": null,
            "grid_template_areas": null,
            "grid_template_columns": null,
            "grid_template_rows": null,
            "height": null,
            "justify_content": null,
            "justify_items": null,
            "left": null,
            "margin": null,
            "max_height": null,
            "max_width": null,
            "min_height": null,
            "min_width": null,
            "object_fit": null,
            "object_position": null,
            "order": null,
            "overflow": null,
            "overflow_x": null,
            "overflow_y": null,
            "padding": null,
            "right": null,
            "top": null,
            "visibility": null,
            "width": null
          }
        },
        "f06cb3ed00044b7d8d27a7f6f7639c71": {
          "model_module": "@jupyter-widgets/controls",
          "model_module_version": "1.5.0",
          "model_name": "ProgressStyleModel",
          "state": {
            "_model_module": "@jupyter-widgets/controls",
            "_model_module_version": "1.5.0",
            "_model_name": "ProgressStyleModel",
            "_view_count": null,
            "_view_module": "@jupyter-widgets/base",
            "_view_module_version": "1.2.0",
            "_view_name": "StyleView",
            "bar_color": null,
            "description_width": ""
          }
        },
        "f15fa7d9936a4dee8e06cc086c05b4fd": {
          "model_module": "@jupyter-widgets/base",
          "model_module_version": "1.2.0",
          "model_name": "LayoutModel",
          "state": {
            "_model_module": "@jupyter-widgets/base",
            "_model_module_version": "1.2.0",
            "_model_name": "LayoutModel",
            "_view_count": null,
            "_view_module": "@jupyter-widgets/base",
            "_view_module_version": "1.2.0",
            "_view_name": "LayoutView",
            "align_content": null,
            "align_items": null,
            "align_self": null,
            "border": null,
            "bottom": null,
            "display": null,
            "flex": null,
            "flex_flow": null,
            "grid_area": null,
            "grid_auto_columns": null,
            "grid_auto_flow": null,
            "grid_auto_rows": null,
            "grid_column": null,
            "grid_gap": null,
            "grid_row": null,
            "grid_template_areas": null,
            "grid_template_columns": null,
            "grid_template_rows": null,
            "height": null,
            "justify_content": null,
            "justify_items": null,
            "left": null,
            "margin": null,
            "max_height": null,
            "max_width": null,
            "min_height": null,
            "min_width": null,
            "object_fit": null,
            "object_position": null,
            "order": null,
            "overflow": null,
            "overflow_x": null,
            "overflow_y": null,
            "padding": null,
            "right": null,
            "top": null,
            "visibility": null,
            "width": null
          }
        },
        "f2dad8759258420dae189e918b44b11e": {
          "model_module": "@jupyter-widgets/base",
          "model_module_version": "1.2.0",
          "model_name": "LayoutModel",
          "state": {
            "_model_module": "@jupyter-widgets/base",
            "_model_module_version": "1.2.0",
            "_model_name": "LayoutModel",
            "_view_count": null,
            "_view_module": "@jupyter-widgets/base",
            "_view_module_version": "1.2.0",
            "_view_name": "LayoutView",
            "align_content": null,
            "align_items": null,
            "align_self": null,
            "border": null,
            "bottom": null,
            "display": null,
            "flex": null,
            "flex_flow": null,
            "grid_area": null,
            "grid_auto_columns": null,
            "grid_auto_flow": null,
            "grid_auto_rows": null,
            "grid_column": null,
            "grid_gap": null,
            "grid_row": null,
            "grid_template_areas": null,
            "grid_template_columns": null,
            "grid_template_rows": null,
            "height": null,
            "justify_content": null,
            "justify_items": null,
            "left": null,
            "margin": null,
            "max_height": null,
            "max_width": null,
            "min_height": null,
            "min_width": null,
            "object_fit": null,
            "object_position": null,
            "order": null,
            "overflow": null,
            "overflow_x": null,
            "overflow_y": null,
            "padding": null,
            "right": null,
            "top": null,
            "visibility": null,
            "width": null
          }
        },
        "f4449af0b9ee4184a77e3aac06d4901d": {
          "model_module": "@jupyter-widgets/controls",
          "model_module_version": "1.5.0",
          "model_name": "HTMLModel",
          "state": {
            "_dom_classes": [],
            "_model_module": "@jupyter-widgets/controls",
            "_model_module_version": "1.5.0",
            "_model_name": "HTMLModel",
            "_view_count": null,
            "_view_module": "@jupyter-widgets/controls",
            "_view_module_version": "1.5.0",
            "_view_name": "HTMLView",
            "description": "",
            "description_tooltip": null,
            "layout": "IPY_MODEL_c60fb5a719dc4b09a3ef2a02860aed84",
            "placeholder": "​",
            "style": "IPY_MODEL_bd698800ff2c45eb82dfcbb95572e43c",
            "value": "Extraction completed...: "
          }
        }
      }
    }
  },
  "nbformat": 4,
  "nbformat_minor": 0
}