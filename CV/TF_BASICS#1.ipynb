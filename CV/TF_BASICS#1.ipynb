{
 "cells": [
  {
   "cell_type": "code",
   "execution_count": 1,
   "metadata": {},
   "outputs": [
    {
     "name": "stdout",
     "output_type": "stream",
     "text": [
      "WARNING:tensorflow:From c:\\Users\\rayga\\AppData\\Local\\Programs\\Python\\Python311\\Lib\\site-packages\\keras\\src\\losses.py:2976: The name tf.losses.sparse_softmax_cross_entropy is deprecated. Please use tf.compat.v1.losses.sparse_softmax_cross_entropy instead.\n",
      "\n"
     ]
    }
   ],
   "source": [
    "import tensorflow as tf\n",
    "import numpy as np"
   ]
  },
  {
   "cell_type": "code",
   "execution_count": 2,
   "metadata": {},
   "outputs": [],
   "source": [
    "# we created 0d tensor\n",
    "tensor_zero_d = tf.constant(4)"
   ]
  },
  {
   "cell_type": "code",
   "execution_count": 3,
   "metadata": {},
   "outputs": [
    {
     "name": "stdout",
     "output_type": "stream",
     "text": [
      "tf.Tensor([1 2 3], shape=(3,), dtype=int32)\n"
     ]
    }
   ],
   "source": [
    "tensor_one_d = tf.constant([1, 2, 3])\n",
    "print(tensor_one_d)"
   ]
  },
  {
   "cell_type": "code",
   "execution_count": 4,
   "metadata": {},
   "outputs": [],
   "source": [
    "tensor_two_d = tf.constant([\n",
    "    [1, 2, 3],\n",
    "    [2, 3, 4],\n",
    "    [3, 4, 5]\n",
    "])"
   ]
  },
  {
   "cell_type": "code",
   "execution_count": 5,
   "metadata": {},
   "outputs": [
    {
     "name": "stdout",
     "output_type": "stream",
     "text": [
      "tf.Tensor(\n",
      "[[1 2 3]\n",
      " [2 3 4]\n",
      " [3 4 5]], shape=(3, 3), dtype=int32)\n"
     ]
    }
   ],
   "source": [
    "print(tensor_two_d)"
   ]
  },
  {
   "cell_type": "code",
   "execution_count": 6,
   "metadata": {},
   "outputs": [],
   "source": [
    "tensor_three_d = tf.constant([\n",
    "    [[1, 2, 3],\n",
    "    [2, 3, 4]],\n",
    "\n",
    "    [[6, 6, 6],\n",
    "    [5, 5, 5]],\n",
    "\n",
    "    [[4, 4, 4],\n",
    "    [3, 3, 3]],\n",
    "])"
   ]
  },
  {
   "cell_type": "code",
   "execution_count": 7,
   "metadata": {},
   "outputs": [
    {
     "name": "stdout",
     "output_type": "stream",
     "text": [
      "tf.Tensor(\n",
      "[[[1 2 3]\n",
      "  [2 3 4]]\n",
      "\n",
      " [[6 6 6]\n",
      "  [5 5 5]]\n",
      "\n",
      " [[4 4 4]\n",
      "  [3 3 3]]], shape=(3, 2, 3), dtype=int32)\n"
     ]
    }
   ],
   "source": [
    "print(tensor_three_d)"
   ]
  },
  {
   "cell_type": "code",
   "execution_count": 8,
   "metadata": {},
   "outputs": [
    {
     "data": {
      "text/plain": [
       "TensorShape([3, 2, 3])"
      ]
     },
     "execution_count": 8,
     "metadata": {},
     "output_type": "execute_result"
    }
   ],
   "source": [
    "tensor_three_d.shape"
   ]
  },
  {
   "cell_type": "markdown",
   "metadata": {},
   "source": [
    "**We can cast Tensors (change dtypes of elems)**"
   ]
  },
  {
   "cell_type": "code",
   "execution_count": 9,
   "metadata": {},
   "outputs": [],
   "source": [
    "tensor_one_d = tf.constant([1, 2, 3], dtype=tf.float32)\n",
    "casted_tensor_one_d = tf.cast(tensor_one_d, dtype=tf.int16)"
   ]
  },
  {
   "cell_type": "code",
   "execution_count": 10,
   "metadata": {},
   "outputs": [
    {
     "name": "stdout",
     "output_type": "stream",
     "text": [
      "tf.Tensor([1. 2. 3.], shape=(3,), dtype=float32)\n"
     ]
    }
   ],
   "source": [
    "print(tensor_one_d)"
   ]
  },
  {
   "cell_type": "code",
   "execution_count": 11,
   "metadata": {},
   "outputs": [
    {
     "name": "stdout",
     "output_type": "stream",
     "text": [
      "tf.Tensor([1 2 3], shape=(3,), dtype=int16)\n"
     ]
    }
   ],
   "source": [
    "print(casted_tensor_one_d)"
   ]
  },
  {
   "cell_type": "code",
   "execution_count": 12,
   "metadata": {},
   "outputs": [
    {
     "name": "stdout",
     "output_type": "stream",
     "text": [
      "tf.Tensor(b'Hello world!', shape=(), dtype=string)\n"
     ]
    }
   ],
   "source": [
    "tensor_str = tf.constant(\"Hello world!\")\n",
    "print(tensor_str)"
   ]
  },
  {
   "cell_type": "code",
   "execution_count": 13,
   "metadata": {},
   "outputs": [
    {
     "name": "stdout",
     "output_type": "stream",
     "text": [
      "tf.Tensor([b'Hello' b'world!'], shape=(2,), dtype=string)\n"
     ]
    }
   ],
   "source": [
    "tensor_str = tf.constant(\"Hello world!\".split())\n",
    "print(tensor_str)"
   ]
  },
  {
   "cell_type": "code",
   "execution_count": 15,
   "metadata": {},
   "outputs": [
    {
     "data": {
      "text/plain": [
       "array([0, 1, 2, 3, 4, 5, 6, 7, 8, 9])"
      ]
     },
     "execution_count": 15,
     "metadata": {},
     "output_type": "execute_result"
    }
   ],
   "source": [
    "n_arr = np.arange(10)\n",
    "n_arr"
   ]
  },
  {
   "cell_type": "code",
   "execution_count": 17,
   "metadata": {},
   "outputs": [
    {
     "name": "stdout",
     "output_type": "stream",
     "text": [
      "tf.Tensor([0 1 2 3 4 5 6 7 8 9], shape=(10,), dtype=int32)\n"
     ]
    }
   ],
   "source": [
    "n_tensor = tf.constant(n_arr)\n",
    "print(n_tensor)"
   ]
  },
  {
   "cell_type": "code",
   "execution_count": 18,
   "metadata": {},
   "outputs": [],
   "source": [
    "# or"
   ]
  },
  {
   "cell_type": "code",
   "execution_count": 19,
   "metadata": {},
   "outputs": [
    {
     "name": "stdout",
     "output_type": "stream",
     "text": [
      "tf.Tensor([0 1 2 3 4 5 6 7 8 9], shape=(10,), dtype=int32)\n"
     ]
    }
   ],
   "source": [
    "converted_n = tf.convert_to_tensor(n_arr)\n",
    "print(converted_n)"
   ]
  },
  {
   "cell_type": "code",
   "execution_count": 20,
   "metadata": {},
   "outputs": [],
   "source": [
    "eye_tensor = tf.eye(\n",
    "    num_rows=5,\n",
    "    num_columns=5,\n",
    "    batch_shape=None,\n",
    "    dtype=tf.float32,\n",
    "    name='Balls'\n",
    ")"
   ]
  },
  {
   "cell_type": "code",
   "execution_count": 21,
   "metadata": {},
   "outputs": [
    {
     "data": {
      "text/plain": [
       "<tf.Tensor: shape=(5, 5), dtype=float32, numpy=\n",
       "array([[1., 0., 0., 0., 0.],\n",
       "       [0., 1., 0., 0., 0.],\n",
       "       [0., 0., 1., 0., 0.],\n",
       "       [0., 0., 0., 1., 0.],\n",
       "       [0., 0., 0., 0., 1.]], dtype=float32)>"
      ]
     },
     "execution_count": 21,
     "metadata": {},
     "output_type": "execute_result"
    }
   ],
   "source": [
    "eye_tensor"
   ]
  },
  {
   "cell_type": "code",
   "execution_count": 22,
   "metadata": {},
   "outputs": [],
   "source": [
    "# we created matrix as you can see"
   ]
  },
  {
   "cell_type": "code",
   "execution_count": 24,
   "metadata": {},
   "outputs": [],
   "source": [
    "eye_tensor = tf.eye(\n",
    "    num_rows=3,\n",
    "    num_columns=None,\n",
    "    batch_shape=None,\n",
    "    dtype=tf.int16,\n",
    "    name=None\n",
    ")"
   ]
  },
  {
   "cell_type": "code",
   "execution_count": 25,
   "metadata": {},
   "outputs": [
    {
     "name": "stdout",
     "output_type": "stream",
     "text": [
      "tf.Tensor(\n",
      "[[1 0 0]\n",
      " [0 1 0]\n",
      " [0 0 1]], shape=(3, 3), dtype=int16)\n"
     ]
    }
   ],
   "source": [
    "print(eye_tensor)"
   ]
  },
  {
   "cell_type": "code",
   "execution_count": 28,
   "metadata": {},
   "outputs": [],
   "source": [
    "eye_tensor = tf.eye(\n",
    "    num_rows=1,\n",
    "    num_columns=3,\n",
    "    batch_shape=None,\n",
    "    dtype=tf.int16,\n",
    "    name=None\n",
    ")"
   ]
  },
  {
   "cell_type": "code",
   "execution_count": 29,
   "metadata": {},
   "outputs": [
    {
     "name": "stdout",
     "output_type": "stream",
     "text": [
      "tf.Tensor([[1 0 0]], shape=(1, 3), dtype=int16)\n"
     ]
    }
   ],
   "source": [
    "print(eye_tensor)"
   ]
  },
  {
   "cell_type": "code",
   "execution_count": 39,
   "metadata": {},
   "outputs": [],
   "source": [
    "eye_tensor = tf.eye(\n",
    "    num_rows=5,\n",
    "    num_columns=6,\n",
    "    batch_shape=[3],\n",
    "    dtype=tf.int16,\n",
    "    name=None\n",
    ")"
   ]
  },
  {
   "cell_type": "code",
   "execution_count": 40,
   "metadata": {},
   "outputs": [
    {
     "name": "stdout",
     "output_type": "stream",
     "text": [
      "tf.Tensor(\n",
      "[[[1 0 0 0 0 0]\n",
      "  [0 1 0 0 0 0]\n",
      "  [0 0 1 0 0 0]\n",
      "  [0 0 0 1 0 0]\n",
      "  [0 0 0 0 1 0]]\n",
      "\n",
      " [[1 0 0 0 0 0]\n",
      "  [0 1 0 0 0 0]\n",
      "  [0 0 1 0 0 0]\n",
      "  [0 0 0 1 0 0]\n",
      "  [0 0 0 0 1 0]]\n",
      "\n",
      " [[1 0 0 0 0 0]\n",
      "  [0 1 0 0 0 0]\n",
      "  [0 0 1 0 0 0]\n",
      "  [0 0 0 1 0 0]\n",
      "  [0 0 0 0 1 0]]], shape=(3, 5, 6), dtype=int16)\n"
     ]
    }
   ],
   "source": [
    "print(eye_tensor)"
   ]
  },
  {
   "cell_type": "code",
   "execution_count": 41,
   "metadata": {},
   "outputs": [],
   "source": [
    "# Woah! That's cool"
   ]
  },
  {
   "cell_type": "code",
   "execution_count": 42,
   "metadata": {},
   "outputs": [],
   "source": [
    "# we can create them also in this way⬇⬇⬇"
   ]
  },
  {
   "cell_type": "code",
   "execution_count": 43,
   "metadata": {},
   "outputs": [],
   "source": [
    "filled_tensor = tf.fill(\n",
    "    [3, 4], 1\n",
    ")"
   ]
  },
  {
   "cell_type": "code",
   "execution_count": 44,
   "metadata": {},
   "outputs": [
    {
     "name": "stdout",
     "output_type": "stream",
     "text": [
      "tf.Tensor(\n",
      "[[1 1 1 1]\n",
      " [1 1 1 1]\n",
      " [1 1 1 1]], shape=(3, 4), dtype=int32)\n"
     ]
    }
   ],
   "source": [
    "print(filled_tensor)"
   ]
  },
  {
   "cell_type": "code",
   "execution_count": 46,
   "metadata": {},
   "outputs": [],
   "source": [
    "# it's similar to np.ones or np.zeros\n",
    "# but with matricies"
   ]
  },
  {
   "cell_type": "markdown",
   "metadata": {},
   "source": [
    "**M A T R I X** <br>\n",
    "<img src='data:image/jpeg;base64,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' width=33%>"
   ]
  },
  {
   "cell_type": "code",
   "execution_count": 47,
   "metadata": {},
   "outputs": [],
   "source": [
    "# Above I said that fill is familiar with np.ones\n",
    "# But what can be more familiar with np.ones than tf.fill\n",
    "# tf.ones !"
   ]
  },
  {
   "cell_type": "code",
   "execution_count": 48,
   "metadata": {},
   "outputs": [],
   "source": [
    "ones_tensor = tf.ones(\n",
    "    [3, 4, 5]\n",
    ")"
   ]
  },
  {
   "cell_type": "code",
   "execution_count": 49,
   "metadata": {},
   "outputs": [
    {
     "name": "stdout",
     "output_type": "stream",
     "text": [
      "tf.Tensor(\n",
      "[[[1. 1. 1. 1. 1.]\n",
      "  [1. 1. 1. 1. 1.]\n",
      "  [1. 1. 1. 1. 1.]\n",
      "  [1. 1. 1. 1. 1.]]\n",
      "\n",
      " [[1. 1. 1. 1. 1.]\n",
      "  [1. 1. 1. 1. 1.]\n",
      "  [1. 1. 1. 1. 1.]\n",
      "  [1. 1. 1. 1. 1.]]\n",
      "\n",
      " [[1. 1. 1. 1. 1.]\n",
      "  [1. 1. 1. 1. 1.]\n",
      "  [1. 1. 1. 1. 1.]\n",
      "  [1. 1. 1. 1. 1.]]], shape=(3, 4, 5), dtype=float32)\n"
     ]
    }
   ],
   "source": [
    "print(ones_tensor)"
   ]
  },
  {
   "cell_type": "code",
   "execution_count": 52,
   "metadata": {},
   "outputs": [],
   "source": [
    "filled_tensor = tf.fill(\n",
    "    [3, 4], 5\n",
    ")\n",
    "ones_like_tensor = tf.ones_like(filled_tensor)"
   ]
  },
  {
   "cell_type": "code",
   "execution_count": 53,
   "metadata": {},
   "outputs": [
    {
     "name": "stdout",
     "output_type": "stream",
     "text": [
      "tf.Tensor(\n",
      "[[1 1 1 1]\n",
      " [1 1 1 1]\n",
      " [1 1 1 1]], shape=(3, 4), dtype=int32)\n"
     ]
    }
   ],
   "source": [
    "print(ones_like_tensor)"
   ]
  },
  {
   "cell_type": "code",
   "execution_count": 80,
   "metadata": {},
   "outputs": [
    {
     "name": "stdout",
     "output_type": "stream",
     "text": [
      "tf.Tensor(\n",
      "[[ 98.42092  101.823135 102.92363  ...  96.37299  104.50117   99.73677 ]\n",
      " [100.36237   97.27384   97.37491  ... 101.68246   96.85072  102.10867 ]\n",
      " [100.98616  101.227295  97.33316  ... 102.33197   97.50329  102.43306 ]\n",
      " ...\n",
      " [ 98.727974 100.262886  98.50809  ...  98.489006 101.480125 103.088295]\n",
      " [101.22879   93.14038   98.87614  ... 101.70721  100.61117   98.144066]\n",
      " [ 97.83322  100.35575   99.80337  ...  99.539055  97.72695   98.775696]], shape=(100, 100), dtype=float32)\n"
     ]
    }
   ],
   "source": [
    "random_tensor_norm = tf.random.normal(\n",
    "    [100, 100],\n",
    "    mean=100.0,\n",
    "    stddev=2.5,\n",
    "    dtype=tf.dtypes.float32,\n",
    "    seed=None,\n",
    "    name=None\n",
    ")\n",
    "\n",
    "\n",
    "print(random_tensor_norm)"
   ]
  },
  {
   "cell_type": "code",
   "execution_count": 81,
   "metadata": {},
   "outputs": [],
   "source": [
    "import seaborn as sns\n",
    "import warnings"
   ]
  },
  {
   "cell_type": "code",
   "execution_count": 82,
   "metadata": {},
   "outputs": [],
   "source": [
    "warnings.filterwarnings('ignore')"
   ]
  },
  {
   "cell_type": "code",
   "execution_count": 83,
   "metadata": {},
   "outputs": [
    {
     "data": {
      "image/png": "[encoded data removed]",
      "text/plain": [
       "<Figure size 640x480 with 1 Axes>"
      ]
     },
     "metadata": {},
     "output_type": "display_data"
    }
   ],
   "source": [
    "sns.distplot(random_tensor_norm);"
   ]
  },
  {
   "cell_type": "code",
   "execution_count": 101,
   "metadata": {},
   "outputs": [],
   "source": [
    "rand_unif_tensor = tf.random.uniform(\n",
    "    [1000, 1000],\n",
    "    minval=0,\n",
    "    maxval=100,\n",
    "    dtype=tf.float32,\n",
    "    seed=10,\n",
    "    name=None\n",
    ")"
   ]
  },
  {
   "cell_type": "code",
   "execution_count": 102,
   "metadata": {},
   "outputs": [
    {
     "data": {
      "text/plain": [
       "<Axes: ylabel='Density'>"
      ]
     },
     "execution_count": 102,
     "metadata": {},
     "output_type": "execute_result"
    },
    {
     "data": {
      "image/png": "[encoded data removed]",
      "text/plain": [
       "<Figure size 640x480 with 1 Axes>"
      ]
     },
     "metadata": {},
     "output_type": "display_data"
    }
   ],
   "source": [
    "sns.distplot(rand_unif_tensor)"
   ]
  },
  {
   "cell_type": "code",
   "execution_count": null,
   "metadata": {},
   "outputs": [],
   "source": []
  }
 ],
 "metadata": {
  "kernelspec": {
   "display_name": "Python 3",
   "language": "python",
   "name": "python3"
  },
  "language_info": {
   "codemirror_mode": {
    "name": "ipython",
    "version": 3
   },
   "file_extension": ".py",
   "mimetype": "text/x-python",
   "name": "python",
   "nbconvert_exporter": "python",
   "pygments_lexer": "ipython3",
   "version": "3.11.4"
  }
 },
 "nbformat": 4,
 "nbformat_minor": 2
}
