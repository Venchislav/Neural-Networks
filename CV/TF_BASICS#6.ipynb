{
  "cells": [
    {
      "cell_type": "code",
      "execution_count": 1,
      "metadata": {
        "id": "d9ZTirwlJgsg"
      },
      "outputs": [],
      "source": [
        "import tensorflow as tf"
      ]
    },
    {
      "cell_type": "markdown",
      "metadata": {
        "id": "v14ULvvdJgsm"
      },
      "source": [
        "# **SPARSE TENSORS**"
      ]
    },
    {
      "cell_type": "code",
      "execution_count": 2,
      "metadata": {
        "id": "bjhVMkauJgsp"
      },
      "outputs": [],
      "source": [
        "tensor_sparse = tf.sparse.SparseTensor(\n",
        "    indices=[[1, 1], [3, 4]], values=[11, 55], dense_shape=[5, 6]\n",
        ")"
      ]
    },
    {
      "cell_type": "code",
      "execution_count": 3,
      "metadata": {
        "colab": {
          "base_uri": "https://localhost:8080/"
        },
        "id": "61o7Y8FeJgsq",
        "outputId": "c57d05a9-5e9c-4e75-9330-2516ece0b99a"
      },
      "outputs": [
        {
          "output_type": "stream",
          "name": "stdout",
          "text": [
            "tf.Tensor(\n",
            "[[ 0  0  0  0  0  0]\n",
            " [ 0 11  0  0  0  0]\n",
            " [ 0  0  0  0  0  0]\n",
            " [ 0  0  0  0 55  0]\n",
            " [ 0  0  0  0  0  0]], shape=(5, 6), dtype=int32)\n"
          ]
        }
      ],
      "source": [
        "sparsed = tf.sparse.to_dense(tensor_sparse)\n",
        "print(sparsed)"
      ]
    },
    {
      "cell_type": "code",
      "execution_count": 4,
      "metadata": {
        "id": "knRjChWzJgss"
      },
      "outputs": [],
      "source": [
        "# sparsed tensor is tensor of dense_shape shape\n",
        "# filled with 0s excepting custom values on special indecies"
      ]
    },
    {
      "cell_type": "code",
      "execution_count": 4,
      "metadata": {
        "id": "gIDAzhhvJgss"
      },
      "outputs": [],
      "source": []
    },
    {
      "cell_type": "markdown",
      "metadata": {
        "id": "qqQ2ynKLJgss"
      },
      "source": [
        "# **STRING TENSORS**"
      ]
    },
    {
      "cell_type": "code",
      "execution_count": 5,
      "metadata": {
        "colab": {
          "base_uri": "https://localhost:8080/"
        },
        "id": "3EsU6nKfJgss",
        "outputId": "f64d7bf5-1d17-4ea9-cb0b-4fda523f0539"
      },
      "outputs": [
        {
          "output_type": "stream",
          "name": "stdout",
          "text": [
            "tf.Tensor([b'hello' b'world' b'!'], shape=(3,), dtype=string)\n"
          ]
        }
      ],
      "source": [
        "tensor_string = tf.constant(['hello', 'world', '!'])\n",
        "print(tensor_string)"
      ]
    },
    {
      "cell_type": "code",
      "execution_count": 6,
      "metadata": {
        "colab": {
          "base_uri": "https://localhost:8080/"
        },
        "id": "KzoRcBXlJgss",
        "outputId": "ab72cc81-99c7-49c8-f976-5e5718d80949"
      },
      "outputs": [
        {
          "output_type": "stream",
          "name": "stdout",
          "text": [
            "tf.Tensor(b'Hello Fellow Kids', shape=(), dtype=string)\n"
          ]
        }
      ],
      "source": [
        "print(tf.strings.join(['Hello', 'Fellow', 'Kids'], separator=' '))"
      ]
    },
    {
      "cell_type": "code",
      "execution_count": 7,
      "metadata": {
        "colab": {
          "base_uri": "https://localhost:8080/"
        },
        "id": "NpV205f1Jgss",
        "outputId": "846ee09f-a1c9-4078-c25d-a9bdd828d6e3"
      },
      "outputs": [
        {
          "output_type": "stream",
          "name": "stdout",
          "text": [
            "tf.Tensor([ 3 12 10 14  2], shape=(5,), dtype=int32)\n"
          ]
        }
      ],
      "source": [
        "print(tf.strings.length(['All', 'we had to do', 'was follow', 'the damn train', 'Cj']))"
      ]
    },
    {
      "cell_type": "code",
      "execution_count": 7,
      "metadata": {
        "id": "PGob6fO9Jgst"
      },
      "outputs": [],
      "source": []
    },
    {
      "cell_type": "markdown",
      "metadata": {
        "id": "ghAVwRIMJgst"
      },
      "source": [
        "# **VARIABLES**"
      ]
    },
    {
      "cell_type": "code",
      "execution_count": 8,
      "metadata": {
        "id": "iUg66VGbJgst"
      },
      "outputs": [],
      "source": [
        "x = tf.constant([1, 2])"
      ]
    },
    {
      "cell_type": "code",
      "execution_count": 9,
      "metadata": {
        "id": "zgkRt47rJgst"
      },
      "outputs": [],
      "source": [
        "x_var = tf.Variable(x, name='var1')"
      ]
    },
    {
      "cell_type": "code",
      "execution_count": 10,
      "metadata": {
        "colab": {
          "base_uri": "https://localhost:8080/"
        },
        "id": "6Lb-dOt5Jgst",
        "outputId": "f489348d-15ef-4cf8-d032-d3987d4527fe"
      },
      "outputs": [
        {
          "output_type": "stream",
          "name": "stdout",
          "text": [
            "<tf.Variable 'var1:0' shape=(2,) dtype=int32, numpy=array([1, 2], dtype=int32)>\n"
          ]
        }
      ],
      "source": [
        "print(x_var)"
      ]
    },
    {
      "cell_type": "code",
      "execution_count": 11,
      "metadata": {
        "colab": {
          "base_uri": "https://localhost:8080/"
        },
        "id": "LFzm6UoFJgst",
        "outputId": "c9dc116c-b178-4b7e-bc0a-ffe95ecbd0c6"
      },
      "outputs": [
        {
          "output_type": "stream",
          "name": "stdout",
          "text": [
            "<tf.Variable 'Variable:0' shape=() dtype=int32, numpy=1>\n"
          ]
        }
      ],
      "source": [
        "x = tf.Variable(0)\n",
        "x.assign(1)\n",
        "print(x)"
      ]
    },
    {
      "cell_type": "code",
      "execution_count": 12,
      "metadata": {
        "colab": {
          "base_uri": "https://localhost:8080/"
        },
        "id": "dJtsC-7pJgst",
        "outputId": "90b6dcd3-854d-4a4d-ca9c-f5e252118eac"
      },
      "outputs": [
        {
          "output_type": "stream",
          "name": "stdout",
          "text": [
            "<tf.Variable 'var1:0' shape=(2,) dtype=int32, numpy=array([1, 2], dtype=int32)>\n"
          ]
        }
      ],
      "source": [
        "print(x_var)"
      ]
    },
    {
      "cell_type": "code",
      "execution_count": 13,
      "metadata": {
        "colab": {
          "base_uri": "https://localhost:8080/"
        },
        "id": "Hi0XP_3YJgst",
        "outputId": "7bf680bc-9147-480d-9c87-bcd2ece3e480"
      },
      "outputs": [
        {
          "output_type": "execute_result",
          "data": {
            "text/plain": [
              "<tf.Variable 'UnreadVariable' shape=(2,) dtype=int32, numpy=array([0, 1], dtype=int32)>"
            ]
          },
          "metadata": {},
          "execution_count": 13
        }
      ],
      "source": [
        "# assigning new var value with substracting arg from original value\n",
        "x_var.assign_sub([1, 1])"
      ]
    },
    {
      "cell_type": "code",
      "execution_count": 14,
      "metadata": {
        "colab": {
          "base_uri": "https://localhost:8080/"
        },
        "id": "uD58QkYmJgsu",
        "outputId": "3b12c2a8-931c-4fbd-8aee-7ecb002d7250"
      },
      "outputs": [
        {
          "output_type": "stream",
          "name": "stdout",
          "text": [
            "<tf.Variable 'var1:0' shape=(2,) dtype=int32, numpy=array([5, 7], dtype=int32)>\n"
          ]
        }
      ],
      "source": [
        "# the same explanation is for\n",
        "x_var.assign_add([5, 6])\n",
        "print(x_var)"
      ]
    },
    {
      "cell_type": "code",
      "execution_count": 15,
      "metadata": {
        "id": "En1oKHBzJgsu"
      },
      "outputs": [],
      "source": [
        "# damn...\n",
        "# Tutorial says that we are gonna be using GPU now...\n",
        "# And I'm in vscode and have an Amd card\n",
        "# And kinda lazy to watch these GPU setup tutorials...\n",
        "# See ya in CoLab."
      ]
    },
    {
      "cell_type": "code",
      "source": [
        "# Two hours later: (meme from sponge bob ya know)\n",
        "# ok. Now I'm in colab"
      ],
      "metadata": {
        "id": "8FKk0vf5KYCQ"
      },
      "execution_count": 16,
      "outputs": []
    },
    {
      "cell_type": "code",
      "source": [
        "tf.test.gpu_device_name()"
      ],
      "metadata": {
        "colab": {
          "base_uri": "https://localhost:8080/",
          "height": 35
        },
        "id": "nt1Q4LJoKpk5",
        "outputId": "e49a3aa3-cf7d-4230-a918-ca2fc44ec48e"
      },
      "execution_count": 19,
      "outputs": [
        {
          "output_type": "execute_result",
          "data": {
            "text/plain": [
              "'/device:GPU:0'"
            ],
            "application/vnd.google.colaboratory.intrinsic+json": {
              "type": "string"
            }
          },
          "metadata": {},
          "execution_count": 19
        }
      ]
    },
    {
      "cell_type": "code",
      "source": [
        "with tf.device('/device:GPU:0'):\n",
        "  x_tens = tf.constant([1, 2, 3], dtype=float)\n"
      ],
      "metadata": {
        "colab": {
          "base_uri": "https://localhost:8080/"
        },
        "id": "l01tIp5gKDiy",
        "outputId": "dff99971-1b15-4fd1-f377-bf21fb46dd85"
      },
      "execution_count": 30,
      "outputs": [
        {
          "output_type": "execute_result",
          "data": {
            "text/plain": [
              "<tf.Variable 'Variable:0' shape=() dtype=int32, numpy=1>"
            ]
          },
          "metadata": {},
          "execution_count": 30
        }
      ]
    },
    {
      "cell_type": "code",
      "source": [
        "x_tens.device"
      ],
      "metadata": {
        "colab": {
          "base_uri": "https://localhost:8080/",
          "height": 35
        },
        "id": "FzAENr5xMnEJ",
        "outputId": "993e71b4-ac2e-4fc4-a5f0-86070d166563"
      },
      "execution_count": 32,
      "outputs": [
        {
          "output_type": "execute_result",
          "data": {
            "text/plain": [
              "'/job:localhost/replica:0/task:0/device:GPU:0'"
            ],
            "application/vnd.google.colaboratory.intrinsic+json": {
              "type": "string"
            }
          },
          "metadata": {},
          "execution_count": 32
        }
      ]
    },
    {
      "cell_type": "markdown",
      "source": [
        "# 🍾🍾🍾🎉🎉🎉\n",
        "# **WOOOOOOOO!**\n",
        "# **I finished basics module**\n",
        "# **We start building neural networks with TensorFlow since Now**"
      ],
      "metadata": {
        "id": "kA4XBrBONfqu"
      }
    }
  ],
  "metadata": {
    "kernelspec": {
      "display_name": "Python 3",
      "name": "python3"
    },
    "language_info": {
      "codemirror_mode": {
        "name": "ipython",
        "version": 3
      },
      "file_extension": ".py",
      "mimetype": "text/x-python",
      "name": "python",
      "nbconvert_exporter": "python",
      "pygments_lexer": "ipython3",
      "version": "3.11.4"
    },
    "colab": {
      "provenance": [],
      "gpuType": "T4"
    },
    "accelerator": "GPU"
  },
  "nbformat": 4,
  "nbformat_minor": 0
}