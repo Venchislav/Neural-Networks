{
 "cells": [
  {
   "cell_type": "code",
   "execution_count": 31,
   "metadata": {},
   "outputs": [],
   "source": [
    "import tensorflow as tf"
   ]
  },
  {
   "cell_type": "markdown",
   "metadata": {},
   "source": [
    "# **SPARSE TENSORS**"
   ]
  },
  {
   "cell_type": "code",
   "execution_count": 32,
   "metadata": {},
   "outputs": [],
   "source": [
    "tensor_sparse = tf.sparse.SparseTensor(\n",
    "    indices=[[1, 1], [3, 4]], values=[11, 55], dense_shape=[5, 6]\n",
    ")"
   ]
  },
  {
   "cell_type": "code",
   "execution_count": 33,
   "metadata": {},
   "outputs": [
    {
     "name": "stdout",
     "output_type": "stream",
     "text": [
      "tf.Tensor(\n",
      "[[ 0  0  0  0  0  0]\n",
      " [ 0 11  0  0  0  0]\n",
      " [ 0  0  0  0  0  0]\n",
      " [ 0  0  0  0 55  0]\n",
      " [ 0  0  0  0  0  0]], shape=(5, 6), dtype=int32)\n"
     ]
    }
   ],
   "source": [
    "sparsed = tf.sparse.to_dense(tensor_sparse)\n",
    "print(sparsed)"
   ]
  },
  {
   "cell_type": "code",
   "execution_count": 34,
   "metadata": {},
   "outputs": [],
   "source": [
    "# sparsed tensor is tensor of dense_shape shape\n",
    "# filled with 0s excepting custom values on special indecies"
   ]
  },
  {
   "cell_type": "code",
   "execution_count": null,
   "metadata": {},
   "outputs": [],
   "source": []
  },
  {
   "cell_type": "markdown",
   "metadata": {},
   "source": [
    "# **STRING TENSORS**"
   ]
  },
  {
   "cell_type": "code",
   "execution_count": 35,
   "metadata": {},
   "outputs": [
    {
     "name": "stdout",
     "output_type": "stream",
     "text": [
      "tf.Tensor([b'hello' b'world' b'!'], shape=(3,), dtype=string)\n"
     ]
    }
   ],
   "source": [
    "tensor_string = tf.constant(['hello', 'world', '!'])\n",
    "print(tensor_string)"
   ]
  },
  {
   "cell_type": "code",
   "execution_count": 36,
   "metadata": {},
   "outputs": [
    {
     "name": "stdout",
     "output_type": "stream",
     "text": [
      "tf.Tensor(b'Hello Fellow Kids', shape=(), dtype=string)\n"
     ]
    }
   ],
   "source": [
    "print(tf.strings.join(['Hello', 'Fellow', 'Kids'], separator=' '))"
   ]
  },
  {
   "cell_type": "code",
   "execution_count": 37,
   "metadata": {},
   "outputs": [
    {
     "name": "stdout",
     "output_type": "stream",
     "text": [
      "tf.Tensor([ 3 12 10 14  2], shape=(5,), dtype=int32)\n"
     ]
    }
   ],
   "source": [
    "print(tf.strings.length(['All', 'we had to do', 'was follow', 'the damn train', 'Cj']))"
   ]
  },
  {
   "cell_type": "code",
   "execution_count": null,
   "metadata": {},
   "outputs": [],
   "source": []
  },
  {
   "cell_type": "markdown",
   "metadata": {},
   "source": [
    "# **VARIABLES**"
   ]
  },
  {
   "cell_type": "code",
   "execution_count": 38,
   "metadata": {},
   "outputs": [],
   "source": [
    "x = tf.constant([1, 2])"
   ]
  },
  {
   "cell_type": "code",
   "execution_count": 39,
   "metadata": {},
   "outputs": [],
   "source": [
    "x_var = tf.Variable(x, name='var1')"
   ]
  },
  {
   "cell_type": "code",
   "execution_count": 40,
   "metadata": {},
   "outputs": [
    {
     "name": "stdout",
     "output_type": "stream",
     "text": [
      "<tf.Variable 'var1:0' shape=(2,) dtype=int32, numpy=array([1, 2])>\n"
     ]
    }
   ],
   "source": [
    "print(x_var)"
   ]
  },
  {
   "cell_type": "code",
   "execution_count": 41,
   "metadata": {},
   "outputs": [
    {
     "name": "stdout",
     "output_type": "stream",
     "text": [
      "<tf.Variable 'Variable:0' shape=() dtype=int32, numpy=1>\n"
     ]
    }
   ],
   "source": [
    "x = tf.Variable(0)\n",
    "x.assign(1)\n",
    "print(x)"
   ]
  },
  {
   "cell_type": "code",
   "execution_count": 42,
   "metadata": {},
   "outputs": [
    {
     "name": "stdout",
     "output_type": "stream",
     "text": [
      "<tf.Variable 'var1:0' shape=(2,) dtype=int32, numpy=array([1, 2])>\n"
     ]
    }
   ],
   "source": [
    "print(x_var)"
   ]
  },
  {
   "cell_type": "code",
   "execution_count": 43,
   "metadata": {},
   "outputs": [
    {
     "data": {
      "text/plain": [
       "<tf.Variable 'UnreadVariable' shape=(2,) dtype=int32, numpy=array([0, 1])>"
      ]
     },
     "execution_count": 43,
     "metadata": {},
     "output_type": "execute_result"
    }
   ],
   "source": [
    "# assigning new var value with substracting arg from original value\n",
    "x_var.assign_sub([1, 1])"
   ]
  },
  {
   "cell_type": "code",
   "execution_count": 44,
   "metadata": {},
   "outputs": [
    {
     "name": "stdout",
     "output_type": "stream",
     "text": [
      "<tf.Variable 'var1:0' shape=(2,) dtype=int32, numpy=array([5, 7])>\n"
     ]
    }
   ],
   "source": [
    "# the same explanation is for\n",
    "x_var.assign_add([5, 6])\n",
    "print(x_var)"
   ]
  },
  {
   "cell_type": "code",
   "execution_count": null,
   "metadata": {},
   "outputs": [],
   "source": [
    "# damn...\n",
    "# Tutorial says that we are gonna be using GPU now...\n",
    "# And I'm in vscode and have an Amd card\n",
    "# And kinda lazy to watch these GPU setup tutorials...\n",
    "# See ya in CoLab."
   ]
  }
 ],
 "metadata": {
  "kernelspec": {
   "display_name": "Python 3",
   "language": "python",
   "name": "python3"
  },
  "language_info": {
   "codemirror_mode": {
    "name": "ipython",
    "version": 3
   },
   "file_extension": ".py",
   "mimetype": "text/x-python",
   "name": "python",
   "nbconvert_exporter": "python",
   "pygments_lexer": "ipython3",
   "version": "3.11.4"
  }
 },
 "nbformat": 4,
 "nbformat_minor": 2
}
