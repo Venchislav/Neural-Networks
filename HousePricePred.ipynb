{
  "nbformat": 4,
  "nbformat_minor": 0,
  "metadata": {
    "colab": {
      "provenance": []
    },
    "kernelspec": {
      "name": "python3",
      "display_name": "Python 3"
    },
    "language_info": {
      "name": "python"
    }
  },
  "cells": [
    {
      "cell_type": "code",
      "execution_count": 8,
      "metadata": {
        "id": "z2kI9cr4muNX"
      },
      "outputs": [],
      "source": [
        "import tensorflow as tf\n",
        "import numpy as np\n",
        "import pandas as pd\n",
        "import warnings"
      ]
    },
    {
      "cell_type": "code",
      "source": [
        "warnings.filterwarnings('ignore')"
      ],
      "metadata": {
        "id": "E2LeibFZnYpH"
      },
      "execution_count": 9,
      "outputs": []
    },
    {
      "cell_type": "code",
      "source": [
        "df = pd.read_csv('/content/housing_price_dataset.csv')\n",
        "df.head()"
      ],
      "metadata": {
        "colab": {
          "base_uri": "https://localhost:8080/",
          "height": 206
        },
        "id": "rfuhWuP2m3J-",
        "outputId": "533139e9-be44-4e4f-995d-54bacc5ef3cc"
      },
      "execution_count": 2,
      "outputs": [
        {
          "output_type": "execute_result",
          "data": {
            "text/plain": [
              "   SquareFeet  Bedrooms  Bathrooms Neighborhood  YearBuilt          Price\n",
              "0        2126         4          1        Rural       1969  215355.283618\n",
              "1        2459         3          2        Rural       1980  195014.221626\n",
              "2        1860         2          1       Suburb       1970  306891.012076\n",
              "3        2294         2          1        Urban       1996  206786.787153\n",
              "4        2130         5          2       Suburb       2001  272436.239065"
            ],
            "text/html": [
              "\n",
              "  <div id=\"df-ecbda387-c5cf-492d-94a5-808dbed84b85\" class=\"colab-df-container\">\n",
              "    <div>\n",
              "<style scoped>\n",
              "    .dataframe tbody tr th:only-of-type {\n",
              "        vertical-align: middle;\n",
              "    }\n",
              "\n",
              "    .dataframe tbody tr th {\n",
              "        vertical-align: top;\n",
              "    }\n",
              "\n",
              "    .dataframe thead th {\n",
              "        text-align: right;\n",
              "    }\n",
              "</style>\n",
              "<table border=\"1\" class=\"dataframe\">\n",
              "  <thead>\n",
              "    <tr style=\"text-align: right;\">\n",
              "      <th></th>\n",
              "      <th>SquareFeet</th>\n",
              "      <th>Bedrooms</th>\n",
              "      <th>Bathrooms</th>\n",
              "      <th>Neighborhood</th>\n",
              "      <th>YearBuilt</th>\n",
              "      <th>Price</th>\n",
              "    </tr>\n",
              "  </thead>\n",
              "  <tbody>\n",
              "    <tr>\n",
              "      <th>0</th>\n",
              "      <td>2126</td>\n",
              "      <td>4</td>\n",
              "      <td>1</td>\n",
              "      <td>Rural</td>\n",
              "      <td>1969</td>\n",
              "      <td>215355.283618</td>\n",
              "    </tr>\n",
              "    <tr>\n",
              "      <th>1</th>\n",
              "      <td>2459</td>\n",
              "      <td>3</td>\n",
              "      <td>2</td>\n",
              "      <td>Rural</td>\n",
              "      <td>1980</td>\n",
              "      <td>195014.221626</td>\n",
              "    </tr>\n",
              "    <tr>\n",
              "      <th>2</th>\n",
              "      <td>1860</td>\n",
              "      <td>2</td>\n",
              "      <td>1</td>\n",
              "      <td>Suburb</td>\n",
              "      <td>1970</td>\n",
              "      <td>306891.012076</td>\n",
              "    </tr>\n",
              "    <tr>\n",
              "      <th>3</th>\n",
              "      <td>2294</td>\n",
              "      <td>2</td>\n",
              "      <td>1</td>\n",
              "      <td>Urban</td>\n",
              "      <td>1996</td>\n",
              "      <td>206786.787153</td>\n",
              "    </tr>\n",
              "    <tr>\n",
              "      <th>4</th>\n",
              "      <td>2130</td>\n",
              "      <td>5</td>\n",
              "      <td>2</td>\n",
              "      <td>Suburb</td>\n",
              "      <td>2001</td>\n",
              "      <td>272436.239065</td>\n",
              "    </tr>\n",
              "  </tbody>\n",
              "</table>\n",
              "</div>\n",
              "    <div class=\"colab-df-buttons\">\n",
              "\n",
              "  <div class=\"colab-df-container\">\n",
              "    <button class=\"colab-df-convert\" onclick=\"convertToInteractive('df-ecbda387-c5cf-492d-94a5-808dbed84b85')\"\n",
              "            title=\"Convert this dataframe to an interactive table.\"\n",
              "            style=\"display:none;\">\n",
              "\n",
              "  <svg xmlns=\"http://www.w3.org/2000/svg\" height=\"24px\" viewBox=\"0 -960 960 960\">\n",
              "    <path d=\"M120-120v-720h720v720H120Zm60-500h600v-160H180v160Zm220 220h160v-160H400v160Zm0 220h160v-160H400v160ZM180-400h160v-160H180v160Zm440 0h160v-160H620v160ZM180-180h160v-160H180v160Zm440 0h160v-160H620v160Z\"/>\n",
              "  </svg>\n",
              "    </button>\n",
              "\n",
              "  <style>\n",
              "    .colab-df-container {\n",
              "      display:flex;\n",
              "      gap: 12px;\n",
              "    }\n",
              "\n",
              "    .colab-df-convert {\n",
              "      background-color: #E8F0FE;\n",
              "      border: none;\n",
              "      border-radius: 50%;\n",
              "      cursor: pointer;\n",
              "      display: none;\n",
              "      fill: #1967D2;\n",
              "      height: 32px;\n",
              "      padding: 0 0 0 0;\n",
              "      width: 32px;\n",
              "    }\n",
              "\n",
              "    .colab-df-convert:hover {\n",
              "      background-color: #E2EBFA;\n",
              "      box-shadow: 0px 1px 2px rgba(60, 64, 67, 0.3), 0px 1px 3px 1px rgba(60, 64, 67, 0.15);\n",
              "      fill: #174EA6;\n",
              "    }\n",
              "\n",
              "    .colab-df-buttons div {\n",
              "      margin-bottom: 4px;\n",
              "    }\n",
              "\n",
              "    [theme=dark] .colab-df-convert {\n",
              "      background-color: #3B4455;\n",
              "      fill: #D2E3FC;\n",
              "    }\n",
              "\n",
              "    [theme=dark] .colab-df-convert:hover {\n",
              "      background-color: #434B5C;\n",
              "      box-shadow: 0px 1px 3px 1px rgba(0, 0, 0, 0.15);\n",
              "      filter: drop-shadow(0px 1px 2px rgba(0, 0, 0, 0.3));\n",
              "      fill: #FFFFFF;\n",
              "    }\n",
              "  </style>\n",
              "\n",
              "    <script>\n",
              "      const buttonEl =\n",
              "        document.querySelector('#df-ecbda387-c5cf-492d-94a5-808dbed84b85 button.colab-df-convert');\n",
              "      buttonEl.style.display =\n",
              "        google.colab.kernel.accessAllowed ? 'block' : 'none';\n",
              "\n",
              "      async function convertToInteractive(key) {\n",
              "        const element = document.querySelector('#df-ecbda387-c5cf-492d-94a5-808dbed84b85');\n",
              "        const dataTable =\n",
              "          await google.colab.kernel.invokeFunction('convertToInteractive',\n",
              "                                                    [key], {});\n",
              "        if (!dataTable) return;\n",
              "\n",
              "        const docLinkHtml = 'Like what you see? Visit the ' +\n",
              "          '<a target=\"_blank\" href=https://colab.research.google.com/notebooks/data_table.ipynb>data table notebook</a>'\n",
              "          + ' to learn more about interactive tables.';\n",
              "        element.innerHTML = '';\n",
              "        dataTable['output_type'] = 'display_data';\n",
              "        await google.colab.output.renderOutput(dataTable, element);\n",
              "        const docLink = document.createElement('div');\n",
              "        docLink.innerHTML = docLinkHtml;\n",
              "        element.appendChild(docLink);\n",
              "      }\n",
              "    </script>\n",
              "  </div>\n",
              "\n",
              "\n",
              "<div id=\"df-177955a9-0690-4de9-89d8-b4e34af81802\">\n",
              "  <button class=\"colab-df-quickchart\" onclick=\"quickchart('df-177955a9-0690-4de9-89d8-b4e34af81802')\"\n",
              "            title=\"Suggest charts\"\n",
              "            style=\"display:none;\">\n",
              "\n",
              "<svg xmlns=\"http://www.w3.org/2000/svg\" height=\"24px\"viewBox=\"0 0 24 24\"\n",
              "     width=\"24px\">\n",
              "    <g>\n",
              "        <path d=\"M19 3H5c-1.1 0-2 .9-2 2v14c0 1.1.9 2 2 2h14c1.1 0 2-.9 2-2V5c0-1.1-.9-2-2-2zM9 17H7v-7h2v7zm4 0h-2V7h2v10zm4 0h-2v-4h2v4z\"/>\n",
              "    </g>\n",
              "</svg>\n",
              "  </button>\n",
              "\n",
              "<style>\n",
              "  .colab-df-quickchart {\n",
              "      --bg-color: #E8F0FE;\n",
              "      --fill-color: #1967D2;\n",
              "      --hover-bg-color: #E2EBFA;\n",
              "      --hover-fill-color: #174EA6;\n",
              "      --disabled-fill-color: #AAA;\n",
              "      --disabled-bg-color: #DDD;\n",
              "  }\n",
              "\n",
              "  [theme=dark] .colab-df-quickchart {\n",
              "      --bg-color: #3B4455;\n",
              "      --fill-color: #D2E3FC;\n",
              "      --hover-bg-color: #434B5C;\n",
              "      --hover-fill-color: #FFFFFF;\n",
              "      --disabled-bg-color: #3B4455;\n",
              "      --disabled-fill-color: #666;\n",
              "  }\n",
              "\n",
              "  .colab-df-quickchart {\n",
              "    background-color: var(--bg-color);\n",
              "    border: none;\n",
              "    border-radius: 50%;\n",
              "    cursor: pointer;\n",
              "    display: none;\n",
              "    fill: var(--fill-color);\n",
              "    height: 32px;\n",
              "    padding: 0;\n",
              "    width: 32px;\n",
              "  }\n",
              "\n",
              "  .colab-df-quickchart:hover {\n",
              "    background-color: var(--hover-bg-color);\n",
              "    box-shadow: 0 1px 2px rgba(60, 64, 67, 0.3), 0 1px 3px 1px rgba(60, 64, 67, 0.15);\n",
              "    fill: var(--button-hover-fill-color);\n",
              "  }\n",
              "\n",
              "  .colab-df-quickchart-complete:disabled,\n",
              "  .colab-df-quickchart-complete:disabled:hover {\n",
              "    background-color: var(--disabled-bg-color);\n",
              "    fill: var(--disabled-fill-color);\n",
              "    box-shadow: none;\n",
              "  }\n",
              "\n",
              "  .colab-df-spinner {\n",
              "    border: 2px solid var(--fill-color);\n",
              "    border-color: transparent;\n",
              "    border-bottom-color: var(--fill-color);\n",
              "    animation:\n",
              "      spin 1s steps(1) infinite;\n",
              "  }\n",
              "\n",
              "  @keyframes spin {\n",
              "    0% {\n",
              "      border-color: transparent;\n",
              "      border-bottom-color: var(--fill-color);\n",
              "      border-left-color: var(--fill-color);\n",
              "    }\n",
              "    20% {\n",
              "      border-color: transparent;\n",
              "      border-left-color: var(--fill-color);\n",
              "      border-top-color: var(--fill-color);\n",
              "    }\n",
              "    30% {\n",
              "      border-color: transparent;\n",
              "      border-left-color: var(--fill-color);\n",
              "      border-top-color: var(--fill-color);\n",
              "      border-right-color: var(--fill-color);\n",
              "    }\n",
              "    40% {\n",
              "      border-color: transparent;\n",
              "      border-right-color: var(--fill-color);\n",
              "      border-top-color: var(--fill-color);\n",
              "    }\n",
              "    60% {\n",
              "      border-color: transparent;\n",
              "      border-right-color: var(--fill-color);\n",
              "    }\n",
              "    80% {\n",
              "      border-color: transparent;\n",
              "      border-right-color: var(--fill-color);\n",
              "      border-bottom-color: var(--fill-color);\n",
              "    }\n",
              "    90% {\n",
              "      border-color: transparent;\n",
              "      border-bottom-color: var(--fill-color);\n",
              "    }\n",
              "  }\n",
              "</style>\n",
              "\n",
              "  <script>\n",
              "    async function quickchart(key) {\n",
              "      const quickchartButtonEl =\n",
              "        document.querySelector('#' + key + ' button');\n",
              "      quickchartButtonEl.disabled = true;  // To prevent multiple clicks.\n",
              "      quickchartButtonEl.classList.add('colab-df-spinner');\n",
              "      try {\n",
              "        const charts = await google.colab.kernel.invokeFunction(\n",
              "            'suggestCharts', [key], {});\n",
              "      } catch (error) {\n",
              "        console.error('Error during call to suggestCharts:', error);\n",
              "      }\n",
              "      quickchartButtonEl.classList.remove('colab-df-spinner');\n",
              "      quickchartButtonEl.classList.add('colab-df-quickchart-complete');\n",
              "    }\n",
              "    (() => {\n",
              "      let quickchartButtonEl =\n",
              "        document.querySelector('#df-177955a9-0690-4de9-89d8-b4e34af81802 button');\n",
              "      quickchartButtonEl.style.display =\n",
              "        google.colab.kernel.accessAllowed ? 'block' : 'none';\n",
              "    })();\n",
              "  </script>\n",
              "</div>\n",
              "    </div>\n",
              "  </div>\n"
            ]
          },
          "metadata": {},
          "execution_count": 2
        }
      ]
    },
    {
      "cell_type": "code",
      "source": [
        "df.isnull().sum()"
      ],
      "metadata": {
        "colab": {
          "base_uri": "https://localhost:8080/"
        },
        "id": "U6RDEhiTm7mc",
        "outputId": "3fc76660-d44b-4835-f831-c9f35f6de8ad"
      },
      "execution_count": 3,
      "outputs": [
        {
          "output_type": "execute_result",
          "data": {
            "text/plain": [
              "SquareFeet      0\n",
              "Bedrooms        0\n",
              "Bathrooms       0\n",
              "Neighborhood    0\n",
              "YearBuilt       0\n",
              "Price           0\n",
              "dtype: int64"
            ]
          },
          "metadata": {},
          "execution_count": 3
        }
      ]
    },
    {
      "cell_type": "code",
      "source": [
        "df.dtypes"
      ],
      "metadata": {
        "colab": {
          "base_uri": "https://localhost:8080/"
        },
        "id": "8wyEq8RBm-PA",
        "outputId": "906515a3-efe5-4f79-e0b1-21830d1a3006"
      },
      "execution_count": 4,
      "outputs": [
        {
          "output_type": "execute_result",
          "data": {
            "text/plain": [
              "SquareFeet        int64\n",
              "Bedrooms          int64\n",
              "Bathrooms         int64\n",
              "Neighborhood     object\n",
              "YearBuilt         int64\n",
              "Price           float64\n",
              "dtype: object"
            ]
          },
          "metadata": {},
          "execution_count": 4
        }
      ]
    },
    {
      "cell_type": "code",
      "source": [
        "df['Neighborhood'].value_counts()"
      ],
      "metadata": {
        "colab": {
          "base_uri": "https://localhost:8080/"
        },
        "id": "EBxSSrvBnAKj",
        "outputId": "a90a016c-6923-49af-f83a-33c8178b1d40"
      },
      "execution_count": 5,
      "outputs": [
        {
          "output_type": "execute_result",
          "data": {
            "text/plain": [
              "Suburb    16721\n",
              "Rural     16676\n",
              "Urban     16603\n",
              "Name: Neighborhood, dtype: int64"
            ]
          },
          "metadata": {},
          "execution_count": 5
        }
      ]
    },
    {
      "cell_type": "markdown",
      "source": [
        "# **PLOTTING**"
      ],
      "metadata": {
        "id": "z_fEjHUvnKF4"
      }
    },
    {
      "cell_type": "code",
      "source": [
        "import seaborn as sns\n",
        "import matplotlib.pyplot as plt"
      ],
      "metadata": {
        "id": "ktn68wsPnMIg"
      },
      "execution_count": 6,
      "outputs": []
    },
    {
      "cell_type": "code",
      "source": [
        "sns.distplot(df['YearBuilt']);"
      ],
      "metadata": {
        "colab": {
          "base_uri": "https://localhost:8080/",
          "height": 453
        },
        "id": "JG9-uDZRnQv9",
        "outputId": "e6fccec8-115d-40c3-c8ff-6ab1530a1d71"
      },
      "execution_count": 10,
      "outputs": [
        {
          "output_type": "display_data",
          "data": {
            "text/plain": [
              "<Figure size 640x480 with 1 Axes>"
            ],
            "image/png": "[encoded data removed]"
          },
          "metadata": {}
        }
      ]
    },
    {
      "cell_type": "code",
      "source": [
        "df.shape"
      ],
      "metadata": {
        "colab": {
          "base_uri": "https://localhost:8080/"
        },
        "id": "zQ5B8rZfnUpF",
        "outputId": "a17e0beb-352a-49b9-d9e5-796a619258ff"
      },
      "execution_count": 11,
      "outputs": [
        {
          "output_type": "execute_result",
          "data": {
            "text/plain": [
              "(50000, 6)"
            ]
          },
          "metadata": {},
          "execution_count": 11
        }
      ]
    },
    {
      "cell_type": "code",
      "source": [
        "from sklearn.preprocessing import LabelEncoder"
      ],
      "metadata": {
        "id": "PMIU7fBVnui-"
      },
      "execution_count": 15,
      "outputs": []
    },
    {
      "cell_type": "code",
      "source": [
        "enc = LabelEncoder()"
      ],
      "metadata": {
        "id": "LD1b-0ZFn02e"
      },
      "execution_count": 16,
      "outputs": []
    },
    {
      "cell_type": "code",
      "source": [
        "df['Neighborhood'] = enc.fit_transform(df['Neighborhood'])"
      ],
      "metadata": {
        "id": "4ZN8gm-en3eP"
      },
      "execution_count": 17,
      "outputs": []
    },
    {
      "cell_type": "code",
      "source": [
        "df['Neighborhood'].value_counts()"
      ],
      "metadata": {
        "colab": {
          "base_uri": "https://localhost:8080/"
        },
        "id": "YsGMyBe9oAVQ",
        "outputId": "a1f5ceb6-358c-41f0-9e4d-f1468ed8bfc3"
      },
      "execution_count": 19,
      "outputs": [
        {
          "output_type": "execute_result",
          "data": {
            "text/plain": [
              "1    16721\n",
              "0    16676\n",
              "2    16603\n",
              "Name: Neighborhood, dtype: int64"
            ]
          },
          "metadata": {},
          "execution_count": 19
        }
      ]
    },
    {
      "cell_type": "code",
      "source": [
        "sns.countplot(data=df, x='Neighborhood');"
      ],
      "metadata": {
        "colab": {
          "base_uri": "https://localhost:8080/",
          "height": 449
        },
        "id": "c8WB0bnCngOA",
        "outputId": "d92ab43f-7a23-47a4-fc48-aa16ec759ef0"
      },
      "execution_count": 20,
      "outputs": [
        {
          "output_type": "display_data",
          "data": {
            "text/plain": [
              "<Figure size 640x480 with 1 Axes>"
            ],
            "image/png": "[encoded data removed]"
          },
          "metadata": {}
        }
      ]
    },
    {
      "cell_type": "markdown",
      "source": [
        "# **PREPROCESSING**"
      ],
      "metadata": {
        "id": "K9AlrYdhoLxb"
      }
    },
    {
      "cell_type": "code",
      "source": [
        "X = df.drop('Price', axis=1)\n",
        "y = df['Price']"
      ],
      "metadata": {
        "id": "3lMpcPdAnpAe"
      },
      "execution_count": 22,
      "outputs": []
    },
    {
      "cell_type": "code",
      "source": [
        "data_X = tf.constant(X)\n",
        "data_y = tf.constant(y)"
      ],
      "metadata": {
        "id": "sEKv-oLsofTO"
      },
      "execution_count": 23,
      "outputs": []
    },
    {
      "cell_type": "code",
      "source": [
        "data_X"
      ],
      "metadata": {
        "colab": {
          "base_uri": "https://localhost:8080/"
        },
        "id": "pPsRprEUopLF",
        "outputId": "89b8c8d2-fba1-4fa1-f426-be8854042fd5"
      },
      "execution_count": 24,
      "outputs": [
        {
          "output_type": "execute_result",
          "data": {
            "text/plain": [
              "<tf.Tensor: shape=(50000, 5), dtype=int64, numpy=\n",
              "array([[2126,    4,    1,    0, 1969],\n",
              "       [2459,    3,    2,    0, 1980],\n",
              "       [1860,    2,    1,    1, 1970],\n",
              "       ...,\n",
              "       [2979,    5,    3,    1, 1962],\n",
              "       [2596,    5,    2,    0, 1984],\n",
              "       [1572,    5,    3,    0, 2011]])>"
            ]
          },
          "metadata": {},
          "execution_count": 24
        }
      ]
    },
    {
      "cell_type": "code",
      "source": [
        "data_X.shape"
      ],
      "metadata": {
        "colab": {
          "base_uri": "https://localhost:8080/"
        },
        "id": "ZrdQCETeor9n",
        "outputId": "b8fe602e-7fbb-486d-8cc3-2a1c96d5d7a2"
      },
      "execution_count": 25,
      "outputs": [
        {
          "output_type": "execute_result",
          "data": {
            "text/plain": [
              "TensorShape([50000, 5])"
            ]
          },
          "metadata": {},
          "execution_count": 25
        }
      ]
    },
    {
      "cell_type": "code",
      "source": [
        "TRAIN_SIZE = 0.8\n",
        "VAL_SIZE = 0.1\n",
        "TEST_SIZE = 0.1\n",
        "\n",
        "DATA_SIZE = len(data_X)"
      ],
      "metadata": {
        "id": "nEUbNPGzo2WA"
      },
      "execution_count": 28,
      "outputs": []
    },
    {
      "cell_type": "code",
      "source": [
        "X_train, y_train = data_X[:int(TRAIN_SIZE * DATA_SIZE)], data_y[:int(TRAIN_SIZE * DATA_SIZE)]\n",
        "\n",
        "rest_X, rest_y = data_X[int(TRAIN_SIZE * DATA_SIZE):], data_y[int(TRAIN_SIZE * DATA_SIZE):]\n",
        "\n",
        "X_val, y_val = rest_X[:int(VAL_SIZE * DATA_SIZE)], rest_y[:int(VAL_SIZE * DATA_SIZE)]\n",
        "X_test, y_test = rest_X[int(VAL_SIZE * DATA_SIZE):], rest_y[int(VAL_SIZE * DATA_SIZE):]"
      ],
      "metadata": {
        "id": "OdX60EMvouOa"
      },
      "execution_count": 30,
      "outputs": []
    },
    {
      "cell_type": "code",
      "source": [
        "print(X_train.shape, y_train.shape)\n",
        "print(X_test.shape, y_test.shape)\n",
        "print(X_val.shape, y_val.shape)"
      ],
      "metadata": {
        "colab": {
          "base_uri": "https://localhost:8080/"
        },
        "id": "thcyjSYopsTt",
        "outputId": "c391c88d-1843-44f6-8459-26df51332371"
      },
      "execution_count": 32,
      "outputs": [
        {
          "output_type": "stream",
          "name": "stdout",
          "text": [
            "(40000, 5) (40000,)\n",
            "(5000, 5) (5000,)\n",
            "(5000, 5) (5000,)\n"
          ]
        }
      ]
    },
    {
      "cell_type": "markdown",
      "source": [
        "# **MODEL BUILD**"
      ],
      "metadata": {
        "id": "RGCxN31gqIuJ"
      }
    },
    {
      "cell_type": "code",
      "source": [
        "import pandas as pd\n",
        "import numpy as np\n",
        "from tensorflow.keras.models import Sequential\n",
        "from tensorflow.keras.layers import Dense, Dropout, BatchNormalization, Normalization, InputLayer\n",
        "from tensorflow.keras.optimizers import Adam"
      ],
      "metadata": {
        "id": "cIE-mPnJp43M"
      },
      "execution_count": 36,
      "outputs": []
    },
    {
      "cell_type": "code",
      "source": [
        "model = Sequential([\n",
        "    Normalization(input_shape=X_train.shape[1:]),\n",
        "    Dense(units=32, activation='relu'),\n",
        "    Dropout(0.2),\n",
        "    BatchNormalization(),\n",
        "    Dense(units=64, activation='relu'),\n",
        "    Dropout(0.2),\n",
        "    BatchNormalization(),\n",
        "    Dense(units=128, activation='relu'),\n",
        "    Dropout(0.2),\n",
        "    BatchNormalization(),\n",
        "    Dense(units=1, activation='relu')\n",
        "])\n",
        "\n",
        "model.summary()"
      ],
      "metadata": {
        "colab": {
          "base_uri": "https://localhost:8080/"
        },
        "id": "R6bRgIG6qh-c",
        "outputId": "22a52f98-820c-4675-cfb7-438447803fe3"
      },
      "execution_count": 34,
      "outputs": [
        {
          "output_type": "stream",
          "name": "stdout",
          "text": [
            "Model: \"sequential\"\n",
            "_________________________________________________________________\n",
            " Layer (type)                Output Shape              Param #   \n",
            "=================================================================\n",
            " normalization (Normalizati  (None, 5)                 11        \n",
            " on)                                                             \n",
            "                                                                 \n",
            " dense (Dense)               (None, 32)                192       \n",
            "                                                                 \n",
            " dropout (Dropout)           (None, 32)                0         \n",
            "                                                                 \n",
            " batch_normalization (Batch  (None, 32)                128       \n",
            " Normalization)                                                  \n",
            "                                                                 \n",
            " dense_1 (Dense)             (None, 64)                2112      \n",
            "                                                                 \n",
            " dropout_1 (Dropout)         (None, 64)                0         \n",
            "                                                                 \n",
            " batch_normalization_1 (Bat  (None, 64)                256       \n",
            " chNormalization)                                                \n",
            "                                                                 \n",
            " dense_2 (Dense)             (None, 128)               8320      \n",
            "                                                                 \n",
            " dropout_2 (Dropout)         (None, 128)               0         \n",
            "                                                                 \n",
            " batch_normalization_2 (Bat  (None, 128)               512       \n",
            " chNormalization)                                                \n",
            "                                                                 \n",
            " dense_3 (Dense)             (None, 1)                 129       \n",
            "                                                                 \n",
            "=================================================================\n",
            "Total params: 11660 (45.55 KB)\n",
            "Trainable params: 11201 (43.75 KB)\n",
            "Non-trainable params: 459 (1.80 KB)\n",
            "_________________________________________________________________\n"
          ]
        }
      ]
    },
    {
      "cell_type": "code",
      "source": [
        "tf.keras.utils.plot_model(model)"
      ],
      "metadata": {
        "colab": {
          "base_uri": "https://localhost:8080/",
          "height": 1000
        },
        "id": "DC3ujddxrELH",
        "outputId": "39e17003-d32a-43cd-a883-3bc26ffc7c5f"
      },
      "execution_count": 35,
      "outputs": [
        {
          "output_type": "execute_result",
          "data": {
            "image/png": "[encoded data removed]",
            "text/plain": [
              "<IPython.core.display.Image object>"
            ]
          },
          "metadata": {},
          "execution_count": 35
        }
      ]
    },
    {
      "cell_type": "code",
      "source": [
        "model.compile(\n",
        "    optimizer=Adam(learning_rate=0.1),\n",
        "    loss='msle'\n",
        ")"
      ],
      "metadata": {
        "id": "QVZGSQaNrJ7a"
      },
      "execution_count": 37,
      "outputs": []
    },
    {
      "cell_type": "code",
      "source": [
        "hist = model.fit(\n",
        "    X_train, y_train,\n",
        "    validation_data=(X_val, y_val),\n",
        "    epochs=20,\n",
        "    verbose=2,\n",
        "    batch_size=32\n",
        ")"
      ],
      "metadata": {
        "colab": {
          "base_uri": "https://localhost:8080/"
        },
        "id": "GW76tFBEreUk",
        "outputId": "fa092b3b-f995-4b1a-94b9-fe584e71810b"
      },
      "execution_count": 38,
      "outputs": [
        {
          "output_type": "stream",
          "name": "stdout",
          "text": [
            "Epoch 1/20\n",
            "1250/1250 - 5s - loss: 11.1301 - val_loss: 3.3003 - 5s/epoch - 4ms/step\n",
            "Epoch 2/20\n",
            "1250/1250 - 3s - loss: 1.9304 - val_loss: 1.0511 - 3s/epoch - 2ms/step\n",
            "Epoch 3/20\n",
            "1250/1250 - 3s - loss: 0.6612 - val_loss: 0.3072 - 3s/epoch - 2ms/step\n",
            "Epoch 4/20\n",
            "1250/1250 - 3s - loss: 0.2882 - val_loss: 0.1332 - 3s/epoch - 2ms/step\n",
            "Epoch 5/20\n",
            "1250/1250 - 3s - loss: 0.1995 - val_loss: 0.1249 - 3s/epoch - 2ms/step\n",
            "Epoch 6/20\n",
            "1250/1250 - 3s - loss: 0.1836 - val_loss: 0.1108 - 3s/epoch - 2ms/step\n",
            "Epoch 7/20\n",
            "1250/1250 - 3s - loss: 0.1773 - val_loss: 0.0991 - 3s/epoch - 3ms/step\n",
            "Epoch 8/20\n",
            "1250/1250 - 3s - loss: 0.1814 - val_loss: 0.1006 - 3s/epoch - 2ms/step\n",
            "Epoch 9/20\n",
            "1250/1250 - 3s - loss: 0.1762 - val_loss: 0.0950 - 3s/epoch - 2ms/step\n",
            "Epoch 10/20\n",
            "1250/1250 - 3s - loss: 0.1744 - val_loss: 0.1000 - 3s/epoch - 2ms/step\n",
            "Epoch 11/20\n",
            "1250/1250 - 3s - loss: 0.1728 - val_loss: 0.1275 - 3s/epoch - 3ms/step\n",
            "Epoch 12/20\n",
            "1250/1250 - 3s - loss: 0.1749 - val_loss: 0.1080 - 3s/epoch - 2ms/step\n",
            "Epoch 13/20\n",
            "1250/1250 - 3s - loss: 0.1729 - val_loss: 0.1049 - 3s/epoch - 2ms/step\n",
            "Epoch 14/20\n",
            "1250/1250 - 3s - loss: 0.1728 - val_loss: 0.0962 - 3s/epoch - 2ms/step\n",
            "Epoch 15/20\n",
            "1250/1250 - 3s - loss: 0.1723 - val_loss: 0.1085 - 3s/epoch - 3ms/step\n",
            "Epoch 16/20\n",
            "1250/1250 - 3s - loss: 0.1707 - val_loss: 0.1108 - 3s/epoch - 2ms/step\n",
            "Epoch 17/20\n",
            "1250/1250 - 3s - loss: 0.1717 - val_loss: 0.0980 - 3s/epoch - 2ms/step\n",
            "Epoch 18/20\n",
            "1250/1250 - 3s - loss: 0.1712 - val_loss: 0.1024 - 3s/epoch - 2ms/step\n",
            "Epoch 19/20\n",
            "1250/1250 - 3s - loss: 0.1708 - val_loss: 0.0950 - 3s/epoch - 2ms/step\n",
            "Epoch 20/20\n",
            "1250/1250 - 3s - loss: 0.1706 - val_loss: 0.1147 - 3s/epoch - 2ms/step\n"
          ]
        }
      ]
    },
    {
      "cell_type": "code",
      "source": [
        "model.evaluate(X_test, y_test)"
      ],
      "metadata": {
        "colab": {
          "base_uri": "https://localhost:8080/"
        },
        "id": "XrkJ_-p-rquE",
        "outputId": "1e49e5f6-1be7-45ea-c3b4-d319076bc822"
      },
      "execution_count": 39,
      "outputs": [
        {
          "output_type": "stream",
          "name": "stdout",
          "text": [
            "157/157 [==============================] - 0s 2ms/step - loss: 0.1047\n"
          ]
        },
        {
          "output_type": "execute_result",
          "data": {
            "text/plain": [
              "0.10472279042005539"
            ]
          },
          "metadata": {},
          "execution_count": 39
        }
      ]
    },
    {
      "cell_type": "code",
      "source": [
        "y_pred = model.predict(X_test)\n",
        "y_pred[:5]"
      ],
      "metadata": {
        "colab": {
          "base_uri": "https://localhost:8080/"
        },
        "id": "R8zYhB8Pr_ja",
        "outputId": "99952000-e817-41ec-ae94-da0e24cf7cb2"
      },
      "execution_count": 40,
      "outputs": [
        {
          "output_type": "stream",
          "name": "stdout",
          "text": [
            "157/157 [==============================] - 0s 2ms/step\n"
          ]
        },
        {
          "output_type": "execute_result",
          "data": {
            "text/plain": [
              "array([[117967.57],\n",
              "       [118513.09],\n",
              "       [118403.2 ],\n",
              "       [119029.12],\n",
              "       [188748.95]], dtype=float32)"
            ]
          },
          "metadata": {},
          "execution_count": 40
        }
      ]
    },
    {
      "cell_type": "code",
      "source": [
        "y_test[:5]"
      ],
      "metadata": {
        "colab": {
          "base_uri": "https://localhost:8080/"
        },
        "id": "QSxbARdNsWFq",
        "outputId": "aae159c6-dc0f-4b45-d654-94354c2cb99e"
      },
      "execution_count": 41,
      "outputs": [
        {
          "output_type": "execute_result",
          "data": {
            "text/plain": [
              "<tf.Tensor: shape=(5,), dtype=float64, numpy=\n",
              "array([172045.95139058, 120774.57366517, 216778.65895499, 171788.80435307,\n",
              "       315107.4567818 ])>"
            ]
          },
          "metadata": {},
          "execution_count": 41
        }
      ]
    },
    {
      "cell_type": "markdown",
      "source": [
        "<img src='https://media.tenor.com/nrJ0FfU9WQ0AAAAi/funny.gif'>\n",
        "<img src='https://media.tenor.com/nrJ0FfU9WQ0AAAAi/funny.gif'>\n",
        "<img src='https://media.tenor.com/nrJ0FfU9WQ0AAAAi/funny.gif'>\n",
        "<img src='https://media.tenor.com/nrJ0FfU9WQ0AAAAi/funny.gif'>\n",
        "<img src='https://media.tenor.com/nrJ0FfU9WQ0AAAAi/funny.gif'>"
      ],
      "metadata": {
        "id": "bH3YcLY2snx9"
      }
    },
    {
      "cell_type": "markdown",
      "source": [
        "<img src='https://media.tenor.com/nrJ0FfU9WQ0AAAAi/funny.gif'>\n",
        "<img src='https://media.tenor.com/nrJ0FfU9WQ0AAAAi/funny.gif'>\n",
        "<img src='https://media.tenor.com/nrJ0FfU9WQ0AAAAi/funny.gif'>\n",
        "<img src='https://media.tenor.com/nrJ0FfU9WQ0AAAAi/funny.gif'>\n",
        "<img src='https://media.tenor.com/nrJ0FfU9WQ0AAAAi/funny.gif'>"
      ],
      "metadata": {
        "id": "lF6BZiCKtSs5"
      }
    },
    {
      "cell_type": "markdown",
      "source": [
        "<img src='https://media.tenor.com/nrJ0FfU9WQ0AAAAi/funny.gif'>\n",
        "<img src='https://media.tenor.com/nrJ0FfU9WQ0AAAAi/funny.gif'>\n",
        "<img src='https://media.tenor.com/nrJ0FfU9WQ0AAAAi/funny.gif'>\n",
        "<img src='https://media.tenor.com/nrJ0FfU9WQ0AAAAi/funny.gif'>\n",
        "<img src='https://media.tenor.com/nrJ0FfU9WQ0AAAAi/funny.gif'>"
      ],
      "metadata": {
        "id": "60v5Dc9RtS31"
      }
    },
    {
      "cell_type": "markdown",
      "source": [
        "<img src='https://media.tenor.com/nrJ0FfU9WQ0AAAAi/funny.gif'>\n",
        "<img src='https://media.tenor.com/nrJ0FfU9WQ0AAAAi/funny.gif'>\n",
        "<img src='https://media.tenor.com/nrJ0FfU9WQ0AAAAi/funny.gif'>\n",
        "<img src='https://media.tenor.com/nrJ0FfU9WQ0AAAAi/funny.gif'>\n",
        "<img src='https://media.tenor.com/nrJ0FfU9WQ0AAAAi/funny.gif'>"
      ],
      "metadata": {
        "id": "1PEB15RYtUOx"
      }
    }
  ]
}