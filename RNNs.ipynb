{
  "nbformat": 4,
  "nbformat_minor": 0,
  "metadata": {
    "colab": {
      "provenance": [],
      "authorship_tag": "ABX9TyOxRF+rdjZLu2cWcgBWwhtV",
      "include_colab_link": true
    },
    "kernelspec": {
      "name": "python3",
      "display_name": "Python 3"
    },
    "language_info": {
      "name": "python"
    }
  },
  "cells": [
    {
      "cell_type": "markdown",
      "metadata": {
        "id": "view-in-github",
        "colab_type": "text"
      },
      "source": [
        "<a href=\"https://colab.research.google.com/github/Venchislav/Neural-Networks/blob/main/RNNs.ipynb\" target=\"_parent\"><img src=\"https://colab.research.google.com/assets/colab-badge.svg\" alt=\"Open In Colab\"/></a>"
      ]
    },
    {
      "cell_type": "code",
      "execution_count": 1,
      "metadata": {
        "id": "RUC8XFOPjOr5"
      },
      "outputs": [],
      "source": [
        "import numpy as np"
      ]
    },
    {
      "cell_type": "code",
      "source": [
        "timesteps = 100\n",
        "input_features = 32\n",
        "output_features = 64\n",
        "inputs = np.random.random((timesteps, input_features))\n",
        "\n",
        "inputs.shape"
      ],
      "metadata": {
        "colab": {
          "base_uri": "https://localhost:8080/"
        },
        "id": "NJgSM5LykbJa",
        "outputId": "c5ac3d18-79fe-451c-e40f-bdcdb48adc21"
      },
      "execution_count": 4,
      "outputs": [
        {
          "output_type": "execute_result",
          "data": {
            "text/plain": [
              "(100, 32)"
            ]
          },
          "metadata": {},
          "execution_count": 4
        }
      ]
    },
    {
      "cell_type": "code",
      "source": [
        "state_t = np.zeros((output_features, ))"
      ],
      "metadata": {
        "id": "Z-7reZkLkqzI"
      },
      "execution_count": 5,
      "outputs": []
    },
    {
      "cell_type": "code",
      "source": [
        "# random weights initialization\n",
        "W = np.random.random((output_features, input_features))\n",
        "U = np.random.random((output_features, output_features))\n",
        "b = np.random.random((output_features,))"
      ],
      "metadata": {
        "id": "3FWilXrkk4x1"
      },
      "execution_count": 7,
      "outputs": []
    },
    {
      "cell_type": "code",
      "source": [
        "succesive_outputs = []"
      ],
      "metadata": {
        "id": "bSSrfVIGlMO8"
      },
      "execution_count": 8,
      "outputs": []
    },
    {
      "cell_type": "code",
      "source": [
        "for input_t in inputs:\n",
        "  output_t = np.tanh(np.dot(W, input_t) + np.dot(U, state_t) + b)\n",
        "  succesive_outputs.append(output_t)\n",
        "  state_t = output_t\n",
        "\n",
        "final_output_seq = np.stack(succesive_outputs, axis=0)"
      ],
      "metadata": {
        "id": "b-AvA6SelZ6Z"
      },
      "execution_count": 9,
      "outputs": []
    },
    {
      "cell_type": "code",
      "source": [
        "final_output_seq.shape"
      ],
      "metadata": {
        "colab": {
          "base_uri": "https://localhost:8080/"
        },
        "id": "omaGbM8Gl1tG",
        "outputId": "ca82d12c-ec0d-40c7-f10e-63012a5dfe14"
      },
      "execution_count": 11,
      "outputs": [
        {
          "output_type": "execute_result",
          "data": {
            "text/plain": [
              "(100, 64)"
            ]
          },
          "metadata": {},
          "execution_count": 11
        }
      ]
    },
    {
      "cell_type": "code",
      "source": [
        "from tensorflow import keras"
      ],
      "metadata": {
        "id": "VdGzINFFl3F2"
      },
      "execution_count": 12,
      "outputs": []
    },
    {
      "cell_type": "code",
      "source": [
        "n_features = 14\n",
        "inputs = keras.Input(shape=(None, n_features))\n",
        "output = keras.layers.SimpleRNN(16)(inputs)"
      ],
      "metadata": {
        "id": "0zUOIMZooBmS"
      },
      "execution_count": 14,
      "outputs": []
    },
    {
      "cell_type": "markdown",
      "source": [
        "Great explanation of RNNs:<br>\n",
        "<img src='https://miro.medium.com/v2/resize:fit:640/format:webp/1*TqcA9EIUF-DGGTBhIx_qbQ.gif'><br>\n",
        "https://towardsdatascience.com/illustrated-guide-to-recurrent-neural-networks-79e5eb8049c9<br>\n",
        "Or video:<br>\n",
        "https://youtu.be/LHXXI4-IEns?si=-6B4wrAyqyIT5Ca0"
      ],
      "metadata": {
        "id": "88f19EGFruHn"
      }
    },
    {
      "cell_type": "code",
      "source": [],
      "metadata": {
        "id": "oQ_xkGRIoQ5w"
      },
      "execution_count": null,
      "outputs": []
    }
  ]
}