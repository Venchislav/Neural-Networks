{
  "nbformat": 4,
  "nbformat_minor": 0,
  "metadata": {
    "colab": {
      "provenance": [],
      "authorship_tag": "ABX9TyMafqOLlWb2eKw0s4y4EVgF",
      "include_colab_link": true
    },
    "kernelspec": {
      "name": "python3",
      "display_name": "Python 3"
    },
    "language_info": {
      "name": "python"
    }
  },
  "cells": [
    {
      "cell_type": "markdown",
      "metadata": {
        "id": "view-in-github",
        "colab_type": "text"
      },
      "source": [
        "<a href=\"https://colab.research.google.com/github/Venchislav/Neural-Networks/blob/main/Keras_Functional_API.ipynb\" target=\"_parent\"><img src=\"https://colab.research.google.com/assets/colab-badge.svg\" alt=\"Open In Colab\"/></a>"
      ]
    },
    {
      "cell_type": "code",
      "execution_count": 2,
      "metadata": {
        "id": "Qo_JixPcSOmG"
      },
      "outputs": [],
      "source": [
        "import tensorflow as tf\n",
        "from tensorflow import keras\n",
        "from tensorflow.keras import layers"
      ]
    },
    {
      "cell_type": "code",
      "source": [
        "inputs = keras.Input(shape=(3,), name='my_input')\n",
        "features = layers.Dense(64, activation='relu')(inputs)\n",
        "outputs = layers.Dense(10, activation='softmax')(features)\n",
        "\n",
        "model = keras.Model(inputs=inputs, outputs=outputs)"
      ],
      "metadata": {
        "id": "Fw1T1S9JScES"
      },
      "execution_count": 4,
      "outputs": []
    },
    {
      "cell_type": "code",
      "source": [
        "model.summary()"
      ],
      "metadata": {
        "colab": {
          "base_uri": "https://localhost:8080/"
        },
        "id": "G7Dq8Xw1TF2Q",
        "outputId": "2c24a7f7-3aad-4685-8b8a-0f3e51c10b92"
      },
      "execution_count": 5,
      "outputs": [
        {
          "output_type": "stream",
          "name": "stdout",
          "text": [
            "Model: \"model\"\n",
            "_________________________________________________________________\n",
            " Layer (type)                Output Shape              Param #   \n",
            "=================================================================\n",
            " my_input (InputLayer)       [(None, 3)]               0         \n",
            "                                                                 \n",
            " dense (Dense)               (None, 64)                256       \n",
            "                                                                 \n",
            " dense_1 (Dense)             (None, 10)                650       \n",
            "                                                                 \n",
            "=================================================================\n",
            "Total params: 906 (3.54 KB)\n",
            "Trainable params: 906 (3.54 KB)\n",
            "Non-trainable params: 0 (0.00 Byte)\n",
            "_________________________________________________________________\n"
          ]
        }
      ]
    },
    {
      "cell_type": "code",
      "source": [
        "keras.utils.plot_model(model)"
      ],
      "metadata": {
        "colab": {
          "base_uri": "https://localhost:8080/",
          "height": 272
        },
        "id": "6L4LFebUTNkE",
        "outputId": "dc0a6bb8-bb54-4903-e9e0-275f9dd2c347"
      },
      "execution_count": 6,
      "outputs": [
        {
          "output_type": "execute_result",
          "data": {
            "image/png": "[encoded data removed]",
            "text/plain": [
              "<IPython.core.display.Image object>"
            ]
          },
          "metadata": {},
          "execution_count": 6
        }
      ]
    },
    {
      "cell_type": "code",
      "source": [
        "inputs.shape"
      ],
      "metadata": {
        "colab": {
          "base_uri": "https://localhost:8080/"
        },
        "id": "F7E3IbNiTQrT",
        "outputId": "9cc471a6-9669-4dd5-e2be-2e69ff3e5cc8"
      },
      "execution_count": 7,
      "outputs": [
        {
          "output_type": "execute_result",
          "data": {
            "text/plain": [
              "TensorShape([None, 3])"
            ]
          },
          "metadata": {},
          "execution_count": 7
        }
      ]
    },
    {
      "cell_type": "code",
      "source": [
        "inputs.dtype"
      ],
      "metadata": {
        "colab": {
          "base_uri": "https://localhost:8080/"
        },
        "id": "mSuqnXFgULtm",
        "outputId": "da679111-78a6-4420-b419-7d00561e53d4"
      },
      "execution_count": 8,
      "outputs": [
        {
          "output_type": "execute_result",
          "data": {
            "text/plain": [
              "tf.float32"
            ]
          },
          "metadata": {},
          "execution_count": 8
        }
      ]
    },
    {
      "cell_type": "markdown",
      "source": [
        "In Sequential API we can build models with only one input and one output<br>\n",
        "(that sucks)<br>\n",
        "So here functional API can help us"
      ],
      "metadata": {
        "id": "juG3cwH2VOhz"
      }
    },
    {
      "cell_type": "code",
      "source": [
        "vocab_size = 10_000\n",
        "num_tags = 100\n",
        "num_departments = 4"
      ],
      "metadata": {
        "id": "QtQmZ484UO5K"
      },
      "execution_count": 10,
      "outputs": []
    },
    {
      "cell_type": "code",
      "source": [
        "# 3 inputs\n",
        "title = keras.Input(shape=(vocab_size,), name='title')\n",
        "text_body = keras.Input(shape=(vocab_size,), name='text_body')\n",
        "tags = keras.Input(shape=(num_tags,), name='tags')\n",
        "\n",
        "# hidden layers\n",
        "features = layers.Concatenate()([title, text_body, tags])\n",
        "features = layers.Dense(64, activation='relu')(features)\n",
        "\n",
        "# 2 outputs\n",
        "priority = layers.Dense(1, activation='sigmoid', name='priority')(features)\n",
        "department = layers.Dense(num_departments, activation='softmax', name='department')(features)\n",
        "\n",
        "# final model build\n",
        "\n",
        "model = keras.Model(\n",
        "    inputs=[title, text_body, tags],\n",
        "    outputs=[priority, department]\n",
        "    )"
      ],
      "metadata": {
        "id": "fm2_HHMkV16T"
      },
      "execution_count": 12,
      "outputs": []
    },
    {
      "cell_type": "code",
      "source": [
        "model.summary()"
      ],
      "metadata": {
        "colab": {
          "base_uri": "https://localhost:8080/"
        },
        "id": "HIXrbPXNXoyt",
        "outputId": "36e568cc-e56c-44c8-e886-e65a4da7f000"
      },
      "execution_count": 13,
      "outputs": [
        {
          "output_type": "stream",
          "name": "stdout",
          "text": [
            "Model: \"model_1\"\n",
            "__________________________________________________________________________________________________\n",
            " Layer (type)                Output Shape                 Param #   Connected to                  \n",
            "==================================================================================================\n",
            " title (InputLayer)          [(None, 10000)]              0         []                            \n",
            "                                                                                                  \n",
            " text_body (InputLayer)      [(None, 10000)]              0         []                            \n",
            "                                                                                                  \n",
            " tags (InputLayer)           [(None, 100)]                0         []                            \n",
            "                                                                                                  \n",
            " concatenate (Concatenate)   (None, 20100)                0         ['title[0][0]',               \n",
            "                                                                     'text_body[0][0]',           \n",
            "                                                                     'tags[0][0]']                \n",
            "                                                                                                  \n",
            " dense_2 (Dense)             (None, 64)                   1286464   ['concatenate[0][0]']         \n",
            "                                                                                                  \n",
            " priority (Dense)            (None, 1)                    65        ['dense_2[0][0]']             \n",
            "                                                                                                  \n",
            " department (Dense)          (None, 4)                    260       ['dense_2[0][0]']             \n",
            "                                                                                                  \n",
            "==================================================================================================\n",
            "Total params: 1286789 (4.91 MB)\n",
            "Trainable params: 1286789 (4.91 MB)\n",
            "Non-trainable params: 0 (0.00 Byte)\n",
            "__________________________________________________________________________________________________\n"
          ]
        }
      ]
    },
    {
      "cell_type": "code",
      "source": [
        "keras.utils.plot_model(model)"
      ],
      "metadata": {
        "colab": {
          "base_uri": "https://localhost:8080/",
          "height": 369
        },
        "id": "Xs3pU7ytXtEN",
        "outputId": "898b450e-7a23-43c5-ef4d-7d6924527699"
      },
      "execution_count": 14,
      "outputs": [
        {
          "output_type": "execute_result",
          "data": {
            "image/png": "[encoded data removed]",
            "text/plain": [
              "<IPython.core.display.Image object>"
            ]
          },
          "metadata": {},
          "execution_count": 14
        }
      ]
    },
    {
      "cell_type": "code",
      "source": [
        "# that looks cool😎\n",
        "# p.s windows 11 emojis are goofy as f💀"
      ],
      "metadata": {
        "id": "YDJ0Y8_3Xy-Z"
      },
      "execution_count": 15,
      "outputs": []
    },
    {
      "cell_type": "code",
      "source": [
        "import numpy as np"
      ],
      "metadata": {
        "id": "TwM6bQUlYv_i"
      },
      "execution_count": 16,
      "outputs": []
    },
    {
      "cell_type": "code",
      "source": [
        "num_samples = 1280"
      ],
      "metadata": {
        "id": "gzezaa3VcWKr"
      },
      "execution_count": 17,
      "outputs": []
    },
    {
      "cell_type": "code",
      "source": [
        "title_data = np.random.randint(0, 2, size=(num_samples, vocab_size))\n",
        "text_body_data = np.random.randint(0, 2, size=(num_samples, vocab_size))\n",
        "tags_data = np.random.randint(0, 2, size=(num_samples, num_tags))"
      ],
      "metadata": {
        "id": "_2JZ6GJ_cY8G"
      },
      "execution_count": 18,
      "outputs": []
    },
    {
      "cell_type": "code",
      "source": [
        "priority_data = np.random.random(size=(num_samples, 1))\n",
        "dep_data = np.random.randint(0, 2, size=(num_samples, num_departments))"
      ],
      "metadata": {
        "id": "wNwK0rCodce7"
      },
      "execution_count": 19,
      "outputs": []
    },
    {
      "cell_type": "code",
      "source": [
        "model.compile(\n",
        "    optimizer='rmsprop',\n",
        "    loss=['mse', 'categorical_crossentropy'],\n",
        "    metrics=['mae', 'accuracy']\n",
        ")"
      ],
      "metadata": {
        "id": "QcxezAiRefjF"
      },
      "execution_count": 20,
      "outputs": []
    },
    {
      "cell_type": "code",
      "source": [
        "model.fit([title_data, text_body_data, tags_data],\n",
        "          [priority_data, dep_data],\n",
        "          epochs=1)"
      ],
      "metadata": {
        "colab": {
          "base_uri": "https://localhost:8080/"
        },
        "id": "2JoY33y-gYOS",
        "outputId": "39dcf072-360f-4947-d079-4aa2336be94a"
      },
      "execution_count": 21,
      "outputs": [
        {
          "output_type": "stream",
          "name": "stdout",
          "text": [
            "40/40 [==============================] - 2s 21ms/step - loss: 35.1639 - priority_loss: 0.3298 - department_loss: 34.8342 - priority_mae: 0.4972 - priority_accuracy: 0.0000e+00 - department_mae: 0.5087 - department_accuracy: 0.2367\n"
          ]
        },
        {
          "output_type": "execute_result",
          "data": {
            "text/plain": [
              "<keras.src.callbacks.History at 0x7cb7a4fa5cc0>"
            ]
          },
          "metadata": {},
          "execution_count": 21
        }
      ]
    },
    {
      "cell_type": "code",
      "source": [
        "model.evaluate([title_data, text_body_data, tags_data])"
      ],
      "metadata": {
        "colab": {
          "base_uri": "https://localhost:8080/"
        },
        "id": "fYfpgwOaguK3",
        "outputId": "3867b80d-98da-4298-94d8-aae870bf4e42"
      },
      "execution_count": 22,
      "outputs": [
        {
          "output_type": "stream",
          "name": "stdout",
          "text": [
            "40/40 [==============================] - 0s 3ms/step - loss: 0.0000e+00 - priority_loss: 0.0000e+00 - department_loss: 0.0000e+00 - priority_mae: 0.0000e+00 - priority_accuracy: 0.0000e+00 - department_mae: 0.0000e+00 - department_accuracy: 0.0000e+00\n"
          ]
        },
        {
          "output_type": "execute_result",
          "data": {
            "text/plain": [
              "[0.0, 0.0, 0.0, 0.0, 0.0, 0.0, 0.0]"
            ]
          },
          "metadata": {},
          "execution_count": 22
        }
      ]
    },
    {
      "cell_type": "code",
      "source": [
        "priority_preds, dep_preds = model.predict([title_data, text_body_data, tags_data])"
      ],
      "metadata": {
        "colab": {
          "base_uri": "https://localhost:8080/"
        },
        "id": "fkvZtiEig4tx",
        "outputId": "c6df4e41-caf1-493d-dd65-dd8d16e35d5a"
      },
      "execution_count": 23,
      "outputs": [
        {
          "output_type": "stream",
          "name": "stdout",
          "text": [
            "40/40 [==============================] - 0s 8ms/step\n"
          ]
        }
      ]
    },
    {
      "cell_type": "code",
      "source": [
        "priority_preds[0]"
      ],
      "metadata": {
        "colab": {
          "base_uri": "https://localhost:8080/"
        },
        "id": "9MeUC6EkhPZA",
        "outputId": "53182a82-d727-4604-d386-f479d91bb6ac"
      },
      "execution_count": 27,
      "outputs": [
        {
          "output_type": "execute_result",
          "data": {
            "text/plain": [
              "array([1.], dtype=float32)"
            ]
          },
          "metadata": {},
          "execution_count": 27
        }
      ]
    },
    {
      "cell_type": "code",
      "source": [
        "np.argmax(dep_preds[0])"
      ],
      "metadata": {
        "colab": {
          "base_uri": "https://localhost:8080/"
        },
        "id": "riPvwtM5hR9H",
        "outputId": "901a8740-757b-453c-f759-9801967d8fb3"
      },
      "execution_count": 29,
      "outputs": [
        {
          "output_type": "execute_result",
          "data": {
            "text/plain": [
              "3"
            ]
          },
          "metadata": {},
          "execution_count": 29
        }
      ]
    },
    {
      "cell_type": "markdown",
      "source": [
        "# **TRIPLE BAM**"
      ],
      "metadata": {
        "id": "C2W6_zFsheQV"
      }
    },
    {
      "cell_type": "code",
      "source": [
        "# we can also use dicts in compiling"
      ],
      "metadata": {
        "id": "fQXQmuHGhYnJ"
      },
      "execution_count": 30,
      "outputs": []
    },
    {
      "cell_type": "code",
      "source": [
        "model.compile(\n",
        "    optimizer='rmsprop',\n",
        "    loss={\n",
        "        'priority': 'mse',\n",
        "        'department': 'categorical_crossentropy'\n",
        "    },\n",
        "    metrics={\n",
        "        'priority': 'mae',\n",
        "        'department': 'accuracy'\n",
        "    }\n",
        ")"
      ],
      "metadata": {
        "id": "qB2TSHv_hyAk"
      },
      "execution_count": 32,
      "outputs": []
    },
    {
      "cell_type": "markdown",
      "source": [
        "And in fitting also"
      ],
      "metadata": {
        "id": "KiC9kX93iWIY"
      }
    },
    {
      "cell_type": "code",
      "source": [
        "model.fit(\n",
        "    {'title': title_data,\n",
        "     'text_body': text_body_data,\n",
        "     'tags': tags_data\n",
        "     },\n",
        "    {'priority': priority_data,\n",
        "     'department': dep_data},\n",
        "    epochs=1\n",
        ")"
      ],
      "metadata": {
        "colab": {
          "base_uri": "https://localhost:8080/"
        },
        "id": "4Pm4z-EWiKTo",
        "outputId": "99f570fd-51a7-4c62-dede-f06e0d96a883"
      },
      "execution_count": 33,
      "outputs": [
        {
          "output_type": "stream",
          "name": "stdout",
          "text": [
            "40/40 [==============================] - 2s 22ms/step - loss: 42.0313 - priority_loss: 0.3355 - department_loss: 41.6958 - priority_mae: 0.5043 - department_accuracy: 0.2602\n"
          ]
        },
        {
          "output_type": "execute_result",
          "data": {
            "text/plain": [
              "<keras.src.callbacks.History at 0x7cb7a77046d0>"
            ]
          },
          "metadata": {},
          "execution_count": 33
        }
      ]
    },
    {
      "cell_type": "markdown",
      "source": [
        "# **GIGA BAM!**"
      ],
      "metadata": {
        "id": "8J_3fF1ci_1x"
      }
    },
    {
      "cell_type": "code",
      "source": [
        "keras.utils.plot_model(model, show_shapes=True)"
      ],
      "metadata": {
        "colab": {
          "base_uri": "https://localhost:8080/",
          "height": 422
        },
        "id": "XE7QqqzIi-CW",
        "outputId": "625f2d92-7e24-454a-bced-05530b7f5009"
      },
      "execution_count": 34,
      "outputs": [
        {
          "output_type": "execute_result",
          "data": {
            "image/png": "[encoded data removed]",
            "text/plain": [
              "<IPython.core.display.Image object>"
            ]
          },
          "metadata": {},
          "execution_count": 34
        }
      ]
    },
    {
      "cell_type": "code",
      "source": [],
      "metadata": {
        "id": "r2-SZSMqjVNp"
      },
      "execution_count": null,
      "outputs": []
    }
  ]
}