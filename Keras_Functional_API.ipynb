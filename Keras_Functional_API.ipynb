{
  "nbformat": 4,
  "nbformat_minor": 0,
  "metadata": {
    "colab": {
      "provenance": [],
      "authorship_tag": "ABX9TyMw6pp6DtElHQnfR66Uxa0B",
      "include_colab_link": true
    },
    "kernelspec": {
      "name": "python3",
      "display_name": "Python 3"
    },
    "language_info": {
      "name": "python"
    }
  },
  "cells": [
    {
      "cell_type": "markdown",
      "metadata": {
        "id": "view-in-github",
        "colab_type": "text"
      },
      "source": [
        "<a href=\"https://colab.research.google.com/github/Venchislav/Neural-Networks/blob/main/Keras_Functional_API.ipynb\" target=\"_parent\"><img src=\"https://colab.research.google.com/assets/colab-badge.svg\" alt=\"Open In Colab\"/></a>"
      ]
    },
    {
      "cell_type": "code",
      "execution_count": 35,
      "metadata": {
        "id": "Qo_JixPcSOmG"
      },
      "outputs": [],
      "source": [
        "import tensorflow as tf\n",
        "from tensorflow import keras\n",
        "from tensorflow.keras import layers"
      ]
    },
    {
      "cell_type": "code",
      "source": [
        "inputs = keras.Input(shape=(3,), name='my_input')\n",
        "features = layers.Dense(64, activation='relu')(inputs)\n",
        "outputs = layers.Dense(10, activation='softmax')(features)\n",
        "\n",
        "model = keras.Model(inputs=inputs, outputs=outputs)"
      ],
      "metadata": {
        "id": "Fw1T1S9JScES"
      },
      "execution_count": 36,
      "outputs": []
    },
    {
      "cell_type": "code",
      "source": [
        "model.summary()"
      ],
      "metadata": {
        "colab": {
          "base_uri": "https://localhost:8080/"
        },
        "id": "G7Dq8Xw1TF2Q",
        "outputId": "9479eeaf-2903-4bd7-f255-340002f8abe1"
      },
      "execution_count": 37,
      "outputs": [
        {
          "output_type": "stream",
          "name": "stdout",
          "text": [
            "Model: \"model_2\"\n",
            "_________________________________________________________________\n",
            " Layer (type)                Output Shape              Param #   \n",
            "=================================================================\n",
            " my_input (InputLayer)       [(None, 3)]               0         \n",
            "                                                                 \n",
            " dense_3 (Dense)             (None, 64)                256       \n",
            "                                                                 \n",
            " dense_4 (Dense)             (None, 10)                650       \n",
            "                                                                 \n",
            "=================================================================\n",
            "Total params: 906 (3.54 KB)\n",
            "Trainable params: 906 (3.54 KB)\n",
            "Non-trainable params: 0 (0.00 Byte)\n",
            "_________________________________________________________________\n"
          ]
        }
      ]
    },
    {
      "cell_type": "code",
      "source": [
        "keras.utils.plot_model(model)"
      ],
      "metadata": {
        "colab": {
          "base_uri": "https://localhost:8080/",
          "height": 272
        },
        "id": "6L4LFebUTNkE",
        "outputId": "a1d34d75-b283-403b-ff7f-84866e60a533"
      },
      "execution_count": 38,
      "outputs": [
        {
          "output_type": "execute_result",
          "data": {
            "image/png": "[encoded data removed]",
            "text/plain": [
              "<IPython.core.display.Image object>"
            ]
          },
          "metadata": {},
          "execution_count": 38
        }
      ]
    },
    {
      "cell_type": "code",
      "source": [
        "inputs.shape"
      ],
      "metadata": {
        "colab": {
          "base_uri": "https://localhost:8080/"
        },
        "id": "F7E3IbNiTQrT",
        "outputId": "40f03523-8a34-43c5-f06d-67dff34368bc"
      },
      "execution_count": 39,
      "outputs": [
        {
          "output_type": "execute_result",
          "data": {
            "text/plain": [
              "TensorShape([None, 3])"
            ]
          },
          "metadata": {},
          "execution_count": 39
        }
      ]
    },
    {
      "cell_type": "code",
      "source": [
        "inputs.dtype"
      ],
      "metadata": {
        "colab": {
          "base_uri": "https://localhost:8080/"
        },
        "id": "mSuqnXFgULtm",
        "outputId": "eaf6589a-b750-4c14-9ac1-86c898ba4425"
      },
      "execution_count": 40,
      "outputs": [
        {
          "output_type": "execute_result",
          "data": {
            "text/plain": [
              "tf.float32"
            ]
          },
          "metadata": {},
          "execution_count": 40
        }
      ]
    },
    {
      "cell_type": "markdown",
      "source": [
        "In Sequential API we can build models with only one input and one output<br>\n",
        "(that sucks)<br>\n",
        "So here functional API can help us"
      ],
      "metadata": {
        "id": "juG3cwH2VOhz"
      }
    },
    {
      "cell_type": "code",
      "source": [
        "vocab_size = 10_000\n",
        "num_tags = 100\n",
        "num_departments = 4"
      ],
      "metadata": {
        "id": "QtQmZ484UO5K"
      },
      "execution_count": 41,
      "outputs": []
    },
    {
      "cell_type": "code",
      "source": [
        "# 3 inputs\n",
        "title = keras.Input(shape=(vocab_size,), name='title')\n",
        "text_body = keras.Input(shape=(vocab_size,), name='text_body')\n",
        "tags = keras.Input(shape=(num_tags,), name='tags')\n",
        "\n",
        "# hidden layers\n",
        "features = layers.Concatenate()([title, text_body, tags])\n",
        "features = layers.Dense(64, activation='relu')(features)\n",
        "\n",
        "# 2 outputs\n",
        "priority = layers.Dense(1, activation='sigmoid', name='priority')(features)\n",
        "department = layers.Dense(num_departments, activation='softmax', name='department')(features)\n",
        "\n",
        "# final model build\n",
        "\n",
        "model = keras.Model(\n",
        "    inputs=[title, text_body, tags],\n",
        "    outputs=[priority, department]\n",
        "    )"
      ],
      "metadata": {
        "id": "fm2_HHMkV16T"
      },
      "execution_count": 42,
      "outputs": []
    },
    {
      "cell_type": "code",
      "source": [
        "model.summary()"
      ],
      "metadata": {
        "colab": {
          "base_uri": "https://localhost:8080/"
        },
        "id": "HIXrbPXNXoyt",
        "outputId": "1c51f375-c525-440b-924f-20062d1706db"
      },
      "execution_count": 43,
      "outputs": [
        {
          "output_type": "stream",
          "name": "stdout",
          "text": [
            "Model: \"model_3\"\n",
            "__________________________________________________________________________________________________\n",
            " Layer (type)                Output Shape                 Param #   Connected to                  \n",
            "==================================================================================================\n",
            " title (InputLayer)          [(None, 10000)]              0         []                            \n",
            "                                                                                                  \n",
            " text_body (InputLayer)      [(None, 10000)]              0         []                            \n",
            "                                                                                                  \n",
            " tags (InputLayer)           [(None, 100)]                0         []                            \n",
            "                                                                                                  \n",
            " concatenate_1 (Concatenate  (None, 20100)                0         ['title[0][0]',               \n",
            " )                                                                   'text_body[0][0]',           \n",
            "                                                                     'tags[0][0]']                \n",
            "                                                                                                  \n",
            " dense_5 (Dense)             (None, 64)                   1286464   ['concatenate_1[0][0]']       \n",
            "                                                                                                  \n",
            " priority (Dense)            (None, 1)                    65        ['dense_5[0][0]']             \n",
            "                                                                                                  \n",
            " department (Dense)          (None, 4)                    260       ['dense_5[0][0]']             \n",
            "                                                                                                  \n",
            "==================================================================================================\n",
            "Total params: 1286789 (4.91 MB)\n",
            "Trainable params: 1286789 (4.91 MB)\n",
            "Non-trainable params: 0 (0.00 Byte)\n",
            "__________________________________________________________________________________________________\n"
          ]
        }
      ]
    },
    {
      "cell_type": "code",
      "source": [
        "keras.utils.plot_model(model)"
      ],
      "metadata": {
        "colab": {
          "base_uri": "https://localhost:8080/",
          "height": 369
        },
        "id": "Xs3pU7ytXtEN",
        "outputId": "ef29d4b4-7ab2-4497-b4fd-e4515c1032ef"
      },
      "execution_count": 44,
      "outputs": [
        {
          "output_type": "execute_result",
          "data": {
            "image/png": "[encoded data removed]",
            "text/plain": [
              "<IPython.core.display.Image object>"
            ]
          },
          "metadata": {},
          "execution_count": 44
        }
      ]
    },
    {
      "cell_type": "code",
      "source": [
        "# that looks cool😎\n",
        "# p.s windows 11 emojis are goofy as f💀"
      ],
      "metadata": {
        "id": "YDJ0Y8_3Xy-Z"
      },
      "execution_count": 45,
      "outputs": []
    },
    {
      "cell_type": "code",
      "source": [
        "import numpy as np"
      ],
      "metadata": {
        "id": "TwM6bQUlYv_i"
      },
      "execution_count": 46,
      "outputs": []
    },
    {
      "cell_type": "code",
      "source": [
        "num_samples = 1280"
      ],
      "metadata": {
        "id": "gzezaa3VcWKr"
      },
      "execution_count": 47,
      "outputs": []
    },
    {
      "cell_type": "code",
      "source": [
        "title_data = np.random.randint(0, 2, size=(num_samples, vocab_size))\n",
        "text_body_data = np.random.randint(0, 2, size=(num_samples, vocab_size))\n",
        "tags_data = np.random.randint(0, 2, size=(num_samples, num_tags))"
      ],
      "metadata": {
        "id": "_2JZ6GJ_cY8G"
      },
      "execution_count": 48,
      "outputs": []
    },
    {
      "cell_type": "code",
      "source": [
        "priority_data = np.random.random(size=(num_samples, 1))\n",
        "dep_data = np.random.randint(0, 2, size=(num_samples, num_departments))"
      ],
      "metadata": {
        "id": "wNwK0rCodce7"
      },
      "execution_count": 49,
      "outputs": []
    },
    {
      "cell_type": "code",
      "source": [
        "model.compile(\n",
        "    optimizer='rmsprop',\n",
        "    loss=['mse', 'categorical_crossentropy'],\n",
        "    metrics=['mae', 'accuracy']\n",
        ")"
      ],
      "metadata": {
        "id": "QcxezAiRefjF"
      },
      "execution_count": 50,
      "outputs": []
    },
    {
      "cell_type": "code",
      "source": [
        "model.fit([title_data, text_body_data, tags_data],\n",
        "          [priority_data, dep_data],\n",
        "          epochs=1)"
      ],
      "metadata": {
        "colab": {
          "base_uri": "https://localhost:8080/"
        },
        "id": "2JoY33y-gYOS",
        "outputId": "841907e3-6a81-4104-d523-1cb18d609637"
      },
      "execution_count": 51,
      "outputs": [
        {
          "output_type": "stream",
          "name": "stdout",
          "text": [
            "40/40 [==============================] - 2s 19ms/step - loss: 31.7188 - priority_loss: 0.3173 - department_loss: 31.4016 - priority_mae: 0.4824 - priority_accuracy: 0.0000e+00 - department_mae: 0.4962 - department_accuracy: 0.2328\n"
          ]
        },
        {
          "output_type": "execute_result",
          "data": {
            "text/plain": [
              "<keras.src.callbacks.History at 0x7cb7a735b940>"
            ]
          },
          "metadata": {},
          "execution_count": 51
        }
      ]
    },
    {
      "cell_type": "code",
      "source": [
        "model.evaluate([title_data, text_body_data, tags_data])"
      ],
      "metadata": {
        "colab": {
          "base_uri": "https://localhost:8080/"
        },
        "id": "fYfpgwOaguK3",
        "outputId": "ec40d8a6-41fe-44c4-c2b4-b1e6baeb1fde"
      },
      "execution_count": 52,
      "outputs": [
        {
          "output_type": "stream",
          "name": "stdout",
          "text": [
            "40/40 [==============================] - 0s 5ms/step - loss: 0.0000e+00 - priority_loss: 0.0000e+00 - department_loss: 0.0000e+00 - priority_mae: 0.0000e+00 - priority_accuracy: 0.0000e+00 - department_mae: 0.0000e+00 - department_accuracy: 0.0000e+00\n"
          ]
        },
        {
          "output_type": "execute_result",
          "data": {
            "text/plain": [
              "[0.0, 0.0, 0.0, 0.0, 0.0, 0.0, 0.0]"
            ]
          },
          "metadata": {},
          "execution_count": 52
        }
      ]
    },
    {
      "cell_type": "code",
      "source": [
        "priority_preds, dep_preds = model.predict([title_data, text_body_data, tags_data])"
      ],
      "metadata": {
        "colab": {
          "base_uri": "https://localhost:8080/"
        },
        "id": "fkvZtiEig4tx",
        "outputId": "23ece11f-a6ab-441e-cb8c-e0cfa0bc1aae"
      },
      "execution_count": 53,
      "outputs": [
        {
          "output_type": "stream",
          "name": "stdout",
          "text": [
            "40/40 [==============================] - 0s 8ms/step\n"
          ]
        }
      ]
    },
    {
      "cell_type": "code",
      "source": [
        "priority_preds[0]"
      ],
      "metadata": {
        "colab": {
          "base_uri": "https://localhost:8080/"
        },
        "id": "9MeUC6EkhPZA",
        "outputId": "24dca631-770d-4c83-b755-740592436bce"
      },
      "execution_count": 54,
      "outputs": [
        {
          "output_type": "execute_result",
          "data": {
            "text/plain": [
              "array([1.], dtype=float32)"
            ]
          },
          "metadata": {},
          "execution_count": 54
        }
      ]
    },
    {
      "cell_type": "code",
      "source": [
        "np.argmax(dep_preds[0])"
      ],
      "metadata": {
        "colab": {
          "base_uri": "https://localhost:8080/"
        },
        "id": "riPvwtM5hR9H",
        "outputId": "c764194d-a4fc-4c2a-8b03-72de6a88b3fa"
      },
      "execution_count": 55,
      "outputs": [
        {
          "output_type": "execute_result",
          "data": {
            "text/plain": [
              "0"
            ]
          },
          "metadata": {},
          "execution_count": 55
        }
      ]
    },
    {
      "cell_type": "markdown",
      "source": [
        "# **TRIPLE BAM**"
      ],
      "metadata": {
        "id": "C2W6_zFsheQV"
      }
    },
    {
      "cell_type": "code",
      "source": [
        "# we can also use dicts in compiling"
      ],
      "metadata": {
        "id": "fQXQmuHGhYnJ"
      },
      "execution_count": 56,
      "outputs": []
    },
    {
      "cell_type": "code",
      "source": [
        "model.compile(\n",
        "    optimizer='rmsprop',\n",
        "    loss={\n",
        "        'priority': 'mse',\n",
        "        'department': 'categorical_crossentropy'\n",
        "    },\n",
        "    metrics={\n",
        "        'priority': 'mae',\n",
        "        'department': 'accuracy'\n",
        "    }\n",
        ")"
      ],
      "metadata": {
        "id": "qB2TSHv_hyAk"
      },
      "execution_count": 57,
      "outputs": []
    },
    {
      "cell_type": "markdown",
      "source": [
        "And in fitting also"
      ],
      "metadata": {
        "id": "KiC9kX93iWIY"
      }
    },
    {
      "cell_type": "code",
      "source": [
        "model.fit(\n",
        "    {'title': title_data,\n",
        "     'text_body': text_body_data,\n",
        "     'tags': tags_data\n",
        "     },\n",
        "    {'priority': priority_data,\n",
        "     'department': dep_data},\n",
        "    epochs=1\n",
        ")"
      ],
      "metadata": {
        "colab": {
          "base_uri": "https://localhost:8080/"
        },
        "id": "4Pm4z-EWiKTo",
        "outputId": "bed9b592-4ac8-494b-e68d-02aac6cc44d7"
      },
      "execution_count": 58,
      "outputs": [
        {
          "output_type": "stream",
          "name": "stdout",
          "text": [
            "40/40 [==============================] - 2s 20ms/step - loss: 37.2860 - priority_loss: 0.3395 - department_loss: 36.9464 - priority_mae: 0.5042 - department_accuracy: 0.2750\n"
          ]
        },
        {
          "output_type": "execute_result",
          "data": {
            "text/plain": [
              "<keras.src.callbacks.History at 0x7cb7a4d176d0>"
            ]
          },
          "metadata": {},
          "execution_count": 58
        }
      ]
    },
    {
      "cell_type": "markdown",
      "source": [
        "# **GIGA BAM!**"
      ],
      "metadata": {
        "id": "8J_3fF1ci_1x"
      }
    },
    {
      "cell_type": "code",
      "source": [
        "keras.utils.plot_model(model, show_shapes=True)"
      ],
      "metadata": {
        "colab": {
          "base_uri": "https://localhost:8080/",
          "height": 422
        },
        "id": "XE7QqqzIi-CW",
        "outputId": "ae753237-d6bb-4f25-e53c-fc33e2f9a373"
      },
      "execution_count": 59,
      "outputs": [
        {
          "output_type": "execute_result",
          "data": {
            "image/png": "[encoded data removed]",
            "text/plain": [
              "<IPython.core.display.Image object>"
            ]
          },
          "metadata": {},
          "execution_count": 59
        }
      ]
    },
    {
      "cell_type": "markdown",
      "source": [
        "We can see layers of model and their params"
      ],
      "metadata": {
        "id": "hrRscAOPv861"
      }
    },
    {
      "cell_type": "code",
      "source": [
        "model.layers"
      ],
      "metadata": {
        "id": "r2-SZSMqjVNp",
        "colab": {
          "base_uri": "https://localhost:8080/"
        },
        "outputId": "5b76d3ac-81e3-46aa-bdbc-d012eb5804eb"
      },
      "execution_count": 60,
      "outputs": [
        {
          "output_type": "execute_result",
          "data": {
            "text/plain": [
              "[<keras.src.engine.input_layer.InputLayer at 0x7cb7a73451e0>,\n",
              " <keras.src.engine.input_layer.InputLayer at 0x7cb7a73456c0>,\n",
              " <keras.src.engine.input_layer.InputLayer at 0x7cb7a7344ac0>,\n",
              " <keras.src.layers.merging.concatenate.Concatenate at 0x7cb7a73453c0>,\n",
              " <keras.src.layers.core.dense.Dense at 0x7cb7a76a87c0>,\n",
              " <keras.src.layers.core.dense.Dense at 0x7cb7a76a9c30>,\n",
              " <keras.src.layers.core.dense.Dense at 0x7cb7a76a9000>]"
            ]
          },
          "metadata": {},
          "execution_count": 60
        }
      ]
    },
    {
      "cell_type": "code",
      "source": [
        "model.layers[3]"
      ],
      "metadata": {
        "colab": {
          "base_uri": "https://localhost:8080/"
        },
        "id": "9-BaMzkbvtHe",
        "outputId": "afd8936f-4e34-47f1-b76d-edbbf0cae519"
      },
      "execution_count": 61,
      "outputs": [
        {
          "output_type": "execute_result",
          "data": {
            "text/plain": [
              "<keras.src.layers.merging.concatenate.Concatenate at 0x7cb7a73453c0>"
            ]
          },
          "metadata": {},
          "execution_count": 61
        }
      ]
    },
    {
      "cell_type": "code",
      "source": [
        "model.layers[3].input"
      ],
      "metadata": {
        "colab": {
          "base_uri": "https://localhost:8080/"
        },
        "id": "lauTolrKvv-T",
        "outputId": "2bd20637-f19d-48ea-8400-56132930e00d"
      },
      "execution_count": 62,
      "outputs": [
        {
          "output_type": "execute_result",
          "data": {
            "text/plain": [
              "[<KerasTensor: shape=(None, 10000) dtype=float32 (created by layer 'title')>,\n",
              " <KerasTensor: shape=(None, 10000) dtype=float32 (created by layer 'text_body')>,\n",
              " <KerasTensor: shape=(None, 100) dtype=float32 (created by layer 'tags')>]"
            ]
          },
          "metadata": {},
          "execution_count": 62
        }
      ]
    },
    {
      "cell_type": "code",
      "source": [
        "model.layers[3].output"
      ],
      "metadata": {
        "colab": {
          "base_uri": "https://localhost:8080/"
        },
        "id": "gjE7ywcYvzBj",
        "outputId": "47e3c870-e60e-461d-fdf2-7b3347e9c01f"
      },
      "execution_count": 63,
      "outputs": [
        {
          "output_type": "execute_result",
          "data": {
            "text/plain": [
              "<KerasTensor: shape=(None, 20100) dtype=float32 (created by layer 'concatenate_1')>"
            ]
          },
          "metadata": {},
          "execution_count": 63
        }
      ]
    },
    {
      "cell_type": "code",
      "source": [
        "features = model.layers[4].output\n",
        "difficulty = layers.Dense(3, activation='softmax', name='difficulty_output')(features)"
      ],
      "metadata": {
        "id": "E89769Bsv6Lw"
      },
      "execution_count": 68,
      "outputs": []
    },
    {
      "cell_type": "code",
      "source": [
        "model = keras.Model(\n",
        "    inputs=[title, text_body, tags],\n",
        "    outputs=[priority, department, difficulty]\n",
        ")\n"
      ],
      "metadata": {
        "id": "abWu_yBiw5d_"
      },
      "execution_count": 71,
      "outputs": []
    },
    {
      "cell_type": "code",
      "source": [
        "keras.utils.plot_model(model, show_shapes=True)"
      ],
      "metadata": {
        "colab": {
          "base_uri": "https://localhost:8080/",
          "height": 422
        },
        "id": "xwkBCPoCxp_p",
        "outputId": "ff1ae2c6-cd5e-467b-99c8-1a5698d94045"
      },
      "execution_count": 72,
      "outputs": [
        {
          "output_type": "execute_result",
          "data": {
            "image/png": "[encoded data removed]",
            "text/plain": [
              "<IPython.core.display.Image object>"
            ]
          },
          "metadata": {},
          "execution_count": 72
        }
      ]
    },
    {
      "cell_type": "code",
      "source": [],
      "metadata": {
        "id": "qzrEa4SOyXKf"
      },
      "execution_count": null,
      "outputs": []
    }
  ]
}