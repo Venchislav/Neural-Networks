{
  "cells": [
    {
      "cell_type": "markdown",
      "metadata": {
        "colab_type": "text",
        "id": "view-in-github"
      },
      "source": [
        "<a href=\"https://colab.research.google.com/github/Venchislav/Neural-Networks/blob/main/GAN_MNIST.ipynb\" target=\"_parent\"><img src=\"https://colab.research.google.com/assets/colab-badge.svg\" alt=\"Open In Colab\"/></a>"
      ]
    },
    {
      "cell_type": "code",
      "execution_count": 33,
      "metadata": {
        "id": "WHRHSIMclJK8"
      },
      "outputs": [],
      "source": [
        "from tensorflow.keras.datasets import mnist\n",
        "import tensorflow as tf\n",
        "from tensorflow import keras\n",
        "import numpy as np\n",
        "import matplotlib.pyplot as plt\n",
        "from tensorflow.keras.layers import Dense, Input, Flatten, Conv2D, MaxPool2D, LeakyReLU, Dropout, Reshape\n",
        "from tensorflow.keras.models import Model, Sequential\n",
        "from tensorflow.keras.optimizers import Adam"
      ]
    },
    {
      "cell_type": "code",
      "execution_count": 34,
      "metadata": {
        "colab": {
          "base_uri": "https://localhost:8080/"
        },
        "id": "DfrfSKkSlnpz",
        "outputId": "cf7449be-83e3-43fa-fad2-1ac85c54193f"
      },
      "outputs": [],
      "source": [
        "(X_train, _), (X_test, _) = mnist.load_data()\n",
        "\n",
        "# concatenating X_train and X_test (as we don't give a sh😧t)\n",
        "X = np.vstack((X_train, X_test))\n",
        "X = X.astype('float32')\n",
        "X = (X - 127.5) / 127.5"
      ]
    },
    {
      "cell_type": "code",
      "execution_count": 35,
      "metadata": {
        "colab": {
          "base_uri": "https://localhost:8080/"
        },
        "id": "aZLH_d0RmFz5",
        "outputId": "a39ba378-7c55-453f-84b1-c967caa2e127"
      },
      "outputs": [
        {
          "data": {
            "text/plain": [
              "(70000, 28, 28)"
            ]
          },
          "execution_count": 35,
          "metadata": {},
          "output_type": "execute_result"
        }
      ],
      "source": [
        "X.shape"
      ]
    },
    {
      "cell_type": "code",
      "execution_count": 36,
      "metadata": {
        "id": "fbfr2QodmZW_"
      },
      "outputs": [],
      "source": [
        "def build_generator(n):\n",
        "  input = Input(shape=(n,))\n",
        "\n",
        "  x = Dense(256, activation=LeakyReLU(alpha=0.1))(input)\n",
        "  x = Dense(512, activation=LeakyReLU(alpha=0.1))(x)\n",
        "  x = Dense(1024, activation=LeakyReLU(alpha=0.2))(x)\n",
        "  x = Dense(784, activation='tanh')(x)\n",
        "\n",
        "  output = Reshape((28, 28, 1))(x)\n",
        "\n",
        "  return Model(input, output)"
      ]
    },
    {
      "cell_type": "code",
      "execution_count": 37,
      "metadata": {
        "id": "24p7YGePqqYu"
      },
      "outputs": [],
      "source": [
        "def build_discriminator():\n",
        "  input = Input(shape=(28, 28, 1))\n",
        "\n",
        "  x = Flatten()(input)\n",
        "  x = Dropout(0.4)(x)\n",
        "  x = Dense(1024, activation=LeakyReLU(alpha=0.2))(x)\n",
        "  x = Dropout(0.4)(x)\n",
        "  x = Dense(512, activation=LeakyReLU(alpha=0.2))(x)\n",
        "  x = Dropout(0.4)(x)\n",
        "  x = Dense(512, activation=LeakyReLU(alpha=0.2))(x)\n",
        "\n",
        "  output = Dense(1, activation='sigmoid')(x)\n",
        "  model = Model(input, output)\n",
        "  model.compile(\n",
        "      optimizer=Adam(),\n",
        "      loss='binary_crossentropy'\n",
        "      )\n",
        "  return model"
      ]
    },
    {
      "cell_type": "code",
      "execution_count": 38,
      "metadata": {
        "id": "zl0ce7WDrbJT"
      },
      "outputs": [],
      "source": [
        "def gan(gen, disc):\n",
        "  disc.trainable = False\n",
        "\n",
        "  model = Sequential([\n",
        "      gen,\n",
        "      disc\n",
        "  ])\n",
        "\n",
        "  model.compile(\n",
        "      optimizer=Adam(lr=0.001),\n",
        "      loss='binary_crossentropy'\n",
        "  )\n",
        "\n",
        "  return model"
      ]
    },
    {
      "cell_type": "code",
      "execution_count": 39,
      "metadata": {
        "id": "Z9_I_a_5r2LZ"
      },
      "outputs": [],
      "source": [
        "discriminator = build_discriminator()"
      ]
    },
    {
      "cell_type": "code",
      "execution_count": 40,
      "metadata": {
        "colab": {
          "base_uri": "https://localhost:8080/",
          "height": 976
        },
        "id": "R7TuFxRMr7Ko",
        "outputId": "3c4ca0e8-ae27-451d-84a7-a8b729b8537a"
      },
      "outputs": [
        {
          "name": "stdout",
          "output_type": "stream",
          "text": [
            "Failed to import pydot. You must install pydot and graphviz for `pydotprint` to work.\n"
          ]
        }
      ],
      "source": [
        "keras.utils.plot_model(discriminator, show_shapes=True)"
      ]
    },
    {
      "cell_type": "code",
      "execution_count": 41,
      "metadata": {
        "id": "jM3lyprer-7o"
      },
      "outputs": [],
      "source": [
        "generator = build_generator(100)"
      ]
    },
    {
      "cell_type": "code",
      "execution_count": 42,
      "metadata": {
        "colab": {
          "base_uri": "https://localhost:8080/",
          "height": 644
        },
        "id": "PaUpnxhNsNV3",
        "outputId": "c66296da-1f58-43d1-cbb6-1e1a8edd9ffd"
      },
      "outputs": [
        {
          "name": "stdout",
          "output_type": "stream",
          "text": [
            "Failed to import pydot. You must install pydot and graphviz for `pydotprint` to work.\n"
          ]
        }
      ],
      "source": [
        "keras.utils.plot_model(generator, show_shapes=True)"
      ]
    },
    {
      "cell_type": "code",
      "execution_count": 43,
      "metadata": {
        "colab": {
          "base_uri": "https://localhost:8080/"
        },
        "id": "ejqInKyBxQNh",
        "outputId": "32bacbf4-ba70-4b34-bcfa-75d39e1342df"
      },
      "outputs": [],
      "source": [
        "gan_model = gan(generator, discriminator)"
      ]
    },
    {
      "cell_type": "code",
      "execution_count": 44,
      "metadata": {
        "colab": {
          "base_uri": "https://localhost:8080/",
          "height": 469
        },
        "id": "88ZunJXIsQ_w",
        "outputId": "084da632-edcb-49b6-c6d1-9cc6f31f2fc4"
      },
      "outputs": [
        {
          "data": {
            "image/png": "[encoded data removed]",
            "text/plain": [
              "<Figure size 432x288 with 1 Axes>"
            ]
          },
          "metadata": {
            "needs_background": "light"
          },
          "output_type": "display_data"
        }
      ],
      "source": [
        "plt.title('Random noise by generator')\n",
        "plt.imshow(generator.predict(np.random.randn(100).reshape(1, 100))[0], cmap='gray');"
      ]
    },
    {
      "cell_type": "code",
      "execution_count": 45,
      "metadata": {
        "colab": {
          "base_uri": "https://localhost:8080/",
          "height": 487
        },
        "id": "39c96UZ0sgNn",
        "outputId": "96b88c60-1350-4ec9-b4a5-b58c60c09ab2"
      },
      "outputs": [
        {
          "name": "stderr",
          "output_type": "stream",
          "text": [
            "c:\\Users\\rayga\\miniconda3\\envs\\directml\\lib\\site-packages\\matplotlib\\text.py:1165: FutureWarning: elementwise comparison failed; returning scalar instead, but in the future will perform elementwise comparison\n",
            "  if s != self._text:\n"
          ]
        },
        {
          "data": {
            "image/png": "[encoded data removed]",
            "text/plain": [
              "<Figure size 432x288 with 1 Axes>"
            ]
          },
          "metadata": {
            "needs_background": "light"
          },
          "output_type": "display_data"
        }
      ],
      "source": [
        "gen_pred = generator.predict(np.random.randn(100).reshape(1, 100)).reshape(28, 28, 1)\n",
        "plt.title(discriminator.predict(gen_pred.reshape(1, 28, 28, 1)))\n",
        "plt.imshow(gen_pred, cmap='gray');"
      ]
    },
    {
      "cell_type": "code",
      "execution_count": 46,
      "metadata": {
        "id": "FE8jOsqZtSQj"
      },
      "outputs": [],
      "source": [
        "from tqdm import tqdm"
      ]
    },
    {
      "cell_type": "code",
      "execution_count": 47,
      "metadata": {
        "id": "zX32lFMIuY7v"
      },
      "outputs": [],
      "source": [
        "epochs = 200\n",
        "batch_size = 256\n",
        "half_batch = batch_size // 2\n",
        "n = 100\n",
        "losses = []"
      ]
    },
    {
      "cell_type": "code",
      "execution_count": 48,
      "metadata": {
        "colab": {
          "base_uri": "https://localhost:8080/",
          "height": 1000
        },
        "id": "tyTyLvTIuhj_",
        "outputId": "8ef64f64-4faf-4517-e127-17b0a8092a4c"
      },
      "outputs": [
        {
          "name": "stdout",
          "output_type": "stream",
          "text": [
            "WARNING:tensorflow:Discrepancy between trainable weights and collected trainable weights, did you set `model.trainable` without calling `model.compile` after ?\n",
            "epoch 0 ---- losses[d/g]: [7.861437e-05, 44.999866]\n",
            "epoch 1 ---- losses[d/g]: [8.482629e-06, 67.403854]\n",
            "epoch 2 ---- losses[d/g]: [1.6725257e-06, 80.1097]\n",
            "epoch 3 ---- losses[d/g]: [2.3189787e-07, 62.61786]\n",
            "epoch 4 ---- losses[d/g]: [4.446968e-07, 72.56815]\n",
            "epoch 5 ---- losses[d/g]: [3.9160648e-07, 66.53633]\n",
            "epoch 6 ---- losses[d/g]: [4.1443776e-08, 78.50017]\n",
            "epoch 7 ---- losses[d/g]: [0.08856341, 33.40084]\n",
            "epoch 8 ---- losses[d/g]: [2.1613447e-05, 94.19122]\n",
            "epoch 9 ---- losses[d/g]: [8.3818904e-08, 95.2845]\n",
            "epoch 10 ---- losses[d/g]: [6.519248e-08, 90.48726]\n",
            "epoch 11 ---- losses[d/g]: [2.7939675e-09, 85.6053]\n",
            "epoch 12 ---- losses[d/g]: [9.4570817e-07, 100.72798]\n",
            "epoch 13 ---- losses[d/g]: [7.683357e-08, 102.11572]\n",
            "epoch 14 ---- losses[d/g]: [1.1641523e-08, 93.374435]\n",
            "epoch 15 ---- losses[d/g]: [3.306192e-08, 103.77596]\n",
            "epoch 16 ---- losses[d/g]: [1.8160778e-08, 104.84533]\n",
            "epoch 17 ---- losses[d/g]: [2.7379187e-06, 130.07785]\n",
            "epoch 18 ---- losses[d/g]: [2.3748694e-08, 155.50876]\n",
            "epoch 19 ---- losses[d/g]: [3.2596286e-09, 151.28406]\n",
            "epoch 20 ---- losses[d/g]: [2.3283062e-09, 152.724]\n",
            "epoch 21 ---- losses[d/g]: [9.313226e-10, 152.3807]\n",
            "epoch 22 ---- losses[d/g]: [1.862645e-09, 154.87607]\n",
            "epoch 23 ---- losses[d/g]: [9.3132246e-10, 150.9575]\n",
            "epoch 24 ---- losses[d/g]: [4.656613e-10, 143.8316]\n",
            "epoch 25 ---- losses[d/g]: [0.0, 2128.366]\n",
            "epoch 26 ---- losses[d/g]: [0.0, 2165.02]\n",
            "epoch 27 ---- losses[d/g]: [0.0, 2210.5938]\n",
            "epoch 28 ---- losses[d/g]: [0.0, 2183.789]\n",
            "epoch 29 ---- losses[d/g]: [0.0, 3736.0967]\n",
            "epoch 30 ---- losses[d/g]: [0.0, 3670.7202]\n",
            "epoch 31 ---- losses[d/g]: [0.0, 3682.5522]\n",
            "epoch 32 ---- losses[d/g]: [0.0, 3786.0728]\n",
            "epoch 33 ---- losses[d/g]: [0.24783942, 1047.4553]\n",
            "epoch 34 ---- losses[d/g]: [2.2187114e-06, 147.30246]\n",
            "epoch 35 ---- losses[d/g]: [0.0, 173.0665]\n",
            "epoch 36 ---- losses[d/g]: [0.0, 187.92409]\n",
            "epoch 37 ---- losses[d/g]: [0.0, 194.35065]\n",
            "epoch 38 ---- losses[d/g]: [0.0, 253.5029]\n",
            "epoch 39 ---- losses[d/g]: [0.0, 211.95148]\n",
            "epoch 40 ---- losses[d/g]: [0.0, 193.2472]\n",
            "epoch 41 ---- losses[d/g]: [0.0, 195.2355]\n",
            "epoch 42 ---- losses[d/g]: [0.0, 197.04037]\n",
            "epoch 43 ---- losses[d/g]: [0.0, 556.3528]\n",
            "epoch 44 ---- losses[d/g]: [0.0, 467.39542]\n",
            "epoch 45 ---- losses[d/g]: [0.0, 325.50418]\n",
            "epoch 46 ---- losses[d/g]: [0.0, 510.2681]\n",
            "epoch 47 ---- losses[d/g]: [0.0, 429.71112]\n",
            "epoch 48 ---- losses[d/g]: [0.0, 430.55838]\n",
            "epoch 49 ---- losses[d/g]: [0.0, 430.96002]\n",
            "epoch 50 ---- losses[d/g]: [0.0, 421.69778]\n",
            "epoch 51 ---- losses[d/g]: [0.0, 393.64282]\n",
            "epoch 52 ---- losses[d/g]: [0.0, 323.17682]\n",
            "epoch 53 ---- losses[d/g]: [0.0, 1009.6094]\n",
            "epoch 54 ---- losses[d/g]: [0.0, 905.97705]\n",
            "epoch 55 ---- losses[d/g]: [0.0, 882.6293]\n",
            "epoch 56 ---- losses[d/g]: [0.0, 1780.2747]\n",
            "epoch 57 ---- losses[d/g]: [0.0, 1765.0518]\n",
            "epoch 58 ---- losses[d/g]: [0.0, 1750.469]\n",
            "epoch 59 ---- losses[d/g]: [0.0, 1770.9666]\n",
            "epoch 60 ---- losses[d/g]: [0.0, 1764.324]\n",
            "epoch 61 ---- losses[d/g]: [0.0, 1774.6222]\n",
            "epoch 62 ---- losses[d/g]: [0.0, 1786.3802]\n",
            "epoch 63 ---- losses[d/g]: [0.0, 1760.6544]\n",
            "epoch 64 ---- losses[d/g]: [0.0, 1737.4609]\n",
            "epoch 65 ---- losses[d/g]: [0.0, 1735.3798]\n",
            "epoch 66 ---- losses[d/g]: [0.0, 1748.3169]\n",
            "epoch 67 ---- losses[d/g]: [0.0, 1760.7756]\n",
            "epoch 68 ---- losses[d/g]: [0.0, 1793.5881]\n",
            "epoch 69 ---- losses[d/g]: [0.0, 1779.3931]\n",
            "epoch 70 ---- losses[d/g]: [0.0, 6363.3506]\n",
            "epoch 71 ---- losses[d/g]: [0.0, 9294.518]\n",
            "epoch 72 ---- losses[d/g]: [0.0, 9315.574]\n",
            "epoch 73 ---- losses[d/g]: [0.0, 9454.202]\n",
            "epoch 74 ---- losses[d/g]: [0.0, 9285.138]\n",
            "epoch 75 ---- losses[d/g]: [0.0, 9347.327]\n",
            "epoch 76 ---- losses[d/g]: [0.0, 9445.639]\n",
            "epoch 77 ---- losses[d/g]: [0.0, 9261.748]\n",
            "epoch 78 ---- losses[d/g]: [0.0, 9289.798]\n",
            "epoch 79 ---- losses[d/g]: [0.0, 9248.922]\n",
            "epoch 80 ---- losses[d/g]: [0.0, 9399.875]\n",
            "epoch 81 ---- losses[d/g]: [0.0, 9285.5625]\n",
            "epoch 82 ---- losses[d/g]: [0.0, 9508.645]\n",
            "epoch 83 ---- losses[d/g]: [0.0, 9204.393]\n",
            "epoch 84 ---- losses[d/g]: [0.0, 9408.643]\n",
            "epoch 85 ---- losses[d/g]: [0.0, 9247.879]\n",
            "epoch 86 ---- losses[d/g]: [0.0, 9135.546]\n",
            "epoch 87 ---- losses[d/g]: [0.0, 9298.4375]\n",
            "epoch 88 ---- losses[d/g]: [0.0, 9401.993]\n",
            "epoch 89 ---- losses[d/g]: [0.0, 9230.088]\n",
            "epoch 90 ---- losses[d/g]: [0.0, 9326.89]\n",
            "epoch 91 ---- losses[d/g]: [0.0, 9291.638]\n",
            "epoch 92 ---- losses[d/g]: [0.0, 9311.395]\n",
            "epoch 93 ---- losses[d/g]: [0.0, 9133.157]\n",
            "epoch 94 ---- losses[d/g]: [0.0, 9506.334]\n",
            "epoch 95 ---- losses[d/g]: [0.0, 9467.217]\n",
            "epoch 96 ---- losses[d/g]: [0.0, 9265.856]\n",
            "epoch 97 ---- losses[d/g]: [0.0, 9323.873]\n",
            "epoch 98 ---- losses[d/g]: [0.0, 9261.096]\n",
            "epoch 99 ---- losses[d/g]: [0.0, 9348.906]\n",
            "epoch 100 ---- losses[d/g]: [0.0, 9440.197]\n",
            "epoch 101 ---- losses[d/g]: [0.0, 9231.811]\n",
            "epoch 102 ---- losses[d/g]: [0.0, 9496.262]\n",
            "epoch 103 ---- losses[d/g]: [0.0, 9569.539]\n",
            "epoch 104 ---- losses[d/g]: [0.0, 9452.282]\n",
            "epoch 105 ---- losses[d/g]: [0.0, 9364.655]\n",
            "epoch 106 ---- losses[d/g]: [0.0, 9329.549]\n",
            "epoch 107 ---- losses[d/g]: [0.0, 9193.696]\n",
            "epoch 108 ---- losses[d/g]: [0.0, 9367.51]\n",
            "epoch 109 ---- losses[d/g]: [0.0, 9075.514]\n",
            "epoch 110 ---- losses[d/g]: [0.0, 9131.054]\n",
            "epoch 111 ---- losses[d/g]: [0.0, 9458.826]\n",
            "epoch 112 ---- losses[d/g]: [0.0, 9294.803]\n",
            "epoch 113 ---- losses[d/g]: [0.0, 9391.873]\n",
            "epoch 114 ---- losses[d/g]: [0.0, 9219.301]\n",
            "epoch 115 ---- losses[d/g]: [0.0, 9309.895]\n",
            "epoch 116 ---- losses[d/g]: [0.0, 9222.826]\n",
            "epoch 117 ---- losses[d/g]: [0.0, 9313.942]\n",
            "epoch 118 ---- losses[d/g]: [0.0, 9274.544]\n",
            "epoch 119 ---- losses[d/g]: [0.0, 9324.931]\n",
            "epoch 120 ---- losses[d/g]: [0.0, 9297.934]\n",
            "epoch 121 ---- losses[d/g]: [0.0, 9316.8955]\n",
            "epoch 122 ---- losses[d/g]: [0.0, 9465.107]\n",
            "epoch 123 ---- losses[d/g]: [0.0, 9141.209]\n",
            "epoch 124 ---- losses[d/g]: [0.0, 9349.18]\n",
            "epoch 125 ---- losses[d/g]: [0.0, 9352.362]\n",
            "epoch 126 ---- losses[d/g]: [0.0, 9385.33]\n",
            "epoch 127 ---- losses[d/g]: [0.0, 9183.114]\n",
            "epoch 128 ---- losses[d/g]: [0.0, 9250.295]\n",
            "epoch 129 ---- losses[d/g]: [0.0, 9222.348]\n",
            "epoch 130 ---- losses[d/g]: [0.0, 9322.126]\n",
            "epoch 131 ---- losses[d/g]: [0.0, 9356.935]\n",
            "epoch 132 ---- losses[d/g]: [0.0, 9246.803]\n",
            "epoch 133 ---- losses[d/g]: [0.0, 9467.696]\n",
            "epoch 134 ---- losses[d/g]: [0.0, 9122.667]\n",
            "epoch 135 ---- losses[d/g]: [0.0, 9248.746]\n",
            "epoch 136 ---- losses[d/g]: [0.0, 9350.138]\n",
            "epoch 137 ---- losses[d/g]: [0.0, 9244.029]\n",
            "epoch 138 ---- losses[d/g]: [0.0, 9362.039]\n",
            "epoch 139 ---- losses[d/g]: [0.0, 9175.2]\n",
            "epoch 140 ---- losses[d/g]: [0.0, 9278.445]\n",
            "epoch 141 ---- losses[d/g]: [0.0, 9454.761]\n",
            "epoch 142 ---- losses[d/g]: [0.0, 9197.933]\n",
            "epoch 143 ---- losses[d/g]: [0.0, 9134.1875]\n",
            "epoch 144 ---- losses[d/g]: [0.0, 9371.182]\n",
            "epoch 145 ---- losses[d/g]: [0.0, 483.16708]\n",
            "epoch 146 ---- losses[d/g]: [0.0, 489.63263]\n",
            "epoch 147 ---- losses[d/g]: [0.0, 385.12167]\n",
            "epoch 148 ---- losses[d/g]: [0.0, 427.61288]\n",
            "epoch 149 ---- losses[d/g]: [0.0, 382.21722]\n",
            "epoch 150 ---- losses[d/g]: [0.0, 376.7796]\n",
            "epoch 151 ---- losses[d/g]: [0.0, 377.45416]\n",
            "epoch 152 ---- losses[d/g]: [0.0, 380.4644]\n",
            "epoch 153 ---- losses[d/g]: [0.0, 369.8133]\n",
            "epoch 154 ---- losses[d/g]: [0.0, 392.8089]\n",
            "epoch 155 ---- losses[d/g]: [0.0, 376.12222]\n",
            "epoch 156 ---- losses[d/g]: [0.0, 393.7467]\n",
            "epoch 157 ---- losses[d/g]: [0.0, 360.43652]\n",
            "epoch 158 ---- losses[d/g]: [0.0, 1360.8732]\n",
            "epoch 159 ---- losses[d/g]: [0.0, 2746.939]\n",
            "epoch 160 ---- losses[d/g]: [0.0, 4517.449]\n",
            "epoch 161 ---- losses[d/g]: [0.0, 4543.6665]\n",
            "epoch 162 ---- losses[d/g]: [0.0, 4479.1816]\n",
            "epoch 163 ---- losses[d/g]: [0.0, 4495.88]\n",
            "epoch 164 ---- losses[d/g]: [0.0, 4628.49]\n",
            "epoch 165 ---- losses[d/g]: [0.0, 1235.6553]\n",
            "epoch 166 ---- losses[d/g]: [0.0, 822.87524]\n",
            "epoch 167 ---- losses[d/g]: [0.0, 547.0991]\n",
            "epoch 168 ---- losses[d/g]: [9.523736e-05, 399.17007]\n",
            "epoch 169 ---- losses[d/g]: [0.0, 120.21628]\n",
            "epoch 170 ---- losses[d/g]: [0.0, 213.57755]\n",
            "epoch 171 ---- losses[d/g]: [5.0371767e-05, 107.46228]\n",
            "epoch 172 ---- losses[d/g]: [1.0657533e-06, 169.16599]\n",
            "epoch 173 ---- losses[d/g]: [7.9619974e-07, 179.11746]\n",
            "epoch 174 ---- losses[d/g]: [0.0, 230.95532]\n",
            "epoch 175 ---- losses[d/g]: [0.0, 194.5361]\n",
            "epoch 176 ---- losses[d/g]: [0.0, 233.89084]\n",
            "epoch 177 ---- losses[d/g]: [0.0, 181.206]\n",
            "epoch 178 ---- losses[d/g]: [0.04081236, 188.91481]\n",
            "epoch 179 ---- losses[d/g]: [0.0, 155.18314]\n",
            "epoch 180 ---- losses[d/g]: [0.0, 364.77808]\n",
            "epoch 181 ---- losses[d/g]: [0.0, 453.08856]\n",
            "epoch 182 ---- losses[d/g]: [0.0, 479.32367]\n",
            "epoch 183 ---- losses[d/g]: [0.0, 312.6114]\n",
            "epoch 184 ---- losses[d/g]: [0.0, 214.63342]\n",
            "epoch 185 ---- losses[d/g]: [2.3283058e-09, 339.10056]\n",
            "epoch 186 ---- losses[d/g]: [0.0, 339.29718]\n",
            "epoch 187 ---- losses[d/g]: [0.0, 341.27142]\n",
            "epoch 188 ---- losses[d/g]: [0.0, 412.2085]\n",
            "epoch 189 ---- losses[d/g]: [0.0, 402.1936]\n",
            "epoch 190 ---- losses[d/g]: [0.0, 591.5329]\n",
            "epoch 191 ---- losses[d/g]: [0.0, 636.4855]\n",
            "epoch 192 ---- losses[d/g]: [0.0, 2535.5388]\n",
            "epoch 193 ---- losses[d/g]: [0.0, 2516.819]\n",
            "epoch 194 ---- losses[d/g]: [0.0, 1698.0225]\n",
            "epoch 195 ---- losses[d/g]: [0.0, 1500.842]\n",
            "epoch 196 ---- losses[d/g]: [0.0, 1606.6478]\n",
            "epoch 197 ---- losses[d/g]: [0.0, 1621.6757]\n",
            "epoch 198 ---- losses[d/g]: [0.0, 1513.8635]\n",
            "epoch 199 ---- losses[d/g]: [0.0, 1537.9359]\n"
          ]
        },
        {
          "data": {
            "image/png": "[encoded data removed]",
            "text/plain": [
              "<Figure size 864x864 with 25 Axes>"
            ]
          },
          "metadata": {
            "needs_background": "light"
          },
          "output_type": "display_data"
        }
      ],
      "source": [
        "for i in range(epochs):\n",
        "  for j in range(len(X)//batch_size):\n",
        "    X_real = X[np.random.randint(0, len(X), half_batch)].reshape(half_batch, 28, 28, 1)\n",
        "    y_real = np.ones(half_batch).reshape(half_batch, 1)\n",
        "\n",
        "    X_fake = generator.predict(np.random.randn(half_batch, n), verbose=0)\n",
        "    y_fake = np.zeros(half_batch).reshape(half_batch, 1)\n",
        "\n",
        "    X_final = np.vstack((X_real, X_fake))\n",
        "    y_final = np.vstack((y_real, y_fake))\n",
        "\n",
        "    dloss = discriminator.train_on_batch(X_final, y_final)\n",
        "    gloss = gan_model.train_on_batch(np.random.randn(batch_size, n), np.ones(batch_size).reshape(batch_size, 1))\n",
        "\n",
        "    losses.append([dloss, gloss])\n",
        "  print(f'epoch {i} ---- losses[d/g]: {losses[-1]}')\n",
        "\n",
        "ip, axes = plt.subplots(5, 5, figsize=(12, 12))\n",
        "for ii in range(5):\n",
        "  for jj in range(5):\n",
        "    axes[ii, jj].imshow(generator.predict(np.random.randn(n).reshape(1, n), verbose=0).reshape(28, 28, 1), cmap='gray')\n",
        "\n",
        "plt.show();"
      ]
    },
    {
      "cell_type": "code",
      "execution_count": 68,
      "metadata": {},
      "outputs": [],
      "source": [
        "noises = list([np.random.randn(1, n) for i in range(25)])"
      ]
    },
    {
      "cell_type": "code",
      "execution_count": 76,
      "metadata": {},
      "outputs": [],
      "source": [
        "preds = []\n",
        "\n",
        "for i in range(len(noises)):\n",
        "    preds.append(generator.predict(noises[i]))"
      ]
    },
    {
      "cell_type": "code",
      "execution_count": 78,
      "metadata": {},
      "outputs": [
        {
          "data": {
            "image/png": "[encoded data removed]",
            "text/plain": [
              "<Figure size 432x288 with 25 Axes>"
            ]
          },
          "metadata": {
            "needs_background": "light"
          },
          "output_type": "display_data"
        }
      ],
      "source": [
        "for i in range(25):\n",
        "    plt.subplot(5, 5, i + 1)\n",
        "    plt.axis('off')\n",
        "    plt.imshow(preds[i][0])"
      ]
    },
    {
      "cell_type": "markdown",
      "metadata": {},
      "source": [
        "**UPD FOR PIGGIES:** <br>\n",
        "**I INSTALLED DIRECT-ML TENSORFLOW, SO I HAVE GPU WORKING NOW!**<BR>\n",
        "**I TRAINED THIS IN 1.5 MINS INSTEAD OF 2 HOURS!!!** <br>\n",
        "<img src='https://media1.tenor.com/m/tyjBgU7Na0YAAAAd/peter-griffin-racing.gif'>"
      ]
    },
    {
      "cell_type": "code",
      "execution_count": null,
      "metadata": {
        "id": "tfN3NIkAyTg8"
      },
      "outputs": [],
      "source": []
    }
  ],
  "metadata": {
    "colab": {
      "authorship_tag": "ABX9TyOfL6lj+vg9SdyZWED5Z/Py",
      "include_colab_link": true,
      "provenance": []
    },
    "kernelspec": {
      "display_name": "Python 3",
      "name": "python3"
    },
    "language_info": {
      "codemirror_mode": {
        "name": "ipython",
        "version": 3
      },
      "file_extension": ".py",
      "mimetype": "text/x-python",
      "name": "python",
      "nbconvert_exporter": "python",
      "pygments_lexer": "ipython3",
      "version": "3.6.13"
    }
  },
  "nbformat": 4,
  "nbformat_minor": 0
}
