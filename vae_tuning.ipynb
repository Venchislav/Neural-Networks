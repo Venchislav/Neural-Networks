{
  "metadata": {
    "kernelspec": {
      "language": "python",
      "display_name": "Python 3",
      "name": "python3"
    },
    "language_info": {
      "name": "python",
      "version": "3.10.13",
      "mimetype": "text/x-python",
      "codemirror_mode": {
        "name": "ipython",
        "version": 3
      },
      "pygments_lexer": "ipython3",
      "nbconvert_exporter": "python",
      "file_extension": ".py"
    },
    "kaggle": {
      "accelerator": "none",
      "dataSources": [
        {
          "sourceId": 1458546,
          "sourceType": "datasetVersion",
          "datasetId": 855240
        }
      ],
      "dockerImageVersionId": 30646,
      "isInternetEnabled": true,
      "language": "python",
      "sourceType": "notebook",
      "isGpuEnabled": false
    },
    "colab": {
      "provenance": [],
      "include_colab_link": true
    }
  },
  "nbformat_minor": 0,
  "nbformat": 4,
  "cells": [
    {
      "cell_type": "markdown",
      "metadata": {
        "id": "view-in-github",
        "colab_type": "text"
      },
      "source": [
        "<a href=\"https://colab.research.google.com/github/Venchislav/Neural-Networks/blob/main/vae_tuning.ipynb\" target=\"_parent\"><img src=\"https://colab.research.google.com/assets/colab-badge.svg\" alt=\"Open In Colab\"/></a>"
      ]
    },
    {
      "cell_type": "code",
      "source": [
        "import numpy as np\n",
        "import pandas as pd\n",
        "import matplotlib.pyplot as plt\n",
        "import tensorflow as tf\n",
        "import ipywidgets as widgets\n",
        "from IPython.display import display"
      ],
      "metadata": {
        "_uuid": "8f2839f25d086af736a60e9eeb907d3b93b6e0e5",
        "_cell_guid": "b1076dfc-b9ad-4769-8c92-a6c4dae69d19",
        "execution": {
          "iopub.status.busy": "2024-02-20T12:23:16.401335Z",
          "iopub.execute_input": "2024-02-20T12:23:16.401739Z"
        },
        "trusted": true,
        "id": "R90ra4oOr-CF"
      },
      "execution_count": null,
      "outputs": []
    },
    {
      "cell_type": "code",
      "source": [
        "df = pd.read_csv('/kaggle/input/age-gender-and-ethnicity-face-data-csv/age_gender.csv')['pixels']\n",
        "df.head()"
      ],
      "metadata": {
        "execution": {
          "iopub.status.busy": "2024-02-20T12:23:16.410861Z",
          "iopub.execute_input": "2024-02-20T12:23:16.411584Z",
          "iopub.status.idle": "2024-02-20T12:23:18.896686Z",
          "shell.execute_reply.started": "2024-02-20T12:23:16.411549Z",
          "shell.execute_reply": "2024-02-20T12:23:18.895608Z"
        },
        "trusted": true,
        "id": "8x2Csx7Qr-CG",
        "outputId": "81320410-c7a3-430d-fee3-f304b47488f4"
      },
      "execution_count": null,
      "outputs": [
        {
          "execution_count": 202,
          "output_type": "execute_result",
          "data": {
            "text/plain": "0    129 128 128 126 127 130 133 135 139 142 145 14...\n1    164 74 111 168 169 171 175 182 184 188 193 199...\n2    67 70 71 70 69 67 70 79 90 103 116 132 145 155...\n3    193 197 198 200 199 200 202 203 204 205 208 21...\n4    202 205 209 210 209 209 210 211 212 214 218 21...\nName: pixels, dtype: object"
          },
          "metadata": {}
        }
      ]
    },
    {
      "cell_type": "code",
      "source": [
        "df.shape"
      ],
      "metadata": {
        "execution": {
          "iopub.status.busy": "2024-02-20T12:23:18.897993Z",
          "iopub.execute_input": "2024-02-20T12:23:18.898532Z",
          "iopub.status.idle": "2024-02-20T12:23:18.905208Z",
          "shell.execute_reply.started": "2024-02-20T12:23:18.898503Z",
          "shell.execute_reply": "2024-02-20T12:23:18.904094Z"
        },
        "trusted": true,
        "id": "GadWLqnkr-CG",
        "outputId": "ebb5c3af-3a0a-401c-f797-562f34878cbc"
      },
      "execution_count": null,
      "outputs": [
        {
          "execution_count": 203,
          "output_type": "execute_result",
          "data": {
            "text/plain": "(23705,)"
          },
          "metadata": {}
        }
      ]
    },
    {
      "cell_type": "code",
      "source": [
        "# shuffling\n",
        "df = df.sample(frac=1.0, random_state=1)\n",
        "\n",
        "# data to np array\n",
        "\n",
        "data = df.apply(lambda x: np.array(x.split(), dtype=np.uint))\n",
        "data = np.stack(np.array(data), axis=0)"
      ],
      "metadata": {
        "execution": {
          "iopub.status.busy": "2024-02-20T12:23:18.907834Z",
          "iopub.execute_input": "2024-02-20T12:23:18.908211Z",
          "iopub.status.idle": "2024-02-20T12:23:32.481534Z",
          "shell.execute_reply.started": "2024-02-20T12:23:18.908179Z",
          "shell.execute_reply": "2024-02-20T12:23:32.480095Z"
        },
        "trusted": true,
        "id": "ED63jP3Xr-CG"
      },
      "execution_count": null,
      "outputs": []
    },
    {
      "cell_type": "code",
      "source": [
        "data.shape"
      ],
      "metadata": {
        "execution": {
          "iopub.status.busy": "2024-02-20T12:23:32.483569Z",
          "iopub.execute_input": "2024-02-20T12:23:32.483955Z",
          "iopub.status.idle": "2024-02-20T12:23:32.491431Z",
          "shell.execute_reply.started": "2024-02-20T12:23:32.483922Z",
          "shell.execute_reply": "2024-02-20T12:23:32.490012Z"
        },
        "trusted": true,
        "id": "oDzPzpM2r-CH",
        "outputId": "5c215cd8-d029-45b6-950a-d29b8ee0a256"
      },
      "execution_count": null,
      "outputs": [
        {
          "execution_count": 205,
          "output_type": "execute_result",
          "data": {
            "text/plain": "(23705, 2304)"
          },
          "metadata": {}
        }
      ]
    },
    {
      "cell_type": "code",
      "source": [
        "data = data / 255.0"
      ],
      "metadata": {
        "execution": {
          "iopub.status.busy": "2024-02-20T12:23:32.493263Z",
          "iopub.execute_input": "2024-02-20T12:23:32.493622Z",
          "iopub.status.idle": "2024-02-20T12:23:32.749943Z",
          "shell.execute_reply.started": "2024-02-20T12:23:32.493594Z",
          "shell.execute_reply": "2024-02-20T12:23:32.748226Z"
        },
        "trusted": true,
        "id": "gz3Ndi2Nr-CH"
      },
      "execution_count": null,
      "outputs": []
    },
    {
      "cell_type": "code",
      "source": [
        "print(data.max())\n",
        "print(data.min())"
      ],
      "metadata": {
        "execution": {
          "iopub.status.busy": "2024-02-20T12:23:32.752247Z",
          "iopub.execute_input": "2024-02-20T12:23:32.752722Z",
          "iopub.status.idle": "2024-02-20T12:23:32.850271Z",
          "shell.execute_reply.started": "2024-02-20T12:23:32.752680Z",
          "shell.execute_reply": "2024-02-20T12:23:32.848748Z"
        },
        "trusted": true,
        "id": "qsr7FEsTr-CH",
        "outputId": "21b7cf6f-5d12-4fd3-c247-3167575a80cb"
      },
      "execution_count": null,
      "outputs": [
        {
          "name": "stdout",
          "text": "1.0\n0.0\n",
          "output_type": "stream"
        }
      ]
    },
    {
      "cell_type": "code",
      "source": [
        "# we have 48x48 image\n",
        "np.sqrt(data.shape[1])"
      ],
      "metadata": {
        "execution": {
          "iopub.status.busy": "2024-02-20T12:23:32.851947Z",
          "iopub.execute_input": "2024-02-20T12:23:32.852497Z",
          "iopub.status.idle": "2024-02-20T12:23:32.863236Z",
          "shell.execute_reply.started": "2024-02-20T12:23:32.852462Z",
          "shell.execute_reply": "2024-02-20T12:23:32.861498Z"
        },
        "trusted": true,
        "id": "GuB3liExr-CH",
        "outputId": "37d3620a-7938-46b2-e024-883c2e738a3a"
      },
      "execution_count": null,
      "outputs": [
        {
          "execution_count": 208,
          "output_type": "execute_result",
          "data": {
            "text/plain": "48.0"
          },
          "metadata": {}
        }
      ]
    },
    {
      "cell_type": "code",
      "source": [
        "from tensorflow.keras import layers\n",
        "import tensorflow.keras.backend as K"
      ],
      "metadata": {
        "execution": {
          "iopub.status.busy": "2024-02-20T12:23:32.864855Z",
          "iopub.execute_input": "2024-02-20T12:23:32.865243Z",
          "iopub.status.idle": "2024-02-20T12:23:32.878688Z",
          "shell.execute_reply.started": "2024-02-20T12:23:32.865210Z",
          "shell.execute_reply": "2024-02-20T12:23:32.876812Z"
        },
        "trusted": true,
        "id": "aIIdenFdr-CH"
      },
      "execution_count": null,
      "outputs": []
    },
    {
      "cell_type": "code",
      "source": [
        "class ZSampling(layers.Layer):\n",
        "    def call(self, inputs):\n",
        "        z_mean, z_log_var = inputs\n",
        "\n",
        "        # during training our z_mean will have two dims\n",
        "        # batch_size (while training) and latent_dims\n",
        "        batch = tf.shape(z_mean)[0]\n",
        "        dims = tf.shape(z_mean)[1]\n",
        "\n",
        "        eps = K.random_normal((batch, dims))\n",
        "\n",
        "        # epsilon shifted and scaled\n",
        "        return eps * tf.exp(z_log_var * 0.5) + z_mean"
      ],
      "metadata": {
        "execution": {
          "iopub.status.busy": "2024-02-20T12:23:32.884763Z",
          "iopub.execute_input": "2024-02-20T12:23:32.885564Z",
          "iopub.status.idle": "2024-02-20T12:23:32.899355Z",
          "shell.execute_reply.started": "2024-02-20T12:23:32.885508Z",
          "shell.execute_reply": "2024-02-20T12:23:32.897133Z"
        },
        "trusted": true,
        "id": "3aMXVX6or-CH"
      },
      "execution_count": null,
      "outputs": []
    },
    {
      "cell_type": "code",
      "source": [
        "def build_vae(n_pix, n_latent_dims=2):\n",
        "    # encoder\n",
        "\n",
        "    encoder_input = tf.keras.Input(shape=(n_pix,))\n",
        "    x = layers.Dense(512, activation='relu')(encoder_input)\n",
        "    x = layers.Dense(128, activation='relu')(x)\n",
        "    x = layers.Dense(32, activation='relu')(x)\n",
        "    z_mean = layers.Dense(n_latent_dims)(x)\n",
        "    z_log_var = layers.Dense(n_latent_dims)(x)\n",
        "    z = ZSampling()([z_mean, z_log_var])\n",
        "\n",
        "    encoder = tf.keras.Model(encoder_input, z)\n",
        "\n",
        "    # decoder\n",
        "    decoder_input = tf.keras.Input(shape=(n_latent_dims,))\n",
        "    x = layers.Dense(32, activation='relu')(decoder_input)\n",
        "    x = layers.Dense(128, activation='relu')(x)\n",
        "    x = layers.Dense(512, activation='relu')(x)\n",
        "\n",
        "    output = layers.Dense(n_pix, activation='sigmoid')(x)\n",
        "\n",
        "    decoder = tf.keras.Model(decoder_input, output)\n",
        "\n",
        "    # full model\n",
        "\n",
        "    model_input = encoder_input\n",
        "    model_output = decoder(encoder.output)\n",
        "\n",
        "    vae_model = tf.keras.Model(model_input, model_output)\n",
        "    vae_model.compile(\n",
        "        optimizer='adam',\n",
        "        loss='mse'\n",
        "    )\n",
        "\n",
        "    return encoder, decoder, vae_model"
      ],
      "metadata": {
        "execution": {
          "iopub.status.busy": "2024-02-20T12:23:32.901512Z",
          "iopub.execute_input": "2024-02-20T12:23:32.902479Z",
          "iopub.status.idle": "2024-02-20T12:23:32.917864Z",
          "shell.execute_reply.started": "2024-02-20T12:23:32.902420Z",
          "shell.execute_reply": "2024-02-20T12:23:32.916287Z"
        },
        "trusted": true,
        "id": "12SYQEBDr-CH"
      },
      "execution_count": null,
      "outputs": []
    },
    {
      "cell_type": "code",
      "source": [
        "encoder, decoder, vae = build_vae(2304, 3)"
      ],
      "metadata": {
        "execution": {
          "iopub.status.busy": "2024-02-20T12:23:32.919476Z",
          "iopub.execute_input": "2024-02-20T12:23:32.919957Z",
          "iopub.status.idle": "2024-02-20T12:23:33.169055Z",
          "shell.execute_reply.started": "2024-02-20T12:23:32.919914Z",
          "shell.execute_reply": "2024-02-20T12:23:33.167127Z"
        },
        "trusted": true,
        "id": "aogYnFwwr-CI"
      },
      "execution_count": null,
      "outputs": []
    },
    {
      "cell_type": "code",
      "source": [
        "encoder.summary()"
      ],
      "metadata": {
        "execution": {
          "iopub.status.busy": "2024-02-20T12:23:33.171130Z",
          "iopub.execute_input": "2024-02-20T12:23:33.171522Z",
          "iopub.status.idle": "2024-02-20T12:23:33.210452Z",
          "shell.execute_reply.started": "2024-02-20T12:23:33.171491Z",
          "shell.execute_reply": "2024-02-20T12:23:33.208657Z"
        },
        "trusted": true,
        "id": "cmg1D0G5r-CI",
        "outputId": "14058db4-e9d3-4eda-cbcf-d94cb67e5e17"
      },
      "execution_count": null,
      "outputs": [
        {
          "name": "stdout",
          "text": "Model: \"model_19\"\n__________________________________________________________________________________________________\n Layer (type)                Output Shape                 Param #   Connected to                  \n==================================================================================================\n input_15 (InputLayer)       [(None, 2304)]               0         []                            \n                                                                                                  \n dense_61 (Dense)            (None, 512)                  1180160   ['input_15[0][0]']            \n                                                                                                  \n dense_62 (Dense)            (None, 128)                  65664     ['dense_61[0][0]']            \n                                                                                                  \n dense_63 (Dense)            (None, 32)                   4128      ['dense_62[0][0]']            \n                                                                                                  \n dense_64 (Dense)            (None, 3)                    99        ['dense_63[0][0]']            \n                                                                                                  \n dense_65 (Dense)            (None, 3)                    99        ['dense_63[0][0]']            \n                                                                                                  \n z_sampling_5 (ZSampling)    (None, 3)                    0         ['dense_64[0][0]',            \n                                                                     'dense_65[0][0]']            \n                                                                                                  \n==================================================================================================\nTotal params: 1250150 (4.77 MB)\nTrainable params: 1250150 (4.77 MB)\nNon-trainable params: 0 (0.00 Byte)\n__________________________________________________________________________________________________\n",
          "output_type": "stream"
        }
      ]
    },
    {
      "cell_type": "code",
      "source": [
        "decoder.summary()"
      ],
      "metadata": {
        "execution": {
          "iopub.status.busy": "2024-02-20T12:23:33.212245Z",
          "iopub.execute_input": "2024-02-20T12:23:33.212625Z",
          "iopub.status.idle": "2024-02-20T12:23:33.244767Z",
          "shell.execute_reply.started": "2024-02-20T12:23:33.212594Z",
          "shell.execute_reply": "2024-02-20T12:23:33.243181Z"
        },
        "trusted": true,
        "id": "y4JfxN1er-CI",
        "outputId": "20f878d8-7b1a-458f-9d11-c402549addf4"
      },
      "execution_count": null,
      "outputs": [
        {
          "name": "stdout",
          "text": "Model: \"model_20\"\n_________________________________________________________________\n Layer (type)                Output Shape              Param #   \n=================================================================\n input_16 (InputLayer)       [(None, 3)]               0         \n                                                                 \n dense_66 (Dense)            (None, 32)                128       \n                                                                 \n dense_67 (Dense)            (None, 128)               4224      \n                                                                 \n dense_68 (Dense)            (None, 512)               66048     \n                                                                 \n dense_69 (Dense)            (None, 2304)              1181952   \n                                                                 \n=================================================================\nTotal params: 1252352 (4.78 MB)\nTrainable params: 1252352 (4.78 MB)\nNon-trainable params: 0 (0.00 Byte)\n_________________________________________________________________\n",
          "output_type": "stream"
        }
      ]
    },
    {
      "cell_type": "code",
      "source": [
        "vae.summary()"
      ],
      "metadata": {
        "execution": {
          "iopub.status.busy": "2024-02-20T12:23:33.246719Z",
          "iopub.execute_input": "2024-02-20T12:23:33.247129Z",
          "iopub.status.idle": "2024-02-20T12:23:33.285335Z",
          "shell.execute_reply.started": "2024-02-20T12:23:33.247065Z",
          "shell.execute_reply": "2024-02-20T12:23:33.284046Z"
        },
        "trusted": true,
        "id": "yQJcnDxSr-CI",
        "outputId": "b9467596-0d9e-431a-f49d-dee7fd4e42b7"
      },
      "execution_count": null,
      "outputs": [
        {
          "name": "stdout",
          "text": "Model: \"model_21\"\n__________________________________________________________________________________________________\n Layer (type)                Output Shape                 Param #   Connected to                  \n==================================================================================================\n input_15 (InputLayer)       [(None, 2304)]               0         []                            \n                                                                                                  \n dense_61 (Dense)            (None, 512)                  1180160   ['input_15[0][0]']            \n                                                                                                  \n dense_62 (Dense)            (None, 128)                  65664     ['dense_61[0][0]']            \n                                                                                                  \n dense_63 (Dense)            (None, 32)                   4128      ['dense_62[0][0]']            \n                                                                                                  \n dense_64 (Dense)            (None, 3)                    99        ['dense_63[0][0]']            \n                                                                                                  \n dense_65 (Dense)            (None, 3)                    99        ['dense_63[0][0]']            \n                                                                                                  \n z_sampling_5 (ZSampling)    (None, 3)                    0         ['dense_64[0][0]',            \n                                                                     'dense_65[0][0]']            \n                                                                                                  \n model_20 (Functional)       (None, 2304)                 1252352   ['z_sampling_5[0][0]']        \n                                                                                                  \n==================================================================================================\nTotal params: 2502502 (9.55 MB)\nTrainable params: 2502502 (9.55 MB)\nNon-trainable params: 0 (0.00 Byte)\n__________________________________________________________________________________________________\n",
          "output_type": "stream"
        }
      ]
    },
    {
      "cell_type": "code",
      "source": [
        "hist = vae.fit(\n",
        "    data, data,\n",
        "    validation_split=0.2,\n",
        "    batch_size=32,\n",
        "    epochs=100,\n",
        "    callbacks=[\n",
        "        tf.keras.callbacks.EarlyStopping(\n",
        "            monitor='val_loss',\n",
        "            patience=3,\n",
        "            restore_best_weights=True\n",
        "        ),\n",
        "\n",
        "        tf.keras.callbacks.ModelCheckpoint(\n",
        "            '/kaggle/working/model/',\n",
        "            save_best_only=True\n",
        "        )\n",
        "    ]\n",
        "\n",
        ")"
      ],
      "metadata": {
        "execution": {
          "iopub.status.busy": "2024-02-20T12:24:11.004747Z",
          "iopub.execute_input": "2024-02-20T12:24:11.005166Z",
          "iopub.status.idle": "2024-02-20T12:26:10.984605Z",
          "shell.execute_reply.started": "2024-02-20T12:24:11.005132Z",
          "shell.execute_reply": "2024-02-20T12:26:10.983056Z"
        },
        "trusted": true,
        "id": "rbSVj7lvr-CI",
        "outputId": "9451fbe8-736d-4775-dde8-b8ae7f877240"
      },
      "execution_count": null,
      "outputs": [
        {
          "name": "stdout",
          "text": "Epoch 1/100\n593/593 [==============================] - 17s 26ms/step - loss: 0.0263 - val_loss: 0.0212\nEpoch 2/100\n593/593 [==============================] - 16s 27ms/step - loss: 0.0213 - val_loss: 0.0211\nEpoch 3/100\n593/593 [==============================] - 15s 26ms/step - loss: 0.0211 - val_loss: 0.0210\nEpoch 4/100\n593/593 [==============================] - 14s 23ms/step - loss: 0.0210 - val_loss: 0.0211\nEpoch 5/100\n593/593 [==============================] - 15s 26ms/step - loss: 0.0209 - val_loss: 0.0207\nEpoch 6/100\n593/593 [==============================] - 14s 23ms/step - loss: 0.0208 - val_loss: 0.0208\nEpoch 7/100\n593/593 [==============================] - 13s 23ms/step - loss: 0.0208 - val_loss: 0.0209\nEpoch 8/100\n593/593 [==============================] - 14s 23ms/step - loss: 0.0207 - val_loss: 0.0211\n",
          "output_type": "stream"
        }
      ]
    },
    {
      "cell_type": "code",
      "source": [
        "noises = np.array(list([K.random_normal((1, 3)) for _ in range(25)]))"
      ],
      "metadata": {
        "execution": {
          "iopub.status.busy": "2024-02-20T12:29:27.652959Z",
          "iopub.execute_input": "2024-02-20T12:29:27.653440Z",
          "iopub.status.idle": "2024-02-20T12:29:27.704871Z",
          "shell.execute_reply.started": "2024-02-20T12:29:27.653404Z",
          "shell.execute_reply": "2024-02-20T12:29:27.703592Z"
        },
        "trusted": true,
        "id": "GmgEdly-r-CI"
      },
      "execution_count": null,
      "outputs": []
    },
    {
      "cell_type": "code",
      "source": [
        "noises[0].shape"
      ],
      "metadata": {
        "execution": {
          "iopub.status.busy": "2024-02-20T12:29:28.231656Z",
          "iopub.execute_input": "2024-02-20T12:29:28.232104Z",
          "iopub.status.idle": "2024-02-20T12:29:28.240004Z",
          "shell.execute_reply.started": "2024-02-20T12:29:28.232070Z",
          "shell.execute_reply": "2024-02-20T12:29:28.238757Z"
        },
        "trusted": true,
        "id": "1lUbuhmwr-CI",
        "outputId": "7a95f448-5dab-472d-8b0e-84d93bd83b2d"
      },
      "execution_count": null,
      "outputs": [
        {
          "execution_count": 219,
          "output_type": "execute_result",
          "data": {
            "text/plain": "(1, 3)"
          },
          "metadata": {}
        }
      ]
    },
    {
      "cell_type": "code",
      "source": [
        "preds = decoder.predict(noises[0])"
      ],
      "metadata": {
        "execution": {
          "iopub.status.busy": "2024-02-20T12:29:28.767725Z",
          "iopub.execute_input": "2024-02-20T12:29:28.768186Z",
          "iopub.status.idle": "2024-02-20T12:29:35.665942Z",
          "shell.execute_reply.started": "2024-02-20T12:29:28.768154Z",
          "shell.execute_reply": "2024-02-20T12:29:35.664915Z"
        },
        "trusted": true,
        "id": "3g9UUiPPr-CJ",
        "outputId": "e18f8d7f-33d9-4d9e-8d54-caba41894f76"
      },
      "execution_count": null,
      "outputs": [
        {
          "name": "stdout",
          "text": "1/1 [==============================] - 0s 74ms/step\n",
          "output_type": "stream"
        }
      ]
    },
    {
      "cell_type": "code",
      "source": [
        "preds.shape"
      ],
      "metadata": {
        "execution": {
          "iopub.status.busy": "2024-02-20T12:29:38.761385Z",
          "iopub.execute_input": "2024-02-20T12:29:38.761789Z",
          "iopub.status.idle": "2024-02-20T12:29:38.769854Z",
          "shell.execute_reply.started": "2024-02-20T12:29:38.761760Z",
          "shell.execute_reply": "2024-02-20T12:29:38.768547Z"
        },
        "trusted": true,
        "id": "y_Nj6JROr-CJ",
        "outputId": "04585787-0604-4fc8-8cf4-9ca74409b1f4"
      },
      "execution_count": null,
      "outputs": [
        {
          "execution_count": 221,
          "output_type": "execute_result",
          "data": {
            "text/plain": "(1, 2304)"
          },
          "metadata": {}
        }
      ]
    },
    {
      "cell_type": "code",
      "source": [],
      "metadata": {
        "id": "u4RIS1Hxr-CJ"
      },
      "execution_count": null,
      "outputs": []
    },
    {
      "cell_type": "markdown",
      "source": [
        "# **WOW!** <br>\n",
        "This person doesn't exist... <br>\n",
        "But... Damn..."
      ],
      "metadata": {
        "id": "0zLJtnmGr-CJ"
      }
    },
    {
      "cell_type": "code",
      "source": [
        "plt.axis('off')\n",
        "plt.imshow(preds[0].reshape(48, 48, 1), cmap='gray');"
      ],
      "metadata": {
        "execution": {
          "iopub.status.busy": "2024-02-20T12:29:39.975610Z",
          "iopub.execute_input": "2024-02-20T12:29:39.976013Z",
          "iopub.status.idle": "2024-02-20T12:29:40.061066Z",
          "shell.execute_reply.started": "2024-02-20T12:29:39.975981Z",
          "shell.execute_reply": "2024-02-20T12:29:40.059794Z"
        },
        "trusted": true,
        "id": "uk8QVaj0r-CJ",
        "outputId": "ae5bb3ad-31be-479d-d429-25c7de99d39c"
      },
      "execution_count": null,
      "outputs": [
        {
          "output_type": "display_data",
          "data": {
            "text/plain": "<Figure size 640x480 with 1 Axes>",
            "image/png": "[encoded data removed]"
          },
          "metadata": {}
        }
      ]
    },
    {
      "cell_type": "markdown",
      "source": [
        "It's generated from the noise..."
      ],
      "metadata": {
        "id": "MHaxm6Ier-CJ"
      }
    },
    {
      "cell_type": "code",
      "source": [
        "def generate_dude(l1, l2, l3):\n",
        "    latent_vars = np.array([[l1, l2, l3]])\n",
        "    generated = np.array(decoder(latent_vars))\n",
        "    generated = generated.reshape(48, 48, 1)\n",
        "    plt.axis('off')\n",
        "    plt.title('This dude is not real')\n",
        "    plt.imshow(generated, cmap='gray')\n",
        "    plt.show()"
      ],
      "metadata": {
        "execution": {
          "iopub.status.busy": "2024-02-20T12:29:44.391625Z",
          "iopub.execute_input": "2024-02-20T12:29:44.392042Z",
          "iopub.status.idle": "2024-02-20T12:29:44.399782Z",
          "shell.execute_reply.started": "2024-02-20T12:29:44.391998Z",
          "shell.execute_reply": "2024-02-20T12:29:44.398406Z"
        },
        "trusted": true,
        "id": "YoquLtKkr-CK"
      },
      "execution_count": null,
      "outputs": []
    },
    {
      "cell_type": "code",
      "source": [
        "latent_min = np.min(encoder(data).numpy()[:, 0])\n",
        "latent_max = np.max(encoder(data).numpy()[:, 0])\n",
        "\n",
        "latent_min2 = np.min(encoder(data).numpy()[:, 1])\n",
        "latent_max2 = np.max(encoder(data).numpy()[:, 1])\n",
        "\n",
        "latent_min3 = np.min(encoder(data).numpy()[:, 2])\n",
        "latent_max3 = np.max(encoder(data).numpy()[:, 2])"
      ],
      "metadata": {
        "execution": {
          "iopub.status.busy": "2024-02-20T12:29:45.175521Z",
          "iopub.execute_input": "2024-02-20T12:29:45.175933Z",
          "iopub.status.idle": "2024-02-20T12:29:52.495437Z",
          "shell.execute_reply.started": "2024-02-20T12:29:45.175903Z",
          "shell.execute_reply": "2024-02-20T12:29:52.494068Z"
        },
        "trusted": true,
        "id": "y4Q9RUrfr-CK"
      },
      "execution_count": null,
      "outputs": []
    },
    {
      "cell_type": "code",
      "source": [
        "face_image_generator = widgets.interact(\n",
        "    generate_dude,\n",
        "    l1=(latent_min, latent_max),\n",
        "    l2=(latent_min2, latent_max2),\n",
        "    l3=(latent_min3, latent_max3),\n",
        ")\n",
        "\n",
        "display(face_image_generator)"
      ],
      "metadata": {
        "execution": {
          "iopub.status.busy": "2024-02-20T12:31:06.916254Z",
          "iopub.execute_input": "2024-02-20T12:31:06.916660Z",
          "iopub.status.idle": "2024-02-20T12:31:07.071694Z",
          "shell.execute_reply.started": "2024-02-20T12:31:06.916626Z",
          "shell.execute_reply": "2024-02-20T12:31:07.070389Z"
        },
        "trusted": true,
        "id": "iuzRYelLr-CK",
        "outputId": "1a02f3df-2273-4d1f-99f4-416c1f2c100a"
      },
      "execution_count": null,
      "outputs": [
        {
          "output_type": "display_data",
          "data": {
            "text/plain": "<Figure size 640x480 with 1 Axes>",
            "image/png": "[encoded data removed]"
          },
          "metadata": {}
        },
        {
          "output_type": "display_data",
          "data": {
            "text/plain": "<function __main__.generate_dude(l1, l2, l3)>"
          },
          "metadata": {}
        }
      ]
    },
    {
      "cell_type": "markdown",
      "source": [
        "Perfection!"
      ],
      "metadata": {
        "id": "SGRTmEibr_5K"
      }
    },
    {
      "cell_type": "markdown",
      "source": [
        "Ps: THANKS to this guy: https://www.youtube.com/@gcdatkin <br>\n",
        "And this video: https://www.youtube.com/watch?v=ZfxNcO6BqDo&list=LL&index=1 <br>\n",
        "VEEEERY USEFULL AND UNDERRATED <br>\n",
        "And as it works well (I spent 2 hours on it and 1 hour on AMD GPU activation for tf) now I made a cocktail, and now I'll play Gmod!"
      ],
      "metadata": {
        "id": "FKfnPgxUsCzm"
      }
    },
    {
      "cell_type": "code",
      "source": [],
      "metadata": {
        "id": "g2USR-DPr-CK"
      },
      "execution_count": null,
      "outputs": []
    },
    {
      "cell_type": "code",
      "source": [],
      "metadata": {
        "id": "O1B4_SeYr-CK"
      },
      "execution_count": null,
      "outputs": []
    }
  ]
}