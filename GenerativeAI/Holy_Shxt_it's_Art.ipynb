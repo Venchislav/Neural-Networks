{
  "nbformat": 4,
  "nbformat_minor": 0,
  "metadata": {
    "colab": {
      "provenance": []
    },
    "kernelspec": {
      "name": "python3",
      "display_name": "Python 3"
    },
    "language_info": {
      "name": "python"
    }
  },
  "cells": [
    {
      "cell_type": "code",
      "source": [
        "import tensorflow as tf\n",
        "from tensorflow import keras\n",
        "from tensorflow.keras import Input, Model\n",
        "from tensorflow.keras.layers import Conv2D, LeakyReLU, Flatten, Dense"
      ],
      "metadata": {
        "id": "nb9MRGg_OdF6"
      },
      "execution_count": 43,
      "outputs": []
    },
    {
      "cell_type": "code",
      "source": [
        "# ENCODER:"
      ],
      "metadata": {
        "id": "dC1bHB0aOHi8"
      },
      "execution_count": 44,
      "outputs": []
    },
    {
      "cell_type": "code",
      "source": [
        "class Encoder():\n",
        "  def __init__(self, **kwargs):\n",
        "\n",
        "    for key, value in kwargs.items():\n",
        "      setattr(self, key, value)\n",
        "\n",
        "    encoder_inp = keras.Input(shape=self.input_dim, name='encoder_input')\n",
        "    x = encoder_inp\n",
        "\n",
        "    # simply stack of Conv Layers\n",
        "    for i in range(self.n_layers_enc):\n",
        "      conv_layer = Conv2D(\n",
        "          filters = self.encoder_conv_filters[i],\n",
        "          kernel_size = self.encoder_conv_kernel_size[i],\n",
        "          strides = self.encoder_conv_strides[i],\n",
        "          padding = 'same',\n",
        "          name = 'enc_conv_' + str(i)\n",
        "      )\n",
        "      x = conv_layer(x)\n",
        "      x = LeakyReLU()(x)\n",
        "\n",
        "    shape_before_flattening = x.shape[1:]\n",
        "    print(shape_before_flattening)\n",
        "    x = Flatten()(x)\n",
        "    encoder_output = Dense(self.z_dim, name='encoder_output')(x)\n",
        "\n",
        "    enc = Model(encoder_inp, encoder_output)"
      ],
      "metadata": {
        "id": "2K5v-P-mOqb5"
      },
      "execution_count": 47,
      "outputs": []
    },
    {
      "cell_type": "code",
      "source": [
        "AE = Encoder(\n",
        "  input_dim = (28, 28, 1),\n",
        "  encoder_conv_filters = [32,64,64, 64],\n",
        "  encoder_conv_kernel_size = [3,3,3,3],\n",
        "  encoder_conv_strides = [1,2,2,1],\n",
        "  decoder_conv_t_filters = [64,64,32,1],\n",
        "  decoder_conv_t_kernel_size = [3,3,3,3],\n",
        "  decoder_conv_t_strides = [1,2,2,1],\n",
        "  z_dim = 2,\n",
        "  n_layers_enc = 4\n",
        ")"
      ],
      "metadata": {
        "colab": {
          "base_uri": "https://localhost:8080/"
        },
        "id": "AfM85sSMPfs7",
        "outputId": "4034a371-88a5-49ba-b285-a35596050559"
      },
      "execution_count": 48,
      "outputs": [
        {
          "output_type": "stream",
          "name": "stdout",
          "text": [
            "(7, 7, 64)\n"
          ]
        }
      ]
    },
    {
      "cell_type": "code",
      "source": [
        "AE.input_dim"
      ],
      "metadata": {
        "colab": {
          "base_uri": "https://localhost:8080/"
        },
        "id": "I2DZAnnRRCET",
        "outputId": "e8b39b60-f6c1-4ae6-a5d0-bce6f5bdf8e5"
      },
      "execution_count": 49,
      "outputs": [
        {
          "output_type": "execute_result",
          "data": {
            "text/plain": [
              "(28, 28, 1)"
            ]
          },
          "metadata": {},
          "execution_count": 49
        }
      ]
    },
    {
      "cell_type": "code",
      "source": [
        "# DECODER"
      ],
      "metadata": {
        "id": "K8V4AtWIVoHx"
      },
      "execution_count": null,
      "outputs": []
    },
    {
      "cell_type": "code",
      "source": [],
      "metadata": {
        "id": "ZDhI3FfuVjfI"
      },
      "execution_count": null,
      "outputs": []
    }
  ]
}