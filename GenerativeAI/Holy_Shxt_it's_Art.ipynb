{
  "nbformat": 4,
  "nbformat_minor": 0,
  "metadata": {
    "colab": {
      "provenance": []
    },
    "kernelspec": {
      "name": "python3",
      "display_name": "Python 3"
    },
    "language_info": {
      "name": "python"
    }
  },
  "cells": [
    {
      "cell_type": "code",
      "source": [
        "import tensorflow as tf\n",
        "from tensorflow import keras\n",
        "from tensorflow.keras import Input, Model\n",
        "from tensorflow.keras.layers import Conv2D, LeakyReLU, Flatten, Dense, Activation\n",
        "import numpy as np"
      ],
      "metadata": {
        "id": "nb9MRGg_OdF6"
      },
      "execution_count": null,
      "outputs": []
    },
    {
      "cell_type": "code",
      "source": [
        "# ENCODER:"
      ],
      "metadata": {
        "id": "dC1bHB0aOHi8"
      },
      "execution_count": null,
      "outputs": []
    },
    {
      "cell_type": "code",
      "source": [
        "class Encoder():\n",
        "  def __init__(self, **kwargs):\n",
        "\n",
        "    for key, value in kwargs.items():\n",
        "      setattr(self, key, value)\n",
        "\n",
        "    encoder_inp = keras.Input(shape=self.input_dim, name='encoder_input')\n",
        "    x = encoder_inp\n",
        "\n",
        "    # simply stack of Conv Layers\n",
        "    for i in range(self.n_layers_enc):\n",
        "      conv_layer = Conv2D(\n",
        "          filters = self.encoder_conv_filters[i],\n",
        "          kernel_size = self.encoder_conv_kernel_size[i],\n",
        "          strides = self.encoder_conv_strides[i],\n",
        "          padding = 'same',\n",
        "          name = 'enc_conv_' + str(i)\n",
        "      )\n",
        "      x = conv_layer(x)\n",
        "      x = LeakyReLU()(x)\n",
        "\n",
        "    self.shape_before_flattening = x.shape[1:]\n",
        "    print(self.shape_before_flattening)\n",
        "    x = Flatten()(x)\n",
        "    encoder_output = Dense(self.z_dim, name='encoder_output')(x)\n",
        "\n",
        "    self.encoder_output = encoder_output\n",
        "\n",
        "    self.enc = Model(encoder_inp, encoder_output)"
      ],
      "metadata": {
        "id": "2K5v-P-mOqb5"
      },
      "execution_count": null,
      "outputs": []
    },
    {
      "cell_type": "code",
      "source": [
        "AE = Encoder(\n",
        "  input_dim = (28, 28, 1),\n",
        "  encoder_conv_filters = [32,64,64, 64],\n",
        "  encoder_conv_kernel_size = [3,3,3,3],\n",
        "  encoder_conv_strides = [1,2,2,1],\n",
        "  decoder_conv_t_filters = [64,64,32,1],\n",
        "  decoder_conv_t_kernel_size = [3,3,3,3],\n",
        "  decoder_conv_t_strides = [1,2,2,1],\n",
        "  z_dim = 2,\n",
        "  n_layers_enc = 4\n",
        ")"
      ],
      "metadata": {
        "colab": {
          "base_uri": "https://localhost:8080/"
        },
        "id": "AfM85sSMPfs7",
        "outputId": "468d24a6-2dff-48b7-a6d6-403e1ea38d46"
      },
      "execution_count": null,
      "outputs": [
        {
          "output_type": "stream",
          "name": "stdout",
          "text": [
            "(7, 7, 64)\n"
          ]
        }
      ]
    },
    {
      "cell_type": "code",
      "source": [
        "shape_before_flattening = AE.shape_before_flattening"
      ],
      "metadata": {
        "id": "I2DZAnnRRCET"
      },
      "execution_count": null,
      "outputs": []
    },
    {
      "cell_type": "code",
      "source": [
        "# DECODER"
      ],
      "metadata": {
        "id": "K8V4AtWIVoHx"
      },
      "execution_count": null,
      "outputs": []
    },
    {
      "cell_type": "code",
      "source": [
        "from tensorflow.keras.layers import Reshape, Conv2DTranspose"
      ],
      "metadata": {
        "id": "ZDhI3FfuVjfI"
      },
      "execution_count": null,
      "outputs": []
    },
    {
      "cell_type": "code",
      "source": [
        "class Decoder():\n",
        "  def __init__(self, **kwargs):\n",
        "\n",
        "    for key, value in kwargs.items():\n",
        "      setattr(self, key, value)\n",
        "\n",
        "    decoder_inp = keras.Input(shape=(self.z_dim,), name='decoder_input')\n",
        "\n",
        "    x = Dense(np.prod(shape_before_flattening))(decoder_inp)\n",
        "    x = Reshape(shape_before_flattening)(x)\n",
        "\n",
        "    for i in range(self.n_layers_dec):\n",
        "      conv_t_layer = Conv2DTranspose(\n",
        "          filters = self.decoder_conv_t_filters[i],\n",
        "          kernel_size = self.decoder_conv_t_kernel_size[i],\n",
        "          strides = self.decoder_conv_t_strides[i],\n",
        "          padding = 'same',\n",
        "          name = 'decoder_conv_t_' + str(i)\n",
        "      )\n",
        "\n",
        "      x = conv_t_layer(x)\n",
        "\n",
        "      if i < self.n_layers_dec - 1:\n",
        "        x = LeakyReLU()(x)\n",
        "      else:\n",
        "        x = Activation('sigmoid')(x)\n",
        "\n",
        "    dec_output = x\n",
        "    self.decoder = Model(decoder_inp, dec_output)"
      ],
      "metadata": {
        "id": "pJUVriFdWjEh"
      },
      "execution_count": null,
      "outputs": []
    },
    {
      "cell_type": "code",
      "source": [
        "AD = Decoder(\n",
        "  input_dim = (28, 28, 1),\n",
        "  encoder_conv_filters = [32,64,64, 64],\n",
        "  encoder_conv_kernel_size = [3,3,3,3],\n",
        "  encoder_conv_strides = [1,2,2,1],\n",
        "  decoder_conv_t_filters = [64,64,32,1],\n",
        "  decoder_conv_t_kernel_size = [3,3,3,3],\n",
        "  decoder_conv_t_strides = [1,2,2,1],\n",
        "  z_dim = 2,\n",
        "  n_layers_dec = 4\n",
        ")"
      ],
      "metadata": {
        "id": "iKV44yjwWjEi"
      },
      "execution_count": null,
      "outputs": []
    },
    {
      "cell_type": "code",
      "source": [
        "encoder = AE.enc\n",
        "decoder = AD.decoder"
      ],
      "metadata": {
        "id": "F8mYSgM5aEK-"
      },
      "execution_count": null,
      "outputs": []
    },
    {
      "cell_type": "code",
      "source": [
        "encoder_output = AE.encoder_output"
      ],
      "metadata": {
        "id": "y3sbGQQpZ0m2"
      },
      "execution_count": null,
      "outputs": []
    },
    {
      "cell_type": "code",
      "source": [
        "model_inp = encoder_inp\n",
        "model_out = decoder(encoder_output)"
      ],
      "metadata": {
        "id": "jcNs5B4-ZHde"
      },
      "execution_count": null,
      "outputs": []
    },
    {
      "cell_type": "code",
      "source": [
        "model = Model(model_inp, model_out)"
      ],
      "metadata": {
        "id": "2RGKdGo5aZ_m"
      },
      "execution_count": null,
      "outputs": []
    }
  ]
}