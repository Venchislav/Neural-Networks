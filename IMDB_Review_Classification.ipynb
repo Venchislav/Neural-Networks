{
  "nbformat": 4,
  "nbformat_minor": 0,
  "metadata": {
    "colab": {
      "provenance": [],
      "authorship_tag": "ABX9TyOQ/68sAh5H0u9+If8U4e7M",
      "include_colab_link": true
    },
    "kernelspec": {
      "name": "python3",
      "display_name": "Python 3"
    },
    "language_info": {
      "name": "python"
    }
  },
  "cells": [
    {
      "cell_type": "markdown",
      "metadata": {
        "id": "view-in-github",
        "colab_type": "text"
      },
      "source": [
        "<a href=\"https://colab.research.google.com/github/Venchislav/Neural-Networks/blob/main/IMDB_Review_Classification.ipynb\" target=\"_parent\"><img src=\"https://colab.research.google.com/assets/colab-badge.svg\" alt=\"Open In Colab\"/></a>"
      ]
    },
    {
      "cell_type": "code",
      "execution_count": 1,
      "metadata": {
        "id": "bDiNQVGZoLUM"
      },
      "outputs": [],
      "source": [
        "import tensorflow as tf\n",
        "import numpy as np\n",
        "from tensorflow import keras\n",
        "from tensorflow.keras.datasets import imdb"
      ]
    },
    {
      "cell_type": "code",
      "source": [
        "(X_train, y_train), (X_test, y_test) = imdb.load_data(num_words=10_000)"
      ],
      "metadata": {
        "id": "vb0K2v-MpMTO"
      },
      "execution_count": 2,
      "outputs": []
    },
    {
      "cell_type": "code",
      "source": [
        "X_train.shape"
      ],
      "metadata": {
        "colab": {
          "base_uri": "https://localhost:8080/"
        },
        "id": "h_-Pp3mIpzXf",
        "outputId": "60cad24b-d129-4b70-c5ee-f8146897021d"
      },
      "execution_count": 3,
      "outputs": [
        {
          "output_type": "execute_result",
          "data": {
            "text/plain": [
              "(25000,)"
            ]
          },
          "metadata": {},
          "execution_count": 3
        }
      ]
    },
    {
      "cell_type": "code",
      "source": [
        "y_train.shape"
      ],
      "metadata": {
        "colab": {
          "base_uri": "https://localhost:8080/"
        },
        "id": "FCV09e8gp18N",
        "outputId": "bf80b12e-04e8-4e2e-ff1f-1a6ce909dcf0"
      },
      "execution_count": 4,
      "outputs": [
        {
          "output_type": "execute_result",
          "data": {
            "text/plain": [
              "(25000,)"
            ]
          },
          "metadata": {},
          "execution_count": 4
        }
      ]
    },
    {
      "cell_type": "code",
      "source": [
        "len(X_train[0])"
      ],
      "metadata": {
        "colab": {
          "base_uri": "https://localhost:8080/"
        },
        "id": "4QufQLSwp8XH",
        "outputId": "92c24dd2-d896-4c38-dd87-232ba1a45be0"
      },
      "execution_count": 5,
      "outputs": [
        {
          "output_type": "execute_result",
          "data": {
            "text/plain": [
              "218"
            ]
          },
          "metadata": {},
          "execution_count": 5
        }
      ]
    },
    {
      "cell_type": "code",
      "source": [
        "y_train[0]"
      ],
      "metadata": {
        "colab": {
          "base_uri": "https://localhost:8080/"
        },
        "id": "IhrLtDr5p9ht",
        "outputId": "e1b27169-f348-4673-8893-1e6e0336ccb5"
      },
      "execution_count": 6,
      "outputs": [
        {
          "output_type": "execute_result",
          "data": {
            "text/plain": [
              "1"
            ]
          },
          "metadata": {},
          "execution_count": 6
        }
      ]
    },
    {
      "cell_type": "code",
      "source": [
        "word_idx = imdb.get_word_index()\n",
        "list(word_idx.keys())[:5]"
      ],
      "metadata": {
        "colab": {
          "base_uri": "https://localhost:8080/"
        },
        "id": "snUg9gkdqDJN",
        "outputId": "4e230d93-4563-405c-b98c-11c06e28fc3a"
      },
      "execution_count": 7,
      "outputs": [
        {
          "output_type": "execute_result",
          "data": {
            "text/plain": [
              "['fawn', 'tsukino', 'nunnery', 'sonja', 'vani']"
            ]
          },
          "metadata": {},
          "execution_count": 7
        }
      ]
    },
    {
      "cell_type": "code",
      "source": [
        "type(X_train[0][0])"
      ],
      "metadata": {
        "colab": {
          "base_uri": "https://localhost:8080/"
        },
        "id": "FbpPOgljraCI",
        "outputId": "c0742a1c-6f5c-45aa-e1e4-5b98e54dd042"
      },
      "execution_count": 8,
      "outputs": [
        {
          "output_type": "execute_result",
          "data": {
            "text/plain": [
              "int"
            ]
          },
          "metadata": {},
          "execution_count": 8
        }
      ]
    },
    {
      "cell_type": "code",
      "source": [
        "reverse_word_idx = dict(\n",
        "    [(val, key) for (key, val) in word_idx.items()]\n",
        ")"
      ],
      "metadata": {
        "id": "y9GgxtCMrh26"
      },
      "execution_count": 9,
      "outputs": []
    },
    {
      "cell_type": "code",
      "source": [
        "print(' '.join([reverse_word_idx.get(i - 3, '?') for i in X_train[0]]))"
      ],
      "metadata": {
        "id": "lVE1YxohrY1j",
        "colab": {
          "base_uri": "https://localhost:8080/"
        },
        "outputId": "ab5ab307-18f0-4f9e-eec8-a8f2f5a59812"
      },
      "execution_count": 10,
      "outputs": [
        {
          "output_type": "stream",
          "name": "stdout",
          "text": [
            "? this film was just brilliant casting location scenery story direction everyone's really suited the part they played and you could just imagine being there robert ? is an amazing actor and now the same being director ? father came from the same scottish island as myself so i loved the fact there was a real connection with this film the witty remarks throughout the film were great it was just brilliant so much that i bought the film as soon as it was released for ? and would recommend it to everyone to watch and the fly fishing was amazing really cried at the end it was so sad and you know what they say if you cry at a film it must have been good and this definitely was also ? to the two little boy's that played the ? of norman and paul they were just brilliant children are often left out of the ? list i think because the stars that play them all grown up are such a big profile for the whole film but these children are amazing and should be praised for what they have done don't you think the whole story was so lovely because it was true and was someone's life after all that was shared with us all\n"
          ]
        }
      ]
    },
    {
      "cell_type": "code",
      "source": [
        "y_train[0]"
      ],
      "metadata": {
        "colab": {
          "base_uri": "https://localhost:8080/"
        },
        "id": "gsU3-YB_sPqE",
        "outputId": "74b41e64-3a68-442c-9183-ef9ced164f01"
      },
      "execution_count": 11,
      "outputs": [
        {
          "output_type": "execute_result",
          "data": {
            "text/plain": [
              "1"
            ]
          },
          "metadata": {},
          "execution_count": 11
        }
      ]
    },
    {
      "cell_type": "code",
      "source": [
        "# 1 - positive\n",
        "# 0 - negative"
      ],
      "metadata": {
        "id": "WXIa1SBZsmLa"
      },
      "execution_count": 12,
      "outputs": []
    },
    {
      "cell_type": "code",
      "source": [
        "def vectorize_sequences(sequences, dim=10_000):\n",
        "  res = np.zeros((len(sequences), dim))\n",
        "  for i, sequence in enumerate(sequences):\n",
        "    for j in sequence:\n",
        "      res[i, j] = 1.\n",
        "  return res\n",
        "\n",
        "X_train = vectorize_sequences(X_train)\n",
        "X_test = vectorize_sequences(X_test)"
      ],
      "metadata": {
        "id": "QwTQibxGsqXq"
      },
      "execution_count": 13,
      "outputs": []
    },
    {
      "cell_type": "code",
      "source": [
        "len(X_train[0])"
      ],
      "metadata": {
        "colab": {
          "base_uri": "https://localhost:8080/"
        },
        "id": "L5a0c--CNJWR",
        "outputId": "fe0a8253-fb12-4741-babd-7a1a194cd22a"
      },
      "execution_count": 14,
      "outputs": [
        {
          "output_type": "execute_result",
          "data": {
            "text/plain": [
              "10000"
            ]
          },
          "metadata": {},
          "execution_count": 14
        }
      ]
    },
    {
      "cell_type": "code",
      "source": [
        "X_train[0]"
      ],
      "metadata": {
        "colab": {
          "base_uri": "https://localhost:8080/"
        },
        "id": "oaeCbf13NMXw",
        "outputId": "442c62c2-0243-488a-cd77-b92a9ec78feb"
      },
      "execution_count": 15,
      "outputs": [
        {
          "output_type": "execute_result",
          "data": {
            "text/plain": [
              "array([0., 1., 1., ..., 0., 0., 0.])"
            ]
          },
          "metadata": {},
          "execution_count": 15
        }
      ]
    },
    {
      "cell_type": "code",
      "source": [
        "# here we can see that X_train[0] contains 1st and the 2nd encoded words\n",
        "# max number of words is 10_000 and max index is 9999 (that's why dim=10_000)\n",
        "# It's just One Hot encoding"
      ],
      "metadata": {
        "id": "VmFTgfOBNz44"
      },
      "execution_count": 16,
      "outputs": []
    },
    {
      "cell_type": "code",
      "source": [
        "y_train = np.asarray(y_train).astype('float32')\n",
        "y_test = np.asarray(y_test).astype('float32')"
      ],
      "metadata": {
        "id": "KtN4GPMKOoPo"
      },
      "execution_count": 17,
      "outputs": []
    },
    {
      "cell_type": "code",
      "source": [
        "y_train.shape"
      ],
      "metadata": {
        "colab": {
          "base_uri": "https://localhost:8080/"
        },
        "id": "f1dVr-65O8MZ",
        "outputId": "aba60d3c-9422-4f05-cf88-33303a2c6902"
      },
      "execution_count": 18,
      "outputs": [
        {
          "output_type": "execute_result",
          "data": {
            "text/plain": [
              "(25000,)"
            ]
          },
          "metadata": {},
          "execution_count": 18
        }
      ]
    },
    {
      "cell_type": "code",
      "source": [
        "X_train.shape"
      ],
      "metadata": {
        "colab": {
          "base_uri": "https://localhost:8080/"
        },
        "id": "g72BIqSbO9W5",
        "outputId": "9ccfd063-3751-4120-9b5e-09ad4f3f6f93"
      },
      "execution_count": 19,
      "outputs": [
        {
          "output_type": "execute_result",
          "data": {
            "text/plain": [
              "(25000, 10000)"
            ]
          },
          "metadata": {},
          "execution_count": 19
        }
      ]
    },
    {
      "cell_type": "code",
      "source": [
        "from tensorflow.keras.models import Sequential\n",
        "from tensorflow.keras import layers"
      ],
      "metadata": {
        "id": "6DDlT7m1PFW5"
      },
      "execution_count": 20,
      "outputs": []
    },
    {
      "cell_type": "code",
      "source": [
        "model = keras.Sequential([\n",
        "    layers.Dense(32, activation='relu'),\n",
        "    layers.Dense(32, activation='relu'),\n",
        "    layers.Dense(1, activation='sigmoid')\n",
        "])"
      ],
      "metadata": {
        "id": "O88gmsIOPl6D"
      },
      "execution_count": 21,
      "outputs": []
    },
    {
      "cell_type": "code",
      "source": [
        "model.compile(\n",
        "    optimizer='rmsprop',\n",
        "    loss='binary_crossentropy',\n",
        "    metrics='accuracy'\n",
        ")"
      ],
      "metadata": {
        "id": "7jN_mi9WQ6Bm"
      },
      "execution_count": 22,
      "outputs": []
    },
    {
      "cell_type": "code",
      "source": [
        "history = model.fit(\n",
        "    X_train, y_train,\n",
        "    validation_split=0.3,\n",
        "    epochs=10,\n",
        "    batch_size=512\n",
        ")"
      ],
      "metadata": {
        "colab": {
          "base_uri": "https://localhost:8080/"
        },
        "id": "zQTRfs4wRBVP",
        "outputId": "7a6737a8-91ff-4719-bd77-e8c3cef69b49"
      },
      "execution_count": 23,
      "outputs": [
        {
          "output_type": "stream",
          "name": "stdout",
          "text": [
            "Epoch 1/10\n",
            "35/35 [==============================] - 4s 81ms/step - loss: 0.4711 - accuracy: 0.7949 - val_loss: 0.3305 - val_accuracy: 0.8817\n",
            "Epoch 2/10\n",
            "35/35 [==============================] - 2s 44ms/step - loss: 0.2786 - accuracy: 0.8977 - val_loss: 0.2935 - val_accuracy: 0.8809\n",
            "Epoch 3/10\n",
            "35/35 [==============================] - 2s 44ms/step - loss: 0.2136 - accuracy: 0.9228 - val_loss: 0.2943 - val_accuracy: 0.8815\n",
            "Epoch 4/10\n",
            "35/35 [==============================] - 2s 55ms/step - loss: 0.1774 - accuracy: 0.9358 - val_loss: 0.3151 - val_accuracy: 0.8769\n",
            "Epoch 5/10\n",
            "35/35 [==============================] - 2s 55ms/step - loss: 0.1507 - accuracy: 0.9453 - val_loss: 0.2949 - val_accuracy: 0.8857\n",
            "Epoch 6/10\n",
            "35/35 [==============================] - 1s 38ms/step - loss: 0.1205 - accuracy: 0.9579 - val_loss: 0.3006 - val_accuracy: 0.8851\n",
            "Epoch 7/10\n",
            "35/35 [==============================] - 1s 41ms/step - loss: 0.1085 - accuracy: 0.9628 - val_loss: 0.3217 - val_accuracy: 0.8851\n",
            "Epoch 8/10\n",
            "35/35 [==============================] - 2s 55ms/step - loss: 0.0897 - accuracy: 0.9714 - val_loss: 0.3482 - val_accuracy: 0.8827\n",
            "Epoch 9/10\n",
            "35/35 [==============================] - 2s 44ms/step - loss: 0.0701 - accuracy: 0.9795 - val_loss: 0.3643 - val_accuracy: 0.8805\n",
            "Epoch 10/10\n",
            "35/35 [==============================] - 1s 38ms/step - loss: 0.0607 - accuracy: 0.9822 - val_loss: 0.4003 - val_accuracy: 0.8755\n"
          ]
        }
      ]
    },
    {
      "cell_type": "code",
      "source": [
        "import matplotlib.pyplot as plt"
      ],
      "metadata": {
        "id": "OsupquEQRZNx"
      },
      "execution_count": 24,
      "outputs": []
    },
    {
      "cell_type": "code",
      "source": [
        "history_dict = history.history\n",
        "loss = history_dict['loss']\n",
        "val_loss = history_dict['val_loss']\n",
        "epochs = range(1, len(loss) + 1)\n",
        "plt.plot(epochs, loss, 'bo', label='Train loss')\n",
        "plt.plot(epochs, val_loss, 'r', label='Validation loss')\n",
        "plt.title('Loss while training')\n",
        "plt.xlabel('Epochs')\n",
        "plt.ylabel('Loss')\n",
        "plt.legend()\n",
        "plt.show();"
      ],
      "metadata": {
        "colab": {
          "base_uri": "https://localhost:8080/",
          "height": 472
        },
        "id": "2HGaRuN1R2op",
        "outputId": "1fb5af56-7e49-468f-b706-cb70eb8d1baf"
      },
      "execution_count": 25,
      "outputs": [
        {
          "output_type": "display_data",
          "data": {
            "text/plain": [
              "<Figure size 640x480 with 1 Axes>"
            ],
            "image/png": "[encoded data removed]"
          },
          "metadata": {}
        }
      ]
    },
    {
      "cell_type": "code",
      "source": [
        "history_dict = history.history\n",
        "acc = history_dict['accuracy']\n",
        "val_acc = history_dict['val_accuracy']\n",
        "epochs = range(1, len(acc) + 1)\n",
        "plt.plot(epochs, acc, 'bo', label='Train accuracy')\n",
        "plt.plot(epochs, val_acc, 'r', label='Validation accuracy')\n",
        "plt.title('Accuracy while training')\n",
        "plt.xlabel('Epochs')\n",
        "plt.ylabel('Accuracy')\n",
        "plt.legend()\n",
        "plt.show();"
      ],
      "metadata": {
        "colab": {
          "base_uri": "https://localhost:8080/",
          "height": 472
        },
        "id": "fyBQmh4pSkTn",
        "outputId": "4588f4ba-d7b3-49db-f1bc-3cbeb330530b"
      },
      "execution_count": 26,
      "outputs": [
        {
          "output_type": "display_data",
          "data": {
            "text/plain": [
              "<Figure size 640x480 with 1 Axes>"
            ],
            "image/png": "[encoded data removed]"
          },
          "metadata": {}
        }
      ]
    },
    {
      "cell_type": "code",
      "source": [
        "model.predict(X_test)"
      ],
      "metadata": {
        "colab": {
          "base_uri": "https://localhost:8080/"
        },
        "id": "qx3dGiZ4T6Lw",
        "outputId": "fd6f35fa-5ab9-4dd7-b4f2-5dfaf935b942"
      },
      "execution_count": 27,
      "outputs": [
        {
          "output_type": "stream",
          "name": "stdout",
          "text": [
            "782/782 [==============================] - 2s 2ms/step\n"
          ]
        },
        {
          "output_type": "execute_result",
          "data": {
            "text/plain": [
              "array([[0.09386268],\n",
              "       [0.99999124],\n",
              "       [0.00254989],\n",
              "       ...,\n",
              "       [0.07381035],\n",
              "       [0.0134982 ],\n",
              "       [0.3687793 ]], dtype=float32)"
            ]
          },
          "metadata": {},
          "execution_count": 27
        }
      ]
    },
    {
      "cell_type": "code",
      "source": [],
      "metadata": {
        "id": "u9yeiLY9T83n"
      },
      "execution_count": 27,
      "outputs": []
    }
  ]
}