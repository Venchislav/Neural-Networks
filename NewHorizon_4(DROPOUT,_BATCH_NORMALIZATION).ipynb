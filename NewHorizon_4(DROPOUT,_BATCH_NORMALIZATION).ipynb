{
  "nbformat": 4,
  "nbformat_minor": 0,
  "metadata": {
    "colab": {
      "provenance": [],
      "authorship_tag": "ABX9TyOoNiIH4Zgx4IZCg2NKNCWF",
      "include_colab_link": true
    },
    "kernelspec": {
      "name": "python3",
      "display_name": "Python 3"
    },
    "language_info": {
      "name": "python"
    }
  },
  "cells": [
    {
      "cell_type": "markdown",
      "metadata": {
        "id": "view-in-github",
        "colab_type": "text"
      },
      "source": [
        "<a href=\"https://colab.research.google.com/github/Venchislav/Neural-Networks/blob/main/NewHorizon_4(DROPOUT%2C_BATCH_NORMALIZATION).ipynb\" target=\"_parent\"><img src=\"https://colab.research.google.com/assets/colab-badge.svg\" alt=\"Open In Colab\"/></a>"
      ]
    },
    {
      "cell_type": "code",
      "source": [
        "from tensorflow import keras\n",
        "from tensorflow.keras import layers"
      ],
      "metadata": {
        "id": "-EhxhkqESp9A"
      },
      "execution_count": 20,
      "outputs": []
    },
    {
      "cell_type": "code",
      "source": [
        "model = keras.Sequential([\n",
        "    layers.Dense(1000, activation='relu', input_shape=[8]),\n",
        "    layers.Dropout(0.3),\n",
        "    layers.BatchNormalization(),\n",
        "    layers.Dense(1000, activation='relu'),\n",
        "    layers.Dropout(0.3),\n",
        "    layers.BatchNormalization(),\n",
        "    layers.Dense(1000, activation='relu'),\n",
        "    layers.Dropout(0.3),\n",
        "    layers.BatchNormalization(),\n",
        "    layers.Dense(1)\n",
        "    ])"
      ],
      "metadata": {
        "id": "QtNFned9TbE3"
      },
      "execution_count": 21,
      "outputs": []
    },
    {
      "cell_type": "code",
      "source": [
        "model.compile(\n",
        "    optimizer='adam',\n",
        "    loss='mae'\n",
        ")"
      ],
      "metadata": {
        "id": "W048SqwmUI56"
      },
      "execution_count": 22,
      "outputs": []
    },
    {
      "cell_type": "markdown",
      "source": [
        "AFTER FITTING IT CAN GIVE US SOMETHING LIKE THIS:"
      ],
      "metadata": {
        "id": "piRopvWgWnki"
      }
    },
    {
      "cell_type": "markdown",
      "source": [
        "<img src='https://www.kaggleusercontent.com/kf/126574209/eyJhbGciOiJkaXIiLCJlbmMiOiJBMTI4Q0JDLUhTMjU2In0..L8LgxB75BycH4YYEgh78Dw.szbrym76gRJVL0az6RmBwlVHgkjck8TNCKwLkNrbtaiW9Gd4HQ3hUwCiTapJAGLKHOim7knoNl1Pl99jNFaM1HumBnGK7IuqOhix3meBYpv8zk7S8sxwRxqrH4FX5AS8CIYW2kaOQitYd5013sCzKNWLZs0plU2yqApyL6WwJvhtxwPme7dzGCSB_urD6mr622WY4NCWg9F_N-ISmHU5sQO9tGkX8e2gHX97ylYRHKVPY1WNutGimElKblM5pEKJsALBFMugL6SZQBo5JXnr6JBhORVcNn_AyToNOxKKmBdj5mfr7MhDHd-5YzPnh-GqRQ_bcXLkQgOugf-584krBUWtHeFwyxOAQSecLbUhZGx5nGV7PusM0DBwIrFH93rudf1ho6vqd6INDzU_Cv0IjRwBV7b-PwMmXVWd8TTyPOgx3A0zlYfLpbQh2C_NvIzcoeEcXR_7bVpAPeHG0sxR-h7sveFFg-44W97csSWRq78LoFkluNWi6HxeNzodp3_YCSYhES3aQgxX-NFEbPKeYTMVbWYJM50h1XQ3qN8HNUhB9Jf_dLdUsBdcWJv3mTZYOurGoUiSu5An8MqhwQ6xMaMYDZ-ivZ4QSyoG4g1awYvXqnEB16-1yWjgWnl9HUbcvo2c-1qRlGCJWyjhRL8-ault9n8e8PQYrYc0iCfQqTQ90nAiSpdeQ8erTroLjGhz.5ZS3ajmWGq_32OLsur9Vcw/__results___files/__results___5_0.png'>"
      ],
      "metadata": {
        "id": "IhZdZDm9WwKD"
      }
    }
  ]
}