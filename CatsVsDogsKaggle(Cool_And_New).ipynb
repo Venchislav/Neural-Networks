{
  "nbformat": 4,
  "nbformat_minor": 0,
  "metadata": {
    "colab": {
      "provenance": [],
      "authorship_tag": "ABX9TyMN+Bys1Lqh3zgNXsomM7u1",
      "include_colab_link": true
    },
    "kernelspec": {
      "name": "python3",
      "display_name": "Python 3"
    },
    "language_info": {
      "name": "python"
    }
  },
  "cells": [
    {
      "cell_type": "markdown",
      "metadata": {
        "id": "view-in-github",
        "colab_type": "text"
      },
      "source": [
        "<a href=\"https://colab.research.google.com/github/Venchislav/Neural-Networks/blob/main/CatsVsDogsKaggle(Cool_And_New).ipynb\" target=\"_parent\"><img src=\"https://colab.research.google.com/assets/colab-badge.svg\" alt=\"Open In Colab\"/></a>"
      ]
    },
    {
      "cell_type": "code",
      "source": [
        "!mkdir ~/.kaggle\n",
        "!cp kaggle.json ~/.kaggle/\n",
        "!chmod 600 ~/.kaggle/kaggle.json"
      ],
      "metadata": {
        "id": "6Z9YCRuTUgRa"
      },
      "execution_count": 2,
      "outputs": []
    },
    {
      "cell_type": "code",
      "source": [
        "!kaggle competitions download -c dogs-vs-cats"
      ],
      "metadata": {
        "colab": {
          "base_uri": "https://localhost:8080/"
        },
        "id": "7-jFmewsVFoi",
        "outputId": "1d5ca802-0226-4f3d-a708-57ab3f42ed6a"
      },
      "execution_count": 4,
      "outputs": [
        {
          "output_type": "stream",
          "name": "stdout",
          "text": [
            "Downloading dogs-vs-cats.zip to /content\n",
            " 98% 793M/812M [00:09<00:00, 166MB/s]\n",
            "100% 812M/812M [00:09<00:00, 92.3MB/s]\n"
          ]
        }
      ]
    },
    {
      "cell_type": "code",
      "source": [
        "!unzip -qq dogs-vs-cats.zip"
      ],
      "metadata": {
        "id": "c1HPDbDAVMNH"
      },
      "execution_count": 5,
      "outputs": []
    },
    {
      "cell_type": "code",
      "source": [
        "!unzip -qq train.zip"
      ],
      "metadata": {
        "id": "GzSutjbLVmDf"
      },
      "execution_count": 6,
      "outputs": []
    },
    {
      "cell_type": "code",
      "source": [
        "import os, shutil, pathlib"
      ],
      "metadata": {
        "id": "kHibwusDVuFB"
      },
      "execution_count": 7,
      "outputs": []
    },
    {
      "cell_type": "code",
      "source": [
        "original_dir = pathlib.Path('train')\n",
        "new_dir = pathlib.Path('cats_vs_dogs_smaller')"
      ],
      "metadata": {
        "id": "Opas5OzlWNe_"
      },
      "execution_count": 8,
      "outputs": []
    },
    {
      "cell_type": "code",
      "source": [
        "def make_subset(subset_name, start_indx, end_indx):\n",
        "  for category in ('cat', 'dog'):\n",
        "    dir = new_dir / subset_name / category\n",
        "    os.makedirs(dir)\n",
        "    filenames = [f'{category}.{i}.jpg' for i in range(start_indx, end_indx)]\n",
        "    for filename in filenames:\n",
        "      shutil.copyfile(src=original_dir / filename, dst=dir / filename)"
      ],
      "metadata": {
        "id": "stX2NNrRWbCW"
      },
      "execution_count": 13,
      "outputs": []
    },
    {
      "cell_type": "code",
      "source": [
        "make_subset('train', start_indx=0, end_indx=1000)\n",
        "make_subset('validation', start_indx=1000, end_indx=1500)\n",
        "make_subset('test', start_indx=1500, end_indx=2500)"
      ],
      "metadata": {
        "id": "awqIwgJHXNDP"
      },
      "execution_count": 14,
      "outputs": []
    },
    {
      "cell_type": "code",
      "source": [
        "os.listdir('train')[:5]"
      ],
      "metadata": {
        "colab": {
          "base_uri": "https://localhost:8080/"
        },
        "id": "3mKjdaZ6YVQm",
        "outputId": "97dd3bce-749f-4b16-9e67-08560ce4ec94"
      },
      "execution_count": 17,
      "outputs": [
        {
          "output_type": "execute_result",
          "data": {
            "text/plain": [
              "['cat.3545.jpg', 'dog.579.jpg', 'cat.1361.jpg', 'cat.4437.jpg', 'cat.8012.jpg']"
            ]
          },
          "metadata": {},
          "execution_count": 17
        }
      ]
    },
    {
      "cell_type": "code",
      "source": [],
      "metadata": {
        "id": "o7kap6UUYcgt"
      },
      "execution_count": null,
      "outputs": []
    }
  ]
}