{
  "nbformat": 4,
  "nbformat_minor": 0,
  "metadata": {
    "colab": {
      "provenance": [],
      "authorship_tag": "ABX9TyMzyDKTu6zHDW5w1hywOILZ",
      "include_colab_link": true
    },
    "kernelspec": {
      "name": "python3",
      "display_name": "Python 3"
    },
    "language_info": {
      "name": "python"
    }
  },
  "cells": [
    {
      "cell_type": "markdown",
      "metadata": {
        "id": "view-in-github",
        "colab_type": "text"
      },
      "source": [
        "<a href=\"https://colab.research.google.com/github/Venchislav/Neural-Networks/blob/main/ModelTuningExample.ipynb\" target=\"_parent\"><img src=\"https://colab.research.google.com/assets/colab-badge.svg\" alt=\"Open In Colab\"/></a>"
      ]
    },
    {
      "cell_type": "code",
      "execution_count": 122,
      "metadata": {
        "id": "OspqAW9Trcpv"
      },
      "outputs": [],
      "source": [
        "from tensorflow.keras.datasets import mnist\n",
        "import tensorflow as tf\n",
        "from tensorflow import keras\n",
        "from tensorflow.keras import layers"
      ]
    },
    {
      "cell_type": "code",
      "source": [
        "(images, labels), _ = mnist.load_data()"
      ],
      "metadata": {
        "id": "EgnU8hNWrlrE"
      },
      "execution_count": 123,
      "outputs": []
    },
    {
      "cell_type": "code",
      "source": [
        "import matplotlib.pyplot as plt"
      ],
      "metadata": {
        "id": "q9UJZDZOrxfX"
      },
      "execution_count": 124,
      "outputs": []
    },
    {
      "cell_type": "code",
      "source": [
        "plt.title(labels[0])\n",
        "plt.imshow(images[0], cmap='gray');"
      ],
      "metadata": {
        "colab": {
          "base_uri": "https://localhost:8080/",
          "height": 452
        },
        "id": "RXuXxLMwr0Oj",
        "outputId": "294b054c-0786-485a-cf38-23c8b756c8d8"
      },
      "execution_count": 125,
      "outputs": [
        {
          "output_type": "display_data",
          "data": {
            "text/plain": [
              "<Figure size 640x480 with 1 Axes>"
            ],
            "image/png": "[encoded data removed]"
          },
          "metadata": {}
        }
      ]
    },
    {
      "cell_type": "code",
      "source": [
        "images.shape"
      ],
      "metadata": {
        "colab": {
          "base_uri": "https://localhost:8080/"
        },
        "id": "-dN375omr2Vy",
        "outputId": "ae3ae1d5-1632-40e9-8937-91b03369b02d"
      },
      "execution_count": 126,
      "outputs": [
        {
          "output_type": "execute_result",
          "data": {
            "text/plain": [
              "(60000, 28, 28)"
            ]
          },
          "metadata": {},
          "execution_count": 126
        }
      ]
    },
    {
      "cell_type": "code",
      "source": [
        "images = images.reshape((60_000, 28 * 28))\n",
        "images = images.astype('float32') / 255.0"
      ],
      "metadata": {
        "id": "nWqy0OMosYzW"
      },
      "execution_count": 127,
      "outputs": []
    },
    {
      "cell_type": "code",
      "source": [
        "images.shape"
      ],
      "metadata": {
        "colab": {
          "base_uri": "https://localhost:8080/"
        },
        "id": "1w1OOX8htqLz",
        "outputId": "ff1c6ce0-e659-4c7d-c208-483f5f88805f"
      },
      "execution_count": 128,
      "outputs": [
        {
          "output_type": "execute_result",
          "data": {
            "text/plain": [
              "(60000, 784)"
            ]
          },
          "metadata": {},
          "execution_count": 128
        }
      ]
    },
    {
      "cell_type": "code",
      "source": [
        "labels.shape"
      ],
      "metadata": {
        "colab": {
          "base_uri": "https://localhost:8080/"
        },
        "id": "ucPaUJzhtr-1",
        "outputId": "0661325f-b497-449d-f9e1-d3fd9fddddf8"
      },
      "execution_count": 129,
      "outputs": [
        {
          "output_type": "execute_result",
          "data": {
            "text/plain": [
              "(60000,)"
            ]
          },
          "metadata": {},
          "execution_count": 129
        }
      ]
    },
    {
      "cell_type": "markdown",
      "source": [
        "# **FAST (BUT UNACCURATE) MODEL**\n"
      ],
      "metadata": {
        "id": "fx1z_4aEssDK"
      }
    },
    {
      "cell_type": "code",
      "source": [
        "model = keras.Sequential([\n",
        "    layers.Dense(512, activation='relu'),\n",
        "    layers.Dense(10, activation='softmax')\n",
        "])"
      ],
      "metadata": {
        "id": "TtFgwCwIsp5v"
      },
      "execution_count": 130,
      "outputs": []
    },
    {
      "cell_type": "code",
      "source": [
        "model.compile(\n",
        "    optimizer=keras.optimizers.RMSprop(learning_rate=1.),\n",
        "    loss='sparse_categorical_crossentropy',\n",
        "    metrics=['accuracy']\n",
        ")"
      ],
      "metadata": {
        "id": "ZgFhbmpetLta"
      },
      "execution_count": 131,
      "outputs": []
    },
    {
      "cell_type": "code",
      "source": [
        "model.fit(\n",
        "    images, labels,\n",
        "    epochs=10,\n",
        "    batch_size=128,\n",
        "    validation_split=0.2\n",
        ")"
      ],
      "metadata": {
        "colab": {
          "base_uri": "https://localhost:8080/"
        },
        "id": "B47mZ-Hrta4G",
        "outputId": "7b137e6f-1d10-4b73-d96d-0610342321d7"
      },
      "execution_count": 132,
      "outputs": [
        {
          "output_type": "stream",
          "name": "stdout",
          "text": [
            "Epoch 1/10\n",
            "375/375 [==============================] - 5s 13ms/step - loss: 497.6995 - accuracy: 0.2608 - val_loss: 2.3181 - val_accuracy: 0.1433\n",
            "Epoch 2/10\n",
            "375/375 [==============================] - 4s 11ms/step - loss: 2.6450 - accuracy: 0.1792 - val_loss: 2.3423 - val_accuracy: 0.1446\n",
            "Epoch 3/10\n",
            "375/375 [==============================] - 4s 11ms/step - loss: 2.5151 - accuracy: 0.1679 - val_loss: 2.2251 - val_accuracy: 0.1703\n",
            "Epoch 4/10\n",
            "375/375 [==============================] - 4s 12ms/step - loss: 2.3974 - accuracy: 0.1791 - val_loss: 2.1512 - val_accuracy: 0.1981\n",
            "Epoch 5/10\n",
            "375/375 [==============================] - 4s 10ms/step - loss: 2.3450 - accuracy: 0.1805 - val_loss: 2.2206 - val_accuracy: 0.1797\n",
            "Epoch 6/10\n",
            "375/375 [==============================] - 4s 11ms/step - loss: 2.2560 - accuracy: 0.1906 - val_loss: 2.3396 - val_accuracy: 0.1889\n",
            "Epoch 7/10\n",
            "375/375 [==============================] - 5s 13ms/step - loss: 2.2514 - accuracy: 0.2059 - val_loss: 2.2561 - val_accuracy: 0.1918\n",
            "Epoch 8/10\n",
            "375/375 [==============================] - 4s 10ms/step - loss: 2.3277 - accuracy: 0.1909 - val_loss: 2.2669 - val_accuracy: 0.1814\n",
            "Epoch 9/10\n",
            "375/375 [==============================] - 4s 11ms/step - loss: 2.3725 - accuracy: 0.2085 - val_loss: 2.1904 - val_accuracy: 0.1911\n",
            "Epoch 10/10\n",
            "375/375 [==============================] - 5s 13ms/step - loss: 2.5093 - accuracy: 0.2126 - val_loss: 2.1287 - val_accuracy: 0.1995\n"
          ]
        },
        {
          "output_type": "execute_result",
          "data": {
            "text/plain": [
              "<keras.src.callbacks.History at 0x7d4264bf1e10>"
            ]
          },
          "metadata": {},
          "execution_count": 132
        }
      ]
    },
    {
      "cell_type": "code",
      "source": [],
      "metadata": {
        "id": "g2j6CTPFtkUW"
      },
      "execution_count": 132,
      "outputs": []
    },
    {
      "cell_type": "markdown",
      "source": [
        "NOW LET'S TRY SLOWER MODEL"
      ],
      "metadata": {
        "id": "p3NlvH2JxJje"
      }
    },
    {
      "cell_type": "code",
      "source": [
        "model = keras.Sequential([\n",
        "    layers.Dense(512, activation='relu'),\n",
        "    layers.Dense(10, activation='softmax')\n",
        "])"
      ],
      "metadata": {
        "id": "hQR0dRNzxOwo"
      },
      "execution_count": 133,
      "outputs": []
    },
    {
      "cell_type": "code",
      "source": [
        "model.compile(\n",
        "    optimizer=keras.optimizers.RMSprop(learning_rate=1e-2),\n",
        "    loss='sparse_categorical_crossentropy',\n",
        "    metrics=['accuracy']\n",
        ")"
      ],
      "metadata": {
        "id": "bDZuflknxYz6"
      },
      "execution_count": 134,
      "outputs": []
    },
    {
      "cell_type": "code",
      "source": [
        "model.fit(\n",
        "    images, labels,\n",
        "    epochs=10,\n",
        "    batch_size=128,\n",
        "    validation_split=0.2\n",
        ")"
      ],
      "metadata": {
        "colab": {
          "base_uri": "https://localhost:8080/"
        },
        "id": "vkkhmkwUxmw7",
        "outputId": "82ae4075-398f-4813-c258-bb4460afd93e"
      },
      "execution_count": 135,
      "outputs": [
        {
          "output_type": "stream",
          "name": "stdout",
          "text": [
            "Epoch 1/10\n",
            "375/375 [==============================] - 6s 14ms/step - loss: 0.3526 - accuracy: 0.9102 - val_loss: 0.1319 - val_accuracy: 0.9613\n",
            "Epoch 2/10\n",
            "375/375 [==============================] - 4s 11ms/step - loss: 0.1285 - accuracy: 0.9642 - val_loss: 0.1267 - val_accuracy: 0.9687\n",
            "Epoch 3/10\n",
            "375/375 [==============================] - 4s 11ms/step - loss: 0.1014 - accuracy: 0.9733 - val_loss: 0.1780 - val_accuracy: 0.9630\n",
            "Epoch 4/10\n",
            "375/375 [==============================] - 5s 13ms/step - loss: 0.0809 - accuracy: 0.9798 - val_loss: 0.1352 - val_accuracy: 0.9729\n",
            "Epoch 5/10\n",
            "375/375 [==============================] - 4s 11ms/step - loss: 0.0682 - accuracy: 0.9830 - val_loss: 0.1802 - val_accuracy: 0.9703\n",
            "Epoch 6/10\n",
            "375/375 [==============================] - 4s 10ms/step - loss: 0.0586 - accuracy: 0.9861 - val_loss: 0.1881 - val_accuracy: 0.9695\n",
            "Epoch 7/10\n",
            "375/375 [==============================] - 5s 13ms/step - loss: 0.0533 - accuracy: 0.9874 - val_loss: 0.1925 - val_accuracy: 0.9728\n",
            "Epoch 8/10\n",
            "375/375 [==============================] - 4s 10ms/step - loss: 0.0469 - accuracy: 0.9886 - val_loss: 0.1927 - val_accuracy: 0.9717\n",
            "Epoch 9/10\n",
            "375/375 [==============================] - 4s 11ms/step - loss: 0.0424 - accuracy: 0.9899 - val_loss: 0.2080 - val_accuracy: 0.9737\n",
            "Epoch 10/10\n",
            "375/375 [==============================] - 5s 12ms/step - loss: 0.0352 - accuracy: 0.9915 - val_loss: 0.2444 - val_accuracy: 0.9694\n"
          ]
        },
        {
          "output_type": "execute_result",
          "data": {
            "text/plain": [
              "<keras.src.callbacks.History at 0x7d425b34e0b0>"
            ]
          },
          "metadata": {},
          "execution_count": 135
        }
      ]
    },
    {
      "cell_type": "code",
      "source": [
        "# FINE"
      ],
      "metadata": {
        "id": "kSA-1JK5xvpx"
      },
      "execution_count": 136,
      "outputs": []
    },
    {
      "cell_type": "code",
      "source": [],
      "metadata": {
        "id": "vl84WHEYyAh9"
      },
      "execution_count": null,
      "outputs": []
    }
  ]
}