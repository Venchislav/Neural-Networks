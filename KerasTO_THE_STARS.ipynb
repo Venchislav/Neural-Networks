{
  "nbformat": 4,
  "nbformat_minor": 0,
  "metadata": {
    "colab": {
      "provenance": [],
      "gpuType": "T4",
      "authorship_tag": "ABX9TyNZTJJzFL9den9fB0VwG317",
      "include_colab_link": true
    },
    "kernelspec": {
      "name": "python3",
      "display_name": "Python 3"
    },
    "language_info": {
      "name": "python"
    },
    "accelerator": "GPU"
  },
  "cells": [
    {
      "cell_type": "markdown",
      "metadata": {
        "id": "view-in-github",
        "colab_type": "text"
      },
      "source": [
        "<a href=\"https://colab.research.google.com/github/Venchislav/Neural-Networks/blob/main/KerasTO_THE_STARS.ipynb\" target=\"_parent\"><img src=\"https://colab.research.google.com/assets/colab-badge.svg\" alt=\"Open In Colab\"/></a>"
      ]
    },
    {
      "cell_type": "code",
      "execution_count": 50,
      "metadata": {
        "id": "y_TuDte3-5Rk"
      },
      "outputs": [],
      "source": [
        "import numpy as np\n",
        "from random import randint\n",
        "from sklearn.utils import shuffle\n",
        "from sklearn.preprocessing import MinMaxScaler"
      ]
    },
    {
      "cell_type": "code",
      "source": [
        "train_labels = []\n",
        "train_samples = []"
      ],
      "metadata": {
        "id": "Wfnuy0Nl_jZ9"
      },
      "execution_count": 51,
      "outputs": []
    },
    {
      "cell_type": "code",
      "source": [
        "# here we generate our dataset\n",
        "# Datasets from Kaggle are for weak"
      ],
      "metadata": {
        "id": "nC8b48GdCyWw"
      },
      "execution_count": 52,
      "outputs": []
    },
    {
      "cell_type": "code",
      "source": [
        "for i in range(50):\n",
        "  random_younger = randint(13, 64)\n",
        "  train_samples.append(random_younger)\n",
        "  train_labels.append(1)\n",
        "\n",
        "  random_older = randint(65, 100)\n",
        "  train_samples.append(random_older)\n",
        "  train_labels.append(0)\n",
        "\n",
        "for i in range(1000):\n",
        "  random_younger = randint(13, 64)\n",
        "  train_samples.append(random_younger)\n",
        "  train_labels.append(0)\n",
        "\n",
        "  random_older = randint(65, 100)\n",
        "  train_samples.append(random_older)\n",
        "  train_labels.append(1)"
      ],
      "metadata": {
        "id": "uyokui0C_q3_"
      },
      "execution_count": 53,
      "outputs": []
    },
    {
      "cell_type": "code",
      "source": [],
      "metadata": {
        "id": "HOb0Sl5cCcRj"
      },
      "execution_count": 53,
      "outputs": []
    },
    {
      "cell_type": "markdown",
      "source": [
        "I will add new code later... On friday <br>\n",
        "No I'm gonna play Hotline Miami <br>\n",
        "<img src='https://sun9-65.userapi.com/c855020/v855020044/aed73/t6f6BhABJ-U.jpg'>"
      ],
      "metadata": {
        "id": "CYXLn7UldSKn"
      }
    },
    {
      "cell_type": "markdown",
      "source": [
        "UPD from 24.11.23 (Friday) <br>\n",
        "As promised😎"
      ],
      "metadata": {
        "id": "JhWV360j5VuB"
      }
    },
    {
      "cell_type": "code",
      "source": [
        "train_samples = np.array(train_samples)\n",
        "train_labels = np.array(train_labels)"
      ],
      "metadata": {
        "id": "fzXvEJc95eqw"
      },
      "execution_count": 54,
      "outputs": []
    },
    {
      "cell_type": "code",
      "source": [
        "train_samples, train_labels = shuffle(train_samples, train_labels)"
      ],
      "metadata": {
        "id": "05ebgqjZ6viX"
      },
      "execution_count": 55,
      "outputs": []
    },
    {
      "cell_type": "code",
      "source": [
        "scaler = MinMaxScaler(feature_range=(0, 1))\n",
        "train_samples = scaler.fit_transform(train_samples.reshape(-1, 1))"
      ],
      "metadata": {
        "id": "0rKLO18v6jhf"
      },
      "execution_count": 56,
      "outputs": []
    },
    {
      "cell_type": "code",
      "source": [
        "train_samples[:5]"
      ],
      "metadata": {
        "colab": {
          "base_uri": "https://localhost:8080/"
        },
        "id": "SUqR2i2V7JD_",
        "outputId": "0e536768-6135-458c-83ac-21c73fbe592c"
      },
      "execution_count": 57,
      "outputs": [
        {
          "output_type": "execute_result",
          "data": {
            "text/plain": [
              "array([[0.67816092],\n",
              "       [0.31034483],\n",
              "       [0.1954023 ],\n",
              "       [0.22988506],\n",
              "       [0.43678161]])"
            ]
          },
          "metadata": {},
          "execution_count": 57
        }
      ]
    },
    {
      "cell_type": "code",
      "source": [
        "import tensorflow as tf\n",
        "from tensorflow import keras\n",
        "from tensorflow.keras.models import Sequential\n",
        "from tensorflow.keras.layers import Activation, Dense"
      ],
      "metadata": {
        "id": "iRU0IYDn8AiH"
      },
      "execution_count": 58,
      "outputs": []
    },
    {
      "cell_type": "code",
      "source": [
        "phys_devices = tf.config.experimental.list_physical_devices('GPU')\n",
        "print(f'GPUs available: {phys_devices}')"
      ],
      "metadata": {
        "colab": {
          "base_uri": "https://localhost:8080/"
        },
        "id": "MPalUBFP8PpU",
        "outputId": "b580c6e6-7381-483b-ff56-7c32336d1634"
      },
      "execution_count": 59,
      "outputs": [
        {
          "output_type": "stream",
          "name": "stdout",
          "text": [
            "GPUs available: [PhysicalDevice(name='/physical_device:GPU:0', device_type='GPU')]\n"
          ]
        }
      ]
    },
    {
      "cell_type": "markdown",
      "source": [
        "God, bless CoLaboratory"
      ],
      "metadata": {
        "id": "asJ93aPi87jk"
      }
    },
    {
      "cell_type": "code",
      "source": [
        "model = Sequential([\n",
        "    Dense(units=16, input_shape=(1,), activation='relu'),\n",
        "    Dense(units=32, activation='relu'),\n",
        "    Dense(units=2, activation='softmax')\n",
        "])"
      ],
      "metadata": {
        "id": "aeJiKUGj9BjM"
      },
      "execution_count": 60,
      "outputs": []
    },
    {
      "cell_type": "code",
      "source": [
        "model.summary()"
      ],
      "metadata": {
        "colab": {
          "base_uri": "https://localhost:8080/"
        },
        "id": "MuTihDvZ_BuM",
        "outputId": "b9036d9a-a892-48f4-d63a-10343b7916b6"
      },
      "execution_count": 61,
      "outputs": [
        {
          "output_type": "stream",
          "name": "stdout",
          "text": [
            "Model: \"sequential_3\"\n",
            "_________________________________________________________________\n",
            " Layer (type)                Output Shape              Param #   \n",
            "=================================================================\n",
            " dense_9 (Dense)             (None, 16)                32        \n",
            "                                                                 \n",
            " dense_10 (Dense)            (None, 32)                544       \n",
            "                                                                 \n",
            " dense_11 (Dense)            (None, 2)                 66        \n",
            "                                                                 \n",
            "=================================================================\n",
            "Total params: 642 (2.51 KB)\n",
            "Trainable params: 642 (2.51 KB)\n",
            "Non-trainable params: 0 (0.00 Byte)\n",
            "_________________________________________________________________\n"
          ]
        }
      ]
    },
    {
      "cell_type": "code",
      "source": [
        "from tensorflow.keras.optimizers import Adam"
      ],
      "metadata": {
        "id": "4ObDpxCp_iI9"
      },
      "execution_count": 62,
      "outputs": []
    },
    {
      "cell_type": "code",
      "source": [
        "model.compile(\n",
        "    optimizer=Adam(learning_rate=0.0001),\n",
        "    loss='sparse_categorical_crossentropy',\n",
        "    metrics=['accuracy']\n",
        ")"
      ],
      "metadata": {
        "id": "xXDDWuAg_coY"
      },
      "execution_count": 63,
      "outputs": []
    },
    {
      "cell_type": "code",
      "source": [
        "# as I already know we can use validation_data kwarg to avoid overfitting\n",
        "# But I found out that it's not necessary to create validation set before\n",
        "# Fitting. We can do it while fitting by validation_split of fractional"
      ],
      "metadata": {
        "id": "N03HDp0CDAiq"
      },
      "execution_count": 64,
      "outputs": []
    },
    {
      "cell_type": "code",
      "source": [
        "hist = model.fit(\n",
        "    train_samples, train_labels,\n",
        "    validation_split=0.1,\n",
        "    batch_size=10,\n",
        "    epochs=30,\n",
        "    shuffle=True,\n",
        "    verbose=2\n",
        ")"
      ],
      "metadata": {
        "colab": {
          "base_uri": "https://localhost:8080/"
        },
        "id": "T64DdytZASuP",
        "outputId": "55efbbbe-0e81-43fa-b1c7-2eb3ca2f4473"
      },
      "execution_count": 65,
      "outputs": [
        {
          "output_type": "stream",
          "name": "stdout",
          "text": [
            "Epoch 1/30\n",
            "189/189 - 1s - loss: 0.6682 - accuracy: 0.5413 - val_loss: 0.6577 - val_accuracy: 0.5619 - 1s/epoch - 8ms/step\n",
            "Epoch 2/30\n",
            "189/189 - 0s - loss: 0.6475 - accuracy: 0.5873 - val_loss: 0.6354 - val_accuracy: 0.6429 - 467ms/epoch - 2ms/step\n",
            "Epoch 3/30\n",
            "189/189 - 0s - loss: 0.6227 - accuracy: 0.6508 - val_loss: 0.6033 - val_accuracy: 0.7238 - 488ms/epoch - 3ms/step\n",
            "Epoch 4/30\n",
            "189/189 - 1s - loss: 0.5890 - accuracy: 0.7238 - val_loss: 0.5689 - val_accuracy: 0.7714 - 525ms/epoch - 3ms/step\n",
            "Epoch 5/30\n",
            "189/189 - 1s - loss: 0.5569 - accuracy: 0.7630 - val_loss: 0.5344 - val_accuracy: 0.8095 - 708ms/epoch - 4ms/step\n",
            "Epoch 6/30\n",
            "189/189 - 1s - loss: 0.5249 - accuracy: 0.7995 - val_loss: 0.5020 - val_accuracy: 0.8429 - 694ms/epoch - 4ms/step\n",
            "Epoch 7/30\n",
            "189/189 - 1s - loss: 0.4950 - accuracy: 0.8259 - val_loss: 0.4720 - val_accuracy: 0.8476 - 729ms/epoch - 4ms/step\n",
            "Epoch 8/30\n",
            "189/189 - 1s - loss: 0.4669 - accuracy: 0.8481 - val_loss: 0.4443 - val_accuracy: 0.8667 - 655ms/epoch - 3ms/step\n",
            "Epoch 9/30\n",
            "189/189 - 1s - loss: 0.4407 - accuracy: 0.8614 - val_loss: 0.4186 - val_accuracy: 0.8905 - 665ms/epoch - 4ms/step\n",
            "Epoch 10/30\n",
            "189/189 - 1s - loss: 0.4172 - accuracy: 0.8772 - val_loss: 0.3964 - val_accuracy: 0.8905 - 517ms/epoch - 3ms/step\n",
            "Epoch 11/30\n",
            "189/189 - 1s - loss: 0.3963 - accuracy: 0.8852 - val_loss: 0.3769 - val_accuracy: 0.8905 - 512ms/epoch - 3ms/step\n",
            "Epoch 12/30\n",
            "189/189 - 0s - loss: 0.3778 - accuracy: 0.8884 - val_loss: 0.3591 - val_accuracy: 0.9048 - 495ms/epoch - 3ms/step\n",
            "Epoch 13/30\n",
            "189/189 - 1s - loss: 0.3615 - accuracy: 0.9000 - val_loss: 0.3443 - val_accuracy: 0.9095 - 615ms/epoch - 3ms/step\n",
            "Epoch 14/30\n",
            "189/189 - 1s - loss: 0.3473 - accuracy: 0.9011 - val_loss: 0.3317 - val_accuracy: 0.9095 - 542ms/epoch - 3ms/step\n",
            "Epoch 15/30\n",
            "189/189 - 1s - loss: 0.3352 - accuracy: 0.9063 - val_loss: 0.3206 - val_accuracy: 0.9095 - 528ms/epoch - 3ms/step\n",
            "Epoch 16/30\n",
            "189/189 - 1s - loss: 0.3245 - accuracy: 0.9090 - val_loss: 0.3114 - val_accuracy: 0.9095 - 643ms/epoch - 3ms/step\n",
            "Epoch 17/30\n",
            "189/189 - 1s - loss: 0.3155 - accuracy: 0.9132 - val_loss: 0.3039 - val_accuracy: 0.9095 - 750ms/epoch - 4ms/step\n",
            "Epoch 18/30\n",
            "189/189 - 0s - loss: 0.3078 - accuracy: 0.9138 - val_loss: 0.2974 - val_accuracy: 0.9190 - 485ms/epoch - 3ms/step\n",
            "Epoch 19/30\n",
            "189/189 - 1s - loss: 0.3012 - accuracy: 0.9238 - val_loss: 0.2927 - val_accuracy: 0.9095 - 521ms/epoch - 3ms/step\n",
            "Epoch 20/30\n",
            "189/189 - 1s - loss: 0.2959 - accuracy: 0.9185 - val_loss: 0.2881 - val_accuracy: 0.9095 - 503ms/epoch - 3ms/step\n",
            "Epoch 21/30\n",
            "189/189 - 1s - loss: 0.2909 - accuracy: 0.9233 - val_loss: 0.2841 - val_accuracy: 0.9190 - 698ms/epoch - 4ms/step\n",
            "Epoch 22/30\n",
            "189/189 - 1s - loss: 0.2868 - accuracy: 0.9233 - val_loss: 0.2806 - val_accuracy: 0.9190 - 623ms/epoch - 3ms/step\n",
            "Epoch 23/30\n",
            "189/189 - 1s - loss: 0.2833 - accuracy: 0.9265 - val_loss: 0.2781 - val_accuracy: 0.9190 - 564ms/epoch - 3ms/step\n",
            "Epoch 24/30\n",
            "189/189 - 1s - loss: 0.2800 - accuracy: 0.9233 - val_loss: 0.2755 - val_accuracy: 0.9238 - 534ms/epoch - 3ms/step\n",
            "Epoch 25/30\n",
            "189/189 - 1s - loss: 0.2774 - accuracy: 0.9270 - val_loss: 0.2735 - val_accuracy: 0.9238 - 559ms/epoch - 3ms/step\n",
            "Epoch 26/30\n",
            "189/189 - 0s - loss: 0.2749 - accuracy: 0.9296 - val_loss: 0.2718 - val_accuracy: 0.9238 - 497ms/epoch - 3ms/step\n",
            "Epoch 27/30\n",
            "189/189 - 1s - loss: 0.2727 - accuracy: 0.9323 - val_loss: 0.2705 - val_accuracy: 0.9190 - 644ms/epoch - 3ms/step\n",
            "Epoch 28/30\n",
            "189/189 - 1s - loss: 0.2708 - accuracy: 0.9291 - val_loss: 0.2691 - val_accuracy: 0.9238 - 689ms/epoch - 4ms/step\n",
            "Epoch 29/30\n",
            "189/189 - 1s - loss: 0.2690 - accuracy: 0.9291 - val_loss: 0.2675 - val_accuracy: 0.9238 - 953ms/epoch - 5ms/step\n",
            "Epoch 30/30\n",
            "189/189 - 1s - loss: 0.2676 - accuracy: 0.9323 - val_loss: 0.2663 - val_accuracy: 0.9238 - 703ms/epoch - 4ms/step\n"
          ]
        }
      ]
    },
    {
      "cell_type": "code",
      "source": [
        "import pandas as pd\n",
        "import matplotlib.pyplot as plt"
      ],
      "metadata": {
        "id": "QyZsDXihDu3U"
      },
      "execution_count": 66,
      "outputs": []
    },
    {
      "cell_type": "code",
      "source": [
        "h_df = pd.DataFrame(hist.history)\n",
        "h_df.head()"
      ],
      "metadata": {
        "colab": {
          "base_uri": "https://localhost:8080/",
          "height": 206
        },
        "id": "jXUS0pOFBBTr",
        "outputId": "6cffad9a-8b76-4d82-db84-833a415343f9"
      },
      "execution_count": 68,
      "outputs": [
        {
          "output_type": "execute_result",
          "data": {
            "text/plain": [
              "       loss  accuracy  val_loss  val_accuracy\n",
              "0  0.668172  0.541270  0.657718      0.561905\n",
              "1  0.647506  0.587302  0.635391      0.642857\n",
              "2  0.622715  0.650794  0.603262      0.723810\n",
              "3  0.589025  0.723810  0.568891      0.771429\n",
              "4  0.556905  0.762963  0.534407      0.809524"
            ],
            "text/html": [
              "\n",
              "  <div id=\"df-ee4a577d-d6f1-4fca-b525-3ec2641e417c\" class=\"colab-df-container\">\n",
              "    <div>\n",
              "<style scoped>\n",
              "    .dataframe tbody tr th:only-of-type {\n",
              "        vertical-align: middle;\n",
              "    }\n",
              "\n",
              "    .dataframe tbody tr th {\n",
              "        vertical-align: top;\n",
              "    }\n",
              "\n",
              "    .dataframe thead th {\n",
              "        text-align: right;\n",
              "    }\n",
              "</style>\n",
              "<table border=\"1\" class=\"dataframe\">\n",
              "  <thead>\n",
              "    <tr style=\"text-align: right;\">\n",
              "      <th></th>\n",
              "      <th>loss</th>\n",
              "      <th>accuracy</th>\n",
              "      <th>val_loss</th>\n",
              "      <th>val_accuracy</th>\n",
              "    </tr>\n",
              "  </thead>\n",
              "  <tbody>\n",
              "    <tr>\n",
              "      <th>0</th>\n",
              "      <td>0.668172</td>\n",
              "      <td>0.541270</td>\n",
              "      <td>0.657718</td>\n",
              "      <td>0.561905</td>\n",
              "    </tr>\n",
              "    <tr>\n",
              "      <th>1</th>\n",
              "      <td>0.647506</td>\n",
              "      <td>0.587302</td>\n",
              "      <td>0.635391</td>\n",
              "      <td>0.642857</td>\n",
              "    </tr>\n",
              "    <tr>\n",
              "      <th>2</th>\n",
              "      <td>0.622715</td>\n",
              "      <td>0.650794</td>\n",
              "      <td>0.603262</td>\n",
              "      <td>0.723810</td>\n",
              "    </tr>\n",
              "    <tr>\n",
              "      <th>3</th>\n",
              "      <td>0.589025</td>\n",
              "      <td>0.723810</td>\n",
              "      <td>0.568891</td>\n",
              "      <td>0.771429</td>\n",
              "    </tr>\n",
              "    <tr>\n",
              "      <th>4</th>\n",
              "      <td>0.556905</td>\n",
              "      <td>0.762963</td>\n",
              "      <td>0.534407</td>\n",
              "      <td>0.809524</td>\n",
              "    </tr>\n",
              "  </tbody>\n",
              "</table>\n",
              "</div>\n",
              "    <div class=\"colab-df-buttons\">\n",
              "\n",
              "  <div class=\"colab-df-container\">\n",
              "    <button class=\"colab-df-convert\" onclick=\"convertToInteractive('df-ee4a577d-d6f1-4fca-b525-3ec2641e417c')\"\n",
              "            title=\"Convert this dataframe to an interactive table.\"\n",
              "            style=\"display:none;\">\n",
              "\n",
              "  <svg xmlns=\"http://www.w3.org/2000/svg\" height=\"24px\" viewBox=\"0 -960 960 960\">\n",
              "    <path d=\"M120-120v-720h720v720H120Zm60-500h600v-160H180v160Zm220 220h160v-160H400v160Zm0 220h160v-160H400v160ZM180-400h160v-160H180v160Zm440 0h160v-160H620v160ZM180-180h160v-160H180v160Zm440 0h160v-160H620v160Z\"/>\n",
              "  </svg>\n",
              "    </button>\n",
              "\n",
              "  <style>\n",
              "    .colab-df-container {\n",
              "      display:flex;\n",
              "      gap: 12px;\n",
              "    }\n",
              "\n",
              "    .colab-df-convert {\n",
              "      background-color: #E8F0FE;\n",
              "      border: none;\n",
              "      border-radius: 50%;\n",
              "      cursor: pointer;\n",
              "      display: none;\n",
              "      fill: #1967D2;\n",
              "      height: 32px;\n",
              "      padding: 0 0 0 0;\n",
              "      width: 32px;\n",
              "    }\n",
              "\n",
              "    .colab-df-convert:hover {\n",
              "      background-color: #E2EBFA;\n",
              "      box-shadow: 0px 1px 2px rgba(60, 64, 67, 0.3), 0px 1px 3px 1px rgba(60, 64, 67, 0.15);\n",
              "      fill: #174EA6;\n",
              "    }\n",
              "\n",
              "    .colab-df-buttons div {\n",
              "      margin-bottom: 4px;\n",
              "    }\n",
              "\n",
              "    [theme=dark] .colab-df-convert {\n",
              "      background-color: #3B4455;\n",
              "      fill: #D2E3FC;\n",
              "    }\n",
              "\n",
              "    [theme=dark] .colab-df-convert:hover {\n",
              "      background-color: #434B5C;\n",
              "      box-shadow: 0px 1px 3px 1px rgba(0, 0, 0, 0.15);\n",
              "      filter: drop-shadow(0px 1px 2px rgba(0, 0, 0, 0.3));\n",
              "      fill: #FFFFFF;\n",
              "    }\n",
              "  </style>\n",
              "\n",
              "    <script>\n",
              "      const buttonEl =\n",
              "        document.querySelector('#df-ee4a577d-d6f1-4fca-b525-3ec2641e417c button.colab-df-convert');\n",
              "      buttonEl.style.display =\n",
              "        google.colab.kernel.accessAllowed ? 'block' : 'none';\n",
              "\n",
              "      async function convertToInteractive(key) {\n",
              "        const element = document.querySelector('#df-ee4a577d-d6f1-4fca-b525-3ec2641e417c');\n",
              "        const dataTable =\n",
              "          await google.colab.kernel.invokeFunction('convertToInteractive',\n",
              "                                                    [key], {});\n",
              "        if (!dataTable) return;\n",
              "\n",
              "        const docLinkHtml = 'Like what you see? Visit the ' +\n",
              "          '<a target=\"_blank\" href=https://colab.research.google.com/notebooks/data_table.ipynb>data table notebook</a>'\n",
              "          + ' to learn more about interactive tables.';\n",
              "        element.innerHTML = '';\n",
              "        dataTable['output_type'] = 'display_data';\n",
              "        await google.colab.output.renderOutput(dataTable, element);\n",
              "        const docLink = document.createElement('div');\n",
              "        docLink.innerHTML = docLinkHtml;\n",
              "        element.appendChild(docLink);\n",
              "      }\n",
              "    </script>\n",
              "  </div>\n",
              "\n",
              "\n",
              "<div id=\"df-6631ad5f-dc24-45e5-814d-010219830281\">\n",
              "  <button class=\"colab-df-quickchart\" onclick=\"quickchart('df-6631ad5f-dc24-45e5-814d-010219830281')\"\n",
              "            title=\"Suggest charts\"\n",
              "            style=\"display:none;\">\n",
              "\n",
              "<svg xmlns=\"http://www.w3.org/2000/svg\" height=\"24px\"viewBox=\"0 0 24 24\"\n",
              "     width=\"24px\">\n",
              "    <g>\n",
              "        <path d=\"M19 3H5c-1.1 0-2 .9-2 2v14c0 1.1.9 2 2 2h14c1.1 0 2-.9 2-2V5c0-1.1-.9-2-2-2zM9 17H7v-7h2v7zm4 0h-2V7h2v10zm4 0h-2v-4h2v4z\"/>\n",
              "    </g>\n",
              "</svg>\n",
              "  </button>\n",
              "\n",
              "<style>\n",
              "  .colab-df-quickchart {\n",
              "      --bg-color: #E8F0FE;\n",
              "      --fill-color: #1967D2;\n",
              "      --hover-bg-color: #E2EBFA;\n",
              "      --hover-fill-color: #174EA6;\n",
              "      --disabled-fill-color: #AAA;\n",
              "      --disabled-bg-color: #DDD;\n",
              "  }\n",
              "\n",
              "  [theme=dark] .colab-df-quickchart {\n",
              "      --bg-color: #3B4455;\n",
              "      --fill-color: #D2E3FC;\n",
              "      --hover-bg-color: #434B5C;\n",
              "      --hover-fill-color: #FFFFFF;\n",
              "      --disabled-bg-color: #3B4455;\n",
              "      --disabled-fill-color: #666;\n",
              "  }\n",
              "\n",
              "  .colab-df-quickchart {\n",
              "    background-color: var(--bg-color);\n",
              "    border: none;\n",
              "    border-radius: 50%;\n",
              "    cursor: pointer;\n",
              "    display: none;\n",
              "    fill: var(--fill-color);\n",
              "    height: 32px;\n",
              "    padding: 0;\n",
              "    width: 32px;\n",
              "  }\n",
              "\n",
              "  .colab-df-quickchart:hover {\n",
              "    background-color: var(--hover-bg-color);\n",
              "    box-shadow: 0 1px 2px rgba(60, 64, 67, 0.3), 0 1px 3px 1px rgba(60, 64, 67, 0.15);\n",
              "    fill: var(--button-hover-fill-color);\n",
              "  }\n",
              "\n",
              "  .colab-df-quickchart-complete:disabled,\n",
              "  .colab-df-quickchart-complete:disabled:hover {\n",
              "    background-color: var(--disabled-bg-color);\n",
              "    fill: var(--disabled-fill-color);\n",
              "    box-shadow: none;\n",
              "  }\n",
              "\n",
              "  .colab-df-spinner {\n",
              "    border: 2px solid var(--fill-color);\n",
              "    border-color: transparent;\n",
              "    border-bottom-color: var(--fill-color);\n",
              "    animation:\n",
              "      spin 1s steps(1) infinite;\n",
              "  }\n",
              "\n",
              "  @keyframes spin {\n",
              "    0% {\n",
              "      border-color: transparent;\n",
              "      border-bottom-color: var(--fill-color);\n",
              "      border-left-color: var(--fill-color);\n",
              "    }\n",
              "    20% {\n",
              "      border-color: transparent;\n",
              "      border-left-color: var(--fill-color);\n",
              "      border-top-color: var(--fill-color);\n",
              "    }\n",
              "    30% {\n",
              "      border-color: transparent;\n",
              "      border-left-color: var(--fill-color);\n",
              "      border-top-color: var(--fill-color);\n",
              "      border-right-color: var(--fill-color);\n",
              "    }\n",
              "    40% {\n",
              "      border-color: transparent;\n",
              "      border-right-color: var(--fill-color);\n",
              "      border-top-color: var(--fill-color);\n",
              "    }\n",
              "    60% {\n",
              "      border-color: transparent;\n",
              "      border-right-color: var(--fill-color);\n",
              "    }\n",
              "    80% {\n",
              "      border-color: transparent;\n",
              "      border-right-color: var(--fill-color);\n",
              "      border-bottom-color: var(--fill-color);\n",
              "    }\n",
              "    90% {\n",
              "      border-color: transparent;\n",
              "      border-bottom-color: var(--fill-color);\n",
              "    }\n",
              "  }\n",
              "</style>\n",
              "\n",
              "  <script>\n",
              "    async function quickchart(key) {\n",
              "      const quickchartButtonEl =\n",
              "        document.querySelector('#' + key + ' button');\n",
              "      quickchartButtonEl.disabled = true;  // To prevent multiple clicks.\n",
              "      quickchartButtonEl.classList.add('colab-df-spinner');\n",
              "      try {\n",
              "        const charts = await google.colab.kernel.invokeFunction(\n",
              "            'suggestCharts', [key], {});\n",
              "      } catch (error) {\n",
              "        console.error('Error during call to suggestCharts:', error);\n",
              "      }\n",
              "      quickchartButtonEl.classList.remove('colab-df-spinner');\n",
              "      quickchartButtonEl.classList.add('colab-df-quickchart-complete');\n",
              "    }\n",
              "    (() => {\n",
              "      let quickchartButtonEl =\n",
              "        document.querySelector('#df-6631ad5f-dc24-45e5-814d-010219830281 button');\n",
              "      quickchartButtonEl.style.display =\n",
              "        google.colab.kernel.accessAllowed ? 'block' : 'none';\n",
              "    })();\n",
              "  </script>\n",
              "</div>\n",
              "    </div>\n",
              "  </div>\n"
            ]
          },
          "metadata": {},
          "execution_count": 68
        }
      ]
    },
    {
      "cell_type": "code",
      "source": [
        "h_df.loc[:, ['accuracy', 'val_accuracy']].plot();"
      ],
      "metadata": {
        "colab": {
          "base_uri": "https://localhost:8080/",
          "height": 434
        },
        "id": "siXXNGo_D8on",
        "outputId": "4db50158-6433-4124-ce95-b22a6ebb2db9"
      },
      "execution_count": 70,
      "outputs": [
        {
          "output_type": "display_data",
          "data": {
            "text/plain": [
              "<Figure size 640x480 with 1 Axes>"
            ],
            "image/png": "[encoded data removed]"
          },
          "metadata": {}
        }
      ]
    },
    {
      "cell_type": "code",
      "source": [
        "h_df.loc[:, ['loss', 'val_loss']].plot();"
      ],
      "metadata": {
        "colab": {
          "base_uri": "https://localhost:8080/",
          "height": 430
        },
        "id": "d707d6nyEF4J",
        "outputId": "0d63bf4e-ad86-4cbe-fda4-6ded976f2ea0"
      },
      "execution_count": 71,
      "outputs": [
        {
          "output_type": "display_data",
          "data": {
            "text/plain": [
              "<Figure size 640x480 with 1 Axes>"
            ],
            "image/png": "[encoded data removed]"
          },
          "metadata": {}
        }
      ]
    }
  ]
}