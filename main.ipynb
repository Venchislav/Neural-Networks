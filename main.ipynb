{
 "cells": [
  {
   "cell_type": "code",
   "execution_count": 1228,
   "metadata": {},
   "outputs": [],
   "source": [
    "import pandas as pd\n",
    "import numpy as np\n",
    "import warnings"
   ]
  },
  {
   "cell_type": "code",
   "execution_count": 1229,
   "metadata": {},
   "outputs": [],
   "source": [
    "warnings.filterwarnings('ignore')"
   ]
  },
  {
   "cell_type": "code",
   "execution_count": 1230,
   "metadata": {},
   "outputs": [
    {
     "data": {
      "text/html": [
       "<div>\n",
       "<style scoped>\n",
       "    .dataframe tbody tr th:only-of-type {\n",
       "        vertical-align: middle;\n",
       "    }\n",
       "\n",
       "    .dataframe tbody tr th {\n",
       "        vertical-align: top;\n",
       "    }\n",
       "\n",
       "    .dataframe thead th {\n",
       "        text-align: right;\n",
       "    }\n",
       "</style>\n",
       "<table border=\"1\" class=\"dataframe\">\n",
       "  <thead>\n",
       "    <tr style=\"text-align: right;\">\n",
       "      <th></th>\n",
       "      <th>id</th>\n",
       "      <th>gender</th>\n",
       "      <th>age</th>\n",
       "      <th>hypertension</th>\n",
       "      <th>heart_disease</th>\n",
       "      <th>ever_married</th>\n",
       "      <th>work_type</th>\n",
       "      <th>Residence_type</th>\n",
       "      <th>avg_glucose_level</th>\n",
       "      <th>bmi</th>\n",
       "      <th>smoking_status</th>\n",
       "      <th>stroke</th>\n",
       "    </tr>\n",
       "  </thead>\n",
       "  <tbody>\n",
       "    <tr>\n",
       "      <th>0</th>\n",
       "      <td>9046</td>\n",
       "      <td>Male</td>\n",
       "      <td>67.0</td>\n",
       "      <td>0</td>\n",
       "      <td>1</td>\n",
       "      <td>Yes</td>\n",
       "      <td>Private</td>\n",
       "      <td>Urban</td>\n",
       "      <td>228.69</td>\n",
       "      <td>36.6</td>\n",
       "      <td>formerly smoked</td>\n",
       "      <td>1</td>\n",
       "    </tr>\n",
       "    <tr>\n",
       "      <th>1</th>\n",
       "      <td>51676</td>\n",
       "      <td>Female</td>\n",
       "      <td>61.0</td>\n",
       "      <td>0</td>\n",
       "      <td>0</td>\n",
       "      <td>Yes</td>\n",
       "      <td>Self-employed</td>\n",
       "      <td>Rural</td>\n",
       "      <td>202.21</td>\n",
       "      <td>NaN</td>\n",
       "      <td>never smoked</td>\n",
       "      <td>1</td>\n",
       "    </tr>\n",
       "    <tr>\n",
       "      <th>2</th>\n",
       "      <td>31112</td>\n",
       "      <td>Male</td>\n",
       "      <td>80.0</td>\n",
       "      <td>0</td>\n",
       "      <td>1</td>\n",
       "      <td>Yes</td>\n",
       "      <td>Private</td>\n",
       "      <td>Rural</td>\n",
       "      <td>105.92</td>\n",
       "      <td>32.5</td>\n",
       "      <td>never smoked</td>\n",
       "      <td>1</td>\n",
       "    </tr>\n",
       "    <tr>\n",
       "      <th>3</th>\n",
       "      <td>60182</td>\n",
       "      <td>Female</td>\n",
       "      <td>49.0</td>\n",
       "      <td>0</td>\n",
       "      <td>0</td>\n",
       "      <td>Yes</td>\n",
       "      <td>Private</td>\n",
       "      <td>Urban</td>\n",
       "      <td>171.23</td>\n",
       "      <td>34.4</td>\n",
       "      <td>smokes</td>\n",
       "      <td>1</td>\n",
       "    </tr>\n",
       "    <tr>\n",
       "      <th>4</th>\n",
       "      <td>1665</td>\n",
       "      <td>Female</td>\n",
       "      <td>79.0</td>\n",
       "      <td>1</td>\n",
       "      <td>0</td>\n",
       "      <td>Yes</td>\n",
       "      <td>Self-employed</td>\n",
       "      <td>Rural</td>\n",
       "      <td>174.12</td>\n",
       "      <td>24.0</td>\n",
       "      <td>never smoked</td>\n",
       "      <td>1</td>\n",
       "    </tr>\n",
       "  </tbody>\n",
       "</table>\n",
       "</div>"
      ],
      "text/plain": [
       "      id  gender   age  hypertension  heart_disease ever_married  \\\n",
       "0   9046    Male  67.0             0              1          Yes   \n",
       "1  51676  Female  61.0             0              0          Yes   \n",
       "2  31112    Male  80.0             0              1          Yes   \n",
       "3  60182  Female  49.0             0              0          Yes   \n",
       "4   1665  Female  79.0             1              0          Yes   \n",
       "\n",
       "       work_type Residence_type  avg_glucose_level   bmi   smoking_status  \\\n",
       "0        Private          Urban             228.69  36.6  formerly smoked   \n",
       "1  Self-employed          Rural             202.21   NaN     never smoked   \n",
       "2        Private          Rural             105.92  32.5     never smoked   \n",
       "3        Private          Urban             171.23  34.4           smokes   \n",
       "4  Self-employed          Rural             174.12  24.0     never smoked   \n",
       "\n",
       "   stroke  \n",
       "0       1  \n",
       "1       1  \n",
       "2       1  \n",
       "3       1  \n",
       "4       1  "
      ]
     },
     "execution_count": 1230,
     "metadata": {},
     "output_type": "execute_result"
    }
   ],
   "source": [
    "df = pd.read_csv('healthcare-dataset-stroke-data.csv')\n",
    "df.head()"
   ]
  },
  {
   "cell_type": "code",
   "execution_count": 1231,
   "metadata": {},
   "outputs": [
    {
     "data": {
      "text/plain": [
       "(5110, 12)"
      ]
     },
     "execution_count": 1231,
     "metadata": {},
     "output_type": "execute_result"
    }
   ],
   "source": [
    "df.shape"
   ]
  },
  {
   "cell_type": "code",
   "execution_count": 1232,
   "metadata": {},
   "outputs": [
    {
     "data": {
      "text/plain": [
       "id                     0\n",
       "gender                 0\n",
       "age                    0\n",
       "hypertension           0\n",
       "heart_disease          0\n",
       "ever_married           0\n",
       "work_type              0\n",
       "Residence_type         0\n",
       "avg_glucose_level      0\n",
       "bmi                  201\n",
       "smoking_status         0\n",
       "stroke                 0\n",
       "dtype: int64"
      ]
     },
     "execution_count": 1232,
     "metadata": {},
     "output_type": "execute_result"
    }
   ],
   "source": [
    "df.isnull().sum()"
   ]
  },
  {
   "cell_type": "code",
   "execution_count": 1233,
   "metadata": {},
   "outputs": [],
   "source": [
    "df['bmi'] = df['bmi'].fillna(df['bmi'].mean())"
   ]
  },
  {
   "cell_type": "code",
   "execution_count": 1234,
   "metadata": {},
   "outputs": [
    {
     "data": {
      "text/plain": [
       "0"
      ]
     },
     "execution_count": 1234,
     "metadata": {},
     "output_type": "execute_result"
    }
   ],
   "source": [
    "df.isnull().sum().sum()"
   ]
  },
  {
   "cell_type": "code",
   "execution_count": 1235,
   "metadata": {},
   "outputs": [],
   "source": [
    "df = df.drop('id', axis=1)"
   ]
  },
  {
   "cell_type": "code",
   "execution_count": 1236,
   "metadata": {},
   "outputs": [
    {
     "data": {
      "text/html": [
       "<div>\n",
       "<style scoped>\n",
       "    .dataframe tbody tr th:only-of-type {\n",
       "        vertical-align: middle;\n",
       "    }\n",
       "\n",
       "    .dataframe tbody tr th {\n",
       "        vertical-align: top;\n",
       "    }\n",
       "\n",
       "    .dataframe thead th {\n",
       "        text-align: right;\n",
       "    }\n",
       "</style>\n",
       "<table border=\"1\" class=\"dataframe\">\n",
       "  <thead>\n",
       "    <tr style=\"text-align: right;\">\n",
       "      <th></th>\n",
       "      <th>gender</th>\n",
       "      <th>age</th>\n",
       "      <th>hypertension</th>\n",
       "      <th>heart_disease</th>\n",
       "      <th>ever_married</th>\n",
       "      <th>work_type</th>\n",
       "      <th>Residence_type</th>\n",
       "      <th>avg_glucose_level</th>\n",
       "      <th>bmi</th>\n",
       "      <th>smoking_status</th>\n",
       "      <th>stroke</th>\n",
       "    </tr>\n",
       "  </thead>\n",
       "  <tbody>\n",
       "    <tr>\n",
       "      <th>0</th>\n",
       "      <td>Male</td>\n",
       "      <td>67.0</td>\n",
       "      <td>0</td>\n",
       "      <td>1</td>\n",
       "      <td>Yes</td>\n",
       "      <td>Private</td>\n",
       "      <td>Urban</td>\n",
       "      <td>228.69</td>\n",
       "      <td>36.600000</td>\n",
       "      <td>formerly smoked</td>\n",
       "      <td>1</td>\n",
       "    </tr>\n",
       "    <tr>\n",
       "      <th>1</th>\n",
       "      <td>Female</td>\n",
       "      <td>61.0</td>\n",
       "      <td>0</td>\n",
       "      <td>0</td>\n",
       "      <td>Yes</td>\n",
       "      <td>Self-employed</td>\n",
       "      <td>Rural</td>\n",
       "      <td>202.21</td>\n",
       "      <td>28.893237</td>\n",
       "      <td>never smoked</td>\n",
       "      <td>1</td>\n",
       "    </tr>\n",
       "    <tr>\n",
       "      <th>2</th>\n",
       "      <td>Male</td>\n",
       "      <td>80.0</td>\n",
       "      <td>0</td>\n",
       "      <td>1</td>\n",
       "      <td>Yes</td>\n",
       "      <td>Private</td>\n",
       "      <td>Rural</td>\n",
       "      <td>105.92</td>\n",
       "      <td>32.500000</td>\n",
       "      <td>never smoked</td>\n",
       "      <td>1</td>\n",
       "    </tr>\n",
       "    <tr>\n",
       "      <th>3</th>\n",
       "      <td>Female</td>\n",
       "      <td>49.0</td>\n",
       "      <td>0</td>\n",
       "      <td>0</td>\n",
       "      <td>Yes</td>\n",
       "      <td>Private</td>\n",
       "      <td>Urban</td>\n",
       "      <td>171.23</td>\n",
       "      <td>34.400000</td>\n",
       "      <td>smokes</td>\n",
       "      <td>1</td>\n",
       "    </tr>\n",
       "    <tr>\n",
       "      <th>4</th>\n",
       "      <td>Female</td>\n",
       "      <td>79.0</td>\n",
       "      <td>1</td>\n",
       "      <td>0</td>\n",
       "      <td>Yes</td>\n",
       "      <td>Self-employed</td>\n",
       "      <td>Rural</td>\n",
       "      <td>174.12</td>\n",
       "      <td>24.000000</td>\n",
       "      <td>never smoked</td>\n",
       "      <td>1</td>\n",
       "    </tr>\n",
       "  </tbody>\n",
       "</table>\n",
       "</div>"
      ],
      "text/plain": [
       "   gender   age  hypertension  heart_disease ever_married      work_type  \\\n",
       "0    Male  67.0             0              1          Yes        Private   \n",
       "1  Female  61.0             0              0          Yes  Self-employed   \n",
       "2    Male  80.0             0              1          Yes        Private   \n",
       "3  Female  49.0             0              0          Yes        Private   \n",
       "4  Female  79.0             1              0          Yes  Self-employed   \n",
       "\n",
       "  Residence_type  avg_glucose_level        bmi   smoking_status  stroke  \n",
       "0          Urban             228.69  36.600000  formerly smoked       1  \n",
       "1          Rural             202.21  28.893237     never smoked       1  \n",
       "2          Rural             105.92  32.500000     never smoked       1  \n",
       "3          Urban             171.23  34.400000           smokes       1  \n",
       "4          Rural             174.12  24.000000     never smoked       1  "
      ]
     },
     "execution_count": 1236,
     "metadata": {},
     "output_type": "execute_result"
    }
   ],
   "source": [
    "df.head()"
   ]
  },
  {
   "cell_type": "code",
   "execution_count": 1237,
   "metadata": {},
   "outputs": [
    {
     "data": {
      "text/plain": [
       "gender\n",
       "Female    2994\n",
       "Male      2115\n",
       "Other        1\n",
       "Name: count, dtype: int64"
      ]
     },
     "execution_count": 1237,
     "metadata": {},
     "output_type": "execute_result"
    }
   ],
   "source": [
    "df['gender'].value_counts()"
   ]
  },
  {
   "cell_type": "code",
   "execution_count": 1238,
   "metadata": {},
   "outputs": [],
   "source": [
    "df = df[df['gender'] != 'Other']"
   ]
  },
  {
   "cell_type": "code",
   "execution_count": 1239,
   "metadata": {},
   "outputs": [
    {
     "data": {
      "text/plain": [
       "dtype('O')"
      ]
     },
     "execution_count": 1239,
     "metadata": {},
     "output_type": "execute_result"
    }
   ],
   "source": [
    "df['gender'].dtype"
   ]
  },
  {
   "cell_type": "code",
   "execution_count": 1240,
   "metadata": {},
   "outputs": [],
   "source": [
    "from sklearn.preprocessing import LabelEncoder"
   ]
  },
  {
   "cell_type": "code",
   "execution_count": 1241,
   "metadata": {},
   "outputs": [],
   "source": [
    "enc = LabelEncoder()"
   ]
  },
  {
   "cell_type": "code",
   "execution_count": 1242,
   "metadata": {},
   "outputs": [],
   "source": [
    "for c in df.columns:\n",
    "    if df[c].dtype == 'O':\n",
    "        df[c] = enc.fit_transform(df[c])"
   ]
  },
  {
   "cell_type": "code",
   "execution_count": 1243,
   "metadata": {},
   "outputs": [
    {
     "data": {
      "text/html": [
       "<div>\n",
       "<style scoped>\n",
       "    .dataframe tbody tr th:only-of-type {\n",
       "        vertical-align: middle;\n",
       "    }\n",
       "\n",
       "    .dataframe tbody tr th {\n",
       "        vertical-align: top;\n",
       "    }\n",
       "\n",
       "    .dataframe thead th {\n",
       "        text-align: right;\n",
       "    }\n",
       "</style>\n",
       "<table border=\"1\" class=\"dataframe\">\n",
       "  <thead>\n",
       "    <tr style=\"text-align: right;\">\n",
       "      <th></th>\n",
       "      <th>gender</th>\n",
       "      <th>age</th>\n",
       "      <th>hypertension</th>\n",
       "      <th>heart_disease</th>\n",
       "      <th>ever_married</th>\n",
       "      <th>work_type</th>\n",
       "      <th>Residence_type</th>\n",
       "      <th>avg_glucose_level</th>\n",
       "      <th>bmi</th>\n",
       "      <th>smoking_status</th>\n",
       "      <th>stroke</th>\n",
       "    </tr>\n",
       "  </thead>\n",
       "  <tbody>\n",
       "    <tr>\n",
       "      <th>0</th>\n",
       "      <td>1</td>\n",
       "      <td>67.0</td>\n",
       "      <td>0</td>\n",
       "      <td>1</td>\n",
       "      <td>1</td>\n",
       "      <td>2</td>\n",
       "      <td>1</td>\n",
       "      <td>228.69</td>\n",
       "      <td>36.600000</td>\n",
       "      <td>1</td>\n",
       "      <td>1</td>\n",
       "    </tr>\n",
       "    <tr>\n",
       "      <th>1</th>\n",
       "      <td>0</td>\n",
       "      <td>61.0</td>\n",
       "      <td>0</td>\n",
       "      <td>0</td>\n",
       "      <td>1</td>\n",
       "      <td>3</td>\n",
       "      <td>0</td>\n",
       "      <td>202.21</td>\n",
       "      <td>28.893237</td>\n",
       "      <td>2</td>\n",
       "      <td>1</td>\n",
       "    </tr>\n",
       "    <tr>\n",
       "      <th>2</th>\n",
       "      <td>1</td>\n",
       "      <td>80.0</td>\n",
       "      <td>0</td>\n",
       "      <td>1</td>\n",
       "      <td>1</td>\n",
       "      <td>2</td>\n",
       "      <td>0</td>\n",
       "      <td>105.92</td>\n",
       "      <td>32.500000</td>\n",
       "      <td>2</td>\n",
       "      <td>1</td>\n",
       "    </tr>\n",
       "    <tr>\n",
       "      <th>3</th>\n",
       "      <td>0</td>\n",
       "      <td>49.0</td>\n",
       "      <td>0</td>\n",
       "      <td>0</td>\n",
       "      <td>1</td>\n",
       "      <td>2</td>\n",
       "      <td>1</td>\n",
       "      <td>171.23</td>\n",
       "      <td>34.400000</td>\n",
       "      <td>3</td>\n",
       "      <td>1</td>\n",
       "    </tr>\n",
       "    <tr>\n",
       "      <th>4</th>\n",
       "      <td>0</td>\n",
       "      <td>79.0</td>\n",
       "      <td>1</td>\n",
       "      <td>0</td>\n",
       "      <td>1</td>\n",
       "      <td>3</td>\n",
       "      <td>0</td>\n",
       "      <td>174.12</td>\n",
       "      <td>24.000000</td>\n",
       "      <td>2</td>\n",
       "      <td>1</td>\n",
       "    </tr>\n",
       "  </tbody>\n",
       "</table>\n",
       "</div>"
      ],
      "text/plain": [
       "   gender   age  hypertension  heart_disease  ever_married  work_type  \\\n",
       "0       1  67.0             0              1             1          2   \n",
       "1       0  61.0             0              0             1          3   \n",
       "2       1  80.0             0              1             1          2   \n",
       "3       0  49.0             0              0             1          2   \n",
       "4       0  79.0             1              0             1          3   \n",
       "\n",
       "   Residence_type  avg_glucose_level        bmi  smoking_status  stroke  \n",
       "0               1             228.69  36.600000               1       1  \n",
       "1               0             202.21  28.893237               2       1  \n",
       "2               0             105.92  32.500000               2       1  \n",
       "3               1             171.23  34.400000               3       1  \n",
       "4               0             174.12  24.000000               2       1  "
      ]
     },
     "execution_count": 1243,
     "metadata": {},
     "output_type": "execute_result"
    }
   ],
   "source": [
    "df.head()"
   ]
  },
  {
   "cell_type": "code",
   "execution_count": 1244,
   "metadata": {},
   "outputs": [
    {
     "data": {
      "text/plain": [
       "gender\n",
       "0    2994\n",
       "1    2115\n",
       "Name: count, dtype: int64"
      ]
     },
     "execution_count": 1244,
     "metadata": {},
     "output_type": "execute_result"
    }
   ],
   "source": [
    "df['gender'].value_counts()"
   ]
  },
  {
   "cell_type": "code",
   "execution_count": 1245,
   "metadata": {},
   "outputs": [],
   "source": [
    "from sklearn.preprocessing import MinMaxScaler"
   ]
  },
  {
   "cell_type": "code",
   "execution_count": 1246,
   "metadata": {},
   "outputs": [],
   "source": [
    "scaler = MinMaxScaler((0, 1))"
   ]
  },
  {
   "cell_type": "code",
   "execution_count": 1247,
   "metadata": {},
   "outputs": [],
   "source": [
    "X = df.drop('stroke', axis=1)\n",
    "y = df['stroke']"
   ]
  },
  {
   "cell_type": "code",
   "execution_count": 1248,
   "metadata": {},
   "outputs": [],
   "source": [
    "cols = X.columns\n",
    "X = scaler.fit_transform(X)\n",
    "X = pd.DataFrame(X, columns=cols)"
   ]
  },
  {
   "cell_type": "code",
   "execution_count": 1249,
   "metadata": {},
   "outputs": [
    {
     "data": {
      "text/html": [
       "<div>\n",
       "<style scoped>\n",
       "    .dataframe tbody tr th:only-of-type {\n",
       "        vertical-align: middle;\n",
       "    }\n",
       "\n",
       "    .dataframe tbody tr th {\n",
       "        vertical-align: top;\n",
       "    }\n",
       "\n",
       "    .dataframe thead th {\n",
       "        text-align: right;\n",
       "    }\n",
       "</style>\n",
       "<table border=\"1\" class=\"dataframe\">\n",
       "  <thead>\n",
       "    <tr style=\"text-align: right;\">\n",
       "      <th></th>\n",
       "      <th>gender</th>\n",
       "      <th>age</th>\n",
       "      <th>hypertension</th>\n",
       "      <th>heart_disease</th>\n",
       "      <th>ever_married</th>\n",
       "      <th>work_type</th>\n",
       "      <th>Residence_type</th>\n",
       "      <th>avg_glucose_level</th>\n",
       "      <th>bmi</th>\n",
       "      <th>smoking_status</th>\n",
       "    </tr>\n",
       "  </thead>\n",
       "  <tbody>\n",
       "    <tr>\n",
       "      <th>0</th>\n",
       "      <td>1.0</td>\n",
       "      <td>0.816895</td>\n",
       "      <td>0.0</td>\n",
       "      <td>1.0</td>\n",
       "      <td>1.0</td>\n",
       "      <td>0.50</td>\n",
       "      <td>1.0</td>\n",
       "      <td>0.801265</td>\n",
       "      <td>0.301260</td>\n",
       "      <td>0.333333</td>\n",
       "    </tr>\n",
       "    <tr>\n",
       "      <th>1</th>\n",
       "      <td>0.0</td>\n",
       "      <td>0.743652</td>\n",
       "      <td>0.0</td>\n",
       "      <td>0.0</td>\n",
       "      <td>1.0</td>\n",
       "      <td>0.75</td>\n",
       "      <td>0.0</td>\n",
       "      <td>0.679023</td>\n",
       "      <td>0.212981</td>\n",
       "      <td>0.666667</td>\n",
       "    </tr>\n",
       "    <tr>\n",
       "      <th>2</th>\n",
       "      <td>1.0</td>\n",
       "      <td>0.975586</td>\n",
       "      <td>0.0</td>\n",
       "      <td>1.0</td>\n",
       "      <td>1.0</td>\n",
       "      <td>0.50</td>\n",
       "      <td>0.0</td>\n",
       "      <td>0.234512</td>\n",
       "      <td>0.254296</td>\n",
       "      <td>0.666667</td>\n",
       "    </tr>\n",
       "    <tr>\n",
       "      <th>3</th>\n",
       "      <td>0.0</td>\n",
       "      <td>0.597168</td>\n",
       "      <td>0.0</td>\n",
       "      <td>0.0</td>\n",
       "      <td>1.0</td>\n",
       "      <td>0.50</td>\n",
       "      <td>1.0</td>\n",
       "      <td>0.536008</td>\n",
       "      <td>0.276060</td>\n",
       "      <td>1.000000</td>\n",
       "    </tr>\n",
       "    <tr>\n",
       "      <th>4</th>\n",
       "      <td>0.0</td>\n",
       "      <td>0.963379</td>\n",
       "      <td>1.0</td>\n",
       "      <td>0.0</td>\n",
       "      <td>1.0</td>\n",
       "      <td>0.75</td>\n",
       "      <td>0.0</td>\n",
       "      <td>0.549349</td>\n",
       "      <td>0.156930</td>\n",
       "      <td>0.666667</td>\n",
       "    </tr>\n",
       "  </tbody>\n",
       "</table>\n",
       "</div>"
      ],
      "text/plain": [
       "   gender       age  hypertension  heart_disease  ever_married  work_type  \\\n",
       "0     1.0  0.816895           0.0            1.0           1.0       0.50   \n",
       "1     0.0  0.743652           0.0            0.0           1.0       0.75   \n",
       "2     1.0  0.975586           0.0            1.0           1.0       0.50   \n",
       "3     0.0  0.597168           0.0            0.0           1.0       0.50   \n",
       "4     0.0  0.963379           1.0            0.0           1.0       0.75   \n",
       "\n",
       "   Residence_type  avg_glucose_level       bmi  smoking_status  \n",
       "0             1.0           0.801265  0.301260        0.333333  \n",
       "1             0.0           0.679023  0.212981        0.666667  \n",
       "2             0.0           0.234512  0.254296        0.666667  \n",
       "3             1.0           0.536008  0.276060        1.000000  \n",
       "4             0.0           0.549349  0.156930        0.666667  "
      ]
     },
     "execution_count": 1249,
     "metadata": {},
     "output_type": "execute_result"
    }
   ],
   "source": [
    "X.head()"
   ]
  },
  {
   "cell_type": "code",
   "execution_count": 1250,
   "metadata": {},
   "outputs": [],
   "source": [
    "from imblearn.over_sampling import RandomOverSampler"
   ]
  },
  {
   "cell_type": "code",
   "execution_count": 1251,
   "metadata": {},
   "outputs": [],
   "source": [
    "ROS = RandomOverSampler()"
   ]
  },
  {
   "cell_type": "code",
   "execution_count": 1252,
   "metadata": {},
   "outputs": [],
   "source": [
    "X, y = ROS.fit_resample(X, y)"
   ]
  },
  {
   "cell_type": "code",
   "execution_count": 1253,
   "metadata": {},
   "outputs": [
    {
     "data": {
      "text/plain": [
       "(9720, 10)"
      ]
     },
     "execution_count": 1253,
     "metadata": {},
     "output_type": "execute_result"
    }
   ],
   "source": [
    "X.shape"
   ]
  },
  {
   "cell_type": "code",
   "execution_count": 1254,
   "metadata": {},
   "outputs": [
    {
     "data": {
      "text/plain": [
       "(9720,)"
      ]
     },
     "execution_count": 1254,
     "metadata": {},
     "output_type": "execute_result"
    }
   ],
   "source": [
    "y.shape"
   ]
  },
  {
   "cell_type": "code",
   "execution_count": 1255,
   "metadata": {},
   "outputs": [
    {
     "data": {
      "text/html": [
       "<div>\n",
       "<style scoped>\n",
       "    .dataframe tbody tr th:only-of-type {\n",
       "        vertical-align: middle;\n",
       "    }\n",
       "\n",
       "    .dataframe tbody tr th {\n",
       "        vertical-align: top;\n",
       "    }\n",
       "\n",
       "    .dataframe thead th {\n",
       "        text-align: right;\n",
       "    }\n",
       "</style>\n",
       "<table border=\"1\" class=\"dataframe\">\n",
       "  <thead>\n",
       "    <tr style=\"text-align: right;\">\n",
       "      <th></th>\n",
       "      <th>gender</th>\n",
       "      <th>age</th>\n",
       "      <th>hypertension</th>\n",
       "      <th>heart_disease</th>\n",
       "      <th>ever_married</th>\n",
       "      <th>work_type</th>\n",
       "      <th>Residence_type</th>\n",
       "      <th>avg_glucose_level</th>\n",
       "      <th>bmi</th>\n",
       "      <th>smoking_status</th>\n",
       "    </tr>\n",
       "  </thead>\n",
       "  <tbody>\n",
       "    <tr>\n",
       "      <th>0</th>\n",
       "      <td>1.0</td>\n",
       "      <td>0.816895</td>\n",
       "      <td>0.0</td>\n",
       "      <td>1.0</td>\n",
       "      <td>1.0</td>\n",
       "      <td>0.50</td>\n",
       "      <td>1.0</td>\n",
       "      <td>0.801265</td>\n",
       "      <td>0.301260</td>\n",
       "      <td>0.333333</td>\n",
       "    </tr>\n",
       "    <tr>\n",
       "      <th>1</th>\n",
       "      <td>0.0</td>\n",
       "      <td>0.743652</td>\n",
       "      <td>0.0</td>\n",
       "      <td>0.0</td>\n",
       "      <td>1.0</td>\n",
       "      <td>0.75</td>\n",
       "      <td>0.0</td>\n",
       "      <td>0.679023</td>\n",
       "      <td>0.212981</td>\n",
       "      <td>0.666667</td>\n",
       "    </tr>\n",
       "    <tr>\n",
       "      <th>2</th>\n",
       "      <td>1.0</td>\n",
       "      <td>0.975586</td>\n",
       "      <td>0.0</td>\n",
       "      <td>1.0</td>\n",
       "      <td>1.0</td>\n",
       "      <td>0.50</td>\n",
       "      <td>0.0</td>\n",
       "      <td>0.234512</td>\n",
       "      <td>0.254296</td>\n",
       "      <td>0.666667</td>\n",
       "    </tr>\n",
       "    <tr>\n",
       "      <th>3</th>\n",
       "      <td>0.0</td>\n",
       "      <td>0.597168</td>\n",
       "      <td>0.0</td>\n",
       "      <td>0.0</td>\n",
       "      <td>1.0</td>\n",
       "      <td>0.50</td>\n",
       "      <td>1.0</td>\n",
       "      <td>0.536008</td>\n",
       "      <td>0.276060</td>\n",
       "      <td>1.000000</td>\n",
       "    </tr>\n",
       "    <tr>\n",
       "      <th>4</th>\n",
       "      <td>0.0</td>\n",
       "      <td>0.963379</td>\n",
       "      <td>1.0</td>\n",
       "      <td>0.0</td>\n",
       "      <td>1.0</td>\n",
       "      <td>0.75</td>\n",
       "      <td>0.0</td>\n",
       "      <td>0.549349</td>\n",
       "      <td>0.156930</td>\n",
       "      <td>0.666667</td>\n",
       "    </tr>\n",
       "  </tbody>\n",
       "</table>\n",
       "</div>"
      ],
      "text/plain": [
       "   gender       age  hypertension  heart_disease  ever_married  work_type  \\\n",
       "0     1.0  0.816895           0.0            1.0           1.0       0.50   \n",
       "1     0.0  0.743652           0.0            0.0           1.0       0.75   \n",
       "2     1.0  0.975586           0.0            1.0           1.0       0.50   \n",
       "3     0.0  0.597168           0.0            0.0           1.0       0.50   \n",
       "4     0.0  0.963379           1.0            0.0           1.0       0.75   \n",
       "\n",
       "   Residence_type  avg_glucose_level       bmi  smoking_status  \n",
       "0             1.0           0.801265  0.301260        0.333333  \n",
       "1             0.0           0.679023  0.212981        0.666667  \n",
       "2             0.0           0.234512  0.254296        0.666667  \n",
       "3             1.0           0.536008  0.276060        1.000000  \n",
       "4             0.0           0.549349  0.156930        0.666667  "
      ]
     },
     "execution_count": 1255,
     "metadata": {},
     "output_type": "execute_result"
    }
   ],
   "source": [
    "X.head()"
   ]
  },
  {
   "cell_type": "code",
   "execution_count": 1256,
   "metadata": {},
   "outputs": [],
   "source": [
    "import matplotlib.pyplot as plt\n",
    "import seaborn as sns"
   ]
  },
  {
   "cell_type": "code",
   "execution_count": 1257,
   "metadata": {},
   "outputs": [
    {
     "data": {
      "image/png": "[encoded data removed]",
      "text/plain": [
       "<Figure size 640x480 with 1 Axes>"
      ]
     },
     "metadata": {},
     "output_type": "display_data"
    }
   ],
   "source": [
    "sns.distplot(y);"
   ]
  },
  {
   "cell_type": "code",
   "execution_count": 1258,
   "metadata": {},
   "outputs": [],
   "source": [
    "from sklearn.utils import shuffle"
   ]
  },
  {
   "cell_type": "code",
   "execution_count": 1259,
   "metadata": {},
   "outputs": [],
   "source": [
    "X, y = shuffle(X, y)"
   ]
  },
  {
   "cell_type": "code",
   "execution_count": 1260,
   "metadata": {},
   "outputs": [],
   "source": [
    "from sklearn.model_selection import train_test_split"
   ]
  },
  {
   "cell_type": "code",
   "execution_count": 1261,
   "metadata": {},
   "outputs": [],
   "source": [
    "X_train, X_test, y_train, y_test = train_test_split(X, y, test_size=0.2)"
   ]
  },
  {
   "cell_type": "code",
   "execution_count": 1262,
   "metadata": {},
   "outputs": [
    {
     "name": "stdout",
     "output_type": "stream",
     "text": [
      "(7776, 10) ---------- (7776,)\n",
      "============================================================\n",
      "(1944, 10) ---------- (1944,)\n"
     ]
    }
   ],
   "source": [
    "print(X_train.shape, '-' * 10, y_train.shape)\n",
    "print('=' * 60)\n",
    "print(X_test.shape, '-' * 10, y_test.shape)"
   ]
  },
  {
   "cell_type": "code",
   "execution_count": 1263,
   "metadata": {},
   "outputs": [
    {
     "name": "stdout",
     "output_type": "stream",
     "text": [
      "[10]\n"
     ]
    }
   ],
   "source": [
    "inp_shape = [X.shape[1]]\n",
    "print(inp_shape)"
   ]
  },
  {
   "cell_type": "code",
   "execution_count": 1264,
   "metadata": {},
   "outputs": [],
   "source": [
    "from tensorflow import keras\n",
    "from tensorflow.keras import layers\n",
    "from tensorflow.keras.models import Sequential"
   ]
  },
  {
   "cell_type": "code",
   "execution_count": 1265,
   "metadata": {},
   "outputs": [],
   "source": [
    "model = Sequential([\n",
    "    layers.Dense(units=16, activation='relu', input_shape=inp_shape),\n",
    "    layers.Dropout(0.2),\n",
    "    layers.Dense(units=16, activation='relu'),\n",
    "    layers.Dropout(0.2),\n",
    "    layers.Dense(units=2, activation='sigmoid')\n",
    "])"
   ]
  },
  {
   "cell_type": "code",
   "execution_count": 1266,
   "metadata": {},
   "outputs": [],
   "source": [
    "model.compile(\n",
    "    optimizer='adam',\n",
    "    loss='sparse_categorical_crossentropy',\n",
    "    metrics=['accuracy']\n",
    ")"
   ]
  },
  {
   "cell_type": "code",
   "execution_count": 1267,
   "metadata": {},
   "outputs": [
    {
     "name": "stdout",
     "output_type": "stream",
     "text": [
      "Epoch 1/200\n",
      "25/25 - 1s - loss: 0.6782 - accuracy: 0.5334 - val_loss: 0.6604 - val_accuracy: 0.6028 - 559ms/epoch - 22ms/step\n",
      "Epoch 2/200\n",
      "25/25 - 0s - loss: 0.6609 - accuracy: 0.6109 - val_loss: 0.6437 - val_accuracy: 0.6819 - 51ms/epoch - 2ms/step\n",
      "Epoch 3/200\n",
      "25/25 - 0s - loss: 0.6461 - accuracy: 0.6481 - val_loss: 0.6216 - val_accuracy: 0.7204 - 48ms/epoch - 2ms/step\n",
      "Epoch 4/200\n",
      "25/25 - 0s - loss: 0.6247 - accuracy: 0.6801 - val_loss: 0.5909 - val_accuracy: 0.7461 - 49ms/epoch - 2ms/step\n",
      "Epoch 5/200\n",
      "25/25 - 0s - loss: 0.6119 - accuracy: 0.6765 - val_loss: 0.5684 - val_accuracy: 0.7468 - 49ms/epoch - 2ms/step\n",
      "Epoch 6/200\n",
      "25/25 - 0s - loss: 0.5992 - accuracy: 0.6915 - val_loss: 0.5500 - val_accuracy: 0.7532 - 51ms/epoch - 2ms/step\n",
      "Epoch 7/200\n",
      "25/25 - 0s - loss: 0.5766 - accuracy: 0.7047 - val_loss: 0.5337 - val_accuracy: 0.7648 - 49ms/epoch - 2ms/step\n",
      "Epoch 8/200\n",
      "25/25 - 0s - loss: 0.5622 - accuracy: 0.7148 - val_loss: 0.5192 - val_accuracy: 0.7674 - 51ms/epoch - 2ms/step\n",
      "Epoch 9/200\n",
      "25/25 - 0s - loss: 0.5599 - accuracy: 0.7232 - val_loss: 0.5120 - val_accuracy: 0.7776 - 50ms/epoch - 2ms/step\n",
      "Epoch 10/200\n",
      "25/25 - 0s - loss: 0.5514 - accuracy: 0.7267 - val_loss: 0.5070 - val_accuracy: 0.7763 - 50ms/epoch - 2ms/step\n",
      "Epoch 11/200\n",
      "25/25 - 0s - loss: 0.5529 - accuracy: 0.7251 - val_loss: 0.5043 - val_accuracy: 0.7719 - 49ms/epoch - 2ms/step\n",
      "Epoch 12/200\n",
      "25/25 - 0s - loss: 0.5425 - accuracy: 0.7326 - val_loss: 0.4993 - val_accuracy: 0.7808 - 51ms/epoch - 2ms/step\n",
      "Epoch 13/200\n",
      "25/25 - 0s - loss: 0.5368 - accuracy: 0.7314 - val_loss: 0.4937 - val_accuracy: 0.7841 - 49ms/epoch - 2ms/step\n",
      "Epoch 14/200\n",
      "25/25 - 0s - loss: 0.5301 - accuracy: 0.7394 - val_loss: 0.4916 - val_accuracy: 0.7770 - 62ms/epoch - 2ms/step\n",
      "Epoch 15/200\n",
      "25/25 - 0s - loss: 0.5290 - accuracy: 0.7405 - val_loss: 0.4889 - val_accuracy: 0.7802 - 50ms/epoch - 2ms/step\n",
      "Epoch 16/200\n",
      "25/25 - 0s - loss: 0.5258 - accuracy: 0.7431 - val_loss: 0.4880 - val_accuracy: 0.7828 - 50ms/epoch - 2ms/step\n",
      "Epoch 17/200\n",
      "25/25 - 0s - loss: 0.5239 - accuracy: 0.7384 - val_loss: 0.4851 - val_accuracy: 0.7808 - 51ms/epoch - 2ms/step\n",
      "Epoch 18/200\n",
      "25/25 - 0s - loss: 0.5204 - accuracy: 0.7477 - val_loss: 0.4843 - val_accuracy: 0.7892 - 49ms/epoch - 2ms/step\n",
      "Epoch 19/200\n",
      "25/25 - 0s - loss: 0.5139 - accuracy: 0.7508 - val_loss: 0.4831 - val_accuracy: 0.7757 - 50ms/epoch - 2ms/step\n",
      "Epoch 20/200\n",
      "25/25 - 0s - loss: 0.5118 - accuracy: 0.7524 - val_loss: 0.4800 - val_accuracy: 0.7866 - 50ms/epoch - 2ms/step\n",
      "Epoch 21/200\n",
      "25/25 - 0s - loss: 0.5069 - accuracy: 0.7561 - val_loss: 0.4782 - val_accuracy: 0.7866 - 49ms/epoch - 2ms/step\n",
      "Epoch 22/200\n",
      "25/25 - 0s - loss: 0.5083 - accuracy: 0.7535 - val_loss: 0.4774 - val_accuracy: 0.7783 - 49ms/epoch - 2ms/step\n",
      "Epoch 23/200\n",
      "25/25 - 0s - loss: 0.5076 - accuracy: 0.7571 - val_loss: 0.4761 - val_accuracy: 0.7879 - 51ms/epoch - 2ms/step\n",
      "Epoch 24/200\n",
      "25/25 - 0s - loss: 0.5066 - accuracy: 0.7542 - val_loss: 0.4760 - val_accuracy: 0.7853 - 51ms/epoch - 2ms/step\n",
      "Epoch 25/200\n",
      "25/25 - 0s - loss: 0.5000 - accuracy: 0.7633 - val_loss: 0.4734 - val_accuracy: 0.7866 - 49ms/epoch - 2ms/step\n",
      "Epoch 26/200\n",
      "25/25 - 0s - loss: 0.5009 - accuracy: 0.7641 - val_loss: 0.4730 - val_accuracy: 0.7892 - 50ms/epoch - 2ms/step\n",
      "Epoch 27/200\n",
      "25/25 - 0s - loss: 0.5004 - accuracy: 0.7622 - val_loss: 0.4720 - val_accuracy: 0.7886 - 51ms/epoch - 2ms/step\n",
      "Epoch 28/200\n",
      "25/25 - 0s - loss: 0.4993 - accuracy: 0.7633 - val_loss: 0.4711 - val_accuracy: 0.7873 - 51ms/epoch - 2ms/step\n",
      "Epoch 29/200\n",
      "25/25 - 0s - loss: 0.4950 - accuracy: 0.7686 - val_loss: 0.4699 - val_accuracy: 0.7879 - 50ms/epoch - 2ms/step\n",
      "Epoch 30/200\n",
      "25/25 - 0s - loss: 0.4949 - accuracy: 0.7625 - val_loss: 0.4684 - val_accuracy: 0.7866 - 50ms/epoch - 2ms/step\n",
      "Epoch 31/200\n",
      "25/25 - 0s - loss: 0.4919 - accuracy: 0.7653 - val_loss: 0.4692 - val_accuracy: 0.7834 - 52ms/epoch - 2ms/step\n",
      "Epoch 32/200\n",
      "25/25 - 0s - loss: 0.4964 - accuracy: 0.7672 - val_loss: 0.4669 - val_accuracy: 0.7892 - 50ms/epoch - 2ms/step\n",
      "Epoch 33/200\n",
      "25/25 - 0s - loss: 0.4924 - accuracy: 0.7654 - val_loss: 0.4655 - val_accuracy: 0.7905 - 51ms/epoch - 2ms/step\n",
      "Epoch 34/200\n",
      "25/25 - 0s - loss: 0.4895 - accuracy: 0.7703 - val_loss: 0.4648 - val_accuracy: 0.7853 - 48ms/epoch - 2ms/step\n",
      "Epoch 35/200\n",
      "25/25 - 0s - loss: 0.4919 - accuracy: 0.7661 - val_loss: 0.4638 - val_accuracy: 0.7866 - 50ms/epoch - 2ms/step\n",
      "Epoch 36/200\n",
      "25/25 - 0s - loss: 0.4889 - accuracy: 0.7690 - val_loss: 0.4625 - val_accuracy: 0.7956 - 50ms/epoch - 2ms/step\n",
      "Epoch 37/200\n",
      "25/25 - 0s - loss: 0.4921 - accuracy: 0.7656 - val_loss: 0.4628 - val_accuracy: 0.7879 - 50ms/epoch - 2ms/step\n",
      "Epoch 38/200\n",
      "25/25 - 0s - loss: 0.4845 - accuracy: 0.7735 - val_loss: 0.4607 - val_accuracy: 0.7924 - 50ms/epoch - 2ms/step\n",
      "Epoch 39/200\n",
      "25/25 - 0s - loss: 0.4812 - accuracy: 0.7723 - val_loss: 0.4611 - val_accuracy: 0.7943 - 49ms/epoch - 2ms/step\n",
      "Epoch 40/200\n",
      "25/25 - 0s - loss: 0.4810 - accuracy: 0.7735 - val_loss: 0.4599 - val_accuracy: 0.7956 - 50ms/epoch - 2ms/step\n",
      "Epoch 41/200\n",
      "25/25 - 0s - loss: 0.4806 - accuracy: 0.7746 - val_loss: 0.4581 - val_accuracy: 0.7892 - 52ms/epoch - 2ms/step\n",
      "Epoch 42/200\n",
      "25/25 - 0s - loss: 0.4822 - accuracy: 0.7703 - val_loss: 0.4580 - val_accuracy: 0.7898 - 50ms/epoch - 2ms/step\n",
      "Epoch 43/200\n",
      "25/25 - 0s - loss: 0.4802 - accuracy: 0.7762 - val_loss: 0.4564 - val_accuracy: 0.7892 - 51ms/epoch - 2ms/step\n",
      "Epoch 44/200\n",
      "25/25 - 0s - loss: 0.4753 - accuracy: 0.7789 - val_loss: 0.4557 - val_accuracy: 0.7886 - 49ms/epoch - 2ms/step\n",
      "Epoch 45/200\n",
      "25/25 - 0s - loss: 0.4749 - accuracy: 0.7778 - val_loss: 0.4554 - val_accuracy: 0.7911 - 50ms/epoch - 2ms/step\n",
      "Epoch 46/200\n",
      "25/25 - 0s - loss: 0.4809 - accuracy: 0.7759 - val_loss: 0.4553 - val_accuracy: 0.7931 - 48ms/epoch - 2ms/step\n",
      "Epoch 47/200\n",
      "25/25 - 0s - loss: 0.4778 - accuracy: 0.7740 - val_loss: 0.4545 - val_accuracy: 0.7911 - 50ms/epoch - 2ms/step\n",
      "Epoch 48/200\n",
      "25/25 - 0s - loss: 0.4790 - accuracy: 0.7722 - val_loss: 0.4542 - val_accuracy: 0.7931 - 50ms/epoch - 2ms/step\n",
      "Epoch 49/200\n",
      "25/25 - 0s - loss: 0.4736 - accuracy: 0.7754 - val_loss: 0.4542 - val_accuracy: 0.8008 - 49ms/epoch - 2ms/step\n",
      "Epoch 50/200\n",
      "25/25 - 0s - loss: 0.4701 - accuracy: 0.7801 - val_loss: 0.4522 - val_accuracy: 0.7886 - 51ms/epoch - 2ms/step\n",
      "Epoch 51/200\n",
      "25/25 - 0s - loss: 0.4749 - accuracy: 0.7780 - val_loss: 0.4520 - val_accuracy: 0.7937 - 64ms/epoch - 3ms/step\n",
      "Epoch 52/200\n",
      "25/25 - 0s - loss: 0.4721 - accuracy: 0.7801 - val_loss: 0.4509 - val_accuracy: 0.7956 - 50ms/epoch - 2ms/step\n",
      "Epoch 53/200\n",
      "25/25 - 0s - loss: 0.4727 - accuracy: 0.7796 - val_loss: 0.4508 - val_accuracy: 0.8014 - 52ms/epoch - 2ms/step\n",
      "Epoch 54/200\n",
      "25/25 - 0s - loss: 0.4682 - accuracy: 0.7817 - val_loss: 0.4492 - val_accuracy: 0.7956 - 50ms/epoch - 2ms/step\n",
      "Epoch 55/200\n",
      "25/25 - 0s - loss: 0.4708 - accuracy: 0.7781 - val_loss: 0.4490 - val_accuracy: 0.7982 - 48ms/epoch - 2ms/step\n",
      "Epoch 56/200\n",
      "25/25 - 0s - loss: 0.4700 - accuracy: 0.7810 - val_loss: 0.4489 - val_accuracy: 0.7963 - 50ms/epoch - 2ms/step\n",
      "Epoch 57/200\n",
      "25/25 - 0s - loss: 0.4718 - accuracy: 0.7815 - val_loss: 0.4503 - val_accuracy: 0.8066 - 49ms/epoch - 2ms/step\n",
      "Epoch 58/200\n",
      "25/25 - 0s - loss: 0.4702 - accuracy: 0.7802 - val_loss: 0.4479 - val_accuracy: 0.7995 - 51ms/epoch - 2ms/step\n",
      "Epoch 59/200\n",
      "25/25 - 0s - loss: 0.4658 - accuracy: 0.7817 - val_loss: 0.4467 - val_accuracy: 0.7924 - 50ms/epoch - 2ms/step\n",
      "Epoch 60/200\n",
      "25/25 - 0s - loss: 0.4696 - accuracy: 0.7812 - val_loss: 0.4472 - val_accuracy: 0.7976 - 51ms/epoch - 2ms/step\n",
      "Epoch 61/200\n",
      "25/25 - 0s - loss: 0.4686 - accuracy: 0.7833 - val_loss: 0.4456 - val_accuracy: 0.7995 - 50ms/epoch - 2ms/step\n",
      "Epoch 62/200\n",
      "25/25 - 0s - loss: 0.4669 - accuracy: 0.7826 - val_loss: 0.4457 - val_accuracy: 0.7969 - 49ms/epoch - 2ms/step\n",
      "Epoch 63/200\n",
      "25/25 - 0s - loss: 0.4629 - accuracy: 0.7846 - val_loss: 0.4448 - val_accuracy: 0.7982 - 50ms/epoch - 2ms/step\n",
      "Epoch 64/200\n",
      "25/25 - 0s - loss: 0.4580 - accuracy: 0.7844 - val_loss: 0.4434 - val_accuracy: 0.7969 - 49ms/epoch - 2ms/step\n",
      "Epoch 65/200\n",
      "25/25 - 0s - loss: 0.4660 - accuracy: 0.7841 - val_loss: 0.4439 - val_accuracy: 0.8008 - 50ms/epoch - 2ms/step\n",
      "Epoch 66/200\n",
      "25/25 - 0s - loss: 0.4658 - accuracy: 0.7817 - val_loss: 0.4449 - val_accuracy: 0.7976 - 50ms/epoch - 2ms/step\n",
      "Epoch 67/200\n",
      "25/25 - 0s - loss: 0.4587 - accuracy: 0.7883 - val_loss: 0.4428 - val_accuracy: 0.8027 - 49ms/epoch - 2ms/step\n",
      "Epoch 68/200\n",
      "25/25 - 0s - loss: 0.4591 - accuracy: 0.7873 - val_loss: 0.4420 - val_accuracy: 0.7982 - 50ms/epoch - 2ms/step\n",
      "Epoch 69/200\n",
      "25/25 - 0s - loss: 0.4604 - accuracy: 0.7842 - val_loss: 0.4414 - val_accuracy: 0.8040 - 50ms/epoch - 2ms/step\n",
      "Epoch 70/200\n",
      "25/25 - 0s - loss: 0.4621 - accuracy: 0.7875 - val_loss: 0.4420 - val_accuracy: 0.8001 - 49ms/epoch - 2ms/step\n",
      "Epoch 71/200\n",
      "25/25 - 0s - loss: 0.4617 - accuracy: 0.7867 - val_loss: 0.4418 - val_accuracy: 0.7988 - 50ms/epoch - 2ms/step\n",
      "Epoch 72/200\n",
      "25/25 - 0s - loss: 0.4582 - accuracy: 0.7850 - val_loss: 0.4406 - val_accuracy: 0.8040 - 51ms/epoch - 2ms/step\n",
      "Epoch 73/200\n",
      "25/25 - 0s - loss: 0.4602 - accuracy: 0.7831 - val_loss: 0.4408 - val_accuracy: 0.7995 - 49ms/epoch - 2ms/step\n",
      "Epoch 74/200\n",
      "25/25 - 0s - loss: 0.4560 - accuracy: 0.7879 - val_loss: 0.4412 - val_accuracy: 0.8001 - 49ms/epoch - 2ms/step\n",
      "Epoch 75/200\n",
      "25/25 - 0s - loss: 0.4604 - accuracy: 0.7857 - val_loss: 0.4391 - val_accuracy: 0.8053 - 50ms/epoch - 2ms/step\n",
      "Epoch 76/200\n",
      "25/25 - 0s - loss: 0.4596 - accuracy: 0.7849 - val_loss: 0.4381 - val_accuracy: 0.8053 - 49ms/epoch - 2ms/step\n",
      "Epoch 77/200\n",
      "25/25 - 0s - loss: 0.4561 - accuracy: 0.7847 - val_loss: 0.4380 - val_accuracy: 0.8046 - 49ms/epoch - 2ms/step\n",
      "Epoch 78/200\n",
      "25/25 - 0s - loss: 0.4576 - accuracy: 0.7868 - val_loss: 0.4377 - val_accuracy: 0.8046 - 50ms/epoch - 2ms/step\n",
      "Epoch 79/200\n",
      "25/25 - 0s - loss: 0.4506 - accuracy: 0.7875 - val_loss: 0.4364 - val_accuracy: 0.8001 - 51ms/epoch - 2ms/step\n",
      "Epoch 80/200\n",
      "25/25 - 0s - loss: 0.4542 - accuracy: 0.7876 - val_loss: 0.4359 - val_accuracy: 0.8033 - 49ms/epoch - 2ms/step\n",
      "Epoch 81/200\n",
      "25/25 - 0s - loss: 0.4564 - accuracy: 0.7836 - val_loss: 0.4368 - val_accuracy: 0.8053 - 50ms/epoch - 2ms/step\n",
      "Epoch 82/200\n",
      "25/25 - 0s - loss: 0.4567 - accuracy: 0.7855 - val_loss: 0.4372 - val_accuracy: 0.8027 - 49ms/epoch - 2ms/step\n",
      "Epoch 83/200\n",
      "25/25 - 0s - loss: 0.4578 - accuracy: 0.7871 - val_loss: 0.4349 - val_accuracy: 0.8085 - 50ms/epoch - 2ms/step\n",
      "Epoch 84/200\n",
      "25/25 - 0s - loss: 0.4511 - accuracy: 0.7910 - val_loss: 0.4340 - val_accuracy: 0.8040 - 49ms/epoch - 2ms/step\n",
      "Epoch 85/200\n",
      "25/25 - 0s - loss: 0.4519 - accuracy: 0.7887 - val_loss: 0.4345 - val_accuracy: 0.8098 - 50ms/epoch - 2ms/step\n",
      "Epoch 86/200\n",
      "25/25 - 0s - loss: 0.4537 - accuracy: 0.7918 - val_loss: 0.4349 - val_accuracy: 0.8072 - 49ms/epoch - 2ms/step\n",
      "Epoch 87/200\n",
      "25/25 - 0s - loss: 0.4509 - accuracy: 0.7859 - val_loss: 0.4345 - val_accuracy: 0.8078 - 50ms/epoch - 2ms/step\n",
      "Epoch 88/200\n",
      "25/25 - 0s - loss: 0.4561 - accuracy: 0.7865 - val_loss: 0.4360 - val_accuracy: 0.8078 - 63ms/epoch - 3ms/step\n",
      "Epoch 89/200\n",
      "25/25 - 0s - loss: 0.4511 - accuracy: 0.7849 - val_loss: 0.4334 - val_accuracy: 0.8078 - 50ms/epoch - 2ms/step\n",
      "Epoch 90/200\n",
      "25/25 - 0s - loss: 0.4543 - accuracy: 0.7871 - val_loss: 0.4328 - val_accuracy: 0.8098 - 53ms/epoch - 2ms/step\n",
      "Epoch 91/200\n",
      "25/25 - 0s - loss: 0.4537 - accuracy: 0.7836 - val_loss: 0.4320 - val_accuracy: 0.8162 - 51ms/epoch - 2ms/step\n",
      "Epoch 92/200\n",
      "25/25 - 0s - loss: 0.4483 - accuracy: 0.7904 - val_loss: 0.4313 - val_accuracy: 0.8117 - 49ms/epoch - 2ms/step\n",
      "Epoch 93/200\n",
      "25/25 - 0s - loss: 0.4496 - accuracy: 0.7905 - val_loss: 0.4319 - val_accuracy: 0.8168 - 50ms/epoch - 2ms/step\n",
      "Epoch 94/200\n",
      "25/25 - 0s - loss: 0.4471 - accuracy: 0.7969 - val_loss: 0.4307 - val_accuracy: 0.8149 - 50ms/epoch - 2ms/step\n",
      "Epoch 95/200\n",
      "25/25 - 0s - loss: 0.4487 - accuracy: 0.7915 - val_loss: 0.4301 - val_accuracy: 0.8143 - 50ms/epoch - 2ms/step\n",
      "Epoch 96/200\n",
      "25/25 - 0s - loss: 0.4441 - accuracy: 0.7931 - val_loss: 0.4296 - val_accuracy: 0.8098 - 50ms/epoch - 2ms/step\n",
      "Epoch 97/200\n",
      "25/25 - 0s - loss: 0.4453 - accuracy: 0.7894 - val_loss: 0.4292 - val_accuracy: 0.8104 - 51ms/epoch - 2ms/step\n",
      "Epoch 98/200\n",
      "25/25 - 0s - loss: 0.4480 - accuracy: 0.7947 - val_loss: 0.4292 - val_accuracy: 0.8136 - 49ms/epoch - 2ms/step\n",
      "Epoch 99/200\n",
      "25/25 - 0s - loss: 0.4515 - accuracy: 0.7918 - val_loss: 0.4279 - val_accuracy: 0.8123 - 49ms/epoch - 2ms/step\n",
      "Epoch 100/200\n",
      "25/25 - 0s - loss: 0.4478 - accuracy: 0.7881 - val_loss: 0.4290 - val_accuracy: 0.8168 - 50ms/epoch - 2ms/step\n",
      "Epoch 101/200\n",
      "25/25 - 0s - loss: 0.4465 - accuracy: 0.7918 - val_loss: 0.4286 - val_accuracy: 0.8143 - 50ms/epoch - 2ms/step\n",
      "Epoch 102/200\n",
      "25/25 - 0s - loss: 0.4411 - accuracy: 0.7961 - val_loss: 0.4269 - val_accuracy: 0.8104 - 50ms/epoch - 2ms/step\n",
      "Epoch 103/200\n",
      "25/25 - 0s - loss: 0.4448 - accuracy: 0.7958 - val_loss: 0.4264 - val_accuracy: 0.8130 - 51ms/epoch - 2ms/step\n",
      "Epoch 104/200\n",
      "25/25 - 0s - loss: 0.4416 - accuracy: 0.7941 - val_loss: 0.4278 - val_accuracy: 0.8130 - 50ms/epoch - 2ms/step\n",
      "Epoch 105/200\n",
      "25/25 - 0s - loss: 0.4476 - accuracy: 0.7915 - val_loss: 0.4271 - val_accuracy: 0.8149 - 49ms/epoch - 2ms/step\n",
      "Epoch 106/200\n",
      "25/25 - 0s - loss: 0.4478 - accuracy: 0.7913 - val_loss: 0.4261 - val_accuracy: 0.8123 - 49ms/epoch - 2ms/step\n",
      "Epoch 107/200\n",
      "25/25 - 0s - loss: 0.4484 - accuracy: 0.7918 - val_loss: 0.4262 - val_accuracy: 0.8085 - 49ms/epoch - 2ms/step\n",
      "Epoch 108/200\n",
      "25/25 - 0s - loss: 0.4425 - accuracy: 0.7952 - val_loss: 0.4245 - val_accuracy: 0.8188 - 50ms/epoch - 2ms/step\n",
      "Epoch 109/200\n",
      "25/25 - 0s - loss: 0.4445 - accuracy: 0.7947 - val_loss: 0.4244 - val_accuracy: 0.8156 - 51ms/epoch - 2ms/step\n",
      "Epoch 110/200\n",
      "25/25 - 0s - loss: 0.4454 - accuracy: 0.7929 - val_loss: 0.4234 - val_accuracy: 0.8143 - 51ms/epoch - 2ms/step\n",
      "Epoch 111/200\n",
      "25/25 - 0s - loss: 0.4435 - accuracy: 0.7944 - val_loss: 0.4238 - val_accuracy: 0.8117 - 50ms/epoch - 2ms/step\n",
      "Epoch 112/200\n",
      "25/25 - 0s - loss: 0.4404 - accuracy: 0.7942 - val_loss: 0.4231 - val_accuracy: 0.8201 - 50ms/epoch - 2ms/step\n",
      "Epoch 113/200\n",
      "25/25 - 0s - loss: 0.4440 - accuracy: 0.7950 - val_loss: 0.4235 - val_accuracy: 0.8130 - 50ms/epoch - 2ms/step\n",
      "Epoch 114/200\n",
      "25/25 - 0s - loss: 0.4444 - accuracy: 0.7949 - val_loss: 0.4230 - val_accuracy: 0.8194 - 50ms/epoch - 2ms/step\n",
      "Epoch 115/200\n",
      "25/25 - 0s - loss: 0.4435 - accuracy: 0.7921 - val_loss: 0.4225 - val_accuracy: 0.8213 - 51ms/epoch - 2ms/step\n",
      "Epoch 116/200\n",
      "25/25 - 0s - loss: 0.4438 - accuracy: 0.7982 - val_loss: 0.4239 - val_accuracy: 0.8168 - 49ms/epoch - 2ms/step\n",
      "Epoch 117/200\n",
      "25/25 - 0s - loss: 0.4390 - accuracy: 0.7958 - val_loss: 0.4206 - val_accuracy: 0.8220 - 50ms/epoch - 2ms/step\n",
      "Epoch 118/200\n",
      "25/25 - 0s - loss: 0.4426 - accuracy: 0.7979 - val_loss: 0.4218 - val_accuracy: 0.8226 - 50ms/epoch - 2ms/step\n",
      "Epoch 119/200\n",
      "25/25 - 0s - loss: 0.4434 - accuracy: 0.7936 - val_loss: 0.4213 - val_accuracy: 0.8168 - 50ms/epoch - 2ms/step\n",
      "Epoch 120/200\n",
      "25/25 - 0s - loss: 0.4416 - accuracy: 0.7973 - val_loss: 0.4207 - val_accuracy: 0.8162 - 50ms/epoch - 2ms/step\n",
      "Epoch 121/200\n",
      "25/25 - 0s - loss: 0.4388 - accuracy: 0.7920 - val_loss: 0.4205 - val_accuracy: 0.8156 - 50ms/epoch - 2ms/step\n",
      "Epoch 122/200\n",
      "25/25 - 0s - loss: 0.4415 - accuracy: 0.7990 - val_loss: 0.4202 - val_accuracy: 0.8207 - 51ms/epoch - 2ms/step\n",
      "Epoch 123/200\n",
      "25/25 - 0s - loss: 0.4405 - accuracy: 0.7949 - val_loss: 0.4203 - val_accuracy: 0.8220 - 55ms/epoch - 2ms/step\n",
      "Epoch 124/200\n",
      "25/25 - 0s - loss: 0.4375 - accuracy: 0.7997 - val_loss: 0.4199 - val_accuracy: 0.8188 - 56ms/epoch - 2ms/step\n",
      "Epoch 125/200\n",
      "25/25 - 0s - loss: 0.4411 - accuracy: 0.7913 - val_loss: 0.4197 - val_accuracy: 0.8233 - 49ms/epoch - 2ms/step\n",
      "Epoch 126/200\n",
      "25/25 - 0s - loss: 0.4383 - accuracy: 0.7969 - val_loss: 0.4198 - val_accuracy: 0.8220 - 49ms/epoch - 2ms/step\n",
      "Epoch 127/200\n",
      "25/25 - 0s - loss: 0.4408 - accuracy: 0.7968 - val_loss: 0.4187 - val_accuracy: 0.8175 - 49ms/epoch - 2ms/step\n",
      "Epoch 128/200\n",
      "25/25 - 0s - loss: 0.4381 - accuracy: 0.7995 - val_loss: 0.4184 - val_accuracy: 0.8220 - 49ms/epoch - 2ms/step\n",
      "Epoch 129/200\n",
      "25/25 - 0s - loss: 0.4342 - accuracy: 0.7945 - val_loss: 0.4191 - val_accuracy: 0.8194 - 49ms/epoch - 2ms/step\n",
      "Epoch 130/200\n",
      "25/25 - 0s - loss: 0.4470 - accuracy: 0.7986 - val_loss: 0.4198 - val_accuracy: 0.8220 - 51ms/epoch - 2ms/step\n",
      "Epoch 131/200\n",
      "25/25 - 0s - loss: 0.4401 - accuracy: 0.7990 - val_loss: 0.4175 - val_accuracy: 0.8162 - 50ms/epoch - 2ms/step\n",
      "Epoch 132/200\n",
      "25/25 - 0s - loss: 0.4359 - accuracy: 0.8032 - val_loss: 0.4169 - val_accuracy: 0.8220 - 51ms/epoch - 2ms/step\n",
      "Epoch 133/200\n",
      "25/25 - 0s - loss: 0.4338 - accuracy: 0.8016 - val_loss: 0.4178 - val_accuracy: 0.8201 - 50ms/epoch - 2ms/step\n",
      "Epoch 134/200\n",
      "25/25 - 0s - loss: 0.4371 - accuracy: 0.7963 - val_loss: 0.4168 - val_accuracy: 0.8188 - 49ms/epoch - 2ms/step\n",
      "Epoch 135/200\n",
      "25/25 - 0s - loss: 0.4365 - accuracy: 0.7984 - val_loss: 0.4162 - val_accuracy: 0.8226 - 50ms/epoch - 2ms/step\n",
      "Epoch 136/200\n",
      "25/25 - 0s - loss: 0.4354 - accuracy: 0.8016 - val_loss: 0.4166 - val_accuracy: 0.8226 - 50ms/epoch - 2ms/step\n",
      "Epoch 137/200\n",
      "25/25 - 0s - loss: 0.4380 - accuracy: 0.8013 - val_loss: 0.4161 - val_accuracy: 0.8168 - 51ms/epoch - 2ms/step\n",
      "Epoch 138/200\n",
      "25/25 - 0s - loss: 0.4352 - accuracy: 0.8014 - val_loss: 0.4154 - val_accuracy: 0.8220 - 50ms/epoch - 2ms/step\n",
      "Epoch 139/200\n",
      "25/25 - 0s - loss: 0.4375 - accuracy: 0.8018 - val_loss: 0.4163 - val_accuracy: 0.8188 - 50ms/epoch - 2ms/step\n",
      "Epoch 140/200\n",
      "25/25 - 0s - loss: 0.4371 - accuracy: 0.7984 - val_loss: 0.4172 - val_accuracy: 0.8239 - 50ms/epoch - 2ms/step\n",
      "Epoch 141/200\n",
      "25/25 - 0s - loss: 0.4353 - accuracy: 0.7961 - val_loss: 0.4147 - val_accuracy: 0.8226 - 49ms/epoch - 2ms/step\n",
      "Epoch 142/200\n",
      "25/25 - 0s - loss: 0.4336 - accuracy: 0.8013 - val_loss: 0.4156 - val_accuracy: 0.8213 - 51ms/epoch - 2ms/step\n",
      "Epoch 143/200\n",
      "25/25 - 0s - loss: 0.4329 - accuracy: 0.8069 - val_loss: 0.4155 - val_accuracy: 0.8201 - 50ms/epoch - 2ms/step\n",
      "Epoch 144/200\n",
      "25/25 - 0s - loss: 0.4392 - accuracy: 0.7968 - val_loss: 0.4152 - val_accuracy: 0.8239 - 49ms/epoch - 2ms/step\n",
      "Epoch 145/200\n",
      "25/25 - 0s - loss: 0.4346 - accuracy: 0.8021 - val_loss: 0.4146 - val_accuracy: 0.8194 - 50ms/epoch - 2ms/step\n",
      "Epoch 146/200\n",
      "25/25 - 0s - loss: 0.4365 - accuracy: 0.7965 - val_loss: 0.4155 - val_accuracy: 0.8207 - 48ms/epoch - 2ms/step\n",
      "Epoch 147/200\n",
      "25/25 - 0s - loss: 0.4335 - accuracy: 0.8024 - val_loss: 0.4159 - val_accuracy: 0.8207 - 52ms/epoch - 2ms/step\n",
      "Epoch 148/200\n",
      "25/25 - 0s - loss: 0.4363 - accuracy: 0.7998 - val_loss: 0.4147 - val_accuracy: 0.8220 - 50ms/epoch - 2ms/step\n",
      "Epoch 149/200\n",
      "25/25 - 0s - loss: 0.4343 - accuracy: 0.8050 - val_loss: 0.4155 - val_accuracy: 0.8181 - 51ms/epoch - 2ms/step\n",
      "Epoch 150/200\n",
      "25/25 - 0s - loss: 0.4376 - accuracy: 0.7987 - val_loss: 0.4145 - val_accuracy: 0.8213 - 50ms/epoch - 2ms/step\n",
      "Epoch 151/200\n",
      "25/25 - 0s - loss: 0.4335 - accuracy: 0.8026 - val_loss: 0.4152 - val_accuracy: 0.8233 - 50ms/epoch - 2ms/step\n",
      "Epoch 152/200\n",
      "25/25 - 0s - loss: 0.4345 - accuracy: 0.8006 - val_loss: 0.4140 - val_accuracy: 0.8239 - 51ms/epoch - 2ms/step\n",
      "Epoch 153/200\n",
      "25/25 - 0s - loss: 0.4372 - accuracy: 0.8016 - val_loss: 0.4145 - val_accuracy: 0.8226 - 49ms/epoch - 2ms/step\n",
      "Epoch 154/200\n",
      "25/25 - 0s - loss: 0.4381 - accuracy: 0.7997 - val_loss: 0.4141 - val_accuracy: 0.8265 - 50ms/epoch - 2ms/step\n",
      "Epoch 155/200\n",
      "25/25 - 0s - loss: 0.4374 - accuracy: 0.7998 - val_loss: 0.4145 - val_accuracy: 0.8246 - 50ms/epoch - 2ms/step\n",
      "Epoch 156/200\n",
      "25/25 - 0s - loss: 0.4368 - accuracy: 0.7997 - val_loss: 0.4150 - val_accuracy: 0.8239 - 50ms/epoch - 2ms/step\n",
      "Epoch 157/200\n",
      "25/25 - 0s - loss: 0.4290 - accuracy: 0.8047 - val_loss: 0.4140 - val_accuracy: 0.8213 - 50ms/epoch - 2ms/step\n",
      "Epoch 158/200\n",
      "25/25 - 0s - loss: 0.4302 - accuracy: 0.8018 - val_loss: 0.4136 - val_accuracy: 0.8181 - 51ms/epoch - 2ms/step\n",
      "Epoch 159/200\n",
      "25/25 - 0s - loss: 0.4319 - accuracy: 0.8008 - val_loss: 0.4149 - val_accuracy: 0.8188 - 52ms/epoch - 2ms/step\n",
      "Epoch 160/200\n",
      "25/25 - 0s - loss: 0.4275 - accuracy: 0.8055 - val_loss: 0.4139 - val_accuracy: 0.8149 - 59ms/epoch - 2ms/step\n",
      "Epoch 161/200\n",
      "25/25 - 0s - loss: 0.4281 - accuracy: 0.8021 - val_loss: 0.4137 - val_accuracy: 0.8246 - 50ms/epoch - 2ms/step\n",
      "Epoch 162/200\n",
      "25/25 - 0s - loss: 0.4315 - accuracy: 0.8032 - val_loss: 0.4133 - val_accuracy: 0.8188 - 49ms/epoch - 2ms/step\n",
      "Epoch 163/200\n",
      "25/25 - 0s - loss: 0.4299 - accuracy: 0.8048 - val_loss: 0.4134 - val_accuracy: 0.8175 - 50ms/epoch - 2ms/step\n",
      "Epoch 164/200\n",
      "25/25 - 0s - loss: 0.4326 - accuracy: 0.8021 - val_loss: 0.4144 - val_accuracy: 0.8201 - 49ms/epoch - 2ms/step\n",
      "Epoch 165/200\n",
      "25/25 - 0s - loss: 0.4363 - accuracy: 0.8010 - val_loss: 0.4141 - val_accuracy: 0.8149 - 50ms/epoch - 2ms/step\n",
      "Epoch 166/200\n",
      "25/25 - 0s - loss: 0.4285 - accuracy: 0.8032 - val_loss: 0.4132 - val_accuracy: 0.8149 - 51ms/epoch - 2ms/step\n",
      "Epoch 167/200\n",
      "25/25 - 0s - loss: 0.4309 - accuracy: 0.8047 - val_loss: 0.4149 - val_accuracy: 0.8168 - 50ms/epoch - 2ms/step\n",
      "Epoch 168/200\n",
      "25/25 - 0s - loss: 0.4316 - accuracy: 0.8027 - val_loss: 0.4134 - val_accuracy: 0.8188 - 49ms/epoch - 2ms/step\n",
      "Epoch 169/200\n",
      "25/25 - 0s - loss: 0.4316 - accuracy: 0.8032 - val_loss: 0.4151 - val_accuracy: 0.8136 - 51ms/epoch - 2ms/step\n",
      "Epoch 170/200\n",
      "25/25 - 0s - loss: 0.4302 - accuracy: 0.8068 - val_loss: 0.4134 - val_accuracy: 0.8207 - 50ms/epoch - 2ms/step\n",
      "Epoch 171/200\n",
      "25/25 - 0s - loss: 0.4336 - accuracy: 0.8048 - val_loss: 0.4123 - val_accuracy: 0.8194 - 50ms/epoch - 2ms/step\n",
      "Epoch 172/200\n",
      "25/25 - 0s - loss: 0.4336 - accuracy: 0.7998 - val_loss: 0.4126 - val_accuracy: 0.8213 - 50ms/epoch - 2ms/step\n",
      "Epoch 173/200\n",
      "25/25 - 0s - loss: 0.4291 - accuracy: 0.8024 - val_loss: 0.4142 - val_accuracy: 0.8207 - 50ms/epoch - 2ms/step\n",
      "Epoch 174/200\n",
      "25/25 - 0s - loss: 0.4255 - accuracy: 0.8043 - val_loss: 0.4120 - val_accuracy: 0.8213 - 49ms/epoch - 2ms/step\n",
      "Epoch 175/200\n",
      "25/25 - 0s - loss: 0.4320 - accuracy: 0.8023 - val_loss: 0.4142 - val_accuracy: 0.8162 - 49ms/epoch - 2ms/step\n",
      "Epoch 176/200\n",
      "25/25 - 0s - loss: 0.4289 - accuracy: 0.8023 - val_loss: 0.4122 - val_accuracy: 0.8181 - 50ms/epoch - 2ms/step\n",
      "Epoch 177/200\n",
      "25/25 - 0s - loss: 0.4296 - accuracy: 0.8029 - val_loss: 0.4120 - val_accuracy: 0.8213 - 50ms/epoch - 2ms/step\n",
      "Epoch 178/200\n",
      "25/25 - 0s - loss: 0.4315 - accuracy: 0.8050 - val_loss: 0.4149 - val_accuracy: 0.8226 - 51ms/epoch - 2ms/step\n",
      "Epoch 179/200\n",
      "25/25 - 0s - loss: 0.4319 - accuracy: 0.8027 - val_loss: 0.4121 - val_accuracy: 0.8252 - 49ms/epoch - 2ms/step\n",
      "Epoch 180/200\n",
      "25/25 - 0s - loss: 0.4328 - accuracy: 0.8010 - val_loss: 0.4124 - val_accuracy: 0.8246 - 50ms/epoch - 2ms/step\n",
      "Epoch 181/200\n",
      "25/25 - 0s - loss: 0.4286 - accuracy: 0.8063 - val_loss: 0.4123 - val_accuracy: 0.8258 - 51ms/epoch - 2ms/step\n",
      "Epoch 182/200\n",
      "25/25 - 0s - loss: 0.4289 - accuracy: 0.8040 - val_loss: 0.4146 - val_accuracy: 0.8104 - 51ms/epoch - 2ms/step\n",
      "Epoch 183/200\n",
      "25/25 - 0s - loss: 0.4311 - accuracy: 0.8051 - val_loss: 0.4117 - val_accuracy: 0.8278 - 49ms/epoch - 2ms/step\n",
      "Epoch 184/200\n",
      "25/25 - 0s - loss: 0.4314 - accuracy: 0.8050 - val_loss: 0.4117 - val_accuracy: 0.8220 - 50ms/epoch - 2ms/step\n",
      "Epoch 185/200\n",
      "25/25 - 0s - loss: 0.4304 - accuracy: 0.8035 - val_loss: 0.4121 - val_accuracy: 0.8156 - 51ms/epoch - 2ms/step\n",
      "Epoch 186/200\n",
      "25/25 - 0s - loss: 0.4290 - accuracy: 0.8071 - val_loss: 0.4117 - val_accuracy: 0.8201 - 50ms/epoch - 2ms/step\n",
      "Epoch 187/200\n",
      "25/25 - 0s - loss: 0.4277 - accuracy: 0.8034 - val_loss: 0.4106 - val_accuracy: 0.8207 - 51ms/epoch - 2ms/step\n",
      "Epoch 188/200\n",
      "25/25 - 0s - loss: 0.4274 - accuracy: 0.8043 - val_loss: 0.4116 - val_accuracy: 0.8252 - 52ms/epoch - 2ms/step\n",
      "Epoch 189/200\n",
      "25/25 - 0s - loss: 0.4319 - accuracy: 0.8047 - val_loss: 0.4124 - val_accuracy: 0.8213 - 50ms/epoch - 2ms/step\n",
      "Epoch 190/200\n",
      "25/25 - 0s - loss: 0.4352 - accuracy: 0.8002 - val_loss: 0.4119 - val_accuracy: 0.8246 - 49ms/epoch - 2ms/step\n",
      "Epoch 191/200\n",
      "25/25 - 0s - loss: 0.4244 - accuracy: 0.8113 - val_loss: 0.4110 - val_accuracy: 0.8233 - 50ms/epoch - 2ms/step\n",
      "Epoch 192/200\n",
      "25/25 - 0s - loss: 0.4242 - accuracy: 0.8080 - val_loss: 0.4104 - val_accuracy: 0.8201 - 62ms/epoch - 2ms/step\n",
      "Epoch 193/200\n",
      "25/25 - 0s - loss: 0.4255 - accuracy: 0.8076 - val_loss: 0.4086 - val_accuracy: 0.8156 - 51ms/epoch - 2ms/step\n",
      "Epoch 194/200\n",
      "25/25 - 0s - loss: 0.4272 - accuracy: 0.8034 - val_loss: 0.4109 - val_accuracy: 0.8213 - 50ms/epoch - 2ms/step\n",
      "Epoch 195/200\n",
      "25/25 - 0s - loss: 0.4290 - accuracy: 0.8031 - val_loss: 0.4112 - val_accuracy: 0.8213 - 50ms/epoch - 2ms/step\n",
      "Epoch 196/200\n",
      "25/25 - 0s - loss: 0.4275 - accuracy: 0.8027 - val_loss: 0.4092 - val_accuracy: 0.8233 - 50ms/epoch - 2ms/step\n",
      "Epoch 197/200\n",
      "25/25 - 0s - loss: 0.4294 - accuracy: 0.8013 - val_loss: 0.4107 - val_accuracy: 0.8213 - 51ms/epoch - 2ms/step\n",
      "Epoch 198/200\n",
      "25/25 - 0s - loss: 0.4261 - accuracy: 0.8043 - val_loss: 0.4099 - val_accuracy: 0.8168 - 50ms/epoch - 2ms/step\n",
      "Epoch 199/200\n",
      "25/25 - 0s - loss: 0.4286 - accuracy: 0.8069 - val_loss: 0.4092 - val_accuracy: 0.8258 - 50ms/epoch - 2ms/step\n",
      "Epoch 200/200\n",
      "25/25 - 0s - loss: 0.4305 - accuracy: 0.8068 - val_loss: 0.4102 - val_accuracy: 0.8207 - 51ms/epoch - 2ms/step\n"
     ]
    }
   ],
   "source": [
    "hist = model.fit(\n",
    "    X_train, y_train,\n",
    "    validation_split=0.2,\n",
    "    shuffle=True,\n",
    "    batch_size=256,\n",
    "    epochs=200,\n",
    "    verbose=2,\n",
    ")"
   ]
  },
  {
   "cell_type": "code",
   "execution_count": 1268,
   "metadata": {},
   "outputs": [
    {
     "name": "stdout",
     "output_type": "stream",
     "text": [
      "61/61 [==============================] - 0s 706us/step\n"
     ]
    },
    {
     "data": {
      "text/plain": [
       "array([[0.5948327 , 0.37839067],\n",
       "       [0.4574342 , 0.55231094],\n",
       "       [0.6740967 , 0.29180598],\n",
       "       [0.2660484 , 0.70413816],\n",
       "       [0.39631468, 0.5854165 ]], dtype=float32)"
      ]
     },
     "execution_count": 1268,
     "metadata": {},
     "output_type": "execute_result"
    }
   ],
   "source": [
    "y_pred = model.predict(X_test)\n",
    "y_pred[:5]"
   ]
  },
  {
   "cell_type": "code",
   "execution_count": 1269,
   "metadata": {},
   "outputs": [
    {
     "data": {
      "text/plain": [
       "1825    0\n",
       "6826    1\n",
       "3973    0\n",
       "2583    0\n",
       "8721    1\n",
       "Name: stroke, dtype: int64"
      ]
     },
     "execution_count": 1269,
     "metadata": {},
     "output_type": "execute_result"
    }
   ],
   "source": [
    "y_test[:5]"
   ]
  },
  {
   "cell_type": "code",
   "execution_count": null,
   "metadata": {},
   "outputs": [],
   "source": []
  },
  {
   "cell_type": "markdown",
   "metadata": {},
   "source": [
    "<img src='https://media.tenor.com/94Pchw0qQVYAAAAM/ratchet-ratchet-cat.gif'>"
   ]
  }
 ],
 "metadata": {
  "kernelspec": {
   "display_name": "Python 3",
   "language": "python",
   "name": "python3"
  },
  "language_info": {
   "codemirror_mode": {
    "name": "ipython",
    "version": 3
   },
   "file_extension": ".py",
   "mimetype": "text/x-python",
   "name": "python",
   "nbconvert_exporter": "python",
   "pygments_lexer": "ipython3",
   "version": "3.11.4"
  }
 },
 "nbformat": 4,
 "nbformat_minor": 2
}
