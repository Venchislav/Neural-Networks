{
  "nbformat": 4,
  "nbformat_minor": 0,
  "metadata": {
    "colab": {
      "provenance": [],
      "authorship_tag": "ABX9TyMFvBy0Zryi0VXkp42o5E/E",
      "include_colab_link": true
    },
    "kernelspec": {
      "name": "python3",
      "display_name": "Python 3"
    },
    "language_info": {
      "name": "python"
    }
  },
  "cells": [
    {
      "cell_type": "markdown",
      "metadata": {
        "id": "view-in-github",
        "colab_type": "text"
      },
      "source": [
        "<a href=\"https://colab.research.google.com/github/Venchislav/Neural-Networks/blob/main/NewHorizon_Keras_1.ipynb\" target=\"_parent\"><img src=\"https://colab.research.google.com/assets/colab-badge.svg\" alt=\"Open In Colab\"/></a>"
      ]
    },
    {
      "cell_type": "code",
      "execution_count": 3,
      "metadata": {
        "id": "EHjUxmDhqkS6"
      },
      "outputs": [],
      "source": [
        "from tensorflow import keras  # here we just import keras to use its methods and classes\n",
        "from tensorflow.keras import layers  # and here we import layers (layer types) from tf.keras"
      ]
    },
    {
      "cell_type": "code",
      "source": [
        "# here we create a Sequential class object\n",
        "# with list of our layers (here we have only one layer)\n",
        "# and we also fill the args of layer.\n",
        "# Units is an output amount (we expect only one - y) and input_shape (I hope it's easy to guess the meaning of this arg)\n",
        "model = keras.Sequential([\n",
        "    layers.Dense(units=1, input_shape=[3])\n",
        "])\n",
        "# This network looks like:"
      ],
      "metadata": {
        "id": "bAJSJBG8q1W5"
      },
      "execution_count": 4,
      "outputs": []
    },
    {
      "cell_type": "markdown",
      "source": [
        "<img src='https://storage.googleapis.com/kaggle-media/learn/images/vyXSnlZ.png'>"
      ],
      "metadata": {
        "id": "Etfz_TyuxKsP"
      }
    },
    {
      "cell_type": "code",
      "source": [
        "# 3 inputs, 1 bias, 1 output"
      ],
      "metadata": {
        "id": "8hAmdD4WxOGR"
      },
      "execution_count": 2,
      "outputs": []
    },
    {
      "cell_type": "code",
      "source": [
        "# We can see our weights and bias as Tensors (Tensor is a special for of np.array made by TensorFlow)\n",
        "# Tensor is just more suitable for DeepLearning"
      ],
      "metadata": {
        "id": "Sp1f0fNiypbD"
      },
      "execution_count": 5,
      "outputs": []
    },
    {
      "cell_type": "code",
      "source": [
        "weights, bias = model.weights"
      ],
      "metadata": {
        "id": "_U_YYAMty2qZ"
      },
      "execution_count": 6,
      "outputs": []
    },
    {
      "cell_type": "code",
      "source": [
        "print(f'Weights: {weights} \\n Bias: {bias}')"
      ],
      "metadata": {
        "colab": {
          "base_uri": "https://localhost:8080/"
        },
        "id": "kBGt_0J-y88P",
        "outputId": "09f14650-e9de-4ab5-9aef-1919845bcd70"
      },
      "execution_count": 7,
      "outputs": [
        {
          "output_type": "stream",
          "name": "stdout",
          "text": [
            "Weights: <tf.Variable 'dense/kernel:0' shape=(3, 1) dtype=float32, numpy=\n",
            "array([[0.28889942],\n",
            "       [0.252064  ],\n",
            "       [0.756662  ]], dtype=float32)> \n",
            " Bias: <tf.Variable 'dense/bias:0' shape=(1,) dtype=float32, numpy=array([0.], dtype=float32)>\n"
          ]
        }
      ]
    },
    {
      "cell_type": "code",
      "source": [
        "# For now weights are randomly initialized as our model is not trained\n",
        "# But these weights will be changing to increase accuracy in evolution process"
      ],
      "metadata": {
        "id": "JLtXLcrXzFmy"
      },
      "execution_count": 8,
      "outputs": []
    },
    {
      "cell_type": "markdown",
      "source": [
        "**AND NOW LET ME PRACTICE A BIT**"
      ],
      "metadata": {
        "id": "9V5peq_5zdFv"
      }
    },
    {
      "cell_type": "code",
      "source": [
        "model = keras.Sequential([\n",
        "    layers.Dense(units=1, input_shape=[11])\n",
        "])"
      ],
      "metadata": {
        "id": "34PNnoEGzjyU"
      },
      "execution_count": 9,
      "outputs": []
    },
    {
      "cell_type": "code",
      "source": [
        "# I know it's a little strange that this was all practice, but still"
      ],
      "metadata": {
        "id": "HU2NpkEr5k1M"
      },
      "execution_count": 11,
      "outputs": []
    },
    {
      "cell_type": "markdown",
      "source": [
        "# **Thanks Kaggle💙** <br>\n",
        "<img src='https://media.tenor.com/vCk4yCdrGCAAAAAd/%D0%BA%D1%80%D0%B5%D0%BF%D0%BA%D0%BE%D0%B5-%D1%80%D1%83%D0%BA%D0%BE%D0%BF%D0%BE%D0%B6%D0%B0%D1%82%D0%B8%D0%B5-%D1%80%D1%83%D0%BA%D0%BE%D0%BF%D0%BE%D0%B6%D0%B0%D1%82%D0%B8%D0%B5.gif'>"
      ],
      "metadata": {
        "id": "Sj8wz-k06E7y"
      }
    }
  ]
}