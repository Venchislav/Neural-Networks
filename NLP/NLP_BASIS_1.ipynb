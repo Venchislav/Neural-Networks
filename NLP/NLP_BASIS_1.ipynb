{
  "nbformat": 4,
  "nbformat_minor": 0,
  "metadata": {
    "colab": {
      "provenance": []
    },
    "kernelspec": {
      "name": "python3",
      "display_name": "Python 3"
    },
    "language_info": {
      "name": "python"
    }
  },
  "cells": [
    {
      "cell_type": "code",
      "execution_count": 21,
      "metadata": {
        "id": "mpjjVTquRywS"
      },
      "outputs": [],
      "source": [
        "import tensorflow as tf\n",
        "from tensorflow import keras\n",
        "from tensorflow.keras.preprocessing.text import Tokenizer"
      ]
    },
    {
      "cell_type": "code",
      "source": [
        "sentences = [\n",
        "    'stop talking',\n",
        "    'Shut up!',\n",
        "    'Too much talking',\n",
        "    'Enough...'\n",
        "]"
      ],
      "metadata": {
        "id": "0oRgmRFjR9yL"
      },
      "execution_count": 22,
      "outputs": []
    },
    {
      "cell_type": "code",
      "source": [
        "# num_words is a maximum number of words (to make data smaller and more representative)\n",
        "tokenizer = Tokenizer(num_words=100, oov_token='<OOV>')"
      ],
      "metadata": {
        "id": "FA020XF7SIjI"
      },
      "execution_count": 23,
      "outputs": []
    },
    {
      "cell_type": "code",
      "source": [
        "tokenizer.fit_on_texts(sentences)"
      ],
      "metadata": {
        "id": "VBsrgrQsSLwo"
      },
      "execution_count": 24,
      "outputs": []
    },
    {
      "cell_type": "code",
      "source": [
        "word_index = tokenizer.word_index\n",
        "word_index"
      ],
      "metadata": {
        "colab": {
          "base_uri": "https://localhost:8080/"
        },
        "id": "nf8vMb7NSOuZ",
        "outputId": "813a6ee8-b50b-445c-eb86-9b954895bc20"
      },
      "execution_count": 25,
      "outputs": [
        {
          "output_type": "execute_result",
          "data": {
            "text/plain": [
              "{'<OOV>': 1,\n",
              " 'talking': 2,\n",
              " 'stop': 3,\n",
              " 'shut': 4,\n",
              " 'up': 5,\n",
              " 'too': 6,\n",
              " 'much': 7,\n",
              " 'enough': 8}"
            ]
          },
          "metadata": {},
          "execution_count": 25
        }
      ]
    },
    {
      "cell_type": "code",
      "source": [
        "sequences = tokenizer.texts_to_sequences(sentences)\n",
        "sequences"
      ],
      "metadata": {
        "colab": {
          "base_uri": "https://localhost:8080/"
        },
        "id": "UeGuqTdqSS44",
        "outputId": "d5576789-1b53-4294-971b-bee758c0c674"
      },
      "execution_count": 26,
      "outputs": [
        {
          "output_type": "execute_result",
          "data": {
            "text/plain": [
              "[[3, 2], [4, 5], [6, 7, 2], [8]]"
            ]
          },
          "metadata": {},
          "execution_count": 26
        }
      ]
    },
    {
      "cell_type": "code",
      "source": [
        "sequence_oov = tokenizer.texts_to_sequences(['Quandale Dingle here!'])"
      ],
      "metadata": {
        "id": "CViGa4JlTZ12"
      },
      "execution_count": 27,
      "outputs": []
    },
    {
      "cell_type": "code",
      "source": [
        "sequence_oov"
      ],
      "metadata": {
        "colab": {
          "base_uri": "https://localhost:8080/"
        },
        "id": "3eMfu4k8UeNH",
        "outputId": "5a416c72-7fff-45ca-84a7-7ac2c833eb85"
      },
      "execution_count": 28,
      "outputs": [
        {
          "output_type": "execute_result",
          "data": {
            "text/plain": [
              "[[1, 1, 1]]"
            ]
          },
          "metadata": {},
          "execution_count": 28
        }
      ]
    },
    {
      "cell_type": "markdown",
      "source": [
        "Words out of dataset are called OOV (out of vocabulary) and are encoded as 1"
      ],
      "metadata": {
        "id": "76GQSIXUUh6l"
      }
    },
    {
      "cell_type": "code",
      "source": [
        "from tensorflow.keras.preprocessing.sequence import pad_sequences"
      ],
      "metadata": {
        "id": "eng7BGaiUsA2"
      },
      "execution_count": 29,
      "outputs": []
    },
    {
      "cell_type": "code",
      "source": [
        "padded = pad_sequences(sequences)\n",
        "padded"
      ],
      "metadata": {
        "colab": {
          "base_uri": "https://localhost:8080/"
        },
        "id": "yak7T6_EU_-c",
        "outputId": "870d24a1-4e11-421f-8c33-93902f25b84d"
      },
      "execution_count": 30,
      "outputs": [
        {
          "output_type": "execute_result",
          "data": {
            "text/plain": [
              "array([[0, 3, 2],\n",
              "       [0, 4, 5],\n",
              "       [6, 7, 2],\n",
              "       [0, 0, 8]], dtype=int32)"
            ]
          },
          "metadata": {},
          "execution_count": 30
        }
      ]
    },
    {
      "cell_type": "code",
      "source": [
        "# NICE!"
      ],
      "metadata": {
        "id": "kMkfUp_tVFuU"
      },
      "execution_count": 32,
      "outputs": []
    },
    {
      "cell_type": "code",
      "source": [
        "padded_post = pad_sequences(sequences, padding='post')\n",
        "padded_post"
      ],
      "metadata": {
        "colab": {
          "base_uri": "https://localhost:8080/"
        },
        "id": "WT_e4ZkkVUug",
        "outputId": "9f63f85d-32f2-4146-aec5-9e63bc422639"
      },
      "execution_count": 33,
      "outputs": [
        {
          "output_type": "execute_result",
          "data": {
            "text/plain": [
              "array([[3, 2, 0],\n",
              "       [4, 5, 0],\n",
              "       [6, 7, 2],\n",
              "       [8, 0, 0]], dtype=int32)"
            ]
          },
          "metadata": {},
          "execution_count": 33
        }
      ]
    },
    {
      "cell_type": "code",
      "source": [
        "# here zeros of padding are after the encoded words"
      ],
      "metadata": {
        "id": "PpEHQyQ-VYT7"
      },
      "execution_count": 34,
      "outputs": []
    },
    {
      "cell_type": "code",
      "source": [
        "padded_short = pad_sequences(sequences, padding='post', maxlen=2)\n",
        "padded_short"
      ],
      "metadata": {
        "colab": {
          "base_uri": "https://localhost:8080/"
        },
        "id": "exUrpnWdVfca",
        "outputId": "58419105-dac8-4dd9-d28e-94330d400063"
      },
      "execution_count": 35,
      "outputs": [
        {
          "output_type": "execute_result",
          "data": {
            "text/plain": [
              "array([[3, 2],\n",
              "       [4, 5],\n",
              "       [7, 2],\n",
              "       [8, 0]], dtype=int32)"
            ]
          },
          "metadata": {},
          "execution_count": 35
        }
      ]
    },
    {
      "cell_type": "code",
      "source": [
        "# it cutted of the first parts of our 2nd sequnce with 3 words"
      ],
      "metadata": {
        "id": "eQiHkRFCVxvC"
      },
      "execution_count": 36,
      "outputs": []
    },
    {
      "cell_type": "code",
      "source": [
        "# we can also specify it to cut last parts"
      ],
      "metadata": {
        "id": "RLrjY3ZVV6kC"
      },
      "execution_count": 37,
      "outputs": []
    },
    {
      "cell_type": "code",
      "source": [
        "padded_short = pad_sequences(sequences, padding='post', maxlen=2, truncating='post')\n",
        "padded_short"
      ],
      "metadata": {
        "colab": {
          "base_uri": "https://localhost:8080/"
        },
        "id": "BR-NmpZvV-Bq",
        "outputId": "27f19316-dc58-448c-bf1a-d834599e070d"
      },
      "execution_count": 38,
      "outputs": [
        {
          "output_type": "execute_result",
          "data": {
            "text/plain": [
              "array([[3, 2],\n",
              "       [4, 5],\n",
              "       [6, 7],\n",
              "       [8, 0]], dtype=int32)"
            ]
          },
          "metadata": {},
          "execution_count": 38
        }
      ]
    },
    {
      "cell_type": "code",
      "source": [],
      "metadata": {
        "id": "f4uPXkGWWGw6"
      },
      "execution_count": null,
      "outputs": []
    }
  ]
}