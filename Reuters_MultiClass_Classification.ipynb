{
  "nbformat": 4,
  "nbformat_minor": 0,
  "metadata": {
    "colab": {
      "provenance": [],
      "authorship_tag": "ABX9TyMsEZMlg/oGmu6LHuoLL54r",
      "include_colab_link": true
    },
    "kernelspec": {
      "name": "python3",
      "display_name": "Python 3"
    },
    "language_info": {
      "name": "python"
    }
  },
  "cells": [
    {
      "cell_type": "markdown",
      "metadata": {
        "id": "view-in-github",
        "colab_type": "text"
      },
      "source": [
        "<a href=\"https://colab.research.google.com/github/Venchislav/Neural-Networks/blob/main/Reuters_MultiClass_Classification.ipynb\" target=\"_parent\"><img src=\"https://colab.research.google.com/assets/colab-badge.svg\" alt=\"Open In Colab\"/></a>"
      ]
    },
    {
      "cell_type": "code",
      "execution_count": 67,
      "metadata": {
        "id": "9LhKedy9WKJK"
      },
      "outputs": [],
      "source": [
        "from tensorflow.keras.datasets import reuters\n",
        "import numpy as np"
      ]
    },
    {
      "cell_type": "code",
      "source": [
        "(X_train, y_train), (X_test, y_test) = reuters.load_data(num_words=10_000)"
      ],
      "metadata": {
        "id": "PWpi07rXWVwz"
      },
      "execution_count": 68,
      "outputs": []
    },
    {
      "cell_type": "code",
      "source": [
        "X_train.shape"
      ],
      "metadata": {
        "colab": {
          "base_uri": "https://localhost:8080/"
        },
        "id": "SGbAXXCXWdyA",
        "outputId": "99526d03-fd6e-44c9-a878-11f06b5e2d79"
      },
      "execution_count": 69,
      "outputs": [
        {
          "output_type": "execute_result",
          "data": {
            "text/plain": [
              "(8982,)"
            ]
          },
          "metadata": {},
          "execution_count": 69
        }
      ]
    },
    {
      "cell_type": "code",
      "source": [
        "X_test.shape"
      ],
      "metadata": {
        "colab": {
          "base_uri": "https://localhost:8080/"
        },
        "id": "c8cGJOLDWfdT",
        "outputId": "1a155a19-1877-43d7-b987-b7012b8b2c38"
      },
      "execution_count": 70,
      "outputs": [
        {
          "output_type": "execute_result",
          "data": {
            "text/plain": [
              "(2246,)"
            ]
          },
          "metadata": {},
          "execution_count": 70
        }
      ]
    },
    {
      "cell_type": "code",
      "source": [
        "X_train[0][:5]"
      ],
      "metadata": {
        "colab": {
          "base_uri": "https://localhost:8080/"
        },
        "id": "7MQA2ndAWhpj",
        "outputId": "775c7f6c-d694-4478-bb88-e43ba4a8649d"
      },
      "execution_count": 71,
      "outputs": [
        {
          "output_type": "execute_result",
          "data": {
            "text/plain": [
              "[1, 2, 2, 8, 43]"
            ]
          },
          "metadata": {},
          "execution_count": 71
        }
      ]
    },
    {
      "cell_type": "code",
      "source": [
        "# The dataset is similar to IMDB dataset"
      ],
      "metadata": {
        "id": "1wFlWvfgWlAT"
      },
      "execution_count": 72,
      "outputs": []
    },
    {
      "cell_type": "code",
      "source": [
        "word_index = reuters.get_word_index()\n",
        "word_index['police']"
      ],
      "metadata": {
        "colab": {
          "base_uri": "https://localhost:8080/"
        },
        "id": "rgjo4AEqWufY",
        "outputId": "c1627a40-c030-4af2-da47-aef532836a48"
      },
      "execution_count": 73,
      "outputs": [
        {
          "output_type": "execute_result",
          "data": {
            "text/plain": [
              "3355"
            ]
          },
          "metadata": {},
          "execution_count": 73
        }
      ]
    },
    {
      "cell_type": "code",
      "source": [
        "reversed_word_index = dict(\n",
        "    [(val, key) for (key, val) in word_index.items()]\n",
        ")"
      ],
      "metadata": {
        "id": "8_MkfJb3Yd-2"
      },
      "execution_count": 74,
      "outputs": []
    },
    {
      "cell_type": "code",
      "source": [
        "reversed_word_index[1]"
      ],
      "metadata": {
        "colab": {
          "base_uri": "https://localhost:8080/",
          "height": 35
        },
        "id": "cl_3XG7ZY1nA",
        "outputId": "4f2ba2f0-6aa2-471d-9fe4-b614056fe88c"
      },
      "execution_count": 75,
      "outputs": [
        {
          "output_type": "execute_result",
          "data": {
            "text/plain": [
              "'the'"
            ],
            "application/vnd.google.colaboratory.intrinsic+json": {
              "type": "string"
            }
          },
          "metadata": {},
          "execution_count": 75
        }
      ]
    },
    {
      "cell_type": "markdown",
      "source": [
        "# **T H E**"
      ],
      "metadata": {
        "id": "CpTCEU0YZCMC"
      }
    },
    {
      "cell_type": "code",
      "source": [
        "decoded_news = ' '.join(\n",
        "    [reversed_word_index.get(i - 3, '?') for i in X_train[1]]\n",
        ")\n",
        "\n",
        "decoded_news"
      ],
      "metadata": {
        "colab": {
          "base_uri": "https://localhost:8080/",
          "height": 53
        },
        "id": "cYHaGn-PY_Ce",
        "outputId": "7b43a326-5fd1-4744-dae1-3d4e4704e1df"
      },
      "execution_count": 76,
      "outputs": [
        {
          "output_type": "execute_result",
          "data": {
            "text/plain": [
              "'? generale de banque sa lt ? br and lt heller overseas corp of chicago have each taken 50 pct stakes in ? company sa ? factors generale de banque said in a statement it gave no financial details of the transaction sa ? ? turnover in 1986 was 17 5 billion belgian francs reuter 3'"
            ],
            "application/vnd.google.colaboratory.intrinsic+json": {
              "type": "string"
            }
          },
          "metadata": {},
          "execution_count": 76
        }
      ]
    },
    {
      "cell_type": "code",
      "source": [
        "y_train[1]"
      ],
      "metadata": {
        "colab": {
          "base_uri": "https://localhost:8080/"
        },
        "id": "iTHbX2kOZh8r",
        "outputId": "4fc2bdc7-2851-4e35-fbea-7cb3eaf626dd"
      },
      "execution_count": 77,
      "outputs": [
        {
          "output_type": "execute_result",
          "data": {
            "text/plain": [
              "4"
            ]
          },
          "metadata": {},
          "execution_count": 77
        }
      ]
    },
    {
      "cell_type": "code",
      "source": [
        "def vectorize_sequences(sequences, dims=10_000):\n",
        "  res = np.zeros((len(sequences), dims))\n",
        "\n",
        "  for i, sequence in enumerate(sequences):\n",
        "    for j in sequence:\n",
        "      res[i, j] = 1\n",
        "  return res"
      ],
      "metadata": {
        "id": "qOjj_i6NaeKa"
      },
      "execution_count": 78,
      "outputs": []
    },
    {
      "cell_type": "code",
      "source": [
        "X_train = vectorize_sequences(X_train)\n",
        "X_test = vectorize_sequences(X_test)"
      ],
      "metadata": {
        "id": "Use-_ZuvaHXL"
      },
      "execution_count": 79,
      "outputs": []
    },
    {
      "cell_type": "code",
      "source": [
        "def one_hot_encoding(labels, dims=46):\n",
        "  res = np.zeros((len(labels), dims))\n",
        "\n",
        "  for i, lbl in enumerate(labels):\n",
        "    res[i, lbl] = 1.\n",
        "  return res"
      ],
      "metadata": {
        "id": "EA39FCM1a5sR"
      },
      "execution_count": 80,
      "outputs": []
    },
    {
      "cell_type": "code",
      "source": [
        "y_train = one_hot_encoding(y_train)\n",
        "y_test = one_hot_encoding(y_test)"
      ],
      "metadata": {
        "id": "iPYsmoUKbgLr"
      },
      "execution_count": 81,
      "outputs": []
    },
    {
      "cell_type": "code",
      "source": [
        "# there's a built in solution in keras\n",
        "# but now I'm just practicing and stretching my fingers on keyboard"
      ],
      "metadata": {
        "id": "hbLnpGc4bkug"
      },
      "execution_count": 82,
      "outputs": []
    },
    {
      "cell_type": "code",
      "source": [
        "\"\"\"\n",
        "from tensorflow.keras.utils import to_categorical\n",
        "\n",
        "y_train = to_categorical(y_train)\n",
        "y_test = to_categorical(y_test)\n",
        "\"\"\""
      ],
      "metadata": {
        "colab": {
          "base_uri": "https://localhost:8080/",
          "height": 35
        },
        "id": "Fd5fIJzLb7jF",
        "outputId": "6e15dd65-b912-441d-ffae-dfa477ddafd0"
      },
      "execution_count": 83,
      "outputs": [
        {
          "output_type": "execute_result",
          "data": {
            "text/plain": [
              "'\\nfrom tensorflow.keras.utils import to_categorical\\n\\ny_train = to_categorical(y_train)\\ny_test = to_categorical(y_test)\\n'"
            ],
            "application/vnd.google.colaboratory.intrinsic+json": {
              "type": "string"
            }
          },
          "metadata": {},
          "execution_count": 83
        }
      ]
    },
    {
      "cell_type": "code",
      "source": [
        "from tensorflow.keras.models import Sequential\n",
        "from tensorflow.keras import layers"
      ],
      "metadata": {
        "id": "y8T7mwaDcZnw"
      },
      "execution_count": 84,
      "outputs": []
    },
    {
      "cell_type": "code",
      "source": [
        "model = Sequential([\n",
        "    layers.Dense(64, activation='relu'),\n",
        "    layers.Dense(64, activation='relu'),\n",
        "    layers.Dense(46, activation='softmax'),\n",
        "])"
      ],
      "metadata": {
        "id": "-MUrtgDgcl49"
      },
      "execution_count": 85,
      "outputs": []
    },
    {
      "cell_type": "code",
      "source": [
        "model.compile(\n",
        "    optimizer='rmsprop',\n",
        "    loss='categorical_crossentropy',\n",
        "    metrics='accuracy'\n",
        ")"
      ],
      "metadata": {
        "id": "XnTy-T4Wcu6q"
      },
      "execution_count": 86,
      "outputs": []
    },
    {
      "cell_type": "code",
      "source": [
        "history = model.fit(\n",
        "    X_train, y_train,\n",
        "    validation_split=0.2,\n",
        "    epochs=8,\n",
        "    batch_size=512\n",
        ")"
      ],
      "metadata": {
        "colab": {
          "base_uri": "https://localhost:8080/"
        },
        "id": "Pz73EEZbdVNF",
        "outputId": "e7cd3c8f-1bf2-4724-ff17-3db6fedaf360"
      },
      "execution_count": 87,
      "outputs": [
        {
          "output_type": "stream",
          "name": "stdout",
          "text": [
            "Epoch 1/8\n",
            "15/15 [==============================] - 2s 87ms/step - loss: 2.7940 - accuracy: 0.4761 - val_loss: 1.9538 - val_accuracy: 0.5665\n",
            "Epoch 2/8\n",
            "15/15 [==============================] - 1s 56ms/step - loss: 1.6370 - accuracy: 0.6547 - val_loss: 1.5139 - val_accuracy: 0.6349\n",
            "Epoch 3/8\n",
            "15/15 [==============================] - 1s 62ms/step - loss: 1.2667 - accuracy: 0.7203 - val_loss: 1.3139 - val_accuracy: 0.6962\n",
            "Epoch 4/8\n",
            "15/15 [==============================] - 1s 57ms/step - loss: 1.0563 - accuracy: 0.7698 - val_loss: 1.1772 - val_accuracy: 0.7318\n",
            "Epoch 5/8\n",
            "15/15 [==============================] - 1s 52ms/step - loss: 0.8973 - accuracy: 0.8084 - val_loss: 1.1639 - val_accuracy: 0.7401\n",
            "Epoch 6/8\n",
            "15/15 [==============================] - 1s 52ms/step - loss: 0.7672 - accuracy: 0.8374 - val_loss: 1.0773 - val_accuracy: 0.7540\n",
            "Epoch 7/8\n",
            "15/15 [==============================] - 1s 52ms/step - loss: 0.6512 - accuracy: 0.8637 - val_loss: 1.0522 - val_accuracy: 0.7713\n",
            "Epoch 8/8\n",
            "15/15 [==============================] - 1s 51ms/step - loss: 0.5557 - accuracy: 0.8838 - val_loss: 0.9901 - val_accuracy: 0.7885\n"
          ]
        }
      ]
    },
    {
      "cell_type": "code",
      "source": [
        "# categorical crossentopy is for one_hot_encoded labels, while sparsecategorical crossentropy is for numeric labels"
      ],
      "metadata": {
        "id": "S8RAaOppdhoL"
      },
      "execution_count": 88,
      "outputs": []
    },
    {
      "cell_type": "code",
      "source": [],
      "metadata": {
        "id": "f4yYV2D0e3_4"
      },
      "execution_count": null,
      "outputs": []
    }
  ]
}